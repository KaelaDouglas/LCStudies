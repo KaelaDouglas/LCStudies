{
 "cells": [
  {
   "cell_type": "markdown",
   "metadata": {},
   "source": [
    "# TopoCluster Regression"
   ]
  },
  {
   "cell_type": "markdown",
   "metadata": {},
   "source": [
    "This is a simple, stripped-down notebook for training networks. I've removed most of the models that are present in `TopoClusterRegressionRewrite.ipynb`, as well as most of the plots (I find that the multitude of plots makes things a bit cumbersome and hard to navigate -- I'll see if I can change the way they are displayed later on).\n",
    "\n",
    "Here, we just train the so-called `all` model, which uses images from all $6$ calo layers. We train two versions, for charged and neutral pions."
   ]
  },
  {
   "cell_type": "markdown",
   "metadata": {},
   "source": [
    "#### 1) Initial setup"
   ]
  },
  {
   "cell_type": "code",
   "execution_count": 1,
   "metadata": {},
   "outputs": [],
   "source": [
    "path_prefix = '/workspace/LCStudies/'"
   ]
  },
  {
   "cell_type": "code",
   "execution_count": 2,
   "metadata": {},
   "outputs": [
    {
     "name": "stdout",
     "output_type": "stream",
     "text": [
      "env: PATH=/opt/conda/envs/ml4p/bin:/opt/conda/condabin:/usr/local/nvidia/bin:/usr/local/cuda/bin:/usr/local/sbin:/usr/local/bin:/usr/sbin:/usr/bin:/sbin:/bin:/usr/local/texlive/2020/bin/x86_64-linux\n"
     ]
    }
   ],
   "source": [
    "# Check if latex is set up already.\n",
    "# We use some Jupyter magic -- alternatively one could use python's subprocess here.\n",
    "has_latex = !command -v latex\n",
    "has_latex = (not has_latex == [])\n",
    "\n",
    "# If latex was not a recognized command, our setup script should have installed\n",
    "# at a fixed location, but it is not on the $PATH. Now let's use some Jupyter magic.\n",
    "# See https://ipython.readthedocs.io/en/stable/interactive/shell.html for info.\n",
    "if(not has_latex):\n",
    "    latex_prefix = '/usr/local/texlive/2020/bin/x86_64-linux'\n",
    "    jupyter_env = %env\n",
    "    path = jupyter_env['PATH']\n",
    "    path = path + ':' + latex_prefix\n",
    "    %env PATH = $path\n",
    "    jupyter_env = %env\n",
    "    path = jupyter_env['PATH']"
   ]
  },
  {
   "cell_type": "code",
   "execution_count": 3,
   "metadata": {},
   "outputs": [],
   "source": [
    "%load_ext autoreload\n",
    "%autoreload 2"
   ]
  },
  {
   "cell_type": "code",
   "execution_count": 4,
   "metadata": {},
   "outputs": [],
   "source": [
    "# ML fitting/loading/saving settings\n",
    "loadModel = False # if false, then run trainings directly. otherwise load the file.\n",
    "saveModel = True # if true, save the current model to disk.\n",
    "from tensorflow.keras.models import load_model"
   ]
  },
  {
   "cell_type": "code",
   "execution_count": 5,
   "metadata": {},
   "outputs": [],
   "source": [
    "# Import some basic libraries.\n",
    "import sys, os\n",
    "import numpy as np\n",
    "import pandas as pd # we will use some uproot/pandas interplay here.\n",
    "import uproot as ur\n",
    "\n",
    "# Import our resolution utilities\n",
    "sys.path.append(path_prefix)\n",
    "from  util import resolution_util as ru\n",
    "from  util import plot_util as pu\n",
    "from  util import ml_util as mu\n",
    "from  util import qol_util as qu # for progress bar\n",
    "\n",
    "plotpath = path_prefix + 'regression/Plots/'\n",
    "modelpath_c = path_prefix +  'classifier/Models/'\n",
    "modelpath = path_prefix + 'regression/Models/'\n",
    "paths = [plotpath, modelpath_c, modelpath]\n",
    "for path in paths:\n",
    "    try: os.makedirs(plotpath)\n",
    "    except: pass\n",
    "\n",
    "# metadata\n",
    "layers = [\"EMB1\", \"EMB2\", \"EMB3\", \"TileBar0\", \"TileBar1\", \"TileBar2\"]\n",
    "cell_size_phi = [0.098, 0.0245, 0.0245, 0.1, 0.1, 0.1]\n",
    "cell_size_eta = [0.0031, 0.025, 0.05, 0.1, 0.1, 0.2]\n",
    "len_phi = [4, 16, 16, 4, 4, 4]\n",
    "len_eta = [128, 16, 8, 4, 4, 2]"
   ]
  },
  {
   "cell_type": "markdown",
   "metadata": {},
   "source": [
    "#### 2) Get the training data."
   ]
  },
  {
   "cell_type": "code",
   "execution_count": 6,
   "metadata": {},
   "outputs": [
    {
     "name": "stdout",
     "output_type": "stream",
     "text": [
      "Number of pi+ events: 435967\n",
      "Number of pi- events: 434627\n",
      "Number of pi0 events: 263891\n"
     ]
    }
   ],
   "source": [
    "data_dir = path_prefix + 'data/pion/'\n",
    "data_filenames = {'pp':data_dir+'piplus.root','pm':data_dir+'piminus.root','p0':data_dir+'pi0.root'}\n",
    "data_files = {key:ur.open(val) for key,val in data_filenames.items()}\n",
    "tree_name = 'ClusterTree'\n",
    "data_trees = {key:val[tree_name] for key, val in data_files.items()}\n",
    "branches = ['truthE', 'clusterE', 'clusterEta', 'cluster_ENG_CALIB_TOT']\n",
    "#branches = ['clusterIndex', 'truthE', 'nCluster', 'clusterE', 'clusterECalib', 'clusterPt', 'clusterEta', 'clusterPhi', 'cluster_nCells', 'cluster_sumCellE', 'cluster_ENG_CALIB_TOT', 'cluster_ENG_CALIB_OUT_T', 'cluster_ENG_CALIB_DEAD_TOT', 'cluster_EM_PROBABILITY', 'cluster_HAD_WEIGHT', 'cluster_CENTER_MAG', 'cluster_FIRST_ENG_DENS', 'cluster_cellE_norm']\n",
    "data_frames = {key:val.pandas.df(branches,flatten=False) for key,val in data_trees.items()}\n",
    "\n",
    "print(\"Number of pi+ events: {}\".format(len(data_frames['pp'])))\n",
    "print(\"Number of pi- events: {}\".format(len(data_frames['pm'])))\n",
    "print(\"Number of pi0 events: {}\".format(len(data_frames['p0'])))"
   ]
  },
  {
   "cell_type": "code",
   "execution_count": 7,
   "metadata": {},
   "outputs": [],
   "source": [
    "from sklearn.preprocessing import StandardScaler\n",
    "\n",
    "# some regression vars (TODO: Are these actually being used?)\n",
    "for key,frame in data_frames.items():\n",
    "    frame['logE'] = np.log(frame['clusterE'])\n",
    "    frame['logECalib'] = np.log(frame['cluster_ENG_CALIB_TOT'])\n",
    "\n",
    "# create scaler\n",
    "scaler_e = StandardScaler()\n",
    "scaler_cal = StandardScaler()\n",
    "#scaler_calAll = StandardScaler()\n",
    "scaler_eta = StandardScaler()\n",
    "\n",
    "# fit and transform in one step\n",
    "for key, frame in data_frames.items():\n",
    "    frame['s_logE'] = scaler_e.fit_transform(frame['logE'].to_numpy().reshape(-1,1))\n",
    "    frame['s_logECalib'] = scaler_cal.fit_transform(frame['logECalib'].to_numpy().reshape(-1,1))\n",
    "    frame['s_eta'] = scaler_eta.fit_transform(frame['clusterEta'].to_numpy().reshape(-1,1))"
   ]
  },
  {
   "cell_type": "code",
   "execution_count": 8,
   "metadata": {},
   "outputs": [
    {
     "name": "stdout",
     "output_type": "stream",
     "text": [
      "Loading calo images: |\u001b[32m█\u001b[0m\u001b[32m█\u001b[0m\u001b[32m█\u001b[0m\u001b[32m█\u001b[0m\u001b[32m█\u001b[0m\u001b[32m█\u001b[0m\u001b[32m█\u001b[0m\u001b[32m█\u001b[0m\u001b[32m█\u001b[0m\u001b[32m█\u001b[0m\u001b[32m█\u001b[0m\u001b[32m█\u001b[0m\u001b[32m█\u001b[0m\u001b[32m█\u001b[0m\u001b[32m█\u001b[0m\u001b[32m█\u001b[0m\u001b[32m█\u001b[0m\u001b[32m█\u001b[0m\u001b[32m█\u001b[0m\u001b[32m█\u001b[0m\u001b[32m█\u001b[0m\u001b[32m█\u001b[0m\u001b[32m█\u001b[0m\u001b[32m█\u001b[0m\u001b[32m█\u001b[0m\u001b[32m█\u001b[0m\u001b[32m█\u001b[0m\u001b[32m█\u001b[0m\u001b[32m█\u001b[0m\u001b[32m█\u001b[0m\u001b[32m█\u001b[0m\u001b[32m█\u001b[0m\u001b[32m█\u001b[0m\u001b[32m█\u001b[0m\u001b[32m█\u001b[0m\u001b[32m█\u001b[0m\u001b[32m█\u001b[0m\u001b[32m█\u001b[0m\u001b[32m█\u001b[0m\u001b[32m█\u001b[0m\u001b[32m█\u001b[0m\u001b[32m█\u001b[0m\u001b[32m█\u001b[0m\u001b[32m█\u001b[0m\u001b[32m█\u001b[0m\u001b[32m█\u001b[0m\u001b[32m█\u001b[0m\u001b[32m█\u001b[0m\u001b[32m█\u001b[0m\u001b[32m█\u001b[0m| 100.0% Complete\n"
     ]
    }
   ],
   "source": [
    "# Prepare the calo images for input to training.\n",
    "l = len(layers) * len(data_trees.keys())\n",
    "i = 0\n",
    "qu.printProgressBarColor(i, l, prefix='Loading calo images:', suffix='Complete', length=50)\n",
    "\n",
    "calo_images = {}\n",
    "for key in data_trees.keys():\n",
    "    calo_images[key] = {}\n",
    "    \n",
    "    for layer in layers:\n",
    "        calo_images[key][layer] = mu.setupCells(data_trees[key],layer)\n",
    "        i += 1\n",
    "        qu.printProgressBarColor(i, l, prefix='Loading calo images:', suffix='Complete', length=50)"
   ]
  },
  {
   "cell_type": "code",
   "execution_count": 9,
   "metadata": {},
   "outputs": [],
   "source": [
    "from tensorflow.keras import regularizers\n",
    "from tensorflow.keras import Sequential\n",
    "from tensorflow.keras import Model\n",
    "from tensorflow.keras.optimizers import SGD, Adam\n",
    "from tensorflow.keras.layers import LeakyReLU\n",
    "from tensorflow.keras.layers import Input, Dense, Dropout, BatchNormalization\n",
    "from keras.wrappers.scikit_learn import KerasRegressor"
   ]
  },
  {
   "cell_type": "code",
   "execution_count": 10,
   "metadata": {},
   "outputs": [
    {
     "name": "stdout",
     "output_type": "stream",
     "text": [
      "WARNING:tensorflow:Some requested devices in `tf.distribute.Strategy` are not visible to TensorFlow: /job:localhost/replica:0/task:0/device:GPU:1,/job:localhost/replica:0/task:0/device:GPU:0\n",
      "INFO:tensorflow:Using MirroredStrategy with devices ('/job:localhost/replica:0/task:0/device:GPU:0', '/job:localhost/replica:0/task:0/device:GPU:1')\n",
      "Number of devices: 2\n"
     ]
    }
   ],
   "source": [
    "import os\n",
    "os.environ['TF_CPP_MIN_LOG_LEVEL'] = '2' # disable some of the tensorflow info printouts, only display errors\n",
    "\n",
    "import tensorflow as tf\n",
    "\n",
    "strategy = tf.distribute.MirroredStrategy(devices=[\"/gpu:0\", \"/gpu:1\"])\n",
    "ngpu = strategy.num_replicas_in_sync\n",
    "print ('Number of devices: {}'.format(ngpu))"
   ]
  },
  {
   "cell_type": "markdown",
   "metadata": {},
   "source": [
    "To finish training data preparation, we concatenate the calorimeter images, and then combine them with columns `s_logE` and `s_Eta`.\n",
    "\n",
    "Note that this process is a little memory-inefficient -- we're making copies of things in memory -- and I'm finding that my JupyterLab with 12Gi is running out of memory and the kernel restarts (whether or not all the memory is being used by JupyterLab is another issue...)\n",
    "\n",
    "We can try to remedy this by deleting some stuff as soon as it's no longer needed."
   ]
  },
  {
   "cell_type": "code",
   "execution_count": 11,
   "metadata": {},
   "outputs": [
    {
     "name": "stdout",
     "output_type": "stream",
     "text": [
      "Preparing combined input: |\u001b[32m█\u001b[0m\u001b[32m█\u001b[0m\u001b[32m█\u001b[0m\u001b[32m█\u001b[0m\u001b[32m█\u001b[0m\u001b[32m█\u001b[0m\u001b[32m█\u001b[0m\u001b[32m█\u001b[0m\u001b[32m█\u001b[0m\u001b[32m█\u001b[0m\u001b[32m█\u001b[0m\u001b[32m█\u001b[0m\u001b[32m█\u001b[0m\u001b[32m█\u001b[0m\u001b[32m█\u001b[0m\u001b[32m█\u001b[0m\u001b[32m█\u001b[0m\u001b[32m█\u001b[0m\u001b[32m█\u001b[0m\u001b[32m█\u001b[0m\u001b[32m█\u001b[0m\u001b[32m█\u001b[0m\u001b[32m█\u001b[0m\u001b[32m█\u001b[0m\u001b[32m█\u001b[0m\u001b[32m█\u001b[0m\u001b[32m█\u001b[0m\u001b[32m█\u001b[0m\u001b[32m█\u001b[0m\u001b[32m█\u001b[0m\u001b[32m█\u001b[0m\u001b[32m█\u001b[0m\u001b[32m█\u001b[0m\u001b[32m█\u001b[0m\u001b[32m█\u001b[0m\u001b[32m█\u001b[0m\u001b[32m█\u001b[0m\u001b[32m█\u001b[0m\u001b[32m█\u001b[0m\u001b[32m█\u001b[0m\u001b[32m█\u001b[0m\u001b[32m█\u001b[0m\u001b[32m█\u001b[0m\u001b[32m█\u001b[0m\u001b[32m█\u001b[0m\u001b[32m█\u001b[0m\u001b[32m█\u001b[0m\u001b[32m█\u001b[0m\u001b[32m█\u001b[0m\u001b[32m█\u001b[0m| 100.0% Complete\n"
     ]
    }
   ],
   "source": [
    "# Concatenate images, and prepare our combined input.\n",
    "All_input = {}\n",
    "\n",
    "keys = list(calo_images.keys())\n",
    "l = 3 * len(keys)\n",
    "i = 0\n",
    "pfx = 'Preparing combined input:'\n",
    "sfx = 'Complete'\n",
    "bl = 50\n",
    "\n",
    "qu.printProgressBarColor(i, l, prefix=pfx, suffix=sfx, length=bl)\n",
    "\n",
    "for key in keys:\n",
    "    combined_images = np.concatenate(tuple([calo_images[key][layer] for layer in layers]), axis=1)\n",
    "    del calo_images[key] # delete this element of calo_images, it has been copied\n",
    "    i = i + 1\n",
    "    qu.printProgressBarColor(i, l, prefix=pfx, suffix=sfx, length=bl)\n",
    "\n",
    "    s_combined,scaler_combined = mu.standardCells(combined_images, layers)\n",
    "    i = i + 1\n",
    "    qu.printProgressBarColor(i, l, prefix=pfx, suffix=sfx, length=bl)\n",
    "\n",
    "    All_input[key] = np.column_stack((data_frames[key]['s_logE'], data_frames[key]['s_eta'],s_combined))\n",
    "    i = i + 1\n",
    "    qu.printProgressBarColor(i, l, prefix=pfx, suffix=sfx, length=bl)"
   ]
  },
  {
   "cell_type": "markdown",
   "metadata": {},
   "source": [
    "Now we should merge the $\\pi^+$ and $\\pi^-$ info, so that we have a dataset for charged pions and a dataset for neutral pions.\n",
    "\n",
    "We will have the combined charged-pion data saved under the `pp` key, and the neutral pions under the `p0` key. The `pm` key will be deleted.\n",
    "\n",
    "**Note** For debugging, I've currently commented out the combining of $\\pi^+$ and $\\pi^-$, and we're just throwing out the $\\pi^-$ data completely. So for now we're just training one regression on $\\pi^+$, and another on $\\pi^0$ (and testing on the respective data -- note that we train on *all* events so our test can be affected by over-training but we're not worrying about that for now)."
   ]
  },
  {
   "cell_type": "code",
   "execution_count": 12,
   "metadata": {},
   "outputs": [
    {
     "name": "stdout",
     "output_type": "stream",
     "text": [
      "Number of charged pion events: 435967\n",
      "Number of neutral pion events: 263891\n"
     ]
    }
   ],
   "source": [
    "# combining dataframes\n",
    "#data_frames['pp'] = data_frames['pp'].append(data_frames['pm'])\n",
    "del data_frames['pm']\n",
    "\n",
    "# combining our \"All_input\"\n",
    "#All_input['pp'] = np.row_stack((All_input['pp'],All_input['pm']))\n",
    "del All_input['pm']\n",
    "key_conversion = {'pp':'charged pion','p0':'neutral pion'}\n",
    "\n",
    "# Print out the number of entries in each category\n",
    "for key in All_input.keys():\n",
    "    print('Number of {type} events: {val}'.format(type=key_conversion[key], val = All_input[key].shape[0]))"
   ]
  },
  {
   "cell_type": "markdown",
   "metadata": {},
   "source": [
    "Note that we have many more charged pions than neutral pions, so this *may* result in our charged pion regression being better-trained (unless the stats for both are sufficiently high)."
   ]
  },
  {
   "cell_type": "markdown",
   "metadata": {},
   "source": [
    "## Training \"all\" model"
   ]
  },
  {
   "cell_type": "code",
   "execution_count": 13,
   "metadata": {},
   "outputs": [],
   "source": [
    "def baseline_nn_All_model():\n",
    "    number_pixels = 512 + 256 + 128 + 16 + 16 + 8\n",
    "    # create model\n",
    "    with strategy.scope():    \n",
    "        model = Sequential()\n",
    "        used_pixels = number_pixels + 2\n",
    "#     if number_pixels < 128:\n",
    "#         used_pixels = 128\n",
    "        model.add(Dense(used_pixels, input_dim=used_pixels, kernel_initializer='normal', activation='relu'))\n",
    "        # model.add(Dropout(0.2))\n",
    "        model.add(Dense(used_pixels, activation='relu'))\n",
    "        # model.add(Dropout(0.2))\n",
    "        model.add(Dense(int(used_pixels/2), activation='relu'))\n",
    "        # model.add(Dropout(0.2))\n",
    "        model.add(Dense(units=1, kernel_initializer='normal', activation='linear'))\n",
    "        opt = Adam(lr=1e-4, decay=1e-6)\n",
    "        model.compile(optimizer=opt, loss='mse',metrics=['mae','mse'])\n",
    "    return model"
   ]
  },
  {
   "cell_type": "code",
   "execution_count": 14,
   "metadata": {},
   "outputs": [
    {
     "name": "stdout",
     "output_type": "stream",
     "text": [
      "Model: \"sequential\"\n",
      "_________________________________________________________________\n",
      "Layer (type)                 Output Shape              Param #   \n",
      "=================================================================\n",
      "dense (Dense)                (None, 938)               880782    \n",
      "_________________________________________________________________\n",
      "dense_1 (Dense)              (None, 938)               880782    \n",
      "_________________________________________________________________\n",
      "dense_2 (Dense)              (None, 469)               440391    \n",
      "_________________________________________________________________\n",
      "dense_3 (Dense)              (None, 1)                 470       \n",
      "=================================================================\n",
      "Total params: 2,202,425\n",
      "Trainable params: 2,202,425\n",
      "Non-trainable params: 0\n",
      "_________________________________________________________________\n",
      "None\n"
     ]
    }
   ],
   "source": [
    "# Print some summary info for this model\n",
    "print(baseline_nn_All_model().summary())"
   ]
  },
  {
   "cell_type": "code",
   "execution_count": 15,
   "metadata": {},
   "outputs": [],
   "source": [
    "# Define our regressors (actual networks) that we will fit (train).\n",
    "batch_size = 200 * ngpu\n",
    "epochs = 15 # 100\n",
    "verbose = 1\n",
    "regressors = {key: KerasRegressor(build_fn=baseline_nn_All_model, batch_size=batch_size, epochs=epochs, verbose=verbose) for key in All_input.keys()}"
   ]
  },
  {
   "cell_type": "code",
   "execution_count": 16,
   "metadata": {},
   "outputs": [
    {
     "name": "stdout",
     "output_type": "stream",
     "text": [
      "Epoch 1/15\n",
      "INFO:tensorflow:Reduce to /job:localhost/replica:0/task:0/device:GPU:0 then broadcast to ('/job:localhost/replica:0/task:0/device:GPU:0', '/job:localhost/replica:0/task:0/device:GPU:0').\n",
      "INFO:tensorflow:Reduce to /job:localhost/replica:0/task:0/device:GPU:0 then broadcast to ('/job:localhost/replica:0/task:0/device:GPU:0', '/job:localhost/replica:0/task:0/device:GPU:0').\n",
      "INFO:tensorflow:Reduce to /job:localhost/replica:0/task:0/device:GPU:0 then broadcast to ('/job:localhost/replica:0/task:0/device:GPU:0', '/job:localhost/replica:0/task:0/device:GPU:0').\n",
      "INFO:tensorflow:Reduce to /job:localhost/replica:0/task:0/device:GPU:0 then broadcast to ('/job:localhost/replica:0/task:0/device:GPU:0', '/job:localhost/replica:0/task:0/device:GPU:0').\n",
      "INFO:tensorflow:Reduce to /job:localhost/replica:0/task:0/device:GPU:0 then broadcast to ('/job:localhost/replica:0/task:0/device:GPU:0', '/job:localhost/replica:0/task:0/device:GPU:0').\n",
      "INFO:tensorflow:Reduce to /job:localhost/replica:0/task:0/device:GPU:0 then broadcast to ('/job:localhost/replica:0/task:0/device:GPU:0', '/job:localhost/replica:0/task:0/device:GPU:0').\n",
      "INFO:tensorflow:Reduce to /job:localhost/replica:0/task:0/device:GPU:0 then broadcast to ('/job:localhost/replica:0/task:0/device:GPU:0', '/job:localhost/replica:0/task:0/device:GPU:0').\n",
      "INFO:tensorflow:Reduce to /job:localhost/replica:0/task:0/device:GPU:0 then broadcast to ('/job:localhost/replica:0/task:0/device:GPU:0', '/job:localhost/replica:0/task:0/device:GPU:0').\n",
      "INFO:tensorflow:Reduce to /job:localhost/replica:0/task:0/device:CPU:0 then broadcast to ('/job:localhost/replica:0/task:0/device:CPU:0',).\n",
      "INFO:tensorflow:Reduce to /job:localhost/replica:0/task:0/device:CPU:0 then broadcast to ('/job:localhost/replica:0/task:0/device:CPU:0',).\n",
      "INFO:tensorflow:Reduce to /job:localhost/replica:0/task:0/device:CPU:0 then broadcast to ('/job:localhost/replica:0/task:0/device:CPU:0',).\n",
      "INFO:tensorflow:Reduce to /job:localhost/replica:0/task:0/device:CPU:0 then broadcast to ('/job:localhost/replica:0/task:0/device:CPU:0',).\n",
      "INFO:tensorflow:Reduce to /job:localhost/replica:0/task:0/device:CPU:0 then broadcast to ('/job:localhost/replica:0/task:0/device:CPU:0',).\n",
      "INFO:tensorflow:Reduce to /job:localhost/replica:0/task:0/device:CPU:0 then broadcast to ('/job:localhost/replica:0/task:0/device:CPU:0',).\n",
      "INFO:tensorflow:Reduce to /job:localhost/replica:0/task:0/device:GPU:0 then broadcast to ('/job:localhost/replica:0/task:0/device:GPU:0', '/job:localhost/replica:0/task:0/device:GPU:0').\n",
      "INFO:tensorflow:Reduce to /job:localhost/replica:0/task:0/device:GPU:0 then broadcast to ('/job:localhost/replica:0/task:0/device:GPU:0', '/job:localhost/replica:0/task:0/device:GPU:0').\n",
      "INFO:tensorflow:Reduce to /job:localhost/replica:0/task:0/device:CPU:0 then broadcast to ('/job:localhost/replica:0/task:0/device:CPU:0',).\n",
      "INFO:tensorflow:Reduce to /job:localhost/replica:0/task:0/device:CPU:0 then broadcast to ('/job:localhost/replica:0/task:0/device:CPU:0',).\n",
      "INFO:tensorflow:Reduce to /job:localhost/replica:0/task:0/device:CPU:0 then broadcast to ('/job:localhost/replica:0/task:0/device:CPU:0',).\n",
      "INFO:tensorflow:Reduce to /job:localhost/replica:0/task:0/device:CPU:0 then broadcast to ('/job:localhost/replica:0/task:0/device:CPU:0',).\n",
      "1090/1090 [==============================] - 4s 4ms/step - loss: 0.1251 - mae: 0.1653 - mse: 0.1251\n",
      "Epoch 2/15\n",
      "1090/1090 [==============================] - 7s 6ms/step - loss: 0.0385 - mae: 0.1082 - mse: 0.0385\n",
      "Epoch 3/15\n",
      "1090/1090 [==============================] - 6s 5ms/step - loss: 0.0998 - mae: 0.1172 - mse: 0.0998\n",
      "Epoch 4/15\n",
      "1090/1090 [==============================] - 6s 5ms/step - loss: 0.2033 - mae: 0.1180 - mse: 0.2033\n",
      "Epoch 5/15\n",
      "1090/1090 [==============================] - 5s 4ms/step - loss: 1.4425 - mae: 0.1110 - mse: 1.4425\n",
      "Epoch 6/15\n",
      "1090/1090 [==============================] - 5s 4ms/step - loss: 0.0209 - mae: 0.0835 - mse: 0.0209\n",
      "Epoch 7/15\n",
      "1090/1090 [==============================] - 5s 4ms/step - loss: 0.0386 - mae: 0.0885 - mse: 0.0386\n",
      "Epoch 8/15\n",
      "1090/1090 [==============================] - 4s 4ms/step - loss: 0.1051 - mae: 0.0905 - mse: 0.1051\n",
      "Epoch 9/15\n",
      "1090/1090 [==============================] - 5s 4ms/step - loss: 0.1503 - mae: 0.0978 - mse: 0.1503\n",
      "Epoch 10/15\n",
      "1090/1090 [==============================] - 4s 4ms/step - loss: 0.2139 - mae: 0.1101 - mse: 0.2139\n",
      "Epoch 11/15\n",
      "1090/1090 [==============================] - 5s 4ms/step - loss: 0.6250 - mae: 0.1112 - mse: 0.6250\n",
      "Epoch 12/15\n",
      "1090/1090 [==============================] - 4s 4ms/step - loss: 0.2014 - mae: 0.0962 - mse: 0.2014\n",
      "Epoch 13/15\n",
      "1090/1090 [==============================] - 4s 4ms/step - loss: 1.3687 - mae: 0.0972 - mse: 1.3687\n",
      "Epoch 14/15\n",
      "1090/1090 [==============================] - 4s 4ms/step - loss: 0.0489 - mae: 0.0844 - mse: 0.0489\n",
      "Epoch 15/15\n",
      "1090/1090 [==============================] - 4s 4ms/step - loss: 0.2026 - mae: 0.0930 - mse: 0.2026\n",
      "Epoch 1/15\n",
      "660/660 [==============================] - 3s 4ms/step - loss: 0.0418 - mae: 0.1138 - mse: 0.0418\n",
      "Epoch 2/15\n",
      "660/660 [==============================] - 3s 5ms/step - loss: 0.0077 - mae: 0.0559 - mse: 0.0077\n",
      "Epoch 3/15\n",
      "660/660 [==============================] - 3s 4ms/step - loss: 0.0052 - mae: 0.0451 - mse: 0.0052\n",
      "Epoch 4/15\n",
      "660/660 [==============================] - 3s 5ms/step - loss: 0.0051 - mae: 0.0424 - mse: 0.0051\n",
      "Epoch 5/15\n",
      "660/660 [==============================] - 3s 4ms/step - loss: 0.0050 - mae: 0.0407 - mse: 0.0050\n",
      "Epoch 6/15\n",
      "660/660 [==============================] - 3s 4ms/step - loss: 0.0032 - mae: 0.0349 - mse: 0.0032\n",
      "Epoch 7/15\n",
      "660/660 [==============================] - 3s 4ms/step - loss: 0.0037 - mae: 0.0369 - mse: 0.0037\n",
      "Epoch 8/15\n",
      "660/660 [==============================] - 3s 4ms/step - loss: 0.0028 - mae: 0.0317 - mse: 0.0028\n",
      "Epoch 9/15\n",
      "660/660 [==============================] - 3s 4ms/step - loss: 0.0036 - mae: 0.0352 - mse: 0.0036\n",
      "Epoch 10/15\n",
      "660/660 [==============================] - 3s 4ms/step - loss: 0.0027 - mae: 0.0304 - mse: 0.0027\n",
      "Epoch 11/15\n",
      "660/660 [==============================] - 3s 4ms/step - loss: 0.0029 - mae: 0.0301 - mse: 0.0029\n",
      "Epoch 12/15\n",
      "660/660 [==============================] - 3s 4ms/step - loss: 0.0028 - mae: 0.0299 - mse: 0.0028\n",
      "Epoch 13/15\n",
      "660/660 [==============================] - 3s 4ms/step - loss: 0.0029 - mae: 0.0290 - mse: 0.0029\n",
      "Epoch 14/15\n",
      "660/660 [==============================] - 3s 4ms/step - loss: 0.0023 - mae: 0.0268 - mse: 0.0023\n",
      "Epoch 15/15\n",
      "660/660 [==============================] - 3s 4ms/step - loss: 0.0029 - mae: 0.0287 - mse: 0.0029\n"
     ]
    }
   ],
   "source": [
    "# Train the models and save them, or load them from files.\n",
    "model_file_names = {'pp':modelpath + 'all_charged.h5','p0':modelpath + 'all_neutral.h5'}\n",
    "assert (set(model_file_names.keys()) == set(All_input.keys()))\n",
    "histories = {}\n",
    "\n",
    "for key, filename in model_file_names.items():\n",
    "    if not loadModel:\n",
    "        histories[key] = regressors[key].fit(All_input[key], data_frames[key]['s_logECalib'])\n",
    "    else: \n",
    "        regressors[key].model = load_model(model_file_names[key])\n",
    "\n",
    "    if saveModel:\n",
    "        regressors[key].model.save(model_file_names[key])"
   ]
  },
  {
   "cell_type": "markdown",
   "metadata": {},
   "source": [
    "We can evaluate the networks on our data to see how they've done."
   ]
  },
  {
   "cell_type": "code",
   "execution_count": 17,
   "metadata": {},
   "outputs": [
    {
     "name": "stdout",
     "output_type": "stream",
     "text": [
      "1090/1090 [==============================] - 11s 10ms/step\n"
     ]
    },
    {
     "name": "stderr",
     "output_type": "stream",
     "text": [
      "<ipython-input-17-72b08b5224e1>:2: RuntimeWarning: overflow encountered in exp\n",
      "  frame['clusterE_pred'] = np.exp(scaler_cal.inverse_transform(regressors[key].predict(All_input[key])))\n"
     ]
    },
    {
     "name": "stdout",
     "output_type": "stream",
     "text": [
      "660/660 [==============================] - 9s 14ms/step\n"
     ]
    }
   ],
   "source": [
    "for key, frame in data_frames.items():\n",
    "    frame['clusterE_pred'] = np.exp(scaler_cal.inverse_transform(regressors[key].predict(All_input[key])))\n",
    "    frame['clusterE_pred / cluster_ENG_CALIB_TOT'] = frame['clusterE_pred'] / frame['cluster_ENG_CALIB_TOT']"
   ]
  },
  {
   "cell_type": "markdown",
   "metadata": {},
   "source": [
    "## Plotting results (testing how well our network works)\n",
    "\n",
    "As noted above, over-training can be an issue because we've used *all* our data as our training sample. So results that are very good might not be a fully honest assessment of how we're doing -- but results that are bad are a clear sign that something is not working, because that means the network isn't performing well on the very same data used to train it."
   ]
  },
  {
   "cell_type": "code",
   "execution_count": 18,
   "metadata": {},
   "outputs": [
    {
     "name": "stdout",
     "output_type": "stream",
     "text": [
      "Welcome to JupyROOT 6.22/02\n"
     ]
    }
   ],
   "source": [
    "import ROOT as rt"
   ]
  },
  {
   "cell_type": "code",
   "execution_count": 29,
   "metadata": {},
   "outputs": [
    {
     "data": {
      "image/png": "[encoded data removed]",
      "text/plain": [
       "<IPython.core.display.Image object>"
      ]
     },
     "metadata": {},
     "output_type": "display_data"
    },
    {
     "data": {
      "image/png": "[encoded data removed]",
      "text/plain": [
       "<IPython.core.display.Image object>"
      ]
     },
     "metadata": {},
     "output_type": "display_data"
    }
   ],
   "source": [
    "def SetColor(hist, color):\n",
    "    hist.SetFillColor(color)\n",
    "    hist.SetLineColor(color)\n",
    "    return\n",
    "\n",
    "clusterE = {}\n",
    "clusterE_calib = {}\n",
    "clusterE_pred = {}\n",
    "clusterE_true = {}\n",
    "clusterE_ratio1 = {} # ratio of predicted cluster E to calibrated cluster E\n",
    "clusterE_ratio2 = {} # ratio of predicted cluster E to truth cluster E\n",
    "canvs = {}\n",
    "\n",
    "key_conversions = {'pp':'(#pi^{+})','p0':'(#pi^{0})'}\n",
    "\n",
    "for key in data_frames.keys():\n",
    "    \n",
    "    clusterE[key] = rt.TH1F('clusterE_' + str(key), 'E ' + key_conversions[key], 500,0.,5000.)\n",
    "    clusterE_calib[key] = rt.TH1F('clusterE_calib_' + str(key), 'E_{calib} ' + key_conversions[key], 500,0.,5000.)\n",
    "    clusterE_pred[key] = rt.TH1F('clusterE_pred_' + str(key), 'E_{pred} ' + key_conversions[key], 500,0.,5000.)\n",
    "    clusterE_true[key] = rt.TH1F('clusterE_true_' + str(key), 'E_{true} ' + key_conversions[key], 500,0.,5000.)\n",
    "    clusterE_ratio1[key] = rt.TH1F('clusterE_ratio1_' + str(key), 'E_{pred} / E_{calib} ' + key_conversions[key], 500,0.,10.)\n",
    "    clusterE_ratio2[key] = rt.TH1F('clusterE_ratio2_' + str(key), 'E_{pred} / E_{true} ' + key_conversions[key], 500,0.,10.)\n",
    "\n",
    "    SetColor(clusterE[key], rt.kViolet)\n",
    "    SetColor(clusterE_calib[key], rt.kPink + 9)\n",
    "    SetColor(clusterE_pred[key], rt.kGreen)\n",
    "    SetColor(clusterE_true[key], rt.kRed)\n",
    "    SetColor(clusterE_ratio1[key], rt.kBlue)\n",
    "    SetColor(clusterE_ratio2[key], rt.kCyan)\n",
    "\n",
    "    meas   = data_frames[key]['clusterE'].to_numpy()\n",
    "    calib  = data_frames[key]['cluster_ENG_CALIB_TOT'].to_numpy()\n",
    "    pred   = data_frames[key]['clusterE_pred'].to_numpy()\n",
    "    true   = data_frames[key]['truthE'].to_numpy()\n",
    "    ratio1 = data_frames[key]['clusterE_pred / cluster_ENG_CALIB_TOT'].to_numpy()\n",
    "    ratio2 = data_frames[key]['clusterE_pred'].to_numpy() /  data_frames[key]['truthE'].to_numpy()\n",
    "    \n",
    "    for i in range(len(meas)):\n",
    "        clusterE[key].Fill(meas[i])\n",
    "        clusterE_calib[key].Fill(calib[i])\n",
    "        clusterE_pred[key].Fill(pred[i])\n",
    "        clusterE_true[key].Fill(true[i])\n",
    "        clusterE_ratio1[key].Fill(ratio1[i])\n",
    "        clusterE_ratio2[key].Fill(ratio2[i])\n",
    "\n",
    "    canvs[key] = rt.TCanvas('c_'+str(key),'c_'+str(key),800,1200)\n",
    "    canvs[key].Divide(2,3)\n",
    "    \n",
    "    canvs[key].cd(1)\n",
    "    clusterE[key].Draw('HIST')\n",
    "    rt.gPad.SetLogy()\n",
    "    \n",
    "    canvs[key].cd(2)\n",
    "    clusterE_calib[key].Draw('HIST')\n",
    "    rt.gPad.SetLogy()\n",
    "\n",
    "\n",
    "    canvs[key].cd(3)\n",
    "    clusterE_pred[key].Draw('HIST')\n",
    "    rt.gPad.SetLogy()\n",
    "    \n",
    "    canvs[key].cd(4)\n",
    "    clusterE_true[key].Draw('HIST')\n",
    "    rt.gPad.SetLogy()\n",
    "\n",
    "    canvs[key].cd(5)\n",
    "    clusterE_ratio1[key].Draw('HIST')\n",
    "    rt.gPad.SetLogy()\n",
    "\n",
    "    canvs[key].cd(6)\n",
    "    clusterE_ratio2[key].Draw('HIST')\n",
    "    rt.gPad.SetLogy()\n",
    "\n",
    "    canvs[key].Draw()"
   ]
  },
  {
   "cell_type": "markdown",
   "metadata": {},
   "source": [
    "I think that we want the ratio plots (cyan, bottom right) to be spiked around $1$. It corresponds to $\\frac{E_\\text{predicted}}{E_\\text{true}}$. The bottom left plot (dark blue) corresponds to $\\frac{E_\\text{cluster, predicted}}{\\text{ENG_CALIB_TOT}_\\text{cluster}}$.\n",
    "\n",
    "If the goal is to have the cyan plot spike aorund $1$, neither network is doing great but $\\pi^0$ is outperforming $\\pi^+$. If the goal is to have the dark blue plot spike around $1$ -- which based on the pre-existing code, might be the case? -- then $\\pi^0$ is working *excellently* but $\\pi^+$ is not. And I thought that they both looked good in the original training notebook (together with the plotting code that doesn't work for me quite yet). Why is this?"
   ]
  },
  {
   "cell_type": "markdown",
   "metadata": {},
   "source": [
    "## Check for $\\pi^+$ results\n",
    "\n",
    "We can check to see if something is off with the network I trained, by using the model in `all.h5` produced by Max's code (just with the plotting removed). If this exhibits the same behavior, then either there isn't a problem, or at least the problem was not introduced by something I did here. (Maybe this has something to do with using the master branch in the repo?)"
   ]
  },
  {
   "cell_type": "code",
   "execution_count": 33,
   "metadata": {},
   "outputs": [
    {
     "name": "stdout",
     "output_type": "stream",
     "text": [
      "1090/1090 - 3s\n"
     ]
    }
   ],
   "source": [
    "check_model_file = modelpath + 'all.h5'\n",
    "check_regressor = KerasRegressor(build_fn=baseline_nn_All_model, batch_size=200*ngpu, epochs=100, verbose=2)\n",
    "check_regressor.model = load_model(check_model_file)\n",
    "\n",
    "charged_frame = data_frames['pp'].copy()\n",
    "charged_frame['clusterE_pred'] = np.exp(scaler_cal.inverse_transform(check_regressor.predict(All_input['pp'])))\n",
    "charged_frame['clusterE_pred / cluster_ENG_CALIB_TOT'] = charged_frame['clusterE_pred'] / charged_frame['cluster_ENG_CALIB_TOT']"
   ]
  },
  {
   "cell_type": "code",
   "execution_count": 34,
   "metadata": {},
   "outputs": [
    {
     "data": {
      "image/png": "[encoded data removed]",
      "text/plain": [
       "<IPython.core.display.Image object>"
      ]
     },
     "metadata": {},
     "output_type": "display_data"
    }
   ],
   "source": [
    "key = 'check'\n",
    "key_conversions['check'] = '(#pi^{+}, old)'\n",
    "    \n",
    "clusterE[key] = rt.TH1F('clusterE_' + str(key), 'E ' + key_conversions[key], 500,0.,5000.)\n",
    "clusterE_calib[key] = rt.TH1F('clusterE_calib_' + str(key), 'E_{calib} ' + key_conversions[key], 500,0.,5000.)\n",
    "clusterE_pred[key] = rt.TH1F('clusterE_pred_' + str(key), 'E_{pred} ' + key_conversions[key], 500,0.,5000.)\n",
    "clusterE_true[key] = rt.TH1F('clusterE_true_' + str(key), 'E_{true} ' + key_conversions[key], 500,0.,5000.)\n",
    "clusterE_ratio1[key] = rt.TH1F('clusterE_ratio1_' + str(key), 'E_{pred} / E_{calib} ' + key_conversions[key], 500,0.,10.)\n",
    "clusterE_ratio2[key] = rt.TH1F('clusterE_ratio2_' + str(key), 'E_{pred} / E_{true} ' + key_conversions[key], 500,0.,10.)\n",
    "\n",
    "SetColor(clusterE[key], rt.kViolet)\n",
    "SetColor(clusterE_calib[key], rt.kPink + 9)\n",
    "SetColor(clusterE_pred[key], rt.kGreen)\n",
    "SetColor(clusterE_true[key], rt.kRed)\n",
    "SetColor(clusterE_ratio1[key], rt.kBlue)\n",
    "SetColor(clusterE_ratio2[key], rt.kCyan)\n",
    "\n",
    "meas   = charged_frame['clusterE'].to_numpy()\n",
    "calib  = charged_frame['cluster_ENG_CALIB_TOT'].to_numpy()\n",
    "pred   = charged_frame['clusterE_pred'].to_numpy()\n",
    "true   = charged_frame['truthE'].to_numpy()\n",
    "ratio1 = charged_frame['clusterE_pred / cluster_ENG_CALIB_TOT'].to_numpy()\n",
    "ratio2 = charged_frame['clusterE_pred'].to_numpy() /  charged_frame['truthE'].to_numpy()\n",
    "    \n",
    "for i in range(len(meas)):\n",
    "    clusterE[key].Fill(meas[i])\n",
    "    clusterE_calib[key].Fill(calib[i])\n",
    "    clusterE_pred[key].Fill(pred[i])\n",
    "    clusterE_true[key].Fill(true[i])\n",
    "    clusterE_ratio1[key].Fill(ratio1[i])\n",
    "    clusterE_ratio2[key].Fill(ratio2[i])\n",
    "\n",
    "canvs[key] = rt.TCanvas('c_'+str(key),'c_'+str(key),800,1200)\n",
    "canvs[key].Divide(2,3)\n",
    "    \n",
    "canvs[key].cd(1)\n",
    "clusterE[key].Draw('HIST')\n",
    "rt.gPad.SetLogy()\n",
    "    \n",
    "canvs[key].cd(2)\n",
    "clusterE_calib[key].Draw('HIST')\n",
    "rt.gPad.SetLogy()\n",
    "\n",
    "canvs[key].cd(3)\n",
    "clusterE_pred[key].Draw('HIST')\n",
    "rt.gPad.SetLogy()\n",
    "    \n",
    "canvs[key].cd(4)\n",
    "clusterE_true[key].Draw('HIST')\n",
    "rt.gPad.SetLogy()\n",
    "\n",
    "canvs[key].cd(5)\n",
    "clusterE_ratio1[key].Draw('HIST')\n",
    "rt.gPad.SetLogy()\n",
    "\n",
    "canvs[key].cd(6)\n",
    "clusterE_ratio2[key].Draw('HIST')\n",
    "rt.gPad.SetLogy()\n",
    "\n",
    "canvs[key].Draw()"
   ]
  },
  {
   "cell_type": "markdown",
   "metadata": {},
   "source": [
    "Ok, this looks the same as before. This \"check regressor\" is taking in the exact same data as the one I trained, so the good news is that there isn't any black magic going on -- the two were trained in the same way, and thus the results here look more-or-less the same as those I found above.\n",
    "\n",
    "So I guess it's technically possible that something is goofy with the way I'm feeding in the data -- which I should check -- or maybe the network model should be changed? Max did mention using a different branch, so I wonder if what I'm seeing here is a known issue that switching branches might solve."
   ]
  },
  {
   "cell_type": "code",
   "execution_count": null,
   "metadata": {},
   "outputs": [],
   "source": []
  }
 ],
 "metadata": {
  "file_extension": ".py",
  "kernelspec": {
   "display_name": "Python [conda env:ml4p]",
   "language": "python",
   "name": "conda-env-ml4p-py"
  },
  "language_info": {
   "codemirror_mode": {
    "name": "ipython",
    "version": 3
   },
   "file_extension": ".py",
   "mimetype": "text/x-python",
   "name": "python",
   "nbconvert_exporter": "python",
   "pygments_lexer": "ipython3",
   "version": "3.8.6"
  },
  "mimetype": "text/x-python",
  "name": "python",
  "npconvert_exporter": "python",
  "pygments_lexer": "ipython3",
  "version": 3
 },
 "nbformat": 4,
 "nbformat_minor": 4
}
