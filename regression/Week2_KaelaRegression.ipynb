{
 "cells": [
  {
   "cell_type": "code",
   "execution_count": 1,
   "id": "a60faa59-3a4d-498d-9fb6-a3b857279034",
   "metadata": {},
   "outputs": [],
   "source": [
    "import os\n",
    "\n",
    "os.environ['CUDA_VISIBLE_DEVICES'] = \"0\"\n",
    "os.environ['TF_FORCE_GPU_ALLOW_GROWTH'] = 'true'"
   ]
  },
  {
   "cell_type": "code",
   "execution_count": 2,
   "id": "edbb5497-b538-49cc-80d4-536d83c329c8",
   "metadata": {},
   "outputs": [],
   "source": [
    "import numpy as np\n",
    "import matplotlib as mpl\n",
    "import matplotlib.pyplot as plt\n",
    "import pandas as pd\n",
    "\n",
    "import resolution_util as ru\n",
    "import plot_util as pu\n",
    "import ml_util as mu\n",
    "import uproot as ur\n",
    "\n",
    "from tensorflow.keras import regularizers\n",
    "from tensorflow.keras import Sequential\n",
    "from tensorflow.keras import Model\n",
    "from tensorflow.keras.optimizers import SGD, Adam\n",
    "from tensorflow.keras.layers import LeakyReLU\n",
    "from tensorflow.keras.layers import Input, Dense, Dropout, BatchNormalization\n",
    "from keras.wrappers.scikit_learn import KerasRegressor\n",
    "\n",
    "import tensorflow as tf\n",
    "from keras.wrappers.scikit_learn import KerasRegressor\n",
    "from sklearn.preprocessing import StandardScaler #this f'n standardizes data by removing the mean and scaling by the stddev\n",
    "\n",
    "# metadata\n",
    "layers = [\"EMB1\", \"EMB2\", \"EMB3\", \"TileBar0\", \"TileBar1\", \"TileBar2\"]\n",
    "cell_size_phi = [0.098, 0.0245, 0.0245, 0.1, 0.1, 0.1]\n",
    "cell_size_eta = [0.0031, 0.025, 0.05, 0.1, 0.1, 0.2]\n",
    "len_phi = [4, 16, 16, 4, 4, 4]\n",
    "len_eta = [128, 16, 8, 4, 4, 2]"
   ]
  },
  {
   "cell_type": "code",
   "execution_count": 3,
   "id": "5e87b39a-dd41-48e1-a737-c278cb538b3a",
   "metadata": {},
   "outputs": [],
   "source": [
    "path = '/fast_scratch/atlas_images/v7/'\n",
    "pp_file = ur.open(path+'piplus.root')\n",
    "pp_tree = pp_file['ClusterTree']\n",
    "branches = ['clusterIndex', 'truthE', 'nCluster', 'clusterE', 'clusterECalib', 'clusterPt', 'clusterEta', 'clusterPhi', 'cluster_nCells', 'cluster_sumCellE', 'cluster_ENG_CALIB_TOT', 'cluster_ENG_CALIB_OUT_T', 'cluster_ENG_CALIB_DEAD_TOT', 'cluster_EM_PROBABILITY', 'cluster_HAD_WEIGHT', 'cluster_CENTER_MAG', 'cluster_FIRST_ENG_DENS', 'cluster_cellE_norm']\n",
    "pp = pd.DataFrame(pp_tree.arrays(expressions = branches, library='np'))"
   ]
  },
  {
   "cell_type": "code",
   "execution_count": 4,
   "id": "d2cabf5f-6380-4fe6-b0ba-5824a552a4ff",
   "metadata": {},
   "outputs": [],
   "source": [
    "#define convenience columns\n",
    "\n",
    "pp['clusterEoverCalib'] = pp.clusterE / pp.cluster_ENG_CALIB_TOT\n",
    "pp['clusterEoverTruth'] = pp.clusterE / pp.truthE\n",
    "pp['cluster_ENG_ALL'] = pp.cluster_ENG_CALIB_TOT + pp.cluster_ENG_CALIB_OUT_T + pp.cluster_ENG_CALIB_DEAD_TOT\n",
    "\n",
    "# regression variables: define up here to make it easier for later swapping\n",
    "\n",
    "pp['logE'] = np.log(pp.clusterE)\n",
    "pp['logECalib'] = np.log(pp.cluster_ENG_CALIB_TOT)\n",
    "pp['logECalibAll'] = np.log(pp.cluster_ENG_ALL)\n",
    "\n",
    "# create scaler\n",
    "scaler_e = StandardScaler()\n",
    "scaler_cal = StandardScaler()\n",
    "scaler_calAll = StandardScaler()\n",
    "# fit and transform in one step\n",
    "pp['s_logE'] = scaler_e.fit_transform(pp['logE'].to_numpy().reshape(-1,1))\n",
    "pp['s_logECalib'] = scaler_cal.fit_transform(pp['logECalib'].to_numpy().reshape(-1,1))\n",
    "pp['s_logECalibAll'] = scaler_calAll.fit_transform(pp['logECalibAll'].to_numpy().reshape(-1,1))\n"
   ]
  },
  {
   "cell_type": "code",
   "execution_count": 6,
   "id": "07fbd10e-4115-4ac2-8206-3caebbb689bd",
   "metadata": {},
   "outputs": [
    {
     "data": {
      "text/plain": [
       "(0         2.196562\n",
       " 1         0.884138\n",
       " 2        -1.103210\n",
       " 3         0.270568\n",
       " 4        -1.052124\n",
       "             ...   \n",
       " 435962   -0.379634\n",
       " 435963    0.314869\n",
       " 435964    0.751148\n",
       " 435965   -0.022703\n",
       " 435966   -0.583985\n",
       " Name: s_logE, Length: 435967, dtype: float32,\n",
       " 0         7.442252\n",
       " 1         4.063764\n",
       " 2        -1.052139\n",
       " 3         2.484289\n",
       " 4        -0.920629\n",
       "             ...   \n",
       " 435962    0.810517\n",
       " 435963    2.598331\n",
       " 435964    3.721415\n",
       " 435965    1.729342\n",
       " 435966    0.284469\n",
       " Name: logE, Length: 435967, dtype: float32)"
      ]
     },
     "execution_count": 6,
     "metadata": {},
     "output_type": "execute_result"
    }
   ],
   "source": [
    "pp['s_logE'], pp['logE']"
   ]
  },
  {
   "cell_type": "code",
   "execution_count": 6,
   "id": "a5355c99-5a4a-40ac-9f5f-8404714729bb",
   "metadata": {},
   "outputs": [],
   "source": [
    "# fun cleaning for EMProb\n",
    "epsilon = 0.000000000001\n",
    "pp['cluster_fixEM'] = pp.cluster_EM_PROBABILITY.replace(to_replace=0,value=epsilon)\n",
    "pp['cluster_logEM'] = np.log(pp.cluster_fixEM)\n",
    "scaler_EM = StandardScaler()\n",
    "pp['s_logEM'] = scaler_EM.fit_transform(pp.cluster_logEM.to_numpy().reshape(-1,1))\n",
    "scaler_eta = StandardScaler()\n",
    "pp['s_eta'] = scaler_eta.fit_transform(pp.clusterEta.to_numpy().reshape(-1,1))\n",
    "pp['logCenter'] = np.log(pp.cluster_CENTER_MAG)\n",
    "scaler_center = StandardScaler()\n",
    "pp['s_logCenter'] = scaler_center.fit_transform(pp.logCenter.to_numpy().reshape(-1,1))\n",
    "scaler_density = StandardScaler()\n",
    "pp['s_Density'] = scaler_density.fit_transform(pp.cluster_FIRST_ENG_DENS.to_numpy().reshape(-1,1))"
   ]
  },
  {
   "cell_type": "code",
   "execution_count": 7,
   "id": "3dd58b32-0e89-48bf-af9d-5bcee8fb67c2",
   "metadata": {},
   "outputs": [],
   "source": [
    "# define convience sub-frames\n",
    "\n",
    "pp['Single'] = pp.nCluster==1 # define a subset of events with only one cluster\n",
    "mu.splitFrameTVT(pp, trainfrac = 0.7)          # define a train/test fraction of 70/20% (10% for val at this point)\n",
    "\n",
    "EMB1_cells = mu.setupCells(pp_tree, 'EMB1') # implicitly flatten\n",
    "EMB2_cells = mu.setupCells(pp_tree, 'EMB2')\n",
    "EMB3_cells = mu.setupCells(pp_tree, 'EMB3') # implicitly flatten\n",
    "\n",
    "TileBar0_cells = mu.setupCells(pp_tree, 'TileBar0') # implicitly flatten\n",
    "TileBar1_cells = mu.setupCells(pp_tree, 'TileBar1') # implicitly flatten\n",
    "TileBar2_cells = mu.setupCells(pp_tree, 'TileBar2') # implicitly flatten\n"
   ]
  },
  {
   "cell_type": "code",
   "execution_count": 8,
   "id": "a1e359f0-a68f-46ac-b599-b6d27d599d0d",
   "metadata": {},
   "outputs": [],
   "source": [
    "combine_All_cells = np.concatenate((EMB1_cells, EMB2_cells, EMB3_cells, TileBar0_cells, TileBar1_cells, TileBar2_cells), axis=1)\n",
    "s_All_cells, scaler_All_cells = mu.standardCells(combine_All_cells, ['EMB1', 'EMB2', 'EMB3', 'TileBar0', 'TileBar1', 'TileBar2'])\n",
    "All_input = np.column_stack((pp['s_logE'],pp['s_eta'],s_All_cells))"
   ]
  },
  {
   "cell_type": "code",
   "execution_count": 40,
   "id": "78339467-b0ae-47ad-bece-ca184a926bdb",
   "metadata": {},
   "outputs": [],
   "source": [
    "def easyreg(): #needs to be defined like this in a function for the next cell to work for some reason\n",
    "    easyregress = tf.keras.Sequential(\n",
    "        [Dense(units=24, input_dim=1, kernel_initializer='normal', activation='relu'),\n",
    "         Dense(units=24, kernel_initializer='normal', activation='relu'), \n",
    "         Dense(units=1, kernel_initializer='normal', activation='linear')]) \n",
    "    opt = Adam(lr=1e-4, decay=1e-6)\n",
    "    easyregress.compile(optimizer=opt, loss='mse',metrics=['mae','mse'])\n",
    "    \n",
    "    return easyregress"
   ]
  },
  {
   "cell_type": "code",
   "execution_count": 68,
   "id": "77f29758-4212-4725-a4da-5306a04561bc",
   "metadata": {},
   "outputs": [],
   "source": [
    "def medreg(): #needs to be defined like this in a function for the next cell to work for some reason\n",
    "    mediumregress = tf.keras.Sequential(\n",
    "        [Dense(units=100, input_dim=4, kernel_initializer='normal', activation='relu'),\n",
    "         Dense(units=40, kernel_initializer='normal', activation='relu'),\n",
    "         Dense(units=40, kernel_initializer='normal', activation='relu'), #many layers/nodes don't help - loss stayed constant at 1 when I tried it\n",
    "         Dense(units=1, kernel_initializer='normal', activation='linear')]) \n",
    "    opt = Adam(lr=1e-4, decay=1e-6)\n",
    "    mediumregress.compile(optimizer=opt, loss='mse',metrics=['mae','mse'])\n",
    "    \n",
    "    return mediumregress"
   ]
  },
  {
   "cell_type": "code",
   "execution_count": 66,
   "id": "eef7980f-8234-4ef0-b36e-1262921fcce5",
   "metadata": {
    "scrolled": true,
    "tags": []
   },
   "outputs": [
    {
     "name": "stdout",
     "output_type": "stream",
     "text": [
      "Epoch 1/20\n",
      "1526/1526 [==============================] - 5s 3ms/step - loss: 0.5957 - mae: 0.5930 - mse: 0.5957\n",
      "Epoch 2/20\n",
      "1526/1526 [==============================] - 4s 3ms/step - loss: 0.0383 - mae: 0.1344 - mse: 0.0383\n",
      "Epoch 3/20\n",
      "1526/1526 [==============================] - 4s 3ms/step - loss: 0.0349 - mae: 0.1199 - mse: 0.0349\n",
      "Epoch 4/20\n",
      "1526/1526 [==============================] - 4s 3ms/step - loss: 0.0332 - mae: 0.1143 - mse: 0.0332\n",
      "Epoch 5/20\n",
      "1526/1526 [==============================] - 4s 3ms/step - loss: 0.0316 - mae: 0.1098 - mse: 0.0316\n",
      "Epoch 6/20\n",
      "1526/1526 [==============================] - 4s 3ms/step - loss: 0.0313 - mae: 0.1083 - mse: 0.0313\n",
      "Epoch 7/20\n",
      "1526/1526 [==============================] - 4s 3ms/step - loss: 0.0301 - mae: 0.1056 - mse: 0.0301\n",
      "Epoch 8/20\n",
      "1526/1526 [==============================] - 4s 3ms/step - loss: 0.0291 - mae: 0.1040 - mse: 0.0291\n",
      "Epoch 9/20\n",
      "1526/1526 [==============================] - 4s 3ms/step - loss: 0.0283 - mae: 0.1025 - mse: 0.0283\n",
      "Epoch 10/20\n",
      "1526/1526 [==============================] - 4s 3ms/step - loss: 0.0274 - mae: 0.1014 - mse: 0.0274\n",
      "Epoch 11/20\n",
      "1526/1526 [==============================] - 4s 3ms/step - loss: 0.0271 - mae: 0.1008 - mse: 0.0271\n",
      "Epoch 12/20\n",
      "1526/1526 [==============================] - 4s 3ms/step - loss: 0.0267 - mae: 0.1001 - mse: 0.0267\n",
      "Epoch 13/20\n",
      "1526/1526 [==============================] - 4s 3ms/step - loss: 0.0267 - mae: 0.0999 - mse: 0.0267\n",
      "Epoch 14/20\n",
      "1526/1526 [==============================] - 4s 3ms/step - loss: 0.0260 - mae: 0.0986 - mse: 0.0260\n",
      "Epoch 15/20\n",
      "1526/1526 [==============================] - 4s 3ms/step - loss: 0.0252 - mae: 0.0969 - mse: 0.0252\n",
      "Epoch 16/20\n",
      "1526/1526 [==============================] - 4s 3ms/step - loss: 0.0246 - mae: 0.0953 - mse: 0.0246\n",
      "Epoch 17/20\n",
      "1526/1526 [==============================] - 4s 3ms/step - loss: 0.0245 - mae: 0.0947 - mse: 0.0245\n",
      "Epoch 18/20\n",
      "1526/1526 [==============================] - 4s 3ms/step - loss: 0.0245 - mae: 0.0943 - mse: 0.0245\n",
      "Epoch 19/20\n",
      "1526/1526 [==============================] - 4s 3ms/step - loss: 0.0234 - mae: 0.0922 - mse: 0.0234\n",
      "Epoch 20/20\n",
      "1526/1526 [==============================] - 4s 3ms/step - loss: 0.0233 - mae: 0.0915 - mse: 0.0233\n",
      "Epoch 1/20\n",
      "1526/1526 [==============================] - 5s 3ms/step - loss: 0.7681 - mae: 0.7154 - mse: 0.7681\n",
      "Epoch 2/20\n",
      "1526/1526 [==============================] - 4s 3ms/step - loss: 0.0412 - mae: 0.1449 - mse: 0.0412\n",
      "Epoch 3/20\n",
      "1526/1526 [==============================] - 4s 3ms/step - loss: 0.0369 - mae: 0.1236 - mse: 0.0369\n",
      "Epoch 4/20\n",
      "1526/1526 [==============================] - 4s 3ms/step - loss: 0.0358 - mae: 0.1151 - mse: 0.0358\n",
      "Epoch 5/20\n",
      "1526/1526 [==============================] - 4s 3ms/step - loss: 0.0354 - mae: 0.1130 - mse: 0.0354\n",
      "Epoch 6/20\n",
      "1526/1526 [==============================] - 4s 3ms/step - loss: 0.0356 - mae: 0.1128 - mse: 0.0356\n",
      "Epoch 7/20\n",
      "1526/1526 [==============================] - 4s 3ms/step - loss: 0.0354 - mae: 0.1126 - mse: 0.0354\n",
      "Epoch 8/20\n",
      "1526/1526 [==============================] - 4s 3ms/step - loss: 0.0352 - mae: 0.1119 - mse: 0.0352\n",
      "Epoch 9/20\n",
      "1526/1526 [==============================] - 4s 3ms/step - loss: 0.0353 - mae: 0.1121 - mse: 0.0353\n",
      "Epoch 10/20\n",
      "1526/1526 [==============================] - 4s 3ms/step - loss: 0.0356 - mae: 0.1122 - mse: 0.0356\n",
      "Epoch 11/20\n",
      "1526/1526 [==============================] - 4s 3ms/step - loss: 0.0353 - mae: 0.1119 - mse: 0.0353\n",
      "Epoch 12/20\n",
      "1526/1526 [==============================] - 4s 3ms/step - loss: 0.0355 - mae: 0.1123 - mse: 0.0355\n",
      "Epoch 13/20\n",
      "1526/1526 [==============================] - 4s 3ms/step - loss: 0.0353 - mae: 0.1118 - mse: 0.0353\n",
      "Epoch 14/20\n",
      "1526/1526 [==============================] - 4s 3ms/step - loss: 0.0356 - mae: 0.1125 - mse: 0.0356\n",
      "Epoch 15/20\n",
      "1526/1526 [==============================] - 4s 3ms/step - loss: 0.0357 - mae: 0.1126 - mse: 0.0357\n",
      "Epoch 16/20\n",
      "1526/1526 [==============================] - 4s 3ms/step - loss: 0.0355 - mae: 0.1122 - mse: 0.0355\n",
      "Epoch 17/20\n",
      "1526/1526 [==============================] - 4s 3ms/step - loss: 0.0358 - mae: 0.1125 - mse: 0.0358\n",
      "Epoch 18/20\n",
      "1526/1526 [==============================] - 4s 3ms/step - loss: 0.0355 - mae: 0.1123 - mse: 0.0355\n",
      "Epoch 19/20\n",
      "1526/1526 [==============================] - 4s 3ms/step - loss: 0.0355 - mae: 0.1123 - mse: 0.0355\n",
      "Epoch 20/20\n",
      "1526/1526 [==============================] - 4s 3ms/step - loss: 0.0358 - mae: 0.1127 - mse: 0.0358\n"
     ]
    }
   ],
   "source": [
    "regressor_e = KerasRegressor(build_fn=easyreg, batch_size=200, epochs=20, verbose=1)\n",
    "regressor_m = KerasRegressor(build_fn=medreg, batch_size=200, epochs=20, verbose=1)\n",
    "\n",
    "history_baseline_wlcin = regressor_m.fit(pp[pp.train][['s_logE','s_eta', 's_logCenter', 's_Density']].to_numpy(), pp[pp.train].s_logECalib.to_numpy())\n",
    "history_baseline = regressor_e.fit([pp[pp.train].s_logE.to_numpy()], pp[pp.train].s_logECalib.to_numpy())"
   ]
  },
  {
   "cell_type": "code",
   "execution_count": 69,
   "id": "9cff7d56-3fb5-4a06-9b37-2b68e6864fc7",
   "metadata": {},
   "outputs": [
    {
     "name": "stdout",
     "output_type": "stream",
     "text": [
      "Epoch 1/20\n",
      "1526/1526 [==============================] - 5s 3ms/step - loss: 0.4488 - mae: 0.4682 - mse: 0.4488\n",
      "Epoch 2/20\n",
      "1526/1526 [==============================] - 4s 3ms/step - loss: 0.0344 - mae: 0.1167 - mse: 0.0344\n",
      "Epoch 3/20\n",
      "1526/1526 [==============================] - 4s 3ms/step - loss: 0.0316 - mae: 0.1091 - mse: 0.0316\n",
      "Epoch 4/20\n",
      "1526/1526 [==============================] - 4s 3ms/step - loss: 0.0298 - mae: 0.1050 - mse: 0.0298\n",
      "Epoch 5/20\n",
      "1526/1526 [==============================] - 4s 3ms/step - loss: 0.0283 - mae: 0.1025 - mse: 0.0283\n",
      "Epoch 6/20\n",
      "1526/1526 [==============================] - 4s 3ms/step - loss: 0.0266 - mae: 0.0998 - mse: 0.0266\n",
      "Epoch 7/20\n",
      "1526/1526 [==============================] - 4s 3ms/step - loss: 0.0255 - mae: 0.0980 - mse: 0.0255\n",
      "Epoch 8/20\n",
      "1526/1526 [==============================] - 4s 3ms/step - loss: 0.0247 - mae: 0.0963 - mse: 0.0247\n",
      "Epoch 9/20\n",
      "1526/1526 [==============================] - 4s 3ms/step - loss: 0.0242 - mae: 0.0950 - mse: 0.0242\n",
      "Epoch 10/20\n",
      "1526/1526 [==============================] - 4s 3ms/step - loss: 0.0230 - mae: 0.0924 - mse: 0.0230\n",
      "Epoch 11/20\n",
      "1526/1526 [==============================] - 5s 3ms/step - loss: 0.0222 - mae: 0.0900 - mse: 0.0222\n",
      "Epoch 12/20\n",
      "1526/1526 [==============================] - 5s 3ms/step - loss: 0.0218 - mae: 0.0883 - mse: 0.0218\n",
      "Epoch 13/20\n",
      "1526/1526 [==============================] - 5s 3ms/step - loss: 0.0215 - mae: 0.0868 - mse: 0.0215\n",
      "Epoch 14/20\n",
      "1526/1526 [==============================] - 5s 3ms/step - loss: 0.0215 - mae: 0.0864 - mse: 0.0215\n",
      "Epoch 15/20\n",
      "1526/1526 [==============================] - 4s 3ms/step - loss: 0.0210 - mae: 0.0851 - mse: 0.0210\n",
      "Epoch 16/20\n",
      "1526/1526 [==============================] - 4s 3ms/step - loss: 0.0210 - mae: 0.0846 - mse: 0.0210\n",
      "Epoch 17/20\n",
      "1526/1526 [==============================] - 4s 3ms/step - loss: 0.0209 - mae: 0.0841 - mse: 0.0209\n",
      "Epoch 18/20\n",
      "1526/1526 [==============================] - 4s 3ms/step - loss: 0.0208 - mae: 0.0839 - mse: 0.0208\n",
      "Epoch 19/20\n",
      "1526/1526 [==============================] - 4s 3ms/step - loss: 0.0207 - mae: 0.0835 - mse: 0.0207\n",
      "Epoch 20/20\n",
      "1526/1526 [==============================] - 5s 3ms/step - loss: 0.0207 - mae: 0.0832 - mse: 0.0207\n"
     ]
    }
   ],
   "source": [
    "regressor_m = KerasRegressor(build_fn=medreg, batch_size=200, epochs=20, verbose=1)\n",
    "history_baseline_wlcin = regressor_m.fit(pp[pp.train][['s_logE','s_eta', 's_logCenter', 's_Density']].to_numpy(), pp[pp.train].s_logECalib.to_numpy())\n"
   ]
  },
  {
   "cell_type": "code",
   "execution_count": 70,
   "id": "690d4d3c-ec2c-4bc8-a58c-d98356a5d2d7",
   "metadata": {},
   "outputs": [
    {
     "data": {
      "text/plain": [
       "<matplotlib.legend.Legend at 0x7f51ff0cc040>"
      ]
     },
     "execution_count": 70,
     "metadata": {},
     "output_type": "execute_result"
    },
    {
     "data": {
      "image/png": "[encoded data removed]",
      "text/plain": [
       "<Figure size 432x432 with 1 Axes>"
      ]
     },
     "metadata": {},
     "output_type": "display_data"
    }
   ],
   "source": [
    "plt.figure(figsize=[6,6])\n",
    "plt.semilogy()\n",
    "plt.plot(history_baseline.history['loss'], c='xkcd:milk chocolate', linewidth=3, label='simple')\n",
    "plt.plot(history_baseline_wlcin.history['loss'], c='xkcd:light peach', linewidth=3, label='wlcin')\n",
    "plt.xlabel('epoch')\n",
    "plt.xlim(-1,20)\n",
    "plt.ylabel('training loss')\n",
    "#plt.ylim(0.01,.5)\n",
    "plt.legend()"
   ]
  },
  {
   "cell_type": "code",
   "execution_count": 71,
   "id": "1fc8943d-6f61-41b1-a74e-4a68be09ca00",
   "metadata": {},
   "outputs": [
    {
     "name": "stdout",
     "output_type": "stream",
     "text": [
      "2180/2180 [==============================] - 3s 1ms/step\n",
      "2180/2180 [==============================] - 3s 1ms/step\n"
     ]
    }
   ],
   "source": [
    "pp['predict_base_E'] = np.exp(scaler_cal.inverse_transform(regressor_e.predict([pp.s_logE.to_numpy()])))\n",
    "pp['predict_base_wlcin_E'] = np.exp(scaler_cal.inverse_transform(regressor_m.predict([pp[['s_logE','s_logEM','s_logCenter', 's_Density']].to_numpy()])))"
   ]
  },
  {
   "cell_type": "code",
   "execution_count": 72,
   "id": "30a95e94-9018-45e9-ae47-c7e06633af5d",
   "metadata": {},
   "outputs": [
    {
     "data": {
      "text/plain": [
       "<matplotlib.legend.Legend at 0x7f51ff0dc1f0>"
      ]
     },
     "execution_count": 72,
     "metadata": {},
     "output_type": "execute_result"
    },
    {
     "data": {
      "image/png": "[encoded data removed]",
      "text/plain": [
       "<Figure size 799.992x599.976 with 1 Axes>"
      ]
     },
     "metadata": {},
     "output_type": "display_data"
    }
   ],
   "source": [
    "n_bins = 500\n",
    "plt.hist(pp[pp.test].predict_base_E-pp[pp.test].cluster_ENG_CALIB_TOT,bins = n_bins, color='xkcd:mocha', label='simple')\n",
    "plt.hist(pp[pp.test].predict_base_wlcin_E-pp[pp.test].cluster_ENG_CALIB_TOT,bins = n_bins, color='xkcd:dull orange', label='wlcin')\n",
    "plt.yscale('log')\n",
    "plt.xlabel('Learned - Actual Energy')\n",
    "plt.legend() #just me or does it not seem any better..."
   ]
  },
  {
   "cell_type": "code",
   "execution_count": 73,
   "id": "b9494a28-e01a-43eb-a00d-3b80f650b0e1",
   "metadata": {},
   "outputs": [
    {
     "data": {
      "text/plain": [
       "<matplotlib.legend.Legend at 0x7f51ff3adeb0>"
      ]
     },
     "execution_count": 73,
     "metadata": {},
     "output_type": "execute_result"
    },
    {
     "data": {
      "image/png": "[encoded data removed]",
      "text/plain": [
       "<Figure size 799.992x599.976 with 1 Axes>"
      ]
     },
     "metadata": {},
     "output_type": "display_data"
    }
   ],
   "source": [
    "plt.hist(pp[pp.test].predict_base_wlcin_E-pp[pp.test].clusterE,bins = n_bins, color='xkcd:pale orange', label='wlcin')\n",
    "plt.hist(pp[pp.test].predict_base_E-pp[pp.test].clusterE,bins = n_bins, color='xkcd:pumpkin orange', label='simple')\n",
    "plt.yscale('log')\n",
    "plt.xlabel('Learned - Input Energy')\n",
    "plt.legend()"
   ]
  },
  {
   "cell_type": "code",
   "execution_count": null,
   "id": "2bc5aafb-53da-48cd-b5d0-61c469114873",
   "metadata": {},
   "outputs": [],
   "source": []
  }
 ],
 "metadata": {
  "kernelspec": {
   "display_name": "Python 3",
   "language": "python",
   "name": "python3"
  },
  "language_info": {
   "codemirror_mode": {
    "name": "ipython",
    "version": 3
   },
   "file_extension": ".py",
   "mimetype": "text/x-python",
   "name": "python",
   "nbconvert_exporter": "python",
   "pygments_lexer": "ipython3",
   "version": "3.8.5"
  }
 },
 "nbformat": 4,
 "nbformat_minor": 5
}
