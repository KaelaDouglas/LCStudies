{
 "cells": [
  {
   "cell_type": "markdown",
   "metadata": {},
   "source": [
    " ## Jet Training data"
   ]
  },
  {
   "cell_type": "markdown",
   "metadata": {},
   "source": [
    "There are some notable kinematic differences between our training data (the pion sample) and the jet data used in this directory (see the plots in `JetClustering.ipynb`).\n",
    "\n",
    "Ideally, we want to get ahold of some better training data, which mirrors the kinematics & conditions of our jet data. What's important is that the training data has *labels*: Since we're classifying topo-clusters and then performing energy regressions, we need to know if they come from charged or neutral pions. Our jet data does not have this information, which is why we can't just set aside some of it for training. In other words, we need information that we just don't have.\n",
    "\n",
    "*However*, we can try (imperfectly?) to deduce this information from what we're given. Our jet dataset *does* include some Pythia truth-level information from each event -- this is a list of particles' momenta, their ID's, and their statuses (final-state or not). So we can perhaps try to match topo-clusters with the nearest pion that we find in the truth-level data. Of course, a matching scheme like that is bound to not be 100% accurate, especially when there may be pions near on another and decay streams that cross in $(\\eta, \\phi)$."
   ]
  },
  {
   "cell_type": "code",
   "execution_count": 2,
   "metadata": {},
   "outputs": [],
   "source": [
    "pdg_codes = {\n",
    "    'pi0':111,\n",
    "    'piplus':211,\n",
    "    'piminus':-211\n",
    "}"
   ]
  },
  {
   "cell_type": "code",
   "execution_count": 3,
   "metadata": {},
   "outputs": [],
   "source": [
    "skip_matching = False\n",
    "file_overwrite = False"
   ]
  },
  {
   "cell_type": "code",
   "execution_count": 4,
   "metadata": {},
   "outputs": [
    {
     "name": "stdout",
     "output_type": "stream",
     "text": [
      "Welcome to JupyROOT 6.22/02\n"
     ]
    }
   ],
   "source": [
    "# Imports - generic stuff\n",
    "import numpy as np\n",
    "from numba import jit\n",
    "import subprocess as sub\n",
    "import ROOT as rt\n",
    "import uproot as ur # uproot for accessing ROOT files quickly (and in a Pythonic way)\n",
    "import sys, os, glob, uuid # glob for searching for files, uuid for random strings to name ROOT objects and avoid collisions\n",
    "from pathlib import Path\n",
    "\n",
    "path_prefix = os.getcwd() + '/../'\n",
    "if(path_prefix not in sys.path): sys.path.append(path_prefix)\n",
    "from util import qol_util as qu # for progress bar\n",
    "\n",
    "data_dir = path_prefix + 'data/jet'"
   ]
  },
  {
   "cell_type": "code",
   "execution_count": 4,
   "metadata": {},
   "outputs": [
    {
     "name": "stdout",
     "output_type": "stream",
     "text": [
      "Ignoring file: /local/home/jano/ml4pions/LCStudies/jets/../data/jet/user.angerami.21717971.OutputStream._000502.root (no EventTree/ClusterTree found).\n",
      "Ignoring file: /local/home/jano/ml4pions/LCStudies/jets/../data/jet/user.angerami.21717971.OutputStream._000077.root (no EventTree/ClusterTree found).\n",
      "Ignoring file: /local/home/jano/ml4pions/LCStudies/jets/../data/jet/user.angerami.21717971.OutputStream._000225.root (no EventTree/ClusterTree found).\n",
      "Ignoring file: /local/home/jano/ml4pions/LCStudies/jets/../data/jet/user.angerami.21717971.OutputStream._000270.root (no EventTree/ClusterTree found).\n",
      "Ignoring file: /local/home/jano/ml4pions/LCStudies/jets/../data/jet/user.angerami.21717971.OutputStream._000481.root (no EventTree/ClusterTree found).\n",
      "Ignoring file: /local/home/jano/ml4pions/LCStudies/jets/../data/jet/user.angerami.21717971.OutputStream._000272.root (no EventTree/ClusterTree found).\n",
      "Ignoring file: /local/home/jano/ml4pions/LCStudies/jets/../data/jet/user.angerami.21717971.OutputStream._000457.root (no EventTree/ClusterTree found).\n",
      "Ignoring file: /local/home/jano/ml4pions/LCStudies/jets/../data/jet/user.angerami.21717971.OutputStream._000026.root (no EventTree/ClusterTree found).\n",
      "Ignoring file: /local/home/jano/ml4pions/LCStudies/jets/../data/jet/user.angerami.21717971.OutputStream._000259.root (no EventTree/ClusterTree found).\n",
      "Ignoring file: /local/home/jano/ml4pions/LCStudies/jets/../data/jet/user.angerami.21717971.OutputStream._000308.root (no EventTree/ClusterTree found).\n",
      "Ignoring file: /local/home/jano/ml4pions/LCStudies/jets/../data/jet/user.angerami.21717971.OutputStream._000729.root (no EventTree/ClusterTree found).\n",
      "Copying data files: |\u001b[32m█\u001b[0m\u001b[32m█\u001b[0m\u001b[32m█\u001b[0m\u001b[32m█\u001b[0m\u001b[32m█\u001b[0m\u001b[32m█\u001b[0m\u001b[32m█\u001b[0m\u001b[32m█\u001b[0m\u001b[32m█\u001b[0m\u001b[32m█\u001b[0m\u001b[32m█\u001b[0m\u001b[32m█\u001b[0m\u001b[32m█\u001b[0m\u001b[32m█\u001b[0m\u001b[32m█\u001b[0m\u001b[32m█\u001b[0m\u001b[32m█\u001b[0m\u001b[32m█\u001b[0m\u001b[32m█\u001b[0m\u001b[32m█\u001b[0m\u001b[32m█\u001b[0m\u001b[32m█\u001b[0m\u001b[32m█\u001b[0m\u001b[32m█\u001b[0m\u001b[32m█\u001b[0m\u001b[32m█\u001b[0m\u001b[32m█\u001b[0m\u001b[32m█\u001b[0m\u001b[32m█\u001b[0m\u001b[32m█\u001b[0m\u001b[32m█\u001b[0m\u001b[32m█\u001b[0m\u001b[32m█\u001b[0m\u001b[32m█\u001b[0m\u001b[32m█\u001b[0m\u001b[32m█\u001b[0m\u001b[32m█\u001b[0m\u001b[32m█\u001b[0m\u001b[32m█\u001b[0m\u001b[32m█\u001b[0m\u001b[32m█\u001b[0m\u001b[32m█\u001b[0m\u001b[32m█\u001b[0m\u001b[32m█\u001b[0m\u001b[32m█\u001b[0m\u001b[32m█\u001b[0m\u001b[32m█\u001b[0m\u001b[32m█\u001b[0m\u001b[32m█\u001b[0m\u001b[32m█\u001b[0m| 100.0% Complete\n"
     ]
    }
   ],
   "source": [
    "# our \"local\" data dir, where we create modified data files\n",
    "jet_data_dir = path_prefix + 'jets/training'\n",
    "Path(jet_data_dir).mkdir(parents=True, exist_ok=True)\n",
    "data_filenames = glob.glob(data_dir + '/' + '*.root')\n",
    "\n",
    "# Get the original data.\n",
    "files = {name:rt.TFile(name,'READ') for name in data_filenames}\n",
    "\n",
    "# Some data files might be missing an EventTree.\n",
    "# For now, we will skip these because our methods count on an existing EventTree.\n",
    "delete_keys = []\n",
    "for key, val in files.items():\n",
    "    file_keys = [x.GetName() for x in val.GetListOfKeys()]\n",
    "    if('ClusterTree' not in file_keys or 'EventTree' not in file_keys):\n",
    "        delete_keys.append(key)\n",
    "\n",
    "for key in delete_keys: \n",
    "    if(skip_matching): continue\n",
    "    print('Ignoring file:',key,'(no EventTree/ClusterTree found).')\n",
    "    del files[key]\n",
    "\n",
    "# now we make a local copy of the files in the jet_data_dir, keeping only certain branches\n",
    "active_branches = {}\n",
    "active_branches['cluster'] = [\n",
    "    'runNumber',\n",
    "    'eventNumber',\n",
    "    'truthE',\n",
    "    'truthPt',\n",
    "    'truthEta',\n",
    "    'truthPhi',\n",
    "    'clusterIndex',\n",
    "    'nCluster',\n",
    "    'clusterE',\n",
    "    'clusterECalib',\n",
    "    'clusterPt',\n",
    "    'clusterEta',\n",
    "    'clusterPhi',\n",
    "    'cluster_nCells',\n",
    "    'cluster_ENG_CALIB_TOT',\n",
    "    'EMB1',\n",
    "    'EMB2',\n",
    "    'EMB3',\n",
    "    'TileBar0',\n",
    "    'TileBar1',\n",
    "    'TileBar2'\n",
    "]\n",
    "active_branches['event'] = [\n",
    "    'runNumber',\n",
    "    'eventNumber',\n",
    "    'nTruthPart',\n",
    "    'pdgId',\n",
    "    'truthPartPt',\n",
    "    'truthPartEta',\n",
    "    'truthPartPhi',\n",
    "    'truthPartE',\n",
    "    'clusterCount',\n",
    "    'nCluster',\n",
    "    'clusterE',\n",
    "    'clusterPt',\n",
    "    'clusterEta',\n",
    "    'clusterPhi',\n",
    "]\n",
    "\n",
    "tree_names = {'cluster':'ClusterTree','event':'EventTree'}\n",
    "data_filenames = []\n",
    "old_files = []\n",
    "\n",
    "l = len(files.keys())\n",
    "i = 0\n",
    "\n",
    "if(not skip_matching): qu.printProgressBarColor(i, l, prefix='Copying data files:', suffix='Complete', length=50)\n",
    "\n",
    "for path, tfile in files.items():\n",
    "    if(skip_matching): continue\n",
    "    filename_new = jet_data_dir + '/' + path.split('/')[-1]\n",
    "    \n",
    "    if(not file_overwrite):\n",
    "        if(Path(filename_new).is_file()):\n",
    "            i+=1\n",
    "            qu.printProgressBarColor(i, l, prefix='Copying data files:', suffix='Complete', length=50)\n",
    "            old_files.append(filename_new)\n",
    "            continue\n",
    "\n",
    "    old_trees = {x:tfile.Get(tree_names[x]) for x in tree_names.keys()}\n",
    "    \n",
    "    for key, tree in old_trees.items():\n",
    "        tree.SetBranchStatus('*',0)\n",
    "        for bname in active_branches[key]: tree.SetBranchStatus(bname,1)\n",
    "    \n",
    "    tfile_new = rt.TFile(filename_new,'RECREATE')\n",
    "    new_trees = {x:old_trees[x].CloneTree() for x in old_trees.keys()}\n",
    "    tfile_new.Write()\n",
    "    data_filenames.append(filename_new)\n",
    "    i += 1\n",
    "    qu.printProgressBarColor(i, l, prefix='Copying data files:', suffix='Complete', length=50)\n",
    "    del old_trees\n",
    "    del new_trees\n",
    " "
   ]
  },
  {
   "cell_type": "code",
   "execution_count": 5,
   "metadata": {},
   "outputs": [],
   "source": [
    "# if we are skipping matching, we assume that all the existing files are good to go \n",
    "if(skip_matching): data_filenames = glob.glob(jet_data_dir + '/*.root')"
   ]
  },
  {
   "cell_type": "code",
   "execution_count": 6,
   "metadata": {},
   "outputs": [],
   "source": [
    "# Access the files & trees with uproot\n",
    "tree_names = {'cluster':'ClusterTree','event':'EventTree'}\n",
    "ur_trees = {file:{tree_key:ur.open(file)[tree_name] for tree_key,tree_name in tree_names.items()} for file in data_filenames}"
   ]
  },
  {
   "cell_type": "code",
   "execution_count": 7,
   "metadata": {},
   "outputs": [],
   "source": [
    "@jit\n",
    "def dPhi(phi1, phi2):\n",
    "    dphi = phi2 - phi1\n",
    "    if(dphi > np.pi): dphi -= 2. * np.pi\n",
    "    elif(dphi < -np.pi): dphi += 2. * np.pi\n",
    "    return dphi\n",
    "\n",
    "@jit\n",
    "def dR(eta1,phi1,eta2,phi2):\n",
    "    return np.sqrt(np.power(eta2 - eta1, 2) + np.power(dPhi(phi1,phi2),2))"
   ]
  },
  {
   "cell_type": "code",
   "execution_count": 8,
   "metadata": {},
   "outputs": [
    {
     "name": "stdout",
     "output_type": "stream",
     "text": [
      "Matching topo-clusters to pions: |\u001b[32m█\u001b[0m\u001b[32m█\u001b[0m\u001b[32m█\u001b[0m\u001b[32m█\u001b[0m\u001b[32m█\u001b[0m\u001b[32m█\u001b[0m\u001b[32m█\u001b[0m\u001b[32m█\u001b[0m\u001b[32m█\u001b[0m\u001b[32m█\u001b[0m\u001b[32m█\u001b[0m\u001b[32m█\u001b[0m\u001b[32m█\u001b[0m\u001b[32m█\u001b[0m\u001b[32m█\u001b[0m\u001b[32m█\u001b[0m\u001b[32m█\u001b[0m\u001b[32m█\u001b[0m\u001b[32m█\u001b[0m\u001b[32m█\u001b[0m\u001b[32m█\u001b[0m\u001b[32m█\u001b[0m\u001b[32m█\u001b[0m\u001b[32m█\u001b[0m\u001b[32m█\u001b[0m\u001b[32m█\u001b[0m\u001b[32m█\u001b[0m\u001b[32m█\u001b[0m\u001b[32m█\u001b[0m\u001b[32m█\u001b[0m\u001b[32m█\u001b[0m\u001b[32m█\u001b[0m\u001b[32m█\u001b[0m\u001b[32m█\u001b[0m\u001b[32m█\u001b[0m\u001b[32m█\u001b[0m\u001b[32m█\u001b[0m\u001b[32m█\u001b[0m\u001b[32m█\u001b[0m\u001b[32m█\u001b[0m\u001b[32m█\u001b[0m\u001b[32m█\u001b[0m\u001b[32m█\u001b[0m\u001b[32m█\u001b[0m\u001b[32m█\u001b[0m\u001b[32m█\u001b[0m\u001b[32m█\u001b[0m\u001b[32m█\u001b[0m\u001b[32m█\u001b[0m\u001b[32m█\u001b[0m| 100.0% Complete\n"
     ]
    }
   ],
   "source": [
    "tree_name = 'SignalTree'\n",
    "tree_names['signal'] = tree_name\n",
    "\n",
    "i2 = 0\n",
    "prefix = 'Matching topo-clusters to pions:'\n",
    "l = 0\n",
    "for dfile, tree in ur_trees.items():\n",
    "    if(not file_overwrite and dfile in old_files): continue\n",
    "    nEvent = tree['event'].array('nCluster').shape[0]\n",
    "    l += nEvent\n",
    "if(l == 0):\n",
    "    l = 1\n",
    "    i2 = 1\n",
    "if(not skip_matching): qu.printProgressBarColor(i2, l, prefix=prefix, suffix='Complete', length=50)\n",
    "\n",
    "for dfile, tree in ur_trees.items():\n",
    "    if(skip_matching): continue\n",
    "    elif(not file_overwrite and dfile in old_files): continue\n",
    "    # get pdg codes and figure out which particles are pions\n",
    "    pdg = tree['event'].array('pdgId')\n",
    "    pions = (pdg == pdg_codes['pi0']) + (pdg == pdg_codes['piplus']) + (pdg == pdg_codes['piminus']) # TODO: make more Pythonesque\n",
    "    \n",
    "    # id, eta and phi of all pions in this file\n",
    "    pion_id  = pdg[pions]\n",
    "    pion_eta = tree['event'].array('truthPartEta')[pions]\n",
    "    pion_phi = tree['event'].array('truthPartPhi')[pions]\n",
    "    \n",
    "    # eta and phi of all clusters in this file\n",
    "    cluster_eta = tree['cluster'].array('clusterEta')\n",
    "    cluster_phi = tree['cluster'].array('clusterPhi')\n",
    "\n",
    "    # get number of clusters and events in the file\n",
    "    nCluster = tree['cluster'].array('clusterE').shape[0]\n",
    "    nEvent = tree['event'].array('nCluster').shape[0]\n",
    "    \n",
    "    # Make an array to fill with signal/background flags, for this file.\n",
    "    # One entry per cluster.\n",
    "    signal_flags = np.zeros(nCluster, dtype=np.dtype('i2'))\n",
    "    \n",
    "    # now we want to loop over events\n",
    "    for i in range(nEvent):\n",
    "        \n",
    "        # indices of first and last clusters in this event\n",
    "        ci = tree['event'].array('clusterCount')[i]\n",
    "        cf = ci + tree['event'].array('nCluster')[i] - 1\n",
    "        \n",
    "        # Loop over the clusters in this event, and match to the nearest pion. One pion can be associated with multiple topo-clusters.\n",
    "        for j in range(ci,cf+1):\n",
    "            distances = [dR(cluster_eta[j], cluster_phi[j], pion_eta[i,k],pion_eta[i,k]) for k in range(len(pion_eta[i]))]\n",
    "            min_k = np.argmin(distances)\n",
    "            code = pion_id[i,min_k]            \n",
    "            if((code == pdg_codes['piplus']) or (code == pdg_codes['piminus'])): signal_flags[j] = 1\n",
    "        i2 += 1  \n",
    "        qu.printProgressBarColor(i2, l, prefix=prefix, suffix='Complete', length=50)\n",
    "        \n",
    "    # now add the signal flags to the file, in a new TTree\n",
    "    f = rt.TFile(dfile,'UPDATE')\n",
    "    t = rt.TTree(tree_name,tree_name)\n",
    "    branch_buffer = np.zeros(1,dtype=np.dtype('i2'))\n",
    "    t.Branch('signalFlag',branch_buffer,'signalFlag/S')\n",
    "    \n",
    "    for i in range(len(signal_flags)):\n",
    "        branch_buffer[0] = signal_flags[i]\n",
    "        t.Fill()\n",
    "        \n",
    "    t.Write()\n",
    "    f.Close()\n",
    "    "
   ]
  },
  {
   "cell_type": "code",
   "execution_count": 9,
   "metadata": {},
   "outputs": [],
   "source": [
    "data_filenames += old_files\n",
    "# refresh our uproot trees, adding access to SignalTree\n",
    "ur_trees = {file:{tree_key:ur.open(file)[tree_name] for tree_key,tree_name in tree_names.items()} for file in data_filenames}"
   ]
  },
  {
   "cell_type": "markdown",
   "metadata": {},
   "source": [
    "Now we want to make files for `pi0`, and `piminus` + `piplus`."
   ]
  },
  {
   "cell_type": "code",
   "execution_count": 10,
   "metadata": {},
   "outputs": [],
   "source": [
    "#piplus.root will also contain piminus entries\n",
    "flags = {\n",
    "    'pi0':0,\n",
    "    'piplus':1\n",
    "}"
   ]
  },
  {
   "cell_type": "code",
   "execution_count": 11,
   "metadata": {},
   "outputs": [
    {
     "name": "stdout",
     "output_type": "stream",
     "text": [
      "hadd /local/home/jano/ml4pions/LCStudies/jets/../jets/training/pi0.root /local/home/jano/ml4pions/LCStudies/jets/../jets/training/pi0*.root\n",
      "rm /local/home/jano/ml4pions/LCStudies/jets/../jets/training/pi0*_*.root\n",
      "hadd /local/home/jano/ml4pions/LCStudies/jets/../jets/training/piplus.root /local/home/jano/ml4pions/LCStudies/jets/../jets/training/piplus*.root\n",
      "rm /local/home/jano/ml4pions/LCStudies/jets/../jets/training/piplus*_*.root\n",
      "hadd Target file: /local/home/jano/ml4pions/LCStudies/jets/../jets/training/pi0.root\n",
      "hadd compression setting for all output: 1\n",
      "hadd Source file 1: /local/home/jano/ml4pions/LCStudies/jets/../jets/training/pi0_0.root\n",
      "hadd Source file 2: /local/home/jano/ml4pions/LCStudies/jets/../jets/training/pi0_1.root\n",
      "hadd Source file 3: /local/home/jano/ml4pions/LCStudies/jets/../jets/training/pi0_2.root\n",
      "hadd Source file 4: /local/home/jano/ml4pions/LCStudies/jets/../jets/training/pi0_3.root\n",
      "hadd Source file 5: /local/home/jano/ml4pions/LCStudies/jets/../jets/training/pi0_4.root\n",
      "hadd Source file 6: /local/home/jano/ml4pions/LCStudies/jets/../jets/training/pi0_5.root\n",
      "hadd Source file 7: /local/home/jano/ml4pions/LCStudies/jets/../jets/training/pi0_6.root\n",
      "hadd Target path: /local/home/jano/ml4pions/LCStudies/jets/../jets/training/pi0.root:/\n",
      "hadd Target file: /local/home/jano/ml4pions/LCStudies/jets/../jets/training/piplus.root\n",
      "hadd compression setting for all output: 1\n",
      "hadd Source file 1: /local/home/jano/ml4pions/LCStudies/jets/../jets/training/piplus_0.root\n",
      "hadd Source file 2: /local/home/jano/ml4pions/LCStudies/jets/../jets/training/piplus_1.root\n",
      "hadd Source file 3: /local/home/jano/ml4pions/LCStudies/jets/../jets/training/piplus_2.root\n",
      "hadd Source file 4: /local/home/jano/ml4pions/LCStudies/jets/../jets/training/piplus_3.root\n",
      "hadd Source file 5: /local/home/jano/ml4pions/LCStudies/jets/../jets/training/piplus_4.root\n",
      "hadd Source file 6: /local/home/jano/ml4pions/LCStudies/jets/../jets/training/piplus_5.root\n",
      "hadd Source file 7: /local/home/jano/ml4pions/LCStudies/jets/../jets/training/piplus_6.root\n",
      "hadd Target path: /local/home/jano/ml4pions/LCStudies/jets/../jets/training/piplus.root:/\n"
     ]
    }
   ],
   "source": [
    "i = 0\n",
    "for dfile in ur_trees.keys():\n",
    "    f = rt.TFile(dfile,'READ')\n",
    "    t1 = f.Get('ClusterTree')\n",
    "    t2 = f.Get('SignalTree')\n",
    "    t1.AddFriend(t2) # make trees friends, so that we can use signalFlag selections on ClusterTree\n",
    "    \n",
    "    # Now make a new file to copy events into. One for signal (piplus), one for background (pi0).\n",
    "    for key, flag in flags.items():\n",
    "        g = rt.TFile(jet_data_dir + '/' + key + '_' + str(i) + '.root','RECREATE')\n",
    "        g.cd()\n",
    "        t3 = t1.CopyTree('signalFlag == ' + str(flag)) # now copy tree with selections directly to file (not into memory!!!)\n",
    "        t3.Write()\n",
    "        g.Close()\n",
    "    \n",
    "    f.Close()\n",
    "    i += 1\n",
    "\n",
    "# now combine all the pi0 and piplus/piminus files, using ROOT's hadd utility\n",
    "command = 'hadd Y/X.root Y/X*.root'\n",
    "command = command.replace('Y',jet_data_dir)\n",
    "for key in flags.keys():\n",
    "    comm = command.replace('X',key)\n",
    "    sub.check_call(comm,shell=True)\n",
    "    comm2 = 'rm Y/X*_*.root'.replace('Y',jet_data_dir).replace('X',key)\n",
    "    sub.check_call(comm2,shell=True)"
   ]
  },
  {
   "cell_type": "markdown",
   "metadata": {},
   "source": [
    "Now, we probably want to slim down our training files, otherwise we will be testing on all the same data we're training on (and that'll be a textbook example of over-fitting). Ideally we'd totally separate training and testing data, but I'll save that for another time..."
   ]
  },
  {
   "cell_type": "markdown",
   "metadata": {},
   "source": [
    "We may also want to ensure that we have the same number of signal and background events. This was not the case for our original data, and it may have some effect on classification (at least making it a 50/50 split will make it easier to read off accuracy)."
   ]
  },
  {
   "cell_type": "markdown",
   "metadata": {},
   "source": [
    "First, let's make some kinematic plots."
   ]
  },
  {
   "cell_type": "code",
   "execution_count": 12,
   "metadata": {},
   "outputs": [],
   "source": [
    "training_files = list(flags.keys())\n",
    "training_files = [jet_data_dir + '/' + x + '.root' for x in training_files]"
   ]
  },
  {
   "cell_type": "code",
   "execution_count": 14,
   "metadata": {},
   "outputs": [
    {
     "data": {
      "image/png": "[encoded data removed]",
      "text/plain": [
       "<IPython.core.display.Image object>"
      ]
     },
     "metadata": {},
     "output_type": "display_data"
    }
   ],
   "source": [
    "rt.gStyle.SetOptStat(0)\n",
    "c = rt.TCanvas(str(uuid.uuid4()),'c',800,600)\n",
    "leg = rt.TLegend(0.65,0.7,0.9,0.9)\n",
    "hists = []\n",
    "for file in training_files:\n",
    "    h = rt.TH1F(str(uuid.uuid4()), file,20,0.,20.)\n",
    "    f = rt.TFile(file,'READ')\n",
    "    t = f.Get('ClusterTree')\n",
    "    n = t.GetEntries()\n",
    "    for i in range(n):\n",
    "        t.GetEntry(i)\n",
    "        h.Fill(t.cluster_ENG_CALIB_TOT)\n",
    "    f.Close()\n",
    "    hists.append(h)\n",
    "    \n",
    "colors = (rt.kRed, rt.kBlue)\n",
    "labels = ('#pi^{0}','#pi^{#pm}')\n",
    "for i in range(len(hists)):\n",
    "    hists[i].SetLineColor(colors[i])\n",
    "    hists[i].SetFillColorAlpha(colors[i], 0.5)\n",
    "    leg.AddEntry(hists[i],labels[i],'f')\n",
    "\n",
    "stack = rt.THStack(str(uuid.uuid4()),';E_{calib}^{tot};Count')\n",
    "for hist in hists: stack.Add(hist)\n",
    "\n",
    "c.cd()\n",
    "c.SetLogy()\n",
    "stack.Draw('NOSTACK HIST')\n",
    "leg.Draw()\n",
    "c.Draw()"
   ]
  },
  {
   "cell_type": "markdown",
   "metadata": {},
   "source": [
    "Based on all this, we can come up with at least $3$ different strategies for selecting the training data:\n",
    "\n",
    "    1) Just take all of the data -- don't worry about overtraining (`strat` = 1).\n",
    "\n",
    "    2) Take some randomized subset of the data, don't worry about kinematics (`strat = 2).\n",
    "    \n",
    "    3) Take some randomized subset of the data, where it has been binned in $E_\\text{calib}^\\text{tot}$, with an equal number of events from each bin.\n",
    "    \n",
    "The third option seems most appealing to me, but from the above we see that the number of events decreases very quickly as a function of $E_\\text{calib}^\\text{tot}$, so that with equal-width bins we would end up with a very small number of events if we don't drop higher values of $E_\\text{calib}^\\text{tot}$."
   ]
  },
  {
   "cell_type": "code",
   "execution_count": 15,
   "metadata": {},
   "outputs": [],
   "source": [
    "nentries = 300000 # we have far more signal and background than this, so it's a safe pick\n",
    "strat = 2"
   ]
  },
  {
   "cell_type": "code",
   "execution_count": 16,
   "metadata": {},
   "outputs": [],
   "source": [
    "if(strat == 1):\n",
    "    for file in training_files:\n",
    "        f = rt.TFile(file,'READ')\n",
    "        t = f.Get('ClusterTree')\n",
    "        t.SetBranchStatus('*',1)\n",
    "        file2 = file.replace('.root','_new.root')\n",
    "        g = rt.TFile(file2,'RECREATE')\n",
    "        t2 = t.CloneTree(nentries)\n",
    "        t2.Write()\n",
    "        g.Close()\n",
    "        f.Close()\n",
    "        sub.check_call('rm X'.replace('X',file),shell=True)\n",
    "        sub.check_call('mv X Y'.replace('X',file2).replace('Y',file),shell=True)\n",
    "\n",
    "if(strat == 2):\n",
    "    # make sure we're not taking too many entries\n",
    "    for file in training_files:\n",
    "        f = rt.TFile(file,'READ')\n",
    "        t = f.Get('ClusterTree')\n",
    "        n = t.GetEntries()\n",
    "        f.Close()\n",
    "        assert(n >= nentries)\n",
    "    \n",
    "    # now we'll *randomly* copy entries\n",
    "    for file in training_files:\n",
    "        f = rt.TFile(file,'READ')\n",
    "        t = f.Get('ClusterTree')\n",
    "        n = t.GetEntries()\n",
    "    \n",
    "        indices = np.sort(np.random.choice(n,nentries,replace=False))\n",
    "    \n",
    "        file2 = file.replace('.root','_new.root')\n",
    "        g = rt.TFile(file2,'RECREATE')\n",
    "        t2 = t.CloneTree(0)\n",
    "    \n",
    "        for idx in indices:\n",
    "            t.GetEntry(idx)\n",
    "            t2.Fill()\n",
    "        \n",
    "        t2.Write()\n",
    "        g.Close()\n",
    "        f.Close()\n",
    "        sub.check_call('rm X'.replace('X',file),shell=True)\n",
    "        sub.check_call('mv X Y'.replace('X',file2).replace('Y',file),shell=True)    "
   ]
  },
  {
   "cell_type": "markdown",
   "metadata": {},
   "source": [
    "Now, let's inspect the files we've created. (We can also do this without having run the above code, if the files are already there)."
   ]
  },
  {
   "cell_type": "code",
   "execution_count": 7,
   "metadata": {},
   "outputs": [],
   "source": [
    "path_prefix = os.getcwd() + '/../'\n",
    "jet_data_dir = path_prefix + 'jets/training'\n",
    "keys = ['p0','pp']\n",
    "rfiles = {\n",
    "    'p0':'pi0.root',\n",
    "    'pp': 'piplus.root'\n",
    "}\n",
    "for key in rfiles.keys(): rfiles[key] = jet_data_dir + '/' + rfiles[key]\n",
    "ur_trees = {key: ur.open(file)['ClusterTree'] for key,file in rfiles.items()}"
   ]
  },
  {
   "cell_type": "markdown",
   "metadata": {},
   "source": [
    "Let's plot the average calorimeter images."
   ]
  },
  {
   "cell_type": "code",
   "execution_count": 17,
   "metadata": {},
   "outputs": [],
   "source": [
    "# metadata\n",
    "layers = [\"EMB1\", \"EMB2\", \"EMB3\", \"TileBar0\", \"TileBar1\", \"TileBar2\"]\n",
    "cell_size_phi = [0.098, 0.0245, 0.0245, 0.1, 0.1, 0.1]\n",
    "cell_size_eta = [0.0031, 0.025, 0.05, 0.1, 0.1, 0.2]\n",
    "len_phi = [4, 16, 16, 4, 4, 4]\n",
    "len_eta = [128, 16, 8, 4, 4, 2]"
   ]
  },
  {
   "cell_type": "code",
   "execution_count": 18,
   "metadata": {},
   "outputs": [],
   "source": [
    "def RN():\n",
    "    return str(uuid.uuid4())"
   ]
  },
  {
   "cell_type": "code",
   "execution_count": 25,
   "metadata": {},
   "outputs": [
    {
     "data": {
      "image/png": "[encoded data removed]",
      "text/plain": [
       "<IPython.core.display.Image object>"
      ]
     },
     "metadata": {},
     "output_type": "display_data"
    },
    {
     "data": {
      "image/png": "[encoded data removed]",
      "text/plain": [
       "<IPython.core.display.Image object>"
      ]
     },
     "metadata": {},
     "output_type": "display_data"
    }
   ],
   "source": [
    "rt.gStyle.SetOptStat(0)\n",
    "plot_size = 500\n",
    "nx = 3\n",
    "ny = 2\n",
    "\n",
    "canvases = []\n",
    "hists = []\n",
    "for key in ur_trees.keys():\n",
    "    \n",
    "    canv = rt.TCanvas(RN(),'c',plot_size * nx, plot_size * ny)\n",
    "    canv.Divide(3,2)\n",
    "    for i, layer in enumerate(layers):\n",
    "        canv.cd(i+1)\n",
    "        vals = ur_trees[key].array(layer)\n",
    "        \n",
    "        n_images, l_eta, l_phi = vals.shape\n",
    "        avg_image = np.mean(vals,axis=0)\n",
    "        \n",
    "        eta_width = cell_size_eta[i] * l_eta\n",
    "        phi_width = cell_size_phi[i] * l_phi\n",
    "    \n",
    "        h = rt.TH2F(RN(),layer + ';#eta;#phi',l_eta, -0.5 * eta_width, 0.5 * eta_width, l_phi, -0.5 * phi_width, 0.5 * phi_width)\n",
    "        \n",
    "        for j in range(l_eta):\n",
    "            for k in range(l_phi):\n",
    "                h.SetBinContent(j,k,avg_image[j,k])\n",
    "                \n",
    "        rt.gPad.SetRightMargin(0.2)\n",
    "        rt.gPad.SetLogz()\n",
    "        h.Draw('COLZ')\n",
    "        hists.append(h)\n",
    "    \n",
    "    canv.Draw()\n",
    "    canvases.append(canv)"
   ]
  },
  {
   "cell_type": "code",
   "execution_count": null,
   "metadata": {},
   "outputs": [],
   "source": []
  }
 ],
 "metadata": {
  "kernelspec": {
   "display_name": "Python 3",
   "language": "python",
   "name": "python3"
  },
  "language_info": {
   "codemirror_mode": {
    "name": "ipython",
    "version": 3
   },
   "file_extension": ".py",
   "mimetype": "text/x-python",
   "name": "python",
   "nbconvert_exporter": "python",
   "pygments_lexer": "ipython3",
   "version": "3.8.6"
  }
 },
 "nbformat": 4,
 "nbformat_minor": 4
}
