{
 "cells": [
  {
   "cell_type": "markdown",
   "id": "7b26133b-a0c0-460d-b88f-e3f9909fe505",
   "metadata": {},
   "source": [
    "Could just use this to test some more models etc, make it a little cleaner now that I have a utils thing with all the functions I need\n"
   ]
  },
  {
   "cell_type": "code",
   "execution_count": 1,
   "id": "1572e0ae-8df7-448f-ac15-2afc8ba140fd",
   "metadata": {},
   "outputs": [],
   "source": [
    "#imports\n",
    "import uproot as ur\n",
    "import awkward as ak\n",
    "import numpy as np\n",
    "\n",
    "import os\n",
    "os.environ['CUDA_VISIBLE_DEVICES'] = \"2\" #specify GPU\n",
    "os.environ['TF_FORCE_GPU_ALLOW_GROWTH'] = 'true'\n",
    "\n",
    "import tensorflow as tf\n",
    "\n",
    "# energyflow imports\n",
    "import energyflow as ef\n",
    "from energyflow.archs import PFN\n",
    "from energyflow.utils import data_split\n",
    "\n",
    "from sklearn.metrics import roc_auc_score, roc_curve\n",
    "import matplotlib.pyplot as plt\n",
    "\n",
    "import graph_util as gu\n",
    "import plot_util as pu\n",
    "\n",
    "from scipy.interpolate import interp1d\n",
    "from Week7_PFNutils import *"
   ]
  },
  {
   "cell_type": "code",
   "execution_count": 2,
   "id": "6a87b3fd-c192-4428-becb-1c5251cb9dc8",
   "metadata": {},
   "outputs": [],
   "source": [
    "data_path = '/fast_scratch/atlas_images/v01-45/' \n",
    "file = np.load(data_path+'nn_splitdata_w7_2.npz')"
   ]
  },
  {
   "cell_type": "code",
   "execution_count": null,
   "id": "d01ab621-652a-451c-9570-c5eb56527855",
   "metadata": {},
   "outputs": [],
   "source": [
    "X_train = file['arr_0']\n",
    "X_val = file['arr_1']\n",
    "X_test = file['arr_2']\n",
    "Y_train = file['arr_3']\n",
    "Y_val = file['arr_4']\n",
    "Y_test = file['arr_5']\n",
    "eta_train = file['arr_6']\n",
    "eta_test = file['arr_8']\n",
    "ET_train = file['arr_9']\n",
    "ET_test = file['arr_11']\n",
    "Pt_train = file['arr_12']\n",
    "Pt_test = file['arr_14']\n",
    "Eng_train = file['arr_15']\n",
    "Eng_test = file['arr_17']"
   ]
  },
  {
   "cell_type": "code",
   "execution_count": null,
   "id": "8d6d079f-c9b5-4ac0-8186-e457cbd7daaf",
   "metadata": {},
   "outputs": [],
   "source": [
    "#should have been using the log actually\n",
    "X_glob_train_Lpt = np.stack((np.array(eta_train), np.log10(Pt_train)), axis=1)\n",
    "X_glob_vali_Lpt = np.stack((np.array(eta_val), np.log10(Pt_val)), axis=1)\n",
    "X_glob_test_Lpt = np.stack((np.array(eta_test), np.log10(Pt_test)), axis=1)\n",
    "\n",
    "#same here\n",
    "X_glob_train_LE = np.stack((np.array(eta_train), np.log10(Eng_train)), axis=1)\n",
    "X_glob_vali_LE = np.stack((np.array(eta_val), np.log10(Eng_val)), axis=1)\n",
    "X_glob_test_LE = np.stack((np.array(eta_test), np.log10(Eng_test)), axis=1)"
   ]
  },
  {
   "cell_type": "code",
   "execution_count": null,
   "id": "a89b94c8-3b73-4e10-807a-5d72b748eb9e",
   "metadata": {},
   "outputs": [],
   "source": []
  }
 ],
 "metadata": {
  "kernelspec": {
   "display_name": "Python 3",
   "language": "python",
   "name": "python3"
  },
  "language_info": {
   "codemirror_mode": {
    "name": "ipython",
    "version": 3
   },
   "file_extension": ".py",
   "mimetype": "text/x-python",
   "name": "python",
   "nbconvert_exporter": "python",
   "pygments_lexer": "ipython3",
   "version": "3.8.5"
  }
 },
 "nbformat": 4,
 "nbformat_minor": 5
}
