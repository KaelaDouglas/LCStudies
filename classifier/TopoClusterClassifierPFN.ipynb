{
 "cells": [
  {
   "cell_type": "code",
   "execution_count": 1,
   "metadata": {},
   "outputs": [],
   "source": [
    "%load_ext autoreload\n",
    "%autoreload 2\n",
    "\n",
    "import uproot as ur\n",
    "import awkward as ak\n",
    "import numpy as np\n",
    "\n",
    "mac = False\n",
    "\n",
    "data_path = '/fast_scratch/atlas_images/v01-45/'\n",
    "if mac:\n",
    "    data_path = '/Users/swiatlow/Data/caloml/graph_data/'"
   ]
  },
  {
   "cell_type": "code",
   "execution_count": 2,
   "metadata": {},
   "outputs": [],
   "source": [
    "import os\n",
    "os.environ['CUDA_VISIBLE_DEVICES'] = \"2\"\n",
    "os.environ['TF_FORCE_GPU_ALLOW_GROWTH'] = 'true'"
   ]
  },
  {
   "cell_type": "code",
   "execution_count": 3,
   "metadata": {},
   "outputs": [],
   "source": [
    "import tensorflow as tf\n",
    "\n",
    "# energyflow imports\n",
    "import energyflow as ef\n",
    "from energyflow.archs import PFN\n",
    "\n",
    "from sklearn.metrics import roc_auc_score, roc_curve\n",
    "import matplotlib.pyplot as plt"
   ]
  },
  {
   "cell_type": "code",
   "execution_count": 4,
   "metadata": {},
   "outputs": [],
   "source": [
    "X = np.load(data_path+'X_4.npy')"
   ]
  },
  {
   "cell_type": "code",
   "execution_count": 6,
   "metadata": {},
   "outputs": [],
   "source": [
    "Y = tf.keras.utils.to_categorical(np.concatenate((np.ones(90000), np.zeros(90000)))) #one hot"
   ]
  },
  {
   "cell_type": "code",
   "execution_count": 7,
   "metadata": {},
   "outputs": [],
   "source": [
    "Phi_sizes, F_sizes = (100, 100, 128), (100, 100, 100)\n"
   ]
  },
  {
   "cell_type": "code",
   "execution_count": 8,
   "metadata": {},
   "outputs": [
    {
     "name": "stdout",
     "output_type": "stream",
     "text": [
      "Done train/val/test split\n"
     ]
    }
   ],
   "source": [
    "from energyflow.utils import data_split\n",
    "\n",
    "# do train/val/test split \n",
    "(X_train, X_val, X_test, Y_train, Y_val, Y_test) = data_split(X, Y, val=10000, test=40000)\n",
    "\n",
    "print('Done train/val/test split')"
   ]
  },
  {
   "cell_type": "code",
   "execution_count": 9,
   "metadata": {},
   "outputs": [
    {
     "name": "stdout",
     "output_type": "stream",
     "text": [
      "Model: \"model\"\n",
      "__________________________________________________________________________________________________\n",
      "Layer (type)                    Output Shape         Param #     Connected to                     \n",
      "==================================================================================================\n",
      "input (InputLayer)              [(None, None, 4)]    0                                            \n",
      "__________________________________________________________________________________________________\n",
      "tdist_0 (TimeDistributed)       (None, None, 100)    500         input[0][0]                      \n",
      "__________________________________________________________________________________________________\n",
      "activation (Activation)         (None, None, 100)    0           tdist_0[0][0]                    \n",
      "__________________________________________________________________________________________________\n",
      "tdist_1 (TimeDistributed)       (None, None, 100)    10100       activation[0][0]                 \n",
      "__________________________________________________________________________________________________\n",
      "activation_1 (Activation)       (None, None, 100)    0           tdist_1[0][0]                    \n",
      "__________________________________________________________________________________________________\n",
      "tdist_2 (TimeDistributed)       (None, None, 128)    12928       activation_1[0][0]               \n",
      "__________________________________________________________________________________________________\n",
      "mask (Lambda)                   (None, None)         0           input[0][0]                      \n",
      "__________________________________________________________________________________________________\n",
      "activation_2 (Activation)       (None, None, 128)    0           tdist_2[0][0]                    \n",
      "__________________________________________________________________________________________________\n",
      "sum (Dot)                       (None, 128)          0           mask[0][0]                       \n",
      "                                                                 activation_2[0][0]               \n",
      "__________________________________________________________________________________________________\n",
      "dense_0 (Dense)                 (None, 100)          12900       sum[0][0]                        \n",
      "__________________________________________________________________________________________________\n",
      "activation_3 (Activation)       (None, 100)          0           dense_0[0][0]                    \n",
      "__________________________________________________________________________________________________\n",
      "dense_1 (Dense)                 (None, 100)          10100       activation_3[0][0]               \n",
      "__________________________________________________________________________________________________\n",
      "activation_4 (Activation)       (None, 100)          0           dense_1[0][0]                    \n",
      "__________________________________________________________________________________________________\n",
      "dense_2 (Dense)                 (None, 100)          10100       activation_4[0][0]               \n",
      "__________________________________________________________________________________________________\n",
      "activation_5 (Activation)       (None, 100)          0           dense_2[0][0]                    \n",
      "__________________________________________________________________________________________________\n",
      "output (Dense)                  (None, 2)            202         activation_5[0][0]               \n",
      "__________________________________________________________________________________________________\n",
      "activation_6 (Activation)       (None, 2)            0           output[0][0]                     \n",
      "==================================================================================================\n",
      "Total params: 56,830\n",
      "Trainable params: 56,830\n",
      "Non-trainable params: 0\n",
      "__________________________________________________________________________________________________\n"
     ]
    }
   ],
   "source": [
    "pfn = PFN(input_dim=X.shape[-1], Phi_sizes=Phi_sizes, F_sizes=F_sizes)\n"
   ]
  },
  {
   "cell_type": "code",
   "execution_count": 10,
   "metadata": {},
   "outputs": [
    {
     "name": "stdout",
     "output_type": "stream",
     "text": [
      "Epoch 1/100\n",
      "260/260 [==============================] - 19s 63ms/step - loss: 11.3290 - acc: 0.6970 - val_loss: 0.5676 - val_acc: 0.7351\n",
      "Epoch 2/100\n",
      "260/260 [==============================] - 15s 57ms/step - loss: 0.7830 - acc: 0.7451 - val_loss: 0.4937 - val_acc: 0.7929\n",
      "Epoch 3/100\n",
      "260/260 [==============================] - 14s 55ms/step - loss: 0.5057 - acc: 0.7683 - val_loss: 0.5676 - val_acc: 0.6609\n",
      "Epoch 4/100\n",
      "260/260 [==============================] - 14s 54ms/step - loss: 0.4934 - acc: 0.7597 - val_loss: 0.5592 - val_acc: 0.6787\n",
      "Epoch 5/100\n",
      "260/260 [==============================] - 14s 54ms/step - loss: 0.4612 - acc: 0.7753 - val_loss: 0.4031 - val_acc: 0.8023\n",
      "Epoch 6/100\n",
      "260/260 [==============================] - 14s 55ms/step - loss: 0.4138 - acc: 0.7985 - val_loss: 0.3751 - val_acc: 0.8219\n",
      "Epoch 7/100\n",
      "260/260 [==============================] - 14s 54ms/step - loss: 0.3948 - acc: 0.8153 - val_loss: 0.3618 - val_acc: 0.8346\n",
      "Epoch 8/100\n",
      "260/260 [==============================] - 14s 55ms/step - loss: 0.3726 - acc: 0.8329 - val_loss: 0.3195 - val_acc: 0.8754\n",
      "Epoch 9/100\n",
      "260/260 [==============================] - 14s 55ms/step - loss: 0.3661 - acc: 0.8458 - val_loss: 0.3106 - val_acc: 0.8702\n",
      "Epoch 10/100\n",
      "260/260 [==============================] - 14s 55ms/step - loss: 0.3294 - acc: 0.8626 - val_loss: 0.3024 - val_acc: 0.8814\n",
      "Epoch 11/100\n",
      "260/260 [==============================] - 14s 55ms/step - loss: 0.3560 - acc: 0.8504 - val_loss: 0.2909 - val_acc: 0.8821\n",
      "Epoch 12/100\n",
      "260/260 [==============================] - 14s 55ms/step - loss: 0.3006 - acc: 0.8830 - val_loss: 0.3297 - val_acc: 0.8733\n",
      "Epoch 13/100\n",
      "260/260 [==============================] - 14s 55ms/step - loss: 0.2786 - acc: 0.8903 - val_loss: 0.2464 - val_acc: 0.9014\n",
      "Epoch 14/100\n",
      "260/260 [==============================] - 14s 53ms/step - loss: 0.2554 - acc: 0.9012 - val_loss: 0.2359 - val_acc: 0.9110\n",
      "Epoch 15/100\n",
      "260/260 [==============================] - 14s 53ms/step - loss: 0.2517 - acc: 0.9030 - val_loss: 0.2431 - val_acc: 0.9043\n",
      "Epoch 16/100\n",
      "260/260 [==============================] - 14s 56ms/step - loss: 0.2516 - acc: 0.9031 - val_loss: 0.2488 - val_acc: 0.9081\n",
      "Epoch 17/100\n",
      "260/260 [==============================] - 14s 55ms/step - loss: 0.2426 - acc: 0.9067 - val_loss: 0.2269 - val_acc: 0.9117\n",
      "Epoch 18/100\n",
      "260/260 [==============================] - 14s 56ms/step - loss: 0.2316 - acc: 0.9108 - val_loss: 0.2248 - val_acc: 0.9133\n",
      "Epoch 19/100\n",
      "260/260 [==============================] - 14s 54ms/step - loss: 0.2380 - acc: 0.9083 - val_loss: 0.2115 - val_acc: 0.9193\n",
      "Epoch 20/100\n",
      "260/260 [==============================] - 14s 55ms/step - loss: 0.2294 - acc: 0.9124 - val_loss: 0.2228 - val_acc: 0.9164\n",
      "Epoch 21/100\n",
      "260/260 [==============================] - 14s 54ms/step - loss: 0.2303 - acc: 0.9116 - val_loss: 0.2208 - val_acc: 0.9122\n",
      "Epoch 22/100\n",
      "260/260 [==============================] - 15s 56ms/step - loss: 0.2311 - acc: 0.9130 - val_loss: 0.2113 - val_acc: 0.9211\n",
      "Epoch 23/100\n",
      "260/260 [==============================] - 14s 54ms/step - loss: 0.2252 - acc: 0.9157 - val_loss: 0.2115 - val_acc: 0.9223\n",
      "Epoch 24/100\n",
      "260/260 [==============================] - 14s 55ms/step - loss: 0.2226 - acc: 0.9146 - val_loss: 0.2315 - val_acc: 0.9100\n",
      "Epoch 25/100\n",
      "260/260 [==============================] - 14s 55ms/step - loss: 0.2234 - acc: 0.9161 - val_loss: 0.2358 - val_acc: 0.9123\n",
      "Epoch 26/100\n",
      "260/260 [==============================] - 14s 54ms/step - loss: 0.2216 - acc: 0.9164 - val_loss: 0.2355 - val_acc: 0.9118\n",
      "Epoch 27/100\n",
      "260/260 [==============================] - 14s 53ms/step - loss: 0.2243 - acc: 0.9144 - val_loss: 0.2090 - val_acc: 0.9177\n",
      "Epoch 28/100\n",
      "260/260 [==============================] - 14s 54ms/step - loss: 0.2179 - acc: 0.9186 - val_loss: 0.2028 - val_acc: 0.9248\n",
      "Epoch 29/100\n",
      "260/260 [==============================] - 14s 55ms/step - loss: 0.2155 - acc: 0.9194 - val_loss: 0.2183 - val_acc: 0.9151\n",
      "Epoch 30/100\n",
      "260/260 [==============================] - 14s 55ms/step - loss: 0.2131 - acc: 0.9192 - val_loss: 0.2060 - val_acc: 0.9213\n",
      "Epoch 31/100\n",
      "260/260 [==============================] - 14s 55ms/step - loss: 0.2473 - acc: 0.9142 - val_loss: 0.6276 - val_acc: 0.8020\n",
      "Epoch 32/100\n",
      "260/260 [==============================] - 14s 54ms/step - loss: 0.4708 - acc: 0.8210 - val_loss: 0.2530 - val_acc: 0.8984\n",
      "Epoch 33/100\n",
      "260/260 [==============================] - 14s 55ms/step - loss: 0.2582 - acc: 0.8995 - val_loss: 0.2261 - val_acc: 0.9170\n",
      "Epoch 34/100\n",
      "260/260 [==============================] - 14s 54ms/step - loss: 0.2367 - acc: 0.9082 - val_loss: 0.2218 - val_acc: 0.9151\n",
      "Epoch 35/100\n",
      "260/260 [==============================] - 15s 57ms/step - loss: 0.2254 - acc: 0.9136 - val_loss: 0.2099 - val_acc: 0.9216\n",
      "Epoch 36/100\n",
      "260/260 [==============================] - 15s 56ms/step - loss: 0.2221 - acc: 0.9144 - val_loss: 0.2094 - val_acc: 0.9202\n",
      "Epoch 37/100\n",
      "260/260 [==============================] - 15s 56ms/step - loss: 0.2207 - acc: 0.9159 - val_loss: 0.2085 - val_acc: 0.9206\n",
      "Epoch 38/100\n",
      "260/260 [==============================] - 14s 55ms/step - loss: 0.2182 - acc: 0.9168 - val_loss: 0.2232 - val_acc: 0.9131\n",
      "Epoch 39/100\n",
      "260/260 [==============================] - 15s 56ms/step - loss: 0.2182 - acc: 0.9163 - val_loss: 0.2046 - val_acc: 0.9231\n",
      "Epoch 40/100\n",
      "260/260 [==============================] - 14s 55ms/step - loss: 0.2099 - acc: 0.9199 - val_loss: 0.2042 - val_acc: 0.9246\n",
      "Epoch 41/100\n",
      "260/260 [==============================] - 15s 56ms/step - loss: 0.2107 - acc: 0.9198 - val_loss: 0.2085 - val_acc: 0.9216\n",
      "Epoch 42/100\n",
      "260/260 [==============================] - 14s 54ms/step - loss: 0.2113 - acc: 0.9189 - val_loss: 0.1953 - val_acc: 0.9280\n",
      "Epoch 43/100\n",
      "260/260 [==============================] - 14s 53ms/step - loss: 0.2084 - acc: 0.9209 - val_loss: 0.1957 - val_acc: 0.9266\n",
      "Epoch 44/100\n",
      "260/260 [==============================] - 14s 55ms/step - loss: 0.2094 - acc: 0.9215 - val_loss: 0.2007 - val_acc: 0.9248\n",
      "Epoch 45/100\n",
      "260/260 [==============================] - 14s 54ms/step - loss: 0.2051 - acc: 0.9230 - val_loss: 0.2070 - val_acc: 0.9191\n",
      "Epoch 46/100\n",
      "260/260 [==============================] - 14s 53ms/step - loss: 0.2050 - acc: 0.9228 - val_loss: 0.1942 - val_acc: 0.9280\n",
      "Epoch 47/100\n",
      "260/260 [==============================] - 14s 55ms/step - loss: 0.2021 - acc: 0.9251 - val_loss: 0.1896 - val_acc: 0.9306\n",
      "Epoch 48/100\n",
      "260/260 [==============================] - 14s 53ms/step - loss: 0.2051 - acc: 0.9239 - val_loss: 0.1999 - val_acc: 0.9276\n",
      "Epoch 49/100\n",
      "260/260 [==============================] - 14s 53ms/step - loss: 0.1983 - acc: 0.9270 - val_loss: 0.1903 - val_acc: 0.9284\n",
      "Epoch 50/100\n",
      "260/260 [==============================] - 14s 54ms/step - loss: 0.1982 - acc: 0.9270 - val_loss: 0.1924 - val_acc: 0.9264\n",
      "Epoch 51/100\n",
      "260/260 [==============================] - 14s 54ms/step - loss: 0.2012 - acc: 0.9253 - val_loss: 0.1995 - val_acc: 0.9240\n",
      "Epoch 52/100\n",
      "260/260 [==============================] - 14s 53ms/step - loss: 0.1992 - acc: 0.9261 - val_loss: 0.1931 - val_acc: 0.9282\n",
      "Epoch 53/100\n",
      "260/260 [==============================] - 15s 56ms/step - loss: 0.2012 - acc: 0.9253 - val_loss: 0.1892 - val_acc: 0.9311\n",
      "Epoch 54/100\n",
      "260/260 [==============================] - 15s 57ms/step - loss: 0.1972 - acc: 0.9267 - val_loss: 0.2024 - val_acc: 0.9254\n",
      "Epoch 55/100\n",
      "260/260 [==============================] - 14s 54ms/step - loss: 0.1969 - acc: 0.9273 - val_loss: 0.1912 - val_acc: 0.9302\n",
      "Epoch 56/100\n",
      "260/260 [==============================] - 14s 54ms/step - loss: 0.1973 - acc: 0.9267 - val_loss: 0.1885 - val_acc: 0.9296\n",
      "Epoch 57/100\n",
      "260/260 [==============================] - 14s 54ms/step - loss: 0.1974 - acc: 0.9270 - val_loss: 0.1865 - val_acc: 0.9301\n",
      "Epoch 58/100\n",
      "260/260 [==============================] - 14s 55ms/step - loss: 0.1941 - acc: 0.9282 - val_loss: 0.1889 - val_acc: 0.9294\n",
      "Epoch 59/100\n",
      "260/260 [==============================] - 14s 54ms/step - loss: 0.1949 - acc: 0.9275 - val_loss: 0.1882 - val_acc: 0.9302\n",
      "Epoch 60/100\n",
      "260/260 [==============================] - 14s 53ms/step - loss: 0.1911 - acc: 0.9293 - val_loss: 0.1867 - val_acc: 0.9309\n",
      "Epoch 61/100\n",
      "260/260 [==============================] - 14s 55ms/step - loss: 0.1919 - acc: 0.9289 - val_loss: 0.1887 - val_acc: 0.9301\n",
      "Epoch 62/100\n",
      "260/260 [==============================] - 14s 55ms/step - loss: 0.1941 - acc: 0.9282 - val_loss: 0.1879 - val_acc: 0.9297\n",
      "Epoch 63/100\n",
      "260/260 [==============================] - 14s 53ms/step - loss: 0.1924 - acc: 0.9290 - val_loss: 0.1865 - val_acc: 0.9320\n",
      "Epoch 64/100\n",
      "260/260 [==============================] - 14s 53ms/step - loss: 0.1948 - acc: 0.9283 - val_loss: 0.1844 - val_acc: 0.9310\n",
      "Epoch 65/100\n",
      "260/260 [==============================] - 14s 54ms/step - loss: 0.1927 - acc: 0.9293 - val_loss: 0.1905 - val_acc: 0.9290\n",
      "Epoch 66/100\n",
      "260/260 [==============================] - 14s 53ms/step - loss: 0.1933 - acc: 0.9292 - val_loss: 0.1840 - val_acc: 0.9320\n",
      "Epoch 67/100\n",
      "260/260 [==============================] - 14s 53ms/step - loss: 0.1931 - acc: 0.9283 - val_loss: 0.1826 - val_acc: 0.9323\n",
      "Epoch 68/100\n",
      "260/260 [==============================] - 14s 53ms/step - loss: 0.1919 - acc: 0.9284 - val_loss: 0.1850 - val_acc: 0.9308\n",
      "Epoch 69/100\n",
      "260/260 [==============================] - 14s 54ms/step - loss: 0.1874 - acc: 0.9301 - val_loss: 0.1842 - val_acc: 0.9324\n",
      "Epoch 70/100\n",
      "260/260 [==============================] - 14s 53ms/step - loss: 0.1869 - acc: 0.9304 - val_loss: 0.1846 - val_acc: 0.9317\n",
      "Epoch 71/100\n",
      "260/260 [==============================] - 14s 53ms/step - loss: 0.1920 - acc: 0.9289 - val_loss: 0.1841 - val_acc: 0.9335\n",
      "Epoch 72/100\n",
      "260/260 [==============================] - 14s 53ms/step - loss: 0.1888 - acc: 0.9312 - val_loss: 0.1988 - val_acc: 0.9287\n",
      "Epoch 73/100\n",
      "260/260 [==============================] - 14s 54ms/step - loss: 0.1909 - acc: 0.9294 - val_loss: 0.1873 - val_acc: 0.9302\n",
      "Epoch 74/100\n",
      "260/260 [==============================] - 14s 53ms/step - loss: 0.1891 - acc: 0.9305 - val_loss: 0.1899 - val_acc: 0.9296\n",
      "Epoch 75/100\n",
      "260/260 [==============================] - 14s 53ms/step - loss: 0.1926 - acc: 0.9284 - val_loss: 0.1880 - val_acc: 0.9285\n",
      "Epoch 76/100\n",
      "260/260 [==============================] - 14s 53ms/step - loss: 0.1863 - acc: 0.9306 - val_loss: 0.1828 - val_acc: 0.9315\n",
      "Epoch 77/100\n",
      "260/260 [==============================] - 14s 53ms/step - loss: 0.1825 - acc: 0.9328 - val_loss: 0.1825 - val_acc: 0.9313\n",
      "Epoch 78/100\n",
      "260/260 [==============================] - 14s 53ms/step - loss: 0.1870 - acc: 0.9302 - val_loss: 0.1804 - val_acc: 0.9322\n",
      "Epoch 79/100\n",
      "260/260 [==============================] - 14s 53ms/step - loss: 0.1849 - acc: 0.9324 - val_loss: 0.1939 - val_acc: 0.9300\n",
      "Epoch 80/100\n",
      "260/260 [==============================] - 14s 54ms/step - loss: 0.1864 - acc: 0.9320 - val_loss: 0.1843 - val_acc: 0.9304\n",
      "Epoch 81/100\n",
      "260/260 [==============================] - 14s 53ms/step - loss: 0.1855 - acc: 0.9322 - val_loss: 0.1883 - val_acc: 0.9310\n",
      "Epoch 82/100\n",
      "260/260 [==============================] - 14s 53ms/step - loss: 0.1859 - acc: 0.9306 - val_loss: 0.1867 - val_acc: 0.9318\n",
      "Epoch 83/100\n",
      "260/260 [==============================] - 14s 54ms/step - loss: 0.1848 - acc: 0.9312 - val_loss: 0.1882 - val_acc: 0.9298\n",
      "Epoch 84/100\n",
      "260/260 [==============================] - 14s 53ms/step - loss: 0.1849 - acc: 0.9321 - val_loss: 0.1835 - val_acc: 0.9318\n",
      "Epoch 85/100\n",
      "260/260 [==============================] - 14s 56ms/step - loss: 0.1850 - acc: 0.9323 - val_loss: 0.1798 - val_acc: 0.9330\n",
      "Epoch 86/100\n",
      "260/260 [==============================] - 14s 54ms/step - loss: 0.1821 - acc: 0.9326 - val_loss: 0.1817 - val_acc: 0.9332\n",
      "Epoch 87/100\n",
      "260/260 [==============================] - 14s 53ms/step - loss: 0.1833 - acc: 0.9320 - val_loss: 0.1830 - val_acc: 0.9318\n",
      "Epoch 88/100\n",
      "260/260 [==============================] - 14s 55ms/step - loss: 0.1839 - acc: 0.9322 - val_loss: 0.1843 - val_acc: 0.9332\n",
      "Epoch 89/100\n",
      "260/260 [==============================] - 14s 53ms/step - loss: 0.1835 - acc: 0.9317 - val_loss: 0.1825 - val_acc: 0.9320\n",
      "Epoch 90/100\n",
      "260/260 [==============================] - 14s 53ms/step - loss: 0.1808 - acc: 0.9327 - val_loss: 0.1841 - val_acc: 0.9336\n",
      "Epoch 91/100\n",
      "260/260 [==============================] - 14s 53ms/step - loss: 0.1830 - acc: 0.9326 - val_loss: 0.1805 - val_acc: 0.9337\n",
      "Epoch 92/100\n",
      "260/260 [==============================] - 14s 54ms/step - loss: 0.1805 - acc: 0.9341 - val_loss: 0.1793 - val_acc: 0.9343\n",
      "Epoch 93/100\n",
      "260/260 [==============================] - 14s 54ms/step - loss: 0.1794 - acc: 0.9334 - val_loss: 0.1824 - val_acc: 0.9322\n",
      "Epoch 94/100\n",
      "260/260 [==============================] - 14s 54ms/step - loss: 0.1780 - acc: 0.9345 - val_loss: 0.1826 - val_acc: 0.9325\n",
      "Epoch 95/100\n",
      "260/260 [==============================] - 14s 53ms/step - loss: 0.1810 - acc: 0.9326 - val_loss: 0.1805 - val_acc: 0.9333\n",
      "Epoch 96/100\n",
      "260/260 [==============================] - 14s 53ms/step - loss: 0.1766 - acc: 0.9351 - val_loss: 0.1822 - val_acc: 0.9317\n",
      "Epoch 97/100\n",
      "260/260 [==============================] - 14s 53ms/step - loss: 0.1803 - acc: 0.9338 - val_loss: 0.1822 - val_acc: 0.9321\n",
      "Epoch 98/100\n",
      "260/260 [==============================] - 14s 54ms/step - loss: 0.1775 - acc: 0.9346 - val_loss: 0.1795 - val_acc: 0.9325\n",
      "Epoch 99/100\n",
      "260/260 [==============================] - 14s 54ms/step - loss: 0.1790 - acc: 0.9344 - val_loss: 0.1776 - val_acc: 0.9329\n",
      "Epoch 100/100\n",
      "260/260 [==============================] - 14s 55ms/step - loss: 0.1787 - acc: 0.9339 - val_loss: 0.1810 - val_acc: 0.9326\n"
     ]
    }
   ],
   "source": [
    "# train model\n",
    "history = pfn.fit(X_train, Y_train, epochs=100, batch_size=500, validation_data=(X_val, Y_val), verbose=1)"
   ]
  },
  {
   "cell_type": "code",
   "execution_count": 11,
   "metadata": {},
   "outputs": [],
   "source": [
    "preds = pfn.predict(X_test, batch_size=1000)"
   ]
  },
  {
   "cell_type": "code",
   "execution_count": 12,
   "metadata": {},
   "outputs": [],
   "source": [
    "pfn_fp, pfn_tp, threshs = roc_curve(Y_test[:,1], preds[:,1])"
   ]
  },
  {
   "cell_type": "code",
   "execution_count": 13,
   "metadata": {},
   "outputs": [
    {
     "name": "stdout",
     "output_type": "stream",
     "text": [
      "\n",
      "PFN AUC: 0.977805777816481\n",
      "\n"
     ]
    }
   ],
   "source": [
    "# get area under the ROC curve\n",
    "auc = roc_auc_score(Y_test[:,1], preds[:,1])\n",
    "print()\n",
    "print('PFN AUC:', auc)\n",
    "print()"
   ]
  },
  {
   "cell_type": "code",
   "execution_count": 13,
   "metadata": {},
   "outputs": [],
   "source": [
    "#0.9683 with 3 var input\n",
    "#0.9761 with 4 var input, (50, 50, 64), (50, 50, 50)\n",
    "#0.9782 with 4 var input, (100, 100, 128), (100, 100, 100) space. evidence of some overtraining"
   ]
  },
  {
   "cell_type": "code",
   "execution_count": 14,
   "metadata": {},
   "outputs": [
    {
     "data": {
      "text/plain": [
       "<Figure size 432x288 with 0 Axes>"
      ]
     },
     "metadata": {},
     "output_type": "display_data"
    },
    {
     "data": {
      "image/png": "[encoded data removed]",
      "text/plain": [
       "<Figure size 432x288 with 1 Axes>"
      ]
     },
     "metadata": {},
     "output_type": "display_data"
    },
    {
     "data": {
      "image/png": "[encoded data removed]",
      "text/plain": [
       "<Figure size 432x288 with 1 Axes>"
      ]
     },
     "metadata": {},
     "output_type": "display_data"
    }
   ],
   "source": [
    "    plt.cla(); plt.clf()\n",
    "    fig = plt.figure()\n",
    "    fig.patch.set_facecolor('white')\n",
    "\n",
    "    plt.plot(history.history['acc'])\n",
    "    plt.plot(history.history['val_acc'])\n",
    "    plt.title('model accuracy')\n",
    "    plt.ylabel('accuracy')\n",
    "    plt.xlabel('epoch')\n",
    "    plt.legend(['train', 'test'], loc='upper left')\n",
    "    # plt.savefig('Plots/accuracy_' + layer + '.pdf')\n",
    "    plt.show()\n",
    "\n",
    "\n",
    "    # summarize history for loss\n",
    "    fig = plt.figure()\n",
    "    fig.patch.set_facecolor('white')\n",
    "    plt.plot(history.history['loss'])\n",
    "    plt.plot(history.history['val_loss'])\n",
    "    plt.title('model loss')\n",
    "    plt.ylabel('loss')\n",
    "    plt.xlabel('epoch')\n",
    "    plt.yscale('log')\n",
    "    plt.legend(['train', 'test'], loc='upper left')\n",
    "    # plt.savefig(plotpath + 'loss_' + layer + '.pdf')\n",
    "    plt.show()"
   ]
  },
  {
   "cell_type": "code",
   "execution_count": null,
   "metadata": {},
   "outputs": [],
   "source": []
  }
 ],
 "metadata": {
  "kernelspec": {
   "display_name": "Python 3",
   "language": "python",
   "name": "python3"
  },
  "language_info": {
   "codemirror_mode": {
    "name": "ipython",
    "version": 3
   },
   "file_extension": ".py",
   "mimetype": "text/x-python",
   "name": "python",
   "nbconvert_exporter": "python",
   "pygments_lexer": "ipython3",
   "version": "3.8.5"
  }
 },
 "nbformat": 4,
 "nbformat_minor": 4
}
