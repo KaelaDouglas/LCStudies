{
 "cells": [
  {
   "cell_type": "code",
   "execution_count": 1,
   "id": "1b27b045-d244-4ee3-902d-5c30ad667349",
   "metadata": {},
   "outputs": [],
   "source": [
    "#imports\n",
    "import uproot as ur\n",
    "import awkward as ak\n",
    "import numpy as np\n",
    "\n",
    "import os\n",
    "os.environ['CUDA_VISIBLE_DEVICES'] = \"2\" #specify GPU\n",
    "os.environ['TF_FORCE_GPU_ALLOW_GROWTH'] = 'true'\n",
    "\n",
    "import tensorflow as tf\n",
    "\n",
    "# energyflow imports\n",
    "import energyflow as ef\n",
    "from energyflow.archs import PFN\n",
    "from energyflow.utils import data_split\n",
    "\n",
    "from sklearn.metrics import roc_auc_score, roc_curve\n",
    "import matplotlib.pyplot as plt"
   ]
  },
  {
   "cell_type": "code",
   "execution_count": 2,
   "id": "52721d30-ea16-4f9c-b54b-6a3f63b2157d",
   "metadata": {},
   "outputs": [],
   "source": [
    "import graph_util as gu\n",
    "import plot_util as pu"
   ]
  },
  {
   "cell_type": "code",
   "execution_count": 3,
   "id": "7df8e1d4-e4ad-4c40-bea0-42b6e3f2482b",
   "metadata": {},
   "outputs": [],
   "source": [
    "file = np.load('./nndata_kd.npz')"
   ]
  },
  {
   "cell_type": "code",
   "execution_count": 4,
   "id": "5486bb9d-9231-462b-a337-9913b2b1215a",
   "metadata": {},
   "outputs": [],
   "source": [
    "X_all = file['arr_0']\n",
    "Y_all = file['arr_1']\n",
    "eta = file['arr_2']\n",
    "X_glob = file['arr_3']"
   ]
  },
  {
   "cell_type": "code",
   "execution_count": 6,
   "id": "a3cdd6f8-d07d-46d1-a3f1-1205c63a6bef",
   "metadata": {},
   "outputs": [],
   "source": [
    "model = tf.keras.models.load_model('./w6_pfn_bigtest.hdf5')"
   ]
  },
  {
   "cell_type": "code",
   "execution_count": 7,
   "id": "53e10f31-4c11-4dea-8cf7-84ab61459a73",
   "metadata": {},
   "outputs": [],
   "source": [
    "#rerun in order to examine 'best' model (this was produced in a different notebook)\n",
    "(X_train, X_val, X_test, Y_train, Y_val, Y_test, X_glob_tr, X_glob_val, X_glob_te, eta_train, eta_val, eta_test) = data_split(X_all, Y_all, X_glob, eta, val=100000, test=300000)"
   ]
  },
  {
   "cell_type": "code",
   "execution_count": 8,
   "id": "941f3f57-2651-46ed-aafe-5a8f8b9c0da2",
   "metadata": {},
   "outputs": [
    {
     "data": {
      "text/plain": [
       "2.999977"
      ]
     },
     "execution_count": 8,
     "metadata": {},
     "output_type": "execute_result"
    }
   ],
   "source": [
    "max(abs(eta))"
   ]
  },
  {
   "cell_type": "code",
   "execution_count": 10,
   "id": "9eb25951-750b-455d-9bd1-60692c75ab48",
   "metadata": {},
   "outputs": [
    {
     "name": "stdout",
     "output_type": "stream",
     "text": [
      "PFN AUC: 0.9784397297098885\n",
      "PFN AUC: 0.9826594319289673\n",
      "PFN AUC: 0.9808012325757001\n",
      "PFN AUC: 0.9818189338637457\n",
      "PFN AUC: 0.9784478058741314\n",
      "PFN AUC: 0.9780770116577154\n",
      "PFN AUC: 0.9794875319591722\n",
      "PFN AUC: 0.9776805860150235\n",
      "PFN AUC: 0.9772855804923846\n",
      "PFN AUC: 0.974802632391444\n",
      "PFN AUC: 0.9769473135129443\n",
      "PFN AUC: 0.9750126624091611\n",
      "PFN AUC: 0.9711575826953573\n",
      "PFN AUC: 0.9581560660213619\n",
      "PFN AUC: 0.9207323992716967\n",
      "PFN AUC: 0.9287146788753687\n",
      "PFN AUC: 0.9487927124955712\n",
      "PFN AUC: 0.9396165470199315\n",
      "PFN AUC: 0.9388531565092348\n",
      "PFN AUC: 0.9383997300970451\n",
      "PFN AUC: 0.9476055402144247\n",
      "PFN AUC: 0.9520168549249163\n",
      "PFN AUC: 0.9566195528788548\n",
      "PFN AUC: 0.9582740578777112\n",
      "PFN AUC: 0.9560688854960503\n",
      "PFN AUC: 0.9678816079534805\n",
      "PFN AUC: 0.9879246698490043\n",
      "PFN AUC: 0.9879927424367811\n",
      "PFN AUC: 0.9860005015091625\n",
      "PFN AUC: 0.9862611835988252\n",
      "PFN AUC: 0.9655514348901669\n"
     ]
    }
   ],
   "source": [
    "#concatenate the Xs:\n",
    "X_tr = [X_train, X_glob_tr]\n",
    "X_vali = [X_val, X_glob_val]\n",
    "X_te = [X_test, X_glob_te]\n",
    "\n",
    "#define the different eta regions\n",
    "selec_01 = abs(eta_test) < 0.1\n",
    "selec_02 = (abs(eta_test) >= .1) & (abs(eta_test) < .2)\n",
    "selec_03 = (abs(eta_test) >= .2) & (abs(eta_test) < .3)\n",
    "selec_04 = (abs(eta_test) >= .3) & (abs(eta_test) < .4)\n",
    "selec_05 = (abs(eta_test) >= .4) & (abs(eta_test) < .5)\n",
    "selec_06 = (abs(eta_test) >= .5) & (abs(eta_test) < .6)\n",
    "selec_07 = (abs(eta_test) >= .6) & (abs(eta_test) < .7)\n",
    "selec_08 = (abs(eta_test) >= .7) & (abs(eta_test) < .8)\n",
    "selec_09 = (abs(eta_test) >= .8) & (abs(eta_test) < .9)\n",
    "selec_10 = (abs(eta_test) >= .9) & (abs(eta_test) < 1.)\n",
    "selec_11 = (abs(eta_test) >= 1.) & (abs(eta_test) < 1.1)\n",
    "selec_12 = (abs(eta_test) >= 1.1) & (abs(eta_test) < 1.2)\n",
    "selec_13 = (abs(eta_test) >= 1.2) & (abs(eta_test) < 1.3)\n",
    "selec_14 = (abs(eta_test) >= 1.3) & (abs(eta_test) < 1.4)\n",
    "selec_15 = (abs(eta_test) >= 1.4) & (abs(eta_test) < 1.5)\n",
    "selec_16 = (abs(eta_test) >= 1.5) & (abs(eta_test) < 1.6)\n",
    "selec_17 = (abs(eta_test) >= 1.6) & (abs(eta_test) < 1.7)\n",
    "selec_18 = (abs(eta_test) >= 1.7) & (abs(eta_test) < 1.8)\n",
    "selec_19 = (abs(eta_test) >= 1.8) & (abs(eta_test) < 1.9)\n",
    "selec_20 = (abs(eta_test) >= 1.9) & (abs(eta_test) < 2.)\n",
    "selec_21 = (abs(eta_test) >= 2.) & (abs(eta_test) < 2.1)\n",
    "selec_22 = (abs(eta_test) >= 2.1) & (abs(eta_test) < 2.2)\n",
    "selec_23 = (abs(eta_test) >= 2.2) & (abs(eta_test) < 2.3)\n",
    "selec_24 = (abs(eta_test) >= 2.3) & (abs(eta_test) < 2.4)\n",
    "selec_25 = (abs(eta_test) >= 2.4) & (abs(eta_test) < 2.5)\n",
    "selec_26 = (abs(eta_test) >= 2.5) & (abs(eta_test) < 2.6)\n",
    "selec_27 = (abs(eta_test) >= 2.6) & (abs(eta_test) < 2.7)\n",
    "selec_28 = (abs(eta_test) >= 2.7) & (abs(eta_test) < 2.8)\n",
    "selec_29 = (abs(eta_test) >= 2.8) & (abs(eta_test) < 2.9)\n",
    "selec_30 = (abs(eta_test) >= 2.9) & (abs(eta_test) < 3.)\n",
    "selec_all = abs(eta_test) <= 3. \n",
    "\n",
    "selections = [selec_01, selec_02, selec_03, selec_04, selec_05, selec_06, selec_07, selec_08, selec_09, selec_10,\n",
    "              selec_11, selec_12, selec_13, selec_14, selec_15, selec_16, selec_17, selec_18, selec_19, selec_20,\n",
    "              selec_21, selec_22, selec_23, selec_24, selec_25, selec_26, selec_27, selec_28, selec_29, selec_30,\n",
    "              selec_all]\n",
    "\n",
    "#make metrics\n",
    "X_1, X_2 = X_te\n",
    "fps = []\n",
    "tps = []\n",
    "threshss = []\n",
    "aucs = []\n",
    "for selection in selections:\n",
    "    X_interm = [X_1[selection], X_2[selection]]\n",
    "    preds = model.predict(X_interm, batch_size=1000) \n",
    "    pfn_fp, pfn_tp, threshs = roc_curve(Y_test[selection][:,1], preds[:,1])\n",
    "\n",
    "    fps.append(pfn_fp)\n",
    "    tps.append(pfn_tp)\n",
    "    threshss.append(threshs)\n",
    "\n",
    "    # get area under the ROC curve\n",
    "    auc = roc_auc_score(Y_test[selection][:,1], preds[:,1])\n",
    "    aucs.append(auc)\n",
    "    print('PFN AUC:', auc)\n"
   ]
  },
  {
   "cell_type": "code",
   "execution_count": 14,
   "id": "2ce2685b-2bce-4174-90cf-228f1264adf8",
   "metadata": {},
   "outputs": [],
   "source": [
    "eta_ranges = np.arange(0., 3.1, .1)+.05"
   ]
  },
  {
   "cell_type": "code",
   "execution_count": 16,
   "id": "b6a4063b-0528-45da-99b4-5ca73574b2c7",
   "metadata": {},
   "outputs": [
    {
     "data": {
      "text/plain": [
       "Text(0, 0.5, 'AUC')"
      ]
     },
     "execution_count": 16,
     "metadata": {},
     "output_type": "execute_result"
    },
    {
     "data": {
      "image/png": "[encoded data removed]",
      "text/plain": [
       "<Figure size 576x576 with 1 Axes>"
      ]
     },
     "metadata": {},
     "output_type": "display_data"
    }
   ],
   "source": [
    "plt.figure(figsize=[8,8])\n",
    "plt.xlim(-.01, 3.01)\n",
    "plt.plot(eta_ranges, aucs, linewidth=3, c='xkcd:yellowish orange')\n",
    "plt.xlabel('range in eta (centered)')\n",
    "plt.ylabel('AUC')"
   ]
  },
  {
   "cell_type": "code",
   "execution_count": 17,
   "id": "dacb40cc-6c83-4b76-baa3-7b247b14efc2",
   "metadata": {},
   "outputs": [],
   "source": [
    "from scipy.interpolate import interp1d"
   ]
  },
  {
   "cell_type": "code",
   "execution_count": 19,
   "id": "4b14df6e-6df6-46a6-9373-9a61490a8621",
   "metadata": {},
   "outputs": [
    {
     "name": "stderr",
     "output_type": "stream",
     "text": [
      "<ipython-input-19-fc7eb20c9f55>:3: RuntimeWarning: divide by zero encountered in true_divide\n",
      "  f.append(interp1d(tps[i], 1/fps[i]))\n"
     ]
    }
   ],
   "source": [
    "f = []\n",
    "for i in range(len(fps)):\n",
    "    f.append(interp1d(tps[i], 1/fps[i]))\n"
   ]
  },
  {
   "cell_type": "code",
   "execution_count": 21,
   "id": "6f81ff3e-aad8-4e48-a3e6-8108b445a311",
   "metadata": {},
   "outputs": [],
   "source": [
    "reg95 = []\n",
    "for i in range(len(f)):\n",
    "    reg95.append(f[i](.95))"
   ]
  },
  {
   "cell_type": "code",
   "execution_count": 24,
   "id": "9aa20f72-3d43-4653-98a4-6aa22d987df5",
   "metadata": {},
   "outputs": [
    {
     "data": {
      "text/plain": [
       "Text(0, 0.5, 'Rejection at 95% efficiency')"
      ]
     },
     "execution_count": 24,
     "metadata": {},
     "output_type": "execute_result"
    },
    {
     "data": {
      "image/png": "[encoded data removed]",
      "text/plain": [
       "<Figure size 576x576 with 1 Axes>"
      ]
     },
     "metadata": {},
     "output_type": "display_data"
    }
   ],
   "source": [
    "plt.figure(figsize=[8,8])\n",
    "plt.xlim(-.01, 3.01)\n",
    "plt.plot(eta_ranges, reg95, linewidth=3, c='xkcd:sand brown')\n",
    "plt.xlabel('range in eta (centered)')\n",
    "plt.ylabel('Rejection at 95% efficiency')\n"
   ]
  },
  {
   "cell_type": "code",
   "execution_count": 5,
   "id": "436b8841-62a7-46cb-8e49-261497328ad3",
   "metadata": {},
   "outputs": [],
   "source": [
    "#this is a model WITHOUT the global features!! run this, then compare to the one WITH global features. See if including it helps!\n",
    "def modelNmetrics_noglob(X_cell, Y, eta, epochs, batch_size, val_size, test_size):\n",
    "    #run the model & create the metrics\n",
    "    \n",
    "    Phi_sizes, F_sizes = (100, 100, 128), (100, 100, 100)\n",
    "    print('sizes: X ', len(X_cell), 'Y: ', len(Y), 'test:', test_size)\n",
    "    \n",
    "    # do train/val/test split \n",
    "    (X_train, X_val, X_test, Y_train, Y_val, Y_test, eta_train, eta_val, eta_test) = data_split(X_cell, Y, eta, val=val_size, test=test_size)\n",
    "    print(X_train.shape, X_val.shape, X_test.shape, Y_train.shape, Y_val.shape, Y_test.shape)\n",
    "    \n",
    "    #make the model:\n",
    "    pfn = PFN(input_dim=X_cell.shape[-1], Phi_sizes=Phi_sizes, F_sizes=F_sizes)#, num_global_features =1)\n",
    "    \n",
    "    #try callbacks:\n",
    "    callback = tf.keras.callbacks.ModelCheckpoint('./w6_pfn4.hdf5', save_best_only=True)\n",
    "    \n",
    "    # train model\n",
    "    history = pfn.fit(X_train, Y_train, epochs=epochs, batch_size=batch_size, validation_data=(X_val, Y_val), verbose=1, callbacks=[callback])\n",
    "    \n",
    "    #define the different eta regions\n",
    "    selec_l07 = abs(eta_test) < 0.7\n",
    "    selec_b0714 = (abs(eta_test) >= .7) & (abs(eta_test) < 1.4)\n",
    "    selec_b1425 = (abs(eta_test) >= 1.4) & (abs(eta_test) < 2.5)\n",
    "    selec_b2531 = (abs(eta_test) >= 2.5) & (abs(eta_test) < 3.1) #max eta is 3 so!!\n",
    "    selec_all = abs(eta_test) <= 3.1 \n",
    "    \n",
    "    selections = [selec_l07, selec_b0714, selec_b1425, selec_b2531, selec_all]\n",
    "    \n",
    "    #load up best model\n",
    "    best = tf.keras.models.load_model('./w6_pfn_noglob.hdf5')\n",
    "    \n",
    "    #make metrics\n",
    "    fps = []\n",
    "    tps = []\n",
    "    threshss = []\n",
    "    aucs = []\n",
    "    for selection in selections:\n",
    "        preds = best.predict(X_test[selection], batch_size=1000) \n",
    "        pfn_fp, pfn_tp, threshs = roc_curve(Y_test[selection][:,1], preds[:,1])\n",
    "        \n",
    "        fps.append(pfn_fp)\n",
    "        tps.append(pfn_tp)\n",
    "        threshss.append(threshs)\n",
    "        \n",
    "        # get area under the ROC curve\n",
    "        auc = roc_auc_score(Y_test[selection][:,1], preds[:,1])\n",
    "        aucs.append(auc)\n",
    "        print('PFN AUC:', auc)\n",
    "   \n",
    "    return history, fps, tps, aucs, selections"
   ]
  },
  {
   "cell_type": "code",
   "execution_count": null,
   "id": "f3c1dd0d-fe77-4bf2-b047-f642967e63f9",
   "metadata": {},
   "outputs": [
    {
     "name": "stdout",
     "output_type": "stream",
     "text": [
      "sizes: X  780000 Y:  780000 test: 300000\n",
      "(380000, 2000, 4) (100000, 2000, 4) (300000, 2000, 4) (380000, 2) (100000, 2) (300000, 2)\n",
      "Model: \"model\"\n",
      "__________________________________________________________________________________________________\n",
      "Layer (type)                    Output Shape         Param #     Connected to                     \n",
      "==================================================================================================\n",
      "input (InputLayer)              [(None, None, 4)]    0                                            \n",
      "__________________________________________________________________________________________________\n",
      "tdist_0 (TimeDistributed)       (None, None, 100)    500         input[0][0]                      \n",
      "__________________________________________________________________________________________________\n",
      "activation (Activation)         (None, None, 100)    0           tdist_0[0][0]                    \n",
      "__________________________________________________________________________________________________\n",
      "tdist_1 (TimeDistributed)       (None, None, 100)    10100       activation[0][0]                 \n",
      "__________________________________________________________________________________________________\n",
      "activation_1 (Activation)       (None, None, 100)    0           tdist_1[0][0]                    \n",
      "__________________________________________________________________________________________________\n",
      "tdist_2 (TimeDistributed)       (None, None, 128)    12928       activation_1[0][0]               \n",
      "__________________________________________________________________________________________________\n",
      "mask (Lambda)                   (None, None)         0           input[0][0]                      \n",
      "__________________________________________________________________________________________________\n",
      "activation_2 (Activation)       (None, None, 128)    0           tdist_2[0][0]                    \n",
      "__________________________________________________________________________________________________\n",
      "sum (Dot)                       (None, 128)          0           mask[0][0]                       \n",
      "                                                                 activation_2[0][0]               \n",
      "__________________________________________________________________________________________________\n",
      "dense_0 (Dense)                 (None, 100)          12900       sum[0][0]                        \n",
      "__________________________________________________________________________________________________\n",
      "activation_3 (Activation)       (None, 100)          0           dense_0[0][0]                    \n",
      "__________________________________________________________________________________________________\n",
      "dense_1 (Dense)                 (None, 100)          10100       activation_3[0][0]               \n",
      "__________________________________________________________________________________________________\n",
      "activation_4 (Activation)       (None, 100)          0           dense_1[0][0]                    \n",
      "__________________________________________________________________________________________________\n",
      "dense_2 (Dense)                 (None, 100)          10100       activation_4[0][0]               \n",
      "__________________________________________________________________________________________________\n",
      "activation_5 (Activation)       (None, 100)          0           dense_2[0][0]                    \n",
      "__________________________________________________________________________________________________\n",
      "output (Dense)                  (None, 2)            202         activation_5[0][0]               \n",
      "__________________________________________________________________________________________________\n",
      "activation_6 (Activation)       (None, 2)            0           output[0][0]                     \n",
      "==================================================================================================\n",
      "Total params: 56,830\n",
      "Trainable params: 56,830\n",
      "Non-trainable params: 0\n",
      "__________________________________________________________________________________________________\n",
      "Epoch 1/100\n",
      "380/380 [==============================] - 54s 130ms/step - loss: 5.8236 - acc: 0.6394 - val_loss: 0.8297 - val_acc: 0.7093\n",
      "Epoch 2/100\n",
      "380/380 [==============================] - 46s 121ms/step - loss: 0.7241 - acc: 0.7011 - val_loss: 0.5441 - val_acc: 0.7336\n",
      "Epoch 3/100\n",
      "380/380 [==============================] - 46s 122ms/step - loss: 0.5713 - acc: 0.7200 - val_loss: 0.5176 - val_acc: 0.7436\n",
      "Epoch 4/100\n",
      "380/380 [==============================] - 46s 122ms/step - loss: 0.5099 - acc: 0.7442 - val_loss: 0.4508 - val_acc: 0.7805\n",
      "Epoch 5/100\n",
      "225/380 [================>.............] - ETA: 16s - loss: 0.5148 - acc: 0.7498"
     ]
    }
   ],
   "source": [
    "history_nog, fp_nog, tp_nog, auc_nog, selecs_nog = modelNmetrics_noglob(X_all, Y_all, eta, 100, 1000, 100000, 300000)"
   ]
  },
  {
   "cell_type": "code",
   "execution_count": null,
   "id": "20c3d42d-80e3-45a1-9705-967045789f33",
   "metadata": {},
   "outputs": [],
   "source": []
  }
 ],
 "metadata": {
  "kernelspec": {
   "display_name": "Python 3",
   "language": "python",
   "name": "python3"
  },
  "language_info": {
   "codemirror_mode": {
    "name": "ipython",
    "version": 3
   },
   "file_extension": ".py",
   "mimetype": "text/x-python",
   "name": "python",
   "nbconvert_exporter": "python",
   "pygments_lexer": "ipython3",
   "version": "3.8.5"
  }
 },
 "nbformat": 4,
 "nbformat_minor": 5
}
