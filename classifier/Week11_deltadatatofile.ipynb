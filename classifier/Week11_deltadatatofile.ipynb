{
 "cells": [
  {
   "cell_type": "markdown",
   "id": "df75812f-c971-439c-8c9e-e5f06a4af340",
   "metadata": {},
   "source": [
    "This is not ideal I think but this is to slice all the delta data into the 8 different types... then just test the existing model on the different categories separately? Later, I'll make models on the different categories separately..... I just feel bad since I'm about to use up so much space making multiple datasets omg but okay"
   ]
  },
  {
   "cell_type": "code",
   "execution_count": 1,
   "id": "57eb83a3-4a00-46bc-ac94-84c977eb1f83",
   "metadata": {},
   "outputs": [
    {
     "name": "stderr",
     "output_type": "stream",
     "text": [
      "2021-07-16 07:22:09.668664: I tensorflow/stream_executor/platform/default/dso_loader.cc:49] Successfully opened dynamic library libcudart.so.11.0\n"
     ]
    }
   ],
   "source": [
    "#imports\n",
    "import uproot as ur\n",
    "import numpy as np\n",
    "import awkward as ak\n",
    "import matplotlib.pyplot as plt\n",
    "import vector as v\n",
    "\n",
    "import atlas_mpl_style as ampl #makes matplotlib follow atlas formal style\n",
    "ampl.use_atlas_style()\n",
    "\n",
    "v.register_awkward()\n",
    "\n",
    "data_path = '/fast_scratch/atlas_images/v01-45/'\n",
    "\n",
    "import os\n",
    "os.environ['CUDA_VISIBLE_DEVICES'] = \"2\" #specify GPU\n",
    "os.environ['TF_FORCE_GPU_ALLOW_GROWTH'] = 'true'\n",
    "\n",
    "import tensorflow as tf\n",
    "\n",
    "# energyflow imports\n",
    "import energyflow as ef\n",
    "from energyflow.archs import PFN\n",
    "from energyflow.utils import data_split\n",
    "\n",
    "from sklearn.metrics import roc_auc_score, roc_curve\n",
    "\n",
    "import graph_util as gu\n",
    "import plot_util as pu\n",
    "import matplotlib.pyplot as plt"
   ]
  },
  {
   "cell_type": "code",
   "execution_count": 2,
   "id": "a4b7fe0d-0351-4a01-bcf2-f1af3beec077",
   "metadata": {},
   "outputs": [],
   "source": [
    "import convert_sets_splitdelta"
   ]
  },
  {
   "cell_type": "code",
   "execution_count": 3,
   "id": "0bd7f4d0-aeec-40a5-81eb-3bb2dbc2c768",
   "metadata": {},
   "outputs": [],
   "source": [
    "events = ur.open(data_path+'delta_medium.root')\n",
    "\n",
    "tree = events['EventTree']"
   ]
  },
  {
   "cell_type": "code",
   "execution_count": 4,
   "id": "97bbf56d-f6e7-4eab-931c-cf30cde93005",
   "metadata": {},
   "outputs": [],
   "source": [
    "idbranch = tree.arrays('truthPartPdgId')\n",
    "truth_ID = idbranch.truthPartPdgId"
   ]
  },
  {
   "cell_type": "code",
   "execution_count": 5,
   "id": "a6c21f3b-c9be-4dc2-ada8-a29ad0ff215e",
   "metadata": {},
   "outputs": [],
   "source": [
    "#just need to get the indices of each of them - I should probably just do this with like np.where or smtn but for now this works heheheh :(\n",
    "ID1114 = []\n",
    "IDn2214 = []    \n",
    "IDn2114 = []    \n",
    "IDn2224 = []   \n",
    "ID2214 = []\n",
    "ID2224 = []\n",
    "IDn1114 = []\n",
    "ID2114 = []\n",
    "for i in range(len(truth_ID)):\n",
    "    if (-2114 in truth_ID[i]): \n",
    "        IDn2114.append(i)\n",
    "    elif (-2224 in truth_ID[i]):\n",
    "        IDn2224.append(i)\n",
    "    elif (2214 in truth_ID[i]): \n",
    "        ID2214.append(i)\n",
    "    elif (2224 in truth_ID[i]):\n",
    "        ID2224.append(i)\n",
    "    elif (-1114 in truth_ID[i]): \n",
    "        IDn1114.append(i)\n",
    "    elif (2114 in truth_ID[i]):\n",
    "        ID2114.append(i)\n",
    "    elif (1114 in truth_ID[i]): \n",
    "        ID1114.append(i)\n",
    "    elif (-2214 in truth_ID[i]):\n",
    "        IDn2214.append(i)\n",
    "\n",
    "#this is literally still so janky but whatever\n",
    "flag = np.zeros(len(truth_ID))\n",
    "flag[IDn2214] = -2214\n",
    "flag[ID2214] = 2214\n",
    "flag[ID1114] = 1114\n",
    "flag[IDn1114] = -1114\n",
    "flag[ID2114] = 2114\n",
    "flag[IDn2114] = -2114\n",
    "flag[ID2224] = 2224\n",
    "flag[IDn2224] = -2224"
   ]
  },
  {
   "cell_type": "code",
   "execution_count": 6,
   "id": "b86df3e6-70a6-46f7-956f-482abeb047e1",
   "metadata": {},
   "outputs": [],
   "source": [
    "#CHOOSE:\n",
    "\n",
    "#then choose the mask from there: eg\n",
    "mask = flag == 2214"
   ]
  },
  {
   "cell_type": "code",
   "execution_count": 7,
   "id": "c64ddbc1-5814-4754-8ca8-eb09746e7804",
   "metadata": {},
   "outputs": [
    {
     "name": "stdout",
     "output_type": "stream",
     "text": [
      "Working on /fast_scratch/atlas_images/v01-45/delta_medium.root\n",
      "Loading data\n",
      "Normalizing\n"
     ]
    },
    {
     "name": "stderr",
     "output_type": "stream",
     "text": [
      "/home/kaelaekd/start_tf/LCStudies/classifier/convert_sets_splitdelta.py:61: RuntimeWarning: divide by zero encountered in log\n",
      "  cell_e = np.nan_to_num(np.log(cell_e), posinf = 0, neginf=0)\n"
     ]
    },
    {
     "name": "stdout",
     "output_type": "stream",
     "text": [
      "Writing out\n",
      "Done! /fast_scratch/atlas_images/v01-45/delta2214.npz\n"
     ]
    }
   ],
   "source": [
    "convert_sets_splitdelta.doit(mask, data_path+'delta2214.npz')"
   ]
  },
  {
   "cell_type": "code",
   "execution_count": 8,
   "id": "bd213087-e5a0-4d03-85e8-309fbd80a276",
   "metadata": {},
   "outputs": [
    {
     "name": "stdout",
     "output_type": "stream",
     "text": [
      "Working on /fast_scratch/atlas_images/v01-45/delta_medium.root\n",
      "Loading data\n",
      "Normalizing\n",
      "Writing out\n",
      "Done! /fast_scratch/atlas_images/v01-45/delta-2214.npz\n"
     ]
    }
   ],
   "source": [
    "mask = flag== -2214\n",
    "convert_sets_splitdelta.doit(mask, data_path+'delta-2214.npz')"
   ]
  },
  {
   "cell_type": "code",
   "execution_count": 9,
   "id": "8abc595b-ab02-447f-9239-aaaab72e7302",
   "metadata": {},
   "outputs": [
    {
     "name": "stdout",
     "output_type": "stream",
     "text": [
      "Working on /fast_scratch/atlas_images/v01-45/delta_medium.root\n",
      "Loading data\n",
      "Normalizing\n",
      "Writing out\n",
      "Done! /fast_scratch/atlas_images/v01-45/delta1114.npz\n"
     ]
    }
   ],
   "source": [
    "mask = flag == 1114\n",
    "convert_sets_splitdelta.doit(mask, data_path+'delta1114.npz')"
   ]
  },
  {
   "cell_type": "code",
   "execution_count": 10,
   "id": "0f537d53-25f5-413d-b5bf-ba7c6ff0f077",
   "metadata": {},
   "outputs": [
    {
     "name": "stdout",
     "output_type": "stream",
     "text": [
      "Working on /fast_scratch/atlas_images/v01-45/delta_medium.root\n",
      "Loading data\n",
      "Normalizing\n",
      "Writing out\n",
      "Done! /fast_scratch/atlas_images/v01-45/delta-1114.npz\n"
     ]
    }
   ],
   "source": [
    "mask = flag == -1114\n",
    "convert_sets_splitdelta.doit(mask, data_path+'delta-1114.npz')"
   ]
  },
  {
   "cell_type": "code",
   "execution_count": 11,
   "id": "04b9e6cd-5f15-4ee3-8ae8-618de173f816",
   "metadata": {},
   "outputs": [
    {
     "name": "stdout",
     "output_type": "stream",
     "text": [
      "Working on /fast_scratch/atlas_images/v01-45/delta_medium.root\n",
      "Loading data\n",
      "Normalizing\n",
      "Writing out\n",
      "Done! /fast_scratch/atlas_images/v01-45/delta2114.npz\n"
     ]
    }
   ],
   "source": [
    "mask = flag == 2114\n",
    "convert_sets_splitdelta.doit(mask, data_path+'delta2114.npz')"
   ]
  },
  {
   "cell_type": "code",
   "execution_count": 12,
   "id": "39523277-341f-4feb-b23a-b4f978444b70",
   "metadata": {},
   "outputs": [
    {
     "name": "stdout",
     "output_type": "stream",
     "text": [
      "Working on /fast_scratch/atlas_images/v01-45/delta_medium.root\n",
      "Loading data\n",
      "Normalizing\n",
      "Writing out\n",
      "Done! /fast_scratch/atlas_images/v01-45/delta-2114.npz\n"
     ]
    }
   ],
   "source": [
    "mask = flag == -2114\n",
    "convert_sets_splitdelta.doit(mask, data_path+'delta-2114.npz')"
   ]
  },
  {
   "cell_type": "code",
   "execution_count": 13,
   "id": "5669de06-ec43-42cf-9840-c227d1c1b2dc",
   "metadata": {},
   "outputs": [
    {
     "name": "stdout",
     "output_type": "stream",
     "text": [
      "Working on /fast_scratch/atlas_images/v01-45/delta_medium.root\n",
      "Loading data\n",
      "Normalizing\n",
      "Writing out\n",
      "Done! /fast_scratch/atlas_images/v01-45/delta2224.npz\n"
     ]
    }
   ],
   "source": [
    "mask = flag == 2224\n",
    "convert_sets_splitdelta.doit(mask, data_path+'delta2224.npz')"
   ]
  },
  {
   "cell_type": "code",
   "execution_count": 14,
   "id": "c5320d4c-80cf-4c1e-a4d6-1d2b85295677",
   "metadata": {},
   "outputs": [
    {
     "name": "stdout",
     "output_type": "stream",
     "text": [
      "Working on /fast_scratch/atlas_images/v01-45/delta_medium.root\n",
      "Loading data\n",
      "Normalizing\n",
      "Writing out\n",
      "Done! /fast_scratch/atlas_images/v01-45/delta-2224.npz\n"
     ]
    }
   ],
   "source": [
    "mask = flag == -2224\n",
    "convert_sets_splitdelta.doit(mask, data_path+'delta-2224.npz')"
   ]
  },
  {
   "cell_type": "code",
   "execution_count": 15,
   "id": "e122feee-9228-4b8f-b061-ddeb6efd0e27",
   "metadata": {},
   "outputs": [],
   "source": [
    "delt2214 = np.load(data_path+'delta2214.npz')\n",
    "deltn2214 = np.load(data_path+'delta-2214.npz')\n",
    "delt1114 = np.load(data_path+'delta1114.npz')\n",
    "deltn1114 = np.load(data_path+'delta-1114.npz')\n",
    "delt2114 = np.load(data_path+'delta2114.npz')\n",
    "deltn2114 = np.load(data_path+'delta-2114.npz')\n",
    "delt2224 = np.load(data_path+'delta2224.npz')\n",
    "deltn2224 = np.load(data_path+'delta-2224.npz')"
   ]
  },
  {
   "cell_type": "code",
   "execution_count": 16,
   "id": "c4a6c53d-586e-45e3-b3cb-48f66d032bc7",
   "metadata": {},
   "outputs": [],
   "source": [
    "x = delt2214['X']\n",
    "x2 = delt1114['X']\n",
    "x3 = deltn2224['X']"
   ]
  },
  {
   "cell_type": "code",
   "execution_count": 18,
   "id": "74e39aa7-8d8e-4826-b91e-1f9f30c55421",
   "metadata": {},
   "outputs": [
    {
     "name": "stdout",
     "output_type": "stream",
     "text": [
      "77131 82681 86737\n"
     ]
    }
   ],
   "source": [
    "print(len(x), len(x2), len(x3))"
   ]
  },
  {
   "cell_type": "code",
   "execution_count": 19,
   "id": "96a72103-6c58-47a0-a22f-337ed14030f9",
   "metadata": {},
   "outputs": [
    {
     "name": "stdout",
     "output_type": "stream",
     "text": [
      "77131\n"
     ]
    }
   ],
   "source": [
    "#extract data... one by one... sigh\n",
    "X = delt2214['X']\n",
    "clus_eta=delt2214['clus_eta']\n",
    "clus_pt = delt2214['clus_pt']\n",
    "clus_E = delt2214['clus_e']\n",
    "clus_et = delt2214['clus_e_t']\n",
    "\n",
    "print(len(X))"
   ]
  },
  {
   "cell_type": "code",
   "execution_count": 20,
   "id": "6017212e-a596-4b43-8acd-cdf313b6c450",
   "metadata": {},
   "outputs": [
    {
     "name": "stdout",
     "output_type": "stream",
     "text": [
      "81718\n"
     ]
    }
   ],
   "source": [
    "#extract data... one by one... sigh\n",
    "X2 = deltn2214['X']\n",
    "clus_eta2=deltn2214['clus_eta']\n",
    "clus_pt2 = deltn2214['clus_pt']\n",
    "clus_E2 = deltn2214['clus_e']\n",
    "clus_et2 = deltn2214['clus_e_t']\n",
    "\n",
    "print(len(X2))"
   ]
  },
  {
   "cell_type": "code",
   "execution_count": 21,
   "id": "1246349b-e201-45c7-a349-a900449156ff",
   "metadata": {},
   "outputs": [
    {
     "name": "stdout",
     "output_type": "stream",
     "text": [
      "82681\n"
     ]
    }
   ],
   "source": [
    "#extract data... one by one... sigh\n",
    "X3 = delt1114['X']\n",
    "clus_eta3=delt1114['clus_eta']\n",
    "clus_pt3 = delt1114['clus_pt']\n",
    "clus_E3 = delt1114['clus_e']\n",
    "clus_et3 = delt1114['clus_e_t']\n",
    "\n",
    "print(len(X3))"
   ]
  },
  {
   "cell_type": "code",
   "execution_count": 22,
   "id": "8ed4006d-2134-42a6-a97b-cdc2f82f9e2b",
   "metadata": {},
   "outputs": [
    {
     "name": "stdout",
     "output_type": "stream",
     "text": [
      "86864\n"
     ]
    }
   ],
   "source": [
    "#extract data... one by one... sigh\n",
    "X4 = deltn1114['X']\n",
    "clus_eta4=deltn1114['clus_eta']\n",
    "clus_pt4 = deltn1114['clus_pt']\n",
    "clus_E4 = deltn1114['clus_e']\n",
    "clus_et4 = deltn1114['clus_e_t']\n",
    "\n",
    "print(len(X4))"
   ]
  },
  {
   "cell_type": "code",
   "execution_count": 23,
   "id": "79f6744a-5fdd-4fd9-b4a4-183204420e77",
   "metadata": {},
   "outputs": [
    {
     "name": "stdout",
     "output_type": "stream",
     "text": [
      "77803\n"
     ]
    }
   ],
   "source": [
    "#extract data... one by one... sigh\n",
    "X5 = delt2114['X']\n",
    "clus_eta5=delt2114['clus_eta']\n",
    "clus_pt5 = delt2114['clus_pt']\n",
    "clus_E5 = delt2114['clus_e']\n",
    "clus_et5 = delt2114['clus_e_t']\n",
    "\n",
    "print(len(X5))"
   ]
  },
  {
   "cell_type": "code",
   "execution_count": 24,
   "id": "8644087d-d133-4a42-8734-c14f264feb6f",
   "metadata": {},
   "outputs": [
    {
     "name": "stdout",
     "output_type": "stream",
     "text": [
      "82247\n"
     ]
    }
   ],
   "source": [
    "#extract data... one by one... sigh\n",
    "X6 = deltn2114['X']\n",
    "clus_eta6=deltn2114['clus_eta']\n",
    "clus_pt6 = deltn2114['clus_pt']\n",
    "clus_E6 = deltn2114['clus_e']\n",
    "clus_et6 = deltn2114['clus_e_t']\n",
    "\n",
    "print(len(X6))"
   ]
  },
  {
   "cell_type": "code",
   "execution_count": 25,
   "id": "ecdcbbc3-cb63-4f62-a5ea-c086e18a56d0",
   "metadata": {},
   "outputs": [
    {
     "name": "stdout",
     "output_type": "stream",
     "text": [
      "82987\n"
     ]
    }
   ],
   "source": [
    "#extract data... one by one... sigh\n",
    "X7 = delt2224['X']\n",
    "clus_eta7=delt2224['clus_eta']\n",
    "clus_pt7 = delt2224['clus_pt']\n",
    "clus_E7 = delt2224['clus_e']\n",
    "clus_et7 = delt2224['clus_e_t']\n",
    "\n",
    "print(len(X7))"
   ]
  },
  {
   "cell_type": "code",
   "execution_count": 26,
   "id": "9da26481-e7ed-4106-a2b0-84c4dd036553",
   "metadata": {},
   "outputs": [
    {
     "name": "stdout",
     "output_type": "stream",
     "text": [
      "86737\n"
     ]
    }
   ],
   "source": [
    "#extract data... one by one... sigh\n",
    "X8 = deltn2224['X']\n",
    "clus_eta8=deltn2224['clus_eta']\n",
    "clus_pt8 = deltn2224['clus_pt']\n",
    "clus_E8 = deltn2224['clus_e']\n",
    "clus_et8 = deltn2224['clus_e_t']\n",
    "\n",
    "print(len(X8))"
   ]
  },
  {
   "cell_type": "code",
   "execution_count": 27,
   "id": "56b8a9ff-3cea-4d24-9e4e-d0ada2277646",
   "metadata": {},
   "outputs": [],
   "source": [
    "#do them all with the same amount\n",
    "def doit(dat, outfile):\n",
    "    X, clus_eta, clus_pt, clus_E, clus_et = dat\n",
    "    X_all = np.array(X[:77000])\n",
    "    eta_all = np.array(clus_eta[:77000])\n",
    "    pt_all = np.array(clus_pt[:77000])\n",
    "    E_all = np.array(clus_E[:77000])\n",
    "    et_all = np.array(clus_et[:77000])\n",
    "    \n",
    "    (X_train, X_val, X_test,  \n",
    "     eta_train, eta_val, eta_test, \n",
    "     ET_train, ET_val, ET_test, \n",
    "     pt_train, pt_val, pt_test, \n",
    "     Eng_train, Eng_val, Eng_test) = data_split(X_all, eta_all, et_all, pt_all, E_all, val=10000, test=37000)\n",
    "    \n",
    "    np.savez(data_path+outfile, X_train, X_val, X_test, eta_train, eta_val, eta_test, ET_train, ET_val, ET_test, pt_train, pt_val, pt_test, Eng_train, Eng_val, Eng_test)"
   ]
  },
  {
   "cell_type": "code",
   "execution_count": 28,
   "id": "1af4e89c-c18f-440a-b306-dbd49c15feac",
   "metadata": {},
   "outputs": [],
   "source": [
    "doit((X, clus_eta, clus_pt, clus_E, clus_et), 'nn_delta2214')"
   ]
  },
  {
   "cell_type": "code",
   "execution_count": 29,
   "id": "913e7ba0-14bf-4c1f-ae3b-3738fcd96c13",
   "metadata": {},
   "outputs": [],
   "source": [
    "doit((X2, clus_eta2, clus_pt2, clus_E2, clus_et2), 'nn_delta-2214')"
   ]
  },
  {
   "cell_type": "code",
   "execution_count": 30,
   "id": "e1824877-4b39-41d9-9743-91eda7186506",
   "metadata": {},
   "outputs": [],
   "source": [
    "doit((X3, clus_eta3, clus_pt3, clus_E3, clus_et3), 'nn_delta1114')"
   ]
  },
  {
   "cell_type": "code",
   "execution_count": 31,
   "id": "ca83abd4-3165-4920-ab8e-0289a0faa87b",
   "metadata": {},
   "outputs": [],
   "source": [
    "doit((X4, clus_eta4, clus_pt4, clus_E4, clus_et4), 'nn_delta-1114')"
   ]
  },
  {
   "cell_type": "code",
   "execution_count": 32,
   "id": "68be827f-5c69-431a-aa74-d3df2134e109",
   "metadata": {},
   "outputs": [],
   "source": [
    "doit((X5, clus_eta5, clus_pt5, clus_E5, clus_et5), 'nn_delta2114')"
   ]
  },
  {
   "cell_type": "code",
   "execution_count": 33,
   "id": "5943f66c-40ef-4834-8d5c-be806aecf426",
   "metadata": {},
   "outputs": [],
   "source": [
    "doit((X6, clus_eta6, clus_pt6, clus_E6, clus_et6), 'nn_delta-2114')"
   ]
  },
  {
   "cell_type": "code",
   "execution_count": 34,
   "id": "c7e396c7-5935-40dc-919e-aabe7a564989",
   "metadata": {},
   "outputs": [],
   "source": [
    "doit((X7, clus_eta7, clus_pt7, clus_E7, clus_et7), 'nn_delta2224')"
   ]
  },
  {
   "cell_type": "code",
   "execution_count": 35,
   "id": "b44a3e38-0796-4233-9797-5179451eaa8b",
   "metadata": {},
   "outputs": [],
   "source": [
    "doit((X8, clus_eta8, clus_pt8, clus_E8, clus_et8), 'nn_delta-2224')"
   ]
  },
  {
   "cell_type": "markdown",
   "id": "28f1942b-4213-4c34-8c4b-ba46c73c2960",
   "metadata": {},
   "source": [
    "Kind of icky still but that should work!!"
   ]
  },
  {
   "cell_type": "markdown",
   "id": "1e350864-0e96-42d8-9ba3-d2357a5d6859",
   "metadata": {},
   "source": [
    "NOTE: I think I'll keep the .root files in fast scratch since I'm not the only one accessing those, but I'm gonna move every single npz file to /data/atlas/ now!!!! okay!"
   ]
  },
  {
   "cell_type": "code",
   "execution_count": null,
   "id": "3268f2bc-8bc6-4df4-8a56-012b39fb0ddf",
   "metadata": {},
   "outputs": [],
   "source": []
  }
 ],
 "metadata": {
  "kernelspec": {
   "display_name": "Python 3 (ipykernel)",
   "language": "python",
   "name": "python3"
  },
  "language_info": {
   "codemirror_mode": {
    "name": "ipython",
    "version": 3
   },
   "file_extension": ".py",
   "mimetype": "text/x-python",
   "name": "python",
   "nbconvert_exporter": "python",
   "pygments_lexer": "ipython3",
   "version": "3.8.10"
  }
 },
 "nbformat": 4,
 "nbformat_minor": 5
}
