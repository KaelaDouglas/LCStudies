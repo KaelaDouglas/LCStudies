{
 "cells": [
  {
   "cell_type": "markdown",
   "id": "82918c32-6187-4437-b6df-381a35b598ca",
   "metadata": {},
   "source": [
    "Now that I have the 4-vectors working, that last one got messy so this will just be to plot the distance between protons and pi0s :) ie deltaR!"
   ]
  },
  {
   "cell_type": "code",
   "execution_count": 1,
   "id": "b6474be1-3c24-4ef2-889e-d6ea45f040c0",
   "metadata": {},
   "outputs": [],
   "source": [
    "#imports\n",
    "import uproot as ur\n",
    "import numpy as np\n",
    "import awkward as ak\n",
    "import matplotlib.pyplot as plt\n",
    "import vector as v\n",
    "\n",
    "data_path = '/fast_scratch/atlas_images/v01-45/'"
   ]
  },
  {
   "cell_type": "code",
   "execution_count": 75,
   "id": "9b4e0124-efe8-4066-aa47-ce9182b5de7e",
   "metadata": {},
   "outputs": [],
   "source": [
    "import atlas_mpl_style as ampl #makes matplotlib follow atlas formal style\n",
    "ampl.use_atlas_style()"
   ]
  },
  {
   "cell_type": "code",
   "execution_count": 2,
   "id": "06d97219-1d87-414a-8653-60d2bd9920b7",
   "metadata": {},
   "outputs": [],
   "source": [
    "v.register_awkward()"
   ]
  },
  {
   "cell_type": "code",
   "execution_count": 47,
   "id": "6e390ce5-3957-411e-9e2e-78e81abc90e0",
   "metadata": {},
   "outputs": [],
   "source": [
    "branches = ['cluster_hitsTruthIndex', 'cluster_hitsTruthE', 'truthPartPdgId', 'truthPartPt','truthPartEta', \n",
    "            'truthPartPhi', 'truthPartPt', 'truthPartMass']\n",
    "\n",
    "events = ur.open(data_path+'delta_medium.root')\n",
    "\n",
    "tree = events['EventTree']"
   ]
  },
  {
   "cell_type": "code",
   "execution_count": 48,
   "id": "edcd7e16-1d08-4537-832d-435ff668447f",
   "metadata": {},
   "outputs": [],
   "source": [
    "the_branches = tree.arrays(expressions=branches)"
   ]
  },
  {
   "cell_type": "code",
   "execution_count": 94,
   "id": "bddb8375-b012-4b8d-9101-f1943810c165",
   "metadata": {},
   "outputs": [],
   "source": [
    "truthE = the_branches.cluster_hitsTruthE\n",
    "truthEIndex = the_branches.cluster_hitsTruthIndex\n",
    "truthID = the_branches.truthPartPdgId\n",
    "trutheta = the_branches.truthPartEta\n",
    "truthphi = the_branches.truthPartPhi\n",
    "truthpt = the_branches.truthPartPt\n",
    "truthmass = the_branches.truthPartMass"
   ]
  },
  {
   "cell_type": "code",
   "execution_count": 95,
   "id": "7df09c13-db45-403b-abc8-3c5bc0cadd9e",
   "metadata": {},
   "outputs": [
    {
     "name": "stdout",
     "output_type": "stream",
     "text": [
      "[[0, 0.94, 0.135, -1.08e-08, 3.05e-08], [0, ... 0, 4.67e-09], [0, 0.938, 0.14]]\n"
     ]
    }
   ],
   "source": [
    "print(truthmass)"
   ]
  },
  {
   "cell_type": "code",
   "execution_count": 50,
   "id": "eadf2630-2dcc-40a6-9c83-f9ec852dda80",
   "metadata": {},
   "outputs": [
    {
     "name": "stdout",
     "output_type": "stream",
     "text": [
      "[[7.43, 4.49, 2.98, 0.861, 2.12], [42.7, ... 1.9, 1.79, 0.11], [2.57, 1.88, 0.694]]\n"
     ]
    }
   ],
   "source": [
    "print(truthpt)"
   ]
  },
  {
   "cell_type": "code",
   "execution_count": 86,
   "id": "6e1cd8cc-375e-4006-9ed0-e4d52438bf92",
   "metadata": {},
   "outputs": [
    {
     "name": "stdout",
     "output_type": "stream",
     "text": [
      "1388226\n"
     ]
    },
    {
     "data": {
      "text/plain": [
       "(None, 751874)"
      ]
     },
     "execution_count": 86,
     "metadata": {},
     "output_type": "execute_result"
    }
   ],
   "source": [
    "print(len(ak.flatten(ak.flatten(truthE)))), len(IDflat)"
   ]
  },
  {
   "cell_type": "code",
   "execution_count": 89,
   "id": "408412d1-68d3-4380-90fc-c991e2f3791b",
   "metadata": {},
   "outputs": [
    {
     "name": "stdout",
     "output_type": "stream",
     "text": [
      "[[1.8, 0.000907], [0.795], [0.57, 0.000973, ... [0.0521], [0.431], [0.905]]\n"
     ]
    }
   ],
   "source": [
    "print(ak.flatten(truthE))"
   ]
  },
  {
   "cell_type": "code",
   "execution_count": 96,
   "id": "9ad9ff7a-5e7b-46bb-b392-4ca7f18a683e",
   "metadata": {},
   "outputs": [],
   "source": [
    "IDflat = np.array(ak.flatten(truthID)) #this is the flat IDs\n",
    "etaflat = np.array(ak.flatten(trutheta))\n",
    "phiflat = np.array(ak.flatten(truthphi))\n",
    "#I think this is all I need actually?\n",
    "ptflat = np.array(ak.flatten(truthpt))\n",
    "Eflat = np.array(ak.flatten(ak.flatten(truthE))) #there are more energy values??\n",
    "massflat = np.array(ak.flatten(truthmass))"
   ]
  },
  {
   "cell_type": "code",
   "execution_count": 8,
   "id": "ac81bde0-7dc5-427d-a837-ca1769f2feea",
   "metadata": {},
   "outputs": [],
   "source": [
    "pi0_cut = IDflat == 111\n",
    "prot_cut = IDflat == 2212"
   ]
  },
  {
   "cell_type": "code",
   "execution_count": 97,
   "id": "61f6cbf6-2a16-4b21-9fa9-eb78aa008353",
   "metadata": {},
   "outputs": [],
   "source": [
    "eta_pi0_slice = etaflat[pi0_cut]\n",
    "eta_prot_slice = etaflat[prot_cut]\n",
    "\n",
    "phi_pi0_slice = phiflat[pi0_cut]\n",
    "phi_prot_slice = phiflat[prot_cut]\n",
    "\n",
    "pt_pi0_slice = ptflat[pi0_cut]\n",
    "pt_prot_slice = ptflat[prot_cut]\n",
    "\n",
    "m_pi0_slice = massflat[pi0_cut]\n",
    "m_prot_slice = massflat[prot_cut]"
   ]
  },
  {
   "cell_type": "code",
   "execution_count": 10,
   "id": "d11ef2a2-5692-48bb-aef6-f988701878d8",
   "metadata": {},
   "outputs": [
    {
     "data": {
      "text/plain": [
       "(66235, 50123, 66235, 50123)"
      ]
     },
     "execution_count": 10,
     "metadata": {},
     "output_type": "execute_result"
    }
   ],
   "source": [
    "len(eta_pi0_slice), len(eta_prot_slice), len(phi_pi0_slice), len(phi_prot_slice) #okay good so they do line up"
   ]
  },
  {
   "cell_type": "code",
   "execution_count": 11,
   "id": "4799480b-75bd-45b4-b609-1e2ba1174b5a",
   "metadata": {},
   "outputs": [
    {
     "data": {
      "text/plain": [
       "(751874, 751874)"
      ]
     },
     "execution_count": 11,
     "metadata": {},
     "output_type": "execute_result"
    }
   ],
   "source": [
    "#first need to make sure they have one of each:\n",
    "len(IDflat), len(etaflat) #okay so this is the eta/phi of each particle"
   ]
  },
  {
   "cell_type": "markdown",
   "id": "6809204f-9ac7-4c6e-94c0-bf6aee9e64ab",
   "metadata": {},
   "source": [
    "Here's what I think I need to do if I was going the vec4d route:\n",
    "\n",
    "1. find all events where there are both a pi0 and a proton\n",
    "2. make a vec4d out of all of those\n",
    "3. ???"
   ]
  },
  {
   "cell_type": "code",
   "execution_count": 21,
   "id": "7ed0692d-2e48-4b16-80e0-5b2fa0fc8a8e",
   "metadata": {},
   "outputs": [],
   "source": [
    "if (111 in truthID[-10]) and (2212 in truthID[0]):\n",
    "    print('gu')"
   ]
  },
  {
   "cell_type": "code",
   "execution_count": 22,
   "id": "205f677b-af8e-44d5-8713-723f7e4ed6d4",
   "metadata": {},
   "outputs": [
    {
     "name": "stdout",
     "output_type": "stream",
     "text": [
      "[[2114, 2112, 111, 22, 22], [-2224, -2212, ... 2112, 111, 22, 22], [2224, 2212, 211]]\n"
     ]
    }
   ],
   "source": [
    "print(truthID)\n",
    "\n",
    "selection = [x for x in truthID if (111 in x) and (2212 in x)] #I finally did one of these on my own!!!!!!! and it worked first try!!!!!!!!!"
   ]
  },
  {
   "cell_type": "code",
   "execution_count": 23,
   "id": "15fc3979-f0bb-46bd-bc5e-63459a04e768",
   "metadata": {
    "scrolled": true,
    "tags": []
   },
   "outputs": [
    {
     "data": {
      "text/plain": [
       "[<Array [2214, 2212, 111, 22, 22] type='5 * int32'>,\n",
       " <Array [2214, 2212, 111, 22, 22] type='5 * int32'>,\n",
       " <Array [2214, 2212, 111, 22, 22] type='5 * int32'>,\n",
       " <Array [2214, 2212, 111, 22, 22] type='5 * int32'>,\n",
       " <Array [2214, 2212, 111, 22, 22] type='5 * int32'>,\n",
       " <Array [2214, 2212, 111, 22, 22] type='5 * int32'>,\n",
       " <Array [2214, 2212, 111, 22, 22] type='5 * int32'>,\n",
       " <Array [2214, 2212, 111, 22, 22] type='5 * int32'>,\n",
       " <Array [2214, 2212, 111, 22, 22] type='5 * int32'>,\n",
       " <Array [2214, 2212, 111, 22, 22] type='5 * int32'>,\n",
       " <Array [2214, 2212, 111, 22, 22] type='5 * int32'>,\n",
       " <Array [2214, 2212, 111, 22, 22] type='5 * int32'>,\n",
       " <Array [2214, 2212, 111, 22, 22] type='5 * int32'>,\n",
       " <Array [2214, 2212, 111, 22, 22] type='5 * int32'>,\n",
       " <Array [2214, 2212, 111, 22, 22] type='5 * int32'>,\n",
       " <Array [2214, 2212, 111, 22, 22] type='5 * int32'>,\n",
       " <Array [2214, 2212, 111, 22, 22] type='5 * int32'>,\n",
       " <Array [2214, 2212, 111, 22, 22] type='5 * int32'>,\n",
       " <Array [2214, 2212, 111, 22, 22] type='5 * int32'>,\n",
       " <Array [2214, 2212, 111, 22, 22] type='5 * int32'>,\n",
       " <Array [2214, 2212, 111, 22, 22] type='5 * int32'>,\n",
       " <Array [2214, 2212, 111, 22, 22] type='5 * int32'>,\n",
       " <Array [2214, 2212, 111, 22, 22, 22] type='6 * int32'>,\n",
       " <Array [2214, 2212, 111, 22, 22] type='5 * int32'>,\n",
       " <Array [2214, 2212, 111, 22, 22] type='5 * int32'>,\n",
       " <Array [2214, 2212, 111, 22, 22] type='5 * int32'>,\n",
       " <Array [2214, 2212, 111, 22, 22] type='5 * int32'>,\n",
       " <Array [2214, 2212, 111, 22, 22] type='5 * int32'>,\n",
       " <Array [2214, 2212, 111, 22, 22] type='5 * int32'>,\n",
       " <Array [2214, 2212, 111, 22, 22] type='5 * int32'>,\n",
       " <Array [2214, 2212, 111, 22, 22] type='5 * int32'>,\n",
       " <Array [2214, 2212, 111, 22, 22] type='5 * int32'>,\n",
       " <Array [2214, 2212, 111, 22, 22] type='5 * int32'>,\n",
       " <Array [2214, 2212, 111, -11, 11, 22, 22] type='7 * int32'>,\n",
       " <Array [2214, 2212, 111, 22, 22] type='5 * int32'>,\n",
       " <Array [2214, 2212, 111, 22, 22] type='5 * int32'>,\n",
       " <Array [2214, 2212, 111, 22, 22] type='5 * int32'>,\n",
       " <Array [2214, 2212, 111, 22, 22] type='5 * int32'>,\n",
       " <Array [2214, 2212, 111, 22, 22] type='5 * int32'>,\n",
       " <Array [2214, 2212, 111, 22, 22] type='5 * int32'>,\n",
       " <Array [2214, 2212, 111, 22, 22] type='5 * int32'>,\n",
       " <Array [2214, 2212, 111, 22, 22] type='5 * int32'>,\n",
       " <Array [2214, 2212, 111, 22, 22] type='5 * int32'>,\n",
       " <Array [2214, 2212, 111, 22, 22] type='5 * int32'>,\n",
       " <Array [2214, 2212, 111, 22, 22] type='5 * int32'>,\n",
       " <Array [2214, 2212, 111, 22, 22] type='5 * int32'>,\n",
       " <Array [2214, 2212, 111, 22, 22] type='5 * int32'>,\n",
       " <Array [2214, 2212, 111, 22, 22] type='5 * int32'>,\n",
       " <Array [2214, 2212, 111, 22, 22] type='5 * int32'>,\n",
       " <Array [2214, 2212, 111, 22, 22] type='5 * int32'>,\n",
       " <Array [2214, 2212, 111, 22, 22] type='5 * int32'>,\n",
       " <Array [2214, 2212, 111, 22, 22] type='5 * int32'>,\n",
       " <Array [2214, 2212, 111, 22, 22] type='5 * int32'>,\n",
       " <Array [2214, 2212, 111, 22, 22] type='5 * int32'>,\n",
       " <Array [2214, 2212, 111, 22, 22] type='5 * int32'>,\n",
       " <Array [2214, 2212, 111, 22, 22] type='5 * int32'>,\n",
       " <Array [2214, 2212, 111, 22, 22] type='5 * int32'>,\n",
       " <Array [2214, 2212, 111, 22, 22] type='5 * int32'>,\n",
       " <Array [2214, 2212, 111, 22, 22] type='5 * int32'>,\n",
       " <Array [2214, 2212, 111, 22, 22] type='5 * int32'>,\n",
       " <Array [2214, 2212, 111, 22, 22] type='5 * int32'>,\n",
       " <Array [2214, 2212, 111, 22, 22, 22] type='6 * int32'>,\n",
       " <Array [2214, 2212, 111, 22, 22] type='5 * int32'>,\n",
       " <Array [2214, 2212, 111, 22, 22] type='5 * int32'>,\n",
       " <Array [2214, 2212, 111, 22, 22] type='5 * int32'>,\n",
       " <Array [2214, 2212, 111, -11, 11, 22] type='6 * int32'>,\n",
       " <Array [2214, 2212, 111, 22, 22] type='5 * int32'>,\n",
       " <Array [2214, 2212, 111, 22, 22] type='5 * int32'>,\n",
       " <Array [2214, 2212, 111, 22, 22] type='5 * int32'>,\n",
       " <Array [2214, 2212, 111, 22, 22] type='5 * int32'>,\n",
       " <Array [2214, 2212, 111, 22, 22, 22] type='6 * int32'>,\n",
       " <Array [2214, 2212, 111, 22, 22] type='5 * int32'>,\n",
       " <Array [2214, 2212, 111, 22, 22] type='5 * int32'>,\n",
       " <Array [2214, 2212, 111, 22, 22] type='5 * int32'>,\n",
       " <Array [2214, 2212, 111, 22, 22] type='5 * int32'>,\n",
       " <Array [2214, 2212, 111, 22, 22] type='5 * int32'>,\n",
       " <Array [2214, 2212, 111, 22, 22] type='5 * int32'>,\n",
       " <Array [2214, 2212, 111, 22, 22] type='5 * int32'>,\n",
       " <Array [2214, 2212, 111, 22, 22] type='5 * int32'>,\n",
       " <Array [2214, 2212, 111, 22, 22] type='5 * int32'>,\n",
       " <Array [2214, 2212, 111, 22, 22] type='5 * int32'>,\n",
       " <Array [2214, 2212, 111, 22, 22] type='5 * int32'>,\n",
       " <Array [2214, 2212, 111, 22, 22] type='5 * int32'>,\n",
       " <Array [2214, 2212, 111, 22, 22] type='5 * int32'>,\n",
       " <Array [2214, 2212, 111, 22, 22] type='5 * int32'>,\n",
       " <Array [2214, 2212, 111, 22, 22] type='5 * int32'>,\n",
       " <Array [2214, 2212, 111, 22, 22] type='5 * int32'>,\n",
       " <Array [2214, 2212, 111, 22, 22] type='5 * int32'>,\n",
       " <Array [2214, 2212, 111, 22, 22] type='5 * int32'>,\n",
       " <Array [2214, 2212, 111, 22, 22] type='5 * int32'>,\n",
       " <Array [2214, 2212, 111, 22, 22] type='5 * int32'>,\n",
       " <Array [2214, 2212, 111, 22, 22] type='5 * int32'>,\n",
       " <Array [2214, 2212, 111, 22, 22] type='5 * int32'>,\n",
       " <Array [2214, 2212, 111, 22, 22] type='5 * int32'>,\n",
       " <Array [2214, 2212, 111, 22, 22] type='5 * int32'>,\n",
       " <Array [2214, 2212, 111, 22, 22] type='5 * int32'>,\n",
       " <Array [2214, 2212, 111, 22, 22] type='5 * int32'>,\n",
       " <Array [2214, 2212, 111, 22, 22] type='5 * int32'>,\n",
       " <Array [2214, 2212, 111, 22, 22] type='5 * int32'>,\n",
       " <Array [2214, 2212, 111, 22, 22] type='5 * int32'>,\n",
       " <Array [2214, 2212, 111, 22, 22] type='5 * int32'>,\n",
       " <Array [2214, 2212, 111, 22, 22] type='5 * int32'>,\n",
       " <Array [2214, 2212, 111, 22, 22] type='5 * int32'>,\n",
       " <Array [2214, 2212, 111, 22, 22] type='5 * int32'>,\n",
       " <Array [2214, 2212, 111, 22, 22] type='5 * int32'>,\n",
       " <Array [2214, 2212, 111, 22, 22] type='5 * int32'>,\n",
       " <Array [2214, 2212, 111, 22, 22] type='5 * int32'>,\n",
       " <Array [2214, 2212, 111, 22, 22] type='5 * int32'>,\n",
       " <Array [2214, 2212, 111, 22, 22] type='5 * int32'>,\n",
       " <Array [2214, 2212, 111, 22, 22] type='5 * int32'>,\n",
       " <Array [2214, 2212, 111, 22, 22] type='5 * int32'>,\n",
       " <Array [2214, 2212, 111, 22, 22] type='5 * int32'>,\n",
       " <Array [2214, 2212, 111, 22, 22] type='5 * int32'>,\n",
       " <Array [2214, 2212, 111, 22, 22] type='5 * int32'>,\n",
       " <Array [2214, 2212, 111, 22, 22] type='5 * int32'>,\n",
       " <Array [2214, 2212, 111, 22, 22] type='5 * int32'>,\n",
       " <Array [2214, 2212, 111, 22, 22] type='5 * int32'>,\n",
       " <Array [2214, 2212, 111, 22, 22] type='5 * int32'>,\n",
       " <Array [2214, 2212, 111, 22, 22] type='5 * int32'>,\n",
       " <Array [2214, 2212, 111, 22, 22] type='5 * int32'>,\n",
       " <Array [2214, 2212, 111, 22, 22] type='5 * int32'>,\n",
       " <Array [2214, 2212, 111, 22, 22] type='5 * int32'>,\n",
       " <Array [2214, 2212, 111, 22, 22] type='5 * int32'>,\n",
       " <Array [2214, 2212, 111, 22, 22] type='5 * int32'>,\n",
       " <Array [2214, 2212, 111, 22, 22] type='5 * int32'>,\n",
       " <Array [2214, 2212, 111, 22, 22] type='5 * int32'>,\n",
       " <Array [2214, 2212, 111, 22, 22] type='5 * int32'>,\n",
       " <Array [2214, 2212, 111, 22, 22] type='5 * int32'>,\n",
       " <Array [2214, 2212, 111, 22, 22] type='5 * int32'>,\n",
       " <Array [2214, 2212, 111, 22, 22] type='5 * int32'>,\n",
       " <Array [2214, 2212, 111, 22, 22] type='5 * int32'>,\n",
       " <Array [2214, 2212, 111, 22, 22] type='5 * int32'>,\n",
       " <Array [2214, 2212, 111, 22, 22] type='5 * int32'>,\n",
       " <Array [2214, 2212, 111, 22, 22] type='5 * int32'>,\n",
       " <Array [2214, 2212, 111, 22, 22] type='5 * int32'>,\n",
       " <Array [2214, 2212, 111, 22, 22] type='5 * int32'>,\n",
       " <Array [2214, 2212, 111, 22, 22] type='5 * int32'>,\n",
       " <Array [2214, 2212, 111, 22, 22] type='5 * int32'>,\n",
       " <Array [2214, 2212, 111, 22, 22] type='5 * int32'>,\n",
       " <Array [2214, 2212, 111, 22, 22] type='5 * int32'>,\n",
       " <Array [2214, 2212, 111, 22, 22] type='5 * int32'>,\n",
       " <Array [2214, 2212, 111, 22, 22] type='5 * int32'>,\n",
       " <Array [2214, 2212, 111, 22, 22] type='5 * int32'>,\n",
       " <Array [2214, 2212, 111, 22, 22] type='5 * int32'>,\n",
       " <Array [2214, 2212, 111, 22, 22] type='5 * int32'>,\n",
       " <Array [2214, 2212, 111, 22, 22] type='5 * int32'>,\n",
       " <Array [2214, 2212, 111, 22, 22] type='5 * int32'>,\n",
       " <Array [2214, 2212, 111, 22, 22] type='5 * int32'>,\n",
       " <Array [2214, 2212, 111, 22, 22] type='5 * int32'>,\n",
       " <Array [2214, 2212, 111, 22, 22, 22] type='6 * int32'>,\n",
       " <Array [2214, 2212, 111, 22, 22] type='5 * int32'>,\n",
       " <Array [2214, 2212, 111, 22, 22] type='5 * int32'>,\n",
       " <Array [2214, 2212, 111, 22, 22] type='5 * int32'>,\n",
       " <Array [2214, 2212, 111, 22, 22] type='5 * int32'>,\n",
       " <Array [2214, 2212, 111, 22, 22] type='5 * int32'>,\n",
       " <Array [2214, 2212, 111, 22, 22] type='5 * int32'>,\n",
       " <Array [2214, 2212, 111, 22, 22] type='5 * int32'>,\n",
       " <Array [2214, 2212, 111, 22, 22, 22] type='6 * int32'>,\n",
       " <Array [2214, 2212, 111, 22, 22] type='5 * int32'>,\n",
       " <Array [2214, 2212, 111, 22, 22] type='5 * int32'>,\n",
       " <Array [2214, 2212, 111, 22, 22] type='5 * int32'>,\n",
       " <Array [2214, 2212, 111, 22, 22] type='5 * int32'>,\n",
       " <Array [2214, 2212, 111, 22, 22] type='5 * int32'>,\n",
       " <Array [2214, 2212, 111, 22, 22] type='5 * int32'>,\n",
       " <Array [2214, 2212, 111, 22, 22] type='5 * int32'>,\n",
       " <Array [2214, 2212, 111, 22, 22] type='5 * int32'>,\n",
       " <Array [2214, 2212, 111, 22, 22] type='5 * int32'>,\n",
       " <Array [2214, 2212, 111, 22, 22] type='5 * int32'>,\n",
       " <Array [2214, 2212, 111, 22, 22] type='5 * int32'>,\n",
       " <Array [2214, 2212, 111, 22, 22] type='5 * int32'>,\n",
       " <Array [2214, 2212, 111, 22, 22] type='5 * int32'>,\n",
       " <Array [2214, 2212, 111, 22, 22] type='5 * int32'>,\n",
       " <Array [2214, 2212, 111, 22, 22] type='5 * int32'>,\n",
       " <Array [2214, 2212, 111, 22, 22] type='5 * int32'>,\n",
       " <Array [2214, 2212, 111, 22, 22] type='5 * int32'>,\n",
       " <Array [2214, 2212, 111, 22, 22] type='5 * int32'>,\n",
       " <Array [2214, 2212, 111, 22, 22] type='5 * int32'>,\n",
       " <Array [2214, 2212, 111, 22, 22] type='5 * int32'>,\n",
       " <Array [2214, 2212, 111, 22, 22] type='5 * int32'>,\n",
       " <Array [2214, 2212, 111, 22, 22] type='5 * int32'>,\n",
       " <Array [2214, 2212, 111, 22, 22] type='5 * int32'>,\n",
       " <Array [2214, 2212, 111, 22, 22] type='5 * int32'>,\n",
       " <Array [2214, 2212, 111, 22, 22] type='5 * int32'>,\n",
       " <Array [2214, 2212, 111, 22, 22] type='5 * int32'>,\n",
       " <Array [2214, 2212, 111, 22, 22] type='5 * int32'>,\n",
       " <Array [2214, 2212, 111, 22, 22] type='5 * int32'>,\n",
       " <Array [2214, 2212, 111, 22, 22] type='5 * int32'>,\n",
       " <Array [2214, 2212, 111, 22, 22] type='5 * int32'>,\n",
       " <Array [2214, 2212, 111, 22, 22] type='5 * int32'>,\n",
       " <Array [2214, 2212, 111, 22, 22] type='5 * int32'>,\n",
       " <Array [2214, 2212, 111, 22, 22, 22] type='6 * int32'>,\n",
       " <Array [2214, 2212, 111, 22, 22] type='5 * int32'>,\n",
       " <Array [2214, 2212, 111, 22, 22] type='5 * int32'>,\n",
       " <Array [2214, 2212, 111, 22, 22] type='5 * int32'>,\n",
       " <Array [2214, 2212, 111, 22, 22] type='5 * int32'>,\n",
       " <Array [2214, 2212, 111, 22, 22] type='5 * int32'>,\n",
       " <Array [2214, 2212, 111, 22, 22] type='5 * int32'>,\n",
       " <Array [2214, 2212, 111, 22, 22] type='5 * int32'>,\n",
       " <Array [2214, 2212, 111, 22, 22] type='5 * int32'>,\n",
       " <Array [2214, 2212, 111, 22, 22] type='5 * int32'>,\n",
       " <Array [2214, 2212, 111, 22, 22] type='5 * int32'>,\n",
       " <Array [2214, 2212, 111, 22, 22] type='5 * int32'>,\n",
       " <Array [2214, 2212, 111, 22, 22] type='5 * int32'>,\n",
       " <Array [2214, 2212, 111, 22, 22] type='5 * int32'>,\n",
       " <Array [2214, 2212, 111, 22, 22] type='5 * int32'>,\n",
       " <Array [2214, 2212, 111, 22, 22] type='5 * int32'>,\n",
       " <Array [2214, 2212, 111, 22, 22] type='5 * int32'>,\n",
       " <Array [2214, 2212, 111, 22, 22] type='5 * int32'>,\n",
       " <Array [2214, 2212, 111, 22, 22] type='5 * int32'>,\n",
       " <Array [2214, 2212, 111, 22, 22] type='5 * int32'>,\n",
       " <Array [2214, 2212, 111, 22, 22] type='5 * int32'>,\n",
       " <Array [2214, 2212, 111, 22, 22] type='5 * int32'>,\n",
       " <Array [2214, 2212, 111, 22, 22] type='5 * int32'>,\n",
       " <Array [2214, 2212, 111, 22, 22] type='5 * int32'>,\n",
       " <Array [2214, 2212, 111, 22, 22] type='5 * int32'>,\n",
       " <Array [2214, 2212, 111, 22, 22] type='5 * int32'>,\n",
       " <Array [2214, 2212, 111, 22, 22] type='5 * int32'>,\n",
       " <Array [2214, 2212, 111, 22, 22] type='5 * int32'>,\n",
       " <Array [2214, 2212, 111, 22, 22] type='5 * int32'>,\n",
       " <Array [2214, 2212, 111, 22, 22] type='5 * int32'>,\n",
       " <Array [2214, 2212, 111, 22, 22] type='5 * int32'>,\n",
       " <Array [2214, 2212, 111, 22, 22] type='5 * int32'>,\n",
       " <Array [2214, 2212, 111, 22, 22] type='5 * int32'>,\n",
       " <Array [2214, 2212, 111, 22, 22] type='5 * int32'>,\n",
       " <Array [2214, 2212, 111, 22, 22] type='5 * int32'>,\n",
       " <Array [2214, 2212, 111, 22, 22] type='5 * int32'>,\n",
       " <Array [2214, 2212, 111, 22, 22] type='5 * int32'>,\n",
       " <Array [2214, 2212, 111, 22, 22] type='5 * int32'>,\n",
       " <Array [2214, 2212, 111, 22, 22] type='5 * int32'>,\n",
       " <Array [2214, 2212, 111, 22, 22] type='5 * int32'>,\n",
       " <Array [2214, 2212, 111, 22, 22] type='5 * int32'>,\n",
       " <Array [2214, 2212, 111, 22, 22] type='5 * int32'>,\n",
       " <Array [2214, 2212, 111, 22, 22] type='5 * int32'>,\n",
       " <Array [2214, 2212, 111, 22, 22] type='5 * int32'>,\n",
       " <Array [2214, 2212, 111, 22, 22] type='5 * int32'>,\n",
       " <Array [2214, 2212, 111, 22, 22] type='5 * int32'>,\n",
       " <Array [2214, 2212, 111, 22, 22] type='5 * int32'>,\n",
       " <Array [2214, 2212, 111, 22, 22] type='5 * int32'>,\n",
       " <Array [2214, 2212, 111, 22, 22] type='5 * int32'>,\n",
       " <Array [2214, 2212, 111, 22, 22] type='5 * int32'>,\n",
       " <Array [2214, 2212, 111, 22, 22] type='5 * int32'>,\n",
       " <Array [2214, 2212, 111, 22, 22, 22] type='6 * int32'>,\n",
       " <Array [2214, 2212, 111, 22, 22] type='5 * int32'>,\n",
       " <Array [2214, 2212, 111, 22, 22, 22] type='6 * int32'>,\n",
       " <Array [2214, 2212, 111, 22, 22] type='5 * int32'>,\n",
       " <Array [2214, 2212, 111, 22, 22] type='5 * int32'>,\n",
       " <Array [2214, 2212, 111, 22, 22] type='5 * int32'>,\n",
       " <Array [2214, 2212, 111, 22, 22] type='5 * int32'>,\n",
       " <Array [2214, 2212, 111, 22, 22] type='5 * int32'>,\n",
       " <Array [2214, 2212, 111, 22, 22] type='5 * int32'>,\n",
       " <Array [2214, 2212, 111, 22, 22] type='5 * int32'>,\n",
       " <Array [2214, 2212, 111, 22, 22] type='5 * int32'>,\n",
       " <Array [2214, 2212, 111, 22, 22] type='5 * int32'>,\n",
       " <Array [2214, 2212, 111, 22, 22] type='5 * int32'>,\n",
       " <Array [2214, 2212, 111, 22, 22, 22] type='6 * int32'>,\n",
       " <Array [2214, 2212, 111, 22, 22] type='5 * int32'>,\n",
       " <Array [2214, 2212, 111, 22, 22] type='5 * int32'>,\n",
       " <Array [2214, 2212, 111, 22, 22] type='5 * int32'>,\n",
       " <Array [2214, 2212, 111, 22, 22] type='5 * int32'>,\n",
       " <Array [2214, 2212, 111, 22, 22] type='5 * int32'>,\n",
       " <Array [2214, 2212, 111, 22, 22] type='5 * int32'>,\n",
       " <Array [2214, 2212, 111, 22, 22] type='5 * int32'>,\n",
       " <Array [2214, 2212, 111, 22, 22] type='5 * int32'>,\n",
       " <Array [2214, 2212, 111, 22, 22] type='5 * int32'>,\n",
       " <Array [2214, 2212, 111, 22, 22] type='5 * int32'>,\n",
       " <Array [2214, 2212, 111, 22, 22] type='5 * int32'>,\n",
       " <Array [2214, 2212, 111, 22, 22] type='5 * int32'>,\n",
       " <Array [2214, 2212, 111, 22, 22] type='5 * int32'>,\n",
       " <Array [2214, 2212, 111, 22, 22] type='5 * int32'>,\n",
       " <Array [2214, 2212, 111, 22, 22] type='5 * int32'>,\n",
       " <Array [2214, 2212, 111, 22, 22] type='5 * int32'>,\n",
       " <Array [2214, 2212, 111, 22, 22] type='5 * int32'>,\n",
       " <Array [2214, 2212, 111, 22, 22] type='5 * int32'>,\n",
       " <Array [2214, 2212, 111, 22, 22] type='5 * int32'>,\n",
       " <Array [2214, 2212, 111, 22, 22] type='5 * int32'>,\n",
       " <Array [2214, 2212, 111, 22, 22] type='5 * int32'>,\n",
       " <Array [2214, 2212, 111, 22, 22] type='5 * int32'>,\n",
       " <Array [2214, 2212, 111, 22, 22] type='5 * int32'>,\n",
       " <Array [2214, 2212, 111, 22, 22] type='5 * int32'>,\n",
       " <Array [2214, 2212, 111, 22, 22] type='5 * int32'>,\n",
       " <Array [2214, 2212, 111, 22, 22] type='5 * int32'>,\n",
       " <Array [2214, 2212, 111, 22, 22] type='5 * int32'>,\n",
       " <Array [2214, 2212, 111, 22, 22] type='5 * int32'>,\n",
       " <Array [2214, 2212, 111, 22, 22] type='5 * int32'>,\n",
       " <Array [2214, 2212, 111, 22, 22] type='5 * int32'>,\n",
       " <Array [2214, 2212, 111, 22, 22] type='5 * int32'>,\n",
       " <Array [2214, 2212, 111, 22, 22] type='5 * int32'>,\n",
       " <Array [2214, 2212, 111, 22, 22] type='5 * int32'>,\n",
       " <Array [2214, 2212, 111, 22, 22] type='5 * int32'>,\n",
       " <Array [2214, 2212, 111, 22, 22] type='5 * int32'>,\n",
       " <Array [2214, 2212, 111, 22, 22] type='5 * int32'>,\n",
       " <Array [2214, 2212, 111, 22, 22] type='5 * int32'>,\n",
       " <Array [2214, 2212, 111, 22, 22] type='5 * int32'>,\n",
       " <Array [2214, 2212, 111, 22, 22] type='5 * int32'>,\n",
       " <Array [2214, 2212, 111, 22, 22] type='5 * int32'>,\n",
       " <Array [2214, 2212, 111, 22, 22] type='5 * int32'>,\n",
       " <Array [2214, 2212, 111, 22, 22] type='5 * int32'>,\n",
       " <Array [2214, 2212, 111, 22, 22] type='5 * int32'>,\n",
       " <Array [2214, 2212, 111, 22, 22] type='5 * int32'>,\n",
       " <Array [2214, 2212, 111, 22, 22] type='5 * int32'>,\n",
       " <Array [2214, 2212, 111, 22, 22] type='5 * int32'>,\n",
       " <Array [2214, 2212, 111, 22, 22] type='5 * int32'>,\n",
       " <Array [2214, 2212, 111, 22, 22] type='5 * int32'>,\n",
       " <Array [2214, 2212, 111, 22, 22] type='5 * int32'>,\n",
       " <Array [2214, 2212, 111, 22, 22] type='5 * int32'>,\n",
       " <Array [2214, 2212, 111, 22, 22] type='5 * int32'>,\n",
       " <Array [2214, 2212, 111, 22, 22, 22] type='6 * int32'>,\n",
       " <Array [2214, 2212, 111, 22, 22] type='5 * int32'>,\n",
       " <Array [2214, 2212, 111, 22, 22] type='5 * int32'>,\n",
       " <Array [2214, 2212, 111, 22, 22] type='5 * int32'>,\n",
       " <Array [2214, 2212, 111, 22, 22] type='5 * int32'>,\n",
       " <Array [2214, 2212, 111, 22, 22] type='5 * int32'>,\n",
       " <Array [2214, 2212, 111, 22, 22] type='5 * int32'>,\n",
       " <Array [2214, 2212, 111, 22, 22] type='5 * int32'>,\n",
       " <Array [2214, 2212, 111, 22, 22] type='5 * int32'>,\n",
       " <Array [2214, 2212, 111, 22, 22] type='5 * int32'>,\n",
       " <Array [2214, 2212, 111, 22, 22] type='5 * int32'>,\n",
       " <Array [2214, 2212, 111, 22, 22] type='5 * int32'>,\n",
       " <Array [2214, 2212, 111, 22, 22] type='5 * int32'>,\n",
       " <Array [2214, 2212, 111, 22, 22] type='5 * int32'>,\n",
       " <Array [2214, 2212, 111, 22, 22] type='5 * int32'>,\n",
       " <Array [2214, 2212, 111, 22, 22] type='5 * int32'>,\n",
       " <Array [2214, 2212, 111, 22, 22] type='5 * int32'>,\n",
       " <Array [2214, 2212, 111, 22, 22] type='5 * int32'>,\n",
       " <Array [2214, 2212, 111, 22, 22] type='5 * int32'>,\n",
       " <Array [2214, 2212, 111, 22, 22] type='5 * int32'>,\n",
       " <Array [2214, 2212, 111, 22, 22] type='5 * int32'>,\n",
       " <Array [2214, 2212, 111, 22, 22] type='5 * int32'>,\n",
       " <Array [2214, 2212, 111, 22, 22] type='5 * int32'>,\n",
       " <Array [2214, 2212, 111, 22, 22] type='5 * int32'>,\n",
       " <Array [2214, 2212, 111, 22, 22] type='5 * int32'>,\n",
       " <Array [2214, 2212, 111, 22, 22] type='5 * int32'>,\n",
       " <Array [2214, 2212, 111, 22, 22] type='5 * int32'>,\n",
       " <Array [2214, 2212, 111, 22, 22] type='5 * int32'>,\n",
       " <Array [2214, 2212, 111, 22, 22] type='5 * int32'>,\n",
       " <Array [2214, 2212, 111, 22, 22] type='5 * int32'>,\n",
       " <Array [2214, 2212, 111, 22, 22] type='5 * int32'>,\n",
       " <Array [2214, 2212, 111, 22, 22] type='5 * int32'>,\n",
       " <Array [2214, 2212, 111, 22, 22] type='5 * int32'>,\n",
       " <Array [2214, 2212, 111, 22, 22] type='5 * int32'>,\n",
       " <Array [2214, 2212, 111, 22, 22] type='5 * int32'>,\n",
       " <Array [2214, 2212, 111, 22, 22] type='5 * int32'>,\n",
       " <Array [2214, 2212, 111, 22, 22] type='5 * int32'>,\n",
       " <Array [2214, 2212, 111, 22, 22] type='5 * int32'>,\n",
       " <Array [2214, 2212, 111, 22, 22, 22] type='6 * int32'>,\n",
       " <Array [2214, 2212, 111, 22, 22] type='5 * int32'>,\n",
       " <Array [2214, 2212, 111, 22, 22] type='5 * int32'>,\n",
       " <Array [2214, 2212, 111, 22, 22] type='5 * int32'>,\n",
       " <Array [2214, 2212, 111, 22, 22] type='5 * int32'>,\n",
       " <Array [2214, 2212, 111, 22, 22] type='5 * int32'>,\n",
       " <Array [2214, 2212, 111, 22, 22] type='5 * int32'>,\n",
       " <Array [2214, 2212, 111, 22, 22] type='5 * int32'>,\n",
       " <Array [2214, 2212, 111, 22, 22] type='5 * int32'>,\n",
       " <Array [2214, 2212, 111, 22, 22] type='5 * int32'>,\n",
       " <Array [2214, 2212, 111, 22, 22] type='5 * int32'>,\n",
       " <Array [2214, 2212, 111, 22, 22] type='5 * int32'>,\n",
       " <Array [2214, 2212, 111, 22, 22] type='5 * int32'>,\n",
       " <Array [2214, 2212, 111, 22, 22] type='5 * int32'>,\n",
       " <Array [2214, 2212, 111, 22, 22] type='5 * int32'>,\n",
       " <Array [2214, 2212, 111, 22, 22] type='5 * int32'>,\n",
       " <Array [2214, 2212, 111, 22, 22] type='5 * int32'>,\n",
       " <Array [2214, 2212, 111, 22, 22] type='5 * int32'>,\n",
       " <Array [2214, 2212, 111, 22, 22] type='5 * int32'>,\n",
       " <Array [2214, 2212, 111, 22, 22] type='5 * int32'>,\n",
       " <Array [2214, 2212, 111, 22, 22, 22] type='6 * int32'>,\n",
       " <Array [2214, 2212, 111, 22, 22] type='5 * int32'>,\n",
       " <Array [2214, 2212, 111, 22, 22] type='5 * int32'>,\n",
       " <Array [2214, 2212, 111, 22, 22] type='5 * int32'>,\n",
       " <Array [2214, 2212, 111, 22, 22] type='5 * int32'>,\n",
       " <Array [2214, 2212, 111, 22, 22] type='5 * int32'>,\n",
       " <Array [2214, 2212, 111, 22, 22] type='5 * int32'>,\n",
       " <Array [2214, 2212, 111, 22, 22] type='5 * int32'>,\n",
       " <Array [2214, 2212, 111, 22, 22] type='5 * int32'>,\n",
       " <Array [2214, 2212, 111, 22, 22] type='5 * int32'>,\n",
       " <Array [2214, 2212, 111, 22, 22] type='5 * int32'>,\n",
       " <Array [2214, 2212, 111, 22, 22] type='5 * int32'>,\n",
       " <Array [2214, 2212, 111, 22, 22] type='5 * int32'>,\n",
       " <Array [2214, 2212, 111, 22, 22] type='5 * int32'>,\n",
       " <Array [2214, 2212, 111, 22, 22] type='5 * int32'>,\n",
       " <Array [2214, 2212, 111, 22, 22] type='5 * int32'>,\n",
       " <Array [2214, 2212, 111, 22, 22] type='5 * int32'>,\n",
       " <Array [2214, 2212, 111, 22, 22] type='5 * int32'>,\n",
       " <Array [2214, 2212, 111, 22, 22] type='5 * int32'>,\n",
       " <Array [2214, 2212, 111, 22, 22] type='5 * int32'>,\n",
       " <Array [2214, 2212, 111, 22, 22] type='5 * int32'>,\n",
       " <Array [2214, 2212, 111, 22, 22] type='5 * int32'>,\n",
       " <Array [2214, 2212, 111, 22, 22] type='5 * int32'>,\n",
       " <Array [2214, 2212, 111, 22, 22] type='5 * int32'>,\n",
       " <Array [2214, 2212, 111, 22, 22] type='5 * int32'>,\n",
       " <Array [2214, 2212, 111, 22, 22] type='5 * int32'>,\n",
       " <Array [2214, 2212, 111, 22, 22] type='5 * int32'>,\n",
       " <Array [2214, 2212, 111, 22, 22] type='5 * int32'>,\n",
       " <Array [2214, 2212, 111, 22, 22, 22] type='6 * int32'>,\n",
       " <Array [2214, 2212, 111, 22, 22] type='5 * int32'>,\n",
       " <Array [2214, 2212, 111, -11, 11, 22] type='6 * int32'>,\n",
       " <Array [2214, 2212, 111, 22, 22] type='5 * int32'>,\n",
       " <Array [2214, 2212, 111, 22, 22] type='5 * int32'>,\n",
       " <Array [2214, 2212, 111, 22, 22] type='5 * int32'>,\n",
       " <Array [2214, 2212, 111, 22, 22] type='5 * int32'>,\n",
       " <Array [2214, 2212, 111, 22, 22] type='5 * int32'>,\n",
       " <Array [2214, 2212, 111, 22, 22] type='5 * int32'>,\n",
       " <Array [2214, 2212, 111, 22, 22] type='5 * int32'>,\n",
       " <Array [2214, 2212, 111, 22, 22] type='5 * int32'>,\n",
       " <Array [2214, 2212, 111, 22, 22] type='5 * int32'>,\n",
       " <Array [2214, 2212, 111, 22, 22] type='5 * int32'>,\n",
       " <Array [2214, 2212, 111, 22, 22] type='5 * int32'>,\n",
       " <Array [2214, 2212, 111, 22, 22] type='5 * int32'>,\n",
       " <Array [2214, 2212, 111, 22, 22] type='5 * int32'>,\n",
       " <Array [2214, 2212, 111, 22, 22] type='5 * int32'>,\n",
       " <Array [2214, 2212, 111, 22, 22] type='5 * int32'>,\n",
       " <Array [2214, 2212, 111, 22, 22] type='5 * int32'>,\n",
       " <Array [2214, 2212, 111, -11, 11, 22] type='6 * int32'>,\n",
       " <Array [2214, 2212, 111, 22, 22] type='5 * int32'>,\n",
       " <Array [2214, 2212, 111, 22, 22] type='5 * int32'>,\n",
       " <Array [2214, 2212, 111, 22, 22] type='5 * int32'>,\n",
       " <Array [2214, 2212, 111, 22, 22] type='5 * int32'>,\n",
       " <Array [2214, 2212, 111, 22, 22] type='5 * int32'>,\n",
       " <Array [2214, 2212, 111, 22, 22] type='5 * int32'>,\n",
       " <Array [2214, 2212, 111, 22, 22] type='5 * int32'>,\n",
       " <Array [2214, 2212, 111, 22, 22] type='5 * int32'>,\n",
       " <Array [2214, 2212, 111, 22, 22] type='5 * int32'>,\n",
       " <Array [2214, 2212, 111, 22, 22] type='5 * int32'>,\n",
       " <Array [2214, 2212, 111, 22, 22] type='5 * int32'>,\n",
       " <Array [2214, 2212, 111, 22, 22] type='5 * int32'>,\n",
       " <Array [2214, 2212, 111, 22, 22] type='5 * int32'>,\n",
       " <Array [2214, 2212, 111, 22, 22] type='5 * int32'>,\n",
       " <Array [2214, 2212, 111, 22, 22] type='5 * int32'>,\n",
       " <Array [2214, 2212, 111, 22, 22] type='5 * int32'>,\n",
       " <Array [2214, 2212, 111, 22, 22] type='5 * int32'>,\n",
       " <Array [2214, 2212, 111, 22, 22] type='5 * int32'>,\n",
       " <Array [2214, 2212, 111, 22, 22] type='5 * int32'>,\n",
       " <Array [2214, 2212, 111, 22, 22] type='5 * int32'>,\n",
       " <Array [2214, 2212, 111, 22, 22] type='5 * int32'>,\n",
       " <Array [2214, 2212, 111, 22, 22] type='5 * int32'>,\n",
       " <Array [2214, 2212, 111, 22, 22] type='5 * int32'>,\n",
       " <Array [2214, 2212, 111, 22, 22] type='5 * int32'>,\n",
       " <Array [2214, 2212, 111, 22, 22] type='5 * int32'>,\n",
       " <Array [2214, 2212, 111, 22, 22] type='5 * int32'>,\n",
       " <Array [2214, 2212, 111, 22, 22] type='5 * int32'>,\n",
       " <Array [2214, 2212, 111, 22, 22] type='5 * int32'>,\n",
       " <Array [2214, 2212, 111, 22, 22] type='5 * int32'>,\n",
       " <Array [2214, 2212, 111, 22, 22] type='5 * int32'>,\n",
       " <Array [2214, 2212, 111, 22, 22] type='5 * int32'>,\n",
       " <Array [2214, 2212, 111, 22, 22] type='5 * int32'>,\n",
       " <Array [2214, 2212, 111, 22, 22] type='5 * int32'>,\n",
       " <Array [2214, 2212, 111, -11, 11, 22] type='6 * int32'>,\n",
       " <Array [2214, 2212, 111, 22, 22, 22] type='6 * int32'>,\n",
       " <Array [2214, 2212, 111, 22, 22] type='5 * int32'>,\n",
       " <Array [2214, 2212, 111, 22, 22] type='5 * int32'>,\n",
       " <Array [2214, 2212, 111, 22, 22] type='5 * int32'>,\n",
       " <Array [2214, 2212, 111, 22, 22] type='5 * int32'>,\n",
       " <Array [2214, 2212, 111, 22, 22] type='5 * int32'>,\n",
       " <Array [2214, 2212, 111, 22, 22] type='5 * int32'>,\n",
       " <Array [2214, 2212, 111, 22, 22] type='5 * int32'>,\n",
       " <Array [2214, 2212, 111, 22, 22] type='5 * int32'>,\n",
       " <Array [2214, 2212, 111, 22, 22] type='5 * int32'>,\n",
       " <Array [2214, 2212, 111, 22, 22, 22] type='6 * int32'>,\n",
       " <Array [2214, 2212, 111, 22, 22] type='5 * int32'>,\n",
       " <Array [2214, 2212, 111, 22, 22] type='5 * int32'>,\n",
       " <Array [2214, 2212, 111, 22, 22] type='5 * int32'>,\n",
       " <Array [2214, 2212, 111, 22, 22, 22] type='6 * int32'>,\n",
       " <Array [2214, 2212, 111, 22, 22] type='5 * int32'>,\n",
       " <Array [2214, 2212, 111, 22, 22] type='5 * int32'>,\n",
       " <Array [2214, 2212, 111, 22, 22] type='5 * int32'>,\n",
       " <Array [2214, 2212, 111, 22, 22] type='5 * int32'>,\n",
       " <Array [2214, 2212, 111, 22, 22] type='5 * int32'>,\n",
       " <Array [2214, 2212, 111, 22, 22] type='5 * int32'>,\n",
       " <Array [2214, 2212, 111, 22, 22] type='5 * int32'>,\n",
       " <Array [2214, 2212, 111, 22, 22] type='5 * int32'>,\n",
       " <Array [2214, 2212, 111, 22, 22] type='5 * int32'>,\n",
       " <Array [2214, 2212, 111, 22, 22] type='5 * int32'>,\n",
       " <Array [2214, 2212, 111, 22, 22] type='5 * int32'>,\n",
       " <Array [2214, 2212, 111, 22, 22] type='5 * int32'>,\n",
       " <Array [2214, 2212, 111, 22, 22] type='5 * int32'>,\n",
       " <Array [2214, 2212, 111, 22, 22] type='5 * int32'>,\n",
       " <Array [2214, 2212, 111, 22, 22] type='5 * int32'>,\n",
       " <Array [2214, 2212, 111, 22, 22] type='5 * int32'>,\n",
       " <Array [2214, 2212, 111, 22, 22] type='5 * int32'>,\n",
       " <Array [2214, 2212, 111, 22, 22] type='5 * int32'>,\n",
       " <Array [2214, 2212, 111, 22, 22] type='5 * int32'>,\n",
       " <Array [2214, 2212, 111, 22, 22] type='5 * int32'>,\n",
       " <Array [2214, 2212, 111, 22, 22] type='5 * int32'>,\n",
       " <Array [2214, 2212, 111, 22, 22] type='5 * int32'>,\n",
       " <Array [2214, 2212, 111, 22, 22] type='5 * int32'>,\n",
       " <Array [2214, 2212, 111, 22, 22] type='5 * int32'>,\n",
       " <Array [2214, 2212, 111, 22, 22] type='5 * int32'>,\n",
       " <Array [2214, 2212, 111, 22, 22] type='5 * int32'>,\n",
       " <Array [2214, 2212, 111, 22, 22] type='5 * int32'>,\n",
       " <Array [2214, 2212, 111, 22, 22] type='5 * int32'>,\n",
       " <Array [2214, 2212, 111, 22, 22] type='5 * int32'>,\n",
       " <Array [2214, 2212, 111, 22, 22] type='5 * int32'>,\n",
       " <Array [2214, 2212, 111, 22, 22] type='5 * int32'>,\n",
       " <Array [2214, 2212, 111, 22, 22] type='5 * int32'>,\n",
       " <Array [2214, 2212, 111, 22, 22] type='5 * int32'>,\n",
       " <Array [2214, 2212, 111, 22, 22] type='5 * int32'>,\n",
       " <Array [2214, 2212, 111, 22, 22] type='5 * int32'>,\n",
       " <Array [2214, 2212, 111, 22, 22] type='5 * int32'>,\n",
       " <Array [2214, 2212, 111, 22, 22] type='5 * int32'>,\n",
       " <Array [2214, 2212, 111, 22, 22] type='5 * int32'>,\n",
       " <Array [2214, 2212, 111, -11, 11, 22] type='6 * int32'>,\n",
       " <Array [2214, 2212, 111, 22, 22] type='5 * int32'>,\n",
       " <Array [2214, 2212, 111, 22, 22] type='5 * int32'>,\n",
       " <Array [2214, 2212, 111, 22, 22] type='5 * int32'>,\n",
       " <Array [2214, 2212, 111, 22, 22] type='5 * int32'>,\n",
       " <Array [2214, 2212, 111, 22, 22] type='5 * int32'>,\n",
       " <Array [2214, 2212, 111, 22, 22] type='5 * int32'>,\n",
       " <Array [2214, 2212, 111, 22, 22] type='5 * int32'>,\n",
       " <Array [2214, 2212, 111, 22, 22] type='5 * int32'>,\n",
       " <Array [2214, 2212, 111, 22, 22] type='5 * int32'>,\n",
       " <Array [2214, 2212, 111, 22, 22] type='5 * int32'>,\n",
       " <Array [2214, 2212, 111, 22, 22] type='5 * int32'>,\n",
       " <Array [2214, 2212, 111, 22, 22] type='5 * int32'>,\n",
       " <Array [2214, 2212, 111, 22, 22] type='5 * int32'>,\n",
       " <Array [2214, 2212, 111, 22, 22] type='5 * int32'>,\n",
       " <Array [2214, 2212, 111, 22, 22] type='5 * int32'>,\n",
       " <Array [2214, 2212, 111, 22, 22] type='5 * int32'>,\n",
       " <Array [2214, 2212, 111, 22, 22] type='5 * int32'>,\n",
       " <Array [2214, 2212, 111, 22, 22] type='5 * int32'>,\n",
       " <Array [2214, 2212, 111, 22, 22] type='5 * int32'>,\n",
       " <Array [2214, 2212, 111, 22, 22] type='5 * int32'>,\n",
       " <Array [2214, 2212, 111, 22, 22] type='5 * int32'>,\n",
       " <Array [2214, 2212, 111, 22, 22] type='5 * int32'>,\n",
       " <Array [2214, 2212, 111, 22, 22] type='5 * int32'>,\n",
       " <Array [2214, 2212, 111, 22, 22] type='5 * int32'>,\n",
       " <Array [2214, 2212, 111, 22, 22] type='5 * int32'>,\n",
       " <Array [2214, 2212, 111, 22, 22] type='5 * int32'>,\n",
       " <Array [2214, 2212, 111, 22, 22] type='5 * int32'>,\n",
       " <Array [2214, 2212, 111, 22, 22] type='5 * int32'>,\n",
       " <Array [2214, 2212, 111, 22, 22] type='5 * int32'>,\n",
       " <Array [2214, 2212, 111, 22, 22] type='5 * int32'>,\n",
       " <Array [2214, 2212, 111, 22, 22] type='5 * int32'>,\n",
       " <Array [2214, 2212, 111, 22, 22] type='5 * int32'>,\n",
       " <Array [2214, 2212, 111, 22, 22] type='5 * int32'>,\n",
       " <Array [2214, 2212, 111, 22, 22] type='5 * int32'>,\n",
       " <Array [2214, 2212, 111, 22, 22] type='5 * int32'>,\n",
       " <Array [2214, 2212, 111, 22, 22] type='5 * int32'>,\n",
       " <Array [2214, 2212, 111, 22, 22] type='5 * int32'>,\n",
       " <Array [2214, 2212, 111, 22, 22] type='5 * int32'>,\n",
       " <Array [2214, 2212, 111, 22, 22] type='5 * int32'>,\n",
       " <Array [2214, 2212, 111, 22, 22] type='5 * int32'>,\n",
       " <Array [2214, 2212, 111, 22, 22] type='5 * int32'>,\n",
       " <Array [2214, 2212, 111, 22, 22] type='5 * int32'>,\n",
       " <Array [2214, 2212, 111, 22, 22] type='5 * int32'>,\n",
       " <Array [2214, 2212, 111, 22, 22] type='5 * int32'>,\n",
       " <Array [2214, 2212, 111, 22, 22, 22] type='6 * int32'>,\n",
       " <Array [2214, 2212, 111, 22, 22] type='5 * int32'>,\n",
       " <Array [2214, 2212, 111, 22, 22] type='5 * int32'>,\n",
       " <Array [2214, 2212, 111, 22, 22] type='5 * int32'>,\n",
       " <Array [2214, 2212, 111, 22, 22] type='5 * int32'>,\n",
       " <Array [2214, 2212, 111, 22, 22] type='5 * int32'>,\n",
       " <Array [2214, 2212, 111, 22, 22] type='5 * int32'>,\n",
       " <Array [2214, 2212, 111, 22, 22] type='5 * int32'>,\n",
       " <Array [2214, 2212, 111, 22, 22] type='5 * int32'>,\n",
       " <Array [2214, 2212, 111, 22, 22] type='5 * int32'>,\n",
       " <Array [2214, 2212, 111, 22, 22] type='5 * int32'>,\n",
       " <Array [2214, 2212, 111, 22, 22] type='5 * int32'>,\n",
       " <Array [2214, 2212, 111, 22, 22] type='5 * int32'>,\n",
       " <Array [2214, 2212, 111, 22, 22] type='5 * int32'>,\n",
       " <Array [2214, 2212, 111, 22, 22] type='5 * int32'>,\n",
       " <Array [2214, 2212, 111, 22, 22, 22] type='6 * int32'>,\n",
       " <Array [2214, 2212, 111, 22, 22] type='5 * int32'>,\n",
       " <Array [2214, 2212, 111, 22, 22] type='5 * int32'>,\n",
       " <Array [2214, 2212, 111, 22, 22] type='5 * int32'>,\n",
       " <Array [2214, 2212, 111, 22, 22] type='5 * int32'>,\n",
       " <Array [2214, 2212, 111, 22, 22, 22] type='6 * int32'>,\n",
       " <Array [2214, 2212, 111, 22, 22] type='5 * int32'>,\n",
       " <Array [2214, 2212, 111, 22, 22, 22] type='6 * int32'>,\n",
       " <Array [2214, 2212, 111, 22, 22] type='5 * int32'>,\n",
       " <Array [2214, 2212, 111, 22, 22] type='5 * int32'>,\n",
       " <Array [2214, 2212, 111, -11, 11, 22] type='6 * int32'>,\n",
       " <Array [2214, 2212, 111, 22, 22] type='5 * int32'>,\n",
       " <Array [2214, 2212, 111, 22, 22] type='5 * int32'>,\n",
       " <Array [2214, 2212, 111, 22, 22] type='5 * int32'>,\n",
       " <Array [2214, 2212, 111, 22, 22] type='5 * int32'>,\n",
       " <Array [2214, 2212, 111, 22, 22] type='5 * int32'>,\n",
       " <Array [2214, 2212, 111, 22, 22] type='5 * int32'>,\n",
       " <Array [2214, 2212, 111, 22, 22] type='5 * int32'>,\n",
       " <Array [2214, 2212, 111, 22, 22] type='5 * int32'>,\n",
       " <Array [2214, 2212, 111, 22, 22] type='5 * int32'>,\n",
       " <Array [2214, 2212, 111, 22, 22] type='5 * int32'>,\n",
       " <Array [2214, 2212, 111, 22, 22] type='5 * int32'>,\n",
       " <Array [2214, 2212, 111, 22, 22] type='5 * int32'>,\n",
       " <Array [2214, 2212, 111, 22, 22] type='5 * int32'>,\n",
       " <Array [2214, 2212, 111, 22, 22] type='5 * int32'>,\n",
       " <Array [2214, 2212, 111, 22, 22] type='5 * int32'>,\n",
       " <Array [2214, 2212, 111, 22, 22] type='5 * int32'>,\n",
       " <Array [2214, 2212, 111, 22, 22] type='5 * int32'>,\n",
       " <Array [2214, 2212, 111, 22, 22] type='5 * int32'>,\n",
       " <Array [2214, 2212, 111, 22, 22] type='5 * int32'>,\n",
       " <Array [2214, 2212, 111, 22, 22] type='5 * int32'>,\n",
       " <Array [2214, 2212, 111, 22, 22] type='5 * int32'>,\n",
       " <Array [2214, 2212, 111, 22, 22] type='5 * int32'>,\n",
       " <Array [2214, 2212, 111, 22, 22] type='5 * int32'>,\n",
       " <Array [2214, 2212, 111, 22, 22] type='5 * int32'>,\n",
       " <Array [2214, 2212, 111, 22, 22] type='5 * int32'>,\n",
       " <Array [2214, 2212, 111, 22, 22] type='5 * int32'>,\n",
       " <Array [2214, 2212, 111, 22, 22] type='5 * int32'>,\n",
       " <Array [2214, 2212, 111, 22, 22] type='5 * int32'>,\n",
       " <Array [2214, 2212, 111, 22, 22] type='5 * int32'>,\n",
       " <Array [2214, 2212, 111, 22, 22] type='5 * int32'>,\n",
       " <Array [2214, 2212, 111, 22, 22] type='5 * int32'>,\n",
       " <Array [2214, 2212, 111, 22, 22] type='5 * int32'>,\n",
       " <Array [2214, 2212, 111, 22, 22] type='5 * int32'>,\n",
       " <Array [2214, 2212, 111, 22, 22] type='5 * int32'>,\n",
       " <Array [2214, 2212, 111, 22, 22] type='5 * int32'>,\n",
       " <Array [2214, 2212, 111, 22, 22] type='5 * int32'>,\n",
       " <Array [2214, 2212, 111, 22, 22] type='5 * int32'>,\n",
       " <Array [2214, 2212, 111, 22, 22] type='5 * int32'>,\n",
       " <Array [2214, 2212, 111, 22, 22] type='5 * int32'>,\n",
       " <Array [2214, 2212, 111, 22, 22] type='5 * int32'>,\n",
       " <Array [2214, 2212, 111, 22, 22] type='5 * int32'>,\n",
       " <Array [2214, 2212, 111, 22, 22] type='5 * int32'>,\n",
       " <Array [2214, 2212, 111, 22, 22] type='5 * int32'>,\n",
       " <Array [2214, 2212, 111, -11, 11, 22] type='6 * int32'>,\n",
       " <Array [2214, 2212, 111, 22, 22] type='5 * int32'>,\n",
       " <Array [2214, 2212, 111, 22, 22] type='5 * int32'>,\n",
       " <Array [2214, 2212, 111, 22, 22] type='5 * int32'>,\n",
       " <Array [2214, 2212, 111, 22, 22] type='5 * int32'>,\n",
       " <Array [2214, 2212, 111, 22, 22] type='5 * int32'>,\n",
       " <Array [2214, 2212, 111, 22, 22] type='5 * int32'>,\n",
       " <Array [2214, 2212, 111, 22, 22] type='5 * int32'>,\n",
       " <Array [2214, 2212, 111, 22, 22] type='5 * int32'>,\n",
       " <Array [2214, 2212, 111, 22, 22] type='5 * int32'>,\n",
       " <Array [2214, 2212, 111, 22, 22] type='5 * int32'>,\n",
       " <Array [2214, 2212, 111, 22, 22] type='5 * int32'>,\n",
       " <Array [2214, 2212, 111, 22, 22] type='5 * int32'>,\n",
       " <Array [2214, 2212, 111, 22, 22] type='5 * int32'>,\n",
       " <Array [2214, 2212, 111, 22, 22] type='5 * int32'>,\n",
       " <Array [2214, 2212, 111, 22, 22] type='5 * int32'>,\n",
       " <Array [2214, 2212, 111, 22, 22] type='5 * int32'>,\n",
       " <Array [2214, 2212, 111, 22, 22] type='5 * int32'>,\n",
       " <Array [2214, 2212, 111, 22, 22] type='5 * int32'>,\n",
       " <Array [2214, 2212, 111, 22, 22] type='5 * int32'>,\n",
       " <Array [2214, 2212, 111, 22, 22] type='5 * int32'>,\n",
       " <Array [2214, 2212, 111, 22, 22] type='5 * int32'>,\n",
       " <Array [2214, 2212, 111, 22, 22] type='5 * int32'>,\n",
       " <Array [2214, 2212, 111, 22, 22] type='5 * int32'>,\n",
       " <Array [2214, 2212, 111, 22, 22] type='5 * int32'>,\n",
       " <Array [2214, 2212, 111, 22, 22] type='5 * int32'>,\n",
       " <Array [2214, 2212, 111, 22, 22] type='5 * int32'>,\n",
       " <Array [2214, 2212, 111, 22, 22] type='5 * int32'>,\n",
       " <Array [2214, 2212, 111, 22, 22] type='5 * int32'>,\n",
       " <Array [2214, 2212, 111, 22, 22] type='5 * int32'>,\n",
       " <Array [2214, 2212, 111, 22, 22] type='5 * int32'>,\n",
       " <Array [2214, 2212, 111, 22, 22] type='5 * int32'>,\n",
       " <Array [2214, 2212, 111, 22, 22] type='5 * int32'>,\n",
       " <Array [2214, 2212, 111, 22, 22] type='5 * int32'>,\n",
       " <Array [2214, 2212, 111, 22, 22] type='5 * int32'>,\n",
       " <Array [2214, 2212, 111, 22, 22] type='5 * int32'>,\n",
       " <Array [2214, 2212, 111, 22, 22] type='5 * int32'>,\n",
       " <Array [2214, 2212, 111, 22, 22] type='5 * int32'>,\n",
       " <Array [2214, 2212, 111, 22, 22] type='5 * int32'>,\n",
       " <Array [2214, 2212, 111, 22, 22] type='5 * int32'>,\n",
       " <Array [2214, 2212, 111, 22, 22] type='5 * int32'>,\n",
       " <Array [2214, 2212, 111, 22, 22] type='5 * int32'>,\n",
       " <Array [2214, 2212, 111, 22, 22] type='5 * int32'>,\n",
       " <Array [2214, 2212, 111, 22, 22] type='5 * int32'>,\n",
       " <Array [2214, 2212, 111, 22, 22] type='5 * int32'>,\n",
       " <Array [2214, 2212, 111, 22, 22] type='5 * int32'>,\n",
       " <Array [2214, 2212, 111, 22, 22] type='5 * int32'>,\n",
       " <Array [2214, 2212, 111, 22, 22] type='5 * int32'>,\n",
       " <Array [2214, 2212, 111, 22, 22] type='5 * int32'>,\n",
       " <Array [2214, 2212, 111, 22, 22] type='5 * int32'>,\n",
       " <Array [2214, 2212, 111, 22, 22] type='5 * int32'>,\n",
       " <Array [2214, 2212, 111, 22, 22] type='5 * int32'>,\n",
       " <Array [2214, 2212, 111, 22, 22] type='5 * int32'>,\n",
       " <Array [2214, 2212, 111, 22, 22] type='5 * int32'>,\n",
       " <Array [2214, 2212, 111, 22, 22] type='5 * int32'>,\n",
       " <Array [2214, 2212, 111, 22, 22] type='5 * int32'>,\n",
       " <Array [2214, 2212, 111, 22, 22] type='5 * int32'>,\n",
       " <Array [2214, 2212, 111, 22, 22] type='5 * int32'>,\n",
       " <Array [2214, 2212, 111, 22, 22] type='5 * int32'>,\n",
       " <Array [2214, 2212, 111, 22, 22] type='5 * int32'>,\n",
       " <Array [2214, 2212, 111, 22, 22] type='5 * int32'>,\n",
       " <Array [2214, 2212, 111, 22, 22] type='5 * int32'>,\n",
       " <Array [2214, 2212, 111, 22, 22] type='5 * int32'>,\n",
       " <Array [2214, 2212, 111, 22, 22] type='5 * int32'>,\n",
       " <Array [2214, 2212, 111, 22, 22] type='5 * int32'>,\n",
       " <Array [2214, 2212, 111, 22, 22] type='5 * int32'>,\n",
       " <Array [2214, 2212, 111, 22, 22] type='5 * int32'>,\n",
       " <Array [2214, 2212, 111, 22, 22] type='5 * int32'>,\n",
       " <Array [2214, 2212, 111, 22, 22] type='5 * int32'>,\n",
       " <Array [2214, 2212, 111, 22, 22] type='5 * int32'>,\n",
       " <Array [2214, 2212, 111, 22, 22] type='5 * int32'>,\n",
       " <Array [2214, 2212, 111, 22, 22] type='5 * int32'>,\n",
       " <Array [2214, 2212, 111, 22, 22] type='5 * int32'>,\n",
       " <Array [2214, 2212, 111, 22, 22] type='5 * int32'>,\n",
       " <Array [2214, 2212, 111, 22, 22] type='5 * int32'>,\n",
       " <Array [2214, 2212, 111, 22, 22] type='5 * int32'>,\n",
       " <Array [2214, 2212, 111, 22, 22] type='5 * int32'>,\n",
       " <Array [2214, 2212, 111, 22, 22] type='5 * int32'>,\n",
       " <Array [2214, 2212, 111, 22, 22] type='5 * int32'>,\n",
       " <Array [2214, 2212, 111, 22, 22] type='5 * int32'>,\n",
       " <Array [2214, 2212, 111, 22, 22] type='5 * int32'>,\n",
       " <Array [2214, 2212, 111, 22, 22] type='5 * int32'>,\n",
       " <Array [2214, 2212, 111, 22, 22] type='5 * int32'>,\n",
       " <Array [2214, 2212, 111, 22, 22] type='5 * int32'>,\n",
       " <Array [2214, 2212, 111, 22, 22] type='5 * int32'>,\n",
       " <Array [2214, 2212, 111, 22, 22] type='5 * int32'>,\n",
       " <Array [2214, 2212, 111, 22, 22, 22] type='6 * int32'>,\n",
       " <Array [2214, 2212, 111, 22, 22] type='5 * int32'>,\n",
       " <Array [2214, 2212, 111, 22, 22] type='5 * int32'>,\n",
       " <Array [2214, 2212, 111, 22, 22] type='5 * int32'>,\n",
       " <Array [2214, 2212, 111, 22, 22] type='5 * int32'>,\n",
       " <Array [2214, 2212, 111, 22, 22] type='5 * int32'>,\n",
       " <Array [2214, 2212, 111, 22, 22] type='5 * int32'>,\n",
       " <Array [2214, 2212, 111, 22, 22] type='5 * int32'>,\n",
       " <Array [2214, 2212, 111, 22, 22] type='5 * int32'>,\n",
       " <Array [2214, 2212, 111, 22, 22, 22] type='6 * int32'>,\n",
       " <Array [2214, 2212, 111, 22, 22] type='5 * int32'>,\n",
       " <Array [2214, 2212, 111, 22, 22] type='5 * int32'>,\n",
       " <Array [2214, 2212, 111, 22, 22] type='5 * int32'>,\n",
       " <Array [2214, 2212, 111, 22, 22] type='5 * int32'>,\n",
       " <Array [2214, 2212, 111, 22, 22] type='5 * int32'>,\n",
       " <Array [2214, 2212, 111, 22, 22] type='5 * int32'>,\n",
       " <Array [2214, 2212, 111, 22, 22] type='5 * int32'>,\n",
       " <Array [2214, 2212, 111, 22, 22] type='5 * int32'>,\n",
       " <Array [2214, 2212, 111, 22, 22] type='5 * int32'>,\n",
       " <Array [2214, 2212, 111, 22, 22] type='5 * int32'>,\n",
       " <Array [2214, 2212, 111, 22, 22] type='5 * int32'>,\n",
       " <Array [2214, 2212, 111, 22, 22] type='5 * int32'>,\n",
       " <Array [2214, 2212, 111, 22, 22] type='5 * int32'>,\n",
       " <Array [2214, 2212, 111, 22, 22] type='5 * int32'>,\n",
       " <Array [2214, 2212, 111, 22, 22] type='5 * int32'>,\n",
       " <Array [2214, 2212, 111, 22, 22] type='5 * int32'>,\n",
       " <Array [2214, 2212, 111, 22, 22] type='5 * int32'>,\n",
       " <Array [2214, 2212, 111, 22, 22] type='5 * int32'>,\n",
       " <Array [2214, 2212, 111, 22, 22] type='5 * int32'>,\n",
       " <Array [2214, 2212, 111, 22, 22] type='5 * int32'>,\n",
       " <Array [2214, 2212, 111, 22, 22] type='5 * int32'>,\n",
       " <Array [2214, 2212, 111, 22, 22] type='5 * int32'>,\n",
       " <Array [2214, 2212, 111, 22, 22] type='5 * int32'>,\n",
       " <Array [2214, 2212, 111, 22, 22] type='5 * int32'>,\n",
       " <Array [2214, 2212, 111, 22, 22] type='5 * int32'>,\n",
       " <Array [2214, 2212, 111, 22, 22] type='5 * int32'>,\n",
       " <Array [2214, 2212, 111, 22, 22] type='5 * int32'>,\n",
       " <Array [2214, 2212, 111, 22, 22] type='5 * int32'>,\n",
       " <Array [2214, 2212, 111, 22, 22] type='5 * int32'>,\n",
       " <Array [2214, 2212, 111, 22, 22] type='5 * int32'>,\n",
       " <Array [2214, 2212, 111, 22, 22] type='5 * int32'>,\n",
       " <Array [2214, 2212, 111, 22, 22] type='5 * int32'>,\n",
       " <Array [2214, 2212, 111, 22, 22] type='5 * int32'>,\n",
       " <Array [2214, 2212, 111, 22, 22] type='5 * int32'>,\n",
       " <Array [2214, 2212, 111, 22, 22] type='5 * int32'>,\n",
       " <Array [2214, 2212, 111, 22, 22] type='5 * int32'>,\n",
       " <Array [2214, 2212, 111, 22, 22] type='5 * int32'>,\n",
       " <Array [2214, 2212, 111, 22, 22] type='5 * int32'>,\n",
       " <Array [2214, 2212, 111, 22, 22] type='5 * int32'>,\n",
       " <Array [2214, 2212, 111, 22, 22] type='5 * int32'>,\n",
       " <Array [2214, 2212, 111, 22, 22] type='5 * int32'>,\n",
       " <Array [2214, 2212, 111, 22, 22] type='5 * int32'>,\n",
       " <Array [2214, 2212, 111, 22, 22] type='5 * int32'>,\n",
       " <Array [2214, 2212, 111, 22, 22] type='5 * int32'>,\n",
       " <Array [2214, 2212, 111, 22, 22] type='5 * int32'>,\n",
       " <Array [2214, 2212, 111, 22, 22] type='5 * int32'>,\n",
       " <Array [2214, 2212, 111, 22, 22] type='5 * int32'>,\n",
       " <Array [2214, 2212, 111, 22, 22, 22] type='6 * int32'>,\n",
       " <Array [2214, 2212, 111, 22, 22] type='5 * int32'>,\n",
       " <Array [2214, 2212, 111, 22, 22] type='5 * int32'>,\n",
       " <Array [2214, 2212, 111, 22, 22] type='5 * int32'>,\n",
       " <Array [2214, 2212, 111, 22, 22] type='5 * int32'>,\n",
       " <Array [2214, 2212, 111, 22, 22] type='5 * int32'>,\n",
       " <Array [2214, 2212, 111, 22, 22, 22] type='6 * int32'>,\n",
       " <Array [2214, 2212, 111, 22, 22] type='5 * int32'>,\n",
       " <Array [2214, 2212, 111, 22, 22] type='5 * int32'>,\n",
       " <Array [2214, 2212, 111, 22, 22, 22] type='6 * int32'>,\n",
       " <Array [2214, 2212, 111, 22, 22] type='5 * int32'>,\n",
       " <Array [2214, 2212, 111, 22, 22] type='5 * int32'>,\n",
       " <Array [2214, 2212, 111, 22, 22] type='5 * int32'>,\n",
       " <Array [2214, 2212, 111, 22, 22] type='5 * int32'>,\n",
       " <Array [2214, 2212, 111, 22, 22] type='5 * int32'>,\n",
       " <Array [2214, 2212, 111, 22, 22] type='5 * int32'>,\n",
       " <Array [2214, 2212, 111, 22, 22] type='5 * int32'>,\n",
       " <Array [2214, 2212, 111, 22, 22] type='5 * int32'>,\n",
       " <Array [2214, 2212, 111, 22, 22] type='5 * int32'>,\n",
       " <Array [2214, 2212, 111, 22, 22] type='5 * int32'>,\n",
       " <Array [2214, 2212, 111, 22, 22] type='5 * int32'>,\n",
       " <Array [2214, 2212, 111, 22, 22] type='5 * int32'>,\n",
       " <Array [2214, 2212, 111, 22, 22] type='5 * int32'>,\n",
       " <Array [2214, 2212, 111, 22, 22] type='5 * int32'>,\n",
       " <Array [2214, 2212, 111, 22, 22] type='5 * int32'>,\n",
       " <Array [2214, 2212, 111, 22, 22] type='5 * int32'>,\n",
       " <Array [2214, 2212, 111, 22, 22] type='5 * int32'>,\n",
       " <Array [2214, 2212, 111, 22, 22] type='5 * int32'>,\n",
       " <Array [2214, 2212, 111, 22, 22] type='5 * int32'>,\n",
       " <Array [2214, 2212, 111, 22, 22] type='5 * int32'>,\n",
       " <Array [2214, 2212, 111, 22, 22] type='5 * int32'>,\n",
       " <Array [2214, 2212, 111, 22, 22] type='5 * int32'>,\n",
       " <Array [2214, 2212, 111, 22, 22] type='5 * int32'>,\n",
       " <Array [2214, 2212, 111, 22, 22] type='5 * int32'>,\n",
       " <Array [2214, 2212, 111, 22, 22] type='5 * int32'>,\n",
       " <Array [2214, 2212, 111, 22, 22] type='5 * int32'>,\n",
       " <Array [2214, 2212, 111, 22, 22] type='5 * int32'>,\n",
       " <Array [2214, 2212, 111, 22, 22] type='5 * int32'>,\n",
       " <Array [2214, 2212, 111, 22, 22] type='5 * int32'>,\n",
       " <Array [2214, 2212, 111, 22, 22] type='5 * int32'>,\n",
       " <Array [2214, 2212, 111, 22, 22] type='5 * int32'>,\n",
       " <Array [2214, 2212, 111, 22, 22] type='5 * int32'>,\n",
       " <Array [2214, 2212, 111, 22, 22] type='5 * int32'>,\n",
       " <Array [2214, 2212, 111, 22, 22] type='5 * int32'>,\n",
       " <Array [2214, 2212, 111, 22, 22] type='5 * int32'>,\n",
       " <Array [2214, 2212, 111, 22, 22] type='5 * int32'>,\n",
       " <Array [2214, 2212, 111, 22, 22] type='5 * int32'>,\n",
       " <Array [2214, 2212, 111, 22, 22] type='5 * int32'>,\n",
       " <Array [2214, 2212, 111, 22, 22] type='5 * int32'>,\n",
       " <Array [2214, 2212, 111, 22, 22] type='5 * int32'>,\n",
       " <Array [2214, 2212, 111, 22, 22] type='5 * int32'>,\n",
       " <Array [2214, 2212, 111, 22, 22] type='5 * int32'>,\n",
       " <Array [2214, 2212, 111, 22, 22] type='5 * int32'>,\n",
       " <Array [2214, 2212, 111, 22, 22] type='5 * int32'>,\n",
       " <Array [2214, 2212, 111, 22, 22] type='5 * int32'>,\n",
       " <Array [2214, 2212, 111, 22, 22] type='5 * int32'>,\n",
       " <Array [2214, 2212, 111, 22, 22] type='5 * int32'>,\n",
       " <Array [2214, 2212, 111, 22, 22] type='5 * int32'>,\n",
       " <Array [2214, 2212, 111, 22, 22] type='5 * int32'>,\n",
       " <Array [2214, 2212, 111, 22, 22] type='5 * int32'>,\n",
       " <Array [2214, 2212, 111, 22, 22] type='5 * int32'>,\n",
       " <Array [2214, 2212, 111, 22, 22] type='5 * int32'>,\n",
       " <Array [2214, 2212, 111, 22, 22] type='5 * int32'>,\n",
       " <Array [2214, 2212, 111, 22, 22] type='5 * int32'>,\n",
       " <Array [2214, 2212, 111, 22, 22] type='5 * int32'>,\n",
       " <Array [2214, 2212, 111, 22, 22] type='5 * int32'>,\n",
       " <Array [2214, 2212, 111, 22, 22, 22] type='6 * int32'>,\n",
       " <Array [2214, 2212, 111, 22, 22] type='5 * int32'>,\n",
       " <Array [2214, 2212, 111, 22, 22] type='5 * int32'>,\n",
       " <Array [2214, 2212, 111, 22, 22] type='5 * int32'>,\n",
       " <Array [2214, 2212, 111, 22, 22] type='5 * int32'>,\n",
       " <Array [2214, 2212, 111, 22, 22] type='5 * int32'>,\n",
       " <Array [2214, 2212, 111, 22, 22, 22] type='6 * int32'>,\n",
       " <Array [2214, 2212, 111, 22, 22] type='5 * int32'>,\n",
       " <Array [2214, 2212, 111, 22, 22] type='5 * int32'>,\n",
       " <Array [2214, 2212, 111, 22, 22] type='5 * int32'>,\n",
       " <Array [2214, 2212, 111, 22, 22] type='5 * int32'>,\n",
       " <Array [2214, 2212, 111, 22, 22] type='5 * int32'>,\n",
       " <Array [2214, 2212, 111, 22, 22] type='5 * int32'>,\n",
       " <Array [2214, 2212, 111, 22, 22] type='5 * int32'>,\n",
       " <Array [2214, 2212, 111, 22, 22] type='5 * int32'>,\n",
       " <Array [2214, 2212, 111, 22, 22] type='5 * int32'>,\n",
       " <Array [2214, 2212, 111, 22, 22] type='5 * int32'>,\n",
       " <Array [2214, 2212, 111, 22, 22] type='5 * int32'>,\n",
       " <Array [2214, 2212, 111, 22, 22] type='5 * int32'>,\n",
       " <Array [2214, 2212, 111, 22, 22] type='5 * int32'>,\n",
       " <Array [2214, 2212, 111, 22, 22] type='5 * int32'>,\n",
       " <Array [2214, 2212, 111, 22, 22, 22] type='6 * int32'>,\n",
       " <Array [2214, 2212, 111, 22, 22] type='5 * int32'>,\n",
       " <Array [2214, 2212, 111, 22, 22] type='5 * int32'>,\n",
       " <Array [2214, 2212, 111, 22, 22] type='5 * int32'>,\n",
       " <Array [2214, 2212, 111, 22, 22] type='5 * int32'>,\n",
       " <Array [2214, 2212, 111, 22, 22] type='5 * int32'>,\n",
       " <Array [2214, 2212, 111, 22, 22] type='5 * int32'>,\n",
       " <Array [2214, 2212, 111, 22, 22] type='5 * int32'>,\n",
       " <Array [2214, 2212, 111, 22, 22] type='5 * int32'>,\n",
       " <Array [2214, 2212, 111, 22, 22] type='5 * int32'>,\n",
       " <Array [2214, 2212, 111, 22, 22] type='5 * int32'>,\n",
       " <Array [2214, 2212, 111, 22, 22] type='5 * int32'>,\n",
       " <Array [2214, 2212, 111, 22, 22] type='5 * int32'>,\n",
       " <Array [2214, 2212, 111, 22, 22] type='5 * int32'>,\n",
       " <Array [2214, 2212, 111, 22, 22] type='5 * int32'>,\n",
       " <Array [2214, 2212, 111, 22, 22] type='5 * int32'>,\n",
       " <Array [2214, 2212, 111, 22, 22] type='5 * int32'>,\n",
       " <Array [2214, 2212, 111, 22, 22] type='5 * int32'>,\n",
       " <Array [2214, 2212, 111, 22, 22] type='5 * int32'>,\n",
       " <Array [2214, 2212, 111, 22, 22] type='5 * int32'>,\n",
       " <Array [2214, 2212, 111, 22, 22] type='5 * int32'>,\n",
       " <Array [2214, 2212, 111, 22, 22] type='5 * int32'>,\n",
       " <Array [2214, 2212, 111, 22, 22] type='5 * int32'>,\n",
       " <Array [2214, 2212, 111, 22, 22] type='5 * int32'>,\n",
       " <Array [2214, 2212, 111, 22, 22] type='5 * int32'>,\n",
       " <Array [2214, 2212, 111, 22, 22] type='5 * int32'>,\n",
       " <Array [2214, 2212, 111, 22, 22] type='5 * int32'>,\n",
       " <Array [2214, 2212, 111, 22, 22] type='5 * int32'>,\n",
       " <Array [2214, 2212, 111, 22, 22] type='5 * int32'>,\n",
       " <Array [2214, 2212, 111, 22, 22] type='5 * int32'>,\n",
       " <Array [2214, 2212, 111, 22, 22, 22] type='6 * int32'>,\n",
       " <Array [2214, 2212, 111, 22, 22] type='5 * int32'>,\n",
       " <Array [2214, 2212, 111, 22, 22] type='5 * int32'>,\n",
       " <Array [2214, 2212, 111, 22, 22] type='5 * int32'>,\n",
       " <Array [2214, 2212, 111, 22, 22] type='5 * int32'>,\n",
       " <Array [2214, 2212, 111, 22, 22] type='5 * int32'>,\n",
       " <Array [2214, 2212, 111, 22, 22] type='5 * int32'>,\n",
       " <Array [2214, 2212, 111, 22, 22] type='5 * int32'>,\n",
       " <Array [2214, 2212, 111, 22, 22] type='5 * int32'>,\n",
       " <Array [2214, 2212, 111, -11, 11, 22] type='6 * int32'>,\n",
       " <Array [2214, 2212, 111, 22, 22] type='5 * int32'>,\n",
       " <Array [2214, 2212, 111, 22, 22] type='5 * int32'>,\n",
       " <Array [2214, 2212, 111, 22, 22] type='5 * int32'>,\n",
       " <Array [2214, 2212, 111, 22, 22, 22] type='6 * int32'>,\n",
       " <Array [2214, 2212, 111, 22, 22] type='5 * int32'>,\n",
       " <Array [2214, 2212, 111, -11, 11, 22] type='6 * int32'>,\n",
       " <Array [2214, 2212, 111, 22, 22] type='5 * int32'>,\n",
       " <Array [2214, 2212, 111, 22, 22] type='5 * int32'>,\n",
       " <Array [2214, 2212, 111, 22, 22] type='5 * int32'>,\n",
       " <Array [2214, 2212, 111, -11, 11, 22] type='6 * int32'>,\n",
       " <Array [2214, 2212, 111, 22, 22] type='5 * int32'>,\n",
       " <Array [2214, 2212, 111, 22, 22] type='5 * int32'>,\n",
       " <Array [2214, 2212, 111, 22, 22] type='5 * int32'>,\n",
       " <Array [2214, 2212, 111, 22, 22] type='5 * int32'>,\n",
       " <Array [2214, 2212, 111, 22, 22] type='5 * int32'>,\n",
       " <Array [2214, 2212, 111, 22, 22] type='5 * int32'>,\n",
       " <Array [2214, 2212, 111, 22, 22] type='5 * int32'>,\n",
       " <Array [2214, 2212, 111, 22, 22] type='5 * int32'>,\n",
       " <Array [2214, 2212, 111, 22, 22] type='5 * int32'>,\n",
       " <Array [2214, 2212, 111, 22, 22] type='5 * int32'>,\n",
       " <Array [2214, 2212, 111, 22, 22] type='5 * int32'>,\n",
       " <Array [2214, 2212, 111, 22, 22] type='5 * int32'>,\n",
       " <Array [2214, 2212, 111, 22, 22] type='5 * int32'>,\n",
       " <Array [2214, 2212, 111, 22, 22, 22] type='6 * int32'>,\n",
       " <Array [2214, 2212, 111, 22, 22] type='5 * int32'>,\n",
       " <Array [2214, 2212, 111, 22, 22] type='5 * int32'>,\n",
       " <Array [2214, 2212, 111, 22, 22] type='5 * int32'>,\n",
       " <Array [2214, 2212, 111, 22, 22] type='5 * int32'>,\n",
       " <Array [2214, 2212, 111, 22, 22] type='5 * int32'>,\n",
       " <Array [2214, 2212, 111, 22, 22] type='5 * int32'>,\n",
       " <Array [2214, 2212, 111, 22, 22] type='5 * int32'>,\n",
       " <Array [2214, 2212, 111, 22, 22] type='5 * int32'>,\n",
       " <Array [2214, 2212, 111, 22, 22] type='5 * int32'>,\n",
       " <Array [2214, 2212, 111, 22, 22, 22] type='6 * int32'>,\n",
       " <Array [2214, 2212, 111, 22, 22] type='5 * int32'>,\n",
       " <Array [2214, 2212, 111, 22, 22] type='5 * int32'>,\n",
       " <Array [2214, 2212, 111, 22, 22] type='5 * int32'>,\n",
       " <Array [2214, 2212, 111, 22, 22] type='5 * int32'>,\n",
       " <Array [2214, 2212, 111, 22, 22] type='5 * int32'>,\n",
       " <Array [2214, 2212, 111, 22, 22] type='5 * int32'>,\n",
       " <Array [2214, 2212, 111, 22, 22] type='5 * int32'>,\n",
       " <Array [2214, 2212, 111, 22, 22] type='5 * int32'>,\n",
       " <Array [2214, 2212, 111, 22, 22] type='5 * int32'>,\n",
       " <Array [2214, 2212, 111, 22, 22] type='5 * int32'>,\n",
       " <Array [2214, 2212, 111, 22, 22] type='5 * int32'>,\n",
       " <Array [2214, 2212, 111, 22, 22] type='5 * int32'>,\n",
       " <Array [2214, 2212, 111, 22, 22] type='5 * int32'>,\n",
       " <Array [2214, 2212, 111, 22, 22] type='5 * int32'>,\n",
       " <Array [2214, 2212, 111, 22, 22] type='5 * int32'>,\n",
       " <Array [2214, 2212, 111, 22, 22] type='5 * int32'>,\n",
       " <Array [2214, 2212, 111, 22, 22] type='5 * int32'>,\n",
       " <Array [2214, 2212, 111, 22, 22] type='5 * int32'>,\n",
       " <Array [2214, 2212, 111, 22, 22] type='5 * int32'>,\n",
       " <Array [2214, 2212, 111, 22, 22] type='5 * int32'>,\n",
       " <Array [2214, 2212, 111, 22, 22] type='5 * int32'>,\n",
       " <Array [2214, 2212, 111, 22, 22] type='5 * int32'>,\n",
       " <Array [2214, 2212, 111, 22, 22] type='5 * int32'>,\n",
       " <Array [2214, 2212, 111, 22, 22] type='5 * int32'>,\n",
       " <Array [2214, 2212, 111, 22, 22] type='5 * int32'>,\n",
       " <Array [2214, 2212, 111, 22, 22, 22] type='6 * int32'>,\n",
       " <Array [2214, 2212, 111, 22, 22] type='5 * int32'>,\n",
       " <Array [2214, 2212, 111, 22, 22] type='5 * int32'>,\n",
       " <Array [2214, 2212, 111, 22, 22] type='5 * int32'>,\n",
       " <Array [2214, 2212, 111, 22, 22] type='5 * int32'>,\n",
       " <Array [2214, 2212, 111, 22, 22] type='5 * int32'>,\n",
       " <Array [2214, 2212, 111, 22, 22] type='5 * int32'>,\n",
       " <Array [2214, 2212, 111, 22, 22] type='5 * int32'>,\n",
       " <Array [2214, 2212, 111, 22, 22] type='5 * int32'>,\n",
       " <Array [2214, 2212, 111, 22, 22] type='5 * int32'>,\n",
       " <Array [2214, 2212, 111, 22, 22] type='5 * int32'>,\n",
       " <Array [2214, 2212, 111, 22, 22] type='5 * int32'>,\n",
       " <Array [2214, 2212, 111, 22, 22] type='5 * int32'>,\n",
       " <Array [2214, 2212, 111, 22, 22] type='5 * int32'>,\n",
       " <Array [2214, 2212, 111, 22, 22] type='5 * int32'>,\n",
       " <Array [2214, 2212, 111, 22, 22] type='5 * int32'>,\n",
       " <Array [2214, 2212, 111, 22, 22] type='5 * int32'>,\n",
       " <Array [2214, 2212, 111, 22, 22] type='5 * int32'>,\n",
       " <Array [2214, 2212, 111, 22, 22] type='5 * int32'>,\n",
       " <Array [2214, 2212, 111, 22, 22] type='5 * int32'>,\n",
       " <Array [2214, 2212, 111, 22, 22] type='5 * int32'>,\n",
       " <Array [2214, 2212, 111, 22, 22] type='5 * int32'>,\n",
       " <Array [2214, 2212, 111, 22, 22, 22] type='6 * int32'>,\n",
       " <Array [2214, 2212, 111, 22, 22] type='5 * int32'>,\n",
       " <Array [2214, 2212, 111, 22, 22] type='5 * int32'>,\n",
       " <Array [2214, 2212, 111, 22, 22] type='5 * int32'>,\n",
       " <Array [2214, 2212, 111, 22, 22] type='5 * int32'>,\n",
       " <Array [2214, 2212, 111, 22, 22, 22] type='6 * int32'>,\n",
       " <Array [2214, 2212, 111, 22, 22] type='5 * int32'>,\n",
       " <Array [2214, 2212, 111, 22, 22] type='5 * int32'>,\n",
       " <Array [2214, 2212, 111, 22, 22] type='5 * int32'>,\n",
       " <Array [2214, 2212, 111, 22, 22] type='5 * int32'>,\n",
       " <Array [2214, 2212, 111, 22, 22] type='5 * int32'>,\n",
       " <Array [2214, 2212, 111, 22, 22] type='5 * int32'>,\n",
       " <Array [2214, 2212, 111, 22, 22] type='5 * int32'>,\n",
       " <Array [2214, 2212, 111, 22, 22] type='5 * int32'>,\n",
       " <Array [2214, 2212, 111, 22, 22] type='5 * int32'>,\n",
       " <Array [2214, 2212, 111, 22, 22] type='5 * int32'>,\n",
       " <Array [2214, 2212, 111, 22, 22, 22] type='6 * int32'>,\n",
       " <Array [2214, 2212, 111, 22, 22, 22] type='6 * int32'>,\n",
       " <Array [2214, 2212, 111, 22, 22] type='5 * int32'>,\n",
       " <Array [2214, 2212, 111, 22, 22] type='5 * int32'>,\n",
       " <Array [2214, 2212, 111, 22, 22] type='5 * int32'>,\n",
       " <Array [2214, 2212, 111, 22, 22, 22] type='6 * int32'>,\n",
       " <Array [2214, 2212, 111, 22, 22] type='5 * int32'>,\n",
       " <Array [2214, 2212, 111, 22, 22] type='5 * int32'>,\n",
       " <Array [2214, 2212, 111, 22, 22] type='5 * int32'>,\n",
       " <Array [2214, 2212, 111, 22, 22] type='5 * int32'>,\n",
       " <Array [2214, 2212, 111, 22, 22] type='5 * int32'>,\n",
       " <Array [2214, 2212, 111, 22, 22] type='5 * int32'>,\n",
       " <Array [2214, 2212, 111, 22, 22] type='5 * int32'>,\n",
       " <Array [2214, 2212, 111, 22, 22] type='5 * int32'>,\n",
       " <Array [2214, 2212, 111, 22, 22] type='5 * int32'>,\n",
       " <Array [2214, 2212, 111, 22, 22] type='5 * int32'>,\n",
       " <Array [2214, 2212, 111, 22, 22] type='5 * int32'>,\n",
       " <Array [2214, 2212, 111, 22, 22] type='5 * int32'>,\n",
       " <Array [2214, 2212, 111, 22, 22] type='5 * int32'>,\n",
       " <Array [2214, 2212, 111, 22, 22] type='5 * int32'>,\n",
       " ...]"
      ]
     },
     "execution_count": 23,
     "metadata": {},
     "output_type": "execute_result"
    }
   ],
   "source": [
    "selection #WHOA THIS WORKED???!!!! that was some damn good coding kaela damn"
   ]
  },
  {
   "cell_type": "markdown",
   "id": "5a4f9cf2-2544-4bf8-8f62-86ba634f7ff2",
   "metadata": {},
   "source": [
    "okay but that's not the only thing I need so I need to do an actual for loop I think..."
   ]
  },
  {
   "cell_type": "code",
   "execution_count": 110,
   "id": "78ef6c0c-b00a-4c93-8210-c6c65b542586",
   "metadata": {},
   "outputs": [],
   "source": [
    "IDselec = []\n",
    "phiselec = []\n",
    "etaselec = []\n",
    "ptselec = []\n",
    "mselec = []\n",
    "for i in range(len(truthID)):\n",
    "    \n",
    "    if (111 in truthID[i]) and (2212 in truthID[i]):\n",
    "        IDselec.append(truthID[i])\n",
    "        phiselec.append(truthphi[i])\n",
    "        etaselec.append(trutheta[i])\n",
    "        ptselec.append(truthpt[i])\n",
    "        mselec.append(truthmass[i])"
   ]
  },
  {
   "cell_type": "code",
   "execution_count": 111,
   "id": "cc53ff90-89ec-4224-b9ea-684b6e0a17f7",
   "metadata": {},
   "outputs": [],
   "source": [
    "#so then I can merge those into??? a momentum 3d if I include pt? then use the built-in method????"
   ]
  },
  {
   "cell_type": "code",
   "execution_count": 112,
   "id": "1aa9567d-90c1-4474-bbf2-2c2a2033d5f1",
   "metadata": {
    "tags": []
   },
   "outputs": [
    {
     "data": {
      "text/plain": [
       "10"
      ]
     },
     "execution_count": 112,
     "metadata": {},
     "output_type": "execute_result"
    }
   ],
   "source": [
    "len(mselec[:10])"
   ]
  },
  {
   "cell_type": "code",
   "execution_count": 114,
   "id": "7c06c635-f79d-489e-a857-6cd9bdfc6fd5",
   "metadata": {},
   "outputs": [
    {
     "data": {
      "text/plain": [
       "<Array [0, 0.938, 0.135, ... 7.81e-06, 1.1e-05] type='25 * float64'>"
      ]
     },
     "execution_count": 114,
     "metadata": {},
     "output_type": "execute_result"
    }
   ],
   "source": [
    "ak.flatten(mselec[:5])"
   ]
  },
  {
   "cell_type": "code",
   "execution_count": 115,
   "id": "6fd6f48d-645b-48fe-83ad-5a48e870ac64",
   "metadata": {},
   "outputs": [
    {
     "data": {
      "text/plain": [
       "(83507, 83507, 83507)"
      ]
     },
     "execution_count": 115,
     "metadata": {},
     "output_type": "execute_result"
    }
   ],
   "source": [
    "#but for now, just gonna do the below:\n",
    "\n",
    "#flatten again:\n",
    "ID_sel_flat = np.array(ak.flatten(IDselec))\n",
    "phi_sel_flat = np.array(ak.flatten(phiselec))\n",
    "eta_sel_flat = np.array(ak.flatten(etaselec))\n",
    "pt_sel_flat = np.array(ak.flatten(ptselec))\n",
    "m_sel_flat = np.array(ak.flatten(mselec))\n",
    "\n",
    "len(ID_sel_flat), len(eta_sel_flat), len(phi_sel_flat) #okay great same lengths"
   ]
  },
  {
   "cell_type": "code",
   "execution_count": 116,
   "id": "1b1f1049-22e2-493a-8067-16e5bdf1e591",
   "metadata": {},
   "outputs": [],
   "source": [
    "pi0_sel_cut = ID_sel_flat == 111\n",
    "prot_sel_cut = ID_sel_flat == 2212"
   ]
  },
  {
   "cell_type": "code",
   "execution_count": 119,
   "id": "09e8af7d-ea77-4683-99f2-1f2debd98b4d",
   "metadata": {},
   "outputs": [],
   "source": [
    "eta_pi0sel_slice = eta_sel_flat[pi0_sel_cut]\n",
    "eta_protsel_slice = eta_sel_flat[prot_sel_cut]\n",
    "\n",
    "phi_pi0sel_slice = phi_sel_flat[pi0_sel_cut]\n",
    "phi_protsel_slice = phi_sel_flat[prot_sel_cut]\n",
    "\n",
    "pt_pi0sel_slice = pt_sel_flat[pi0_sel_cut]\n",
    "pt_protsel_slice = pt_sel_flat[prot_sel_cut]\n",
    "\n",
    "m_pi0sel_slice = m_sel_flat[pi0_sel_cut]\n",
    "m_protsel_slice = m_sel_flat[prot_sel_cut]"
   ]
  },
  {
   "cell_type": "code",
   "execution_count": 120,
   "id": "4d1de9f7-82a9-4197-83b6-45bb0fb56996",
   "metadata": {},
   "outputs": [
    {
     "data": {
      "text/plain": [
       "(16565, 16565, 16565, 16565)"
      ]
     },
     "execution_count": 120,
     "metadata": {},
     "output_type": "execute_result"
    }
   ],
   "source": [
    "len(eta_pi0sel_slice), len(eta_protsel_slice), len(phi_pi0sel_slice), len(phi_protsel_slice)\n",
    "#okay good so now they're all the same length!!!"
   ]
  },
  {
   "cell_type": "code",
   "execution_count": 140,
   "id": "f3e07417-ac07-45c8-b54a-9827c821f7ca",
   "metadata": {},
   "outputs": [],
   "source": [
    "eta = eta_pi0sel_slice - eta_protsel_slice\n",
    "phi = phi_pi0sel_slice - phi_protsel_slice\n",
    "\n",
    "deltaR = np.sqrt(eta**2 + phi**2) #silly silly silly its + instead of -"
   ]
  },
  {
   "cell_type": "code",
   "execution_count": 143,
   "id": "c65a5c5e-2055-4659-b08c-9bc3f22a945d",
   "metadata": {},
   "outputs": [
    {
     "data": {
      "text/plain": [
       "Text(0.5, 0, 'deltaR')"
      ]
     },
     "execution_count": 143,
     "metadata": {},
     "output_type": "execute_result"
    },
    {
     "data": {
      "image/png": "[encoded data removed]",
      "text/plain": [
       "<Figure size 504x504 with 1 Axes>"
      ]
     },
     "metadata": {},
     "output_type": "display_data"
    }
   ],
   "source": [
    "plt.figure(figsize=[7,7])\n",
    "plt.semilogy()\n",
    "plt.xlim(0,7.5)\n",
    "plt.hist(deltaR, bins=20, color='xkcd:hazel')\n",
    "plt.xlabel('deltaR', fontsize=15) #I think this is right??"
   ]
  },
  {
   "cell_type": "markdown",
   "id": "c90190ea-1491-4050-963f-10b5311362a6",
   "metadata": {},
   "source": [
    "### Try the built-in deltaR method"
   ]
  },
  {
   "cell_type": "code",
   "execution_count": 123,
   "id": "d94f3e27-883d-4df9-a924-62fdf846e2a6",
   "metadata": {},
   "outputs": [
    {
     "data": {
      "text/plain": [
       "(<Array [{pt: 5.6, eta: 1.75, ... mass: 0.135}] type='16565 * {\"pt\": float64, \"et...'>,\n",
       " <Array [{pt: 70.6, eta: 1.78, ... mass: 0.938}] type='16565 * {\"pt\": float64, \"e...'>)"
      ]
     },
     "execution_count": 123,
     "metadata": {},
     "output_type": "execute_result"
    }
   ],
   "source": [
    "pi0combine = ak.zip({\n",
    "    \"pt\": pt_pi0sel_slice,\n",
    "    \"eta\": eta_pi0sel_slice,\n",
    "    \"phi\": phi_pi0sel_slice,\n",
    "    \"mass\": m_pi0sel_slice,\n",
    "})\n",
    "\n",
    "protcombine = ak.zip({\n",
    "    \"pt\": pt_protsel_slice,\n",
    "    \"eta\": eta_protsel_slice,\n",
    "    \"phi\": phi_protsel_slice,\n",
    "    \"mass\": m_protsel_slice,\n",
    "})\n",
    "\n",
    "pi0combine, protcombine"
   ]
  },
  {
   "cell_type": "code",
   "execution_count": 124,
   "id": "32c638c1-50cf-4400-b902-748eb9aa70c8",
   "metadata": {},
   "outputs": [],
   "source": [
    "pi04D = ak.with_name(pi0combine, \"Momentum4D\")\n",
    "prot4D = ak.with_name(protcombine, \"Momentum4D\")"
   ]
  },
  {
   "cell_type": "code",
   "execution_count": 126,
   "id": "288cc644-6f55-4866-a89b-e88977f89b0d",
   "metadata": {},
   "outputs": [],
   "source": [
    "deltaR2 = pi04D.deltaR(prot4D)"
   ]
  },
  {
   "cell_type": "code",
   "execution_count": 129,
   "id": "2795aaf0-473e-4ee6-ae2b-e744a0a9fd26",
   "metadata": {},
   "outputs": [
    {
     "data": {
      "text/plain": [
       "array([0.03329617, 0.00959225, 0.0220777 , ..., 0.47564819, 1.26615968,\n",
       "       0.16705841])"
      ]
     },
     "execution_count": 129,
     "metadata": {},
     "output_type": "execute_result"
    }
   ],
   "source": [
    "np.array(deltaR2)"
   ]
  },
  {
   "cell_type": "code",
   "execution_count": 145,
   "id": "c7f77c31-47f3-4e3e-86b7-44bc92ddba2e",
   "metadata": {},
   "outputs": [
    {
     "data": {
      "text/plain": [
       "<matplotlib.legend.Legend at 0x7f788a1fbb50>"
      ]
     },
     "execution_count": 145,
     "metadata": {},
     "output_type": "execute_result"
    },
    {
     "data": {
      "image/png": "[encoded data removed]",
      "text/plain": [
       "<Figure size 504x504 with 1 Axes>"
      ]
     },
     "metadata": {},
     "output_type": "display_data"
    }
   ],
   "source": [
    "plt.figure(figsize=[7,7])\n",
    "plt.semilogy()\n",
    "plt.xlim(0,7.5)\n",
    "plt.hist(deltaR, bins=20, color='xkcd:ocher', label='by hand', alpha=.6)\n",
    "plt.hist(deltaR2, bins=20, color='xkcd:light gold', label='built in', alpha=.6)\n",
    "plt.xlabel('deltaR', fontsize=15)\n",
    "plt.legend() #WELP was good to explore but built-in one is likely correct; probably more nuance to treating phi as a polar coord that I'm not considering in my by-hand version. but good to try anyway."
   ]
  },
  {
   "cell_type": "code",
   "execution_count": null,
   "id": "5435a5ef-dd30-4124-ad01-5c48f9673f40",
   "metadata": {},
   "outputs": [],
   "source": []
  },
  {
   "cell_type": "markdown",
   "id": "1dddeb0c-1b6f-4142-b9ca-701abdd78078",
   "metadata": {},
   "source": [
    "### Make some plots like Albert's"
   ]
  },
  {
   "cell_type": "code",
   "execution_count": 146,
   "id": "43c888f7-6bad-4be7-8640-57923fa257eb",
   "metadata": {},
   "outputs": [
    {
     "data": {
      "text/plain": [
       "(array([  5.60091019, 104.86014557,  71.0463562 , ...,   8.96579456,\n",
       "          1.80230665,  43.45296478]),\n",
       " array([0.03329617, 0.00959225, 0.0220777 , ..., 0.47564819, 5.90582636,\n",
       "        0.16705841]))"
      ]
     },
     "execution_count": 146,
     "metadata": {},
     "output_type": "execute_result"
    }
   ],
   "source": [
    "pt_pi0sel_slice, deltaR #lots of nans in deltaR though.... not anymore!"
   ]
  },
  {
   "cell_type": "code",
   "execution_count": 147,
   "id": "786e0242-0e88-47e8-bb15-c15a9fd37fb7",
   "metadata": {},
   "outputs": [],
   "source": [
    "nans = ~np.isnan(deltaR) #this isn't needed anymore btw"
   ]
  },
  {
   "cell_type": "code",
   "execution_count": 148,
   "id": "525bf2a1-7034-4820-8a59-13e36dd92ebe",
   "metadata": {},
   "outputs": [
    {
     "data": {
      "text/plain": [
       "array([ True,  True,  True, ...,  True,  True,  True])"
      ]
     },
     "execution_count": 148,
     "metadata": {},
     "output_type": "execute_result"
    }
   ],
   "source": [
    "nans"
   ]
  },
  {
   "cell_type": "code",
   "execution_count": 149,
   "id": "f713d171-4fdb-48a1-be2e-8c6d17d564e1",
   "metadata": {},
   "outputs": [],
   "source": [
    "deltaR_clean = deltaR[nans]\n",
    "pt_pi0_clean = pt_pi0sel_slice[nans]\n",
    "pt_prot_clean = pt_protsel_slice[nans]"
   ]
  },
  {
   "cell_type": "code",
   "execution_count": 150,
   "id": "fec9c55b-c67a-4d79-9239-817d1408dc93",
   "metadata": {},
   "outputs": [
    {
     "data": {
      "text/plain": [
       "16565"
      ]
     },
     "execution_count": 150,
     "metadata": {},
     "output_type": "execute_result"
    }
   ],
   "source": [
    "len(deltaR_clean) #damn that's a lot of nans"
   ]
  },
  {
   "cell_type": "code",
   "execution_count": 151,
   "id": "e4fb119f-b4d0-44b6-8138-c6eef969dd41",
   "metadata": {},
   "outputs": [],
   "source": [
    "#sum the 4-cevtors to get pt(delta):\n",
    "delta4D = pi04D + prot4D"
   ]
  },
  {
   "cell_type": "code",
   "execution_count": 152,
   "id": "ae3b0379-5b4a-48e8-bc79-f167ab5228a7",
   "metadata": {},
   "outputs": [
    {
     "data": {
      "text/plain": [
       "<Array [76.2, 145, 351, ... 12.7, 3.22, 55.3] type='16565 * float64'>"
      ]
     },
     "execution_count": 152,
     "metadata": {},
     "output_type": "execute_result"
    }
   ],
   "source": [
    "delta4D.pt #okay cool"
   ]
  },
  {
   "cell_type": "code",
   "execution_count": 153,
   "id": "45e6f69a-8554-4c33-a782-57644e651216",
   "metadata": {},
   "outputs": [],
   "source": [
    "delta4D_clean = delta4D[nans]"
   ]
  },
  {
   "cell_type": "code",
   "execution_count": null,
   "id": "10d6ce4a-aa1b-4a30-8352-96eeb646ff67",
   "metadata": {},
   "outputs": [],
   "source": []
  },
  {
   "cell_type": "code",
   "execution_count": 154,
   "id": "11c07d82-e5bf-468a-87e0-b17028f06b63",
   "metadata": {},
   "outputs": [
    {
     "data": {
      "text/plain": [
       "Text(0.5, 0, 'log$p_T$($\\\\Delta$)')"
      ]
     },
     "execution_count": 154,
     "metadata": {},
     "output_type": "execute_result"
    },
    {
     "data": {
      "image/png": "[encoded data removed]",
      "text/plain": [
       "<Figure size 504x504 with 1 Axes>"
      ]
     },
     "metadata": {},
     "output_type": "display_data"
    }
   ],
   "source": [
    "plt.figure(figsize=[7,7])\n",
    "plt.hist2d(np.log10(np.array(delta4D_clean.pt)), np.log10(deltaR_clean), cmap='PuRd')\n",
    "plt.ylabel('log$\\Delta R$($\\pi^0$, p)')\n",
    "plt.xlabel('log$p_T$($\\Delta$)')"
   ]
  },
  {
   "cell_type": "code",
   "execution_count": 155,
   "id": "8a92f9cc-d6a6-437c-8804-bbb84d52bf13",
   "metadata": {},
   "outputs": [
    {
     "data": {
      "text/plain": [
       "Text(0.5, 0, 'log$p_T$($p$)')"
      ]
     },
     "execution_count": 155,
     "metadata": {},
     "output_type": "execute_result"
    },
    {
     "data": {
      "image/png": "[encoded data removed]",
      "text/plain": [
       "<Figure size 504x504 with 1 Axes>"
      ]
     },
     "metadata": {},
     "output_type": "display_data"
    }
   ],
   "source": [
    "plt.figure(figsize=[7,7])\n",
    "plt.hist2d(np.log10(pt_prot_clean), np.log10(deltaR_clean), cmap='PuRd')\n",
    "plt.ylabel('log$\\Delta R$($\\pi^0$, p)')\n",
    "plt.xlabel('log$p_T$($p$)')"
   ]
  },
  {
   "cell_type": "code",
   "execution_count": 93,
   "id": "5a60e457-1fc8-42a6-872d-d58ac3e53ffb",
   "metadata": {},
   "outputs": [
    {
     "data": {
      "text/plain": [
       "<matplotlib.collections.PathCollection at 0x7f79adfb6130>"
      ]
     },
     "execution_count": 93,
     "metadata": {},
     "output_type": "execute_result"
    },
    {
     "data": {
      "image/png": "[encoded data removed]",
      "text/plain": [
       "<Figure size 799.992x599.976 with 1 Axes>"
      ]
     },
     "metadata": {},
     "output_type": "display_data"
    }
   ],
   "source": [
    "plt.scatter(phiselec[0], etaselec[0]) #5 particles in the first event ?"
   ]
  },
  {
   "cell_type": "code",
   "execution_count": null,
   "id": "c5b7e8c1-80b6-419f-aacb-5a3e1dde46ff",
   "metadata": {},
   "outputs": [],
   "source": []
  }
 ],
 "metadata": {
  "kernelspec": {
   "display_name": "Python 3 (ipykernel)",
   "language": "python",
   "name": "python3"
  },
  "language_info": {
   "codemirror_mode": {
    "name": "ipython",
    "version": 3
   },
   "file_extension": ".py",
   "mimetype": "text/x-python",
   "name": "python",
   "nbconvert_exporter": "python",
   "pygments_lexer": "ipython3",
   "version": "3.8.10"
  }
 },
 "nbformat": 4,
 "nbformat_minor": 5
}
