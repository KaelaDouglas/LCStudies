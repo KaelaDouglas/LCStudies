{
 "cells": [
  {
   "cell_type": "markdown",
   "id": "339b9fa0-b899-44a7-bd4e-370181b3b11e",
   "metadata": {},
   "source": [
    "So this one is for assignment 3 this week which is using deltaR between the event with n (and/or one with pi+) and the various clusters. Then minimize that to find the cluster that most likely contains the n (this is for delta+ I guess? Then do again for pi0 and p) \n",
    "\n",
    "Will be plotting the response plot (those predictions) of that one cluster specifically! Then compare these to the single pion sample.\n",
    "\n",
    "This is the one that works, inexplicably. No idea why, I can't tell what I'm doin differently, I just hit undo until I got back to the format that worked. looks identical to something I tried later and didn't work but who cares. I'm gonna clean this notebook up but you can go look at the notworking one for the preserved mess if you want!"
   ]
  },
  {
   "cell_type": "code",
   "execution_count": 1,
   "id": "1ca1e8f3-8cd5-47f2-823b-2bc58b102ee3",
   "metadata": {},
   "outputs": [
    {
     "name": "stderr",
     "output_type": "stream",
     "text": [
      "2021-07-27 08:33:23.928013: I tensorflow/stream_executor/platform/default/dso_loader.cc:49] Successfully opened dynamic library libcudart.so.11.0\n",
      "2021-07-27 08:33:37.406869: I tensorflow/compiler/jit/xla_cpu_device.cc:41] Not creating XLA devices, tf_xla_enable_xla_devices not set\n",
      "2021-07-27 08:33:37.428386: I tensorflow/stream_executor/platform/default/dso_loader.cc:49] Successfully opened dynamic library libcuda.so.1\n",
      "2021-07-27 08:33:37.573630: I tensorflow/core/common_runtime/gpu/gpu_device.cc:1746] Found device 0 with properties: \n",
      "pciBusID: 0000:3d:00.0 name: GeForce RTX 2080 Ti computeCapability: 7.5\n",
      "coreClock: 1.545GHz coreCount: 68 deviceMemorySize: 10.76GiB deviceMemoryBandwidth: 573.69GiB/s\n",
      "2021-07-27 08:33:37.573695: I tensorflow/stream_executor/platform/default/dso_loader.cc:49] Successfully opened dynamic library libcudart.so.11.0\n",
      "2021-07-27 08:33:37.630784: I tensorflow/stream_executor/platform/default/dso_loader.cc:49] Successfully opened dynamic library libcublas.so.11\n",
      "2021-07-27 08:33:37.630926: I tensorflow/stream_executor/platform/default/dso_loader.cc:49] Successfully opened dynamic library libcublasLt.so.11\n",
      "2021-07-27 08:33:37.657660: I tensorflow/stream_executor/platform/default/dso_loader.cc:49] Successfully opened dynamic library libcufft.so.10\n",
      "2021-07-27 08:33:37.675374: I tensorflow/stream_executor/platform/default/dso_loader.cc:49] Successfully opened dynamic library libcurand.so.10\n",
      "2021-07-27 08:33:37.689129: I tensorflow/stream_executor/platform/default/dso_loader.cc:49] Successfully opened dynamic library libcusolver.so.11\n",
      "2021-07-27 08:33:37.702573: I tensorflow/stream_executor/platform/default/dso_loader.cc:49] Successfully opened dynamic library libcusparse.so.11\n",
      "2021-07-27 08:33:37.705056: I tensorflow/stream_executor/platform/default/dso_loader.cc:49] Successfully opened dynamic library libcudnn.so.8\n",
      "2021-07-27 08:33:37.707941: I tensorflow/core/common_runtime/gpu/gpu_device.cc:1888] Adding visible gpu devices: 0\n",
      "2021-07-27 08:33:37.717076: I tensorflow/compiler/jit/xla_gpu_device.cc:99] Not creating XLA devices, tf_xla_enable_xla_devices not set\n",
      "2021-07-27 08:33:37.720162: I tensorflow/core/common_runtime/gpu/gpu_device.cc:1746] Found device 0 with properties: \n",
      "pciBusID: 0000:3d:00.0 name: GeForce RTX 2080 Ti computeCapability: 7.5\n",
      "coreClock: 1.545GHz coreCount: 68 deviceMemorySize: 10.76GiB deviceMemoryBandwidth: 573.69GiB/s\n",
      "2021-07-27 08:33:37.720252: I tensorflow/stream_executor/platform/default/dso_loader.cc:49] Successfully opened dynamic library libcudart.so.11.0\n",
      "2021-07-27 08:33:37.720336: I tensorflow/stream_executor/platform/default/dso_loader.cc:49] Successfully opened dynamic library libcublas.so.11\n",
      "2021-07-27 08:33:37.720383: I tensorflow/stream_executor/platform/default/dso_loader.cc:49] Successfully opened dynamic library libcublasLt.so.11\n",
      "2021-07-27 08:33:37.720428: I tensorflow/stream_executor/platform/default/dso_loader.cc:49] Successfully opened dynamic library libcufft.so.10\n",
      "2021-07-27 08:33:37.720472: I tensorflow/stream_executor/platform/default/dso_loader.cc:49] Successfully opened dynamic library libcurand.so.10\n",
      "2021-07-27 08:33:37.720515: I tensorflow/stream_executor/platform/default/dso_loader.cc:49] Successfully opened dynamic library libcusolver.so.11\n",
      "2021-07-27 08:33:37.720559: I tensorflow/stream_executor/platform/default/dso_loader.cc:49] Successfully opened dynamic library libcusparse.so.11\n",
      "2021-07-27 08:33:37.720603: I tensorflow/stream_executor/platform/default/dso_loader.cc:49] Successfully opened dynamic library libcudnn.so.8\n",
      "2021-07-27 08:33:37.725824: I tensorflow/core/common_runtime/gpu/gpu_device.cc:1888] Adding visible gpu devices: 0\n",
      "2021-07-27 08:33:37.729885: I tensorflow/stream_executor/platform/default/dso_loader.cc:49] Successfully opened dynamic library libcudart.so.11.0\n",
      "2021-07-27 08:33:43.971625: I tensorflow/core/common_runtime/gpu/gpu_device.cc:1287] Device interconnect StreamExecutor with strength 1 edge matrix:\n",
      "2021-07-27 08:33:43.971669: I tensorflow/core/common_runtime/gpu/gpu_device.cc:1293]      0 \n",
      "2021-07-27 08:33:43.971678: I tensorflow/core/common_runtime/gpu/gpu_device.cc:1306] 0:   N \n",
      "2021-07-27 08:33:43.980261: W tensorflow/core/common_runtime/gpu/gpu_bfc_allocator.cc:39] Overriding allow_growth setting because the TF_FORCE_GPU_ALLOW_GROWTH environment variable is set. Original config value was 0.\n",
      "2021-07-27 08:33:43.980345: I tensorflow/core/common_runtime/gpu/gpu_device.cc:1432] Created TensorFlow device (/job:localhost/replica:0/task:0/device:GPU:0 with 3340 MB memory) -> physical GPU (device: 0, name: GeForce RTX 2080 Ti, pci bus id: 0000:3d:00.0, compute capability: 7.5)\n"
     ]
    }
   ],
   "source": [
    "#imports\n",
    "import uproot as ur\n",
    "import awkward as ak\n",
    "import numpy as np\n",
    "\n",
    "import os\n",
    "os.environ['CUDA_VISIBLE_DEVICES'] = \"6\" #specify GPU\n",
    "os.environ['TF_FORCE_GPU_ALLOW_GROWTH'] = 'true'\n",
    "\n",
    "import tensorflow as tf\n",
    "\n",
    "# energyflow imports\n",
    "import energyflow as ef\n",
    "from energyflow.archs import PFN\n",
    "from energyflow.utils import data_split\n",
    "\n",
    "from sklearn.metrics import roc_auc_score, roc_curve\n",
    "import matplotlib.pyplot as plt\n",
    "\n",
    "import graph_util as gu\n",
    "import plot_util as pu\n",
    "\n",
    "from scipy.interpolate import interp1d\n",
    "\n",
    "from Week7_PFNutils import *"
   ]
  },
  {
   "cell_type": "code",
   "execution_count": 2,
   "id": "32edd438-47c1-4e48-97f5-be0a3581eeb9",
   "metadata": {},
   "outputs": [],
   "source": [
    "model_path = '/fast_scratch/atlas_images/v01-45/' \n",
    "data_path = '/data/atlas/'"
   ]
  },
  {
   "cell_type": "code",
   "execution_count": 3,
   "id": "2735c37b-362f-497e-a4c3-94424e69c41a",
   "metadata": {},
   "outputs": [],
   "source": [
    "import vector as v\n",
    "\n",
    "import atlas_mpl_style as ampl #makes matplotlib follow atlas formal style\n",
    "ampl.use_atlas_style()\n",
    "\n",
    "v.register_awkward()"
   ]
  },
  {
   "cell_type": "code",
   "execution_count": 4,
   "id": "7a11deae-0804-4fb4-8db5-7d07e1ebe385",
   "metadata": {},
   "outputs": [],
   "source": [
    "events = ur.open(model_path+'delta_medium.root')\n",
    "\n",
    "tree = events['EventTree']"
   ]
  },
  {
   "cell_type": "code",
   "execution_count": 5,
   "id": "78772ffc-7a0b-4548-85b3-ca414d21b6dd",
   "metadata": {},
   "outputs": [],
   "source": [
    "brnch = ['cluster_hitsTruthE', 'cluster_hitsTruthIndex', 'truthPartPdgId', 'truthPartEta', 'truthPartPhi', \n",
    "         'truthPartPt', 'truthPartMass', 'cluster_E', 'cluster_Eta', 'cluster_Phi','cluster_Pt']"
   ]
  },
  {
   "cell_type": "code",
   "execution_count": 6,
   "id": "f0aeff60-9f16-4e1d-aad3-79cfa7414a50",
   "metadata": {},
   "outputs": [],
   "source": [
    "branches = tree.arrays(expressions=brnch)"
   ]
  },
  {
   "cell_type": "code",
   "execution_count": 7,
   "id": "75fb98a3-f2ed-410e-9840-838ea114d716",
   "metadata": {},
   "outputs": [],
   "source": [
    "truthE = branches.cluster_hitsTruthE\n",
    "truthIndex = branches.cluster_hitsTruthIndex\n",
    "truthID = branches.truthPartPdgId\n",
    "trutheta = branches.truthPartEta\n",
    "truthphi = branches.truthPartPhi\n",
    "truthpt = branches.truthPartPt\n",
    "truthmass = branches.truthPartMass\n",
    "clusE = branches.cluster_E\n",
    "clusEta = branches.cluster_Eta\n",
    "clusPhi = branches.cluster_Phi\n",
    "clusPt = branches.cluster_Pt"
   ]
  },
  {
   "cell_type": "code",
   "execution_count": 8,
   "id": "3270bd54-cd61-4f17-9e61-100c05ded500",
   "metadata": {},
   "outputs": [],
   "source": [
    "#start with just the delta+ -> n + pi+\n",
    "nnopind = []    \n",
    "\n",
    "for i in range(len(truthID)): #basically: delta+, two categories: pip & n (without any ps) vs pi0 & p (no ns)\n",
    "    if (2214 in truthID[i]) & ~(2212 in truthID[i]) & (2112 in truthID[i]) & (211 in truthID[i]):\n",
    "        nnopind.append(i)\n",
    "        \n",
    "flag = np.zeros(len(truthID))\n",
    "flag[nnopind] = 2"
   ]
  },
  {
   "cell_type": "code",
   "execution_count": 9,
   "id": "ef0a87f4-382e-45e6-9823-722456519915",
   "metadata": {},
   "outputs": [],
   "source": [
    "mask = flag == 2"
   ]
  },
  {
   "cell_type": "code",
   "execution_count": 12,
   "id": "cf4258ae-47dd-4965-ab30-3922961e07be",
   "metadata": {},
   "outputs": [],
   "source": [
    "cell_id = tree['cluster_cell_ID'].array()"
   ]
  },
  {
   "cell_type": "code",
   "execution_count": 14,
   "id": "44842151-203a-4a9c-87ef-5c4d0bf0f9c3",
   "metadata": {},
   "outputs": [
    {
     "data": {
      "text/plain": [
       "200000"
      ]
     },
     "execution_count": 14,
     "metadata": {},
     "output_type": "execute_result"
    }
   ],
   "source": [
    "#try this here: need to examine shape, compare to shape of clusterEta?\n",
    "len(cell_id)"
   ]
  },
  {
   "cell_type": "code",
   "execution_count": 15,
   "id": "c28a4897-4df0-4c0e-9b3f-b2bd72b83728",
   "metadata": {},
   "outputs": [
    {
     "data": {
      "text/plain": [
       "8289"
      ]
     },
     "execution_count": 15,
     "metadata": {},
     "output_type": "execute_result"
    }
   ],
   "source": [
    "cell_id_msk = cell_id[mask]\n",
    "len(cell_id_msk)"
   ]
  },
  {
   "cell_type": "code",
   "execution_count": 17,
   "id": "ec3c2f6e-7314-4dd1-867c-c5acd3f32932",
   "metadata": {},
   "outputs": [
    {
     "data": {
      "text/plain": [
       "30788"
      ]
     },
     "execution_count": 17,
     "metadata": {},
     "output_type": "execute_result"
    }
   ],
   "source": [
    "len(ak.flatten(cell_id_msk))"
   ]
  },
  {
   "cell_type": "code",
   "execution_count": 23,
   "id": "683ad1ae-3581-4134-b165-ab894637c788",
   "metadata": {},
   "outputs": [
    {
     "ename": "TypeError",
     "evalue": "object of type 'float' has no len()",
     "output_type": "error",
     "traceback": [
      "\u001b[0;31m---------------------------------------------------------------------------\u001b[0m",
      "\u001b[0;31mTypeError\u001b[0m                                 Traceback (most recent call last)",
      "\u001b[0;32m/tmp/ipykernel_14185/1654552374.py\u001b[0m in \u001b[0;36m<module>\u001b[0;34m\u001b[0m\n\u001b[0;32m----> 1\u001b[0;31m \u001b[0mlen\u001b[0m\u001b[0;34m(\u001b[0m\u001b[0mak\u001b[0m\u001b[0;34m.\u001b[0m\u001b[0mflatten\u001b[0m\u001b[0;34m(\u001b[0m\u001b[0mcell_id_msk\u001b[0m\u001b[0;34m)\u001b[0m\u001b[0;34m[\u001b[0m\u001b[0;36m0\u001b[0m\u001b[0;34m]\u001b[0m\u001b[0;34m)\u001b[0m\u001b[0;34m,\u001b[0m \u001b[0mlen\u001b[0m\u001b[0;34m(\u001b[0m\u001b[0mak\u001b[0m\u001b[0;34m.\u001b[0m\u001b[0mflatten\u001b[0m\u001b[0;34m(\u001b[0m\u001b[0mclusEta_sel\u001b[0m\u001b[0;34m)\u001b[0m\u001b[0;34m[\u001b[0m\u001b[0;36m0\u001b[0m\u001b[0;34m]\u001b[0m\u001b[0;34m)\u001b[0m\u001b[0;34m\u001b[0m\u001b[0;34m\u001b[0m\u001b[0m\n\u001b[0m",
      "\u001b[0;31mTypeError\u001b[0m: object of type 'float' has no len()"
     ]
    }
   ],
   "source": [
    "len(ak.flatten(cell_id_msk)[0]), len(ak.flatten(clusEta_sel))"
   ]
  },
  {
   "cell_type": "code",
   "execution_count": 30,
   "id": "ceb34e84-4628-43a2-a55a-06d9fe0277ae",
   "metadata": {},
   "outputs": [
    {
     "data": {
      "text/plain": [
       "<Array [814895104, 814899200, ... 823283712] type='7 * int64'>"
      ]
     },
     "execution_count": 30,
     "metadata": {},
     "output_type": "execute_result"
    }
   ],
   "source": [
    "cell_id_msk[0][mindist_indices[0]]"
   ]
  },
  {
   "cell_type": "code",
   "execution_count": null,
   "id": "406ed7ea-0e86-45d4-a861-039c4c83f186",
   "metadata": {},
   "outputs": [],
   "source": []
  },
  {
   "cell_type": "code",
   "execution_count": 22,
   "id": "fef9f5d2-3dc6-4776-9441-f81db1fe0940",
   "metadata": {},
   "outputs": [],
   "source": [
    "truthE_sel = truthE[mask]\n",
    "truthIndex_sel = truthIndex[mask]\n",
    "truthID_sel = truthID[mask]\n",
    "trutheta_sel = trutheta[mask]\n",
    "truthphi_sel = truthphi[mask]\n",
    "truthpt_sel = truthpt[mask]\n",
    "truthmass_sel = truthmass[mask]\n",
    "clusE_sel = clusE[mask]\n",
    "clusEta_sel = clusEta[mask]\n",
    "clusPhi_sel = clusPhi[mask]\n",
    "clusPt_sel = clusPt[mask]"
   ]
  },
  {
   "cell_type": "code",
   "execution_count": 24,
   "id": "d20f3408-14b6-4a92-826b-4d5b17aa2946",
   "metadata": {},
   "outputs": [],
   "source": [
    "clusmass_sel = []\n",
    "for i in range(len(clusE_sel)):\n",
    "    clusmass_sel.append(np.zeros(len(clusE_sel[i])))#okay great this is how to get it the right shape:))"
   ]
  },
  {
   "cell_type": "code",
   "execution_count": 25,
   "id": "8c5d8c42-1766-4ef6-8a73-e701719aebdb",
   "metadata": {},
   "outputs": [
    {
     "data": {
      "text/plain": [
       "(<Array [-1.96, 1.79] type='2 * float32'>,\n",
       " <Array [-2.21, -1.81, -2.12, -2.13] type='4 * float32'>)"
      ]
     },
     "execution_count": 25,
     "metadata": {},
     "output_type": "execute_result"
    }
   ],
   "source": [
    "clusEta_sel[0], trutheta_sel[0] #so there are 4 particles, two clusters.....\n",
    "#for each event, using only the n, loop through the clusters and keep the closest one. okay"
   ]
  },
  {
   "cell_type": "markdown",
   "id": "ee71833a-1d5a-4b6b-bf29-68518944add6",
   "metadata": {},
   "source": [
    "# I HAVE NO IDEA \n",
    "\n",
    "Update: figured it out"
   ]
  },
  {
   "cell_type": "code",
   "execution_count": 26,
   "id": "aaeea952-fce1-4a3b-909f-8e3426815084",
   "metadata": {
    "scrolled": true,
    "tags": []
   },
   "outputs": [],
   "source": [
    "mindist_indices = []\n",
    "for i in range(len(trutheta_sel)): #loop through each event, this does take a while to run but its so fragile \n",
    "                                                                            #I wont change it\n",
    "    #select the neutron:\n",
    "    n_mask = truthID_sel[i] == 2112\n",
    "    \n",
    "    #then get deltaR for n\n",
    "    partvec = ak.zip({\n",
    "        \"pt\": truthpt_sel[i][n_mask],\n",
    "        \"eta\": trutheta_sel[i][n_mask],\n",
    "        \"phi\": truthphi_sel[i][n_mask],\n",
    "        \"mass\": truthmass_sel[i][n_mask],\n",
    "    })\n",
    "    \n",
    "    part4Dvec = ak.with_name(partvec, \"Momentum4D\")\n",
    "    \n",
    "    #and for the cluster\n",
    "    deltaR = []\n",
    "    for j in range(len(clusEta_sel[i])):\n",
    "        clusvec = ak.zip({\n",
    "            \"pt\": clusPt_sel[i][j],\n",
    "            \"eta\": clusEta_sel[i][j],\n",
    "            \"phi\": clusPhi_sel[i][j],\n",
    "            \"mass\": clusmass_sel[i][j]})\n",
    "        clus4Dvec = ak.with_name(clusvec, \"Momentum4D\")\n",
    "        \n",
    "        deltaR.append(part4Dvec.deltaR(clus4Dvec))\n",
    "        #print(deltaR)\n",
    "        #print(i,j)\n",
    "        if deltaR == []:\n",
    "            print('exception: empty deltaR') #okay so this does work I just needed to restart the kernel:))\n",
    "            print(part4Dvec, clus4Dvec, part4Dvec.deltaR(clus4Dvec), deltaR, i, j)\n",
    "        ind = np.argmin(np.array(ak.flatten(deltaR)))# np.where(deltaR == min(np.ravel(np.array(deltaR))))\n",
    "        #print(ind)\n",
    "         #that should just be it?? this is the index of that cluster\n",
    "    mindist_indices.append(ind)"
   ]
  },
  {
   "cell_type": "code",
   "execution_count": 28,
   "id": "c41779ce-f2f1-4173-b6f1-398fdb1913c3",
   "metadata": {},
   "outputs": [
    {
     "data": {
      "text/plain": [
       "(8289, 8289, 30788)"
      ]
     },
     "execution_count": 28,
     "metadata": {},
     "output_type": "execute_result"
    }
   ],
   "source": [
    "len(mindist_indices), len(trutheta_sel), len(ak.flatten(clusEta_sel)) #yes !!! okay!!!"
   ]
  },
  {
   "cell_type": "code",
   "execution_count": 29,
   "id": "e62d1a21-c760-45ae-ac53-b37b3290a00b",
   "metadata": {},
   "outputs": [
    {
     "data": {
      "text/plain": [
       "-1.9553970098495483"
      ]
     },
     "execution_count": 29,
     "metadata": {},
     "output_type": "execute_result"
    }
   ],
   "source": [
    "clusEta_sel[0][mindist_indices[0]]"
   ]
  },
  {
   "cell_type": "code",
   "execution_count": 15,
   "id": "18c8e2d4-6465-4cf7-887f-1499520fe6c3",
   "metadata": {},
   "outputs": [
    {
     "data": {
      "text/plain": [
       "(<Array [] type='0 * float32'>,\n",
       " array([], dtype=float64),\n",
       " <Array [] type='0 * float32'>)"
      ]
     },
     "execution_count": 15,
     "metadata": {},
     "output_type": "execute_result"
    }
   ],
   "source": [
    "clusEta_sel[18], clusmass_sel[18], clusPhi_sel[18]"
   ]
  },
  {
   "cell_type": "code",
   "execution_count": 16,
   "id": "11c4e913-fd5a-4a4e-bf4e-a0daa6cccf48",
   "metadata": {},
   "outputs": [
    {
     "name": "stdout",
     "output_type": "stream",
     "text": [
      "3\n"
     ]
    }
   ],
   "source": [
    "k = [2, 6, 8]\n",
    "\n",
    "kclus = clusEta_sel[:10]\n",
    "\n",
    "print(len(kclus[k]))"
   ]
  },
  {
   "cell_type": "code",
   "execution_count": 31,
   "id": "37ff7970-bac0-440b-b533-96f26ded71fa",
   "metadata": {
    "scrolled": true,
    "tags": []
   },
   "outputs": [],
   "source": [
    "#remove the empty ones\n",
    "mindist_indices_full = []\n",
    "truthID_sel_full = []\n",
    "trutheta_sel_full = [] #also removes all the events/truth particles in the events with no clusters\n",
    "truthphi_sel_full = []\n",
    "truthpt_sel_full = []\n",
    "truthmass_sel_full = []\n",
    "clusE_sel_full = []\n",
    "clusEta_sel_full =[]\n",
    "clusPhi_sel_full = []\n",
    "clusPt_sel_full = []\n",
    "clusmass_sel_full = []\n",
    "cell_id_full = []\n",
    "for i in range(len(clusEta_sel)): #should there be this many with no clusters!!??!?!\n",
    "    if len(clusEta_sel[i]) != 0: #sure. so need to filter out all these !\n",
    "        mindist_indices_full.append(mindist_indices[i])\n",
    "        truthID_sel_full.append(truthID_sel[i])\n",
    "        trutheta_sel_full.append(trutheta_sel[i])\n",
    "        truthphi_sel_full.append(truthphi_sel[i])\n",
    "        truthpt_sel_full.append(truthpt_sel[i])\n",
    "        truthmass_sel_full.append(truthmass_sel[i])\n",
    "        clusE_sel_full.append(clusE_sel[i])\n",
    "        clusEta_sel_full.append(clusEta_sel[i])\n",
    "        clusPhi_sel_full.append(clusPhi_sel[i])\n",
    "        clusPt_sel_full.append(clusPt_sel[i])\n",
    "        clusmass_sel_full.append(clusmass_sel[i])\n",
    "        cell_id_full.append(cell_id_msk[i])"
   ]
  },
  {
   "cell_type": "code",
   "execution_count": 32,
   "id": "5a390304-40fd-4932-89f8-766c3c309d68",
   "metadata": {
    "scrolled": true,
    "tags": []
   },
   "outputs": [],
   "source": [
    "clusEta_closest = []\n",
    "clusE_closest = [] #select only the closest clusters\n",
    "clusPhi_closest = []\n",
    "clusPt_closest = []\n",
    "clusmass_closest = []\n",
    "cellid_closest = []\n",
    "for i in range(len(clusEta_sel_full)):\n",
    "    #print(clusEta_sel_full[i], mindist_indices_full[i])\n",
    "    clusEta_closest.append(clusEta_sel_full[i][mindist_indices_full[i]])\n",
    "    clusE_closest.append(clusE_sel_full[i][mindist_indices_full[i]])\n",
    "    clusPhi_closest.append(clusPhi_sel_full[i][mindist_indices_full[i]])\n",
    "    clusPt_closest.append(clusPt_sel_full[i][mindist_indices_full[i]])\n",
    "    clusmass_closest.append(clusmass_sel_full[i][mindist_indices_full[i]])\n",
    "    cellid_closest.append(cell_id_full[i][mindist_indices_full[i]])"
   ]
  },
  {
   "cell_type": "code",
   "execution_count": 34,
   "id": "b791ff2e-dd94-4cdd-b689-bcc1a764034d",
   "metadata": {},
   "outputs": [
    {
     "data": {
      "text/plain": [
       "(<Array [814895104, 814899200, ... 823283712] type='7 * int64'>,\n",
       " -1.9553970098495483)"
      ]
     },
     "execution_count": 34,
     "metadata": {},
     "output_type": "execute_result"
    }
   ],
   "source": [
    "cellid_closest[0], clusEta_closest[0] #so multiple cells per cluster"
   ]
  },
  {
   "cell_type": "code",
   "execution_count": 35,
   "id": "b2570255-8321-480f-890c-7c88e7c2e86d",
   "metadata": {},
   "outputs": [],
   "source": [
    "cellidPad = ak.pad_none(cellid_closest, 2000, axis=1)"
   ]
  },
  {
   "cell_type": "code",
   "execution_count": 37,
   "id": "a467a009-9247-42fc-bbb9-39b8dcefea17",
   "metadata": {},
   "outputs": [
    {
     "data": {
      "text/plain": [
       "<Array [[814895104, 814899200, ... None, None]] type='7666 * var * ?int64'>"
      ]
     },
     "execution_count": 37,
     "metadata": {},
     "output_type": "execute_result"
    }
   ],
   "source": [
    "cellidPad"
   ]
  },
  {
   "cell_type": "code",
   "execution_count": 19,
   "id": "5c8ac50a-03a9-45df-a8de-a9f8a6cc9795",
   "metadata": {},
   "outputs": [
    {
     "data": {
      "text/plain": [
       "7666"
      ]
     },
     "execution_count": 19,
     "metadata": {},
     "output_type": "execute_result"
    }
   ],
   "source": [
    "len(ak.Array(clusEta_closest))"
   ]
  },
  {
   "cell_type": "code",
   "execution_count": 10,
   "id": "77c914b8-050f-470e-8e11-06e18b2c2ba9",
   "metadata": {},
   "outputs": [],
   "source": [
    "import convert_sets_splitdelta as cs"
   ]
  },
  {
   "cell_type": "code",
   "execution_count": 11,
   "id": "fb404672-31e8-435f-9623-54ba3fbb477f",
   "metadata": {},
   "outputs": [
    {
     "name": "stdout",
     "output_type": "stream",
     "text": [
      "Working on /fast_scratch/atlas_images/v01-45/delta_medium.root\n",
      "Loading data\n",
      "deltaR 8289\n",
      "loadarraybranchflat\n",
      "8289\n",
      "8289 [[814895104, 814899200, 814632960, 814628864, ... 856219648, 856223744, 864604160]]\n",
      "flat 30788\n",
      "flatnumpy 30788\n",
      "--\n",
      "loadarraybranchflat\n",
      "8289\n",
      "8289 [[5.32, 0.17, 0.452, 0.0711, 0.415, 0.273, ... 0.0541, 0.4, 0.0412, 0.572, 0.597]]\n",
      "flat 30788\n",
      "flatnumpy 30788\n",
      "--\n",
      "cell_e 30788\n",
      "cell_id 30788\n",
      "30788\n",
      "30788\n",
      "30788\n",
      "30788\n",
      "30788\n",
      "30788\n",
      "cell_eta 30788\n",
      "clus_eta 30788\n",
      "cell eta (30788, 2000)\n",
      "clus eta (30788,)\n",
      "clus eta none (30788, 1)\n",
      "30788 8289 30788\n",
      "Normalizing\n"
     ]
    },
    {
     "name": "stderr",
     "output_type": "stream",
     "text": [
      "/home/kaelaekd/start_tf/LCStudies/classifier/convert_sets_splitdelta.py:79: RuntimeWarning: divide by zero encountered in log\n",
      "  cell_e = np.nan_to_num(np.log(cell_e), posinf = 0, neginf=0)\n"
     ]
    },
    {
     "name": "stdout",
     "output_type": "stream",
     "text": [
      "Writing out\n"
     ]
    },
    {
     "ename": "ValueError",
     "evalue": "in NumpyArray attempting to get 8289, index out of range\n\n(https://github.com/scikit-hep/awkward-1.0/blob/1.4.0/src/cpu-kernels/awkward_regularize_arrayslice.cpp#L18)",
     "output_type": "error",
     "traceback": [
      "\u001b[0;31m---------------------------------------------------------------------------\u001b[0m",
      "\u001b[0;31mValueError\u001b[0m                                Traceback (most recent call last)",
      "\u001b[0;32m/tmp/ipykernel_11014/2499755614.py\u001b[0m in \u001b[0;36m<module>\u001b[0;34m\u001b[0m\n\u001b[0;32m----> 1\u001b[0;31m \u001b[0mcs\u001b[0m\u001b[0;34m.\u001b[0m\u001b[0mdoit\u001b[0m\u001b[0;34m(\u001b[0m\u001b[0mmask\u001b[0m\u001b[0;34m,\u001b[0m \u001b[0mdata_path\u001b[0m\u001b[0;34m+\u001b[0m\u001b[0;34m'throwaway'\u001b[0m\u001b[0;34m,\u001b[0m \u001b[0;36m211\u001b[0m\u001b[0;34m,\u001b[0m \u001b[0;36m2112\u001b[0m\u001b[0;34m)\u001b[0m \u001b[0;31m#just to test/compare, to see what I'm aiming for:\u001b[0m\u001b[0;34m\u001b[0m\u001b[0;34m\u001b[0m\u001b[0m\n\u001b[0m\u001b[1;32m      2\u001b[0m \u001b[0;31m#and recall this didn't work since I had removed the longflag thing for deltaR, so it's too short here.\u001b[0m\u001b[0;34m\u001b[0m\u001b[0;34m\u001b[0m\u001b[0;34m\u001b[0m\u001b[0m\n",
      "\u001b[0;32m~/start_tf/LCStudies/classifier/convert_sets_splitdelta.py\u001b[0m in \u001b[0;36mdoit\u001b[0;34m(mask, outname, partID1, partID2)\u001b[0m\n\u001b[1;32m    217\u001b[0m \u001b[0;32mdef\u001b[0m \u001b[0mdoit\u001b[0m\u001b[0;34m(\u001b[0m\u001b[0mmask\u001b[0m\u001b[0;34m,\u001b[0m \u001b[0moutname\u001b[0m\u001b[0;34m,\u001b[0m \u001b[0mpartID1\u001b[0m\u001b[0;34m,\u001b[0m \u001b[0mpartID2\u001b[0m\u001b[0;34m)\u001b[0m\u001b[0;34m:\u001b[0m\u001b[0;34m\u001b[0m\u001b[0;34m\u001b[0m\u001b[0m\n\u001b[1;32m    218\u001b[0m     \u001b[0;32mfor\u001b[0m \u001b[0mdel_file\u001b[0m \u001b[0;32min\u001b[0m \u001b[0mdel_list\u001b[0m\u001b[0;34m:\u001b[0m\u001b[0;34m\u001b[0m\u001b[0;34m\u001b[0m\u001b[0m\n\u001b[0;32m--> 219\u001b[0;31m         \u001b[0mconvertFile\u001b[0m\u001b[0;34m(\u001b[0m\u001b[0mdel_file\u001b[0m\u001b[0;34m,\u001b[0m \u001b[0mmask\u001b[0m\u001b[0;34m,\u001b[0m \u001b[0moutname\u001b[0m\u001b[0;34m,\u001b[0m \u001b[0mpartID1\u001b[0m\u001b[0;34m,\u001b[0m \u001b[0mpartID2\u001b[0m\u001b[0;34m)\u001b[0m\u001b[0;34m\u001b[0m\u001b[0;34m\u001b[0m\u001b[0m\n\u001b[0m\u001b[1;32m    220\u001b[0m \u001b[0;34m\u001b[0m\u001b[0m\n\u001b[1;32m    221\u001b[0m \u001b[0;32mdef\u001b[0m \u001b[0mdoit_cc\u001b[0m\u001b[0;34m(\u001b[0m\u001b[0mmask\u001b[0m\u001b[0;34m,\u001b[0m \u001b[0moutname\u001b[0m\u001b[0;34m,\u001b[0m \u001b[0mpartID1\u001b[0m\u001b[0;34m,\u001b[0m \u001b[0mpartID2\u001b[0m\u001b[0;34m)\u001b[0m\u001b[0;34m:\u001b[0m\u001b[0;34m\u001b[0m\u001b[0;34m\u001b[0m\u001b[0m\n",
      "\u001b[0;32m~/start_tf/LCStudies/classifier/convert_sets_splitdelta.py\u001b[0m in \u001b[0;36mconvertFile\u001b[0;34m(filename, deltamask, outname, partID1, partID2)\u001b[0m\n\u001b[1;32m     92\u001b[0m     \u001b[0;31m#Now we save. prepare output filename.\u001b[0m\u001b[0;34m\u001b[0m\u001b[0;34m\u001b[0m\u001b[0;34m\u001b[0m\u001b[0m\n\u001b[1;32m     93\u001b[0m     \u001b[0;31m#outname = filename.replace('root', 'npz')\u001b[0m\u001b[0;34m\u001b[0m\u001b[0;34m\u001b[0m\u001b[0;34m\u001b[0m\u001b[0m\n\u001b[0;32m---> 94\u001b[0;31m     \u001b[0mnp\u001b[0m\u001b[0;34m.\u001b[0m\u001b[0msavez\u001b[0m\u001b[0;34m(\u001b[0m\u001b[0moutname\u001b[0m\u001b[0;34m,\u001b[0m \u001b[0mX\u001b[0m\u001b[0;34m=\u001b[0m\u001b[0mX\u001b[0m\u001b[0;34m,\u001b[0m \u001b[0mclus_eta\u001b[0m\u001b[0;34m=\u001b[0m\u001b[0mclus_eta\u001b[0m\u001b[0;34m[\u001b[0m\u001b[0mselection\u001b[0m\u001b[0;34m]\u001b[0m\u001b[0;34m,\u001b[0m \u001b[0mclus_e\u001b[0m\u001b[0;34m=\u001b[0m\u001b[0mclus_e\u001b[0m\u001b[0;34m[\u001b[0m\u001b[0mselection\u001b[0m\u001b[0;34m]\u001b[0m\u001b[0;34m,\u001b[0m \u001b[0mclus_pt\u001b[0m\u001b[0;34m=\u001b[0m\u001b[0mclus_pt\u001b[0m\u001b[0;34m[\u001b[0m\u001b[0mselection\u001b[0m\u001b[0;34m]\u001b[0m\u001b[0;34m,\u001b[0m \u001b[0mclus_e_t\u001b[0m\u001b[0;34m=\u001b[0m\u001b[0mclus_e_t\u001b[0m\u001b[0;34m[\u001b[0m\u001b[0mselection\u001b[0m\u001b[0;34m]\u001b[0m\u001b[0;34m,\u001b[0m \u001b[0mdeltaR\u001b[0m \u001b[0;34m=\u001b[0m \u001b[0mnp\u001b[0m\u001b[0;34m.\u001b[0m\u001b[0marray\u001b[0m\u001b[0;34m(\u001b[0m\u001b[0mdeltaR\u001b[0m\u001b[0;34m[\u001b[0m\u001b[0mselection\u001b[0m\u001b[0;34m]\u001b[0m\u001b[0;34m)\u001b[0m\u001b[0;34m)\u001b[0m \u001b[0;31m#maybe?? mayeb????? it doesn't matter if I don't use the selection???\u001b[0m\u001b[0;34m\u001b[0m\u001b[0;34m\u001b[0m\u001b[0m\n\u001b[0m\u001b[1;32m     95\u001b[0m     \u001b[0mprint\u001b[0m\u001b[0;34m(\u001b[0m\u001b[0;34m'Done! {}'\u001b[0m\u001b[0;34m.\u001b[0m\u001b[0mformat\u001b[0m\u001b[0;34m(\u001b[0m\u001b[0moutname\u001b[0m\u001b[0;34m)\u001b[0m\u001b[0;34m)\u001b[0m\u001b[0;34m\u001b[0m\u001b[0;34m\u001b[0m\u001b[0m\n\u001b[1;32m     96\u001b[0m \u001b[0;34m\u001b[0m\u001b[0m\n",
      "\u001b[0;32m/usr/local/lib/python3.8/dist-packages/awkward/highlevel.py\u001b[0m in \u001b[0;36m__getitem__\u001b[0;34m(self, where)\u001b[0m\n\u001b[1;32m    991\u001b[0m         \"\"\"\n\u001b[1;32m    992\u001b[0m         \u001b[0;32mif\u001b[0m \u001b[0;32mnot\u001b[0m \u001b[0mhasattr\u001b[0m\u001b[0;34m(\u001b[0m\u001b[0mself\u001b[0m\u001b[0;34m,\u001b[0m \u001b[0;34m\"_tracers\"\u001b[0m\u001b[0;34m)\u001b[0m\u001b[0;34m:\u001b[0m\u001b[0;34m\u001b[0m\u001b[0;34m\u001b[0m\u001b[0m\n\u001b[0;32m--> 993\u001b[0;31m             \u001b[0mtmp\u001b[0m \u001b[0;34m=\u001b[0m \u001b[0mak\u001b[0m\u001b[0;34m.\u001b[0m\u001b[0m_util\u001b[0m\u001b[0;34m.\u001b[0m\u001b[0mwrap\u001b[0m\u001b[0;34m(\u001b[0m\u001b[0mself\u001b[0m\u001b[0;34m.\u001b[0m\u001b[0mlayout\u001b[0m\u001b[0;34m[\u001b[0m\u001b[0mwhere\u001b[0m\u001b[0;34m]\u001b[0m\u001b[0;34m,\u001b[0m \u001b[0mself\u001b[0m\u001b[0;34m.\u001b[0m\u001b[0m_behavior\u001b[0m\u001b[0;34m)\u001b[0m\u001b[0;34m\u001b[0m\u001b[0;34m\u001b[0m\u001b[0m\n\u001b[0m\u001b[1;32m    994\u001b[0m         \u001b[0;32melse\u001b[0m\u001b[0;34m:\u001b[0m\u001b[0;34m\u001b[0m\u001b[0;34m\u001b[0m\u001b[0m\n\u001b[1;32m    995\u001b[0m             \u001b[0mtmp\u001b[0m \u001b[0;34m=\u001b[0m \u001b[0mak\u001b[0m\u001b[0;34m.\u001b[0m\u001b[0m_connect\u001b[0m\u001b[0;34m.\u001b[0m\u001b[0m_jax\u001b[0m\u001b[0;34m.\u001b[0m\u001b[0mjax_utils\u001b[0m\u001b[0;34m.\u001b[0m\u001b[0m_jaxtracers_getitem\u001b[0m\u001b[0;34m(\u001b[0m\u001b[0mself\u001b[0m\u001b[0;34m,\u001b[0m \u001b[0mwhere\u001b[0m\u001b[0;34m)\u001b[0m\u001b[0;34m\u001b[0m\u001b[0;34m\u001b[0m\u001b[0m\n",
      "\u001b[0;31mValueError\u001b[0m: in NumpyArray attempting to get 8289, index out of range\n\n(https://github.com/scikit-hep/awkward-1.0/blob/1.4.0/src/cpu-kernels/awkward_regularize_arrayslice.cpp#L18)"
     ]
    }
   ],
   "source": [
    "cs.doit(mask, data_path+'throwaway', 211, 2112) #just to test/compare, to see what I'm aiming for:\n",
    "#and recall this didn't work since I had removed the longflag thing for deltaR, so it's too short here. "
   ]
  },
  {
   "cell_type": "code",
   "execution_count": 11,
   "id": "64a731d7-804b-46d2-ab5c-4b80bf2a1301",
   "metadata": {},
   "outputs": [
    {
     "name": "stdout",
     "output_type": "stream",
     "text": [
      "Working on /fast_scratch/atlas_images/v01-45/delta_medium.root\n",
      "Loading data\n",
      "clusEta_sel 8289\n",
      "full inds 7666\n",
      "loadarraybranchflat\n",
      "8289\n",
      "7666 [[814895104, 814899200, 814632960, 814628864, ... 856219648, 856223744, 864604160]]\n",
      "flat !!!!!?? 7666\n",
      "flatnumpy 7666\n",
      "--\n",
      "loadarraybranchflat\n",
      "8289\n",
      "7666 [[5.32, 0.17, 0.452, 0.0711, 0.415, 0.273, ... 0.0541, 0.4, 0.0412, 0.572, 0.597]]\n",
      "flat !!!!!?? 7666\n",
      "flatnumpy 7666\n",
      "--\n",
      "cell_id !!?? 7666\n",
      "cell_e !!?! 7666\n",
      "7666\n",
      "7666\n",
      "7666\n",
      "7666\n",
      "7666\n",
      "7666\n",
      "cell eta 7666\n",
      "cell phi 7666\n",
      "eta [-1.95539701  1.76976109 -1.9589355  -2.40188622 -1.43394566 -2.00725865\n",
      " -2.23797679 -1.62925625 -1.7706058  -1.83841276] 7666\n",
      "pt [ 1.6196028  35.70428848  1.43032336  1.62084162  1.30188441 16.67948723\n",
      " 91.53089142 52.27288437  0.45405436  3.85772705] 7666\n",
      "e [  5.83723688 107.82382202   5.17260885   9.02365875   2.88600826\n",
      "  63.19226074 433.90310669 138.4226532    1.37229776  12.43272495] 7666\n",
      "7666 7666 7666\n",
      "7666 7666 [[-1.95539701]\n",
      " [ 1.76976109]\n",
      " [-1.9589355 ]\n",
      " ...\n",
      " [ 1.02326369]\n",
      " [-1.06418645]\n",
      " [ 2.34730983]]\n",
      "Normalizing\n"
     ]
    },
    {
     "name": "stderr",
     "output_type": "stream",
     "text": [
      "/home/kaelaekd/start_tf/LCStudies/classifier/convert_sets_splitdelta.py:203: RuntimeWarning: divide by zero encountered in log\n",
      "  cell_e = np.nan_to_num(np.log(cell_e), posinf = 0, neginf=0)\n"
     ]
    },
    {
     "name": "stdout",
     "output_type": "stream",
     "text": [
      "Writing out\n",
      "Done! /data/atlas/w12_closestcluster\n"
     ]
    }
   ],
   "source": [
    "cs.doit_cc(mask, data_path+'w12_closestcluster', 211, 2112) #here goes nothing"
   ]
  },
  {
   "cell_type": "code",
   "execution_count": null,
   "id": "f8d93726-b8ec-4515-9d67-3b09849ba5e8",
   "metadata": {},
   "outputs": [],
   "source": [
    "len(mask)"
   ]
  },
  {
   "cell_type": "code",
   "execution_count": null,
   "id": "3525b9f2-e7cf-495c-b463-2173b908691c",
   "metadata": {},
   "outputs": [],
   "source": [
    "trutheta[mask]"
   ]
  },
  {
   "cell_type": "code",
   "execution_count": null,
   "id": "85b8193d-4beb-46a3-9ef4-c32b917e5f91",
   "metadata": {},
   "outputs": [],
   "source": [
    "branches.cluster_cell_ID[mask]"
   ]
  },
  {
   "cell_type": "code",
   "execution_count": 12,
   "id": "632ad7c4-9c8c-4f54-ac7f-b4e9a044b99b",
   "metadata": {},
   "outputs": [],
   "source": [
    "x = np.array([1,2,3])"
   ]
  },
  {
   "cell_type": "code",
   "execution_count": 15,
   "id": "8f370bc3-4512-4636-8c2a-965e88e54dc0",
   "metadata": {},
   "outputs": [
    {
     "data": {
      "text/plain": [
       "(3,)"
      ]
     },
     "execution_count": 15,
     "metadata": {},
     "output_type": "execute_result"
    }
   ],
   "source": [
    "x.shape"
   ]
  },
  {
   "cell_type": "code",
   "execution_count": 13,
   "id": "6bdb8c5a-d818-4222-9979-e8c17ac8dd4d",
   "metadata": {},
   "outputs": [],
   "source": [
    "#!!!!!!!!!!! Can't believe it!! moment of truth tho, lets see if it works:\n",
    "file = np.load(data_path+'w12_closestcluster.npz')\n",
    "model_nog = tf.keras.models.load_model(model_path+'w8_pfn_noglob_2.hdf5')"
   ]
  },
  {
   "cell_type": "code",
   "execution_count": 16,
   "id": "1f0e07ea-9b24-4e39-bcb6-e2e2b5276e83",
   "metadata": {},
   "outputs": [],
   "source": [
    "X = file['X']\n",
    "clus_eta = file['clus_eta']\n",
    "clus_pt = file['clus_pt']\n",
    "clus_E = file['clus_e']\n",
    "clus_et = file['clus_e_t']\n",
    "deltar = file['deltaR']\n"
   ]
  },
  {
   "cell_type": "code",
   "execution_count": 17,
   "id": "282fb4d2-096e-425c-aa9a-ac1ec40c6f68",
   "metadata": {},
   "outputs": [],
   "source": [
    "def doit(dat, outfile, size):\n",
    "    X, clus_eta, clus_pt, clus_E, clus_et, deltar = dat\n",
    "    X_all = np.array(X[:size])\n",
    "    eta_all = np.array(clus_eta[:size])\n",
    "    pt_all = np.array(clus_pt[:size])\n",
    "    E_all = np.array(clus_E[:size])\n",
    "    et_all = np.array(clus_et[:size])\n",
    "    deltar_all = np.array(deltar[:size])\n",
    "    \n",
    "    (X_train, X_val, X_test,  \n",
    "     eta_train, eta_val, eta_test, \n",
    "     ET_train, ET_val, ET_test, \n",
    "     pt_train, pt_val, pt_test, \n",
    "     Eng_train, Eng_val, Eng_test,\n",
    "     deltar_train, deltar_val, deltar_test) = data_split(X_all, eta_all, et_all, pt_all, E_all, deltar_all, val=100, test=int(size/2.))\n",
    "    \n",
    "    np.savez(data_path+outfile, X_train, X_val, X_test, eta_train, eta_val, eta_test, ET_train, ET_val, ET_test, pt_train, pt_val, pt_test, Eng_train, Eng_val, Eng_test, deltar_train, deltar_val, deltar_test)"
   ]
  },
  {
   "cell_type": "code",
   "execution_count": 18,
   "id": "bfb169a5-96cf-4fed-89c3-130c78cf18a4",
   "metadata": {},
   "outputs": [
    {
     "data": {
      "text/plain": [
       "7359"
      ]
     },
     "execution_count": 18,
     "metadata": {},
     "output_type": "execute_result"
    }
   ],
   "source": [
    "len(X)"
   ]
  },
  {
   "cell_type": "code",
   "execution_count": 19,
   "id": "96b0745a-bbee-4736-90d3-feebaf83faf8",
   "metadata": {},
   "outputs": [],
   "source": [
    "doit((X, clus_eta, clus_pt, clus_E, clus_et, deltar), 'nn_closestcluster.npz', 7359)"
   ]
  },
  {
   "cell_type": "code",
   "execution_count": 20,
   "id": "7d9d12b0-bae9-4c31-a53b-daba42817dcb",
   "metadata": {},
   "outputs": [],
   "source": [
    "NNfile = np.load(data_path+'nn_closestcluster.npz')\n"
   ]
  },
  {
   "cell_type": "code",
   "execution_count": 23,
   "id": "5821353f-ea2d-4ca8-aa5f-d89704806ca0",
   "metadata": {},
   "outputs": [],
   "source": [
    "import Week7_PFNutils as W"
   ]
  },
  {
   "cell_type": "code",
   "execution_count": 25,
   "id": "6b96c268-991e-46af-99ff-fcdf16304caf",
   "metadata": {},
   "outputs": [
    {
     "data": {
      "image/png": "[encoded data removed]",
      "text/plain": [
       "<Figure size 1728x864 with 8 Axes>"
      ]
     },
     "metadata": {},
     "output_type": "display_data"
    }
   ],
   "source": [
    "W.deltaR_responseplots(NNfile, model_nog, col='xkcd:dandelion') #this one is closest to the n, DONT REDO!! file has been replaced by one with closest to the pi+!!***"
   ]
  },
  {
   "cell_type": "code",
   "execution_count": null,
   "id": "2620b95d-a097-438b-a6e5-aa9da88af0f3",
   "metadata": {},
   "outputs": [],
   "source": []
  }
 ],
 "metadata": {
  "kernelspec": {
   "display_name": "Python 3 (ipykernel)",
   "language": "python",
   "name": "python3"
  },
  "language_info": {
   "codemirror_mode": {
    "name": "ipython",
    "version": 3
   },
   "file_extension": ".py",
   "mimetype": "text/x-python",
   "name": "python",
   "nbconvert_exporter": "python",
   "pygments_lexer": "ipython3",
   "version": "3.8.10"
  }
 },
 "nbformat": 4,
 "nbformat_minor": 5
}
