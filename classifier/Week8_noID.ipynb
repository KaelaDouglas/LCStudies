{
 "cells": [
  {
   "cell_type": "markdown",
   "id": "460adc77-dac8-4607-90d3-03b5d677fb8a",
   "metadata": {},
   "source": [
    "This one in conjunction with convert_sets_noID to try a model with (and without?) global eta and without the sampling ID because it is known that this is eta-dependent. so without it, will it still have eta-depencence with no eta input?? I guess is the idea?"
   ]
  },
  {
   "cell_type": "code",
   "execution_count": null,
   "id": "8ce051a1-9be3-453f-913f-a17b22e4ca5c",
   "metadata": {},
   "outputs": [],
   "source": []
  }
 ],
 "metadata": {
  "kernelspec": {
   "display_name": "Python 3",
   "language": "python",
   "name": "python3"
  },
  "language_info": {
   "codemirror_mode": {
    "name": "ipython",
    "version": 3
   },
   "file_extension": ".py",
   "mimetype": "text/x-python",
   "name": "python",
   "nbconvert_exporter": "python",
   "pygments_lexer": "ipython3",
   "version": "3.8.5"
  }
 },
 "nbformat": 4,
 "nbformat_minor": 5
}
