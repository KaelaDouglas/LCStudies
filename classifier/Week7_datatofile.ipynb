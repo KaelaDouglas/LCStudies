{
 "cells": [
  {
   "cell_type": "markdown",
   "id": "ed49fc0a-2f4c-4075-a57a-8434750100b7",
   "metadata": {},
   "source": [
    "Still having pretty awful memory issues so will save the X_all, Y_all etc to a file to then extract on its own.... hopefully this will help"
   ]
  },
  {
   "cell_type": "code",
   "execution_count": 1,
   "id": "0de134a1-9a39-49da-9851-2c9803ab0002",
   "metadata": {},
   "outputs": [],
   "source": [
    "#imports\n",
    "import uproot as ur\n",
    "import awkward as ak\n",
    "import numpy as np\n",
    "\n",
    "data_path = '/fast_scratch/atlas_images/v01-45/'\n",
    "\n",
    "import os\n",
    "os.environ['CUDA_VISIBLE_DEVICES'] = \"2\" #specify GPU\n",
    "os.environ['TF_FORCE_GPU_ALLOW_GROWTH'] = 'true'\n",
    "\n",
    "import tensorflow as tf\n",
    "\n",
    "# energyflow imports\n",
    "import energyflow as ef\n",
    "from energyflow.archs import PFN\n",
    "from energyflow.utils import data_split\n",
    "\n",
    "from sklearn.metrics import roc_auc_score, roc_curve\n",
    "import matplotlib.pyplot as plt"
   ]
  },
  {
   "cell_type": "code",
   "execution_count": 2,
   "id": "38a7d43a-5d3c-4021-92fd-0fc50f2198bb",
   "metadata": {},
   "outputs": [],
   "source": [
    "import sys\n",
    "sys.path.append('/Users/swiatlow/Code/ML4P/LCStudies')\n",
    "sys.path.append('/home/mswiatlowski/start_tf/LCStudies')\n",
    "import graph_util as gu\n",
    "import plot_util as pu\n",
    "\n",
    "path_pipm = data_path + 'pipm_medium.root'\n",
    "path_pi0  = data_path + 'pi0_medium.root'\n"
   ]
  },
  {
   "cell_type": "code",
   "execution_count": 5,
   "id": "37b9fc79-1ebc-4a2d-b05b-e69b4322a7d0",
   "metadata": {},
   "outputs": [
    {
     "name": "stdout",
     "output_type": "stream",
     "text": [
      "Working on /fast_scratch/atlas_images/v01-45/pipm_medium.root\n",
      "Loading data\n",
      "eta [-1.125384   -0.9594247   0.93537796 -1.9522849   1.1632881  -0.06523713\n",
      " -0.05172568 -0.09848271 -0.03274849  1.0723295 ]\n",
      "Normalizing\n"
     ]
    },
    {
     "name": "stderr",
     "output_type": "stream",
     "text": [
      "/home/kaelaekd/start_tf/LCStudies/classifier/convert_sets.py:68: RuntimeWarning: divide by zero encountered in log\n",
      "  cell_e = np.nan_to_num(np.log(cell_e), posinf = 0, neginf=0)\n"
     ]
    },
    {
     "name": "stdout",
     "output_type": "stream",
     "text": [
      "Writing out\n"
     ]
    },
    {
     "name": "stderr",
     "output_type": "stream",
     "text": [
      "/home/kaelaekd/start_tf/LCStudies/classifier/convert_sets.py:81: RuntimeWarning: divide by zero encountered in log\n",
      "  Y_target = np.log(clus_targetE[selection]) #for regression, I don't need\n",
      "/home/kaelaekd/start_tf/LCStudies/classifier/convert_sets.py:81: RuntimeWarning: invalid value encountered in log\n",
      "  Y_target = np.log(clus_targetE[selection]) #for regression, I don't need\n"
     ]
    },
    {
     "name": "stdout",
     "output_type": "stream",
     "text": [
      "Done! /fast_scratch/atlas_images/v01-45/pipm_medium.npz\n",
      "Working on /fast_scratch/atlas_images/v01-45/pi0_medium.root\n",
      "Loading data\n",
      "eta [ 2.6569927   2.2744625   2.267206   -0.17188169 -2.7659993  -2.178036\n",
      " -2.1792655  -2.2079153  -2.125493   -2.0137668 ]\n",
      "Normalizing\n",
      "Writing out\n",
      "Done! /fast_scratch/atlas_images/v01-45/pi0_medium.npz\n"
     ]
    }
   ],
   "source": [
    "#import convert_sets"
   ]
  },
  {
   "cell_type": "code",
   "execution_count": 3,
   "id": "77cd15d1-e8b6-46c0-a001-c16a8f62900e",
   "metadata": {},
   "outputs": [],
   "source": [
    "#load up data\n",
    "pipm_med = np.load('/fast_scratch/atlas_images/v01-45/pipm_medium.npz')\n",
    "pi0_med = np.load('/fast_scratch/atlas_images/v01-45/pi0_medium.npz')"
   ]
  },
  {
   "cell_type": "code",
   "execution_count": 4,
   "id": "34f4786e-9dc2-4cde-b9e7-4682c5084ffe",
   "metadata": {},
   "outputs": [],
   "source": [
    "#extract data\n",
    "X_pipm = pipm_med['X']\n",
    "X_pi0 = pi0_med['X']\n",
    "\n",
    "Y_label_pipm = pipm_med['Y_label']\n",
    "Y_label_pi0 = pi0_med['Y_label']\n",
    "\n",
    "clus_eta_pipm = pipm_med['clus_eta']\n",
    "clus_eta_pi0 = pi0_med['clus_eta']\n",
    "\n",
    "clus_pt_pipm = pipm_med['clus_pt']\n",
    "clus_pt_pi0 = pi0_med['clus_pt']\n",
    "\n",
    "clus_E_pipm = pipm_med['clus_e']\n",
    "clus_E_pi0 = pi0_med['clus_e']\n",
    "\n",
    "clus_et_pipm = pipm_med['clus_e_t']\n",
    "clus_et_pi0 = pi0_med['clus_e_t']"
   ]
  },
  {
   "cell_type": "code",
   "execution_count": 5,
   "id": "59fa0537-ae61-4423-8b87-52e81e64f17c",
   "metadata": {},
   "outputs": [],
   "source": [
    "#select size of datasets\n",
    "X_all = np.concatenate((X_pipm[:390000], X_pi0[:390000]))\n",
    "Y_all = tf.keras.utils.to_categorical(np.concatenate((Y_label_pipm[:390000],Y_label_pi0[:390000])))\n",
    "eta = np.concatenate((clus_eta_pipm[:390000], clus_eta_pi0[:390000]))\n",
    "E_T = np.concatenate((clus_et_pipm[:390000], clus_et_pi0[:390000]))\n",
    "pt = np.concatenate((clus_pt_pipm[:390000], clus_pt_pi0[:390000]))\n",
    "Eng = np.concatenate((clus_E_pipm[:390000], clus_E_pi0[:390000]))\n",
    "\n",
    "#X_glob = [eta, pt, Eng] #will this even work??"
   ]
  },
  {
   "cell_type": "code",
   "execution_count": 6,
   "id": "a692cc44-0031-4488-b903-b4703b27d960",
   "metadata": {},
   "outputs": [],
   "source": [
    "(X_train, X_val, X_test, \n",
    " Y_train, Y_val, Y_test, \n",
    " eta_train, eta_val, eta_test, \n",
    " ET_train, ET_val, ET_test, \n",
    " pt_train, pt_val, pt_test, \n",
    " Eng_train, Eng_val, Eng_test) = data_split(X_all, Y_all, eta, E_T, pt, Eng, val=100000, test=300000)"
   ]
  },
  {
   "cell_type": "code",
   "execution_count": 7,
   "id": "23fde6f9-9ceb-43e4-b7a3-ce83e8e974be",
   "metadata": {},
   "outputs": [],
   "source": [
    "#X_glob_tr = [eta_train, pt_train, Eng_train]\n",
    "#X_glob_val = [eta_val, pt_val, Eng_val]\n",
    "#X_glob_te = [eta_test, pt_test, Eng_test]\n",
    "\n",
    "#actually, don't define these here - these should be defined in the notebook when you load up the data."
   ]
  },
  {
   "cell_type": "markdown",
   "id": "84840bd5-552c-4e04-8e0a-be92eff70f6a",
   "metadata": {},
   "source": [
    "this has been edited to add ET, pt, and Eng. previously X_glob was just a copy of the eta array but now it holds the other two, hopefully this will still work!"
   ]
  },
  {
   "cell_type": "code",
   "execution_count": 8,
   "id": "ed58ab44-977a-4f9f-9877-92b076e93edc",
   "metadata": {},
   "outputs": [],
   "source": [
    "np.savez(data_path+'nn_splitdata_w7_2', X_train, X_val, X_test, Y_train, Y_val, Y_test, eta_train, eta_val, eta_test, ET_train, ET_val, ET_test, pt_train, pt_val, pt_test, Eng_train, Eng_val, Eng_test)"
   ]
  },
  {
   "cell_type": "markdown",
   "id": "5832613f-c5c9-482a-9272-b6d896c62ebe",
   "metadata": {},
   "source": [
    "Hello! note a bunch of files I was saving here will be moved to '/fast_scratch/atlas_images/v01-45/' - this will be all the models etc. I'll list em: \n",
    "\n",
    "w6_pfn_bigtest.hdf5\n",
    "\n",
    "w6_pfn4.hdf5\n",
    "\n",
    "\n",
    "roc_all.npz\n",
    "\n",
    "roc_b0715.npz\n",
    "\n",
    "roc_b1425.npz\n",
    "\n",
    "roc_b2531.npz\n",
    "\n",
    "roc_g15.npz\n",
    "\n",
    "roc_l05.npz\n",
    "\n",
    "roc_l07.npz\n",
    "\n",
    "roc_l1.npz\n",
    "\n",
    "roc_l15.npz\n",
    "\n",
    "\n",
    "nndata_kd.npz\n",
    "\n",
    "\n",
    "pfnmodel_b0715.h5\n",
    "\n",
    "pfnmodel_b1425.h5\n",
    "\n",
    "pfnmodel_b2531.h5\n",
    "\n",
    "pfnmodel_g15.h5\n",
    "\n",
    "pfnmodel_gall.h5\n",
    "\n",
    "pfnmodel_l05.h5\n",
    "\n",
    "pfnmodel_l07.h5\n",
    "\n",
    "pfnmodel_l1.h5\n",
    "\n",
    "pfnmodel_l15.h5\n",
    "\n",
    "\n",
    "file folders:\n",
    "\n",
    "w6_pfn1\n",
    "\n",
    "w6_pfn4"
   ]
  },
  {
   "cell_type": "code",
   "execution_count": null,
   "id": "db113e80-41ea-4dd1-9ccd-090bdf0cf01c",
   "metadata": {},
   "outputs": [],
   "source": []
  }
 ],
 "metadata": {
  "kernelspec": {
   "display_name": "Python 3 (ipykernel)",
   "language": "python",
   "name": "python3"
  },
  "language_info": {
   "codemirror_mode": {
    "name": "ipython",
    "version": 3
   },
   "file_extension": ".py",
   "mimetype": "text/x-python",
   "name": "python",
   "nbconvert_exporter": "python",
   "pygments_lexer": "ipython3",
   "version": "3.8.10"
  }
 },
 "nbformat": 4,
 "nbformat_minor": 5
}
