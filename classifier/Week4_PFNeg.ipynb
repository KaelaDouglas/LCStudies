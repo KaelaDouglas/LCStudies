{
 "cells": [
  {
   "cell_type": "code",
   "execution_count": 1,
   "id": "30cec02e-14cf-46df-b2af-9334bf434c2d",
   "metadata": {},
   "outputs": [],
   "source": [
    "import os\n",
    "\n",
    "os.environ['CUDA_VISIBLE_DEVICES'] = \"2\"\n",
    "os.environ['TF_FORCE_GPU_ALLOW_GROWTH'] = 'true'"
   ]
  },
  {
   "cell_type": "code",
   "execution_count": 2,
   "id": "6e1a7b6c-cfdb-428a-a1f2-1bd75039f4b8",
   "metadata": {},
   "outputs": [],
   "source": [
    "# standard library imports\n",
    "from __future__ import absolute_import, division, print_function\n",
    "\n",
    "# standard numerical library imports\n",
    "import numpy as np\n",
    "\n",
    "# energyflow imports\n",
    "import energyflow as ef\n",
    "from energyflow.archs import PFN\n",
    "from energyflow.datasets import qg_jets\n",
    "from energyflow.utils import data_split, remap_pids, to_categorical\n",
    "\n",
    "from sklearn.metrics import roc_auc_score, roc_curve\n",
    "import matplotlib.pyplot as plt\n"
   ]
  },
  {
   "cell_type": "code",
   "execution_count": 3,
   "id": "d0c9bce5-01c1-4c64-8276-f2f38433e333",
   "metadata": {
    "tags": []
   },
   "outputs": [],
   "source": [
    "\n",
    "################################### SETTINGS ###################################\n",
    "# the commented values correspond to those in 1810.05165\n",
    "###############################################################################\n",
    "\n",
    "# data controls, can go up to 2000000 for full dataset\n",
    "train, val, test = 75000, 10000, 15000\n",
    "# train, val, test = 1000000, 200000, 200000\n",
    "use_pids = True\n",
    "\n",
    "# network architecture parameters\n",
    "Phi_sizes, F_sizes = (100, 100, 128), (100, 100, 100)\n",
    "# Phi_sizes, F_sizes = (100, 100, 256), (100, 100, 100)\n",
    "\n",
    "# network training parameters\n",
    "num_epoch = 50\n",
    "batch_size = 500\n",
    "\n",
    "################################################################################"
   ]
  },
  {
   "cell_type": "code",
   "execution_count": 4,
   "id": "5595f3a2-0452-4cb1-972e-6069c4f3dc1f",
   "metadata": {},
   "outputs": [
    {
     "name": "stdout",
     "output_type": "stream",
     "text": [
      "Loaded quark and gluon jets\n"
     ]
    }
   ],
   "source": [
    "# load data\n",
    "X, y = qg_jets.load(train + val + test)\n",
    "\n",
    "# convert labels to categorical\n",
    "Y = to_categorical(y, num_classes=2) #one hot encoding!\n",
    "\n",
    "print('Loaded quark and gluon jets')"
   ]
  },
  {
   "cell_type": "code",
   "execution_count": 5,
   "id": "89e4fdda-6480-4e3c-8ca9-37d83052cb3c",
   "metadata": {},
   "outputs": [
    {
     "data": {
      "text/plain": [
       "array([  22,   22, -211, ...,    0,    0,    0])"
      ]
     },
     "execution_count": 5,
     "metadata": {},
     "output_type": "execute_result"
    }
   ],
   "source": [
    "X[:,:,3].astype(int).reshape((X.shape[0]*X.shape[1]))"
   ]
  },
  {
   "cell_type": "code",
   "execution_count": 6,
   "id": "84970b88-c28d-4568-abb3-c012459a45ff",
   "metadata": {},
   "outputs": [],
   "source": [
    "PID2FLOAT_MAP = {22: 1.4,\n",
    "                 211: .1, -211: .2,\n",
    "                 321: .3, -321: .4,\n",
    "                 130: .5,\n",
    "                 2112: .6, -2112: .7,\n",
    "                 2212: .8, -2212: .9,\n",
    "                 11: 1.0, -11: 1.1,\n",
    "                 13: 1.2, -13: 1.3,\n",
    "                 0: 0}\n",
    "\n",
    "def remap_pids_max(events, pid_i=3, error_on_unknown=True):\n",
    "    \"\"\"Remaps PDG id numbers to small floats for use in a neural network.\n",
    "    `events` are modified in place and nothing is returned.\n",
    "    **Arguments**\n",
    "    - **events** : _numpy.ndarray_\n",
    "        - The events as an array of arrays of particles.\n",
    "    - **pid_i** : _int_\n",
    "        - The column index corresponding to pid information in an event.\n",
    "    - **error_on_unknown** : _bool_\n",
    "        - Controls whether a `KeyError` is raised if an unknown PDG ID is\n",
    "        encountered. If `False`, unknown PDG IDs will map to zero.\n",
    "    \"\"\"\n",
    "    if events.ndim == 3:\n",
    "        pids = events[:,:,pid_i].astype(int).reshape((events.shape[0]*events.shape[1]))\n",
    "        if error_on_unknown:\n",
    "            events[:,:,pid_i] = np.asarray([PID2FLOAT_MAP[pid]\n",
    "                                            for pid in pids]).reshape(events.shape[:2])\n",
    "        else:\n",
    "            events[:,:,pid_i] = np.asarray([PID2FLOAT_MAP.get(pid, 0)\n",
    "                                            for pid in pids]).reshape(events.shape[:2])\n",
    "    else:\n",
    "        if error_on_unknown:\n",
    "            for event in events:\n",
    "                event[:,pid_i] = np.asarray([PID2FLOAT_MAP[pid]\n",
    "                                             for pid in event[:,pid_i].astype(int)])\n",
    "        else:\n",
    "            for event in events:\n",
    "                event[:,pid_i] = np.asarray([PID2FLOAT_MAP.get(pid, 0)\n",
    "                                             for pid in event[:,pid_i].astype(int)])"
   ]
  },
  {
   "cell_type": "code",
   "execution_count": 7,
   "id": "70536988-58f3-4c15-ba5e-2b14157c0a25",
   "metadata": {},
   "outputs": [
    {
     "name": "stdout",
     "output_type": "stream",
     "text": [
      "Finished preprocessing\n"
     ]
    }
   ],
   "source": [
    "# preprocess by centering jets and normalizing pts\n",
    "for x in X:\n",
    "    mask = x[:,0] > 0\n",
    "    yphi_avg = np.average(x[mask,1:3], weights=x[mask,0], axis=0)\n",
    "    x[mask,1:3] -= yphi_avg\n",
    "    x[mask,0] /= x[:,0].sum()\n",
    "\n",
    "# handle particle id channel\n",
    "if use_pids:\n",
    "    remap_pids_max(X, pid_i=3)\n",
    "else:\n",
    "    X = X[:,:,:3]\n",
    "\n",
    "print('Finished preprocessing')"
   ]
  },
  {
   "cell_type": "code",
   "execution_count": 8,
   "id": "8db66b8a-b726-4a14-93f1-6b6cb8032628",
   "metadata": {},
   "outputs": [
    {
     "data": {
      "text/plain": [
       "((100000, 139, 4), (100, 100, 128), (100, 100, 100))"
      ]
     },
     "execution_count": 8,
     "metadata": {},
     "output_type": "execute_result"
    }
   ],
   "source": [
    "X.shape, Phi_sizes, F_sizes"
   ]
  },
  {
   "cell_type": "code",
   "execution_count": 9,
   "id": "cd3c2ff5-5966-4d60-a73e-8571bdd755af",
   "metadata": {},
   "outputs": [
    {
     "name": "stdout",
     "output_type": "stream",
     "text": [
      "Done train/val/test split\n",
      "Model summary:\n",
      "Model: \"model\"\n",
      "__________________________________________________________________________________________________\n",
      "Layer (type)                    Output Shape         Param #     Connected to                     \n",
      "==================================================================================================\n",
      "input (InputLayer)              [(None, None, 4)]    0                                            \n",
      "__________________________________________________________________________________________________\n",
      "tdist_0 (TimeDistributed)       (None, None, 100)    500         input[0][0]                      \n",
      "__________________________________________________________________________________________________\n",
      "activation (Activation)         (None, None, 100)    0           tdist_0[0][0]                    \n",
      "__________________________________________________________________________________________________\n",
      "tdist_1 (TimeDistributed)       (None, None, 100)    10100       activation[0][0]                 \n",
      "__________________________________________________________________________________________________\n",
      "activation_1 (Activation)       (None, None, 100)    0           tdist_1[0][0]                    \n",
      "__________________________________________________________________________________________________\n",
      "tdist_2 (TimeDistributed)       (None, None, 128)    12928       activation_1[0][0]               \n",
      "__________________________________________________________________________________________________\n",
      "mask (Lambda)                   (None, None)         0           input[0][0]                      \n",
      "__________________________________________________________________________________________________\n",
      "activation_2 (Activation)       (None, None, 128)    0           tdist_2[0][0]                    \n",
      "__________________________________________________________________________________________________\n",
      "sum (Dot)                       (None, 128)          0           mask[0][0]                       \n",
      "                                                                 activation_2[0][0]               \n",
      "__________________________________________________________________________________________________\n",
      "dense_0 (Dense)                 (None, 100)          12900       sum[0][0]                        \n",
      "__________________________________________________________________________________________________\n",
      "activation_3 (Activation)       (None, 100)          0           dense_0[0][0]                    \n",
      "__________________________________________________________________________________________________\n",
      "dense_1 (Dense)                 (None, 100)          10100       activation_3[0][0]               \n",
      "__________________________________________________________________________________________________\n",
      "activation_4 (Activation)       (None, 100)          0           dense_1[0][0]                    \n",
      "__________________________________________________________________________________________________\n",
      "dense_2 (Dense)                 (None, 100)          10100       activation_4[0][0]               \n",
      "__________________________________________________________________________________________________\n",
      "activation_5 (Activation)       (None, 100)          0           dense_2[0][0]                    \n",
      "__________________________________________________________________________________________________\n",
      "output (Dense)                  (None, 2)            202         activation_5[0][0]               \n",
      "__________________________________________________________________________________________________\n",
      "activation_6 (Activation)       (None, 2)            0           output[0][0]                     \n",
      "==================================================================================================\n",
      "Total params: 56,830\n",
      "Trainable params: 56,830\n",
      "Non-trainable params: 0\n",
      "__________________________________________________________________________________________________\n",
      "Epoch 1/50\n",
      "150/150 [==============================] - 2s 8ms/step - loss: 2.3995 - acc: 0.5935 - val_loss: 0.5083 - val_acc: 0.7599\n",
      "Epoch 2/50\n",
      "150/150 [==============================] - 1s 6ms/step - loss: 0.5464 - acc: 0.7366 - val_loss: 0.6210 - val_acc: 0.7340\n",
      "Epoch 3/50\n",
      "150/150 [==============================] - 1s 6ms/step - loss: 0.5260 - acc: 0.7517 - val_loss: 0.4863 - val_acc: 0.7751\n",
      "Epoch 4/50\n",
      "150/150 [==============================] - 1s 6ms/step - loss: 0.5325 - acc: 0.7464 - val_loss: 0.5638 - val_acc: 0.7515\n",
      "Epoch 5/50\n",
      "150/150 [==============================] - 1s 6ms/step - loss: 0.4999 - acc: 0.7652 - val_loss: 0.4783 - val_acc: 0.7809\n",
      "Epoch 6/50\n",
      "150/150 [==============================] - 1s 6ms/step - loss: 0.4927 - acc: 0.7709 - val_loss: 0.5027 - val_acc: 0.7578\n",
      "Epoch 7/50\n",
      "150/150 [==============================] - 1s 6ms/step - loss: 0.4886 - acc: 0.7742 - val_loss: 0.4794 - val_acc: 0.7857\n",
      "Epoch 8/50\n",
      "150/150 [==============================] - 1s 6ms/step - loss: 0.4700 - acc: 0.7825 - val_loss: 0.4657 - val_acc: 0.7931\n",
      "Epoch 9/50\n",
      "150/150 [==============================] - 1s 6ms/step - loss: 0.4721 - acc: 0.7829 - val_loss: 0.5413 - val_acc: 0.7323\n",
      "Epoch 10/50\n",
      "150/150 [==============================] - 1s 6ms/step - loss: 0.4936 - acc: 0.7679 - val_loss: 0.4608 - val_acc: 0.7937\n",
      "Epoch 11/50\n",
      "150/150 [==============================] - 1s 6ms/step - loss: 0.4597 - acc: 0.7880 - val_loss: 0.4671 - val_acc: 0.7876\n",
      "Epoch 12/50\n",
      "150/150 [==============================] - 1s 6ms/step - loss: 0.4791 - acc: 0.7757 - val_loss: 0.4595 - val_acc: 0.7927\n",
      "Epoch 13/50\n",
      "150/150 [==============================] - 1s 6ms/step - loss: 0.4638 - acc: 0.7860 - val_loss: 0.4790 - val_acc: 0.7819\n",
      "Epoch 14/50\n",
      "150/150 [==============================] - 1s 6ms/step - loss: 0.4672 - acc: 0.7842 - val_loss: 0.4571 - val_acc: 0.7947\n",
      "Epoch 15/50\n",
      "150/150 [==============================] - 1s 6ms/step - loss: 0.4632 - acc: 0.7860 - val_loss: 0.4644 - val_acc: 0.7908\n",
      "Epoch 16/50\n",
      "150/150 [==============================] - 1s 6ms/step - loss: 0.4624 - acc: 0.7870 - val_loss: 0.4591 - val_acc: 0.7894\n",
      "Epoch 17/50\n",
      "150/150 [==============================] - 1s 6ms/step - loss: 0.4523 - acc: 0.7912 - val_loss: 0.4550 - val_acc: 0.7957\n",
      "Epoch 18/50\n",
      "150/150 [==============================] - 1s 6ms/step - loss: 0.4542 - acc: 0.7906 - val_loss: 0.4555 - val_acc: 0.7950\n",
      "Epoch 19/50\n",
      "150/150 [==============================] - 1s 6ms/step - loss: 0.4626 - acc: 0.7867 - val_loss: 0.4626 - val_acc: 0.7898\n",
      "Epoch 20/50\n",
      "150/150 [==============================] - 1s 6ms/step - loss: 0.4534 - acc: 0.7911 - val_loss: 0.4779 - val_acc: 0.7867\n",
      "Epoch 21/50\n",
      "150/150 [==============================] - 1s 6ms/step - loss: 0.4567 - acc: 0.7913 - val_loss: 0.4573 - val_acc: 0.7939\n",
      "Epoch 22/50\n",
      "150/150 [==============================] - 1s 6ms/step - loss: 0.4520 - acc: 0.7945 - val_loss: 0.4728 - val_acc: 0.7832\n",
      "Epoch 23/50\n",
      "150/150 [==============================] - 1s 6ms/step - loss: 0.4514 - acc: 0.7917 - val_loss: 0.4598 - val_acc: 0.7935\n",
      "Epoch 24/50\n",
      "150/150 [==============================] - 1s 6ms/step - loss: 0.4483 - acc: 0.7942 - val_loss: 0.4516 - val_acc: 0.7981\n",
      "Epoch 25/50\n",
      "150/150 [==============================] - 1s 6ms/step - loss: 0.4492 - acc: 0.7939 - val_loss: 0.4480 - val_acc: 0.7997\n",
      "Epoch 26/50\n",
      "150/150 [==============================] - 1s 6ms/step - loss: 0.4485 - acc: 0.7950 - val_loss: 0.4514 - val_acc: 0.7969\n",
      "Epoch 27/50\n",
      "150/150 [==============================] - 1s 6ms/step - loss: 0.4466 - acc: 0.7957 - val_loss: 0.4478 - val_acc: 0.8019\n",
      "Epoch 28/50\n",
      "150/150 [==============================] - 1s 6ms/step - loss: 0.4458 - acc: 0.7943 - val_loss: 0.4487 - val_acc: 0.8017\n",
      "Epoch 29/50\n",
      "150/150 [==============================] - 1s 6ms/step - loss: 0.4433 - acc: 0.7968 - val_loss: 0.4465 - val_acc: 0.7989\n",
      "Epoch 30/50\n",
      "150/150 [==============================] - 1s 6ms/step - loss: 0.4387 - acc: 0.8003 - val_loss: 0.4496 - val_acc: 0.7968\n",
      "Epoch 31/50\n",
      "150/150 [==============================] - 1s 6ms/step - loss: 0.4438 - acc: 0.7980 - val_loss: 0.4492 - val_acc: 0.7971\n",
      "Epoch 32/50\n",
      "150/150 [==============================] - 1s 6ms/step - loss: 0.4392 - acc: 0.7998 - val_loss: 0.4449 - val_acc: 0.8011\n",
      "Epoch 33/50\n",
      "150/150 [==============================] - 1s 6ms/step - loss: 0.4382 - acc: 0.8018 - val_loss: 0.4427 - val_acc: 0.8023\n",
      "Epoch 34/50\n",
      "150/150 [==============================] - 1s 6ms/step - loss: 0.4400 - acc: 0.7994 - val_loss: 0.4413 - val_acc: 0.8046\n",
      "Epoch 35/50\n",
      "150/150 [==============================] - 1s 6ms/step - loss: 0.4397 - acc: 0.7998 - val_loss: 0.4433 - val_acc: 0.8051\n",
      "Epoch 36/50\n",
      "150/150 [==============================] - 1s 6ms/step - loss: 0.4329 - acc: 0.8028 - val_loss: 0.4414 - val_acc: 0.8018\n",
      "Epoch 37/50\n",
      "150/150 [==============================] - 1s 6ms/step - loss: 0.4286 - acc: 0.8061 - val_loss: 0.4451 - val_acc: 0.8011\n",
      "Epoch 38/50\n",
      "150/150 [==============================] - 1s 6ms/step - loss: 0.4328 - acc: 0.8031 - val_loss: 0.4453 - val_acc: 0.8009\n",
      "Epoch 39/50\n",
      "150/150 [==============================] - 1s 6ms/step - loss: 0.4317 - acc: 0.8056 - val_loss: 0.4441 - val_acc: 0.8015\n",
      "Epoch 40/50\n",
      "150/150 [==============================] - 1s 6ms/step - loss: 0.4327 - acc: 0.8050 - val_loss: 0.4524 - val_acc: 0.7979\n",
      "Epoch 41/50\n",
      "150/150 [==============================] - 1s 6ms/step - loss: 0.4322 - acc: 0.8052 - val_loss: 0.4390 - val_acc: 0.8076\n",
      "Epoch 42/50\n",
      "150/150 [==============================] - 1s 6ms/step - loss: 0.4299 - acc: 0.8077 - val_loss: 0.4391 - val_acc: 0.8054\n",
      "Epoch 43/50\n",
      "150/150 [==============================] - 1s 6ms/step - loss: 0.4280 - acc: 0.8070 - val_loss: 0.4373 - val_acc: 0.8045\n",
      "Epoch 44/50\n",
      "150/150 [==============================] - 1s 6ms/step - loss: 0.4278 - acc: 0.8076 - val_loss: 0.4365 - val_acc: 0.8086\n",
      "Epoch 45/50\n",
      "150/150 [==============================] - 1s 6ms/step - loss: 0.4237 - acc: 0.8115 - val_loss: 0.4387 - val_acc: 0.8071\n",
      "Epoch 46/50\n",
      "150/150 [==============================] - 1s 6ms/step - loss: 0.4284 - acc: 0.8087 - val_loss: 0.4354 - val_acc: 0.8088\n",
      "Epoch 47/50\n",
      "150/150 [==============================] - 1s 6ms/step - loss: 0.4275 - acc: 0.8078 - val_loss: 0.4620 - val_acc: 0.7902\n",
      "Epoch 48/50\n",
      "150/150 [==============================] - 1s 6ms/step - loss: 0.4345 - acc: 0.8039 - val_loss: 0.4350 - val_acc: 0.8093\n",
      "Epoch 49/50\n",
      "150/150 [==============================] - 1s 6ms/step - loss: 0.4247 - acc: 0.8096 - val_loss: 0.4348 - val_acc: 0.8081\n",
      "Epoch 50/50\n",
      "150/150 [==============================] - 1s 6ms/step - loss: 0.4246 - acc: 0.8104 - val_loss: 0.4325 - val_acc: 0.8080\n"
     ]
    }
   ],
   "source": [
    "# do train/val/test split \n",
    "(X_train, X_val, X_test, Y_train, Y_val, Y_test) = data_split(X, Y, val=val, test=test)\n",
    "\n",
    "print('Done train/val/test split')\n",
    "print('Model summary:')\n",
    "\n",
    "# build architecture\n",
    "pfn = PFN(input_dim=X.shape[-1], Phi_sizes=Phi_sizes, F_sizes=F_sizes) #input dim is 4 for number of types of data being taken into account\n",
    "\n",
    "# train model\n",
    "pfn.fit(X_train, Y_train,\n",
    "        epochs=num_epoch, #familiar!\n",
    "        batch_size=batch_size,\n",
    "        validation_data=(X_val, Y_val),\n",
    "        verbose=1)\n",
    "\n",
    "# get predictions on test data\n",
    "preds = pfn.predict(X_test, batch_size=1000)#familiar\n",
    "\n",
    "# get ROC curve\n",
    "pfn_fp, pfn_tp, threshs = roc_curve(Y_test[:,1], preds[:,1]) #familiar"
   ]
  },
  {
   "cell_type": "code",
   "execution_count": 10,
   "id": "6138a334-efab-4d47-afc0-64d76da37a48",
   "metadata": {},
   "outputs": [
    {
     "name": "stdout",
     "output_type": "stream",
     "text": [
      "\n",
      "PFN AUC: 0.8842124018721785\n",
      "\n"
     ]
    }
   ],
   "source": [
    "# get area under the ROC curve\n",
    "auc = roc_auc_score(Y_test[:,1], preds[:,1])\n",
    "print()\n",
    "print('PFN AUC:', auc)\n",
    "print()\n",
    "\n",
    "# get multiplicity and mass for comparison\n",
    "masses = np.asarray([ef.ms_from_p4s(ef.p4s_from_ptyphims(x).sum(axis=0)) for x in X])\n",
    "mults = np.asarray([np.count_nonzero(x[:,0]) for x in X])\n",
    "mass_fp, mass_tp, threshs = roc_curve(Y[:,1], -masses)\n",
    "mult_fp, mult_tp, threshs = roc_curve(Y[:,1], -mults)"
   ]
  },
  {
   "cell_type": "code",
   "execution_count": 11,
   "id": "a131878b-7fde-4baf-b67b-4312ccb5a038",
   "metadata": {},
   "outputs": [
    {
     "data": {
      "image/png": "[encoded data removed]",
      "text/plain": [
       "<Figure size 504x504 with 1 Axes>"
      ]
     },
     "metadata": {
      "needs_background": "light"
     },
     "output_type": "display_data"
    }
   ],
   "source": [
    "# some nicer plot settings \n",
    "plt.rcParams['figure.figsize'] = (7,7)\n",
    "plt.rcParams['font.family'] = 'serif'\n",
    "plt.rcParams['figure.autolayout'] = True\n",
    "\n",
    "# plot the ROC curves\n",
    "plt.plot(pfn_tp, 1-pfn_fp, '-', color='xkcd:medium brown', label='PFN', linewidth=3)\n",
    "plt.plot(mass_tp, 1-mass_fp, '-', color='xkcd:mango', label='Jet Mass', linewidth=3)\n",
    "plt.plot(mult_tp, 1-mult_fp, '-', color='xkcd:dirty orange', label='Multiplicity', linewidth=3)\n",
    "\n",
    "# axes labels\n",
    "plt.xlabel('Quark Jet Efficiency')\n",
    "plt.ylabel('Gluon Jet Rejection')\n",
    "\n",
    "# axes limits\n",
    "plt.xlim(0, 1)\n",
    "plt.ylim(0, 1)\n",
    "\n",
    "# make legend and show plot\n",
    "plt.legend(loc='lower left', frameon=False)\n",
    "plt.show()"
   ]
  },
  {
   "cell_type": "code",
   "execution_count": null,
   "id": "7b21aa99-f8e3-4ce3-a6ff-f6ad6a01fb73",
   "metadata": {},
   "outputs": [],
   "source": []
  }
 ],
 "metadata": {
  "kernelspec": {
   "display_name": "Python 3",
   "language": "python",
   "name": "python3"
  },
  "language_info": {
   "codemirror_mode": {
    "name": "ipython",
    "version": 3
   },
   "file_extension": ".py",
   "mimetype": "text/x-python",
   "name": "python",
   "nbconvert_exporter": "python",
   "pygments_lexer": "ipython3",
   "version": "3.8.5"
  }
 },
 "nbformat": 4,
 "nbformat_minor": 5
}
