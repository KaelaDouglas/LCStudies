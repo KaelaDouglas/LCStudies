{
 "cells": [
  {
   "cell_type": "code",
   "execution_count": 1,
   "id": "30cec02e-14cf-46df-b2af-9334bf434c2d",
   "metadata": {},
   "outputs": [],
   "source": [
    "import os\n",
    "\n",
    "os.environ['CUDA_VISIBLE_DEVICES'] = \"2\"\n",
    "os.environ['TF_FORCE_GPU_ALLOW_GROWTH'] = 'true'"
   ]
  },
  {
   "cell_type": "code",
   "execution_count": 2,
   "id": "6e1a7b6c-cfdb-428a-a1f2-1bd75039f4b8",
   "metadata": {},
   "outputs": [],
   "source": [
    "# standard library imports\n",
    "from __future__ import absolute_import, division, print_function\n",
    "\n",
    "# standard numerical library imports\n",
    "import numpy as np\n",
    "\n",
    "# energyflow imports\n",
    "import energyflow as ef\n",
    "from energyflow.archs import PFN\n",
    "from energyflow.datasets import qg_jets\n",
    "from energyflow.utils import data_split, remap_pids, to_categorical\n",
    "\n",
    "from sklearn.metrics import roc_auc_score, roc_curve\n",
    "import matplotlib.pyplot as plt\n"
   ]
  },
  {
   "cell_type": "code",
   "execution_count": 13,
   "id": "d0c9bce5-01c1-4c64-8276-f2f38433e333",
   "metadata": {},
   "outputs": [],
   "source": [
    "\n",
    "################################### SETTINGS ###################################\n",
    "# the commented values correspond to those in 1810.05165\n",
    "###############################################################################\n",
    "\n",
    "# data controls, can go up to 2000000 for full dataset\n",
    "train, val, test = 75000, 10000, 15000\n",
    "# train, val, test = 1000000, 200000, 200000\n",
    "use_pids = True\n",
    "\n",
    "# network architecture parameters\n",
    "Phi_sizes, F_sizes = (100, 100, 128), (100, 100, 100)\n",
    "# Phi_sizes, F_sizes = (100, 100, 256), (100, 100, 100)\n",
    "\n",
    "# network training parameters\n",
    "num_epoch = 50\n",
    "batch_size = 500\n",
    "\n",
    "################################################################################"
   ]
  },
  {
   "cell_type": "code",
   "execution_count": 14,
   "id": "5595f3a2-0452-4cb1-972e-6069c4f3dc1f",
   "metadata": {},
   "outputs": [
    {
     "name": "stdout",
     "output_type": "stream",
     "text": [
      "Loaded quark and gluon jets\n"
     ]
    }
   ],
   "source": [
    "# load data\n",
    "X, y = qg_jets.load(train + val + test)\n",
    "\n",
    "# convert labels to categorical\n",
    "Y = to_categorical(y, num_classes=2)\n",
    "\n",
    "print('Loaded quark and gluon jets')"
   ]
  },
  {
   "cell_type": "code",
   "execution_count": 15,
   "id": "89e4fdda-6480-4e3c-8ca9-37d83052cb3c",
   "metadata": {},
   "outputs": [
    {
     "data": {
      "text/plain": [
       "array([  22,   22, -211, ...,    0,    0,    0])"
      ]
     },
     "execution_count": 15,
     "metadata": {},
     "output_type": "execute_result"
    }
   ],
   "source": [
    "X[:,:,3].astype(int).reshape((X.shape[0]*X.shape[1]))"
   ]
  },
  {
   "cell_type": "code",
   "execution_count": 16,
   "id": "70536988-58f3-4c15-ba5e-2b14157c0a25",
   "metadata": {},
   "outputs": [
    {
     "name": "stdout",
     "output_type": "stream",
     "text": [
      "Finished preprocessing\n"
     ]
    }
   ],
   "source": [
    "# preprocess by centering jets and normalizing pts\n",
    "for x in X:\n",
    "    mask = x[:,0] > 0\n",
    "    yphi_avg = np.average(x[mask,1:3], weights=x[mask,0], axis=0)\n",
    "    x[mask,1:3] -= yphi_avg\n",
    "    x[mask,0] /= x[:,0].sum()\n",
    "\n",
    "# handle particle id channel\n",
    "if use_pids:\n",
    "    remap_pids(X, pid_i=3, error_on_unknown=False)\n",
    "else:\n",
    "    X = X[:,:,:3]\n",
    "\n",
    "print('Finished preprocessing')"
   ]
  },
  {
   "cell_type": "code",
   "execution_count": 17,
   "id": "cd3c2ff5-5966-4d60-a73e-8571bdd755af",
   "metadata": {},
   "outputs": [
    {
     "name": "stdout",
     "output_type": "stream",
     "text": [
      "Done train/val/test split\n",
      "Model summary:\n",
      "Model: \"model_1\"\n",
      "__________________________________________________________________________________________________\n",
      "Layer (type)                    Output Shape         Param #     Connected to                     \n",
      "==================================================================================================\n",
      "input (InputLayer)              [(None, None, 4)]    0                                            \n",
      "__________________________________________________________________________________________________\n",
      "tdist_0 (TimeDistributed)       (None, None, 100)    500         input[0][0]                      \n",
      "__________________________________________________________________________________________________\n",
      "activation_7 (Activation)       (None, None, 100)    0           tdist_0[0][0]                    \n",
      "__________________________________________________________________________________________________\n",
      "tdist_1 (TimeDistributed)       (None, None, 100)    10100       activation_7[0][0]               \n",
      "__________________________________________________________________________________________________\n",
      "activation_8 (Activation)       (None, None, 100)    0           tdist_1[0][0]                    \n",
      "__________________________________________________________________________________________________\n",
      "tdist_2 (TimeDistributed)       (None, None, 128)    12928       activation_8[0][0]               \n",
      "__________________________________________________________________________________________________\n",
      "mask (Lambda)                   (None, None)         0           input[0][0]                      \n",
      "__________________________________________________________________________________________________\n",
      "activation_9 (Activation)       (None, None, 128)    0           tdist_2[0][0]                    \n",
      "__________________________________________________________________________________________________\n",
      "sum (Dot)                       (None, 128)          0           mask[0][0]                       \n",
      "                                                                 activation_9[0][0]               \n",
      "__________________________________________________________________________________________________\n",
      "dense_0 (Dense)                 (None, 100)          12900       sum[0][0]                        \n",
      "__________________________________________________________________________________________________\n",
      "activation_10 (Activation)      (None, 100)          0           dense_0[0][0]                    \n",
      "__________________________________________________________________________________________________\n",
      "dense_1 (Dense)                 (None, 100)          10100       activation_10[0][0]              \n",
      "__________________________________________________________________________________________________\n",
      "activation_11 (Activation)      (None, 100)          0           dense_1[0][0]                    \n",
      "__________________________________________________________________________________________________\n",
      "dense_2 (Dense)                 (None, 100)          10100       activation_11[0][0]              \n",
      "__________________________________________________________________________________________________\n",
      "activation_12 (Activation)      (None, 100)          0           dense_2[0][0]                    \n",
      "__________________________________________________________________________________________________\n",
      "output (Dense)                  (None, 2)            202         activation_12[0][0]              \n",
      "__________________________________________________________________________________________________\n",
      "activation_13 (Activation)      (None, 2)            0           output[0][0]                     \n",
      "==================================================================================================\n",
      "Total params: 56,830\n",
      "Trainable params: 56,830\n",
      "Non-trainable params: 0\n",
      "__________________________________________________________________________________________________\n",
      "Epoch 1/50\n",
      "150/150 [==============================] - 2s 9ms/step - loss: 0.9940 - acc: 0.6619 - val_loss: 0.4737 - val_acc: 0.7805\n",
      "Epoch 2/50\n",
      "150/150 [==============================] - 1s 7ms/step - loss: 0.4722 - acc: 0.7823 - val_loss: 0.4563 - val_acc: 0.7922\n",
      "Epoch 3/50\n",
      "150/150 [==============================] - 1s 7ms/step - loss: 0.4656 - acc: 0.7851 - val_loss: 0.4570 - val_acc: 0.7905\n",
      "Epoch 4/50\n",
      "150/150 [==============================] - 1s 7ms/step - loss: 0.4557 - acc: 0.7920 - val_loss: 0.4628 - val_acc: 0.7907\n",
      "Epoch 5/50\n",
      "150/150 [==============================] - 1s 7ms/step - loss: 0.4543 - acc: 0.7908 - val_loss: 0.4494 - val_acc: 0.7915\n",
      "Epoch 6/50\n",
      "150/150 [==============================] - 1s 7ms/step - loss: 0.4519 - acc: 0.7929 - val_loss: 0.4686 - val_acc: 0.7873\n",
      "Epoch 7/50\n",
      "150/150 [==============================] - 1s 7ms/step - loss: 0.4548 - acc: 0.7935 - val_loss: 0.4661 - val_acc: 0.7853\n",
      "Epoch 8/50\n",
      "150/150 [==============================] - 1s 7ms/step - loss: 0.4528 - acc: 0.7933 - val_loss: 0.4550 - val_acc: 0.7896\n",
      "Epoch 9/50\n",
      "150/150 [==============================] - 1s 8ms/step - loss: 0.4422 - acc: 0.8004 - val_loss: 0.4544 - val_acc: 0.7922\n",
      "Epoch 10/50\n",
      "150/150 [==============================] - 1s 7ms/step - loss: 0.4487 - acc: 0.7957 - val_loss: 0.4409 - val_acc: 0.7966\n",
      "Epoch 11/50\n",
      "150/150 [==============================] - 1s 6ms/step - loss: 0.4434 - acc: 0.7995 - val_loss: 0.4426 - val_acc: 0.7971\n",
      "Epoch 12/50\n",
      "150/150 [==============================] - 1s 6ms/step - loss: 0.4444 - acc: 0.7986 - val_loss: 0.4374 - val_acc: 0.7986\n",
      "Epoch 13/50\n",
      "150/150 [==============================] - 1s 7ms/step - loss: 0.4431 - acc: 0.8008 - val_loss: 0.4403 - val_acc: 0.7967\n",
      "Epoch 14/50\n",
      "150/150 [==============================] - 1s 7ms/step - loss: 0.4446 - acc: 0.7977 - val_loss: 0.4473 - val_acc: 0.7956\n",
      "Epoch 15/50\n",
      "150/150 [==============================] - 1s 7ms/step - loss: 0.4437 - acc: 0.7983 - val_loss: 0.4362 - val_acc: 0.7995\n",
      "Epoch 16/50\n",
      "150/150 [==============================] - 1s 7ms/step - loss: 0.4410 - acc: 0.7994 - val_loss: 0.4343 - val_acc: 0.8015\n",
      "Epoch 17/50\n",
      "150/150 [==============================] - 1s 7ms/step - loss: 0.4359 - acc: 0.8038 - val_loss: 0.4334 - val_acc: 0.8028\n",
      "Epoch 18/50\n",
      "150/150 [==============================] - 1s 7ms/step - loss: 0.4342 - acc: 0.8045 - val_loss: 0.4338 - val_acc: 0.8006\n",
      "Epoch 19/50\n",
      "150/150 [==============================] - 1s 7ms/step - loss: 0.4324 - acc: 0.8062 - val_loss: 0.4304 - val_acc: 0.8020\n",
      "Epoch 20/50\n",
      "150/150 [==============================] - 1s 7ms/step - loss: 0.4323 - acc: 0.8058 - val_loss: 0.4319 - val_acc: 0.8035\n",
      "Epoch 21/50\n",
      "150/150 [==============================] - 1s 7ms/step - loss: 0.4289 - acc: 0.8070 - val_loss: 0.4301 - val_acc: 0.8041\n",
      "Epoch 22/50\n",
      "150/150 [==============================] - 1s 7ms/step - loss: 0.4296 - acc: 0.8073 - val_loss: 0.4368 - val_acc: 0.8014\n",
      "Epoch 23/50\n",
      "150/150 [==============================] - 1s 7ms/step - loss: 0.4262 - acc: 0.8096 - val_loss: 0.4340 - val_acc: 0.7999\n",
      "Epoch 24/50\n",
      "150/150 [==============================] - 1s 7ms/step - loss: 0.4254 - acc: 0.8095 - val_loss: 0.4336 - val_acc: 0.7987\n",
      "Epoch 25/50\n",
      "150/150 [==============================] - 1s 7ms/step - loss: 0.4297 - acc: 0.8070 - val_loss: 0.4269 - val_acc: 0.8074\n",
      "Epoch 26/50\n",
      "150/150 [==============================] - 1s 7ms/step - loss: 0.4214 - acc: 0.8114 - val_loss: 0.4268 - val_acc: 0.8077\n",
      "Epoch 27/50\n",
      "150/150 [==============================] - 1s 7ms/step - loss: 0.4270 - acc: 0.8095 - val_loss: 0.4282 - val_acc: 0.8060\n",
      "Epoch 28/50\n",
      "150/150 [==============================] - 1s 7ms/step - loss: 0.4253 - acc: 0.8118 - val_loss: 0.4294 - val_acc: 0.8057\n",
      "Epoch 29/50\n",
      "150/150 [==============================] - 1s 7ms/step - loss: 0.4215 - acc: 0.8133 - val_loss: 0.4274 - val_acc: 0.8076\n",
      "Epoch 30/50\n",
      "150/150 [==============================] - 1s 7ms/step - loss: 0.4247 - acc: 0.8102 - val_loss: 0.4304 - val_acc: 0.8055\n",
      "Epoch 31/50\n",
      "150/150 [==============================] - 1s 7ms/step - loss: 0.4230 - acc: 0.8113 - val_loss: 0.4309 - val_acc: 0.8024\n",
      "Epoch 32/50\n",
      "150/150 [==============================] - 1s 7ms/step - loss: 0.4196 - acc: 0.8142 - val_loss: 0.4312 - val_acc: 0.8053\n",
      "Epoch 33/50\n",
      "150/150 [==============================] - 1s 7ms/step - loss: 0.4211 - acc: 0.8112 - val_loss: 0.4271 - val_acc: 0.8100\n",
      "Epoch 34/50\n",
      "150/150 [==============================] - 1s 7ms/step - loss: 0.4188 - acc: 0.8146 - val_loss: 0.4263 - val_acc: 0.8078\n",
      "Epoch 35/50\n",
      "150/150 [==============================] - 1s 7ms/step - loss: 0.4186 - acc: 0.8147 - val_loss: 0.4239 - val_acc: 0.8101\n",
      "Epoch 36/50\n",
      "150/150 [==============================] - 1s 7ms/step - loss: 0.4161 - acc: 0.8145 - val_loss: 0.4258 - val_acc: 0.8069\n",
      "Epoch 37/50\n",
      "150/150 [==============================] - 1s 7ms/step - loss: 0.4167 - acc: 0.8152 - val_loss: 0.4251 - val_acc: 0.8111\n",
      "Epoch 38/50\n",
      "150/150 [==============================] - 1s 7ms/step - loss: 0.4115 - acc: 0.8187 - val_loss: 0.4228 - val_acc: 0.8095\n",
      "Epoch 39/50\n",
      "150/150 [==============================] - 1s 7ms/step - loss: 0.4107 - acc: 0.8169 - val_loss: 0.4259 - val_acc: 0.8077\n",
      "Epoch 40/50\n",
      "150/150 [==============================] - 1s 7ms/step - loss: 0.4181 - acc: 0.8154 - val_loss: 0.4348 - val_acc: 0.8059\n",
      "Epoch 41/50\n",
      "150/150 [==============================] - 1s 7ms/step - loss: 0.4076 - acc: 0.8199 - val_loss: 0.4233 - val_acc: 0.8117\n",
      "Epoch 42/50\n",
      "150/150 [==============================] - 1s 7ms/step - loss: 0.4183 - acc: 0.8147 - val_loss: 0.4230 - val_acc: 0.8104\n",
      "Epoch 43/50\n",
      "150/150 [==============================] - 1s 7ms/step - loss: 0.4151 - acc: 0.8148 - val_loss: 0.4338 - val_acc: 0.8065\n",
      "Epoch 44/50\n",
      "150/150 [==============================] - 1s 7ms/step - loss: 0.4137 - acc: 0.8187 - val_loss: 0.4411 - val_acc: 0.8040\n",
      "Epoch 45/50\n",
      "150/150 [==============================] - 1s 7ms/step - loss: 0.4109 - acc: 0.8210 - val_loss: 0.4242 - val_acc: 0.8124\n",
      "Epoch 46/50\n",
      "150/150 [==============================] - 1s 7ms/step - loss: 0.4107 - acc: 0.8190 - val_loss: 0.4282 - val_acc: 0.8139\n",
      "Epoch 47/50\n",
      "150/150 [==============================] - 1s 7ms/step - loss: 0.4114 - acc: 0.8188 - val_loss: 0.4259 - val_acc: 0.8114\n",
      "Epoch 48/50\n",
      "150/150 [==============================] - 1s 7ms/step - loss: 0.4090 - acc: 0.8196 - val_loss: 0.4324 - val_acc: 0.8084\n",
      "Epoch 49/50\n",
      "150/150 [==============================] - 1s 7ms/step - loss: 0.4095 - acc: 0.8184 - val_loss: 0.4232 - val_acc: 0.8097\n",
      "Epoch 50/50\n",
      "150/150 [==============================] - 1s 7ms/step - loss: 0.4043 - acc: 0.8219 - val_loss: 0.4268 - val_acc: 0.8128\n"
     ]
    }
   ],
   "source": [
    "# do train/val/test split \n",
    "(X_train, X_val, X_test, Y_train, Y_val, Y_test) = data_split(X, Y, val=val, test=test)\n",
    "\n",
    "print('Done train/val/test split')\n",
    "print('Model summary:')\n",
    "\n",
    "# build architecture\n",
    "pfn = PFN(input_dim=X.shape[-1], Phi_sizes=Phi_sizes, F_sizes=F_sizes)\n",
    "\n",
    "# train model\n",
    "pfn.fit(X_train, Y_train,\n",
    "        epochs=num_epoch,\n",
    "        batch_size=batch_size,\n",
    "        validation_data=(X_val, Y_val),\n",
    "        verbose=1)\n",
    "\n",
    "# get predictions on test data\n",
    "preds = pfn.predict(X_test, batch_size=1000)\n",
    "\n",
    "# get ROC curve\n",
    "pfn_fp, pfn_tp, threshs = roc_curve(Y_test[:,1], preds[:,1])"
   ]
  },
  {
   "cell_type": "code",
   "execution_count": 18,
   "id": "6138a334-efab-4d47-afc0-64d76da37a48",
   "metadata": {},
   "outputs": [
    {
     "name": "stdout",
     "output_type": "stream",
     "text": [
      "\n",
      "PFN AUC: 0.8869441009769901\n",
      "\n"
     ]
    }
   ],
   "source": [
    "# get area under the ROC curve\n",
    "auc = roc_auc_score(Y_test[:,1], preds[:,1])\n",
    "print()\n",
    "print('PFN AUC:', auc)\n",
    "print()\n",
    "\n",
    "# get multiplicity and mass for comparison\n",
    "masses = np.asarray([ef.ms_from_p4s(ef.p4s_from_ptyphims(x).sum(axis=0)) for x in X])\n",
    "mults = np.asarray([np.count_nonzero(x[:,0]) for x in X])\n",
    "mass_fp, mass_tp, threshs = roc_curve(Y[:,1], -masses)\n",
    "mult_fp, mult_tp, threshs = roc_curve(Y[:,1], -mults)"
   ]
  },
  {
   "cell_type": "code",
   "execution_count": 19,
   "id": "a131878b-7fde-4baf-b67b-4312ccb5a038",
   "metadata": {},
   "outputs": [
    {
     "data": {
      "image/png": "[encoded data removed]",
      "text/plain": [
       "<Figure size 504x504 with 1 Axes>"
      ]
     },
     "metadata": {
      "needs_background": "light"
     },
     "output_type": "display_data"
    }
   ],
   "source": [
    "# some nicer plot settings \n",
    "plt.rcParams['figure.figsize'] = (7,7)\n",
    "plt.rcParams['font.family'] = 'serif'\n",
    "plt.rcParams['figure.autolayout'] = True\n",
    "\n",
    "# plot the ROC curves\n",
    "plt.plot(pfn_tp, 1-pfn_fp, '-', color='xkcd:medium brown', label='PFN', linewidth=3)\n",
    "plt.plot(mass_tp, 1-mass_fp, '-', color='xkcd:mango', label='Jet Mass', linewidth=3)\n",
    "plt.plot(mult_tp, 1-mult_fp, '-', color='xkcd:dirty orange', label='Multiplicity', linewidth=3)\n",
    "\n",
    "# axes labels\n",
    "plt.xlabel('Quark Jet Efficiency')\n",
    "plt.ylabel('Gluon Jet Rejection')\n",
    "\n",
    "# axes limits\n",
    "plt.xlim(0, 1)\n",
    "plt.ylim(0, 1)\n",
    "\n",
    "# make legend and show plot\n",
    "plt.legend(loc='lower left', frameon=False)\n",
    "plt.show()"
   ]
  },
  {
   "cell_type": "code",
   "execution_count": null,
   "id": "7b21aa99-f8e3-4ce3-a6ff-f6ad6a01fb73",
   "metadata": {},
   "outputs": [],
   "source": []
  }
 ],
 "metadata": {
  "kernelspec": {
   "display_name": "Python 3",
   "language": "python",
   "name": "python3"
  },
  "language_info": {
   "codemirror_mode": {
    "name": "ipython",
    "version": 3
   },
   "file_extension": ".py",
   "mimetype": "text/x-python",
   "name": "python",
   "nbconvert_exporter": "python",
   "pygments_lexer": "ipython3",
   "version": "3.8.5"
  }
 },
 "nbformat": 4,
 "nbformat_minor": 5
}
