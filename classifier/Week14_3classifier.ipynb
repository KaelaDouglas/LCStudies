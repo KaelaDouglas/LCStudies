{
 "cells": [
  {
   "cell_type": "markdown",
   "id": "bbe5451d-5598-4f8b-b299-f04dc74cf8a9",
   "metadata": {},
   "source": [
    "To ~start the process~ of making a classifier that distinguishes not only between pi0 and pipm, but also has a third class for heavily overlapping clusters. Steps:\n",
    "1. get overlapping sample from rho data; load up the rho data and select only cases where the closest cluster to the pi0 is also the closest cluster to the pipm!! i.e. it will be one cluster only\n",
    "2. do the data processing, concatenate the pi0, pipm, and overlapping rho data together (same amt of each!) & prep it for training the NN\n",
    "3. set up and train the NN!\n",
    "4. figure out a good way of visualizing the results"
   ]
  },
  {
   "cell_type": "code",
   "execution_count": 1,
   "id": "3ab695bb-f914-408b-94d4-420351d301fc",
   "metadata": {},
   "outputs": [
    {
     "name": "stderr",
     "output_type": "stream",
     "text": [
      "2021-08-09 07:00:21.272491: I tensorflow/stream_executor/platform/default/dso_loader.cc:49] Successfully opened dynamic library libcudart.so.11.0\n",
      "2021-08-09 07:00:33.098597: I tensorflow/compiler/jit/xla_cpu_device.cc:41] Not creating XLA devices, tf_xla_enable_xla_devices not set\n",
      "2021-08-09 07:00:33.111825: I tensorflow/stream_executor/platform/default/dso_loader.cc:49] Successfully opened dynamic library libcuda.so.1\n",
      "2021-08-09 07:00:33.212637: I tensorflow/core/common_runtime/gpu/gpu_device.cc:1746] Found device 0 with properties: \n",
      "pciBusID: 0000:3d:00.0 name: GeForce RTX 2080 Ti computeCapability: 7.5\n",
      "coreClock: 1.545GHz coreCount: 68 deviceMemorySize: 10.76GiB deviceMemoryBandwidth: 573.69GiB/s\n",
      "2021-08-09 07:00:33.212676: I tensorflow/stream_executor/platform/default/dso_loader.cc:49] Successfully opened dynamic library libcudart.so.11.0\n",
      "2021-08-09 07:00:33.230681: I tensorflow/stream_executor/platform/default/dso_loader.cc:49] Successfully opened dynamic library libcublas.so.11\n",
      "2021-08-09 07:00:33.230760: I tensorflow/stream_executor/platform/default/dso_loader.cc:49] Successfully opened dynamic library libcublasLt.so.11\n",
      "2021-08-09 07:00:33.234238: I tensorflow/stream_executor/platform/default/dso_loader.cc:49] Successfully opened dynamic library libcufft.so.10\n",
      "2021-08-09 07:00:33.241586: I tensorflow/stream_executor/platform/default/dso_loader.cc:49] Successfully opened dynamic library libcurand.so.10\n",
      "2021-08-09 07:00:33.244274: I tensorflow/stream_executor/platform/default/dso_loader.cc:49] Successfully opened dynamic library libcusolver.so.11\n",
      "2021-08-09 07:00:33.246915: I tensorflow/stream_executor/platform/default/dso_loader.cc:49] Successfully opened dynamic library libcusparse.so.11\n",
      "2021-08-09 07:00:33.249276: I tensorflow/stream_executor/platform/default/dso_loader.cc:49] Successfully opened dynamic library libcudnn.so.8\n",
      "2021-08-09 07:00:33.252532: I tensorflow/core/common_runtime/gpu/gpu_device.cc:1888] Adding visible gpu devices: 0\n",
      "2021-08-09 07:00:33.260943: I tensorflow/compiler/jit/xla_gpu_device.cc:99] Not creating XLA devices, tf_xla_enable_xla_devices not set\n",
      "2021-08-09 07:00:33.263014: I tensorflow/core/common_runtime/gpu/gpu_device.cc:1746] Found device 0 with properties: \n",
      "pciBusID: 0000:3d:00.0 name: GeForce RTX 2080 Ti computeCapability: 7.5\n",
      "coreClock: 1.545GHz coreCount: 68 deviceMemorySize: 10.76GiB deviceMemoryBandwidth: 573.69GiB/s\n",
      "2021-08-09 07:00:33.263057: I tensorflow/stream_executor/platform/default/dso_loader.cc:49] Successfully opened dynamic library libcudart.so.11.0\n",
      "2021-08-09 07:00:33.263095: I tensorflow/stream_executor/platform/default/dso_loader.cc:49] Successfully opened dynamic library libcublas.so.11\n",
      "2021-08-09 07:00:33.263123: I tensorflow/stream_executor/platform/default/dso_loader.cc:49] Successfully opened dynamic library libcublasLt.so.11\n",
      "2021-08-09 07:00:33.263150: I tensorflow/stream_executor/platform/default/dso_loader.cc:49] Successfully opened dynamic library libcufft.so.10\n",
      "2021-08-09 07:00:33.263176: I tensorflow/stream_executor/platform/default/dso_loader.cc:49] Successfully opened dynamic library libcurand.so.10\n",
      "2021-08-09 07:00:33.263203: I tensorflow/stream_executor/platform/default/dso_loader.cc:49] Successfully opened dynamic library libcusolver.so.11\n",
      "2021-08-09 07:00:33.263229: I tensorflow/stream_executor/platform/default/dso_loader.cc:49] Successfully opened dynamic library libcusparse.so.11\n",
      "2021-08-09 07:00:33.263256: I tensorflow/stream_executor/platform/default/dso_loader.cc:49] Successfully opened dynamic library libcudnn.so.8\n",
      "2021-08-09 07:00:33.267016: I tensorflow/core/common_runtime/gpu/gpu_device.cc:1888] Adding visible gpu devices: 0\n",
      "2021-08-09 07:00:33.267071: I tensorflow/stream_executor/platform/default/dso_loader.cc:49] Successfully opened dynamic library libcudart.so.11.0\n",
      "2021-08-09 07:00:39.899333: I tensorflow/core/common_runtime/gpu/gpu_device.cc:1287] Device interconnect StreamExecutor with strength 1 edge matrix:\n",
      "2021-08-09 07:00:39.899407: I tensorflow/core/common_runtime/gpu/gpu_device.cc:1293]      0 \n",
      "2021-08-09 07:00:39.899419: I tensorflow/core/common_runtime/gpu/gpu_device.cc:1306] 0:   N \n",
      "2021-08-09 07:00:39.904077: W tensorflow/core/common_runtime/gpu/gpu_bfc_allocator.cc:39] Overriding allow_growth setting because the TF_FORCE_GPU_ALLOW_GROWTH environment variable is set. Original config value was 0.\n",
      "2021-08-09 07:00:39.904123: I tensorflow/core/common_runtime/gpu/gpu_device.cc:1432] Created TensorFlow device (/job:localhost/replica:0/task:0/device:GPU:0 with 7943 MB memory) -> physical GPU (device: 0, name: GeForce RTX 2080 Ti, pci bus id: 0000:3d:00.0, compute capability: 7.5)\n"
     ]
    }
   ],
   "source": [
    "#imports\n",
    "import uproot as ur\n",
    "import awkward as ak\n",
    "import numpy as np\n",
    "\n",
    "import os\n",
    "os.environ['CUDA_VISIBLE_DEVICES'] = \"6\" #specify GPU\n",
    "os.environ['TF_FORCE_GPU_ALLOW_GROWTH'] = 'true'\n",
    "\n",
    "import tensorflow as tf\n",
    "\n",
    "# energyflow imports\n",
    "import energyflow as ef\n",
    "from energyflow.archs import PFN\n",
    "from energyflow.utils import data_split\n",
    "\n",
    "from sklearn.metrics import roc_auc_score, roc_curve\n",
    "import matplotlib.pyplot as plt\n",
    "\n",
    "import graph_util_splitdelta as gu\n",
    "import plot_util as pu\n",
    "\n",
    "from scipy.interpolate import interp1d\n",
    "\n",
    "import Week7_PFNutils as W\n",
    "\n",
    "import atlas_mpl_style as ampl #makes matplotlib follow atlas formal style\n",
    "ampl.use_atlas_style()"
   ]
  },
  {
   "cell_type": "code",
   "execution_count": 2,
   "id": "9199539b-2ea7-4e27-be23-b8456cd5cac2",
   "metadata": {},
   "outputs": [],
   "source": [
    "import vector as v\n",
    "\n",
    "v.register_awkward()"
   ]
  },
  {
   "cell_type": "code",
   "execution_count": 3,
   "id": "40046a57-5d93-43d1-b9f6-259dc81e21d5",
   "metadata": {},
   "outputs": [],
   "source": [
    "model_path = '/fast_scratch/atlas_images/v01-45/' \n",
    "data_path = '/data/atlas/'"
   ]
  },
  {
   "cell_type": "code",
   "execution_count": 4,
   "id": "2db25213-d6f8-42a2-bb95-c31ee8e3a335",
   "metadata": {},
   "outputs": [],
   "source": [
    "events = ur.open(model_path+'rho_medium.root')\n",
    "\n",
    "tree = events['EventTree']"
   ]
  },
  {
   "cell_type": "code",
   "execution_count": 5,
   "id": "98c935f8-8f2c-4dba-86a7-a6b84a12344e",
   "metadata": {},
   "outputs": [],
   "source": [
    "branches = tree.arrays()"
   ]
  },
  {
   "cell_type": "code",
   "execution_count": 44,
   "id": "895d35ce-f98f-4104-b16d-99859e9f9657",
   "metadata": {},
   "outputs": [],
   "source": [
    "# I think I just wanna run through this manually so I know what I'm doing before I try running it straight out of \n",
    "#the scripts\n",
    "\n",
    "def find_closest_rho(truthID_sel, trutheta_sel, truthphi_sel, truthpt_sel, truthmass_sel, clusE_sel, clusEta_sel, clusPhi_sel, clusPt_sel, clusmass_sel, SAME = False): #POI stands for particle of interest\n",
    "    \n",
    "    print('Finding cluster closest to particle', POI)\n",
    "    #loop thru\n",
    "    mindist_indices = []\n",
    "    selec_inds = []\n",
    "    for i in range(len(trutheta_sel)): \n",
    "        \n",
    "        #select the poi:\n",
    "        n_mask = truthID_sel[i] == 111\n",
    "        #and the other particle:\n",
    "        o_mask = np.logical_or(truthID_sel[i] == 211, truthID_sel[i] == -211)\n",
    "\n",
    "        print(o_mask)\n",
    "        #then get deltaR for poi\n",
    "        partvec = ak.zip({\n",
    "            \"pt\": truthpt_sel[i][n_mask],\n",
    "            \"eta\": trutheta_sel[i][n_mask],\n",
    "            \"phi\": truthphi_sel[i][n_mask],\n",
    "            \"mass\": truthmass_sel[i][n_mask],\n",
    "        })\n",
    "\n",
    "        part4Dvec = ak.with_name(partvec, \"Momentum4D\")\n",
    "        \n",
    "        #and the other particle:\n",
    "        partvec2 = ak.zip({\n",
    "            \"pt\": truthpt_sel[i][o_mask],\n",
    "            \"eta\": trutheta_sel[i][o_mask],\n",
    "            \"phi\": truthphi_sel[i][o_mask],\n",
    "            \"mass\": truthmass_sel[i][o_mask],\n",
    "        })\n",
    "\n",
    "        part4Dvec2 = ak.with_name(partvec2, \"Momentum4D\") \n",
    "        \n",
    "        #and for the cluster\n",
    "        deltaR = []\n",
    "        deltaR2 = []\n",
    "        for j in range(len(clusEta_sel[i])):\n",
    "            clusvec = ak.zip({\n",
    "                \"pt\": clusPt_sel[i][j],\n",
    "                \"eta\": clusEta_sel[i][j],\n",
    "                \"phi\": clusPhi_sel[i][j],\n",
    "                \"mass\": clusmass_sel[i][j]})\n",
    "            clus4Dvec = ak.with_name(clusvec, \"Momentum4D\")\n",
    "\n",
    "            deltaR.append(part4Dvec.deltaR(clus4Dvec))\n",
    "            deltaR2.append(part4Dvec2.deltaR(clus4Dvec))\n",
    "            if deltaR == []:\n",
    "                print('exception: empty deltaR') \n",
    "                print(part4Dvec, clus4Dvec, part4Dvec.deltaR(clus4Dvec), deltaR, i, j)\n",
    "                \n",
    "            ind = np.argmin(np.array(ak.flatten(deltaR)))\n",
    "            ind2 = np.argmin(np.array(ak.flatten(deltaR2)))\n",
    "            \n",
    "        if (ind == ind2) == SAME: #only change lol; so if they are equal and you want to exclude those, then leave same as false, but if you do want the cluster to be the same just set same to true \n",
    "            selec_inds.append(i)\n",
    "            mindist_indices.append(ind)\n",
    "    \n",
    "    print(len(mindist_indices))\n",
    "    print('selec inds', len(selec_inds))\n",
    "    #probably janky but use only the ones that were in mindist\n",
    "    truthID_sel_cco = []\n",
    "    trutheta_sel_cco = [] #also removes all the events/truth particles in the events with no clusters\n",
    "    truthphi_sel_cco = []\n",
    "    truthpt_sel_cco = []\n",
    "    truthmass_sel_cco = []\n",
    "    clusE_sel_cco = []\n",
    "    clusEta_sel_cco =[]\n",
    "    clusPhi_sel_cco = []\n",
    "    clusPt_sel_cco = []\n",
    "    clusmass_sel_cco = []\n",
    "    mindist_inds_cco = []\n",
    "    for i in selec_inds: \n",
    "        truthID_sel_cco.append(truthID_sel[i])\n",
    "        trutheta_sel_cco.append(trutheta_sel[i])\n",
    "        truthphi_sel_cco.append(truthphi_sel[i])\n",
    "        truthpt_sel_cco.append(truthpt_sel[i])\n",
    "        truthmass_sel_cco.append(truthmass_sel[i])\n",
    "        clusE_sel_cco.append(clusE_sel[i])\n",
    "        clusEta_sel_cco.append(clusEta_sel[i])\n",
    "        clusPhi_sel_cco.append(clusPhi_sel[i])\n",
    "        clusPt_sel_cco.append(clusPt_sel[i])\n",
    "        clusmass_sel_cco.append(clusmass_sel[i])\n",
    "        #mindist_inds_cco.append(mindist_indices[i])\n",
    "    \n",
    "    #remove the empty ones\n",
    "    mindist_indices_full = []\n",
    "    truthID_sel_full = []\n",
    "    trutheta_sel_full = [] #also removes all the events/truth particles in the events with no clusters\n",
    "    truthphi_sel_full = []\n",
    "    truthpt_sel_full = []\n",
    "    truthmass_sel_full = []\n",
    "    clusE_sel_full = []\n",
    "    clusEta_sel_full =[]\n",
    "    clusPhi_sel_full = []\n",
    "    clusPt_sel_full = []\n",
    "    clusmass_sel_full = []\n",
    "    \n",
    "    full_inds = []\n",
    "    for i in range(len(clusEta_sel_cco)): \n",
    "        if len(clusEta_sel_cco[i]) != 0: \n",
    "            mindist_indices_full.append(mindist_indices[i])\n",
    "            truthID_sel_full.append(truthID_sel_cco[i])\n",
    "            trutheta_sel_full.append(trutheta_sel_cco[i])\n",
    "            truthphi_sel_full.append(truthphi_sel_cco[i])\n",
    "            truthpt_sel_full.append(truthpt_sel_cco[i])\n",
    "            truthmass_sel_full.append(truthmass_sel_cco[i])\n",
    "            clusE_sel_full.append(clusE_sel_cco[i])\n",
    "            clusEta_sel_full.append(clusEta_sel_cco[i])\n",
    "            clusPhi_sel_full.append(clusPhi_sel_cco[i])\n",
    "            clusPt_sel_full.append(clusPt_sel_cco[i])\n",
    "            clusmass_sel_full.append(clusmass_sel_cco[i])\n",
    "            full_inds.append(selec_inds[i])\n",
    "      \n",
    "   # print(len(mindist_indices_full), mindist_indices_full)\n",
    "    clusEta_closest = []\n",
    "    clusE_closest = [] #select only the closest clusters\n",
    "    clusPhi_closest = []\n",
    "    clusPt_closest = []\n",
    "    clusmass_closest = []\n",
    "    for i in range(len(clusEta_sel_full)):\n",
    "        clusEta_closest.append(clusEta_sel_full[i][mindist_indices_full[i]])\n",
    "        clusE_closest.append(clusE_sel_full[i][mindist_indices_full[i]])\n",
    "        clusPhi_closest.append(clusPhi_sel_full[i][mindist_indices_full[i]])\n",
    "        clusPt_closest.append(clusPt_sel_full[i][mindist_indices_full[i]])\n",
    "        clusmass_closest.append(clusmass_sel_full[i][mindist_indices_full[i]])\n",
    "       \n",
    "    print('Closest clusters found.')\n",
    "    return (truthID_sel_full, trutheta_sel_full, truthphi_sel_full, truthpt_sel_full, truthmass_sel_full, ak.Array(clusE_closest), ak.Array(clusEta_closest), ak.Array(clusPhi_closest), ak.Array(clusPt_closest), ak.Array(clusmass_closest), full_inds, mindist_indices_full)\n"
   ]
  },
  {
   "cell_type": "code",
   "execution_count": 6,
   "id": "659ec84e-6892-42bc-badb-fb69655011de",
   "metadata": {},
   "outputs": [],
   "source": [
    "truthE = branches.cluster_hitsTruthE\n",
    "truthEIndex = branches.cluster_hitsTruthIndex\n",
    "truthID = branches.truthPartPdgId\n",
    "trutheta = branches.truthPartEta\n",
    "truthphi = branches.truthPartPhi\n",
    "truthpt = branches.truthPartPt\n",
    "truthmass = branches.truthPartMass\n",
    "clusE = branches.cluster_E\n",
    "clusEta = branches.cluster_Eta\n",
    "clusPhi = branches.cluster_Phi\n",
    "clusPt = branches.cluster_Pt\n",
    "clusmass = []\n",
    "for i in range(len(clusE)): #define cluster mass to be zero :)\n",
    "    clusmass.append(np.zeros(len(clusE[i])))"
   ]
  },
  {
   "cell_type": "code",
   "execution_count": 12,
   "id": "10876400-8ff8-4b03-ae68-3f40d2249c34",
   "metadata": {},
   "outputs": [],
   "source": [
    "ID_aspd = ak.to_pandas(ak.flatten(truthID))"
   ]
  },
  {
   "cell_type": "code",
   "execution_count": 19,
   "id": "2f81c0f7-dfcb-40b2-aa87-c4459d63cbc7",
   "metadata": {},
   "outputs": [
    {
     "data": {
      "text/plain": [
       "Text(2.2, 400000, ' 211 = $\\\\pi^+$ \\n -211 = $\\\\pi^-$ \\n 22 = $\\\\gamma$ \\n 111 = $\\\\pi^0$ \\n 213 = $\\\\rho^+$ \\n -213 = $\\\\rho^-$ \\n 11 = $e^-$ \\n -11 = $e^+$')"
      ]
     },
     "execution_count": 19,
     "metadata": {},
     "output_type": "execute_result"
    },
    {
     "data": {
      "image/png": "[encoded data removed]",
      "text/plain": [
       "<Figure size 504x504 with 1 Axes>"
      ]
     },
     "metadata": {},
     "output_type": "display_data"
    }
   ],
   "source": [
    "#examine first what the rhos are made up of\n",
    "plt.figure(figsize=[7,7])\n",
    "ID_aspd.value_counts().plot(kind='bar', color='xkcd:ugly yellow')\n",
    "plt.text(2.2,400000, ' 211 = $\\pi^+$ \\n -211 = $\\pi^-$ \\n 22 = $\\gamma$ \\n 111 = $\\pi^0$ \\n 213 = $\\\\rho^+$ \\n -213 = $\\\\rho^-$ \\n 11 = $e^-$ \\n -11 = $e^+$')"
   ]
  },
  {
   "cell_type": "code",
   "execution_count": 7,
   "id": "64f4e74a-ce67-412f-b30d-a0ae1a441ac7",
   "metadata": {},
   "outputs": [],
   "source": [
    "# I think easest way to do this is to just have a separate mask for each case - pi- and pi+?\n",
    "def makemask(truthID, POI):#, partID2):\n",
    "    #have to specify 4 particles: the delta of interest, what to avoid, the particle of interest that will later\n",
    "    #be used, and then the other one \n",
    "    \n",
    "    selectedinds = []    \n",
    "\n",
    "    for i in range(len(truthID)): #basically: delta+, two categories: pip & n (without any ps) vs pi0 & p (no ns)\n",
    "        if (POI in truthID[i]):# | (partID2 in truthID[i]):\n",
    "            selectedinds.append(i)\n",
    "\n",
    "    flag = np.zeros(len(truthID))\n",
    "    flag[selectedinds] = 2\n",
    "    \n",
    "    mask = flag == 2\n",
    "    \n",
    "    return mask"
   ]
  },
  {
   "cell_type": "code",
   "execution_count": 8,
   "id": "b34c6f43-1a21-477d-93da-9738a16981d5",
   "metadata": {},
   "outputs": [],
   "source": [
    "mask211 = makemask(truthID, 211)\n",
    "maskn211 = makemask(truthID, -211)"
   ]
  },
  {
   "cell_type": "code",
   "execution_count": 45,
   "id": "48bef46a-56bc-4d8d-bd2c-c404c7b83458",
   "metadata": {
    "scrolled": true,
    "tags": []
   },
   "outputs": [
    {
     "name": "stdout",
     "output_type": "stream",
     "text": [
      "Finding cluster closest to particle 111\n",
      "[False, False, False, False, False]\n"
     ]
    },
    {
     "ename": "ValueError",
     "evalue": "attempt to get argmin of an empty sequence",
     "output_type": "error",
     "traceback": [
      "\u001b[0;31m---------------------------------------------------------------------------\u001b[0m",
      "\u001b[0;31mValueError\u001b[0m                                Traceback (most recent call last)",
      "\u001b[0;32m/tmp/ipykernel_15109/2926248701.py\u001b[0m in \u001b[0;36m<module>\u001b[0;34m\u001b[0m\n\u001b[0;32m----> 1\u001b[0;31m \u001b[0mfind_closest2\u001b[0m\u001b[0;34m(\u001b[0m\u001b[0mtruthID\u001b[0m\u001b[0;34m[\u001b[0m\u001b[0;34m:\u001b[0m\u001b[0;36m1000\u001b[0m\u001b[0;34m]\u001b[0m\u001b[0;34m,\u001b[0m \u001b[0mtrutheta\u001b[0m\u001b[0;34m[\u001b[0m\u001b[0;34m:\u001b[0m\u001b[0;36m1000\u001b[0m\u001b[0;34m]\u001b[0m\u001b[0;34m,\u001b[0m \u001b[0mtruthphi\u001b[0m\u001b[0;34m[\u001b[0m\u001b[0;34m:\u001b[0m\u001b[0;36m1000\u001b[0m\u001b[0;34m]\u001b[0m\u001b[0;34m,\u001b[0m \u001b[0mtruthpt\u001b[0m\u001b[0;34m[\u001b[0m\u001b[0;34m:\u001b[0m\u001b[0;36m1000\u001b[0m\u001b[0;34m]\u001b[0m\u001b[0;34m,\u001b[0m \u001b[0mtruthmass\u001b[0m\u001b[0;34m[\u001b[0m\u001b[0;34m:\u001b[0m\u001b[0;36m1000\u001b[0m\u001b[0;34m]\u001b[0m\u001b[0;34m,\u001b[0m \u001b[0mclusE\u001b[0m\u001b[0;34m[\u001b[0m\u001b[0;34m:\u001b[0m\u001b[0;36m1000\u001b[0m\u001b[0;34m]\u001b[0m\u001b[0;34m,\u001b[0m \u001b[0mclusEta\u001b[0m\u001b[0;34m[\u001b[0m\u001b[0;34m:\u001b[0m\u001b[0;36m1000\u001b[0m\u001b[0;34m]\u001b[0m\u001b[0;34m,\u001b[0m \u001b[0mclusPhi\u001b[0m\u001b[0;34m[\u001b[0m\u001b[0;34m:\u001b[0m\u001b[0;36m1000\u001b[0m\u001b[0;34m]\u001b[0m\u001b[0;34m,\u001b[0m \u001b[0mclusPt\u001b[0m\u001b[0;34m[\u001b[0m\u001b[0;34m:\u001b[0m\u001b[0;36m1000\u001b[0m\u001b[0;34m]\u001b[0m\u001b[0;34m,\u001b[0m \u001b[0mclusmass\u001b[0m\u001b[0;34m[\u001b[0m\u001b[0;34m:\u001b[0m\u001b[0;36m1000\u001b[0m\u001b[0;34m]\u001b[0m\u001b[0;34m,\u001b[0m \u001b[0;36m111\u001b[0m\u001b[0;34m,\u001b[0m \u001b[0mSAME\u001b[0m \u001b[0;34m=\u001b[0m \u001b[0;32mTrue\u001b[0m\u001b[0;34m)\u001b[0m\u001b[0;34m\u001b[0m\u001b[0;34m\u001b[0m\u001b[0m\n\u001b[0m",
      "\u001b[0;32m/tmp/ipykernel_15109/144574180.py\u001b[0m in \u001b[0;36mfind_closest2\u001b[0;34m(truthID_sel, trutheta_sel, truthphi_sel, truthpt_sel, truthmass_sel, clusE_sel, clusEta_sel, clusPhi_sel, clusPt_sel, clusmass_sel, POI, SAME)\u001b[0m\n\u001b[1;32m     54\u001b[0m \u001b[0;34m\u001b[0m\u001b[0m\n\u001b[1;32m     55\u001b[0m             \u001b[0mind\u001b[0m \u001b[0;34m=\u001b[0m \u001b[0mnp\u001b[0m\u001b[0;34m.\u001b[0m\u001b[0margmin\u001b[0m\u001b[0;34m(\u001b[0m\u001b[0mnp\u001b[0m\u001b[0;34m.\u001b[0m\u001b[0marray\u001b[0m\u001b[0;34m(\u001b[0m\u001b[0mak\u001b[0m\u001b[0;34m.\u001b[0m\u001b[0mflatten\u001b[0m\u001b[0;34m(\u001b[0m\u001b[0mdeltaR\u001b[0m\u001b[0;34m)\u001b[0m\u001b[0;34m)\u001b[0m\u001b[0;34m)\u001b[0m\u001b[0;34m\u001b[0m\u001b[0;34m\u001b[0m\u001b[0m\n\u001b[0;32m---> 56\u001b[0;31m             \u001b[0mind2\u001b[0m \u001b[0;34m=\u001b[0m \u001b[0mnp\u001b[0m\u001b[0;34m.\u001b[0m\u001b[0margmin\u001b[0m\u001b[0;34m(\u001b[0m\u001b[0mnp\u001b[0m\u001b[0;34m.\u001b[0m\u001b[0marray\u001b[0m\u001b[0;34m(\u001b[0m\u001b[0mak\u001b[0m\u001b[0;34m.\u001b[0m\u001b[0mflatten\u001b[0m\u001b[0;34m(\u001b[0m\u001b[0mdeltaR2\u001b[0m\u001b[0;34m)\u001b[0m\u001b[0;34m)\u001b[0m\u001b[0;34m)\u001b[0m\u001b[0;34m\u001b[0m\u001b[0;34m\u001b[0m\u001b[0m\n\u001b[0m\u001b[1;32m     57\u001b[0m \u001b[0;34m\u001b[0m\u001b[0m\n\u001b[1;32m     58\u001b[0m         \u001b[0;32mif\u001b[0m \u001b[0;34m(\u001b[0m\u001b[0mind\u001b[0m \u001b[0;34m==\u001b[0m \u001b[0mind2\u001b[0m\u001b[0;34m)\u001b[0m \u001b[0;34m==\u001b[0m \u001b[0mSAME\u001b[0m\u001b[0;34m:\u001b[0m \u001b[0;31m#only change lol; so if they are equal and you want to exclude those, then leave same as false, but if you do want the cluster to be the same just set same to true\u001b[0m\u001b[0;34m\u001b[0m\u001b[0;34m\u001b[0m\u001b[0m\n",
      "\u001b[0;32m<__array_function__ internals>\u001b[0m in \u001b[0;36margmin\u001b[0;34m(*args, **kwargs)\u001b[0m\n",
      "\u001b[0;32m/usr/local/lib/python3.8/dist-packages/numpy/core/fromnumeric.py\u001b[0m in \u001b[0;36margmin\u001b[0;34m(a, axis, out)\u001b[0m\n\u001b[1;32m   1274\u001b[0m \u001b[0;34m\u001b[0m\u001b[0m\n\u001b[1;32m   1275\u001b[0m     \"\"\"\n\u001b[0;32m-> 1276\u001b[0;31m     \u001b[0;32mreturn\u001b[0m \u001b[0m_wrapfunc\u001b[0m\u001b[0;34m(\u001b[0m\u001b[0ma\u001b[0m\u001b[0;34m,\u001b[0m \u001b[0;34m'argmin'\u001b[0m\u001b[0;34m,\u001b[0m \u001b[0maxis\u001b[0m\u001b[0;34m=\u001b[0m\u001b[0maxis\u001b[0m\u001b[0;34m,\u001b[0m \u001b[0mout\u001b[0m\u001b[0;34m=\u001b[0m\u001b[0mout\u001b[0m\u001b[0;34m)\u001b[0m\u001b[0;34m\u001b[0m\u001b[0;34m\u001b[0m\u001b[0m\n\u001b[0m\u001b[1;32m   1277\u001b[0m \u001b[0;34m\u001b[0m\u001b[0m\n\u001b[1;32m   1278\u001b[0m \u001b[0;34m\u001b[0m\u001b[0m\n",
      "\u001b[0;32m/usr/local/lib/python3.8/dist-packages/numpy/core/fromnumeric.py\u001b[0m in \u001b[0;36m_wrapfunc\u001b[0;34m(obj, method, *args, **kwds)\u001b[0m\n\u001b[1;32m     55\u001b[0m \u001b[0;34m\u001b[0m\u001b[0m\n\u001b[1;32m     56\u001b[0m     \u001b[0;32mtry\u001b[0m\u001b[0;34m:\u001b[0m\u001b[0;34m\u001b[0m\u001b[0;34m\u001b[0m\u001b[0m\n\u001b[0;32m---> 57\u001b[0;31m         \u001b[0;32mreturn\u001b[0m \u001b[0mbound\u001b[0m\u001b[0;34m(\u001b[0m\u001b[0;34m*\u001b[0m\u001b[0margs\u001b[0m\u001b[0;34m,\u001b[0m \u001b[0;34m**\u001b[0m\u001b[0mkwds\u001b[0m\u001b[0;34m)\u001b[0m\u001b[0;34m\u001b[0m\u001b[0;34m\u001b[0m\u001b[0m\n\u001b[0m\u001b[1;32m     58\u001b[0m     \u001b[0;32mexcept\u001b[0m \u001b[0mTypeError\u001b[0m\u001b[0;34m:\u001b[0m\u001b[0;34m\u001b[0m\u001b[0;34m\u001b[0m\u001b[0m\n\u001b[1;32m     59\u001b[0m         \u001b[0;31m# A TypeError occurs if the object does have such a method in its\u001b[0m\u001b[0;34m\u001b[0m\u001b[0;34m\u001b[0m\u001b[0;34m\u001b[0m\u001b[0m\n",
      "\u001b[0;31mValueError\u001b[0m: attempt to get argmin of an empty sequence"
     ]
    }
   ],
   "source": [
    "find_closest2(truthID[:1000], trutheta[:1000], truthphi[:1000], truthpt[:1000], truthmass[:1000], clusE[:1000], clusEta[:1000], clusPhi[:1000], clusPt[:1000], clusmass[:1000], 111, SAME = True)"
   ]
  },
  {
   "cell_type": "code",
   "execution_count": null,
   "id": "7d3a7b94-b8e1-4dbc-9aa7-7b6273618cca",
   "metadata": {},
   "outputs": [],
   "source": [
    "#can I just run it on the delta convert sets??? I think it'll work\n",
    "import convert_sets_splitdelta as cs"
   ]
  },
  {
   "cell_type": "code",
   "execution_count": 13,
   "id": "581efa99-dbb6-4caf-8f27-649a1be18636",
   "metadata": {},
   "outputs": [
    {
     "name": "stdout",
     "output_type": "stream",
     "text": [
      "Working on /fast_scratch/atlas_images/v01-45/rho_medium.root\n",
      "Loading data\n",
      "Finding cluster closest to particle 111\n",
      "103047\n",
      "selec inds 103047\n",
      "Closest clusters found.\n",
      "Normalizing\n",
      "Writing out\n",
      "Done! /data/atlas/rho_211.npz\n"
     ]
    }
   ],
   "source": [
    "#cs.doit_cc(mask211, data_path+'rho_211.npz', 111, 211) #jesus this takes a long time lol"
   ]
  },
  {
   "cell_type": "code",
   "execution_count": 15,
   "id": "06e9214a-2900-434d-be80-6c973ed1f84d",
   "metadata": {},
   "outputs": [
    {
     "name": "stdout",
     "output_type": "stream",
     "text": [
      "Working on /fast_scratch/atlas_images/v01-45/rho_medium.root\n",
      "Loading data\n",
      "Finding cluster closest to particle 111\n",
      "102974\n",
      "selec inds 102974\n",
      "Closest clusters found.\n",
      "Normalizing\n",
      "Writing out\n",
      "Done! /data/atlas/rho_n211.npz\n"
     ]
    }
   ],
   "source": [
    "#cs.doit_cc(maskn211, data_path+'rho_n211.npz', 111, -211)"
   ]
  },
  {
   "cell_type": "code",
   "execution_count": 16,
   "id": "2075a464-4429-4c36-8690-7ca58e856631",
   "metadata": {},
   "outputs": [],
   "source": [
    "#dang I forgot to add in the y... maybe I can do that later"
   ]
  },
  {
   "cell_type": "code",
   "execution_count": null,
   "id": "9d9e0a46-4788-4624-8967-446fa1dee044",
   "metadata": {},
   "outputs": [],
   "source": []
  }
 ],
 "metadata": {
  "kernelspec": {
   "display_name": "Python 3 (ipykernel)",
   "language": "python",
   "name": "python3"
  },
  "language_info": {
   "codemirror_mode": {
    "name": "ipython",
    "version": 3
   },
   "file_extension": ".py",
   "mimetype": "text/x-python",
   "name": "python",
   "nbconvert_exporter": "python",
   "pygments_lexer": "ipython3",
   "version": "3.8.10"
  }
 },
 "nbformat": 4,
 "nbformat_minor": 5
}
