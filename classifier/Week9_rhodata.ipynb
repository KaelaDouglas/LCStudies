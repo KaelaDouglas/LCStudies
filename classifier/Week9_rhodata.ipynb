{
 "cells": [
  {
   "cell_type": "markdown",
   "id": "4fdf6767-6713-4b06-be97-2d98c81e0be9",
   "metadata": {},
   "source": [
    "Do the data processing for the rho data!"
   ]
  },
  {
   "cell_type": "code",
   "execution_count": 1,
   "id": "855a4aaf-e2a6-4c9e-8862-86d9710e5116",
   "metadata": {},
   "outputs": [],
   "source": [
    "#imports\n",
    "import uproot as ur\n",
    "import numpy as np\n",
    "\n",
    "data_path = '/fast_scratch/atlas_images/v01-45/'\n",
    "\n",
    "import os\n",
    "os.environ['CUDA_VISIBLE_DEVICES'] = \"2\" #specify GPU\n",
    "os.environ['TF_FORCE_GPU_ALLOW_GROWTH'] = 'true'\n",
    "\n",
    "import tensorflow as tf\n",
    "\n",
    "# energyflow imports\n",
    "import energyflow as ef\n",
    "from energyflow.archs import PFN\n",
    "from energyflow.utils import data_split\n",
    "\n",
    "from sklearn.metrics import roc_auc_score, roc_curve"
   ]
  },
  {
   "cell_type": "code",
   "execution_count": 2,
   "id": "157ea27d-52bc-44c8-9b5b-38dff9d94a05",
   "metadata": {},
   "outputs": [],
   "source": [
    "import graph_util as gu\n",
    "import plot_util as pu\n",
    "\n",
    "path_rho = data_path + 'rho_medium.root'\n"
   ]
  },
  {
   "cell_type": "code",
   "execution_count": 4,
   "id": "5b3556f2-0311-48ab-88d8-639192a9ba30",
   "metadata": {},
   "outputs": [],
   "source": [
    "rho_file = ur.open(path_rho)"
   ]
  },
  {
   "cell_type": "code",
   "execution_count": 5,
   "id": "1b50ed2d-2b8d-4d8f-8fbf-1210f505cf57",
   "metadata": {},
   "outputs": [
    {
     "data": {
      "text/plain": [
       "<ReadOnlyDirectory '/' at 0x7f0e956be1c0>"
      ]
     },
     "execution_count": 5,
     "metadata": {},
     "output_type": "execute_result"
    }
   ],
   "source": [
    "rho_file"
   ]
  },
  {
   "cell_type": "code",
   "execution_count": 7,
   "id": "1b2275c2-9707-4135-9a7f-9d2979ab3641",
   "metadata": {},
   "outputs": [],
   "source": [
    "rho_tree = rho_file['EventTree']\n",
    "rho_geo = rho_file['CellGeo']"
   ]
  },
  {
   "cell_type": "code",
   "execution_count": 8,
   "id": "2d98e6b5-4ea7-4f0b-b610-6dd2a842782a",
   "metadata": {},
   "outputs": [
    {
     "data": {
      "text/plain": [
       "<TTree 'EventTree' (125 branches) at 0x7f0e9766efa0>"
      ]
     },
     "execution_count": 8,
     "metadata": {},
     "output_type": "execute_result"
    }
   ],
   "source": [
    "rho_tree"
   ]
  },
  {
   "cell_type": "code",
   "execution_count": 1,
   "id": "c6fa2d82-f2ce-4ed1-81fd-5fb7344cae0c",
   "metadata": {},
   "outputs": [
    {
     "name": "stdout",
     "output_type": "stream",
     "text": [
      "Working on /fast_scratch/atlas_images/v01-45/rho_medium.root\n",
      "Loading data\n",
      "Normalizing\n"
     ]
    },
    {
     "name": "stderr",
     "output_type": "stream",
     "text": [
      "/home/kaelaekd/start_tf/LCStudies/classifier/convert_sets_rho.py:59: RuntimeWarning: divide by zero encountered in log\n",
      "  cell_e = np.nan_to_num(np.log(cell_e), posinf = 0, neginf=0)\n"
     ]
    },
    {
     "name": "stdout",
     "output_type": "stream",
     "text": [
      "Writing out\n",
      "Done! /fast_scratch/atlas_images/v01-45/rho_medium.npz\n"
     ]
    }
   ],
   "source": [
    "#hopefullythis works:\n",
    "#import convert_sets_rho"
   ]
  },
  {
   "cell_type": "code",
   "execution_count": 3,
   "id": "bfd4d161-f12d-4727-bf41-7fa24dfa16ae",
   "metadata": {},
   "outputs": [],
   "source": [
    "rho_med = np.load('/fast_scratch/atlas_images/v01-45/rho_medium.npz')"
   ]
  },
  {
   "cell_type": "code",
   "execution_count": 4,
   "id": "c116c3ea-cdce-471e-90c7-6499e3fff1ff",
   "metadata": {},
   "outputs": [],
   "source": [
    "#extract data\n",
    "X = rho_med['X']\n",
    "\n",
    "clus_eta= rho_med['clus_eta']"
   ]
  },
  {
   "cell_type": "code",
   "execution_count": 6,
   "id": "5843632e-2964-449d-aebf-b0750837297a",
   "metadata": {},
   "outputs": [],
   "source": [
    "clus_pt = rho_med['clus_pt']\n",
    "clus_E = rho_med['clus_e']\n",
    "clus_et = rho_med['clus_e_t']"
   ]
  },
  {
   "cell_type": "code",
   "execution_count": 7,
   "id": "39b4af3c-9a6a-4f46-ac67-11065be1714d",
   "metadata": {},
   "outputs": [],
   "source": [
    "X_all = np.array(X[:390000])\n",
    "eta_all = np.array(clus_eta[:390000])\n",
    "pt_all = np.array(clus_pt[:390000])\n",
    "E_all = np.array(clus_E[:390000])\n",
    "et_all = np.array(clus_et[:390000])"
   ]
  },
  {
   "cell_type": "code",
   "execution_count": 8,
   "id": "ed3e55d3-4d4a-4e4f-9d50-0760ada93a2e",
   "metadata": {},
   "outputs": [],
   "source": [
    "(X_train, X_val, X_test,  \n",
    " eta_train, eta_val, eta_test, \n",
    " ET_train, ET_val, ET_test, \n",
    " pt_train, pt_val, pt_test, \n",
    " Eng_train, Eng_val, Eng_test) = data_split(X_all, eta_all, et_all, pt_all, E_all, val=50000, test=150000)"
   ]
  },
  {
   "cell_type": "code",
   "execution_count": 9,
   "id": "85b32a18-a0c1-4d19-abca-f752b82877e1",
   "metadata": {},
   "outputs": [],
   "source": [
    "np.savez(data_path+'nn_rhodata', X_train, X_val, X_test, eta_train, eta_val, eta_test, ET_train, ET_val, ET_test, pt_train, pt_val, pt_test, Eng_train, Eng_val, Eng_test)"
   ]
  },
  {
   "cell_type": "code",
   "execution_count": null,
   "id": "3796dbfc-b29b-4367-a701-5ca9b90b5a72",
   "metadata": {},
   "outputs": [],
   "source": []
  }
 ],
 "metadata": {
  "kernelspec": {
   "display_name": "Python 3",
   "language": "python",
   "name": "python3"
  },
  "language_info": {
   "codemirror_mode": {
    "name": "ipython",
    "version": 3
   },
   "file_extension": ".py",
   "mimetype": "text/x-python",
   "name": "python",
   "nbconvert_exporter": "python",
   "pygments_lexer": "ipython3",
   "version": "3.8.5"
  }
 },
 "nbformat": 4,
 "nbformat_minor": 5
}
