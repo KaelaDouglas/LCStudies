{
 "cells": [
  {
   "cell_type": "markdown",
   "id": "6b669091-a0eb-4a16-b4df-d83ff6f24bfa",
   "metadata": {},
   "source": [
    "To try to implement global eta in phi instead of in F, using conv_sets_globphi (version I made to try to add global eta to X instead!!)"
   ]
  },
  {
   "cell_type": "code",
   "execution_count": null,
   "id": "d903dc60-94db-4b08-b80b-a35a033abc24",
   "metadata": {},
   "outputs": [],
   "source": []
  }
 ],
 "metadata": {
  "kernelspec": {
   "display_name": "Python 3",
   "language": "python",
   "name": "python3"
  },
  "language_info": {
   "codemirror_mode": {
    "name": "ipython",
    "version": 3
   },
   "file_extension": ".py",
   "mimetype": "text/x-python",
   "name": "python",
   "nbconvert_exporter": "python",
   "pygments_lexer": "ipython3",
   "version": "3.8.5"
  }
 },
 "nbformat": 4,
 "nbformat_minor": 5
}
