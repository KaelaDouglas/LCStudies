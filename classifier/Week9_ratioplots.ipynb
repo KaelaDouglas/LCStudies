{
 "cells": [
  {
   "cell_type": "markdown",
   "id": "80052ac5-ed7f-4af0-b3f6-88cbaa4bb7c2",
   "metadata": {},
   "source": [
    "To make the ratio plots we talked about last week (basically noID AUC/ noglobAUC as a function of eta or other models over noglob (as a baseline) as a function of eta.\n",
    "\n",
    "Also to make a plot of the average number of non-zero cells as a function of eta - not sure how yet?"
   ]
  },
  {
   "cell_type": "code",
   "execution_count": 1,
   "id": "996b034a-f343-4725-8148-91837dd0a324",
   "metadata": {},
   "outputs": [],
   "source": [
    "#imports\n",
    "import uproot as ur\n",
    "import numpy as np\n",
    "\n",
    "import os\n",
    "os.environ['CUDA_VISIBLE_DEVICES'] = \"6\" #specify GPU\n",
    "os.environ['TF_FORCE_GPU_ALLOW_GROWTH'] = 'true'\n",
    "\n",
    "import tensorflow as tf\n",
    "\n",
    "# energyflow imports\n",
    "import energyflow as ef\n",
    "from energyflow.archs import PFN\n",
    "from energyflow.utils import data_split\n",
    "\n",
    "from sklearn.metrics import roc_auc_score, roc_curve\n",
    "import matplotlib.pyplot as plt\n",
    "\n",
    "import graph_util as gu\n",
    "import plot_util as pu\n",
    "\n",
    "from scipy.interpolate import interp1d\n",
    "\n",
    "from Week7_PFNutils import *"
   ]
  },
  {
   "cell_type": "code",
   "execution_count": 2,
   "id": "bd7e0485-ccfd-4a98-a842-49e8e660013e",
   "metadata": {},
   "outputs": [],
   "source": [
    "data_path = '/fast_scratch/atlas_images/v01-45/' "
   ]
  },
  {
   "cell_type": "code",
   "execution_count": null,
   "id": "f9c3cb5c-bcb4-4e58-aefd-47bf6963afd8",
   "metadata": {},
   "outputs": [],
   "source": [
    "#import noID stuff (data and model)\n",
    "\n",
    "noID = np.load(data_path+'nn_noID_w8.npz')\n",
    "noID_model = tf.keras.models.load_model(data_path+'w8_pfn_noID.hdf5')\n",
    "\n",
    "X_test_noid = file['arr_2']\n",
    "Y_test_noid = file['arr_5']\n",
    "eta_test_noid = file['arr_8']"
   ]
  }
 ],
 "metadata": {
  "kernelspec": {
   "display_name": "Python 3",
   "language": "python",
   "name": "python3"
  },
  "language_info": {
   "codemirror_mode": {
    "name": "ipython",
    "version": 3
   },
   "file_extension": ".py",
   "mimetype": "text/x-python",
   "name": "python",
   "nbconvert_exporter": "python",
   "pygments_lexer": "ipython3",
   "version": "3.8.5"
  }
 },
 "nbformat": 4,
 "nbformat_minor": 5
}
