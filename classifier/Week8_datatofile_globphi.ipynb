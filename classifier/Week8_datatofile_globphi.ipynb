{
 "cells": [
  {
   "cell_type": "code",
   "execution_count": 1,
   "id": "ebac1508-bd89-4ce6-bcf6-b1c8af1e2459",
   "metadata": {},
   "outputs": [],
   "source": [
    "#imports\n",
    "import uproot as ur\n",
    "import awkward as ak\n",
    "import numpy as np\n",
    "\n",
    "data_path = '/fast_scratch/atlas_images/v01-45/'\n",
    "\n",
    "import os\n",
    "os.environ['CUDA_VISIBLE_DEVICES'] = \"2\" #specify GPU\n",
    "os.environ['TF_FORCE_GPU_ALLOW_GROWTH'] = 'true'\n",
    "\n",
    "import tensorflow as tf\n",
    "\n",
    "# energyflow imports\n",
    "import energyflow as ef\n",
    "from energyflow.archs import PFN\n",
    "from energyflow.utils import data_split\n",
    "\n",
    "from sklearn.metrics import roc_auc_score, roc_curve\n",
    "import matplotlib.pyplot as plt"
   ]
  },
  {
   "cell_type": "code",
   "execution_count": 2,
   "id": "a5f509dd-fda6-43c2-9107-8846514d1133",
   "metadata": {},
   "outputs": [],
   "source": [
    "import sys\n",
    "sys.path.append('/Users/swiatlow/Code/ML4P/LCStudies')\n",
    "sys.path.append('/home/mswiatlowski/start_tf/LCStudies')\n",
    "import graph_util as gu\n",
    "import plot_util as pu\n",
    "\n",
    "path_pipm = data_path + 'pipm_medium.root'\n",
    "path_pi0  = data_path + 'pi0_medium.root'\n"
   ]
  },
  {
   "cell_type": "code",
   "execution_count": 3,
   "id": "9b3eab52-8149-4f89-b14b-c36b13e6f90f",
   "metadata": {},
   "outputs": [],
   "source": [
    "#import convert_sets_globphi"
   ]
  },
  {
   "cell_type": "code",
   "execution_count": 4,
   "id": "48c20ee6-0933-438b-b532-a214370c71a4",
   "metadata": {},
   "outputs": [],
   "source": [
    "#load up data\n",
    "pipm_med = np.load('/fast_scratch/atlas_images/v01-45/pipm_mediumglobphi.npz')\n",
    "pi0_med = np.load('/fast_scratch/atlas_images/v01-45/pi0_mediumglobphi.npz')"
   ]
  },
  {
   "cell_type": "code",
   "execution_count": 5,
   "id": "1eea0c0a-26be-417b-a3de-34345b9eab26",
   "metadata": {},
   "outputs": [],
   "source": [
    "#extract data\n",
    "X_pipm = pipm_med['X']\n",
    "X_pi0 = pi0_med['X']\n",
    "\n",
    "Y_label_pipm = pipm_med['Y_label']\n",
    "Y_label_pi0 = pi0_med['Y_label']\n",
    "\n",
    "clus_eta_pipm = pipm_med['clus_eta']\n",
    "clus_eta_pi0 = pi0_med['clus_eta']\n",
    "\n",
    "clus_pt_pipm = pipm_med['clus_pt']\n",
    "clus_pt_pi0 = pi0_med['clus_pt']\n",
    "\n",
    "clus_E_pipm = pipm_med['clus_e']\n",
    "clus_E_pi0 = pi0_med['clus_e']\n",
    "\n",
    "clus_et_pipm = pipm_med['clus_e_t']\n",
    "clus_et_pi0 = pi0_med['clus_e_t']"
   ]
  },
  {
   "cell_type": "code",
   "execution_count": 6,
   "id": "32d78a0d-cf4e-4157-9b6d-faf460632317",
   "metadata": {},
   "outputs": [],
   "source": [
    "#select size of datasets\n",
    "X_all = np.concatenate((X_pipm[:390000], X_pi0[:390000]))\n",
    "Y_all = tf.keras.utils.to_categorical(np.concatenate((Y_label_pipm[:390000],Y_label_pi0[:390000])))\n",
    "eta = np.concatenate((clus_eta_pipm[:390000], clus_eta_pi0[:390000]))\n",
    "E_T = np.concatenate((clus_et_pipm[:390000], clus_et_pi0[:390000]))\n",
    "pt = np.concatenate((clus_pt_pipm[:390000], clus_pt_pi0[:390000]))\n",
    "Eng = np.concatenate((clus_E_pipm[:390000], clus_E_pi0[:390000]))\n"
   ]
  },
  {
   "cell_type": "code",
   "execution_count": 7,
   "id": "d2895d67-bdcf-48a3-b91f-328d9c767917",
   "metadata": {},
   "outputs": [],
   "source": [
    "(X_train, X_val, X_test, \n",
    " Y_train, Y_val, Y_test, \n",
    " eta_train, eta_val, eta_test, \n",
    " ET_train, ET_val, ET_test, \n",
    " pt_train, pt_val, pt_test, \n",
    " Eng_train, Eng_val, Eng_test) = data_split(X_all, Y_all, eta, E_T, pt, Eng, val=100000, test=300000)"
   ]
  },
  {
   "cell_type": "code",
   "execution_count": 8,
   "id": "7bc87274-bf3c-48de-827a-39f3f4ce4226",
   "metadata": {},
   "outputs": [],
   "source": [
    "np.savez(data_path+'nn_globphi_w8', X_train, X_val, X_test, Y_train, Y_val, Y_test, eta_train, eta_val, eta_test, ET_train, ET_val, ET_test, pt_train, pt_val, pt_test, Eng_train, Eng_val, Eng_test)"
   ]
  },
  {
   "cell_type": "code",
   "execution_count": 3,
   "id": "539a94d3-08aa-4c34-adb0-e88e91ea894b",
   "metadata": {},
   "outputs": [
    {
     "name": "stdout",
     "output_type": "stream",
     "text": [
      "Working on /fast_scratch/atlas_images/v01-45/pipm_medium.root\n",
      "Loading data\n",
      "eta [-1.125384   -0.9594247   0.93537796 -1.9522849   1.1632881  -0.06523713\n",
      " -0.05172568 -0.09848271 -0.03274849  1.0723295 ]\n",
      "Normalizing\n"
     ]
    },
    {
     "name": "stderr",
     "output_type": "stream",
     "text": [
      "/home/kaelaekd/start_tf/LCStudies/classifier/convert_sets_noID.py:67: RuntimeWarning: divide by zero encountered in log\n",
      "  cell_e = np.nan_to_num(np.log(cell_e), posinf = 0, neginf=0)\n"
     ]
    },
    {
     "name": "stdout",
     "output_type": "stream",
     "text": [
      "Writing out\n"
     ]
    },
    {
     "name": "stderr",
     "output_type": "stream",
     "text": [
      "/home/kaelaekd/start_tf/LCStudies/classifier/convert_sets_noID.py:77: RuntimeWarning: divide by zero encountered in log\n",
      "  Y_target = np.log(clus_targetE[selection]) #for regression, I don't need\n",
      "/home/kaelaekd/start_tf/LCStudies/classifier/convert_sets_noID.py:77: RuntimeWarning: invalid value encountered in log\n",
      "  Y_target = np.log(clus_targetE[selection]) #for regression, I don't need\n"
     ]
    },
    {
     "name": "stdout",
     "output_type": "stream",
     "text": [
      "Done! /fast_scratch/atlas_images/v01-45/pipm_mediumnoID.npz\n",
      "Working on /fast_scratch/atlas_images/v01-45/pi0_medium.root\n",
      "Loading data\n",
      "eta [ 2.6569927   2.2744625   2.267206   -0.17188169 -2.7659993  -2.178036\n",
      " -2.1792655  -2.2079153  -2.125493   -2.0137668 ]\n",
      "Normalizing\n",
      "Writing out\n",
      "Done! /fast_scratch/atlas_images/v01-45/pi0_mediumnoID.npz\n"
     ]
    }
   ],
   "source": [
    "#now I'll just to the one with no sample ID:\n",
    "\n",
    "#import convert_sets_noID"
   ]
  },
  {
   "cell_type": "code",
   "execution_count": 3,
   "id": "41be2078-fb92-4387-8f77-94686d241fc1",
   "metadata": {},
   "outputs": [],
   "source": [
    "#load up the no ID data now\n",
    "pipm_med = np.load('/fast_scratch/atlas_images/v01-45/pipm_mediumnoID.npz')\n",
    "pi0_med = np.load('/fast_scratch/atlas_images/v01-45/pi0_mediumnoID.npz')"
   ]
  },
  {
   "cell_type": "code",
   "execution_count": 4,
   "id": "f5068578-3c8c-4e24-957d-a1062e6e7902",
   "metadata": {},
   "outputs": [],
   "source": [
    "#extract data\n",
    "X_pipm = pipm_med['X']\n",
    "X_pi0 = pi0_med['X']\n",
    "\n",
    "Y_label_pipm = pipm_med['Y_label']\n",
    "Y_label_pi0 = pi0_med['Y_label']\n",
    "\n",
    "clus_eta_pipm = pipm_med['clus_eta']\n",
    "clus_eta_pi0 = pi0_med['clus_eta']\n",
    "\n",
    "clus_pt_pipm = pipm_med['clus_pt']\n",
    "clus_pt_pi0 = pi0_med['clus_pt']\n",
    "\n",
    "clus_E_pipm = pipm_med['clus_e']\n",
    "clus_E_pi0 = pi0_med['clus_e']\n",
    "\n",
    "clus_et_pipm = pipm_med['clus_e_t']\n",
    "clus_et_pi0 = pi0_med['clus_e_t']"
   ]
  },
  {
   "cell_type": "code",
   "execution_count": 5,
   "id": "8b635ee4-70d9-4d4c-94e5-8f17f0ab8891",
   "metadata": {},
   "outputs": [],
   "source": [
    "#select size of datasets\n",
    "X_all = np.concatenate((X_pipm[:390000], X_pi0[:390000]))\n",
    "Y_all = tf.keras.utils.to_categorical(np.concatenate((Y_label_pipm[:390000],Y_label_pi0[:390000])))\n",
    "eta = np.concatenate((clus_eta_pipm[:390000], clus_eta_pi0[:390000]))\n",
    "E_T = np.concatenate((clus_et_pipm[:390000], clus_et_pi0[:390000]))\n",
    "pt = np.concatenate((clus_pt_pipm[:390000], clus_pt_pi0[:390000]))\n",
    "Eng = np.concatenate((clus_E_pipm[:390000], clus_E_pi0[:390000]))\n"
   ]
  },
  {
   "cell_type": "code",
   "execution_count": 6,
   "id": "03ec0c9d-ca70-4135-bd35-200b74ef1213",
   "metadata": {},
   "outputs": [],
   "source": [
    "(X_train, X_val, X_test, \n",
    " Y_train, Y_val, Y_test, \n",
    " eta_train, eta_val, eta_test, \n",
    " ET_train, ET_val, ET_test, \n",
    " pt_train, pt_val, pt_test, \n",
    " Eng_train, Eng_val, Eng_test) = data_split(X_all, Y_all, eta, E_T, pt, Eng, val=100000, test=300000)"
   ]
  },
  {
   "cell_type": "code",
   "execution_count": 7,
   "id": "ce266e42-a2f3-4703-b1f4-ac9294180607",
   "metadata": {},
   "outputs": [],
   "source": [
    "np.savez(data_path+'nn_noID_w8', X_train, X_val, X_test, Y_train, Y_val, Y_test, eta_train, eta_val, eta_test, ET_train, ET_val, ET_test, pt_train, pt_val, pt_test, Eng_train, Eng_val, Eng_test)"
   ]
  },
  {
   "cell_type": "code",
   "execution_count": null,
   "id": "ff46d7b7-f41f-4971-a505-3d9ed8ef444f",
   "metadata": {},
   "outputs": [],
   "source": []
  }
 ],
 "metadata": {
  "kernelspec": {
   "display_name": "Python 3",
   "language": "python",
   "name": "python3"
  },
  "language_info": {
   "codemirror_mode": {
    "name": "ipython",
    "version": 3
   },
   "file_extension": ".py",
   "mimetype": "text/x-python",
   "name": "python",
   "nbconvert_exporter": "python",
   "pygments_lexer": "ipython3",
   "version": "3.8.5"
  }
 },
 "nbformat": 4,
 "nbformat_minor": 5
}
