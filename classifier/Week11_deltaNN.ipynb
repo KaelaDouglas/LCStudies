{
 "cells": [
  {
   "cell_type": "markdown",
   "id": "118d1381-37fa-4a04-bce5-66c8f7f998ad",
   "metadata": {},
   "source": [
    "Going to train some NNs on the different delta data I guess.... not sure how I'm gonna split it up yet but lets get started"
   ]
  },
  {
   "cell_type": "code",
   "execution_count": 1,
   "id": "31c1d5be-680f-4465-bf5c-e941eadad3b1",
   "metadata": {},
   "outputs": [
    {
     "name": "stderr",
     "output_type": "stream",
     "text": [
      "2021-07-15 13:54:31.851806: I tensorflow/stream_executor/platform/default/dso_loader.cc:49] Successfully opened dynamic library libcudart.so.11.0\n"
     ]
    }
   ],
   "source": [
    "#imports\n",
    "import uproot as ur\n",
    "import numpy as np\n",
    "import awkward as ak\n",
    "import matplotlib.pyplot as plt\n",
    "import vector as v\n",
    "\n",
    "data_path = '/fast_scratch/atlas_images/v01-45/'\n",
    "\n",
    "import atlas_mpl_style as ampl #makes matplotlib follow atlas formal style\n",
    "ampl.use_atlas_style()\n",
    "\n",
    "v.register_awkward()\n",
    "\n",
    "import os\n",
    "os.environ['CUDA_VISIBLE_DEVICES'] = \"2\" #specify GPU\n",
    "os.environ['TF_FORCE_GPU_ALLOW_GROWTH'] = 'true'\n",
    "\n",
    "import tensorflow as tf\n",
    "\n",
    "# energyflow imports\n",
    "import energyflow as ef\n",
    "from energyflow.archs import PFN\n",
    "from energyflow.utils import data_split\n",
    "\n",
    "from sklearn.metrics import roc_auc_score, roc_curve\n",
    "\n",
    "import graph_util as gu\n",
    "import plot_util as pu\n",
    "import matplotlib.pyplot as plt"
   ]
  },
  {
   "cell_type": "code",
   "execution_count": 2,
   "id": "bd751378-c0ac-4465-8fde-1f3a6ca0077f",
   "metadata": {},
   "outputs": [],
   "source": [
    "branches = ['cluster_hitsTruthIndex', 'cluster_hitsTruthE', 'truthPartPdgId', 'truthPartPt','truthPartEta', \n",
    "            'truthPartPhi', 'truthPartPt', 'truthPartMass']\n",
    "\n",
    "events = ur.open(data_path+'delta_medium.root')\n",
    "\n",
    "tree = events['EventTree']"
   ]
  },
  {
   "cell_type": "code",
   "execution_count": 3,
   "id": "a6c293a4-2b34-4ee2-9e24-f8b5c8da342b",
   "metadata": {},
   "outputs": [],
   "source": [
    "the_branches = tree.arrays(expressions=branches)"
   ]
  },
  {
   "cell_type": "markdown",
   "id": "113a0a75-7074-420b-8ac2-347dec568638",
   "metadata": {},
   "source": [
    "To do this, I need to first set up the different selections, then do the data processing, (I guess the other way around works too? Okay I'm gonna change the convert_sets_delta file to also return truthID, then can do the selections on the pre-made data, then can run the models"
   ]
  },
  {
   "cell_type": "code",
   "execution_count": 4,
   "id": "2c5a727a-a849-4413-ab3c-da72ae56478d",
   "metadata": {},
   "outputs": [
    {
     "name": "stdout",
     "output_type": "stream",
     "text": [
      "name                 | typename                 | interpretation                \n",
      "---------------------+--------------------------+-------------------------------\n",
      "runNumber            | int32_t                  | AsDtype('>i4')\n",
      "eventNumber          | int64_t                  | AsDtype('>i8')\n",
      "lumiBlock            | int32_t                  | AsDtype('>i4')\n",
      "coreFlags            | uint32_t                 | AsDtype('>u4')\n",
      "mcEventNumber        | int32_t                  | AsDtype('>i4')\n",
      "mcChannelNumber      | int32_t                  | AsDtype('>i4')\n",
      "mcEventWeight        | float                    | AsDtype('>f4')\n",
      "nTruthPart           | int32_t                  | AsDtype('>i4')\n",
      "G4PreCalo_n_EM       | int32_t                  | AsDtype('>i4')\n",
      "G4PreCalo_E_EM       | float                    | AsDtype('>f4')\n",
      "G4PreCalo_n_Had      | int32_t                  | AsDtype('>i4')\n",
      "G4PreCalo_E_Had      | float                    | AsDtype('>f4')\n",
      "truthVertexX         | float                    | AsDtype('>f4')\n",
      "truthVertexY         | float                    | AsDtype('>f4')\n",
      "truthVertexZ         | float                    | AsDtype('>f4')\n",
      "truthPartPdgId       | std::vector<int32_t>     | AsJagged(AsDtype('>i4'), he...\n",
      "truthPartStatus      | std::vector<int32_t>     | AsJagged(AsDtype('>i4'), he...\n",
      "truthPartBarcode     | std::vector<int32_t>     | AsJagged(AsDtype('>i4'), he...\n",
      "truthPartPt          | std::vector<float>       | AsJagged(AsDtype('>f4'), he...\n",
      "truthPartE           | std::vector<float>       | AsJagged(AsDtype('>f4'), he...\n",
      "truthPartMass        | std::vector<float>       | AsJagged(AsDtype('>f4'), he...\n",
      "truthPartEta         | std::vector<float>       | AsJagged(AsDtype('>f4'), he...\n",
      "truthPartPhi         | std::vector<float>       | AsJagged(AsDtype('>f4'), he...\n",
      "nTrack               | int32_t                  | AsDtype('>i4')\n",
      "trackPt              | std::vector<float>       | AsJagged(AsDtype('>f4'), he...\n",
      "trackP               | std::vector<float>       | AsJagged(AsDtype('>f4'), he...\n",
      "trackMass            | std::vector<float>       | AsJagged(AsDtype('>f4'), he...\n",
      "trackEta             | std::vector<float>       | AsJagged(AsDtype('>f4'), he...\n",
      "trackPhi             | std::vector<float>       | AsJagged(AsDtype('>f4'), he...\n",
      "trackNumberOfPixe... | std::vector<int32_t>     | AsJagged(AsDtype('>i4'), he...\n",
      "trackNumberOfSCTHits | std::vector<int32_t>     | AsJagged(AsDtype('>i4'), he...\n",
      "trackNumberOfPixe... | std::vector<int32_t>     | AsJagged(AsDtype('>i4'), he...\n",
      "trackNumberOfSCTD... | std::vector<int32_t>     | AsJagged(AsDtype('>i4'), he...\n",
      "trackNumberOfPixe... | std::vector<int32_t>     | AsJagged(AsDtype('>i4'), he...\n",
      "trackNumberOfSCTS... | std::vector<int32_t>     | AsJagged(AsDtype('>i4'), he...\n",
      "trackNumberOfPixe... | std::vector<int32_t>     | AsJagged(AsDtype('>i4'), he...\n",
      "trackNumberOfSCTH... | std::vector<int32_t>     | AsJagged(AsDtype('>i4'), he...\n",
      "trackNumberOfInne... | std::vector<int32_t>     | AsJagged(AsDtype('>i4'), he...\n",
      "trackNumberOfNext... | std::vector<int32_t>     | AsJagged(AsDtype('>i4'), he...\n",
      "trackExpectInnerm... | std::vector<int32_t>     | AsJagged(AsDtype('>i4'), he...\n",
      "trackExpectNextTo... | std::vector<int32_t>     | AsJagged(AsDtype('>i4'), he...\n",
      "trackNumberOfTRTHits | std::vector<int32_t>     | AsJagged(AsDtype('>i4'), he...\n",
      "trackNumberOfTRTO... | std::vector<int32_t>     | AsJagged(AsDtype('>i4'), he...\n",
      "trackChiSquared      | std::vector<float>       | AsJagged(AsDtype('>f4'), he...\n",
      "trackNumberDOF       | std::vector<int32_t>     | AsJagged(AsDtype('>i4'), he...\n",
      "trackD0              | std::vector<float>       | AsJagged(AsDtype('>f4'), he...\n",
      "trackZ0              | std::vector<float>       | AsJagged(AsDtype('>f4'), he...\n",
      "trackEta_PreSamplerB | std::vector<float>       | AsJagged(AsDtype('>f4'), he...\n",
      "trackPhi_PreSamplerB | std::vector<float>       | AsJagged(AsDtype('>f4'), he...\n",
      "trackEta_PreSamplerE | std::vector<float>       | AsJagged(AsDtype('>f4'), he...\n",
      "trackPhi_PreSamplerE | std::vector<float>       | AsJagged(AsDtype('>f4'), he...\n",
      "trackEta_EMB1        | std::vector<float>       | AsJagged(AsDtype('>f4'), he...\n",
      "trackPhi_EMB1        | std::vector<float>       | AsJagged(AsDtype('>f4'), he...\n",
      "trackEta_EMB2        | std::vector<float>       | AsJagged(AsDtype('>f4'), he...\n",
      "trackPhi_EMB2        | std::vector<float>       | AsJagged(AsDtype('>f4'), he...\n",
      "trackEta_EMB3        | std::vector<float>       | AsJagged(AsDtype('>f4'), he...\n",
      "trackPhi_EMB3        | std::vector<float>       | AsJagged(AsDtype('>f4'), he...\n",
      "trackEta_EME1        | std::vector<float>       | AsJagged(AsDtype('>f4'), he...\n",
      "trackPhi_EME1        | std::vector<float>       | AsJagged(AsDtype('>f4'), he...\n",
      "trackEta_EME2        | std::vector<float>       | AsJagged(AsDtype('>f4'), he...\n",
      "trackPhi_EME2        | std::vector<float>       | AsJagged(AsDtype('>f4'), he...\n",
      "trackEta_EME3        | std::vector<float>       | AsJagged(AsDtype('>f4'), he...\n",
      "trackPhi_EME3        | std::vector<float>       | AsJagged(AsDtype('>f4'), he...\n",
      "trackEta_HEC0        | std::vector<float>       | AsJagged(AsDtype('>f4'), he...\n",
      "trackPhi_HEC0        | std::vector<float>       | AsJagged(AsDtype('>f4'), he...\n",
      "trackEta_HEC1        | std::vector<float>       | AsJagged(AsDtype('>f4'), he...\n",
      "trackPhi_HEC1        | std::vector<float>       | AsJagged(AsDtype('>f4'), he...\n",
      "trackEta_HEC2        | std::vector<float>       | AsJagged(AsDtype('>f4'), he...\n",
      "trackPhi_HEC2        | std::vector<float>       | AsJagged(AsDtype('>f4'), he...\n",
      "trackEta_HEC3        | std::vector<float>       | AsJagged(AsDtype('>f4'), he...\n",
      "trackPhi_HEC3        | std::vector<float>       | AsJagged(AsDtype('>f4'), he...\n",
      "trackEta_TileBar0    | std::vector<float>       | AsJagged(AsDtype('>f4'), he...\n",
      "trackPhi_TileBar0    | std::vector<float>       | AsJagged(AsDtype('>f4'), he...\n",
      "trackEta_TileBar1    | std::vector<float>       | AsJagged(AsDtype('>f4'), he...\n",
      "trackPhi_TileBar1    | std::vector<float>       | AsJagged(AsDtype('>f4'), he...\n",
      "trackEta_TileBar2    | std::vector<float>       | AsJagged(AsDtype('>f4'), he...\n",
      "trackPhi_TileBar2    | std::vector<float>       | AsJagged(AsDtype('>f4'), he...\n",
      "trackEta_TileGap1    | std::vector<float>       | AsJagged(AsDtype('>f4'), he...\n",
      "trackPhi_TileGap1    | std::vector<float>       | AsJagged(AsDtype('>f4'), he...\n",
      "trackEta_TileGap2    | std::vector<float>       | AsJagged(AsDtype('>f4'), he...\n",
      "trackPhi_TileGap2    | std::vector<float>       | AsJagged(AsDtype('>f4'), he...\n",
      "trackEta_TileGap3    | std::vector<float>       | AsJagged(AsDtype('>f4'), he...\n",
      "trackPhi_TileGap3    | std::vector<float>       | AsJagged(AsDtype('>f4'), he...\n",
      "trackEta_TileExt0    | std::vector<float>       | AsJagged(AsDtype('>f4'), he...\n",
      "trackPhi_TileExt0    | std::vector<float>       | AsJagged(AsDtype('>f4'), he...\n",
      "trackEta_TileExt1    | std::vector<float>       | AsJagged(AsDtype('>f4'), he...\n",
      "trackPhi_TileExt1    | std::vector<float>       | AsJagged(AsDtype('>f4'), he...\n",
      "trackEta_TileExt2    | std::vector<float>       | AsJagged(AsDtype('>f4'), he...\n",
      "trackPhi_TileExt2    | std::vector<float>       | AsJagged(AsDtype('>f4'), he...\n",
      "AntiKt4EMTopoJetsPt  | std::vector<float>       | AsJagged(AsDtype('>f4'), he...\n",
      "AntiKt4EMTopoJetsEta | std::vector<float>       | AsJagged(AsDtype('>f4'), he...\n",
      "AntiKt4EMTopoJetsPhi | std::vector<float>       | AsJagged(AsDtype('>f4'), he...\n",
      "AntiKt4EMTopoJetsE   | std::vector<float>       | AsJagged(AsDtype('>f4'), he...\n",
      "AntiKt4LCTopoJetsPt  | std::vector<float>       | AsJagged(AsDtype('>f4'), he...\n",
      "AntiKt4LCTopoJetsEta | std::vector<float>       | AsJagged(AsDtype('>f4'), he...\n",
      "AntiKt4LCTopoJetsPhi | std::vector<float>       | AsJagged(AsDtype('>f4'), he...\n",
      "AntiKt4LCTopoJetsE   | std::vector<float>       | AsJagged(AsDtype('>f4'), he...\n",
      "AntiKt4TruthJetsPt   | std::vector<float>       | AsJagged(AsDtype('>f4'), he...\n",
      "AntiKt4TruthJetsEta  | std::vector<float>       | AsJagged(AsDtype('>f4'), he...\n",
      "AntiKt4TruthJetsPhi  | std::vector<float>       | AsJagged(AsDtype('>f4'), he...\n",
      "AntiKt4TruthJetsE    | std::vector<float>       | AsJagged(AsDtype('>f4'), he...\n",
      "AntiKt4TruthJetsF... | std::vector<int32_t>     | AsJagged(AsDtype('>i4'), he...\n",
      "nCluster             | int32_t                  | AsDtype('>i4')\n",
      "cluster_E            | std::vector<float>       | AsJagged(AsDtype('>f4'), he...\n",
      "cluster_E_LCCalib    | std::vector<float>       | AsJagged(AsDtype('>f4'), he...\n",
      "cluster_Pt           | std::vector<float>       | AsJagged(AsDtype('>f4'), he...\n",
      "cluster_Eta          | std::vector<float>       | AsJagged(AsDtype('>f4'), he...\n",
      "cluster_Phi          | std::vector<float>       | AsJagged(AsDtype('>f4'), he...\n",
      "cluster_nCells       | std::vector<int32_t>     | AsJagged(AsDtype('>i4'), he...\n",
      "cluster_ENG_CALIB... | std::vector<float>       | AsJagged(AsDtype('>f4'), he...\n",
      "cluster_ENG_CALIB... | std::vector<float>       | AsJagged(AsDtype('>f4'), he...\n",
      "cluster_ENG_CALIB... | std::vector<float>       | AsJagged(AsDtype('>f4'), he...\n",
      "cluster_EM_PROBAB... | std::vector<float>       | AsJagged(AsDtype('>f4'), he...\n",
      "cluster_HAD_WEIGHT   | std::vector<float>       | AsJagged(AsDtype('>f4'), he...\n",
      "cluster_OOC_WEIGHT   | std::vector<float>       | AsJagged(AsDtype('>f4'), he...\n",
      "cluster_DM_WEIGHT    | std::vector<float>       | AsJagged(AsDtype('>f4'), he...\n",
      "cluster_CENTER_MAG   | std::vector<float>       | AsJagged(AsDtype('>f4'), he...\n",
      "cluster_FIRST_ENG... | std::vector<float>       | AsJagged(AsDtype('>f4'), he...\n",
      "cluster_CENTER_LA... | std::vector<float>       | AsJagged(AsDtype('>f4'), he...\n",
      "cluster_ISOLATION    | std::vector<float>       | AsJagged(AsDtype('>f4'), he...\n",
      "cluster_ENERGY_Di... | std::vector<float>       | AsJagged(AsDtype('>f4'), he...\n",
      "cluster_cell_ID      | std::vector<std::vect... | AsObjects(AsVector(True, As...\n",
      "cluster_cell_E       | std::vector<std::vect... | AsObjects(AsVector(True, As...\n",
      "cluster_hitsTruth... | std::vector<std::vect... | AsObjects(AsVector(True, As...\n",
      "cluster_hitsTruthE   | std::vector<std::vect... | AsObjects(AsVector(True, As...\n"
     ]
    }
   ],
   "source": [
    "tree.show()"
   ]
  },
  {
   "cell_type": "code",
   "execution_count": 6,
   "id": "86d2093f-5750-4fc5-b8c8-66c220c1bc93",
   "metadata": {},
   "outputs": [
    {
     "name": "stdout",
     "output_type": "stream",
     "text": [
      "Working on /fast_scratch/atlas_images/v01-45/delta_medium.root\n",
      "Loading data\n"
     ]
    },
    {
     "ename": "KeyboardInterrupt",
     "evalue": "",
     "output_type": "error",
     "traceback": [
      "\u001b[0;31m---------------------------------------------------------------------------\u001b[0m",
      "\u001b[0;31mKeyboardInterrupt\u001b[0m                         Traceback (most recent call last)",
      "\u001b[0;32m/tmp/ipykernel_26541/4040497756.py\u001b[0m in \u001b[0;36m<module>\u001b[0;34m\u001b[0m\n\u001b[0;32m----> 1\u001b[0;31m \u001b[0;32mimport\u001b[0m \u001b[0mconvert_sets_delta\u001b[0m \u001b[0;31m#okay so this doesn't line up, why?\u001b[0m\u001b[0;34m\u001b[0m\u001b[0;34m\u001b[0m\u001b[0m\n\u001b[0m",
      "\u001b[0;32m~/start_tf/LCStudies/classifier/convert_sets_delta.py\u001b[0m in \u001b[0;36m<module>\u001b[0;34m\u001b[0m\n\u001b[1;32m     79\u001b[0m \u001b[0;34m\u001b[0m\u001b[0m\n\u001b[1;32m     80\u001b[0m \u001b[0;32mfor\u001b[0m \u001b[0mrho_file\u001b[0m \u001b[0;32min\u001b[0m \u001b[0mrho_list\u001b[0m\u001b[0;34m:\u001b[0m\u001b[0;34m\u001b[0m\u001b[0;34m\u001b[0m\u001b[0m\n\u001b[0;32m---> 81\u001b[0;31m     \u001b[0mconvertFile\u001b[0m\u001b[0;34m(\u001b[0m\u001b[0mrho_file\u001b[0m\u001b[0;34m)\u001b[0m\u001b[0;34m\u001b[0m\u001b[0;34m\u001b[0m\u001b[0m\n\u001b[0m\u001b[1;32m     82\u001b[0m \u001b[0;34m\u001b[0m\u001b[0m\n\u001b[1;32m     83\u001b[0m \u001b[0;34m\u001b[0m\u001b[0m\n",
      "\u001b[0;32m~/start_tf/LCStudies/classifier/convert_sets_delta.py\u001b[0m in \u001b[0;36mconvertFile\u001b[0;34m(filename)\u001b[0m\n\u001b[1;32m     31\u001b[0m     \u001b[0mcell_e\u001b[0m  \u001b[0;34m=\u001b[0m \u001b[0mgu\u001b[0m\u001b[0;34m.\u001b[0m\u001b[0mloadArrayBranchFlat\u001b[0m\u001b[0;34m(\u001b[0m\u001b[0;34m'cluster_cell_E'\u001b[0m\u001b[0;34m,\u001b[0m \u001b[0mtree\u001b[0m\u001b[0;34m,\u001b[0m \u001b[0;36m2000\u001b[0m\u001b[0;34m)\u001b[0m\u001b[0;34m\u001b[0m\u001b[0;34m\u001b[0m\u001b[0m\n\u001b[1;32m     32\u001b[0m \u001b[0;34m\u001b[0m\u001b[0m\n\u001b[0;32m---> 33\u001b[0;31m     \u001b[0mcell_eta\u001b[0m  \u001b[0;34m=\u001b[0m \u001b[0mgu\u001b[0m\u001b[0;34m.\u001b[0m\u001b[0mconvertIDToGeo\u001b[0m\u001b[0;34m(\u001b[0m\u001b[0mcell_id\u001b[0m\u001b[0;34m,\u001b[0m \u001b[0;34m'cell_geo_eta'\u001b[0m\u001b[0;34m,\u001b[0m \u001b[0mgeo_dict\u001b[0m\u001b[0;34m)\u001b[0m\u001b[0;34m\u001b[0m\u001b[0;34m\u001b[0m\u001b[0m\n\u001b[0m\u001b[1;32m     34\u001b[0m     \u001b[0mcell_phi\u001b[0m  \u001b[0;34m=\u001b[0m \u001b[0mgu\u001b[0m\u001b[0;34m.\u001b[0m\u001b[0mconvertIDToGeo\u001b[0m\u001b[0;34m(\u001b[0m\u001b[0mcell_id\u001b[0m\u001b[0;34m,\u001b[0m \u001b[0;34m'cell_geo_phi'\u001b[0m\u001b[0;34m,\u001b[0m \u001b[0mgeo_dict\u001b[0m\u001b[0;34m)\u001b[0m\u001b[0;34m\u001b[0m\u001b[0;34m\u001b[0m\u001b[0m\n\u001b[1;32m     35\u001b[0m     \u001b[0mcell_samp\u001b[0m \u001b[0;34m=\u001b[0m \u001b[0mgu\u001b[0m\u001b[0;34m.\u001b[0m\u001b[0mconvertIDToGeo\u001b[0m\u001b[0;34m(\u001b[0m\u001b[0mcell_id\u001b[0m\u001b[0;34m,\u001b[0m \u001b[0;34m'cell_geo_sampling'\u001b[0m\u001b[0;34m,\u001b[0m \u001b[0mgeo_dict\u001b[0m\u001b[0;34m)\u001b[0m\u001b[0;34m\u001b[0m\u001b[0;34m\u001b[0m\u001b[0m\n",
      "\u001b[0;32m~/start_tf/LCStudies/classifier/graph_util.py\u001b[0m in \u001b[0;36mconvertIDToGeo\u001b[0;34m(cellID, geoString, globalDict)\u001b[0m\n\u001b[1;32m     66\u001b[0m \u001b[0;32mdef\u001b[0m \u001b[0mconvertIDToGeo\u001b[0m\u001b[0;34m(\u001b[0m\u001b[0mcellID\u001b[0m\u001b[0;34m,\u001b[0m \u001b[0mgeoString\u001b[0m\u001b[0;34m,\u001b[0m \u001b[0mglobalDict\u001b[0m\u001b[0;34m)\u001b[0m\u001b[0;34m:\u001b[0m\u001b[0;34m\u001b[0m\u001b[0;34m\u001b[0m\u001b[0m\n\u001b[1;32m     67\u001b[0m     \u001b[0;31m# MAGIC https://stackoverflow.com/questions/16992713/translate-every-element-in-numpy-array-according-to-key\u001b[0m\u001b[0;34m\u001b[0m\u001b[0;34m\u001b[0m\u001b[0;34m\u001b[0m\u001b[0m\n\u001b[0;32m---> 68\u001b[0;31m     \u001b[0;32mreturn\u001b[0m \u001b[0mnp\u001b[0m\u001b[0;34m.\u001b[0m\u001b[0mvectorize\u001b[0m\u001b[0;34m(\u001b[0m\u001b[0mglobalDict\u001b[0m\u001b[0;34m[\u001b[0m\u001b[0mgeoString\u001b[0m\u001b[0;34m]\u001b[0m\u001b[0;34m.\u001b[0m\u001b[0mget\u001b[0m\u001b[0;34m)\u001b[0m\u001b[0;34m(\u001b[0m\u001b[0mnp\u001b[0m\u001b[0;34m.\u001b[0m\u001b[0mnan_to_num\u001b[0m\u001b[0;34m(\u001b[0m\u001b[0mcellID\u001b[0m\u001b[0;34m)\u001b[0m\u001b[0;34m)\u001b[0m\u001b[0;34m\u001b[0m\u001b[0;34m\u001b[0m\u001b[0m\n\u001b[0m",
      "\u001b[0;32m/usr/local/lib/python3.8/dist-packages/numpy/lib/function_base.py\u001b[0m in \u001b[0;36m__call__\u001b[0;34m(self, *args, **kwargs)\u001b[0m\n\u001b[1;32m   2161\u001b[0m             \u001b[0mvargs\u001b[0m\u001b[0;34m.\u001b[0m\u001b[0mextend\u001b[0m\u001b[0;34m(\u001b[0m\u001b[0;34m[\u001b[0m\u001b[0mkwargs\u001b[0m\u001b[0;34m[\u001b[0m\u001b[0m_n\u001b[0m\u001b[0;34m]\u001b[0m \u001b[0;32mfor\u001b[0m \u001b[0m_n\u001b[0m \u001b[0;32min\u001b[0m \u001b[0mnames\u001b[0m\u001b[0;34m]\u001b[0m\u001b[0;34m)\u001b[0m\u001b[0;34m\u001b[0m\u001b[0;34m\u001b[0m\u001b[0m\n\u001b[1;32m   2162\u001b[0m \u001b[0;34m\u001b[0m\u001b[0m\n\u001b[0;32m-> 2163\u001b[0;31m         \u001b[0;32mreturn\u001b[0m \u001b[0mself\u001b[0m\u001b[0;34m.\u001b[0m\u001b[0m_vectorize_call\u001b[0m\u001b[0;34m(\u001b[0m\u001b[0mfunc\u001b[0m\u001b[0;34m=\u001b[0m\u001b[0mfunc\u001b[0m\u001b[0;34m,\u001b[0m \u001b[0margs\u001b[0m\u001b[0;34m=\u001b[0m\u001b[0mvargs\u001b[0m\u001b[0;34m)\u001b[0m\u001b[0;34m\u001b[0m\u001b[0;34m\u001b[0m\u001b[0m\n\u001b[0m\u001b[1;32m   2164\u001b[0m \u001b[0;34m\u001b[0m\u001b[0m\n\u001b[1;32m   2165\u001b[0m     \u001b[0;32mdef\u001b[0m \u001b[0m_get_ufunc_and_otypes\u001b[0m\u001b[0;34m(\u001b[0m\u001b[0mself\u001b[0m\u001b[0;34m,\u001b[0m \u001b[0mfunc\u001b[0m\u001b[0;34m,\u001b[0m \u001b[0margs\u001b[0m\u001b[0;34m)\u001b[0m\u001b[0;34m:\u001b[0m\u001b[0;34m\u001b[0m\u001b[0;34m\u001b[0m\u001b[0m\n",
      "\u001b[0;32m/usr/local/lib/python3.8/dist-packages/numpy/lib/function_base.py\u001b[0m in \u001b[0;36m_vectorize_call\u001b[0;34m(self, func, args)\u001b[0m\n\u001b[1;32m   2247\u001b[0m \u001b[0;34m\u001b[0m\u001b[0m\n\u001b[1;32m   2248\u001b[0m             \u001b[0;32mif\u001b[0m \u001b[0mufunc\u001b[0m\u001b[0;34m.\u001b[0m\u001b[0mnout\u001b[0m \u001b[0;34m==\u001b[0m \u001b[0;36m1\u001b[0m\u001b[0;34m:\u001b[0m\u001b[0;34m\u001b[0m\u001b[0;34m\u001b[0m\u001b[0m\n\u001b[0;32m-> 2249\u001b[0;31m                 \u001b[0mres\u001b[0m \u001b[0;34m=\u001b[0m \u001b[0masanyarray\u001b[0m\u001b[0;34m(\u001b[0m\u001b[0moutputs\u001b[0m\u001b[0;34m,\u001b[0m \u001b[0mdtype\u001b[0m\u001b[0;34m=\u001b[0m\u001b[0motypes\u001b[0m\u001b[0;34m[\u001b[0m\u001b[0;36m0\u001b[0m\u001b[0;34m]\u001b[0m\u001b[0;34m)\u001b[0m\u001b[0;34m\u001b[0m\u001b[0;34m\u001b[0m\u001b[0m\n\u001b[0m\u001b[1;32m   2250\u001b[0m             \u001b[0;32melse\u001b[0m\u001b[0;34m:\u001b[0m\u001b[0;34m\u001b[0m\u001b[0;34m\u001b[0m\u001b[0m\n\u001b[1;32m   2251\u001b[0m                 res = tuple([asanyarray(x, dtype=t)\n",
      "\u001b[0;31mKeyboardInterrupt\u001b[0m: "
     ]
    }
   ],
   "source": [
    "import convert_sets_delta #okay so this doesn't line up, why?"
   ]
  },
  {
   "cell_type": "code",
   "execution_count": 5,
   "id": "33b4ab8c-90c3-490e-b3cd-7dea99906198",
   "metadata": {},
   "outputs": [],
   "source": [
    "clus_E = tree.arrays('cluster_E')\n",
    "truth_ID = tree.arrays('truthPartPdgId')"
   ]
  },
  {
   "cell_type": "code",
   "execution_count": 6,
   "id": "f6a07c7d-c1e1-4fbc-9008-4fa96227b70e",
   "metadata": {},
   "outputs": [
    {
     "data": {
      "text/plain": [
       "200000"
      ]
     },
     "execution_count": 6,
     "metadata": {},
     "output_type": "execute_result"
    }
   ],
   "source": [
    "len(clus_E)"
   ]
  },
  {
   "cell_type": "code",
   "execution_count": 7,
   "id": "c3c5417b-e9af-40b2-8663-0b6bd930a44c",
   "metadata": {},
   "outputs": [
    {
     "data": {
      "text/plain": [
       "200000"
      ]
     },
     "execution_count": 7,
     "metadata": {},
     "output_type": "execute_result"
    }
   ],
   "source": [
    "len(truth_ID)"
   ]
  },
  {
   "cell_type": "code",
   "execution_count": 8,
   "id": "0c4d5d5f-0d0e-441c-a76f-ee34745584db",
   "metadata": {},
   "outputs": [],
   "source": [
    "clus_e = gu.loadVectorBranchFlat('cluster_E', tree)"
   ]
  },
  {
   "cell_type": "code",
   "execution_count": 9,
   "id": "5fc70296-71ee-49a6-8140-2f2cd6fa9a5d",
   "metadata": {},
   "outputs": [
    {
     "data": {
      "text/plain": [
       "740871"
      ]
     },
     "execution_count": 9,
     "metadata": {},
     "output_type": "execute_result"
    }
   ],
   "source": [
    "len(clus_e)"
   ]
  },
  {
   "cell_type": "code",
   "execution_count": 10,
   "id": "24547b01-6d95-488a-92e9-2e746fb29a45",
   "metadata": {},
   "outputs": [],
   "source": [
    "truid = gu.loadVectorBranchFlat('truthPartPdgId', tree)"
   ]
  },
  {
   "cell_type": "code",
   "execution_count": 11,
   "id": "c94ebfd0-a406-4f86-a128-fc5850eb75c7",
   "metadata": {},
   "outputs": [
    {
     "data": {
      "text/plain": [
       "751874"
      ]
     },
     "execution_count": 11,
     "metadata": {},
     "output_type": "execute_result"
    }
   ],
   "source": [
    "len(truid)"
   ]
  },
  {
   "cell_type": "code",
   "execution_count": 12,
   "id": "51f2ea9c-8643-4e38-985c-b1ad663ca179",
   "metadata": {},
   "outputs": [
    {
     "name": "stdout",
     "output_type": "stream",
     "text": [
      "[2114 2112  111 ... 2224 2212  211]\n"
     ]
    }
   ],
   "source": [
    "#okay so its because they're being flattened and are different lengths... \n",
    "print(truid)"
   ]
  },
  {
   "cell_type": "code",
   "execution_count": 13,
   "id": "d4ff44e4-3ba8-4244-b338-c67755746899",
   "metadata": {},
   "outputs": [
    {
     "name": "stdout",
     "output_type": "stream",
     "text": [
      "[2.0940566  0.79894364 0.5638675  ... 0.63663745 0.3209459  1.641062  ]\n"
     ]
    }
   ],
   "source": [
    "print(clus_e)"
   ]
  },
  {
   "cell_type": "code",
   "execution_count": 14,
   "id": "e14bca50-dcf4-4a41-9d97-7394489f64d7",
   "metadata": {},
   "outputs": [],
   "source": [
    "truthe = tree.arrays('truthPartE')"
   ]
  },
  {
   "cell_type": "code",
   "execution_count": 15,
   "id": "34633fb4-bb6e-478c-9ba6-fa1fc93d2e46",
   "metadata": {},
   "outputs": [
    {
     "data": {
      "text/plain": [
       "200000"
      ]
     },
     "execution_count": 15,
     "metadata": {},
     "output_type": "execute_result"
    }
   ],
   "source": [
    "len(truthe)"
   ]
  },
  {
   "cell_type": "code",
   "execution_count": 16,
   "id": "d3b3cf4f-3bda-4626-9fe6-bfc79acafa03",
   "metadata": {},
   "outputs": [],
   "source": [
    "trueflat = gu.loadVectorBranchFlat('truthPartE', tree)"
   ]
  },
  {
   "cell_type": "code",
   "execution_count": 17,
   "id": "fd89d50c-f482-4904-8a3c-84d0fc5d99c6",
   "metadata": {},
   "outputs": [
    {
     "data": {
      "text/plain": [
       "751874"
      ]
     },
     "execution_count": 17,
     "metadata": {},
     "output_type": "execute_result"
    }
   ],
   "source": [
    "len(trueflat)"
   ]
  },
  {
   "cell_type": "code",
   "execution_count": 18,
   "id": "d07e4527-ec94-40a1-ad02-fee52a3f5009",
   "metadata": {},
   "outputs": [
    {
     "ename": "ValueError",
     "evalue": "in ListOffsetArray64, cannot convert to RegularArray because subarray lengths are not regular\n\n(https://github.com/scikit-hep/awkward-1.0/blob/1.4.0/src/cpu-kernels/awkward_ListOffsetArray_toRegularArray.cpp#L22)",
     "output_type": "error",
     "traceback": [
      "\u001b[0;31m---------------------------------------------------------------------------\u001b[0m",
      "\u001b[0;31mValueError\u001b[0m                                Traceback (most recent call last)",
      "\u001b[0;32m/tmp/ipykernel_51992/3441246977.py\u001b[0m in \u001b[0;36m<module>\u001b[0;34m\u001b[0m\n\u001b[0;32m----> 1\u001b[0;31m \u001b[0mclusID\u001b[0m \u001b[0;34m=\u001b[0m \u001b[0mgu\u001b[0m\u001b[0;34m.\u001b[0m\u001b[0mloadVectorBranchFlat\u001b[0m\u001b[0;34m(\u001b[0m\u001b[0;34m'cluster_cell_ID'\u001b[0m\u001b[0;34m,\u001b[0m \u001b[0mtree\u001b[0m\u001b[0;34m)\u001b[0m\u001b[0;34m\u001b[0m\u001b[0;34m\u001b[0m\u001b[0m\n\u001b[0m",
      "\u001b[0;32m~/start_tf/LCStudies/classifier/graph_util.py\u001b[0m in \u001b[0;36mloadVectorBranchFlat\u001b[0;34m(branchName, tree)\u001b[0m\n\u001b[1;32m      5\u001b[0m \u001b[0;34m\u001b[0m\u001b[0m\n\u001b[1;32m      6\u001b[0m \u001b[0;32mdef\u001b[0m \u001b[0mloadVectorBranchFlat\u001b[0m\u001b[0;34m(\u001b[0m\u001b[0mbranchName\u001b[0m\u001b[0;34m,\u001b[0m \u001b[0mtree\u001b[0m\u001b[0;34m)\u001b[0m\u001b[0;34m:\u001b[0m\u001b[0;34m\u001b[0m\u001b[0;34m\u001b[0m\u001b[0m\n\u001b[0;32m----> 7\u001b[0;31m     \u001b[0;32mreturn\u001b[0m \u001b[0mnp\u001b[0m\u001b[0;34m.\u001b[0m\u001b[0mcopy\u001b[0m\u001b[0;34m(\u001b[0m\u001b[0mak\u001b[0m\u001b[0;34m.\u001b[0m\u001b[0mflatten\u001b[0m\u001b[0;34m(\u001b[0m\u001b[0mtree\u001b[0m\u001b[0;34m[\u001b[0m\u001b[0mbranchName\u001b[0m\u001b[0;34m]\u001b[0m\u001b[0;34m.\u001b[0m\u001b[0marray\u001b[0m\u001b[0;34m(\u001b[0m\u001b[0;34m)\u001b[0m\u001b[0;34m)\u001b[0m\u001b[0;34m.\u001b[0m\u001b[0mto_numpy\u001b[0m\u001b[0;34m(\u001b[0m\u001b[0;34m)\u001b[0m\u001b[0;34m)\u001b[0m\u001b[0;34m\u001b[0m\u001b[0;34m\u001b[0m\u001b[0m\n\u001b[0m\u001b[1;32m      8\u001b[0m \u001b[0;34m\u001b[0m\u001b[0m\n\u001b[1;32m      9\u001b[0m \u001b[0;31m#given a branchname, a tree from uproot, and a padLength...\u001b[0m\u001b[0;34m\u001b[0m\u001b[0;34m\u001b[0m\u001b[0;34m\u001b[0m\u001b[0m\n",
      "\u001b[0;32m/usr/local/lib/python3.8/dist-packages/awkward/highlevel.py\u001b[0m in \u001b[0;36mto_numpy\u001b[0;34m(self, allow_missing)\u001b[0m\n\u001b[1;32m    467\u001b[0m         \u001b[0mConverts\u001b[0m \u001b[0mthis\u001b[0m \u001b[0mArray\u001b[0m \u001b[0minto\u001b[0m \u001b[0ma\u001b[0m \u001b[0mNumPy\u001b[0m \u001b[0marray\u001b[0m\u001b[0;34m,\u001b[0m \u001b[0;32mif\u001b[0m \u001b[0mpossible\u001b[0m\u001b[0;34m;\u001b[0m \u001b[0msame\u001b[0m \u001b[0;32mas\u001b[0m \u001b[0;31m#ak.to_numpy.\u001b[0m\u001b[0;34m\u001b[0m\u001b[0;34m\u001b[0m\u001b[0m\n\u001b[1;32m    468\u001b[0m         \"\"\"\n\u001b[0;32m--> 469\u001b[0;31m         \u001b[0;32mreturn\u001b[0m \u001b[0mak\u001b[0m\u001b[0;34m.\u001b[0m\u001b[0moperations\u001b[0m\u001b[0;34m.\u001b[0m\u001b[0mconvert\u001b[0m\u001b[0;34m.\u001b[0m\u001b[0mto_numpy\u001b[0m\u001b[0;34m(\u001b[0m\u001b[0mself\u001b[0m\u001b[0;34m,\u001b[0m \u001b[0mallow_missing\u001b[0m\u001b[0;34m=\u001b[0m\u001b[0mallow_missing\u001b[0m\u001b[0;34m)\u001b[0m\u001b[0;34m\u001b[0m\u001b[0;34m\u001b[0m\u001b[0m\n\u001b[0m\u001b[1;32m    470\u001b[0m \u001b[0;34m\u001b[0m\u001b[0m\n\u001b[1;32m    471\u001b[0m     \u001b[0;34m@\u001b[0m\u001b[0mproperty\u001b[0m\u001b[0;34m\u001b[0m\u001b[0;34m\u001b[0m\u001b[0m\n",
      "\u001b[0;32m/usr/local/lib/python3.8/dist-packages/awkward/operations/convert.py\u001b[0m in \u001b[0;36mto_numpy\u001b[0;34m(array, allow_missing)\u001b[0m\n\u001b[1;32m    202\u001b[0m \u001b[0;34m\u001b[0m\u001b[0m\n\u001b[1;32m    203\u001b[0m     \u001b[0;32melif\u001b[0m \u001b[0misinstance\u001b[0m\u001b[0;34m(\u001b[0m\u001b[0marray\u001b[0m\u001b[0;34m,\u001b[0m \u001b[0mak\u001b[0m\u001b[0;34m.\u001b[0m\u001b[0mhighlevel\u001b[0m\u001b[0;34m.\u001b[0m\u001b[0mArray\u001b[0m\u001b[0;34m)\u001b[0m\u001b[0;34m:\u001b[0m\u001b[0;34m\u001b[0m\u001b[0;34m\u001b[0m\u001b[0m\n\u001b[0;32m--> 204\u001b[0;31m         \u001b[0;32mreturn\u001b[0m \u001b[0mto_numpy\u001b[0m\u001b[0;34m(\u001b[0m\u001b[0marray\u001b[0m\u001b[0;34m.\u001b[0m\u001b[0mlayout\u001b[0m\u001b[0;34m,\u001b[0m \u001b[0mallow_missing\u001b[0m\u001b[0;34m=\u001b[0m\u001b[0mallow_missing\u001b[0m\u001b[0;34m)\u001b[0m\u001b[0;34m\u001b[0m\u001b[0;34m\u001b[0m\u001b[0m\n\u001b[0m\u001b[1;32m    205\u001b[0m \u001b[0;34m\u001b[0m\u001b[0m\n\u001b[1;32m    206\u001b[0m     \u001b[0;32melif\u001b[0m \u001b[0misinstance\u001b[0m\u001b[0;34m(\u001b[0m\u001b[0marray\u001b[0m\u001b[0;34m,\u001b[0m \u001b[0mak\u001b[0m\u001b[0;34m.\u001b[0m\u001b[0mhighlevel\u001b[0m\u001b[0;34m.\u001b[0m\u001b[0mRecord\u001b[0m\u001b[0;34m)\u001b[0m\u001b[0;34m:\u001b[0m\u001b[0;34m\u001b[0m\u001b[0;34m\u001b[0m\u001b[0m\n",
      "\u001b[0;32m/usr/local/lib/python3.8/dist-packages/awkward/operations/convert.py\u001b[0m in \u001b[0;36mto_numpy\u001b[0;34m(array, allow_missing)\u001b[0m\n\u001b[1;32m    330\u001b[0m \u001b[0;34m\u001b[0m\u001b[0m\n\u001b[1;32m    331\u001b[0m     \u001b[0;32melif\u001b[0m \u001b[0misinstance\u001b[0m\u001b[0;34m(\u001b[0m\u001b[0marray\u001b[0m\u001b[0;34m,\u001b[0m \u001b[0mak\u001b[0m\u001b[0;34m.\u001b[0m\u001b[0m_util\u001b[0m\u001b[0;34m.\u001b[0m\u001b[0mlisttypes\u001b[0m\u001b[0;34m)\u001b[0m\u001b[0;34m:\u001b[0m\u001b[0;34m\u001b[0m\u001b[0;34m\u001b[0m\u001b[0m\n\u001b[0;32m--> 332\u001b[0;31m         \u001b[0;32mreturn\u001b[0m \u001b[0mto_numpy\u001b[0m\u001b[0;34m(\u001b[0m\u001b[0marray\u001b[0m\u001b[0;34m.\u001b[0m\u001b[0mtoRegularArray\u001b[0m\u001b[0;34m(\u001b[0m\u001b[0;34m)\u001b[0m\u001b[0;34m,\u001b[0m \u001b[0mallow_missing\u001b[0m\u001b[0;34m=\u001b[0m\u001b[0mallow_missing\u001b[0m\u001b[0;34m)\u001b[0m\u001b[0;34m\u001b[0m\u001b[0;34m\u001b[0m\u001b[0m\n\u001b[0m\u001b[1;32m    333\u001b[0m \u001b[0;34m\u001b[0m\u001b[0m\n\u001b[1;32m    334\u001b[0m     \u001b[0;32melif\u001b[0m \u001b[0misinstance\u001b[0m\u001b[0;34m(\u001b[0m\u001b[0marray\u001b[0m\u001b[0;34m,\u001b[0m \u001b[0mak\u001b[0m\u001b[0;34m.\u001b[0m\u001b[0m_util\u001b[0m\u001b[0;34m.\u001b[0m\u001b[0mrecordtypes\u001b[0m\u001b[0;34m)\u001b[0m\u001b[0;34m:\u001b[0m\u001b[0;34m\u001b[0m\u001b[0;34m\u001b[0m\u001b[0m\n",
      "\u001b[0;31mValueError\u001b[0m: in ListOffsetArray64, cannot convert to RegularArray because subarray lengths are not regular\n\n(https://github.com/scikit-hep/awkward-1.0/blob/1.4.0/src/cpu-kernels/awkward_ListOffsetArray_toRegularArray.cpp#L22)"
     ]
    }
   ],
   "source": [
    "clusID = gu.loadVectorBranchFlat('cluster_cell_ID', tree)"
   ]
  },
  {
   "cell_type": "code",
   "execution_count": null,
   "id": "dd4cc3a0-3c89-4d5b-ba86-20e6f30b1bcd",
   "metadata": {},
   "outputs": [],
   "source": [
    "clusID"
   ]
  },
  {
   "cell_type": "markdown",
   "id": "b28e3b67-45b7-4e8a-8a52-28403ec659f0",
   "metadata": {},
   "source": [
    "#### okay I think I see how to do it: make separate datasets for each???? so load it all up here with all the different branches I'll need, do the selection from the last notebook to separate all the types of deltas and apply it to each different branch that I need, then save those in separate files to call the convert sets on. Could even save them in the same file and have like a flag/indicator as to which delta each event is, so that I could run convert_sets on multiple different types of delta at once? okay yay"
   ]
  },
  {
   "cell_type": "code",
   "execution_count": 20,
   "id": "fb809a1e-caa6-4177-a4c6-4b826fa65ef5",
   "metadata": {},
   "outputs": [],
   "source": [
    "geotree = events['CellGeo']"
   ]
  },
  {
   "cell_type": "code",
   "execution_count": 21,
   "id": "27f35e54-6caf-411e-992c-42b86918d578",
   "metadata": {},
   "outputs": [
    {
     "name": "stdout",
     "output_type": "stream",
     "text": [
      "name                 | typename                 | interpretation                \n",
      "---------------------+--------------------------+-------------------------------\n",
      "cell_geo_ID          | std::vector<uint64_t>    | AsJagged(AsDtype('>u8'), he...\n",
      "cell_geo_sampling    | std::vector<uint16_t>    | AsJagged(AsDtype('>u2'), he...\n",
      "cell_geo_eta         | std::vector<float>       | AsJagged(AsDtype('>f4'), he...\n",
      "cell_geo_phi         | std::vector<float>       | AsJagged(AsDtype('>f4'), he...\n",
      "cell_geo_rPerp       | std::vector<float>       | AsJagged(AsDtype('>f4'), he...\n",
      "cell_geo_deta        | std::vector<float>       | AsJagged(AsDtype('>f4'), he...\n",
      "cell_geo_dphi        | std::vector<float>       | AsJagged(AsDtype('>f4'), he...\n",
      "cell_geo_volume      | std::vector<float>       | AsJagged(AsDtype('>f4'), he...\n",
      "cell_geo_sigma       | std::vector<float>       | AsJagged(AsDtype('>f4'), he...\n"
     ]
    }
   ],
   "source": [
    "geotree.show()"
   ]
  },
  {
   "cell_type": "code",
   "execution_count": 22,
   "id": "b9664950-5cee-4918-90e4-7d9b55322944",
   "metadata": {},
   "outputs": [],
   "source": [
    "cellgeoeta = geotree.arrays('cell_geo_eta')"
   ]
  },
  {
   "cell_type": "code",
   "execution_count": 23,
   "id": "fdc6bd6f-7c3d-4884-a82e-3af7a8951dee",
   "metadata": {},
   "outputs": [
    {
     "data": {
      "text/plain": [
       "10"
      ]
     },
     "execution_count": 23,
     "metadata": {},
     "output_type": "execute_result"
    }
   ],
   "source": [
    "len(cellgeoeta)"
   ]
  },
  {
   "cell_type": "markdown",
   "id": "3f5447b8-5d81-4d5b-9d06-231b39d24f51",
   "metadata": {},
   "source": [
    "Okay so that confirms I don't have to mess with this stuff; recall this is all just its own thing, and it applies to any event, and is not event-specific, it just remains true for all events, it just describes the detector. okay."
   ]
  },
  {
   "cell_type": "code",
   "execution_count": 24,
   "id": "aa6a2d71-57c5-4935-8a5c-590458c69023",
   "metadata": {},
   "outputs": [],
   "source": [
    "rb = ['cluster_cell_ID', 'cluster_cell_E', 'cluster_Phi', 'cluster_Eta', 'cluster_Pt', 'truthPartPdgId',\n",
    "               'cluster_E', 'cluster_ENG_CALIB_TOT'] #okay these are actually the only ones I need"
   ]
  },
  {
   "cell_type": "code",
   "execution_count": 25,
   "id": "48f3841a-801e-4d1d-bf6c-b913f7c127f5",
   "metadata": {},
   "outputs": [],
   "source": [
    "brnsh = tree.arrays(expressions=rb)"
   ]
  },
  {
   "cell_type": "code",
   "execution_count": 26,
   "id": "15d95f4f-9ac2-41d9-ad15-8974490be554",
   "metadata": {},
   "outputs": [],
   "source": [
    "#load up all the data we need\n",
    "clus_cell_id = tree.arrays('cluster_cell_ID')\n",
    "clus_cell_E = tree.arrays(rb[1])\n",
    "clus_phi = tree.arrays(rb[2])\n",
    "clus_eta = tree.arrays(rb[3])\n",
    "clus_pt = tree.arrays(rb[4])\n",
    "tru_id = tree.arrays(rb[5])\n",
    "clus_E = tree.arrays(rb[6])\n",
    "#I dont think I need calib?"
   ]
  },
  {
   "cell_type": "code",
   "execution_count": 27,
   "id": "124018d6-b37e-4600-b577-24ea124ee420",
   "metadata": {},
   "outputs": [],
   "source": [
    "tru_id = tree.arrays(expressions=rb[5])"
   ]
  },
  {
   "cell_type": "code",
   "execution_count": 28,
   "id": "b5970595-ae42-4d83-bd8e-72be9a1a843e",
   "metadata": {},
   "outputs": [],
   "source": [
    "#load up all data we need\n",
    "tru_id = brnsh.truthPartPdgId\n",
    "clus_cell_id = brnsh.cluster_cell_ID\n",
    "clus_cell_E = brnsh.cluster_cell_E\n",
    "clus_phi = brnsh.cluster_Phi\n",
    "clus_eta = brnsh.cluster_Eta\n",
    "clus_pt = brnsh.cluster_Pt\n",
    "clus_E = brnsh.cluster_E"
   ]
  },
  {
   "cell_type": "code",
   "execution_count": 29,
   "id": "6e0c4ed7-7b5f-4953-99d7-18d2ef624d39",
   "metadata": {},
   "outputs": [
    {
     "data": {
      "text/plain": [
       "(<Array [{truthPartPdgId: [2114, ... 211]}] type='200000 * {\"truthPartPdgId\": var...'>,\n",
       " <Array [[2114, 2112, 111, ... 2224, 2212, 211]] type='200000 * var * int32'>)"
      ]
     },
     "execution_count": 29,
     "metadata": {},
     "output_type": "execute_result"
    }
   ],
   "source": [
    "truth_ID, tru_id"
   ]
  },
  {
   "cell_type": "code",
   "execution_count": 30,
   "id": "23ceb094-f582-4b66-9384-ab58d0a2b49a",
   "metadata": {},
   "outputs": [
    {
     "data": {
      "text/plain": [
       "200000"
      ]
     },
     "execution_count": 30,
     "metadata": {},
     "output_type": "execute_result"
    }
   ],
   "source": [
    "len(tru_id)"
   ]
  },
  {
   "cell_type": "code",
   "execution_count": 31,
   "id": "28ae47f3-8264-4fdf-a11c-bbc45dcf4c3b",
   "metadata": {},
   "outputs": [
    {
     "data": {
      "text/plain": [
       "array([2114, 2112,  111,   22,   22], dtype=int32)"
      ]
     },
     "execution_count": 31,
     "metadata": {},
     "output_type": "execute_result"
    }
   ],
   "source": [
    "np.array(tru_id[0])"
   ]
  },
  {
   "cell_type": "code",
   "execution_count": 32,
   "id": "24ebc317-17bd-4e8e-84b1-60a68159ca56",
   "metadata": {},
   "outputs": [],
   "source": [
    "#sort into particle types\n",
    "ID1114 = []\n",
    "cci1114 = []\n",
    "ccE1114 = []\n",
    "cph1114 = []\n",
    "cet1114 = []\n",
    "cpt1114 = []\n",
    "cE1114 = []\n",
    "ind1114 = []\n",
    "\n",
    "IDn2214 = []\n",
    "ccin2214 = []\n",
    "ccEn2214 = []\n",
    "cphn2214 = []\n",
    "cetn2214 = []\n",
    "cptn2214 = []\n",
    "cEn2214 = []\n",
    "indn2214 = []\n",
    "\n",
    "IDn2114 = []\n",
    "ccin2114 = []\n",
    "ccEn2114 = []\n",
    "cphn2114 = []\n",
    "cetn2114 = []\n",
    "cptn2114 = []\n",
    "cEn2114 = []\n",
    "indn2114 = []\n",
    "\n",
    "IDn2224 = []\n",
    "ccin2224 = []\n",
    "ccEn2224 = []\n",
    "cphn2224 = []\n",
    "cetn2224 = []\n",
    "cptn2224 = []\n",
    "cEn2224 = []\n",
    "indn2224 = []\n",
    "\n",
    "ID2214 = []\n",
    "cci2214 = []\n",
    "ccE2214 = []\n",
    "cph2214 = []\n",
    "cet2214 = []\n",
    "cpt2214 = []\n",
    "cE2214 = []\n",
    "ind2214 = []\n",
    "\n",
    "ID2224 = []\n",
    "cci2224 = []\n",
    "ccE2224 = []\n",
    "cph2224 = []\n",
    "cet2224 = []\n",
    "cpt2224 = []\n",
    "cE2224 = []\n",
    "ind2224 = []\n",
    "\n",
    "IDn1114 = []\n",
    "ccin1114 = []\n",
    "ccEn1114 = []\n",
    "cphn1114 = []\n",
    "cetn1114 = []\n",
    "cptn1114 = []\n",
    "cEn1114 = []\n",
    "indn1114 = []\n",
    "\n",
    "ID2114 = []\n",
    "cci2114 = []\n",
    "ccE2114 = []\n",
    "cph2114 = []\n",
    "cet2114 = []\n",
    "cpt2114 = []\n",
    "cE2114 = []\n",
    "ind2114 = []\n",
    "\n",
    "for i in range(len(tru_id)):\n",
    "    \n",
    "    if (-2114 in tru_id[i]): \n",
    "        IDn2114.append(tru_id[i])\n",
    "        ccin2114.append(clus_cell_id[i])\n",
    "        ccEn2114.append(clus_cell_E[i])\n",
    "        cphn2114.append(clus_phi[i])\n",
    "        cetn2114.append(clus_eta[i])\n",
    "        cptn2114.append(clus_pt[i])\n",
    "        cEn2114.append(clus_E[i])\n",
    "        indn2114.append(i)\n",
    "\n",
    "    elif (-2224 in tru_id[i]):\n",
    "        IDn2224.append(tru_id[i])\n",
    "        ccin2224.append(clus_cell_id[i])\n",
    "        ccEn2224.append(clus_cell_E[i])\n",
    "        cphn2224.append(clus_phi[i])\n",
    "        cetn2224.append(clus_eta[i])\n",
    "        cptn2224.append(clus_pt[i])\n",
    "        cEn2224.append(clus_E[i])\n",
    "        indn2224.append(i)\n",
    "        \n",
    "    elif (2214 in tru_id[i]): \n",
    "        ID2214.append(tru_id[i])\n",
    "        cci2214.append(clus_cell_id[i])\n",
    "        ccE2214.append(clus_cell_E[i])\n",
    "        cph2214.append(clus_phi[i])\n",
    "        cet2214.append(clus_eta[i])\n",
    "        cpt2214.append(clus_pt[i])\n",
    "        cE2214.append(clus_E[i])\n",
    "        ind2214.append(i)\n",
    "        \n",
    "    elif (2224 in tru_id[i]):\n",
    "        ID2224.append(tru_id[i])\n",
    "        cci2224.append(clus_cell_id[i])\n",
    "        ccE2224.append(clus_cell_E[i])\n",
    "        cph2224.append(clus_phi[i])\n",
    "        cet2224.append(clus_eta[i])\n",
    "        cpt2224.append(clus_pt[i])\n",
    "        cE2224.append(clus_E[i])\n",
    "        ind2224.append(i)\n",
    "        \n",
    "    elif (-1114 in tru_id[i]): \n",
    "        IDn1114.append(tru_id[i])\n",
    "        ccin1114.append(clus_cell_id[i])\n",
    "        ccEn1114.append(clus_cell_E[i])\n",
    "        cphn1114.append(clus_phi[i])\n",
    "        cetn1114.append(clus_eta[i])\n",
    "        cptn1114.append(clus_pt[i])\n",
    "        cEn1114.append(clus_E[i])\n",
    "        indn1114.append(i)\n",
    "        \n",
    "    elif (2114 in tru_id[i]):\n",
    "        ID2114.append(tru_id[i])\n",
    "        cci2114.append(clus_cell_id[i])\n",
    "        ccE2114.append(clus_cell_E[i])\n",
    "        cph2114.append(clus_phi[i])\n",
    "        cet2114.append(clus_eta[i])\n",
    "        cpt2114.append(clus_pt[i])\n",
    "        cE2114.append(clus_E[i])\n",
    "        ind2114.append(i)\n",
    "        \n",
    "    elif (1114 in tru_id[i]): \n",
    "        ID1114.append(tru_id[i])\n",
    "        cci1114.append(clus_cell_id[i])\n",
    "        ccE1114.append(clus_cell_E[i])\n",
    "        cph1114.append(clus_phi[i])\n",
    "        cet1114.append(clus_eta[i])\n",
    "        cpt1114.append(clus_pt[i])\n",
    "        cE1114.append(clus_E[i])\n",
    "        ind1114.append(i)\n",
    "        \n",
    "    elif (-2214 in tru_id[i]):\n",
    "        IDn2214.append(tru_id[i])\n",
    "        ccin2214.append(clus_cell_id[i])\n",
    "        ccEn2214.append(clus_cell_E[i])\n",
    "        cphn2214.append(clus_phi[i])\n",
    "        cetn2214.append(clus_eta[i])\n",
    "        cptn2214.append(clus_pt[i])\n",
    "        cEn2214.append(clus_E[i])\n",
    "        indn2214.append(i)"
   ]
  },
  {
   "cell_type": "code",
   "execution_count": 33,
   "id": "b607af31-df02-4c82-be6b-cf77ef170013",
   "metadata": {},
   "outputs": [],
   "source": [
    "# I don't think I can just make a root file..... so this goes into the delta conv_sets I guess"
   ]
  },
  {
   "cell_type": "code",
   "execution_count": 34,
   "id": "9f42c536-fd68-4f6c-b23f-cd1862a788ea",
   "metadata": {},
   "outputs": [
    {
     "data": {
      "text/plain": [
       "(751874, 740871)"
      ]
     },
     "execution_count": 34,
     "metadata": {},
     "output_type": "execute_result"
    }
   ],
   "source": [
    "len(np.array(ak.flatten(tru_id))), len(np.array(ak.flatten(clus_eta)))"
   ]
  },
  {
   "cell_type": "code",
   "execution_count": 35,
   "id": "67e39b53-50fe-4f91-a27b-b7866e1022ff",
   "metadata": {},
   "outputs": [
    {
     "data": {
      "text/plain": [
       "(200000, 200000)"
      ]
     },
     "execution_count": 35,
     "metadata": {},
     "output_type": "execute_result"
    }
   ],
   "source": [
    "len(tru_id), len(clus_eta) #so the selection needs to happen here"
   ]
  },
  {
   "cell_type": "code",
   "execution_count": 36,
   "id": "4fa3f2a4-0ca2-4b0b-8ce7-08fb1b667558",
   "metadata": {},
   "outputs": [],
   "source": [
    "#do I make a flag that says what kind it is?????\n",
    "\n",
    "flag = np.zeros(len(tru_id))\n",
    "flag[indn2214] = -2214\n",
    "flag[ind2214] = 2214\n",
    "flag[ind1114] = 1114\n",
    "flag[indn1114] = -1114\n",
    "flag[ind2114] = 2114\n",
    "flag[indn2114] = -2114\n",
    "flag[ind2224] = 2224\n",
    "flag[indn2224] = -2224"
   ]
  },
  {
   "cell_type": "code",
   "execution_count": 37,
   "id": "1619e570-832d-4627-9903-df48e11d09ad",
   "metadata": {},
   "outputs": [
    {
     "data": {
      "text/plain": [
       "array([ 2114., -2224.,  2224., ..., -2114.,  2114.,  2224.])"
      ]
     },
     "execution_count": 37,
     "metadata": {},
     "output_type": "execute_result"
    }
   ],
   "source": [
    "flag"
   ]
  },
  {
   "cell_type": "code",
   "execution_count": 38,
   "id": "ec40a429-011f-4f57-8c4e-7b8d2e903cc4",
   "metadata": {},
   "outputs": [],
   "source": [
    "x = flag == 0"
   ]
  },
  {
   "cell_type": "code",
   "execution_count": 39,
   "id": "0490e1d5-4ad0-468e-a54c-67d495e7f9af",
   "metadata": {},
   "outputs": [
    {
     "data": {
      "text/plain": [
       "array([], dtype=float64)"
      ]
     },
     "execution_count": 39,
     "metadata": {},
     "output_type": "execute_result"
    }
   ],
   "source": [
    "flag[x] #okay so its all covered now"
   ]
  },
  {
   "cell_type": "code",
   "execution_count": 40,
   "id": "de1ab4d3-5451-40b6-89ec-f94abeebb505",
   "metadata": {},
   "outputs": [
    {
     "data": {
      "text/plain": [
       "200000"
      ]
     },
     "execution_count": 40,
     "metadata": {},
     "output_type": "execute_result"
    }
   ],
   "source": [
    "len(flag)"
   ]
  },
  {
   "cell_type": "code",
   "execution_count": 41,
   "id": "fd96e0b2-df98-4ae5-a0cb-25e246fc625e",
   "metadata": {},
   "outputs": [
    {
     "data": {
      "text/plain": [
       "200000"
      ]
     },
     "execution_count": 41,
     "metadata": {},
     "output_type": "execute_result"
    }
   ],
   "source": [
    "len(clus_eta)"
   ]
  },
  {
   "cell_type": "code",
   "execution_count": 42,
   "id": "fda118fc-5279-4901-9110-f0e387bff9e5",
   "metadata": {},
   "outputs": [
    {
     "data": {
      "text/plain": [
       "<Array [-1.92, -1.87] type='2 * float32'>"
      ]
     },
     "execution_count": 42,
     "metadata": {},
     "output_type": "execute_result"
    }
   ],
   "source": [
    "clus_eta[3]"
   ]
  },
  {
   "cell_type": "code",
   "execution_count": 43,
   "id": "4fdf2fc5-66c1-4648-b21d-a86ed0e73b79",
   "metadata": {},
   "outputs": [
    {
     "data": {
      "text/plain": [
       "array([2114., 2114., 2114.])"
      ]
     },
     "execution_count": 43,
     "metadata": {},
     "output_type": "execute_result"
    }
   ],
   "source": [
    "np.repeat(flag[0], 3)"
   ]
  },
  {
   "cell_type": "code",
   "execution_count": 44,
   "id": "b0da2b1b-3c51-44d2-b579-1ff9d9b3e4aa",
   "metadata": {},
   "outputs": [],
   "source": [
    "#this is really janky but here goes nothing:\n",
    "longflag = []\n",
    "for i in range(len(clus_eta)):\n",
    "    longflag.append(np.repeat(flag[i], len(clus_eta[i]))) #hopefuly that works lol"
   ]
  },
  {
   "cell_type": "code",
   "execution_count": 45,
   "id": "4c826067-6bb8-4706-9673-98e105c15d0d",
   "metadata": {},
   "outputs": [
    {
     "data": {
      "text/plain": [
       "(740871, 200000)"
      ]
     },
     "execution_count": 45,
     "metadata": {},
     "output_type": "execute_result"
    }
   ],
   "source": [
    "len(np.array(ak.flatten(clus_eta))), len(longflag)"
   ]
  },
  {
   "cell_type": "code",
   "execution_count": 46,
   "id": "89ddd3e0-6381-46f1-9c49-40dcf717c8c3",
   "metadata": {},
   "outputs": [
    {
     "data": {
      "text/plain": [
       "array([2224.])"
      ]
     },
     "execution_count": 46,
     "metadata": {},
     "output_type": "execute_result"
    }
   ],
   "source": [
    "longflag[i]"
   ]
  },
  {
   "cell_type": "code",
   "execution_count": 47,
   "id": "5fa6254c-40cb-4903-b991-af5445360be8",
   "metadata": {},
   "outputs": [
    {
     "name": "stderr",
     "output_type": "stream",
     "text": [
      "/tmp/ipykernel_51992/2564729344.py:1: VisibleDeprecationWarning: Creating an ndarray from ragged nested sequences (which is a list-or-tuple of lists-or-tuples-or ndarrays with different lengths or shapes) is deprecated. If you meant to do this, you must specify 'dtype=object' when creating the ndarray.\n",
      "  np.ndarray.flatten(np.array(longflag))\n"
     ]
    },
    {
     "data": {
      "text/plain": [
       "array([array([2114., 2114., 2114., 2114.]), array([-2224.]),\n",
       "       array([2224., 2224., 2224., 2224., 2224., 2224., 2224., 2224., 2224.,\n",
       "              2224., 2224., 2224., 2224., 2224., 2224., 2224., 2224., 2224.,\n",
       "              2224., 2224., 2224., 2224.])                                  ,\n",
       "       ..., array([-2114., -2114., -2114., -2114.]),\n",
       "       array([2114., 2114., 2114.]), array([2224.])], dtype=object)"
      ]
     },
     "execution_count": 47,
     "metadata": {},
     "output_type": "execute_result"
    }
   ],
   "source": [
    "np.ndarray.flatten(np.array(longflag))"
   ]
  },
  {
   "cell_type": "code",
   "execution_count": 48,
   "id": "e7e43d70-7aa6-4d2d-884c-c8c9684bbfd4",
   "metadata": {},
   "outputs": [],
   "source": [
    "#ACTUALLY who cares about longflag, but flag is good because its uselful to make a true/false with which to make a\n",
    "#mask of the 200000 length data at the beginning of the data processing. pass the 200000 mask to the loading \n",
    "#functions in gu!!! so close!!! so easy!!! ugh!!!"
   ]
  },
  {
   "cell_type": "code",
   "execution_count": 49,
   "id": "84592f43-9e17-43dd-a604-3e51765754cf",
   "metadata": {},
   "outputs": [],
   "source": [
    "# so to do it, pass it the mask; just run convsets.doit(mask) after loading up/selecting the mask using this:\n",
    "\n",
    "idbranch = tree.arrays('truthPartPdgId')\n",
    "truth_ID = idbranch.truthPartPdgId\n",
    "\n",
    "#just need to get the indices of each of them - I should probably just do this with like np.where or smtn but for now this works heheheh :(\n",
    "ID1114 = []\n",
    "IDn2214 = []    \n",
    "IDn2114 = []    \n",
    "IDn2224 = []   \n",
    "ID2214 = []\n",
    "ID2224 = []\n",
    "IDn1114 = []\n",
    "ID2114 = []\n",
    "for i in range(len(truth_ID)):\n",
    "    if (-2114 in tru_id[i]): \n",
    "        IDn2114.append(i)\n",
    "    elif (-2224 in tru_id[i]):\n",
    "        IDn2224.append(i)\n",
    "    elif (2214 in tru_id[i]): \n",
    "        ID2214.append(i)\n",
    "    elif (2224 in tru_id[i]):\n",
    "        ID2224.append(i)\n",
    "    elif (-1114 in tru_id[i]): \n",
    "        IDn1114.append(i)\n",
    "    elif (2114 in tru_id[i]):\n",
    "        ID2114.append(i)\n",
    "    elif (1114 in tru_id[i]): \n",
    "        ID1114.append(i)\n",
    "    elif (-2214 in tru_id[i]):\n",
    "        IDn2214.append(i)\n",
    "\n",
    "#this is literally still so janky but whatever\n",
    "flag = np.zeros(len(tru_id))\n",
    "flag[IDn2214] = -2214\n",
    "flag[ID2214] = 2214\n",
    "flag[ID1114] = 1114\n",
    "flag[IDn1114] = -1114\n",
    "flag[ID2114] = 2114\n",
    "flag[IDn2114] = -2114\n",
    "flag[ID2224] = 2224\n",
    "flag[IDn2224] = -2224"
   ]
  },
  {
   "cell_type": "code",
   "execution_count": 50,
   "id": "72dd56b8-bcaf-48a4-a01b-f8347e601dc6",
   "metadata": {},
   "outputs": [],
   "source": [
    "#then choose the mask from there: eg\n",
    "mask = (flag == 2214) | (flag == -2214) | (flag == 2114) | (flag == -2114)"
   ]
  },
  {
   "cell_type": "code",
   "execution_count": 51,
   "id": "6488cdd2-70bf-47b9-a3d0-ba07040948eb",
   "metadata": {},
   "outputs": [
    {
     "data": {
      "text/plain": [
       "array([False, False, False, ..., False, False, False])"
      ]
     },
     "execution_count": 51,
     "metadata": {},
     "output_type": "execute_result"
    }
   ],
   "source": [
    "flag == 2214 | -2214"
   ]
  },
  {
   "cell_type": "code",
   "execution_count": 52,
   "id": "6b6e6d85-0caf-4ee5-8608-3a60e97b2fec",
   "metadata": {},
   "outputs": [
    {
     "data": {
      "text/plain": [
       "array([ 2114., -2224.,  2224., ..., -2114.,  2114.,  2224.])"
      ]
     },
     "execution_count": 52,
     "metadata": {},
     "output_type": "execute_result"
    }
   ],
   "source": [
    "flag"
   ]
  },
  {
   "cell_type": "code",
   "execution_count": 1,
   "id": "f227531f-c871-4f66-99ce-6f3cf6f86ae0",
   "metadata": {},
   "outputs": [
    {
     "ename": "NameError",
     "evalue": "name 'longflag' is not defined",
     "output_type": "error",
     "traceback": [
      "\u001b[0;31m---------------------------------------------------------------------------\u001b[0m",
      "\u001b[0;31mNameError\u001b[0m                                 Traceback (most recent call last)",
      "\u001b[0;32m/tmp/ipykernel_14526/112137868.py\u001b[0m in \u001b[0;36m<module>\u001b[0;34m\u001b[0m\n\u001b[0;32m----> 1\u001b[0;31m \u001b[0mlongflag\u001b[0m\u001b[0;34m\u001b[0m\u001b[0;34m\u001b[0m\u001b[0m\n\u001b[0m",
      "\u001b[0;31mNameError\u001b[0m: name 'longflag' is not defined"
     ]
    }
   ],
   "source": [
    "longflag"
   ]
  },
  {
   "cell_type": "code",
   "execution_count": null,
   "id": "78e93d2a-3815-4fd9-a36e-a586dd518374",
   "metadata": {},
   "outputs": [],
   "source": []
  },
  {
   "cell_type": "code",
   "execution_count": null,
   "id": "c88911f2-163c-4d6d-88ed-8fea71963ffc",
   "metadata": {},
   "outputs": [],
   "source": []
  },
  {
   "cell_type": "code",
   "execution_count": null,
   "id": "ad6ad4d5-4eb5-4cdc-9054-43e644cb30c3",
   "metadata": {},
   "outputs": [],
   "source": []
  },
  {
   "cell_type": "code",
   "execution_count": null,
   "id": "4355208b-69f7-412e-9a8d-bfbf8d33c966",
   "metadata": {},
   "outputs": [],
   "source": []
  },
  {
   "cell_type": "code",
   "execution_count": null,
   "id": "cacf029e-569f-4e84-aa03-39b25a43eada",
   "metadata": {},
   "outputs": [],
   "source": []
  },
  {
   "cell_type": "code",
   "execution_count": 53,
   "id": "282462d0-cbf2-4c9d-a9cf-95c3ad67211a",
   "metadata": {},
   "outputs": [
    {
     "data": {
      "text/plain": [
       "array([ True, False, False, ...,  True,  True, False])"
      ]
     },
     "execution_count": 53,
     "metadata": {},
     "output_type": "execute_result"
    }
   ],
   "source": [
    "mask #okay cool I think this works then...!"
   ]
  },
  {
   "cell_type": "code",
   "execution_count": 54,
   "id": "df105e64-58db-46c6-93e9-dec3dd85cbf7",
   "metadata": {},
   "outputs": [],
   "source": [
    "import graph_util_splitdelta as gusd"
   ]
  },
  {
   "cell_type": "code",
   "execution_count": 55,
   "id": "a465c741-54db-4871-a652-f9ead1aabd4e",
   "metadata": {},
   "outputs": [],
   "source": [
    "cell_e  = gusd.loadArrayBranchFlat('cluster_cell_E', tree, 2000, mask)"
   ]
  },
  {
   "cell_type": "code",
   "execution_count": 56,
   "id": "0a86997e-052a-4af1-9d08-cea819d87cab",
   "metadata": {},
   "outputs": [
    {
     "data": {
      "text/plain": [
       "(200000, 100000, 100000)"
      ]
     },
     "execution_count": 56,
     "metadata": {},
     "output_type": "execute_result"
    }
   ],
   "source": [
    "len(clus_E), len(clus_cell_E[mask]), len(truth_ID[mask])"
   ]
  },
  {
   "cell_type": "code",
   "execution_count": 57,
   "id": "0e689630-9928-404c-ac43-376388323b7b",
   "metadata": {},
   "outputs": [
    {
     "data": {
      "text/plain": [
       "2000"
      ]
     },
     "execution_count": 57,
     "metadata": {},
     "output_type": "execute_result"
    }
   ],
   "source": [
    "len(cell_e[0])"
   ]
  },
  {
   "cell_type": "code",
   "execution_count": 60,
   "id": "641efcdf-e48a-404a-a576-cbda60cd3e3d",
   "metadata": {},
   "outputs": [],
   "source": [
    "clu_cell_e = clus_cell_E[mask]\n",
    "clus_E_msk = clus_E[mask]\n",
    "masktruID = truth_ID[mask]"
   ]
  },
  {
   "cell_type": "code",
   "execution_count": 61,
   "id": "4655d060-512c-47dd-baf1-9a6ee948b116",
   "metadata": {},
   "outputs": [
    {
     "data": {
      "text/plain": [
       "(100000, 100000, 100000)"
      ]
     },
     "execution_count": 61,
     "metadata": {},
     "output_type": "execute_result"
    }
   ],
   "source": [
    "len(clu_cell_e), len(masktruID), len(clus_E_msk)"
   ]
  },
  {
   "cell_type": "code",
   "execution_count": 62,
   "id": "3f331691-2fa9-44a9-89be-32120f8fc559",
   "metadata": {},
   "outputs": [
    {
     "data": {
      "text/plain": [
       "(4, 5)"
      ]
     },
     "execution_count": 62,
     "metadata": {},
     "output_type": "execute_result"
    }
   ],
   "source": [
    "len(clus_E_msk[0]), len(masktruID[0]) #like how bruh omfg"
   ]
  },
  {
   "cell_type": "code",
   "execution_count": 63,
   "id": "84e01b01-203c-4761-b3d9-58a4e2963727",
   "metadata": {},
   "outputs": [
    {
     "name": "stdout",
     "output_type": "stream",
     "text": [
      "[True, True, True, False]\n"
     ]
    }
   ],
   "source": [
    "print(clus_E_msk[0] > .5)"
   ]
  },
  {
   "cell_type": "code",
   "execution_count": 64,
   "id": "186dcf04-a0e5-406c-81bf-06151489b30e",
   "metadata": {},
   "outputs": [
    {
     "ename": "AttributeError",
     "evalue": "no field named 'shape'\n\n(https://github.com/scikit-hep/awkward-1.0/blob/1.4.0/src/awkward/highlevel.py#L1127)",
     "output_type": "error",
     "traceback": [
      "\u001b[0;31m---------------------------------------------------------------------------\u001b[0m",
      "\u001b[0;31mAttributeError\u001b[0m                            Traceback (most recent call last)",
      "\u001b[0;32m/tmp/ipykernel_51992/1918489207.py\u001b[0m in \u001b[0;36m<module>\u001b[0;34m\u001b[0m\n\u001b[0;32m----> 1\u001b[0;31m \u001b[0mclus_E_msk\u001b[0m\u001b[0;34m.\u001b[0m\u001b[0mshape\u001b[0m\u001b[0;34m\u001b[0m\u001b[0;34m\u001b[0m\u001b[0m\n\u001b[0m",
      "\u001b[0;32m/usr/local/lib/python3.8/dist-packages/awkward/highlevel.py\u001b[0m in \u001b[0;36m__getattr__\u001b[0;34m(self, where)\u001b[0m\n\u001b[1;32m   1123\u001b[0m                     )\n\u001b[1;32m   1124\u001b[0m             \u001b[0;32melse\u001b[0m\u001b[0;34m:\u001b[0m\u001b[0;34m\u001b[0m\u001b[0;34m\u001b[0m\u001b[0m\n\u001b[0;32m-> 1125\u001b[0;31m                 raise AttributeError(\n\u001b[0m\u001b[1;32m   1126\u001b[0m                     \u001b[0;34m\"no field named {0}\"\u001b[0m\u001b[0;34m.\u001b[0m\u001b[0mformat\u001b[0m\u001b[0;34m(\u001b[0m\u001b[0mrepr\u001b[0m\u001b[0;34m(\u001b[0m\u001b[0mwhere\u001b[0m\u001b[0;34m)\u001b[0m\u001b[0;34m)\u001b[0m\u001b[0;34m\u001b[0m\u001b[0;34m\u001b[0m\u001b[0m\n\u001b[1;32m   1127\u001b[0m                     \u001b[0;34m+\u001b[0m \u001b[0mak\u001b[0m\u001b[0;34m.\u001b[0m\u001b[0m_util\u001b[0m\u001b[0;34m.\u001b[0m\u001b[0mexception_suffix\u001b[0m\u001b[0;34m(\u001b[0m\u001b[0m__file__\u001b[0m\u001b[0;34m)\u001b[0m\u001b[0;34m\u001b[0m\u001b[0;34m\u001b[0m\u001b[0m\n",
      "\u001b[0;31mAttributeError\u001b[0m: no field named 'shape'\n\n(https://github.com/scikit-hep/awkward-1.0/blob/1.4.0/src/awkward/highlevel.py#L1127)"
     ]
    }
   ],
   "source": [
    "clus_E_msk.shape"
   ]
  },
  {
   "cell_type": "code",
   "execution_count": 86,
   "id": "0d653065-55e8-4ca9-b3fa-37cebdc64a38",
   "metadata": {},
   "outputs": [
    {
     "data": {
      "text/plain": [
       "712852000"
      ]
     },
     "execution_count": 86,
     "metadata": {},
     "output_type": "execute_result"
    }
   ],
   "source": [
    "len(np.ravel(cell_e))"
   ]
  },
  {
   "cell_type": "code",
   "execution_count": null,
   "id": "e4080580-3a69-4b98-ba26-05cb5485950c",
   "metadata": {},
   "outputs": [],
   "source": []
  },
  {
   "cell_type": "code",
   "execution_count": 65,
   "id": "37fd7c95-b02d-41b9-9c24-10b24cb79a05",
   "metadata": {},
   "outputs": [],
   "source": [
    "r = clus_E_msk > .5"
   ]
  },
  {
   "cell_type": "code",
   "execution_count": 70,
   "id": "46d7bf9a-7bcb-4976-a59e-03ec928b7f66",
   "metadata": {},
   "outputs": [
    {
     "data": {
      "text/plain": [
       "100000"
      ]
     },
     "execution_count": 70,
     "metadata": {},
     "output_type": "execute_result"
    }
   ],
   "source": [
    "len(clus_E_msk[r])"
   ]
  },
  {
   "cell_type": "code",
   "execution_count": 71,
   "id": "17184bd9-e60e-46bc-a568-d475d2df17e9",
   "metadata": {},
   "outputs": [
    {
     "ename": "ValueError",
     "evalue": "in ListArray64 attempting to get 3, index out of range\n\n(https://github.com/scikit-hep/awkward-1.0/blob/1.4.0/src/cpu-kernels/awkward_ListArray_getitem_jagged_apply.cpp#L46)",
     "output_type": "error",
     "traceback": [
      "\u001b[0;31m---------------------------------------------------------------------------\u001b[0m",
      "\u001b[0;31mValueError\u001b[0m                                Traceback (most recent call last)",
      "\u001b[0;32m/tmp/ipykernel_51992/254645812.py\u001b[0m in \u001b[0;36m<module>\u001b[0;34m\u001b[0m\n\u001b[0;32m----> 1\u001b[0;31m \u001b[0mmasktruID\u001b[0m\u001b[0;34m[\u001b[0m\u001b[0mr\u001b[0m\u001b[0;34m]\u001b[0m\u001b[0;34m\u001b[0m\u001b[0;34m\u001b[0m\u001b[0m\n\u001b[0m",
      "\u001b[0;32m/usr/local/lib/python3.8/dist-packages/awkward/highlevel.py\u001b[0m in \u001b[0;36m__getitem__\u001b[0;34m(self, where)\u001b[0m\n\u001b[1;32m    991\u001b[0m         \"\"\"\n\u001b[1;32m    992\u001b[0m         \u001b[0;32mif\u001b[0m \u001b[0;32mnot\u001b[0m \u001b[0mhasattr\u001b[0m\u001b[0;34m(\u001b[0m\u001b[0mself\u001b[0m\u001b[0;34m,\u001b[0m \u001b[0;34m\"_tracers\"\u001b[0m\u001b[0;34m)\u001b[0m\u001b[0;34m:\u001b[0m\u001b[0;34m\u001b[0m\u001b[0;34m\u001b[0m\u001b[0m\n\u001b[0;32m--> 993\u001b[0;31m             \u001b[0mtmp\u001b[0m \u001b[0;34m=\u001b[0m \u001b[0mak\u001b[0m\u001b[0;34m.\u001b[0m\u001b[0m_util\u001b[0m\u001b[0;34m.\u001b[0m\u001b[0mwrap\u001b[0m\u001b[0;34m(\u001b[0m\u001b[0mself\u001b[0m\u001b[0;34m.\u001b[0m\u001b[0mlayout\u001b[0m\u001b[0;34m[\u001b[0m\u001b[0mwhere\u001b[0m\u001b[0;34m]\u001b[0m\u001b[0;34m,\u001b[0m \u001b[0mself\u001b[0m\u001b[0;34m.\u001b[0m\u001b[0m_behavior\u001b[0m\u001b[0;34m)\u001b[0m\u001b[0;34m\u001b[0m\u001b[0;34m\u001b[0m\u001b[0m\n\u001b[0m\u001b[1;32m    994\u001b[0m         \u001b[0;32melse\u001b[0m\u001b[0;34m:\u001b[0m\u001b[0;34m\u001b[0m\u001b[0;34m\u001b[0m\u001b[0m\n\u001b[1;32m    995\u001b[0m             \u001b[0mtmp\u001b[0m \u001b[0;34m=\u001b[0m \u001b[0mak\u001b[0m\u001b[0;34m.\u001b[0m\u001b[0m_connect\u001b[0m\u001b[0;34m.\u001b[0m\u001b[0m_jax\u001b[0m\u001b[0;34m.\u001b[0m\u001b[0mjax_utils\u001b[0m\u001b[0;34m.\u001b[0m\u001b[0m_jaxtracers_getitem\u001b[0m\u001b[0;34m(\u001b[0m\u001b[0mself\u001b[0m\u001b[0;34m,\u001b[0m \u001b[0mwhere\u001b[0m\u001b[0;34m)\u001b[0m\u001b[0;34m\u001b[0m\u001b[0;34m\u001b[0m\u001b[0m\n",
      "\u001b[0;31mValueError\u001b[0m: in ListArray64 attempting to get 3, index out of range\n\n(https://github.com/scikit-hep/awkward-1.0/blob/1.4.0/src/cpu-kernels/awkward_ListArray_getitem_jagged_apply.cpp#L46)"
     ]
    }
   ],
   "source": [
    "masktruID[r] #yeah so this won't work, so just do it the new way of just selecting all 8 one by one....."
   ]
  },
  {
   "cell_type": "code",
   "execution_count": null,
   "id": "0db2a4a7-5048-4298-b4c8-5c4bc75da93e",
   "metadata": {},
   "outputs": [],
   "source": []
  },
  {
   "cell_type": "code",
   "execution_count": null,
   "id": "a21ee43c-4e42-47ea-b888-5c3ed08e3119",
   "metadata": {},
   "outputs": [],
   "source": []
  },
  {
   "cell_type": "code",
   "execution_count": 92,
   "id": "3b76d850-5fa5-4f37-9366-d16da3dc3612",
   "metadata": {},
   "outputs": [],
   "source": [
    "import convert_sets_splitdelta as cs"
   ]
  },
  {
   "cell_type": "code",
   "execution_count": 93,
   "id": "4cb15192-d774-4c9f-8021-7d61a1f867fd",
   "metadata": {},
   "outputs": [
    {
     "name": "stdout",
     "output_type": "stream",
     "text": [
      "Working on /fast_scratch/atlas_images/v01-45/delta_medium.root\n",
      "Loading data\n",
      "Normalizing\n"
     ]
    },
    {
     "name": "stderr",
     "output_type": "stream",
     "text": [
      "/home/kaelaekd/start_tf/LCStudies/classifier/convert_sets_splitdelta.py:61: RuntimeWarning: divide by zero encountered in log\n",
      "  cell_e = np.nan_to_num(np.log(cell_e), posinf = 0, neginf=0)\n"
     ]
    },
    {
     "name": "stdout",
     "output_type": "stream",
     "text": [
      "Writing out\n"
     ]
    },
    {
     "ename": "TypeError",
     "evalue": "no implementation found for 'numpy.savez' on types that implement __array_function__: [<class 'numpy.ndarray'>, <class 'awkward.highlevel.Array'>]",
     "output_type": "error",
     "traceback": [
      "\u001b[0;31m---------------------------------------------------------------------------\u001b[0m",
      "\u001b[0;31mTypeError\u001b[0m                                 Traceback (most recent call last)",
      "\u001b[0;32m/tmp/ipykernel_26541/4076148180.py\u001b[0m in \u001b[0;36m<module>\u001b[0;34m\u001b[0m\n\u001b[0;32m----> 1\u001b[0;31m \u001b[0mcs\u001b[0m\u001b[0;34m.\u001b[0m\u001b[0mdoit\u001b[0m\u001b[0;34m(\u001b[0m\u001b[0mmask\u001b[0m\u001b[0;34m)\u001b[0m \u001b[0;31m#okay I think this works\u001b[0m\u001b[0;34m\u001b[0m\u001b[0;34m\u001b[0m\u001b[0m\n\u001b[0m",
      "\u001b[0;32m~/start_tf/LCStudies/classifier/convert_sets_splitdelta.py\u001b[0m in \u001b[0;36mdoit\u001b[0;34m(mask)\u001b[0m\n\u001b[1;32m     80\u001b[0m \u001b[0;32mdef\u001b[0m \u001b[0mdoit\u001b[0m\u001b[0;34m(\u001b[0m\u001b[0mmask\u001b[0m\u001b[0;34m)\u001b[0m\u001b[0;34m:\u001b[0m\u001b[0;34m\u001b[0m\u001b[0;34m\u001b[0m\u001b[0m\n\u001b[1;32m     81\u001b[0m     \u001b[0;32mfor\u001b[0m \u001b[0mdel_file\u001b[0m \u001b[0;32min\u001b[0m \u001b[0mdel_list\u001b[0m\u001b[0;34m:\u001b[0m\u001b[0;34m\u001b[0m\u001b[0;34m\u001b[0m\u001b[0m\n\u001b[0;32m---> 82\u001b[0;31m         \u001b[0mconvertFile\u001b[0m\u001b[0;34m(\u001b[0m\u001b[0mdel_file\u001b[0m\u001b[0;34m,\u001b[0m \u001b[0mmask\u001b[0m\u001b[0;34m)\u001b[0m\u001b[0;34m\u001b[0m\u001b[0;34m\u001b[0m\u001b[0m\n\u001b[0m\u001b[1;32m     83\u001b[0m \u001b[0;34m\u001b[0m\u001b[0m\n\u001b[1;32m     84\u001b[0m \u001b[0;34m\u001b[0m\u001b[0m\n",
      "\u001b[0;32m~/start_tf/LCStudies/classifier/convert_sets_splitdelta.py\u001b[0m in \u001b[0;36mconvertFile\u001b[0;34m(filename, deltamask)\u001b[0m\n\u001b[1;32m     74\u001b[0m     \u001b[0;31m#Now we save. prepare output filename.\u001b[0m\u001b[0;34m\u001b[0m\u001b[0;34m\u001b[0m\u001b[0;34m\u001b[0m\u001b[0m\n\u001b[1;32m     75\u001b[0m     \u001b[0moutname\u001b[0m \u001b[0;34m=\u001b[0m \u001b[0mfilename\u001b[0m\u001b[0;34m.\u001b[0m\u001b[0mreplace\u001b[0m\u001b[0;34m(\u001b[0m\u001b[0;34m'root'\u001b[0m\u001b[0;34m,\u001b[0m \u001b[0;34m'npz'\u001b[0m\u001b[0;34m)\u001b[0m\u001b[0;34m\u001b[0m\u001b[0;34m\u001b[0m\u001b[0m\n\u001b[0;32m---> 76\u001b[0;31m     \u001b[0mnp\u001b[0m\u001b[0;34m.\u001b[0m\u001b[0msavez\u001b[0m\u001b[0;34m(\u001b[0m\u001b[0moutname\u001b[0m\u001b[0;34m,\u001b[0m \u001b[0mX\u001b[0m\u001b[0;34m=\u001b[0m\u001b[0mX\u001b[0m\u001b[0;34m,\u001b[0m \u001b[0mclus_eta\u001b[0m\u001b[0;34m=\u001b[0m\u001b[0mclus_eta\u001b[0m\u001b[0;34m[\u001b[0m\u001b[0mselection\u001b[0m\u001b[0;34m]\u001b[0m\u001b[0;34m,\u001b[0m \u001b[0mclus_e\u001b[0m\u001b[0;34m=\u001b[0m\u001b[0mclus_e\u001b[0m\u001b[0;34m[\u001b[0m\u001b[0mselection\u001b[0m\u001b[0;34m]\u001b[0m\u001b[0;34m,\u001b[0m \u001b[0mclus_pt\u001b[0m\u001b[0;34m=\u001b[0m\u001b[0mclus_pt\u001b[0m\u001b[0;34m[\u001b[0m\u001b[0mselection\u001b[0m\u001b[0;34m]\u001b[0m\u001b[0;34m,\u001b[0m \u001b[0mclus_e_t\u001b[0m\u001b[0;34m=\u001b[0m\u001b[0mclus_e_t\u001b[0m\u001b[0;34m[\u001b[0m\u001b[0mselection\u001b[0m\u001b[0;34m]\u001b[0m\u001b[0;34m,\u001b[0m \u001b[0mtruth_ID\u001b[0m \u001b[0;34m=\u001b[0m \u001b[0mtruth_id\u001b[0m\u001b[0;34m)\u001b[0m \u001b[0;31m#maybe?? mayeb????? it doesn't matter if I don't use the selection???\u001b[0m\u001b[0;34m\u001b[0m\u001b[0;34m\u001b[0m\u001b[0m\n\u001b[0m\u001b[1;32m     77\u001b[0m     \u001b[0mprint\u001b[0m\u001b[0;34m(\u001b[0m\u001b[0;34m'Done! {}'\u001b[0m\u001b[0;34m.\u001b[0m\u001b[0mformat\u001b[0m\u001b[0;34m(\u001b[0m\u001b[0moutname\u001b[0m\u001b[0;34m)\u001b[0m\u001b[0;34m)\u001b[0m\u001b[0;34m\u001b[0m\u001b[0;34m\u001b[0m\u001b[0m\n\u001b[1;32m     78\u001b[0m \u001b[0;34m\u001b[0m\u001b[0m\n",
      "\u001b[0;32m<__array_function__ internals>\u001b[0m in \u001b[0;36msavez\u001b[0;34m(*args, **kwargs)\u001b[0m\n",
      "\u001b[0;31mTypeError\u001b[0m: no implementation found for 'numpy.savez' on types that implement __array_function__: [<class 'numpy.ndarray'>, <class 'awkward.highlevel.Array'>]"
     ]
    }
   ],
   "source": [
    "cs.doit(mask) #okay so need to figure out how to get the truth_id to the data_split function"
   ]
  },
  {
   "cell_type": "markdown",
   "id": "74dbb6a0-256c-4ec1-acc3-dc41aa0d32f9",
   "metadata": {},
   "source": [
    "here's the thing tho: no idea how to give it the e_mask. no idea. it is needed right? it must be...... how will it go through split_data? they're not the same lengths anymore again.... I think I did need that flag or whatever afterall tbh? maybe as well? "
   ]
  },
  {
   "cell_type": "code",
   "execution_count": null,
   "id": "19533fa7-1e33-4191-bd22-b5c6c5d3d75f",
   "metadata": {},
   "outputs": [],
   "source": []
  }
 ],
 "metadata": {
  "kernelspec": {
   "display_name": "Python 3 (ipykernel)",
   "language": "python",
   "name": "python3"
  },
  "language_info": {
   "codemirror_mode": {
    "name": "ipython",
    "version": 3
   },
   "file_extension": ".py",
   "mimetype": "text/x-python",
   "name": "python",
   "nbconvert_exporter": "python",
   "pygments_lexer": "ipython3",
   "version": "3.8.10"
  }
 },
 "nbformat": 4,
 "nbformat_minor": 5
}
