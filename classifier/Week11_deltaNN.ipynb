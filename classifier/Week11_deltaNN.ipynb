{
 "cells": [
  {
   "cell_type": "markdown",
   "id": "118d1381-37fa-4a04-bce5-66c8f7f998ad",
   "metadata": {},
   "source": [
    "Going to train some NNs on the different delta data I guess.... not sure how I'm gonna split it up yet but lets get started"
   ]
  },
  {
   "cell_type": "code",
   "execution_count": 1,
   "id": "31c1d5be-680f-4465-bf5c-e941eadad3b1",
   "metadata": {},
   "outputs": [
    {
     "name": "stderr",
     "output_type": "stream",
     "text": [
      "2021-07-14 12:02:47.497571: I tensorflow/stream_executor/platform/default/dso_loader.cc:49] Successfully opened dynamic library libcudart.so.11.0\n"
     ]
    }
   ],
   "source": [
    "#imports\n",
    "import uproot as ur\n",
    "import numpy as np\n",
    "import awkward as ak\n",
    "import matplotlib.pyplot as plt\n",
    "import vector as v\n",
    "\n",
    "data_path = '/fast_scratch/atlas_images/v01-45/'\n",
    "\n",
    "import atlas_mpl_style as ampl #makes matplotlib follow atlas formal style\n",
    "ampl.use_atlas_style()\n",
    "\n",
    "v.register_awkward()\n",
    "\n",
    "import os\n",
    "os.environ['CUDA_VISIBLE_DEVICES'] = \"2\" #specify GPU\n",
    "os.environ['TF_FORCE_GPU_ALLOW_GROWTH'] = 'true'\n",
    "\n",
    "import tensorflow as tf\n",
    "\n",
    "# energyflow imports\n",
    "import energyflow as ef\n",
    "from energyflow.archs import PFN\n",
    "from energyflow.utils import data_split\n",
    "\n",
    "from sklearn.metrics import roc_auc_score, roc_curve\n",
    "\n",
    "import graph_util as gu\n",
    "import plot_util as pu\n",
    "import matplotlib.pyplot as plt"
   ]
  },
  {
   "cell_type": "code",
   "execution_count": 2,
   "id": "bd751378-c0ac-4465-8fde-1f3a6ca0077f",
   "metadata": {},
   "outputs": [],
   "source": [
    "branches = ['cluster_hitsTruthIndex', 'cluster_hitsTruthE', 'truthPartPdgId', 'truthPartPt','truthPartEta', \n",
    "            'truthPartPhi', 'truthPartPt', 'truthPartMass']\n",
    "\n",
    "events = ur.open(data_path+'delta_medium.root')\n",
    "\n",
    "tree = events['EventTree']"
   ]
  },
  {
   "cell_type": "code",
   "execution_count": 3,
   "id": "a6c293a4-2b34-4ee2-9e24-f8b5c8da342b",
   "metadata": {},
   "outputs": [],
   "source": [
    "the_branches = tree.arrays(expressions=branches)"
   ]
  },
  {
   "cell_type": "markdown",
   "id": "113a0a75-7074-420b-8ac2-347dec568638",
   "metadata": {},
   "source": [
    "To do this, I need to first set up the different selections, then do the data processing, (I guess the other way around works too? Okay I'm gonna change the convert_sets_delta file to also return truthID, then can do the selections on the pre-made data, then can run the models"
   ]
  },
  {
   "cell_type": "code",
   "execution_count": 4,
   "id": "2c5a727a-a849-4413-ab3c-da72ae56478d",
   "metadata": {},
   "outputs": [
    {
     "name": "stdout",
     "output_type": "stream",
     "text": [
      "name                 | typename                 | interpretation                \n",
      "---------------------+--------------------------+-------------------------------\n",
      "runNumber            | int32_t                  | AsDtype('>i4')\n",
      "eventNumber          | int64_t                  | AsDtype('>i8')\n",
      "lumiBlock            | int32_t                  | AsDtype('>i4')\n",
      "coreFlags            | uint32_t                 | AsDtype('>u4')\n",
      "mcEventNumber        | int32_t                  | AsDtype('>i4')\n",
      "mcChannelNumber      | int32_t                  | AsDtype('>i4')\n",
      "mcEventWeight        | float                    | AsDtype('>f4')\n",
      "nTruthPart           | int32_t                  | AsDtype('>i4')\n",
      "G4PreCalo_n_EM       | int32_t                  | AsDtype('>i4')\n",
      "G4PreCalo_E_EM       | float                    | AsDtype('>f4')\n",
      "G4PreCalo_n_Had      | int32_t                  | AsDtype('>i4')\n",
      "G4PreCalo_E_Had      | float                    | AsDtype('>f4')\n",
      "truthVertexX         | float                    | AsDtype('>f4')\n",
      "truthVertexY         | float                    | AsDtype('>f4')\n",
      "truthVertexZ         | float                    | AsDtype('>f4')\n",
      "truthPartPdgId       | std::vector<int32_t>     | AsJagged(AsDtype('>i4'), he...\n",
      "truthPartStatus      | std::vector<int32_t>     | AsJagged(AsDtype('>i4'), he...\n",
      "truthPartBarcode     | std::vector<int32_t>     | AsJagged(AsDtype('>i4'), he...\n",
      "truthPartPt          | std::vector<float>       | AsJagged(AsDtype('>f4'), he...\n",
      "truthPartE           | std::vector<float>       | AsJagged(AsDtype('>f4'), he...\n",
      "truthPartMass        | std::vector<float>       | AsJagged(AsDtype('>f4'), he...\n",
      "truthPartEta         | std::vector<float>       | AsJagged(AsDtype('>f4'), he...\n",
      "truthPartPhi         | std::vector<float>       | AsJagged(AsDtype('>f4'), he...\n",
      "nTrack               | int32_t                  | AsDtype('>i4')\n",
      "trackPt              | std::vector<float>       | AsJagged(AsDtype('>f4'), he...\n",
      "trackP               | std::vector<float>       | AsJagged(AsDtype('>f4'), he...\n",
      "trackMass            | std::vector<float>       | AsJagged(AsDtype('>f4'), he...\n",
      "trackEta             | std::vector<float>       | AsJagged(AsDtype('>f4'), he...\n",
      "trackPhi             | std::vector<float>       | AsJagged(AsDtype('>f4'), he...\n",
      "trackNumberOfPixe... | std::vector<int32_t>     | AsJagged(AsDtype('>i4'), he...\n",
      "trackNumberOfSCTHits | std::vector<int32_t>     | AsJagged(AsDtype('>i4'), he...\n",
      "trackNumberOfPixe... | std::vector<int32_t>     | AsJagged(AsDtype('>i4'), he...\n",
      "trackNumberOfSCTD... | std::vector<int32_t>     | AsJagged(AsDtype('>i4'), he...\n",
      "trackNumberOfPixe... | std::vector<int32_t>     | AsJagged(AsDtype('>i4'), he...\n",
      "trackNumberOfSCTS... | std::vector<int32_t>     | AsJagged(AsDtype('>i4'), he...\n",
      "trackNumberOfPixe... | std::vector<int32_t>     | AsJagged(AsDtype('>i4'), he...\n",
      "trackNumberOfSCTH... | std::vector<int32_t>     | AsJagged(AsDtype('>i4'), he...\n",
      "trackNumberOfInne... | std::vector<int32_t>     | AsJagged(AsDtype('>i4'), he...\n",
      "trackNumberOfNext... | std::vector<int32_t>     | AsJagged(AsDtype('>i4'), he...\n",
      "trackExpectInnerm... | std::vector<int32_t>     | AsJagged(AsDtype('>i4'), he...\n",
      "trackExpectNextTo... | std::vector<int32_t>     | AsJagged(AsDtype('>i4'), he...\n",
      "trackNumberOfTRTHits | std::vector<int32_t>     | AsJagged(AsDtype('>i4'), he...\n",
      "trackNumberOfTRTO... | std::vector<int32_t>     | AsJagged(AsDtype('>i4'), he...\n",
      "trackChiSquared      | std::vector<float>       | AsJagged(AsDtype('>f4'), he...\n",
      "trackNumberDOF       | std::vector<int32_t>     | AsJagged(AsDtype('>i4'), he...\n",
      "trackD0              | std::vector<float>       | AsJagged(AsDtype('>f4'), he...\n",
      "trackZ0              | std::vector<float>       | AsJagged(AsDtype('>f4'), he...\n",
      "trackEta_PreSamplerB | std::vector<float>       | AsJagged(AsDtype('>f4'), he...\n",
      "trackPhi_PreSamplerB | std::vector<float>       | AsJagged(AsDtype('>f4'), he...\n",
      "trackEta_PreSamplerE | std::vector<float>       | AsJagged(AsDtype('>f4'), he...\n",
      "trackPhi_PreSamplerE | std::vector<float>       | AsJagged(AsDtype('>f4'), he...\n",
      "trackEta_EMB1        | std::vector<float>       | AsJagged(AsDtype('>f4'), he...\n",
      "trackPhi_EMB1        | std::vector<float>       | AsJagged(AsDtype('>f4'), he...\n",
      "trackEta_EMB2        | std::vector<float>       | AsJagged(AsDtype('>f4'), he...\n",
      "trackPhi_EMB2        | std::vector<float>       | AsJagged(AsDtype('>f4'), he...\n",
      "trackEta_EMB3        | std::vector<float>       | AsJagged(AsDtype('>f4'), he...\n",
      "trackPhi_EMB3        | std::vector<float>       | AsJagged(AsDtype('>f4'), he...\n",
      "trackEta_EME1        | std::vector<float>       | AsJagged(AsDtype('>f4'), he...\n",
      "trackPhi_EME1        | std::vector<float>       | AsJagged(AsDtype('>f4'), he...\n",
      "trackEta_EME2        | std::vector<float>       | AsJagged(AsDtype('>f4'), he...\n",
      "trackPhi_EME2        | std::vector<float>       | AsJagged(AsDtype('>f4'), he...\n",
      "trackEta_EME3        | std::vector<float>       | AsJagged(AsDtype('>f4'), he...\n",
      "trackPhi_EME3        | std::vector<float>       | AsJagged(AsDtype('>f4'), he...\n",
      "trackEta_HEC0        | std::vector<float>       | AsJagged(AsDtype('>f4'), he...\n",
      "trackPhi_HEC0        | std::vector<float>       | AsJagged(AsDtype('>f4'), he...\n",
      "trackEta_HEC1        | std::vector<float>       | AsJagged(AsDtype('>f4'), he...\n",
      "trackPhi_HEC1        | std::vector<float>       | AsJagged(AsDtype('>f4'), he...\n",
      "trackEta_HEC2        | std::vector<float>       | AsJagged(AsDtype('>f4'), he...\n",
      "trackPhi_HEC2        | std::vector<float>       | AsJagged(AsDtype('>f4'), he...\n",
      "trackEta_HEC3        | std::vector<float>       | AsJagged(AsDtype('>f4'), he...\n",
      "trackPhi_HEC3        | std::vector<float>       | AsJagged(AsDtype('>f4'), he...\n",
      "trackEta_TileBar0    | std::vector<float>       | AsJagged(AsDtype('>f4'), he...\n",
      "trackPhi_TileBar0    | std::vector<float>       | AsJagged(AsDtype('>f4'), he...\n",
      "trackEta_TileBar1    | std::vector<float>       | AsJagged(AsDtype('>f4'), he...\n",
      "trackPhi_TileBar1    | std::vector<float>       | AsJagged(AsDtype('>f4'), he...\n",
      "trackEta_TileBar2    | std::vector<float>       | AsJagged(AsDtype('>f4'), he...\n",
      "trackPhi_TileBar2    | std::vector<float>       | AsJagged(AsDtype('>f4'), he...\n",
      "trackEta_TileGap1    | std::vector<float>       | AsJagged(AsDtype('>f4'), he...\n",
      "trackPhi_TileGap1    | std::vector<float>       | AsJagged(AsDtype('>f4'), he...\n",
      "trackEta_TileGap2    | std::vector<float>       | AsJagged(AsDtype('>f4'), he...\n",
      "trackPhi_TileGap2    | std::vector<float>       | AsJagged(AsDtype('>f4'), he...\n",
      "trackEta_TileGap3    | std::vector<float>       | AsJagged(AsDtype('>f4'), he...\n",
      "trackPhi_TileGap3    | std::vector<float>       | AsJagged(AsDtype('>f4'), he...\n",
      "trackEta_TileExt0    | std::vector<float>       | AsJagged(AsDtype('>f4'), he...\n",
      "trackPhi_TileExt0    | std::vector<float>       | AsJagged(AsDtype('>f4'), he...\n",
      "trackEta_TileExt1    | std::vector<float>       | AsJagged(AsDtype('>f4'), he...\n",
      "trackPhi_TileExt1    | std::vector<float>       | AsJagged(AsDtype('>f4'), he...\n",
      "trackEta_TileExt2    | std::vector<float>       | AsJagged(AsDtype('>f4'), he...\n",
      "trackPhi_TileExt2    | std::vector<float>       | AsJagged(AsDtype('>f4'), he...\n",
      "AntiKt4EMTopoJetsPt  | std::vector<float>       | AsJagged(AsDtype('>f4'), he...\n",
      "AntiKt4EMTopoJetsEta | std::vector<float>       | AsJagged(AsDtype('>f4'), he...\n",
      "AntiKt4EMTopoJetsPhi | std::vector<float>       | AsJagged(AsDtype('>f4'), he...\n",
      "AntiKt4EMTopoJetsE   | std::vector<float>       | AsJagged(AsDtype('>f4'), he...\n",
      "AntiKt4LCTopoJetsPt  | std::vector<float>       | AsJagged(AsDtype('>f4'), he...\n",
      "AntiKt4LCTopoJetsEta | std::vector<float>       | AsJagged(AsDtype('>f4'), he...\n",
      "AntiKt4LCTopoJetsPhi | std::vector<float>       | AsJagged(AsDtype('>f4'), he...\n",
      "AntiKt4LCTopoJetsE   | std::vector<float>       | AsJagged(AsDtype('>f4'), he...\n",
      "AntiKt4TruthJetsPt   | std::vector<float>       | AsJagged(AsDtype('>f4'), he...\n",
      "AntiKt4TruthJetsEta  | std::vector<float>       | AsJagged(AsDtype('>f4'), he...\n",
      "AntiKt4TruthJetsPhi  | std::vector<float>       | AsJagged(AsDtype('>f4'), he...\n",
      "AntiKt4TruthJetsE    | std::vector<float>       | AsJagged(AsDtype('>f4'), he...\n",
      "AntiKt4TruthJetsF... | std::vector<int32_t>     | AsJagged(AsDtype('>i4'), he...\n",
      "nCluster             | int32_t                  | AsDtype('>i4')\n",
      "cluster_E            | std::vector<float>       | AsJagged(AsDtype('>f4'), he...\n",
      "cluster_E_LCCalib    | std::vector<float>       | AsJagged(AsDtype('>f4'), he...\n",
      "cluster_Pt           | std::vector<float>       | AsJagged(AsDtype('>f4'), he...\n",
      "cluster_Eta          | std::vector<float>       | AsJagged(AsDtype('>f4'), he...\n",
      "cluster_Phi          | std::vector<float>       | AsJagged(AsDtype('>f4'), he...\n",
      "cluster_nCells       | std::vector<int32_t>     | AsJagged(AsDtype('>i4'), he...\n",
      "cluster_ENG_CALIB... | std::vector<float>       | AsJagged(AsDtype('>f4'), he...\n",
      "cluster_ENG_CALIB... | std::vector<float>       | AsJagged(AsDtype('>f4'), he...\n",
      "cluster_ENG_CALIB... | std::vector<float>       | AsJagged(AsDtype('>f4'), he...\n",
      "cluster_EM_PROBAB... | std::vector<float>       | AsJagged(AsDtype('>f4'), he...\n",
      "cluster_HAD_WEIGHT   | std::vector<float>       | AsJagged(AsDtype('>f4'), he...\n",
      "cluster_OOC_WEIGHT   | std::vector<float>       | AsJagged(AsDtype('>f4'), he...\n",
      "cluster_DM_WEIGHT    | std::vector<float>       | AsJagged(AsDtype('>f4'), he...\n",
      "cluster_CENTER_MAG   | std::vector<float>       | AsJagged(AsDtype('>f4'), he...\n",
      "cluster_FIRST_ENG... | std::vector<float>       | AsJagged(AsDtype('>f4'), he...\n",
      "cluster_CENTER_LA... | std::vector<float>       | AsJagged(AsDtype('>f4'), he...\n",
      "cluster_ISOLATION    | std::vector<float>       | AsJagged(AsDtype('>f4'), he...\n",
      "cluster_ENERGY_Di... | std::vector<float>       | AsJagged(AsDtype('>f4'), he...\n",
      "cluster_cell_ID      | std::vector<std::vect... | AsObjects(AsVector(True, As...\n",
      "cluster_cell_E       | std::vector<std::vect... | AsObjects(AsVector(True, As...\n",
      "cluster_hitsTruth... | std::vector<std::vect... | AsObjects(AsVector(True, As...\n",
      "cluster_hitsTruthE   | std::vector<std::vect... | AsObjects(AsVector(True, As...\n"
     ]
    }
   ],
   "source": [
    "tree.show()"
   ]
  },
  {
   "cell_type": "code",
   "execution_count": 5,
   "id": "86d2093f-5750-4fc5-b8c8-66c220c1bc93",
   "metadata": {},
   "outputs": [
    {
     "name": "stdout",
     "output_type": "stream",
     "text": [
      "Working on /fast_scratch/atlas_images/v01-45/delta_medium.root\n",
      "Loading data\n"
     ]
    },
    {
     "ename": "IndexError",
     "evalue": "boolean index did not match indexed array along dimension 0; dimension is 751874 but corresponding boolean dimension is 740871",
     "output_type": "error",
     "traceback": [
      "\u001b[0;31m---------------------------------------------------------------------------\u001b[0m",
      "\u001b[0;31mIndexError\u001b[0m                                Traceback (most recent call last)",
      "\u001b[0;32m/tmp/ipykernel_36749/3176530908.py\u001b[0m in \u001b[0;36m<module>\u001b[0;34m\u001b[0m\n\u001b[0;32m----> 1\u001b[0;31m \u001b[0;32mimport\u001b[0m \u001b[0mconvert_sets_delta\u001b[0m\u001b[0;34m\u001b[0m\u001b[0;34m\u001b[0m\u001b[0m\n\u001b[0m",
      "\u001b[0;32m~/start_tf/LCStudies/classifier/convert_sets_delta.py\u001b[0m in \u001b[0;36m<module>\u001b[0;34m\u001b[0m\n\u001b[1;32m     79\u001b[0m \u001b[0;34m\u001b[0m\u001b[0m\n\u001b[1;32m     80\u001b[0m \u001b[0;32mfor\u001b[0m \u001b[0mrho_file\u001b[0m \u001b[0;32min\u001b[0m \u001b[0mrho_list\u001b[0m\u001b[0;34m:\u001b[0m\u001b[0;34m\u001b[0m\u001b[0;34m\u001b[0m\u001b[0m\n\u001b[0;32m---> 81\u001b[0;31m     \u001b[0mconvertFile\u001b[0m\u001b[0;34m(\u001b[0m\u001b[0mrho_file\u001b[0m\u001b[0;34m)\u001b[0m\u001b[0;34m\u001b[0m\u001b[0;34m\u001b[0m\u001b[0m\n\u001b[0m\u001b[1;32m     82\u001b[0m \u001b[0;34m\u001b[0m\u001b[0m\n\u001b[1;32m     83\u001b[0m \u001b[0;34m\u001b[0m\u001b[0m\n",
      "\u001b[0;32m~/start_tf/LCStudies/classifier/convert_sets_delta.py\u001b[0m in \u001b[0;36mconvertFile\u001b[0;34m(filename)\u001b[0m\n\u001b[1;32m     52\u001b[0m     \u001b[0mselection\u001b[0m \u001b[0;34m=\u001b[0m \u001b[0me_mask\u001b[0m \u001b[0;31m# & eta_mask\u001b[0m\u001b[0;34m\u001b[0m\u001b[0;34m\u001b[0m\u001b[0m\n\u001b[1;32m     53\u001b[0m \u001b[0;34m\u001b[0m\u001b[0m\n\u001b[0;32m---> 54\u001b[0;31m     \u001b[0mID\u001b[0m \u001b[0;34m=\u001b[0m \u001b[0mtruth_id\u001b[0m\u001b[0;34m[\u001b[0m\u001b[0mselection\u001b[0m\u001b[0;34m]\u001b[0m\u001b[0;34m\u001b[0m\u001b[0;34m\u001b[0m\u001b[0m\n\u001b[0m\u001b[1;32m     55\u001b[0m \u001b[0;34m\u001b[0m\u001b[0m\n\u001b[1;32m     56\u001b[0m     \u001b[0;31m## Now, normalize\u001b[0m\u001b[0;34m\u001b[0m\u001b[0;34m\u001b[0m\u001b[0;34m\u001b[0m\u001b[0m\n",
      "\u001b[0;31mIndexError\u001b[0m: boolean index did not match indexed array along dimension 0; dimension is 751874 but corresponding boolean dimension is 740871"
     ]
    }
   ],
   "source": [
    "import convert_sets_delta #okay so this doesn't line up, why?"
   ]
  },
  {
   "cell_type": "code",
   "execution_count": 7,
   "id": "33b4ab8c-90c3-490e-b3cd-7dea99906198",
   "metadata": {},
   "outputs": [],
   "source": [
    "clus_E = tree.arrays('cluster_E')\n",
    "truth_ID = tree.arrays('truthPartPdgId')"
   ]
  },
  {
   "cell_type": "code",
   "execution_count": 9,
   "id": "f6a07c7d-c1e1-4fbc-9008-4fa96227b70e",
   "metadata": {},
   "outputs": [
    {
     "data": {
      "text/plain": [
       "200000"
      ]
     },
     "execution_count": 9,
     "metadata": {},
     "output_type": "execute_result"
    }
   ],
   "source": [
    "len(clus_E)"
   ]
  },
  {
   "cell_type": "code",
   "execution_count": 10,
   "id": "c3c5417b-e9af-40b2-8663-0b6bd930a44c",
   "metadata": {},
   "outputs": [
    {
     "data": {
      "text/plain": [
       "200000"
      ]
     },
     "execution_count": 10,
     "metadata": {},
     "output_type": "execute_result"
    }
   ],
   "source": [
    "len(truth_ID)"
   ]
  },
  {
   "cell_type": "code",
   "execution_count": 11,
   "id": "0c4d5d5f-0d0e-441c-a76f-ee34745584db",
   "metadata": {},
   "outputs": [],
   "source": [
    "clus_e = gu.loadVectorBranchFlat('cluster_E', tree)"
   ]
  },
  {
   "cell_type": "code",
   "execution_count": 12,
   "id": "5fc70296-71ee-49a6-8140-2f2cd6fa9a5d",
   "metadata": {},
   "outputs": [
    {
     "data": {
      "text/plain": [
       "740871"
      ]
     },
     "execution_count": 12,
     "metadata": {},
     "output_type": "execute_result"
    }
   ],
   "source": [
    "len(clus_e)"
   ]
  },
  {
   "cell_type": "code",
   "execution_count": 14,
   "id": "24547b01-6d95-488a-92e9-2e746fb29a45",
   "metadata": {},
   "outputs": [],
   "source": [
    "truid = gu.loadVectorBranchFlat('truthPartPdgId', tree)"
   ]
  },
  {
   "cell_type": "code",
   "execution_count": 15,
   "id": "c94ebfd0-a406-4f86-a128-fc5850eb75c7",
   "metadata": {},
   "outputs": [
    {
     "data": {
      "text/plain": [
       "751874"
      ]
     },
     "execution_count": 15,
     "metadata": {},
     "output_type": "execute_result"
    }
   ],
   "source": [
    "len(truid)"
   ]
  },
  {
   "cell_type": "code",
   "execution_count": 18,
   "id": "51f2ea9c-8643-4e38-985c-b1ad663ca179",
   "metadata": {},
   "outputs": [
    {
     "name": "stdout",
     "output_type": "stream",
     "text": [
      "[2114 2112  111 ... 2224 2212  211]\n"
     ]
    }
   ],
   "source": [
    "#okay so its because they're being flattened and are different lengths... \n",
    "print(truid)"
   ]
  },
  {
   "cell_type": "code",
   "execution_count": 19,
   "id": "d4ff44e4-3ba8-4244-b338-c67755746899",
   "metadata": {},
   "outputs": [
    {
     "name": "stdout",
     "output_type": "stream",
     "text": [
      "[2.0940566  0.79894364 0.5638675  ... 0.63663745 0.3209459  1.641062  ]\n"
     ]
    }
   ],
   "source": [
    "print(clus_e)"
   ]
  },
  {
   "cell_type": "code",
   "execution_count": 21,
   "id": "e14bca50-dcf4-4a41-9d97-7394489f64d7",
   "metadata": {},
   "outputs": [],
   "source": [
    "truthe = tree.arrays('truthPartE')"
   ]
  },
  {
   "cell_type": "code",
   "execution_count": 22,
   "id": "34633fb4-bb6e-478c-9ba6-fa1fc93d2e46",
   "metadata": {},
   "outputs": [
    {
     "data": {
      "text/plain": [
       "200000"
      ]
     },
     "execution_count": 22,
     "metadata": {},
     "output_type": "execute_result"
    }
   ],
   "source": [
    "len(truthe)"
   ]
  },
  {
   "cell_type": "code",
   "execution_count": 23,
   "id": "d3b3cf4f-3bda-4626-9fe6-bfc79acafa03",
   "metadata": {},
   "outputs": [],
   "source": [
    "trueflat = gu.loadVectorBranchFlat('truthPartE', tree)"
   ]
  },
  {
   "cell_type": "code",
   "execution_count": 24,
   "id": "fd89d50c-f482-4904-8a3c-84d0fc5d99c6",
   "metadata": {},
   "outputs": [
    {
     "data": {
      "text/plain": [
       "751874"
      ]
     },
     "execution_count": 24,
     "metadata": {},
     "output_type": "execute_result"
    }
   ],
   "source": [
    "len(trueflat)"
   ]
  },
  {
   "cell_type": "code",
   "execution_count": 25,
   "id": "d07e4527-ec94-40a1-ad02-fee52a3f5009",
   "metadata": {},
   "outputs": [
    {
     "ename": "ValueError",
     "evalue": "in ListOffsetArray64, cannot convert to RegularArray because subarray lengths are not regular\n\n(https://github.com/scikit-hep/awkward-1.0/blob/1.4.0/src/cpu-kernels/awkward_ListOffsetArray_toRegularArray.cpp#L22)",
     "output_type": "error",
     "traceback": [
      "\u001b[0;31m---------------------------------------------------------------------------\u001b[0m",
      "\u001b[0;31mValueError\u001b[0m                                Traceback (most recent call last)",
      "\u001b[0;32m/tmp/ipykernel_16209/3441246977.py\u001b[0m in \u001b[0;36m<module>\u001b[0;34m\u001b[0m\n\u001b[0;32m----> 1\u001b[0;31m \u001b[0mclusID\u001b[0m \u001b[0;34m=\u001b[0m \u001b[0mgu\u001b[0m\u001b[0;34m.\u001b[0m\u001b[0mloadVectorBranchFlat\u001b[0m\u001b[0;34m(\u001b[0m\u001b[0;34m'cluster_cell_ID'\u001b[0m\u001b[0;34m,\u001b[0m \u001b[0mtree\u001b[0m\u001b[0;34m)\u001b[0m\u001b[0;34m\u001b[0m\u001b[0;34m\u001b[0m\u001b[0m\n\u001b[0m",
      "\u001b[0;32m~/start_tf/LCStudies/classifier/graph_util.py\u001b[0m in \u001b[0;36mloadVectorBranchFlat\u001b[0;34m(branchName, tree)\u001b[0m\n\u001b[1;32m      5\u001b[0m \u001b[0;34m\u001b[0m\u001b[0m\n\u001b[1;32m      6\u001b[0m \u001b[0;32mdef\u001b[0m \u001b[0mloadVectorBranchFlat\u001b[0m\u001b[0;34m(\u001b[0m\u001b[0mbranchName\u001b[0m\u001b[0;34m,\u001b[0m \u001b[0mtree\u001b[0m\u001b[0;34m)\u001b[0m\u001b[0;34m:\u001b[0m\u001b[0;34m\u001b[0m\u001b[0;34m\u001b[0m\u001b[0m\n\u001b[0;32m----> 7\u001b[0;31m     \u001b[0;32mreturn\u001b[0m \u001b[0mnp\u001b[0m\u001b[0;34m.\u001b[0m\u001b[0mcopy\u001b[0m\u001b[0;34m(\u001b[0m\u001b[0mak\u001b[0m\u001b[0;34m.\u001b[0m\u001b[0mflatten\u001b[0m\u001b[0;34m(\u001b[0m\u001b[0mtree\u001b[0m\u001b[0;34m[\u001b[0m\u001b[0mbranchName\u001b[0m\u001b[0;34m]\u001b[0m\u001b[0;34m.\u001b[0m\u001b[0marray\u001b[0m\u001b[0;34m(\u001b[0m\u001b[0;34m)\u001b[0m\u001b[0;34m)\u001b[0m\u001b[0;34m.\u001b[0m\u001b[0mto_numpy\u001b[0m\u001b[0;34m(\u001b[0m\u001b[0;34m)\u001b[0m\u001b[0;34m)\u001b[0m\u001b[0;34m\u001b[0m\u001b[0;34m\u001b[0m\u001b[0m\n\u001b[0m\u001b[1;32m      8\u001b[0m \u001b[0;34m\u001b[0m\u001b[0m\n\u001b[1;32m      9\u001b[0m \u001b[0;31m#given a branchname, a tree from uproot, and a padLength...\u001b[0m\u001b[0;34m\u001b[0m\u001b[0;34m\u001b[0m\u001b[0;34m\u001b[0m\u001b[0m\n",
      "\u001b[0;32m/usr/local/lib/python3.8/dist-packages/awkward/highlevel.py\u001b[0m in \u001b[0;36mto_numpy\u001b[0;34m(self, allow_missing)\u001b[0m\n\u001b[1;32m    467\u001b[0m         \u001b[0mConverts\u001b[0m \u001b[0mthis\u001b[0m \u001b[0mArray\u001b[0m \u001b[0minto\u001b[0m \u001b[0ma\u001b[0m \u001b[0mNumPy\u001b[0m \u001b[0marray\u001b[0m\u001b[0;34m,\u001b[0m \u001b[0;32mif\u001b[0m \u001b[0mpossible\u001b[0m\u001b[0;34m;\u001b[0m \u001b[0msame\u001b[0m \u001b[0;32mas\u001b[0m \u001b[0;31m#ak.to_numpy.\u001b[0m\u001b[0;34m\u001b[0m\u001b[0;34m\u001b[0m\u001b[0m\n\u001b[1;32m    468\u001b[0m         \"\"\"\n\u001b[0;32m--> 469\u001b[0;31m         \u001b[0;32mreturn\u001b[0m \u001b[0mak\u001b[0m\u001b[0;34m.\u001b[0m\u001b[0moperations\u001b[0m\u001b[0;34m.\u001b[0m\u001b[0mconvert\u001b[0m\u001b[0;34m.\u001b[0m\u001b[0mto_numpy\u001b[0m\u001b[0;34m(\u001b[0m\u001b[0mself\u001b[0m\u001b[0;34m,\u001b[0m \u001b[0mallow_missing\u001b[0m\u001b[0;34m=\u001b[0m\u001b[0mallow_missing\u001b[0m\u001b[0;34m)\u001b[0m\u001b[0;34m\u001b[0m\u001b[0;34m\u001b[0m\u001b[0m\n\u001b[0m\u001b[1;32m    470\u001b[0m \u001b[0;34m\u001b[0m\u001b[0m\n\u001b[1;32m    471\u001b[0m     \u001b[0;34m@\u001b[0m\u001b[0mproperty\u001b[0m\u001b[0;34m\u001b[0m\u001b[0;34m\u001b[0m\u001b[0m\n",
      "\u001b[0;32m/usr/local/lib/python3.8/dist-packages/awkward/operations/convert.py\u001b[0m in \u001b[0;36mto_numpy\u001b[0;34m(array, allow_missing)\u001b[0m\n\u001b[1;32m    202\u001b[0m \u001b[0;34m\u001b[0m\u001b[0m\n\u001b[1;32m    203\u001b[0m     \u001b[0;32melif\u001b[0m \u001b[0misinstance\u001b[0m\u001b[0;34m(\u001b[0m\u001b[0marray\u001b[0m\u001b[0;34m,\u001b[0m \u001b[0mak\u001b[0m\u001b[0;34m.\u001b[0m\u001b[0mhighlevel\u001b[0m\u001b[0;34m.\u001b[0m\u001b[0mArray\u001b[0m\u001b[0;34m)\u001b[0m\u001b[0;34m:\u001b[0m\u001b[0;34m\u001b[0m\u001b[0;34m\u001b[0m\u001b[0m\n\u001b[0;32m--> 204\u001b[0;31m         \u001b[0;32mreturn\u001b[0m \u001b[0mto_numpy\u001b[0m\u001b[0;34m(\u001b[0m\u001b[0marray\u001b[0m\u001b[0;34m.\u001b[0m\u001b[0mlayout\u001b[0m\u001b[0;34m,\u001b[0m \u001b[0mallow_missing\u001b[0m\u001b[0;34m=\u001b[0m\u001b[0mallow_missing\u001b[0m\u001b[0;34m)\u001b[0m\u001b[0;34m\u001b[0m\u001b[0;34m\u001b[0m\u001b[0m\n\u001b[0m\u001b[1;32m    205\u001b[0m \u001b[0;34m\u001b[0m\u001b[0m\n\u001b[1;32m    206\u001b[0m     \u001b[0;32melif\u001b[0m \u001b[0misinstance\u001b[0m\u001b[0;34m(\u001b[0m\u001b[0marray\u001b[0m\u001b[0;34m,\u001b[0m \u001b[0mak\u001b[0m\u001b[0;34m.\u001b[0m\u001b[0mhighlevel\u001b[0m\u001b[0;34m.\u001b[0m\u001b[0mRecord\u001b[0m\u001b[0;34m)\u001b[0m\u001b[0;34m:\u001b[0m\u001b[0;34m\u001b[0m\u001b[0;34m\u001b[0m\u001b[0m\n",
      "\u001b[0;32m/usr/local/lib/python3.8/dist-packages/awkward/operations/convert.py\u001b[0m in \u001b[0;36mto_numpy\u001b[0;34m(array, allow_missing)\u001b[0m\n\u001b[1;32m    330\u001b[0m \u001b[0;34m\u001b[0m\u001b[0m\n\u001b[1;32m    331\u001b[0m     \u001b[0;32melif\u001b[0m \u001b[0misinstance\u001b[0m\u001b[0;34m(\u001b[0m\u001b[0marray\u001b[0m\u001b[0;34m,\u001b[0m \u001b[0mak\u001b[0m\u001b[0;34m.\u001b[0m\u001b[0m_util\u001b[0m\u001b[0;34m.\u001b[0m\u001b[0mlisttypes\u001b[0m\u001b[0;34m)\u001b[0m\u001b[0;34m:\u001b[0m\u001b[0;34m\u001b[0m\u001b[0;34m\u001b[0m\u001b[0m\n\u001b[0;32m--> 332\u001b[0;31m         \u001b[0;32mreturn\u001b[0m \u001b[0mto_numpy\u001b[0m\u001b[0;34m(\u001b[0m\u001b[0marray\u001b[0m\u001b[0;34m.\u001b[0m\u001b[0mtoRegularArray\u001b[0m\u001b[0;34m(\u001b[0m\u001b[0;34m)\u001b[0m\u001b[0;34m,\u001b[0m \u001b[0mallow_missing\u001b[0m\u001b[0;34m=\u001b[0m\u001b[0mallow_missing\u001b[0m\u001b[0;34m)\u001b[0m\u001b[0;34m\u001b[0m\u001b[0;34m\u001b[0m\u001b[0m\n\u001b[0m\u001b[1;32m    333\u001b[0m \u001b[0;34m\u001b[0m\u001b[0m\n\u001b[1;32m    334\u001b[0m     \u001b[0;32melif\u001b[0m \u001b[0misinstance\u001b[0m\u001b[0;34m(\u001b[0m\u001b[0marray\u001b[0m\u001b[0;34m,\u001b[0m \u001b[0mak\u001b[0m\u001b[0;34m.\u001b[0m\u001b[0m_util\u001b[0m\u001b[0;34m.\u001b[0m\u001b[0mrecordtypes\u001b[0m\u001b[0;34m)\u001b[0m\u001b[0;34m:\u001b[0m\u001b[0;34m\u001b[0m\u001b[0;34m\u001b[0m\u001b[0m\n",
      "\u001b[0;31mValueError\u001b[0m: in ListOffsetArray64, cannot convert to RegularArray because subarray lengths are not regular\n\n(https://github.com/scikit-hep/awkward-1.0/blob/1.4.0/src/cpu-kernels/awkward_ListOffsetArray_toRegularArray.cpp#L22)"
     ]
    }
   ],
   "source": [
    "clusID = gu.loadVectorBranchFlat('cluster_cell_ID', tree)"
   ]
  },
  {
   "cell_type": "code",
   "execution_count": null,
   "id": "dd4cc3a0-3c89-4d5b-ba86-20e6f30b1bcd",
   "metadata": {},
   "outputs": [],
   "source": [
    "clusID"
   ]
  },
  {
   "cell_type": "markdown",
   "id": "b28e3b67-45b7-4e8a-8a52-28403ec659f0",
   "metadata": {},
   "source": [
    "#### okay I think I see how to do it: make separate datasets for each???? so load it all up here with all the different branches I'll need, do the selection from the last notebook to separate all the types of deltas and apply it to each different branch that I need, then save those in separate files to call the convert sets on. Could even save them in the same file and have like a flag/indicator as to which delta each event is, so that I could run convert_sets on multiple different types of delta at once? okay yay"
   ]
  },
  {
   "cell_type": "code",
   "execution_count": 26,
   "id": "fb809a1e-caa6-4177-a4c6-4b826fa65ef5",
   "metadata": {},
   "outputs": [],
   "source": [
    "geotree = events['CellGeo']"
   ]
  },
  {
   "cell_type": "code",
   "execution_count": 27,
   "id": "27f35e54-6caf-411e-992c-42b86918d578",
   "metadata": {},
   "outputs": [
    {
     "name": "stdout",
     "output_type": "stream",
     "text": [
      "name                 | typename                 | interpretation                \n",
      "---------------------+--------------------------+-------------------------------\n",
      "cell_geo_ID          | std::vector<uint64_t>    | AsJagged(AsDtype('>u8'), he...\n",
      "cell_geo_sampling    | std::vector<uint16_t>    | AsJagged(AsDtype('>u2'), he...\n",
      "cell_geo_eta         | std::vector<float>       | AsJagged(AsDtype('>f4'), he...\n",
      "cell_geo_phi         | std::vector<float>       | AsJagged(AsDtype('>f4'), he...\n",
      "cell_geo_rPerp       | std::vector<float>       | AsJagged(AsDtype('>f4'), he...\n",
      "cell_geo_deta        | std::vector<float>       | AsJagged(AsDtype('>f4'), he...\n",
      "cell_geo_dphi        | std::vector<float>       | AsJagged(AsDtype('>f4'), he...\n",
      "cell_geo_volume      | std::vector<float>       | AsJagged(AsDtype('>f4'), he...\n",
      "cell_geo_sigma       | std::vector<float>       | AsJagged(AsDtype('>f4'), he...\n"
     ]
    }
   ],
   "source": [
    "geotree.show()"
   ]
  },
  {
   "cell_type": "code",
   "execution_count": 28,
   "id": "b9664950-5cee-4918-90e4-7d9b55322944",
   "metadata": {},
   "outputs": [],
   "source": [
    "cellgeoeta = geotree.arrays('cell_geo_eta')"
   ]
  },
  {
   "cell_type": "code",
   "execution_count": 30,
   "id": "fdc6bd6f-7c3d-4884-a82e-3af7a8951dee",
   "metadata": {},
   "outputs": [
    {
     "data": {
      "text/plain": [
       "10"
      ]
     },
     "execution_count": 30,
     "metadata": {},
     "output_type": "execute_result"
    }
   ],
   "source": [
    "len(cellgeoeta)"
   ]
  },
  {
   "cell_type": "markdown",
   "id": "3f5447b8-5d81-4d5b-9d06-231b39d24f51",
   "metadata": {},
   "source": [
    "Okay so that confirms I don't have to mess with this stuff; recall this is all just its own thing, and it applies to any event, and is not event-specific, it just remains true for all events, it just describes the detector. okay."
   ]
  },
  {
   "cell_type": "code",
   "execution_count": 32,
   "id": "aa6a2d71-57c5-4935-8a5c-590458c69023",
   "metadata": {},
   "outputs": [],
   "source": [
    "rb = ['cluster_cell_ID', 'cluster_cell_E', 'cluster_Phi', 'cluster_Eta', 'cluster_Pt', 'truthPartPdgId',\n",
    "               'cluster_E', 'cluster_ENG_CALIB_TOT'] #okay these are actually the only ones I need"
   ]
  },
  {
   "cell_type": "code",
   "execution_count": 43,
   "id": "48f3841a-801e-4d1d-bf6c-b913f7c127f5",
   "metadata": {},
   "outputs": [],
   "source": [
    "brnsh = tree.arrays(expressions=rb)"
   ]
  },
  {
   "cell_type": "code",
   "execution_count": 33,
   "id": "15d95f4f-9ac2-41d9-ad15-8974490be554",
   "metadata": {},
   "outputs": [],
   "source": [
    "#load up all the data we need\n",
    "clus_cell_id = tree.arrays('cluster_cell_ID')\n",
    "clus_cell_E = tree.arrays(rb[1])\n",
    "clus_phi = tree.arrays(rb[2])\n",
    "clus_eta = tree.arrays(rb[3])\n",
    "clus_pt = tree.arrays(rb[4])\n",
    "tru_id = tree.arrays(rb[5])\n",
    "clus_E = tree.arrays(rb[6])\n",
    "#I dont think I need calib?"
   ]
  },
  {
   "cell_type": "code",
   "execution_count": 40,
   "id": "124018d6-b37e-4600-b577-24ea124ee420",
   "metadata": {},
   "outputs": [],
   "source": [
    "tru_id = tree.arrays(expressions=rb[5])"
   ]
  },
  {
   "cell_type": "code",
   "execution_count": 46,
   "id": "b5970595-ae42-4d83-bd8e-72be9a1a843e",
   "metadata": {},
   "outputs": [],
   "source": [
    "#load up all data we need\n",
    "tru_id = brnsh.truthPartPdgId\n",
    "clus_cell_id = brnsh.cluster_cell_ID\n",
    "clus_cell_E = brnsh.cluster_cell_E\n",
    "clus_phi = brnsh.cluster_Phi\n",
    "clus_eta = brnsh.cluster_Eta\n",
    "clus_pt = brnsh.cluster_Pt\n",
    "clus_E = brnsh.cluster_E"
   ]
  },
  {
   "cell_type": "code",
   "execution_count": null,
   "id": "6e0c4ed7-7b5f-4953-99d7-18d2ef624d39",
   "metadata": {},
   "outputs": [],
   "source": []
  },
  {
   "cell_type": "code",
   "execution_count": 47,
   "id": "23ceb094-f582-4b66-9384-ab58d0a2b49a",
   "metadata": {},
   "outputs": [
    {
     "data": {
      "text/plain": [
       "200000"
      ]
     },
     "execution_count": 47,
     "metadata": {},
     "output_type": "execute_result"
    }
   ],
   "source": [
    "len(tru_id)"
   ]
  },
  {
   "cell_type": "code",
   "execution_count": 48,
   "id": "28ae47f3-8264-4fdf-a11c-bbc45dcf4c3b",
   "metadata": {},
   "outputs": [
    {
     "data": {
      "text/plain": [
       "array([2114, 2112,  111,   22,   22], dtype=int32)"
      ]
     },
     "execution_count": 48,
     "metadata": {},
     "output_type": "execute_result"
    }
   ],
   "source": [
    "np.array(tru_id[0])"
   ]
  },
  {
   "cell_type": "code",
   "execution_count": 49,
   "id": "24ebc317-17bd-4e8e-84b1-60a68159ca56",
   "metadata": {},
   "outputs": [],
   "source": [
    "#sort into particle types\n",
    "ID1114 = []\n",
    "cci1114 = []\n",
    "ccE1114 = []\n",
    "cph1114 = []\n",
    "cet1114 = []\n",
    "cpt1114 = []\n",
    "cE1114 = []\n",
    "\n",
    "IDn2214 = []\n",
    "ccin2214 = []\n",
    "ccEn2214 = []\n",
    "cphn2214 = []\n",
    "cetn2214 = []\n",
    "cptn2214 = []\n",
    "cEn2214 = []\n",
    "\n",
    "\n",
    "IDn2114 = []\n",
    "ccin2114 = []\n",
    "ccEn2114 = []\n",
    "cphn2114 = []\n",
    "cetn2114 = []\n",
    "cptn2114 = []\n",
    "cEn2114 = []\n",
    "\n",
    "\n",
    "IDn2224 = []\n",
    "ccin2224 = []\n",
    "ccEn2224 = []\n",
    "cphn2224 = []\n",
    "cetn2224 = []\n",
    "cptn2224 = []\n",
    "cEn2224 = []\n",
    "\n",
    "ID2214 = []\n",
    "cci2214 = []\n",
    "ccE2214 = []\n",
    "cph2214 = []\n",
    "cet2214 = []\n",
    "cpt2214 = []\n",
    "cE2214 = []\n",
    "\n",
    "\n",
    "ID2224 = []\n",
    "cci2224 = []\n",
    "ccE2224 = []\n",
    "cph2224 = []\n",
    "cet2224 = []\n",
    "cpt2224 = []\n",
    "cE2224 = []\n",
    "\n",
    "\n",
    "IDn1114 = []\n",
    "ccin1114 = []\n",
    "ccEn1114 = []\n",
    "cphn1114 = []\n",
    "cetn1114 = []\n",
    "cptn1114 = []\n",
    "cEn1114 = []\n",
    "\n",
    "\n",
    "ID2114 = []\n",
    "cci2114 = []\n",
    "ccE2114 = []\n",
    "cph2114 = []\n",
    "cet2114 = []\n",
    "cpt2114 = []\n",
    "cE2114 = []\n",
    "\n",
    "\n",
    "for i in range(len(tru_id)):\n",
    "    \n",
    "    if (-2114 in tru_id[i]): \n",
    "        IDn2114.append(tru_id[i])\n",
    "        ccin2114.append(clus_cell_id[i])\n",
    "        ccEn2114.append(clus_cell_E[i])\n",
    "        cphn2114.append(clus_phi[i])\n",
    "        cetn2114.append(clus_eta[i])\n",
    "        cptn2114.append(clus_pt[i])\n",
    "        cEn2114.append(clus_E[i])\n",
    "\n",
    "    elif (-2224 in tru_id[i]):\n",
    "        IDn2224.append(tru_id[i])\n",
    "        ccin2224.append(clus_cell_id[i])\n",
    "        ccEn2224.append(clus_cell_E[i])\n",
    "        cphn2224.append(clus_phi[i])\n",
    "        cetn2224.append(clus_eta[i])\n",
    "        cptn2224.append(clus_pt[i])\n",
    "        cEn2224.append(clus_E[i])\n",
    "        \n",
    "    elif (2214 in tru_id[i]): \n",
    "        ID2214.append(tru_id[i])\n",
    "        cci2214.append(clus_cell_id[i])\n",
    "        ccE2214.append(clus_cell_E[i])\n",
    "        cph2214.append(clus_phi[i])\n",
    "        cet2214.append(clus_eta[i])\n",
    "        cpt2214.append(clus_pt[i])\n",
    "        cE2214.append(clus_E[i])\n",
    "        \n",
    "    elif (2224 in tru_id[i]):\n",
    "        ID2224.append(tru_id[i])\n",
    "        cci2224.append(clus_cell_id[i])\n",
    "        ccE2224.append(clus_cell_E[i])\n",
    "        cph2224.append(clus_phi[i])\n",
    "        cet2224.append(clus_eta[i])\n",
    "        cpt2224.append(clus_pt[i])\n",
    "        cE2224.append(clus_E[i])\n",
    "        \n",
    "    elif (-1114 in tru_id[i]): \n",
    "        IDn1114.append(tru_id[i])\n",
    "        ccin1114.append(clus_cell_id[i])\n",
    "        ccEn1114.append(clus_cell_E[i])\n",
    "        cphn1114.append(clus_phi[i])\n",
    "        cetn1114.append(clus_eta[i])\n",
    "        cptn1114.append(clus_pt[i])\n",
    "        cEn1114.append(clus_E[i])\n",
    "        \n",
    "    elif (2114 in tru_id[i]):\n",
    "        ID2114.append(tru_id[i])\n",
    "        cci2114.append(clus_cell_id[i])\n",
    "        ccE2114.append(clus_cell_E[i])\n",
    "        cph2114.append(clus_phi[i])\n",
    "        cet2114.append(clus_eta[i])\n",
    "        cpt2114.append(clus_pt[i])\n",
    "        cE2114.append(clus_E[i])\n",
    "        \n",
    "    elif (1114 in tru_id[i]): \n",
    "        ID1114.append(tru_id[i])\n",
    "        cci1114.append(clus_cell_id[i])\n",
    "        ccE1114.append(clus_cell_E[i])\n",
    "        cph1114.append(clus_phi[i])\n",
    "        cet1114.append(clus_eta[i])\n",
    "        cpt1114.append(clus_pt[i])\n",
    "        cE1114.append(clus_E[i])\n",
    "        \n",
    "    elif (-2214 in tru_id[i]):\n",
    "        IDn2214.append(tru_id[i])\n",
    "        ccin2214.append(clus_cell_id[i])\n",
    "        ccEn2214.append(clus_cell_E[i])\n",
    "        cphn2214.append(clus_phi[i])\n",
    "        cetn2214.append(clus_eta[i])\n",
    "        cptn2214.append(clus_pt[i])\n",
    "        cEn2214.append(clus_E[i])"
   ]
  },
  {
   "cell_type": "code",
   "execution_count": 50,
   "id": "b607af31-df02-4c82-be6b-cf77ef170013",
   "metadata": {},
   "outputs": [],
   "source": [
    "# I don't think I can just make a root file..... so this goes into the delta conv_sets I guess"
   ]
  },
  {
   "cell_type": "code",
   "execution_count": null,
   "id": "9f42c536-fd68-4f6c-b23f-cd1862a788ea",
   "metadata": {},
   "outputs": [],
   "source": []
  }
 ],
 "metadata": {
  "kernelspec": {
   "display_name": "Python 3 (ipykernel)",
   "language": "python",
   "name": "python3"
  },
  "language_info": {
   "codemirror_mode": {
    "name": "ipython",
    "version": 3
   },
   "file_extension": ".py",
   "mimetype": "text/x-python",
   "name": "python",
   "nbconvert_exporter": "python",
   "pygments_lexer": "ipython3",
   "version": "3.8.10"
  }
 },
 "nbformat": 4,
 "nbformat_minor": 5
}
