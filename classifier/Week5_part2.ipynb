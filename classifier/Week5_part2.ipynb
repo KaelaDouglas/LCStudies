{
 "cells": [
  {
   "cell_type": "markdown",
   "id": "a32659b1-94f3-43cb-a9a5-c11be72795e3",
   "metadata": {},
   "source": [
    "made this to try to solve the memory issues of the last notebook - intention is just to reload the models, and save the tp, fp, and auc for each. the data processing took up a ton of memory to had to do this in stages and refresh every so often. then plotted stuff in week5_roc"
   ]
  },
  {
   "cell_type": "code",
   "execution_count": 1,
   "id": "b5b28503-832d-429f-81aa-afafc5097047",
   "metadata": {},
   "outputs": [],
   "source": [
    "import uproot as ur\n",
    "import awkward as ak\n",
    "import numpy as np\n",
    "\n",
    "data_path = '/fast_scratch/atlas_images/v01-45/'\n",
    "\n",
    "import os\n",
    "os.environ['CUDA_VISIBLE_DEVICES'] = \"2\"\n",
    "os.environ['TF_FORCE_GPU_ALLOW_GROWTH'] = 'true'\n",
    "\n",
    "import tensorflow as tf\n",
    "\n",
    "# energyflow imports\n",
    "import energyflow as ef\n",
    "from energyflow.archs import PFN\n",
    "from energyflow.utils import data_split\n",
    "\n",
    "from sklearn.metrics import roc_auc_score, roc_curve\n",
    "import matplotlib.pyplot as plt"
   ]
  },
  {
   "cell_type": "code",
   "execution_count": 2,
   "id": "85cd5baf-b792-4ed4-aa9c-7d011ed364cf",
   "metadata": {},
   "outputs": [],
   "source": [
    "import sys\n",
    "sys.path.append('/Users/swiatlow/Code/ML4P/LCStudies')\n",
    "sys.path.append('/home/mswiatlowski/start_tf/LCStudies')\n",
    "import graph_util as gu\n",
    "import plot_util as pu"
   ]
  },
  {
   "cell_type": "code",
   "execution_count": 3,
   "id": "00269d13-1099-4a14-9733-e042ecdba4b9",
   "metadata": {},
   "outputs": [],
   "source": [
    "#first: data processing: (careful she takes a long time)\n",
    "path_pipm = data_path + 'pipm_medium.root'\n",
    "path_pi0  = data_path + 'pi0_medium.root'\n",
    "\n",
    "tree_pipm = ur.open(path_pipm)['EventTree']\n",
    "tree_pi0  = ur.open(path_pi0)['EventTree']\n",
    "\n",
    "geoDict_tree_pipm = ur.open(path_pipm)['CellGeo']\n",
    "geoDict_tree_pi0  = ur.open(path_pi0)[\"CellGeo\"]\n",
    "\n",
    "cell_id_pipm = gu.loadArrayBranchFlat('cluster_cell_ID', tree_pipm, 2000)\n",
    "cell_e_pipm = gu.loadArrayBranchFlat('cluster_cell_E', tree_pipm, 2000)\n",
    "cell_id_pi0 = gu.loadArrayBranchFlat('cluster_cell_ID', tree_pi0, 2000)\n",
    "cell_e_pi0 = gu.loadArrayBranchFlat('cluster_cell_E', tree_pi0, 2000)\n",
    "\n",
    "geoDict_pipm = gu.loadGraphDictionary(geoDict_tree_pipm)\n",
    "geoDict_pi0  = gu.loadGraphDictionary(geoDict_tree_pi0)\n",
    "\n",
    "cell_phi_pipm = gu.convertIDToGeo(cell_id_pipm, 'cell_geo_phi', geoDict_pipm)\n",
    "cell_eta_pipm = gu.convertIDToGeo(cell_id_pipm, 'cell_geo_eta', geoDict_pipm)\n",
    "cell_phi_pi0 = gu.convertIDToGeo(cell_id_pi0, 'cell_geo_phi', geoDict_pi0)\n",
    "cell_eta_pi0 = gu.convertIDToGeo(cell_id_pi0, 'cell_geo_eta', geoDict_pi0)\n",
    "\n",
    "clus_eta_pipm = gu.loadVectorBranchFlat('cluster_Eta', tree_pipm)\n",
    "clus_E_pipm = gu.loadVectorBranchFlat('cluster_E', tree_pipm)\n",
    "\n",
    "clus_eta_pi0 = gu.loadVectorBranchFlat('cluster_Eta', tree_pi0)\n",
    "clus_E_pi0 = gu.loadVectorBranchFlat('cluster_E', tree_pi0)\n",
    "\n",
    "clus_phi_pipm = gu.loadVectorBranchFlat('cluster_Phi', tree_pipm)\n",
    "clus_phi_pi0  = gu.loadVectorBranchFlat('cluster_Phi', tree_pi0)"
   ]
  },
  {
   "cell_type": "code",
   "execution_count": 4,
   "id": "1b0e7318-73c6-4981-b9b0-6fef0027e737",
   "metadata": {},
   "outputs": [],
   "source": [
    "#HERE: change the eta cuts!\n",
    "eta_mask_pipm = (abs(clus_eta_pipm) > 1.4) | (abs(clus_eta_pipm) < 2.5)\n",
    "eta_mask_pi0  =(abs(clus_eta_pi0) > 1.4) | (abs(clus_eta_pi0) < 2.5)\n",
    "\n",
    "energy_mask_pipm = clus_E_pipm > 0.5\n",
    "energy_mask_pi0 = clus_E_pi0 > 0.5\n",
    "\n",
    "selection_pipm = eta_mask_pipm & energy_mask_pipm\n",
    "selection_pi0 = eta_mask_pi0 & energy_mask_pi0"
   ]
  },
  {
   "cell_type": "code",
   "execution_count": 5,
   "id": "81c4fcca-c9b5-47e1-8ad5-bde0546e9c7a",
   "metadata": {},
   "outputs": [
    {
     "name": "stderr",
     "output_type": "stream",
     "text": [
      "<ipython-input-5-9ca06993e40d>:7: RuntimeWarning: divide by zero encountered in log\n",
      "  cell_e_norm_pipm = np.nan_to_num(np.log(cell_e_pipm), posinf = 0, neginf=0)\n",
      "<ipython-input-5-9ca06993e40d>:8: RuntimeWarning: divide by zero encountered in log\n",
      "  cell_e_norm_pi0 = np.nan_to_num(np.log(cell_e_pi0), posinf = 0, neginf=0)\n"
     ]
    }
   ],
   "source": [
    "#dont rerun\n",
    "cell_eta_norm_pipm = np.nan_to_num(cell_eta_pipm - clus_eta_pipm[:, None])\n",
    "cell_eta_norm_pi0 = np.nan_to_num(cell_eta_pi0 - clus_eta_pi0[:, None])\n",
    "cell_phi_norm_pipm = np.nan_to_num(cell_phi_pipm - clus_phi_pipm[:, None])\n",
    "cell_phi_norm_pi0 = np.nan_to_num(cell_phi_pi0 - clus_phi_pi0[:, None])\n",
    "\n",
    "cell_e_norm_pipm = np.nan_to_num(np.log(cell_e_pipm), posinf = 0, neginf=0)\n",
    "cell_e_norm_pi0 = np.nan_to_num(np.log(cell_e_pi0), posinf = 0, neginf=0)\n",
    "\n",
    "# Working after some careful manipulation of the masks\n",
    "cell_samp_pipm = gu.convertIDToGeo(cell_id_pipm, 'cell_geo_sampling', geoDict_pipm)\n",
    "cell_samp_pi0 = gu.convertIDToGeo(cell_id_pi0, 'cell_geo_sampling', geoDict_pi0)\n",
    "\n",
    "#normalize to a lower value fairly arbitrarily\n",
    "cell_samp_norm_pipm = cell_samp_pipm * 0.1\n",
    "cell_samp_norm_pi0 = cell_samp_pi0 * 0.1\n"
   ]
  },
  {
   "cell_type": "code",
   "execution_count": 6,
   "id": "c465d9ac-8e81-420f-92a5-5893c129c36b",
   "metadata": {},
   "outputs": [
    {
     "data": {
      "text/plain": [
       "(592857, 395440)"
      ]
     },
     "execution_count": 6,
     "metadata": {},
     "output_type": "execute_result"
    }
   ],
   "source": [
    "#rerun!!!\n",
    "X_pipm = np.stack((cell_e_norm_pipm[selection_pipm], cell_eta_norm_pipm[selection_pipm], cell_phi_norm_pipm[selection_pipm], cell_samp_norm_pipm[selection_pipm]), axis = 2)\n",
    "X_pi0  = np.stack((cell_e_norm_pi0[selection_pi0], cell_eta_norm_pi0[selection_pi0], cell_phi_norm_pi0[selection_pi0], cell_samp_norm_pi0[selection_pi0]), axis = 2)\n",
    "\n",
    "len(X_pipm), len(X_pi0)"
   ]
  },
  {
   "cell_type": "code",
   "execution_count": 7,
   "id": "751d4592-6936-42c4-8224-a0d54e940d75",
   "metadata": {},
   "outputs": [
    {
     "name": "stdout",
     "output_type": "stream",
     "text": [
      "180000 180000\n"
     ]
    }
   ],
   "source": [
    "X = np.concatenate((X_pipm[:90000], X_pi0[:90000]))\n",
    "Y = tf.keras.utils.to_categorical(np.concatenate((np.ones(90000), np.zeros(90000)))) #one hot\n",
    "print(len(X), len(Y))"
   ]
  },
  {
   "cell_type": "code",
   "execution_count": 8,
   "id": "dc7355e5-b626-4286-9032-916e5a745d0d",
   "metadata": {},
   "outputs": [],
   "source": [
    "def compiled_rocs(X, Y, model, test_size, outfile):\n",
    "    (X_train, X_val, X_test, Y_train, Y_val, Y_test) = data_split(X, Y, val=10000, test=test_size)\n",
    "\n",
    "    preds = model.predict(X_test, batch_size=1000)\n",
    "    pfn_fp, pfn_tp, threshs = roc_curve(Y_test[:,1], preds[:,1])\n",
    "    # get area under the ROC curve\n",
    "    auc = roc_auc_score(Y_test[:,1], preds[:,1])\n",
    "    np.savez(outfile, pfn_fp, pfn_tp, auc)\n",
    "    return auc #instead of doing this I should definitely just return these when making the model\n",
    "                               #so defs make that change once they improve models/data/etc !!"
   ]
  },
  {
   "cell_type": "code",
   "execution_count": 10,
   "id": "6ce9ebfe-17d0-46ea-b618-a92894bdca56",
   "metadata": {},
   "outputs": [],
   "source": [
    "models_b2531 = tf.keras.models.load_model('./pfnmodel_b2531.h5')"
   ]
  },
  {
   "cell_type": "code",
   "execution_count": 11,
   "id": "f068759b-ef29-4cc1-a53f-7f76d067e9c1",
   "metadata": {},
   "outputs": [
    {
     "data": {
      "text/plain": [
       "0.9822372141408154"
      ]
     },
     "execution_count": 11,
     "metadata": {},
     "output_type": "execute_result"
    }
   ],
   "source": [
    "compiled_rocs(X, Y, models_b2531, 40000, 'roc_b2531')"
   ]
  },
  {
   "cell_type": "code",
   "execution_count": 15,
   "id": "2b414461-8e6c-4161-8cc0-3f047e961e51",
   "metadata": {},
   "outputs": [],
   "source": [
    "models_l05 = tf.keras.models.load_model('./pfnmodel_l05.h5')"
   ]
  },
  {
   "cell_type": "code",
   "execution_count": 16,
   "id": "e60e7e1d-a2d9-4a4f-b8b9-22c277f3ca6d",
   "metadata": {},
   "outputs": [
    {
     "data": {
      "text/plain": [
       "0.9821431593013783"
      ]
     },
     "execution_count": 16,
     "metadata": {},
     "output_type": "execute_result"
    }
   ],
   "source": [
    "compiled_rocs(X, Y, models_l05, 20000, 'roc_l05')"
   ]
  },
  {
   "cell_type": "code",
   "execution_count": 17,
   "id": "cc37b494-cba1-41ca-a6c1-dcc090aa320a",
   "metadata": {},
   "outputs": [],
   "source": [
    "models_l07 = tf.keras.models.load_model('./pfnmodel_l07.h5')"
   ]
  },
  {
   "cell_type": "code",
   "execution_count": 21,
   "id": "249a07d6-1869-416b-bc71-1ed2c3149375",
   "metadata": {},
   "outputs": [
    {
     "data": {
      "text/plain": [
       "0.9793627303601405"
      ]
     },
     "execution_count": 21,
     "metadata": {},
     "output_type": "execute_result"
    }
   ],
   "source": [
    "compiled_rocs(X, Y, models_l07, 40000, 'roc_l07')"
   ]
  },
  {
   "cell_type": "code",
   "execution_count": 9,
   "id": "552b302a-6804-458a-8e6b-c33528b378e4",
   "metadata": {},
   "outputs": [],
   "source": [
    "models_b0715 = tf.keras.models.load_model('./pfnmodel_b0715.h5')"
   ]
  },
  {
   "cell_type": "code",
   "execution_count": 10,
   "id": "5f407dff-1b1b-4dcb-a0cd-8dde53d5578e",
   "metadata": {},
   "outputs": [
    {
     "data": {
      "text/plain": [
       "0.9668667722410309"
      ]
     },
     "execution_count": 10,
     "metadata": {},
     "output_type": "execute_result"
    }
   ],
   "source": [
    "compiled_rocs(X,Y, models_b0715, 40000, 'roc_b0715')"
   ]
  },
  {
   "cell_type": "code",
   "execution_count": 11,
   "id": "7594921f-3ce2-43cf-b32e-dce66d0e337c",
   "metadata": {},
   "outputs": [],
   "source": [
    "models_g15 = tf.keras.models.load_model('./pfnmodel_g15.h5')"
   ]
  },
  {
   "cell_type": "code",
   "execution_count": 15,
   "id": "ffecf2cb-2a4e-4dd9-91a6-cda02547e70e",
   "metadata": {},
   "outputs": [
    {
     "data": {
      "text/plain": [
       "0.9551590465105598"
      ]
     },
     "execution_count": 15,
     "metadata": {},
     "output_type": "execute_result"
    }
   ],
   "source": [
    "compiled_rocs(X, Y, models_g15, 40000, 'roc_g15')"
   ]
  },
  {
   "cell_type": "code",
   "execution_count": 16,
   "id": "9fbe59a9-1639-4366-a37c-5c16437091cb",
   "metadata": {},
   "outputs": [],
   "source": [
    "models_l15 = tf.keras.models.load_model('./pfnmodel_l15.h5')"
   ]
  },
  {
   "cell_type": "code",
   "execution_count": 20,
   "id": "6c9f28ec-78f4-4417-ae1d-14ed4f23341c",
   "metadata": {},
   "outputs": [
    {
     "data": {
      "text/plain": [
       "0.9713802628694845"
      ]
     },
     "execution_count": 20,
     "metadata": {},
     "output_type": "execute_result"
    }
   ],
   "source": [
    "compiled_rocs(X,Y, models_l15, 40000, 'roc_l15')"
   ]
  },
  {
   "cell_type": "code",
   "execution_count": 21,
   "id": "05042645-6d8c-4892-b48e-ed7b5b289e67",
   "metadata": {},
   "outputs": [],
   "source": [
    "models_l1 = tf.keras.models.load_model('./pfnmodel_l1.h5')"
   ]
  },
  {
   "cell_type": "code",
   "execution_count": 25,
   "id": "b8c69adf-abc3-4f35-ac91-56e78001bb02",
   "metadata": {},
   "outputs": [
    {
     "data": {
      "text/plain": [
       "0.9800122575943051"
      ]
     },
     "execution_count": 25,
     "metadata": {},
     "output_type": "execute_result"
    }
   ],
   "source": [
    "compiled_rocs(X, Y, models_l1, 40000, 'roc_l1')"
   ]
  },
  {
   "cell_type": "code",
   "execution_count": 26,
   "id": "473cfd32-2d6e-4202-afd6-644ae84b35bc",
   "metadata": {},
   "outputs": [],
   "source": [
    "models_b1425 = tf.keras.models.load_model('./pfnmodel_b1425.h5')"
   ]
  },
  {
   "cell_type": "code",
   "execution_count": 30,
   "id": "5b4727fb-cd25-48d9-9089-e8cf409a3edf",
   "metadata": {},
   "outputs": [
    {
     "data": {
      "text/plain": [
       "0.9429751786336393"
      ]
     },
     "execution_count": 30,
     "metadata": {},
     "output_type": "execute_result"
    }
   ],
   "source": [
    "compiled_rocs(X, Y, models_b1425, 40000, 'roc_b1425')"
   ]
  },
  {
   "cell_type": "code",
   "execution_count": 9,
   "id": "6bc7f7d3-fd4b-48d8-96c8-de7810ef09a3",
   "metadata": {},
   "outputs": [],
   "source": [
    "models_all = tf.keras.models.load_model('./pfnmodel_gall.h5')"
   ]
  },
  {
   "cell_type": "code",
   "execution_count": 10,
   "id": "89c2ea06-54df-4a09-8a92-9472953f5311",
   "metadata": {},
   "outputs": [
    {
     "data": {
      "text/plain": [
       "0.9613265061124728"
      ]
     },
     "execution_count": 10,
     "metadata": {},
     "output_type": "execute_result"
    }
   ],
   "source": [
    "compiled_rocs(X,Y, models_all, 40000, 'roc_all')"
   ]
  },
  {
   "cell_type": "code",
   "execution_count": null,
   "id": "76434c6c-ac87-4967-8a62-9682adf9929d",
   "metadata": {},
   "outputs": [],
   "source": []
  }
 ],
 "metadata": {
  "kernelspec": {
   "display_name": "Python 3",
   "language": "python",
   "name": "python3"
  },
  "language_info": {
   "codemirror_mode": {
    "name": "ipython",
    "version": 3
   },
   "file_extension": ".py",
   "mimetype": "text/x-python",
   "name": "python",
   "nbconvert_exporter": "python",
   "pygments_lexer": "ipython3",
   "version": "3.8.5"
  }
 },
 "nbformat": 4,
 "nbformat_minor": 5
}
