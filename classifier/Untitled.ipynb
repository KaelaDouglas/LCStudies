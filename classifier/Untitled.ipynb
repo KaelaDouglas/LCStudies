{
 "cells": [
  {
   "cell_type": "code",
   "execution_count": 1,
   "id": "09def109-7e4e-474b-a814-699caa5578f0",
   "metadata": {},
   "outputs": [],
   "source": [
    "import numpy as np"
   ]
  },
  {
   "cell_type": "code",
   "execution_count": 2,
   "id": "b8d21831-03d0-45d0-ab11-dc9dc0c8a1b0",
   "metadata": {},
   "outputs": [],
   "source": [
    "data_path = '/fast_scratch/atlas_images/v01-45/'\n",
    "file = np.load(data_path+'w8_modelmetrics2plot.npz', allow_pickle=True)"
   ]
  },
  {
   "cell_type": "code",
   "execution_count": 3,
   "id": "26277f58-8727-49b1-9393-06a0bb71ced8",
   "metadata": {},
   "outputs": [],
   "source": [
    "fps_gp_eta, tps_gp_eta, auc_gp_eta, fps_ng_eta, tps_ng_eta, auc_ng_eta, fps_eta, tps_eta, auc_eta, reg95_ng_eta, reg95_gp_eta, reg95_eta, eta_sel =file['arr_0'], file['arr_1'], file['arr_2'], file['arr_3'], file['arr_4'], file['arr_5'], file['arr_6'], file['arr_7'], file['arr_8'], file['arr_9'], file['arr_10'], file['arr_11'], file['arr_12']"
   ]
  },
  {
   "cell_type": "code",
   "execution_count": 10,
   "id": "c40ddfdf-b240-41cb-9bce-95d875345e4a",
   "metadata": {},
   "outputs": [
    {
     "data": {
      "text/plain": [
       "1705"
      ]
     },
     "execution_count": 10,
     "metadata": {},
     "output_type": "execute_result"
    }
   ],
   "source": [
    "len(fps_gp_eta[12])"
   ]
  },
  {
   "cell_type": "markdown",
   "id": "0faa9c89-a1dc-4c54-88f2-7eea214ff55e",
   "metadata": {},
   "source": [
    "## "
   ]
  }
 ],
 "metadata": {
  "kernelspec": {
   "display_name": "Python 3",
   "language": "python",
   "name": "python3"
  },
  "language_info": {
   "codemirror_mode": {
    "name": "ipython",
    "version": 3
   },
   "file_extension": ".py",
   "mimetype": "text/x-python",
   "name": "python",
   "nbconvert_exporter": "python",
   "pygments_lexer": "ipython3",
   "version": "3.8.5"
  }
 },
 "nbformat": 4,
 "nbformat_minor": 5
}
