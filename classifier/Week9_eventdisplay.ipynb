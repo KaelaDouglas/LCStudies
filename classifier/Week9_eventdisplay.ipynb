{
 "cells": [
  {
   "cell_type": "markdown",
   "id": "c7d985cb-5c1d-46e4-b675-ebb1a7999f40",
   "metadata": {},
   "source": [
    "To Adapt Russell's code for making nice event displays and examine some of my own data that way!"
   ]
  },
  {
   "cell_type": "code",
   "execution_count": 1,
   "id": "3aadcbda-2479-42ae-a142-8b39f702f4e1",
   "metadata": {},
   "outputs": [],
   "source": [
    "# python\n",
    "import numpy as np\n",
    "import time as t\n",
    "\n",
    "# physics\n",
    "import uproot as ur\n",
    "import awkward as ak\n",
    "import vector as vec\n",
    "\n",
    "# visualization tools\n",
    "import matplotlib.pyplot as plt\n",
    "from matplotlib import cm\n",
    "from matplotlib.colors import Normalize"
   ]
  },
  {
   "cell_type": "code",
   "execution_count": 2,
   "id": "c6b70f30-8e4f-4a5c-b87c-c04d6e34ce8e",
   "metadata": {},
   "outputs": [],
   "source": [
    "track_branches = ['trackEta_EMB1', 'trackPhi_EMB1', 'trackEta_EMB2', 'trackPhi_EMB2', 'trackEta_EMB3', 'trackPhi_EMB3',\n",
    "                  'trackEta_TileBar0', 'trackPhi_TileBar0', 'trackEta_TileBar1', 'trackPhi_TileBar1',\n",
    "                  'trackEta_TileBar2', 'trackPhi_TileBar2']\n",
    "\n",
    "event_branches = [\"cluster_nCells\", \"cluster_cell_ID\", \"cluster_cell_E\", 'cluster_nCells', \"nCluster\", \"eventNumber\",\n",
    "                  \"nTrack\", \"nTruthPart\", \"truthPartPdgId\", \"cluster_Eta\", \"cluster_Phi\", 'trackPt', 'trackP',\n",
    "                  'trackMass', 'trackEta', 'trackPhi', 'truthPartE', 'cluster_ENG_CALIB_TOT']\n",
    "\n",
    "geo_branches = [\"cell_geo_ID\", \"cell_geo_eta\", \"cell_geo_phi\", \"cell_geo_rPerp\", \"cell_geo_sampling\"]"
   ]
  },
  {
   "cell_type": "code",
   "execution_count": 3,
   "id": "f3dec0c2-5a17-425b-8a3c-2e3daa20729a",
   "metadata": {},
   "outputs": [],
   "source": [
    "#helper function definitions:\n",
    "\n",
    "def dict_from_event_tree(_event_tree, _branches):\n",
    "    ''' The purpose for this separate function is to load np arrays where possible. '''\n",
    "    _special_keys = [\"nCluster\", \"eventNumber\", \"nTrack\", \"nTruthPart\"]\n",
    "    _dict = dict()\n",
    "    for _key in _branches:\n",
    "        if _key in _special_keys:\n",
    "            _branch = _event_tree.arrays(filter_name=_key)[_key].to_numpy()\n",
    "        else:\n",
    "            _branch = _event_tree.arrays(filter_name=_key)[_key]\n",
    "        _dict[_key] = _branch\n",
    "    return _dict\n",
    "\n",
    "def dict_from_tree_branches(_tree, _branches):\n",
    "    ''' Helper function to put event data in branches to make things easier to pass to functions,\n",
    "    pretty self explanatory. '''\n",
    "    _dict = dict()\n",
    "    for _key in _branches:\n",
    "        _branch = _tree.arrays(filter_name=_key)[_key]\n",
    "        _dict[_key] = _branch\n",
    "    return _dict\n",
    "\n",
    "def dict_from_tree_branches_np(_tree, _branches):\n",
    "    ''' Helper function to put event data in branches to make things easier to pass to functions,\n",
    "    pretty self explanatory. This always returns np arrays in the dict. '''\n",
    "    _dict = dict()\n",
    "    for _key in _branches:\n",
    "        _branch = np.ndarray.flatten(_tree.arrays(filter_name=_key)[_key].to_numpy())\n",
    "        _dict[_key] = _branch\n",
    "    return _dict\n",
    "\n",
    "def find_index_1D(_values, _unsorted):\n",
    "    ''' This function is a vectorized helper function to return the 1D locations of elements in a \n",
    "    larger unsorted list (i.e. cell geo locations). It does this by repeating/tiling arrays so they\n",
    "    have equal shape and then simply comparing where the elements are equal and returning a slice\n",
    "    where the indices match.\n",
    "    Inputs: \n",
    "        _values: the values for which to search for the locations of in _unsorted\n",
    "        _unsorted: the larger un-sorted list of elements to match\n",
    "    Returns:\n",
    "        _locs: locations of _values in _unsorted respectively. '''\n",
    "    _shape = (len(_values), len(_unsorted))\n",
    "    _values_2d = np.repeat(_values, repeats=len(_unsorted)).reshape(_shape)\n",
    "    _unsorted_2d = np.tile(_unsorted, reps=len(_values)).reshape(_shape)\n",
    "    \n",
    "    _idx_vec = np.argwhere(np.asarray(_values_2d == _unsorted_2d))\n",
    "    return _idx_vec[:,1]\n",
    "\n",
    "def to_xyz(_coords):\n",
    "    ''' Simple geometric conversion to xyz from eta, phi, rperp (READ: in this order)\n",
    "    There is an elegant way to generalize this to be flexible for 1d or 2d, for now 2d\n",
    "    Inputs: np array of shape (N, 3) where columns are [eta, phi, rPerp]\n",
    "    Outputs: np array of shape (N, 3) where columns are [x,y,z] '''\n",
    "    _eta = _coords[:,0]\n",
    "    _phi = _coords[:,1]\n",
    "    _rperp = _coords[:,2]\n",
    "    _theta = 2*np.arctan( np.exp(-_eta) )\n",
    "    \n",
    "    cell_x = _rperp*np.cos(_phi)\n",
    "    cell_y = _rperp*np.sin(_phi)\n",
    "    cell_z = _rperp/np.tan(_theta)\n",
    "    \n",
    "    return np.column_stack([cell_x,cell_y,cell_z])"
   ]
  },
  {
   "cell_type": "code",
   "execution_count": 4,
   "id": "5dc44983-b938-4830-911b-b5a6b39b989a",
   "metadata": {},
   "outputs": [
    {
     "data": {
      "text/plain": [
       "['EventTree;1', 'CellGeo;1']"
      ]
     },
     "execution_count": 4,
     "metadata": {},
     "output_type": "execute_result"
    }
   ],
   "source": [
    "data_path = '/fast_scratch/atlas_images/v01-45/'\n",
    "pi0 = ur.open(data_path+'pipm_small.root')\n",
    "pi0.keys()"
   ]
  },
  {
   "cell_type": "code",
   "execution_count": 5,
   "id": "984d5e6a-443b-455d-a20d-be3630ccd904",
   "metadata": {},
   "outputs": [],
   "source": [
    "event_tree = pi0['EventTree']\n",
    "geo_tree = pi0['CellGeo']"
   ]
  },
  {
   "cell_type": "code",
   "execution_count": 6,
   "id": "f882f399-54de-48b5-8cbe-7a96eaaa7dd7",
   "metadata": {},
   "outputs": [],
   "source": [
    "event_dict = dict_from_event_tree(event_tree, event_branches)\n",
    "track_dict = dict_from_tree_branches(event_tree, track_branches)\n",
    "geo_dict = dict_from_tree_branches_np(geo_tree, geo_branches)"
   ]
  },
  {
   "cell_type": "code",
   "execution_count": 7,
   "id": "3048a46a-8aae-4b05-9659-b236d23d9e1a",
   "metadata": {},
   "outputs": [
    {
     "name": "stdout",
     "output_type": "stream",
     "text": [
      "name                 | typename                 | interpretation                                              \n",
      "---------------------+--------------------------+-------------------------------------------------------------\n",
      "cell_geo_ID          | std::vector<uint64_t>    | AsJagged(AsDtype('>u8'), header_bytes=10)\n",
      "cell_geo_sampling    | std::vector<uint16_t>    | AsJagged(AsDtype('>u2'), header_bytes=10)\n",
      "cell_geo_eta         | std::vector<float>       | AsJagged(AsDtype('>f4'), header_bytes=10)\n",
      "cell_geo_phi         | std::vector<float>       | AsJagged(AsDtype('>f4'), header_bytes=10)\n",
      "cell_geo_rPerp       | std::vector<float>       | AsJagged(AsDtype('>f4'), header_bytes=10)\n",
      "cell_geo_deta        | std::vector<float>       | AsJagged(AsDtype('>f4'), header_bytes=10)\n",
      "cell_geo_dphi        | std::vector<float>       | AsJagged(AsDtype('>f4'), header_bytes=10)\n",
      "cell_geo_volume      | std::vector<float>       | AsJagged(AsDtype('>f4'), header_bytes=10)\n",
      "cell_geo_sigma       | std::vector<float>       | AsJagged(AsDtype('>f4'), header_bytes=10)\n",
      "cell_geo_prevInPhi   | std::vector<int32_t>     | AsJagged(AsDtype('>i4'), header_bytes=10)\n",
      "cell_geo_nextInPhi   | std::vector<int32_t>     | AsJagged(AsDtype('>i4'), header_bytes=10)\n",
      "cell_geo_prevInEta   | std::vector<int32_t>     | AsJagged(AsDtype('>i4'), header_bytes=10)\n",
      "cell_geo_nextInEta   | std::vector<int32_t>     | AsJagged(AsDtype('>i4'), header_bytes=10)\n",
      "cell_geo_prevInSamp  | std::vector<int32_t>     | AsJagged(AsDtype('>i4'), header_bytes=10)\n",
      "cell_geo_nextInSamp  | std::vector<int32_t>     | AsJagged(AsDtype('>i4'), header_bytes=10)\n",
      "cell_geo_prevSubDet  | std::vector<int32_t>     | AsJagged(AsDtype('>i4'), header_bytes=10)\n",
      "cell_geo_nextSubDet  | std::vector<int32_t>     | AsJagged(AsDtype('>i4'), header_bytes=10)\n",
      "cell_geo_prevSupe... | std::vector<int32_t>     | AsJagged(AsDtype('>i4'), header_bytes=10)\n",
      "cell_geo_nextSupe... | std::vector<int32_t>     | AsJagged(AsDtype('>i4'), header_bytes=10)\n"
     ]
    }
   ],
   "source": [
    "#try loading the geo tree separately?\n",
    "geo_file = ur.open('/fast_scratch/atlas_images/v01-45/cell_geo.root')\n",
    "\n",
    "CellGeo_tree = geo_file[\"CellGeo\"]\n",
    "# CellGeo_tree = my_event['CellGeo']\n",
    "\n",
    "CellGeo_tree.show(interpretation_width=60)\n",
    "geo_dict = dict_from_tree_branches_np(CellGeo_tree, geo_branches)"
   ]
  },
  {
   "cell_type": "code",
   "execution_count": 8,
   "id": "264e9f46-904b-4097-a65f-0b0632123ecb",
   "metadata": {},
   "outputs": [
    {
     "data": {
      "text/plain": [
       "17"
      ]
     },
     "execution_count": 8,
     "metadata": {},
     "output_type": "execute_result"
    }
   ],
   "source": [
    "len(event_dict)"
   ]
  },
  {
   "cell_type": "code",
   "execution_count": 18,
   "id": "c9942d44-87e8-4587-a8d0-924652f31e21",
   "metadata": {},
   "outputs": [
    {
     "name": "stdout",
     "output_type": "stream",
     "text": [
      "Single Track Indices, shape (97242,)\n",
      "[ 0  1  2  3  4  5  7  8  9 12 13 14 16 17 20 21 23 24 25 26]\n"
     ]
    }
   ],
   "source": [
    "#pre-select the useful events:\n",
    "\n",
    "# create ordered list of events to use for index slicing\n",
    "nEvents = len(event_dict['eventNumber'])\n",
    "all_events = np.arange(0,nEvents,1,dtype=np.int32)\n",
    "\n",
    "# SINGLE TRACK CUT\n",
    "single_track_mask = event_dict['nTrack'] == np.full(nEvents, 1)\n",
    "filtered_event = all_events[single_track_mask]\n",
    "print('Single Track Indices, shape '+str(np.shape(filtered_event)))\n",
    "print(filtered_event[0:20])"
   ]
  },
  {
   "cell_type": "code",
   "execution_count": 26,
   "id": "05196b44-b6a0-4029-9263-98cb36c2f175",
   "metadata": {},
   "outputs": [
    {
     "name": "stdout",
     "output_type": "stream",
     "text": [
      "Central track indices, shape (30820,)\n",
      "[  1   2   3   4   5   7  12  16  24  38  39  40  42  70  92  97 107 116\n",
      " 124 137]\n"
     ]
    }
   ],
   "source": [
    "#and do eta selection on them:\n",
    "trackEta_EMB1 = ak.flatten(track_dict['trackEta_EMB1'][filtered_event]).to_numpy()\n",
    "\n",
    "central_track_mask = np.abs(trackEta_EMB1) < .7\n",
    "\n",
    "filtered_event = filtered_event[central_track_mask]\n",
    "\n",
    "# Save this for processing track only files later\n",
    "central_single_tracks = filtered_event\n",
    "print('Central track indices, shape '+str(np.shape(filtered_event)))\n",
    "print(filtered_event[0:20])"
   ]
  },
  {
   "cell_type": "code",
   "execution_count": 28,
   "id": "7cd3e184-2d12-478f-ab15-4fadd415b1ee",
   "metadata": {},
   "outputs": [
    {
     "name": "stdout",
     "output_type": "stream",
     "text": [
      "Tracks with clusters, shape (26708,)\n",
      "[  1   2   3   4   5   7  12  16  24  38  40  42  70  92  97 107 116 124\n",
      " 137 155]\n"
     ]
    }
   ],
   "source": [
    "#select single track\n",
    "nCluster = event_dict['nCluster'][filtered_event]\n",
    "filtered_event_mask = nCluster != 0\n",
    "filtered_event = filtered_event[filtered_event_mask]\n",
    "\n",
    "print('Tracks with clusters, shape '+str(np.shape(filtered_event)))\n",
    "print(filtered_event[0:20])"
   ]
  },
  {
   "cell_type": "code",
   "execution_count": 36,
   "id": "894a9c40-0204-4e2f-ae39-72ffa1108532",
   "metadata": {},
   "outputs": [],
   "source": [
    "event = 16"
   ]
  },
  {
   "cell_type": "code",
   "execution_count": 37,
   "id": "733a3665-f6d5-4b3e-af78-adda078e19f0",
   "metadata": {},
   "outputs": [],
   "source": [
    "#this cell doesn't seem to work for all events - event zero didn't work but event 4 did???\n",
    "ak_cluster_cell_ID = event_dict['cluster_cell_ID'][event]\n",
    "cell_geo_ID = geo_dict['cell_geo_ID']\n",
    "\n",
    "nClust = len(ak_cluster_cell_ID)\n",
    "\n",
    "clusters = []\n",
    "for j in range(nClust):\n",
    "    \n",
    "    # find cluster size\n",
    "    _nInClust = len(ak_cluster_cell_ID[j])\n",
    "\n",
    "    # make empty array of cluster info\n",
    "    _cluster = np.zeros((_nInClust, 5))\n",
    "    \n",
    "    # index matching\n",
    "    _indices = find_index_1D(ak_cluster_cell_ID[j].to_numpy(), cell_geo_ID)\n",
    "\n",
    "    _cluster[:,0] = geo_dict[\"cell_geo_eta\"][_indices]\n",
    "    _cluster[:,1] = geo_dict[\"cell_geo_phi\"][_indices]\n",
    "    _cluster[:,2] = geo_dict[\"cell_geo_rPerp\"][_indices]\n",
    "    _cluster[:,3] = event_dict[\"cluster_cell_E\"][event][j].to_numpy()\n",
    "    _cluster[:,4] = geo_dict[\"cell_geo_sampling\"][_indices]\n",
    "    \n",
    "    clusters.append(_cluster)"
   ]
  },
  {
   "cell_type": "code",
   "execution_count": 38,
   "id": "233aaa28-d8ce-4530-8870-1e350ad062d6",
   "metadata": {},
   "outputs": [
    {
     "data": {
      "text/plain": [
       "10"
      ]
     },
     "execution_count": 38,
     "metadata": {},
     "output_type": "execute_result"
    }
   ],
   "source": [
    "len(geo_dict[\"cell_geo_eta\"][_indices])"
   ]
  },
  {
   "cell_type": "code",
   "execution_count": 39,
   "id": "6535002c-4510-4f3b-9314-e1857910a9b7",
   "metadata": {
    "scrolled": true,
    "tags": []
   },
   "outputs": [
    {
     "data": {
      "text/plain": [
       "[array([[-5.00000007e-02,  2.01258278e+00,  3.02000024e+03,\n",
       "          9.02553772e+02,  1.30000000e+01],\n",
       "        [-5.00000007e-02,  1.91440809e+00,  3.02000024e+03,\n",
       "          4.27840462e+01,  1.30000000e+01],\n",
       "        [-5.00000007e-02,  2.11075759e+00,  3.02000000e+03,\n",
       "          8.35553408e-01,  1.30000000e+01],\n",
       "        [-1.50000006e-01,  2.01258278e+00,  3.02000024e+03,\n",
       "          2.50984716e+00,  1.30000000e+01],\n",
       "        [ 5.00000007e-02,  2.01258278e+00,  3.02000024e+03,\n",
       "          1.05131817e+01,  1.30000000e+01],\n",
       "        [-1.50000006e-01,  1.91440809e+00,  3.02000024e+03,\n",
       "          1.17198610e+00,  1.30000000e+01],\n",
       "        [ 5.00000007e-02,  1.91440809e+00,  3.02000024e+03,\n",
       "          3.01107526e+00,  1.30000000e+01],\n",
       "        [-1.50000006e-01,  2.11075759e+00,  3.02000000e+03,\n",
       "          9.77786854e-02,  1.30000000e+01],\n",
       "        [ 5.00000007e-02,  2.11075759e+00,  3.02000000e+03,\n",
       "          5.08522153e-01,  1.30000000e+01],\n",
       "        [-5.00000007e-02,  2.01258278e+00,  2.45000024e+03,\n",
       "          5.13664795e+02,  1.20000000e+01],\n",
       "        [-1.50000006e-01,  2.01258278e+00,  2.45000024e+03,\n",
       "          4.14384753e-01,  1.20000000e+01],\n",
       "        [ 0.00000000e+00,  2.01258278e+00,  3.63000000e+03,\n",
       "          4.47403679e+01,  1.40000000e+01],\n",
       "        [-5.00000007e-02,  1.91440809e+00,  2.45000000e+03,\n",
       "          5.54977083e+00,  1.20000000e+01],\n",
       "        [-5.00000007e-02,  2.11075759e+00,  2.45000000e+03,\n",
       "          2.86706761e-02,  1.20000000e+01],\n",
       "        [ 5.00000007e-02,  2.01258278e+00,  2.45000024e+03,\n",
       "          1.70760942e+00,  1.20000000e+01],\n",
       "        [-1.50000006e-01,  1.91440809e+00,  2.45000000e+03,\n",
       "          3.07102919e-01,  1.20000000e+01],\n",
       "        [ 5.00000007e-02,  1.91440809e+00,  2.45000000e+03,\n",
       "          4.79096472e-01,  1.20000000e+01],\n",
       "        [-1.50000006e-01,  2.11075759e+00,  2.45000000e+03,\n",
       "          8.29416662e-02,  1.20000000e+01],\n",
       "        [-2.35443786e-02,  1.97934604e+00,  1.94185547e+03,\n",
       "          2.69884337e-02,  3.00000000e+00],\n",
       "        [-2.35440750e-02,  2.00391865e+00,  1.94188049e+03,\n",
       "          1.30108371e-02,  3.00000000e+00],\n",
       "        [-2.35437546e-02,  2.02849078e+00,  1.94190698e+03,\n",
       "          2.30680723e-02,  3.00000000e+00],\n",
       "        [-7.36226141e-02,  1.97934604e+00,  1.94190540e+03,\n",
       "          1.10310223e-02,  3.00000000e+00],\n",
       "        [-7.36206695e-02,  2.02849078e+00,  1.94195703e+03,\n",
       "          6.04178477e-03,  3.00000000e+00],\n",
       "        [-7.36196116e-02,  2.05306268e+00,  1.94198486e+03,\n",
       "          1.19937100e-02,  3.00000000e+00],\n",
       "        [ 0.00000000e+00,  1.91440809e+00,  3.63000000e+03,\n",
       "          1.05945215e+01,  1.40000000e+01],\n",
       "        [ 0.00000000e+00,  2.11075759e+00,  3.63000000e+03,\n",
       "          4.58592594e-01,  1.40000000e+01],\n",
       "        [-2.00000003e-01,  2.01258278e+00,  3.63000000e+03,\n",
       "          2.40805477e-01,  1.40000000e+01],\n",
       "        [ 2.00000003e-01,  2.01258278e+00,  3.63000000e+03,\n",
       "          1.13694549e-01,  1.40000000e+01],\n",
       "        [-2.00000003e-01,  1.91440809e+00,  3.63000000e+03,\n",
       "          2.06058905e-01,  1.40000000e+01],\n",
       "        [ 2.00000003e-01,  1.91440809e+00,  3.63000000e+03,\n",
       "          1.06314681e-02,  1.40000000e+01],\n",
       "        [-2.00000003e-01,  2.11075759e+00,  3.63000000e+03,\n",
       "          1.23749778e-01,  1.40000000e+01],\n",
       "        [ 1.50000006e-01,  2.01258278e+00,  3.02000024e+03,\n",
       "          5.69674335e-02,  1.30000000e+01],\n",
       "        [-5.00000007e-02,  1.81623328e+00,  3.02000000e+03,\n",
       "          1.71228483e-01,  1.30000000e+01],\n",
       "        [-1.50000006e-01,  1.81623328e+00,  3.02000000e+03,\n",
       "          1.45693496e-01,  1.30000000e+01],\n",
       "        [ 5.00000007e-02,  1.81623328e+00,  3.02000000e+03,\n",
       "          2.27134153e-01,  1.30000000e+01],\n",
       "        [ 1.50000006e-01,  1.91440809e+00,  3.02000024e+03,\n",
       "          1.64095581e-01,  1.30000000e+01],\n",
       "        [ 1.50000006e-01,  2.11075759e+00,  3.02000000e+03,\n",
       "          2.06720769e-01,  1.30000000e+01],\n",
       "        [-2.50000000e-01,  2.01258278e+00,  3.02000024e+03,\n",
       "          8.02826062e-02,  1.30000000e+01],\n",
       "        [-2.50000000e-01,  1.91440809e+00,  3.02000024e+03,\n",
       "          3.79418395e-02,  1.30000000e+01],\n",
       "        [-2.50000000e-01,  2.11075759e+00,  3.02000000e+03,\n",
       "          4.64027189e-02,  1.30000000e+01],\n",
       "        [-2.50000000e-01,  2.01258278e+00,  2.45000024e+03,\n",
       "          1.87604968e-02,  1.20000000e+01],\n",
       "        [-2.50000000e-01,  1.81623328e+00,  3.02000000e+03,\n",
       "          1.47067755e-01,  1.30000000e+01],\n",
       "        [-2.50000000e-01,  1.91440809e+00,  2.45000000e+03,\n",
       "          4.88360524e-01,  1.20000000e+01],\n",
       "        [-5.00000007e-02,  2.20893240e+00,  3.02000024e+03,\n",
       "          2.93664970e-02,  1.30000000e+01],\n",
       "        [ 5.00000007e-02,  2.20893240e+00,  3.02000024e+03,\n",
       "          1.57086421e-02,  1.30000000e+01],\n",
       "        [ 1.50000006e-01,  2.11075759e+00,  2.45000000e+03,\n",
       "          1.41907651e-02,  1.20000000e+01],\n",
       "        [-2.50000000e-01,  2.11075759e+00,  2.45000000e+03,\n",
       "          2.10809931e-02,  1.20000000e+01],\n",
       "        [-1.23704039e-01,  1.97934604e+00,  1.94203052e+03,\n",
       "          4.60442193e-02,  3.00000000e+00],\n",
       "        [-1.23700768e-01,  2.02849078e+00,  1.94208203e+03,\n",
       "          4.88733165e-02,  3.00000000e+00],\n",
       "        [-1.73788130e-01,  1.97934604e+00,  1.94215552e+03,\n",
       "          2.60289367e-02,  3.00000000e+00],\n",
       "        [ 0.00000000e+00,  1.81623328e+00,  3.63000000e+03,\n",
       "          1.83652103e-01,  1.40000000e+01],\n",
       "        [-2.00000003e-01,  1.81623328e+00,  3.63000000e+03,\n",
       "          5.28308228e-02,  1.40000000e+01],\n",
       "        [-1.50000006e-01,  1.81623328e+00,  2.45000000e+03,\n",
       "          5.86032271e-02,  1.20000000e+01],\n",
       "        [-2.35449355e-02,  1.93020010e+00,  1.94180945e+03,\n",
       "          1.80221181e-02,  3.00000000e+00],\n",
       "        [ 2.60253530e-02,  2.02328753e+00,  1.94111877e+03,\n",
       "          4.50121351e-02,  3.00000000e+00],\n",
       "        [ 2.60243807e-02,  2.04786921e+00,  1.94119128e+03,\n",
       "          1.99412387e-02,  3.00000000e+00],\n",
       "        [ 7.61163309e-02,  2.02328753e+00,  1.94116870e+03,\n",
       "          1.80221181e-02,  3.00000000e+00],\n",
       "        [-3.49999994e-01,  1.81623328e+00,  2.45000000e+03,\n",
       "          1.44609157e-02,  1.20000000e+01],\n",
       "        [-3.49999994e-01,  2.01258278e+00,  2.45000024e+03,\n",
       "          1.33359395e-02,  1.20000000e+01],\n",
       "        [-2.23884270e-01,  1.88105297e+00,  1.94229431e+03,\n",
       "          5.03008207e-03,  3.00000000e+00],\n",
       "        [-2.23879695e-01,  1.93019998e+00,  1.94233447e+03,\n",
       "          1.50493318e-02,  3.00000000e+00],\n",
       "        [-2.23877177e-01,  1.95477307e+00,  1.94235681e+03,\n",
       "          1.10310223e-02,  3.00000000e+00],\n",
       "        [-2.73971766e-01,  1.90562654e+00,  1.94256360e+03,\n",
       "          9.99554992e-03,  3.00000000e+00],\n",
       "        [ 2.60306541e-02,  1.87578011e+00,  1.94072351e+03,\n",
       "          2.89775897e-02,  3.00000000e+00],\n",
       "        [ 2.60281209e-02,  1.94953763e+00,  1.94091223e+03,\n",
       "          1.60578992e-02,  3.00000000e+00],\n",
       "        [ 7.61269480e-02,  1.92495263e+00,  1.94089722e+03,\n",
       "          3.00078113e-02,  3.00000000e+00],\n",
       "        [ 7.61244074e-02,  1.94953763e+00,  1.94096228e+03,\n",
       "          1.39271272e-02,  3.00000000e+00],\n",
       "        [-1.23708270e-01,  1.90562665e+00,  1.94196362e+03,\n",
       "          2.09498834e-02,  3.00000000e+00],\n",
       "        [-1.23706952e-01,  1.93020010e+00,  1.94198462e+03,\n",
       "          2.50924546e-02,  3.00000000e+00],\n",
       "        [-1.23705536e-01,  1.95477319e+00,  1.94200684e+03,\n",
       "          3.10621634e-02,  3.00000000e+00],\n",
       "        [-1.73794046e-01,  1.90562665e+00,  1.94208862e+03,\n",
       "          1.19937100e-02,  3.00000000e+00],\n",
       "        [-4.00000006e-01,  2.01258278e+00,  3.63000000e+03,\n",
       "          5.72260562e-03,  1.40000000e+01],\n",
       "        [-4.00000006e-01,  1.91440809e+00,  3.63000000e+03,\n",
       "          3.94595191e-02,  1.40000000e+01],\n",
       "        [-5.00000007e-02,  1.71805859e+00,  3.02000000e+03,\n",
       "          1.72356181e-02,  1.30000000e+01],\n",
       "        [ 1.50000006e-01,  1.71805859e+00,  3.02000000e+03,\n",
       "          1.70643087e-02,  1.30000000e+01],\n",
       "        [ 2.50000000e-01,  2.11075759e+00,  3.02000000e+03,\n",
       "          3.66956979e-01,  1.30000000e+01],\n",
       "        [ 2.50000000e-01,  2.20893240e+00,  3.02000024e+03,\n",
       "          4.80197780e-02,  1.30000000e+01],\n",
       "        [ 2.50000000e-01,  2.11075759e+00,  2.45000000e+03,\n",
       "          1.51528344e-02,  1.20000000e+01],\n",
       "        [-4.00000006e-01,  2.20893240e+00,  3.63000000e+03,\n",
       "          9.96401627e-03,  1.40000000e+01],\n",
       "        [ 4.00000006e-01,  2.01258278e+00,  3.63000000e+03,\n",
       "          3.24211605e-02,  1.40000000e+01],\n",
       "        [ 3.49999994e-01,  2.01258278e+00,  3.02000024e+03,\n",
       "          6.05594926e-03,  1.30000000e+01],\n",
       "        [ 3.49999994e-01,  2.11075759e+00,  3.02000000e+03,\n",
       "          2.80552022e-02,  1.30000000e+01],\n",
       "        [ 3.49999994e-01,  2.20893240e+00,  3.02000024e+03,\n",
       "          5.64643554e-03,  1.30000000e+01],\n",
       "        [ 3.49999994e-01,  2.11075759e+00,  2.45000000e+03,\n",
       "          3.21695134e-02,  1.20000000e+01],\n",
       "        [-2.00000003e-01,  1.71805859e+00,  3.63000000e+03,\n",
       "          1.67418495e-02,  1.40000000e+01],\n",
       "        [ 2.00000003e-01,  1.71805859e+00,  3.63000000e+03,\n",
       "          7.50068203e-03,  1.40000000e+01]]),\n",
       " array([[-3.59009504e-02,  1.97940040e+00,  1.75535327e+03,\n",
       "          3.59414637e-01,  2.00000000e+00],\n",
       "        [-3.59004401e-02,  2.00397587e+00,  1.75537830e+03,\n",
       "          6.30419999e-02,  2.00000000e+00],\n",
       "        [-1.08653400e-02,  1.97940040e+00,  1.75535327e+03,\n",
       "          5.68458177e-02,  2.00000000e+00],\n",
       "        [-6.09375723e-02,  1.97940040e+00,  1.75540320e+03,\n",
       "          5.80509901e-02,  2.00000000e+00],\n",
       "        [-1.08651845e-02,  2.00397587e+00,  1.75537830e+03,\n",
       "          3.10621634e-02,  2.00000000e+00],\n",
       "        [-6.09367043e-02,  2.00397587e+00,  1.75542822e+03,\n",
       "          1.60578992e-02,  2.00000000e+00],\n",
       "        [-3.41097005e-02,  2.01634884e+00,  1.54125342e+03,\n",
       "          1.50493318e-02,  1.00000000e+00],\n",
       "        [-3.72394882e-02,  2.01634884e+00,  1.54125342e+03,\n",
       "          6.09290376e-02,  1.00000000e+00],\n",
       "        [-4.66289558e-02,  2.01634884e+00,  1.54125342e+03,\n",
       "          1.19937100e-02,  1.00000000e+00],\n",
       "        [-3.55684720e-02,  2.01639056e+00,  1.45440564e+03,\n",
       "          1.26753420e-01,  0.00000000e+00]])]"
      ]
     },
     "execution_count": 39,
     "metadata": {},
     "output_type": "execute_result"
    }
   ],
   "source": [
    "clusters"
   ]
  },
  {
   "cell_type": "code",
   "execution_count": 40,
   "id": "f1bb0f95-987b-4223-a609-55ace2e5f4c0",
   "metadata": {},
   "outputs": [
    {
     "name": "stdout",
     "output_type": "stream",
     "text": [
      "1\n"
     ]
    }
   ],
   "source": [
    "n_tracks = event_dict['nTrack'][event]\n",
    "print(n_tracks)\n",
    "\n",
    "all_clusters = np.ndarray.copy(clusters[0])\n",
    "for i in range(1,len(clusters)):\n",
    "    all_clusters = np.vstack((all_clusters, clusters[i]))"
   ]
  },
  {
   "cell_type": "code",
   "execution_count": 41,
   "id": "e33c74cb-27b8-477e-87e2-c4328beb9a0a",
   "metadata": {},
   "outputs": [
    {
     "name": "stdout",
     "output_type": "stream",
     "text": [
      "[1541.25 1755.38 1941.77 2450.   3020.   3630.  ]\n"
     ]
    }
   ],
   "source": [
    "layer_rPerp = []\n",
    "layer_filter = [1,2,3,12,13,14]\n",
    "\n",
    "for _layer in layer_filter:\n",
    "    _mask = all_clusters[:,4] == _layer\n",
    "    _rPerp_layer = all_clusters[_mask,2]\n",
    "    layer_rPerp.append(np.mean(_rPerp_layer))\n",
    "np.array(layer_rPerp)\n",
    "print(np.round(layer_rPerp,2))"
   ]
  },
  {
   "cell_type": "code",
   "execution_count": 35,
   "id": "6420f4bd-d63e-446a-abae-018d2852f62c",
   "metadata": {},
   "outputs": [],
   "source": [
    "tracks = np.zeros(12)\n",
    "i = 0\n",
    "for _key in track_branches:\n",
    "    tracks[i] = track_dict[_key][event][0]\n",
    "    i += 1\n",
    "tracks = np.reshape(tracks, (6,2))\n",
    "tracks = np.column_stack((tracks,layer_rPerp))"
   ]
  },
  {
   "cell_type": "code",
   "execution_count": null,
   "id": "850d8f4a-70c6-43c5-a612-3dfd51746c40",
   "metadata": {},
   "outputs": [],
   "source": []
  }
 ],
 "metadata": {
  "kernelspec": {
   "display_name": "Python 3",
   "language": "python",
   "name": "python3"
  },
  "language_info": {
   "codemirror_mode": {
    "name": "ipython",
    "version": 3
   },
   "file_extension": ".py",
   "mimetype": "text/x-python",
   "name": "python",
   "nbconvert_exporter": "python",
   "pygments_lexer": "ipython3",
   "version": "3.8.5"
  }
 },
 "nbformat": 4,
 "nbformat_minor": 5
}
