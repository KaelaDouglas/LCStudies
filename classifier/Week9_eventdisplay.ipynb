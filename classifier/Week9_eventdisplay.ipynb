{
 "cells": [
  {
   "cell_type": "markdown",
   "id": "c7d985cb-5c1d-46e4-b675-ebb1a7999f40",
   "metadata": {},
   "source": [
    "To Adapt Russell's code for making nice event displays and examine some of my own data that way!"
   ]
  },
  {
   "cell_type": "code",
   "execution_count": 2,
   "id": "3aadcbda-2479-42ae-a142-8b39f702f4e1",
   "metadata": {},
   "outputs": [
    {
     "name": "stdout",
     "output_type": "stream",
     "text": [
      "Awkward version: 1.2.2\n",
      "Uproot version: 4.0.7\n",
      "Vector version: 0.8.1\n"
     ]
    }
   ],
   "source": [
    "# python\n",
    "import numpy as np\n",
    "import time as t\n",
    "\n",
    "# physics\n",
    "import uproot as ur\n",
    "import awkward as ak\n",
    "import vector as vec\n",
    "print(\"Awkward version: \"+str(ak.__version__))\n",
    "print(\"Uproot version: \"+str(ur.__version__))\n",
    "print(\"Vector version: \"+str(vec.__version__))\n",
    "\n",
    "# visualization tools\n",
    "import matplotlib.pyplot as plt\n",
    "from matplotlib import cm\n",
    "from matplotlib.colors import Normalize"
   ]
  },
  {
   "cell_type": "code",
   "execution_count": 3,
   "id": "c6b70f30-8e4f-4a5c-b87c-c04d6e34ce8e",
   "metadata": {},
   "outputs": [],
   "source": [
    "track_branches = ['trackEta_EMB1', 'trackPhi_EMB1', 'trackEta_EMB2', 'trackPhi_EMB2', 'trackEta_EMB3', 'trackPhi_EMB3',\n",
    "                  'trackEta_TileBar0', 'trackPhi_TileBar0', 'trackEta_TileBar1', 'trackPhi_TileBar1',\n",
    "                  'trackEta_TileBar2', 'trackPhi_TileBar2']\n",
    "\n",
    "event_branches = [\"cluster_nCells\", \"cluster_cell_ID\", \"cluster_cell_E\", 'cluster_nCells', \"nCluster\", \"eventNumber\",\n",
    "                  \"nTrack\", \"nTruthPart\", \"truthPartPdgId\", \"cluster_Eta\", \"cluster_Phi\", 'trackPt', 'trackP',\n",
    "                  'trackMass', 'trackEta', 'trackPhi', 'truthPartE', 'cluster_ENG_CALIB_TOT']\n",
    "\n",
    "geo_branches = [\"cell_geo_ID\", \"cell_geo_eta\", \"cell_geo_phi\", \"cell_geo_rPerp\", \"cell_geo_sampling\"]"
   ]
  },
  {
   "cell_type": "code",
   "execution_count": 4,
   "id": "f3dec0c2-5a17-425b-8a3c-2e3daa20729a",
   "metadata": {},
   "outputs": [],
   "source": [
    "#helper function definitions:\n",
    "\n",
    "def dict_from_event_tree(_event_tree, _branches):\n",
    "    ''' The purpose for this separate function is to load np arrays where possible. '''\n",
    "    _special_keys = [\"nCluster\", \"eventNumber\", \"nTrack\", \"nTruthPart\"]\n",
    "    _dict = dict()\n",
    "    for _key in _branches:\n",
    "        if _key in _special_keys:\n",
    "            _branch = _event_tree.arrays(filter_name=_key)[_key].to_numpy()\n",
    "        else:\n",
    "            _branch = _event_tree.arrays(filter_name=_key)[_key]\n",
    "        _dict[_key] = _branch\n",
    "    return _dict\n",
    "\n",
    "def dict_from_tree_branches(_tree, _branches):\n",
    "    ''' Helper function to put event data in branches to make things easier to pass to functions,\n",
    "    pretty self explanatory. '''\n",
    "    _dict = dict()\n",
    "    for _key in _branches:\n",
    "        _branch = _tree.arrays(filter_name=_key)[_key]\n",
    "        _dict[_key] = _branch\n",
    "    return _dict\n",
    "\n",
    "def dict_from_tree_branches_np(_tree, _branches):\n",
    "    ''' Helper function to put event data in branches to make things easier to pass to functions,\n",
    "    pretty self explanatory. This always returns np arrays in the dict. '''\n",
    "    _dict = dict()\n",
    "    for _key in _branches:\n",
    "        _branch = np.ndarray.flatten(_tree.arrays(filter_name=_key)[_key].to_numpy())\n",
    "        _dict[_key] = _branch\n",
    "    return _dict\n",
    "\n",
    "def find_index_1D(_values, _unsorted):\n",
    "    ''' This function is a vectorized helper function to return the 1D locations of elements in a \n",
    "    larger unsorted list (i.e. cell geo locations). It does this by repeating/tiling arrays so they\n",
    "    have equal shape and then simply comparing where the elements are equal and returning a slice\n",
    "    where the indices match.\n",
    "    Inputs: \n",
    "        _values: the values for which to search for the locations of in _unsorted\n",
    "        _unsorted: the larger un-sorted list of elements to match\n",
    "    Returns:\n",
    "        _locs: locations of _values in _unsorted respectively. '''\n",
    "    _shape = (len(_values), len(_unsorted))\n",
    "    _values_2d = np.repeat(_values, repeats=len(_unsorted)).reshape(_shape)\n",
    "    _unsorted_2d = np.tile(_unsorted, reps=len(_values)).reshape(_shape)\n",
    "    \n",
    "    _idx_vec = np.argwhere(np.asarray(_values_2d == _unsorted_2d))\n",
    "    return _idx_vec[:,1]\n",
    "\n",
    "def to_xyz(_coords):\n",
    "    ''' Simple geometric conversion to xyz from eta, phi, rperp (READ: in this order)\n",
    "    There is an elegant way to generalize this to be flexible for 1d or 2d, for now 2d\n",
    "    Inputs: np array of shape (N, 3) where columns are [eta, phi, rPerp]\n",
    "    Outputs: np array of shape (N, 3) where columns are [x,y,z] '''\n",
    "    _eta = _coords[:,0]\n",
    "    _phi = _coords[:,1]\n",
    "    _rperp = _coords[:,2]\n",
    "    _theta = 2*np.arctan( np.exp(-_eta) )\n",
    "    \n",
    "    cell_x = _rperp*np.cos(_phi)\n",
    "    cell_y = _rperp*np.sin(_phi)\n",
    "    cell_z = _rperp/np.tan(_theta)\n",
    "    \n",
    "    return np.column_stack([cell_x,cell_y,cell_z])"
   ]
  },
  {
   "cell_type": "code",
   "execution_count": 5,
   "id": "5dc44983-b938-4830-911b-b5a6b39b989a",
   "metadata": {},
   "outputs": [
    {
     "data": {
      "text/plain": [
       "['EventTree;1', 'CellGeo;1']"
      ]
     },
     "execution_count": 5,
     "metadata": {},
     "output_type": "execute_result"
    }
   ],
   "source": [
    "data_path = '/fast_scratch/atlas_images/v01-45/'\n",
    "pi0 = ur.open(data_path+'pi0_medium.root')\n",
    "pi0.keys()"
   ]
  },
  {
   "cell_type": "code",
   "execution_count": 6,
   "id": "984d5e6a-443b-455d-a20d-be3630ccd904",
   "metadata": {},
   "outputs": [],
   "source": [
    "event_tree = pi0['EventTree']\n",
    "geo_tree = pi0['CellGeo']"
   ]
  },
  {
   "cell_type": "code",
   "execution_count": 7,
   "id": "f882f399-54de-48b5-8cbe-7a96eaaa7dd7",
   "metadata": {},
   "outputs": [],
   "source": [
    "event_dict = dict_from_event_tree(event_tree, event_branches)\n",
    "track_dict = dict_from_tree_branches(event_tree, track_branches)\n",
    "geo_dict = dict_from_tree_branches_np(geo_tree, geo_branches)"
   ]
  },
  {
   "cell_type": "code",
   "execution_count": 8,
   "id": "264e9f46-904b-4097-a65f-0b0632123ecb",
   "metadata": {},
   "outputs": [
    {
     "data": {
      "text/plain": [
       "17"
      ]
     },
     "execution_count": 8,
     "metadata": {},
     "output_type": "execute_result"
    }
   ],
   "source": [
    "len(event_dict)"
   ]
  },
  {
   "cell_type": "code",
   "execution_count": 9,
   "id": "894a9c40-0204-4e2f-ae39-72ffa1108532",
   "metadata": {},
   "outputs": [],
   "source": [
    "event = 0"
   ]
  },
  {
   "cell_type": "code",
   "execution_count": 10,
   "id": "e6578e33-8d44-4d49-a05b-bfa56ebc3560",
   "metadata": {},
   "outputs": [
    {
     "ename": "ValueError",
     "evalue": "operands could not be broadcast together with shapes (1,24) (1,3753000) ",
     "output_type": "error",
     "traceback": [
      "\u001b[0;31m---------------------------------------------------------------------------\u001b[0m",
      "\u001b[0;31mValueError\u001b[0m                                Traceback (most recent call last)",
      "\u001b[0;32m<ipython-input-10-e692ffd2a456>\u001b[0m in \u001b[0;36m<module>\u001b[0;34m\u001b[0m\n\u001b[1;32m      9\u001b[0m \u001b[0;34m\u001b[0m\u001b[0m\n\u001b[1;32m     10\u001b[0m     \u001b[0m_cell_ID\u001b[0m \u001b[0;34m=\u001b[0m \u001b[0mak_cluster_cell_ID\u001b[0m\u001b[0;34m[\u001b[0m\u001b[0mj\u001b[0m\u001b[0;34m]\u001b[0m\u001b[0;34m\u001b[0m\u001b[0;34m\u001b[0m\u001b[0m\n\u001b[0;32m---> 11\u001b[0;31m     \u001b[0m_cell_idx\u001b[0m\u001b[0;34m[\u001b[0m\u001b[0mj\u001b[0m\u001b[0;34m]\u001b[0m \u001b[0;34m=\u001b[0m \u001b[0mnp\u001b[0m\u001b[0;34m.\u001b[0m\u001b[0margmax\u001b[0m\u001b[0;34m(\u001b[0m\u001b[0m_cell_ID\u001b[0m \u001b[0;34m==\u001b[0m \u001b[0mcell_geo_ID\u001b[0m\u001b[0;34m)\u001b[0m\u001b[0;34m\u001b[0m\u001b[0;34m\u001b[0m\u001b[0m\n\u001b[0m\u001b[1;32m     12\u001b[0m \u001b[0;34m\u001b[0m\u001b[0m\n\u001b[1;32m     13\u001b[0m     \u001b[0;31m# make empty array of cluster info\u001b[0m\u001b[0;34m\u001b[0m\u001b[0;34m\u001b[0m\u001b[0;34m\u001b[0m\u001b[0m\n",
      "\u001b[0;32m/usr/local/lib/python3.8/dist-packages/numpy/lib/mixins.py\u001b[0m in \u001b[0;36mfunc\u001b[0;34m(self, other)\u001b[0m\n\u001b[1;32m     19\u001b[0m         \u001b[0;32mif\u001b[0m \u001b[0m_disables_array_ufunc\u001b[0m\u001b[0;34m(\u001b[0m\u001b[0mother\u001b[0m\u001b[0;34m)\u001b[0m\u001b[0;34m:\u001b[0m\u001b[0;34m\u001b[0m\u001b[0;34m\u001b[0m\u001b[0m\n\u001b[1;32m     20\u001b[0m             \u001b[0;32mreturn\u001b[0m \u001b[0mNotImplemented\u001b[0m\u001b[0;34m\u001b[0m\u001b[0;34m\u001b[0m\u001b[0m\n\u001b[0;32m---> 21\u001b[0;31m         \u001b[0;32mreturn\u001b[0m \u001b[0mufunc\u001b[0m\u001b[0;34m(\u001b[0m\u001b[0mself\u001b[0m\u001b[0;34m,\u001b[0m \u001b[0mother\u001b[0m\u001b[0;34m)\u001b[0m\u001b[0;34m\u001b[0m\u001b[0;34m\u001b[0m\u001b[0m\n\u001b[0m\u001b[1;32m     22\u001b[0m     \u001b[0mfunc\u001b[0m\u001b[0;34m.\u001b[0m\u001b[0m__name__\u001b[0m \u001b[0;34m=\u001b[0m \u001b[0;34m'__{}__'\u001b[0m\u001b[0;34m.\u001b[0m\u001b[0mformat\u001b[0m\u001b[0;34m(\u001b[0m\u001b[0mname\u001b[0m\u001b[0;34m)\u001b[0m\u001b[0;34m\u001b[0m\u001b[0;34m\u001b[0m\u001b[0m\n\u001b[1;32m     23\u001b[0m     \u001b[0;32mreturn\u001b[0m \u001b[0mfunc\u001b[0m\u001b[0;34m\u001b[0m\u001b[0;34m\u001b[0m\u001b[0m\n",
      "\u001b[0;32m/usr/local/lib/python3.8/dist-packages/awkward/highlevel.py\u001b[0m in \u001b[0;36m__array_ufunc__\u001b[0;34m(self, ufunc, method, *inputs, **kwargs)\u001b[0m\n\u001b[1;32m   1377\u001b[0m         \u001b[0mSee\u001b[0m \u001b[0malso\u001b[0m \u001b[0;31m#__array_function__.\u001b[0m\u001b[0;34m\u001b[0m\u001b[0;34m\u001b[0m\u001b[0m\n\u001b[1;32m   1378\u001b[0m         \"\"\"\n\u001b[0;32m-> 1379\u001b[0;31m         \u001b[0;32mreturn\u001b[0m \u001b[0mak\u001b[0m\u001b[0;34m.\u001b[0m\u001b[0m_connect\u001b[0m\u001b[0;34m.\u001b[0m\u001b[0m_numpy\u001b[0m\u001b[0;34m.\u001b[0m\u001b[0marray_ufunc\u001b[0m\u001b[0;34m(\u001b[0m\u001b[0mufunc\u001b[0m\u001b[0;34m,\u001b[0m \u001b[0mmethod\u001b[0m\u001b[0;34m,\u001b[0m \u001b[0minputs\u001b[0m\u001b[0;34m,\u001b[0m \u001b[0mkwargs\u001b[0m\u001b[0;34m)\u001b[0m\u001b[0;34m\u001b[0m\u001b[0;34m\u001b[0m\u001b[0m\n\u001b[0m\u001b[1;32m   1380\u001b[0m \u001b[0;34m\u001b[0m\u001b[0m\n\u001b[1;32m   1381\u001b[0m     \u001b[0;32mdef\u001b[0m \u001b[0m__array_function__\u001b[0m\u001b[0;34m(\u001b[0m\u001b[0mself\u001b[0m\u001b[0;34m,\u001b[0m \u001b[0mfunc\u001b[0m\u001b[0;34m,\u001b[0m \u001b[0mtypes\u001b[0m\u001b[0;34m,\u001b[0m \u001b[0margs\u001b[0m\u001b[0;34m,\u001b[0m \u001b[0mkwargs\u001b[0m\u001b[0;34m)\u001b[0m\u001b[0;34m:\u001b[0m\u001b[0;34m\u001b[0m\u001b[0;34m\u001b[0m\u001b[0m\n",
      "\u001b[0;32m/usr/local/lib/python3.8/dist-packages/awkward/_connect/_numpy.py\u001b[0m in \u001b[0;36marray_ufunc\u001b[0;34m(ufunc, method, inputs, kwargs)\u001b[0m\n\u001b[1;32m    204\u001b[0m         \u001b[0;32mreturn\u001b[0m \u001b[0;32mNone\u001b[0m\u001b[0;34m\u001b[0m\u001b[0;34m\u001b[0m\u001b[0m\n\u001b[1;32m    205\u001b[0m \u001b[0;34m\u001b[0m\u001b[0m\n\u001b[0;32m--> 206\u001b[0;31m     out = ak._util.broadcast_and_apply(\n\u001b[0m\u001b[1;32m    207\u001b[0m         \u001b[0minputs\u001b[0m\u001b[0;34m,\u001b[0m \u001b[0mgetfunction\u001b[0m\u001b[0;34m,\u001b[0m \u001b[0mbehavior\u001b[0m\u001b[0;34m,\u001b[0m \u001b[0mallow_records\u001b[0m\u001b[0;34m=\u001b[0m\u001b[0;32mFalse\u001b[0m\u001b[0;34m,\u001b[0m \u001b[0mpass_depth\u001b[0m\u001b[0;34m=\u001b[0m\u001b[0;32mFalse\u001b[0m\u001b[0;34m\u001b[0m\u001b[0;34m\u001b[0m\u001b[0m\n\u001b[1;32m    208\u001b[0m     )\n",
      "\u001b[0;32m/usr/local/lib/python3.8/dist-packages/awkward/_util.py\u001b[0m in \u001b[0;36mbroadcast_and_apply\u001b[0;34m(inputs, getfunction, behavior, allow_records, pass_depth, pass_user, user, left_broadcast, right_broadcast, numpy_to_regular, regular_to_jagged)\u001b[0m\n\u001b[1;32m   1045\u001b[0m     \u001b[0;32melse\u001b[0m\u001b[0;34m:\u001b[0m\u001b[0;34m\u001b[0m\u001b[0;34m\u001b[0m\u001b[0m\n\u001b[1;32m   1046\u001b[0m         \u001b[0misscalar\u001b[0m \u001b[0;34m=\u001b[0m \u001b[0;34m[\u001b[0m\u001b[0;34m]\u001b[0m\u001b[0;34m\u001b[0m\u001b[0;34m\u001b[0m\u001b[0m\n\u001b[0;32m-> 1047\u001b[0;31m         \u001b[0mout\u001b[0m \u001b[0;34m=\u001b[0m \u001b[0mapply\u001b[0m\u001b[0;34m(\u001b[0m\u001b[0mbroadcast_pack\u001b[0m\u001b[0;34m(\u001b[0m\u001b[0minputs\u001b[0m\u001b[0;34m,\u001b[0m \u001b[0misscalar\u001b[0m\u001b[0;34m)\u001b[0m\u001b[0;34m,\u001b[0m \u001b[0;36m0\u001b[0m\u001b[0;34m,\u001b[0m \u001b[0muser\u001b[0m\u001b[0;34m)\u001b[0m\u001b[0;34m\u001b[0m\u001b[0;34m\u001b[0m\u001b[0m\n\u001b[0m\u001b[1;32m   1048\u001b[0m         \u001b[0;32massert\u001b[0m \u001b[0misinstance\u001b[0m\u001b[0;34m(\u001b[0m\u001b[0mout\u001b[0m\u001b[0;34m,\u001b[0m \u001b[0mtuple\u001b[0m\u001b[0;34m)\u001b[0m\u001b[0;34m\u001b[0m\u001b[0;34m\u001b[0m\u001b[0m\n\u001b[1;32m   1049\u001b[0m         \u001b[0;32mreturn\u001b[0m \u001b[0mtuple\u001b[0m\u001b[0;34m(\u001b[0m\u001b[0mbroadcast_unpack\u001b[0m\u001b[0;34m(\u001b[0m\u001b[0mx\u001b[0m\u001b[0;34m,\u001b[0m \u001b[0misscalar\u001b[0m\u001b[0;34m)\u001b[0m \u001b[0;32mfor\u001b[0m \u001b[0mx\u001b[0m \u001b[0;32min\u001b[0m \u001b[0mout\u001b[0m\u001b[0;34m)\u001b[0m\u001b[0;34m\u001b[0m\u001b[0;34m\u001b[0m\u001b[0m\n",
      "\u001b[0;32m/usr/local/lib/python3.8/dist-packages/awkward/_util.py\u001b[0m in \u001b[0;36mapply\u001b[0;34m(inputs, depth, user)\u001b[0m\n\u001b[1;32m    618\u001b[0m             \u001b[0margs\u001b[0m \u001b[0;34m=\u001b[0m \u001b[0margs\u001b[0m \u001b[0;34m+\u001b[0m \u001b[0;34m(\u001b[0m\u001b[0muser\u001b[0m\u001b[0;34m,\u001b[0m\u001b[0;34m)\u001b[0m\u001b[0;34m\u001b[0m\u001b[0;34m\u001b[0m\u001b[0m\n\u001b[1;32m    619\u001b[0m \u001b[0;34m\u001b[0m\u001b[0m\n\u001b[0;32m--> 620\u001b[0;31m         \u001b[0mcustom\u001b[0m \u001b[0;34m=\u001b[0m \u001b[0mgetfunction\u001b[0m\u001b[0;34m(\u001b[0m\u001b[0minputs\u001b[0m\u001b[0;34m,\u001b[0m \u001b[0;34m*\u001b[0m\u001b[0margs\u001b[0m\u001b[0;34m)\u001b[0m\u001b[0;34m\u001b[0m\u001b[0;34m\u001b[0m\u001b[0m\n\u001b[0m\u001b[1;32m    621\u001b[0m         \u001b[0;32mif\u001b[0m \u001b[0mcallable\u001b[0m\u001b[0;34m(\u001b[0m\u001b[0mcustom\u001b[0m\u001b[0;34m)\u001b[0m\u001b[0;34m:\u001b[0m\u001b[0;34m\u001b[0m\u001b[0;34m\u001b[0m\u001b[0m\n\u001b[1;32m    622\u001b[0m             \u001b[0;32mreturn\u001b[0m \u001b[0mcustom\u001b[0m\u001b[0;34m(\u001b[0m\u001b[0;34m)\u001b[0m\u001b[0;34m\u001b[0m\u001b[0;34m\u001b[0m\u001b[0m\n",
      "\u001b[0;32m/usr/local/lib/python3.8/dist-packages/awkward/_connect/_numpy.py\u001b[0m in \u001b[0;36mgetfunction\u001b[0;34m(inputs)\u001b[0m\n\u001b[1;32m    158\u001b[0m         ):\n\u001b[1;32m    159\u001b[0m             \u001b[0mnplike\u001b[0m \u001b[0;34m=\u001b[0m \u001b[0mak\u001b[0m\u001b[0;34m.\u001b[0m\u001b[0mnplike\u001b[0m\u001b[0;34m.\u001b[0m\u001b[0mof\u001b[0m\u001b[0;34m(\u001b[0m\u001b[0;34m*\u001b[0m\u001b[0minputs\u001b[0m\u001b[0;34m)\u001b[0m\u001b[0;34m\u001b[0m\u001b[0;34m\u001b[0m\u001b[0m\n\u001b[0;32m--> 160\u001b[0;31m             result = getattr(ufunc, method)(\n\u001b[0m\u001b[1;32m    161\u001b[0m                 \u001b[0;34m*\u001b[0m\u001b[0;34m[\u001b[0m\u001b[0mnplike\u001b[0m\u001b[0;34m.\u001b[0m\u001b[0masarray\u001b[0m\u001b[0;34m(\u001b[0m\u001b[0mx\u001b[0m\u001b[0;34m)\u001b[0m \u001b[0;32mfor\u001b[0m \u001b[0mx\u001b[0m \u001b[0;32min\u001b[0m \u001b[0minputs\u001b[0m\u001b[0;34m]\u001b[0m\u001b[0;34m,\u001b[0m \u001b[0;34m**\u001b[0m\u001b[0mkwargs\u001b[0m\u001b[0;34m\u001b[0m\u001b[0;34m\u001b[0m\u001b[0m\n\u001b[1;32m    162\u001b[0m             )\n",
      "\u001b[0;31mValueError\u001b[0m: operands could not be broadcast together with shapes (1,24) (1,3753000) "
     ]
    }
   ],
   "source": [
    "ak_cluster_cell_ID = event_dict['cluster_cell_ID'][event]\n",
    "cell_geo_ID = geo_dict['cell_geo_ID']\n",
    "\n",
    "nClust = len(ak_cluster_cell_ID)\n",
    "_cell_idx = np.zeros(nClust, dtype=np.int32)\n",
    "    \n",
    "clusters = []\n",
    "for j in range(nClust):\n",
    "\n",
    "    _cell_ID = ak_cluster_cell_ID[j]\n",
    "    _cell_idx[j] = np.argmax(_cell_ID == cell_geo_ID)\n",
    "\n",
    "    # make empty array of cluster info\n",
    "    _cluster = np.zeros((_nInClust, 5))\n",
    "    \n",
    "    # index matching\n",
    "    _indices = find_index_1D(_cell_idx[j].to_numpy(), cell_geo_ID)\n",
    "\n",
    "    _cluster[:,0] = geo_dict[\"cell_geo_eta\"][_indices]\n",
    "    _cluster[:,1] = geo_dict[\"cell_geo_phi\"][_indices]\n",
    "    _cluster[:,2] = geo_dict[\"cell_geo_rPerp\"][_indices]\n",
    "    _cluster[:,3] = event_dict[\"cluster_cell_E\"][event][j].to_numpy()\n",
    "    _cluster[:,4] = geo_dict[\"cell_geo_sampling\"][_indices]\n",
    "    \n",
    "    clusters.append(_cluster)"
   ]
  },
  {
   "cell_type": "code",
   "execution_count": 14,
   "id": "233aaa28-d8ce-4530-8870-1e350ad062d6",
   "metadata": {},
   "outputs": [
    {
     "data": {
      "text/plain": [
       "480"
      ]
     },
     "execution_count": 14,
     "metadata": {},
     "output_type": "execute_result"
    }
   ],
   "source": [
    "len(geo_dict[\"cell_geo_eta\"][_indices])"
   ]
  },
  {
   "cell_type": "code",
   "execution_count": null,
   "id": "f1bb0f95-987b-4223-a609-55ace2e5f4c0",
   "metadata": {},
   "outputs": [],
   "source": []
  }
 ],
 "metadata": {
  "kernelspec": {
   "display_name": "Python 3",
   "language": "python",
   "name": "python3"
  },
  "language_info": {
   "codemirror_mode": {
    "name": "ipython",
    "version": 3
   },
   "file_extension": ".py",
   "mimetype": "text/x-python",
   "name": "python",
   "nbconvert_exporter": "python",
   "pygments_lexer": "ipython3",
   "version": "3.8.5"
  }
 },
 "nbformat": 4,
 "nbformat_minor": 5
}
