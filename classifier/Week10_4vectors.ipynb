{
 "cells": [
  {
   "cell_type": "markdown",
   "id": "07d46f38-55ab-499d-bc96-242dc27f0f48",
   "metadata": {},
   "source": [
    "to try to implement what I learned in that uproot/awkward tutorial and create some 4-vectors of pt, eta, phi, and mass (starting with the delta dataset) using awkward and vector. Then to try to get some deltaR plots working!\n",
    "\n",
    "NOTE: this one was with the old versions, I'm just gonna leave it like this for posterity and research purposes (read: too lazy to clean it up) and make a nice, neat, new one:))"
   ]
  },
  {
   "cell_type": "code",
   "execution_count": 1,
   "id": "07703316-9933-4385-9f16-45393848aa85",
   "metadata": {},
   "outputs": [],
   "source": [
    "#imports\n",
    "import uproot as ur\n",
    "import numpy as np\n",
    "import awkward as ak\n",
    "import matplotlib.pyplot as plt\n",
    "import vector as v\n",
    "\n",
    "data_path = '/fast_scratch/atlas_images/v01-45/'"
   ]
  },
  {
   "cell_type": "code",
   "execution_count": 51,
   "id": "155e514a-debf-46bb-83c4-2459d0b0507a",
   "metadata": {},
   "outputs": [],
   "source": [
    "v.register_awkward()"
   ]
  },
  {
   "cell_type": "code",
   "execution_count": 23,
   "id": "5d5e0346-0a5d-4937-b935-6edbf4e2f926",
   "metadata": {},
   "outputs": [],
   "source": [
    "branches = ['cluster_hitsTruthIndex', 'cluster_hitsTruthE', 'truthPartPdgId', 'truthPartPt','truthPartEta', \n",
    "            'truthPartPhi', 'truthPartMass']"
   ]
  },
  {
   "cell_type": "code",
   "execution_count": 4,
   "id": "0594d600-c33d-4666-be9f-716157f0a741",
   "metadata": {},
   "outputs": [],
   "source": [
    "event = ur.open(data_path+'pi0_small.root')"
   ]
  },
  {
   "cell_type": "code",
   "execution_count": 10,
   "id": "2224627e-6e33-4302-8a19-e586d59a4f71",
   "metadata": {},
   "outputs": [
    {
     "data": {
      "text/plain": [
       "['EventTree;1', 'CellGeo;1']"
      ]
     },
     "execution_count": 10,
     "metadata": {},
     "output_type": "execute_result"
    }
   ],
   "source": [
    "event.keys()"
   ]
  },
  {
   "cell_type": "code",
   "execution_count": 11,
   "id": "9fcd6b2e-5ab9-4aaa-a0dd-072279c5b265",
   "metadata": {},
   "outputs": [],
   "source": [
    "tree = event['EventTree']"
   ]
  },
  {
   "cell_type": "code",
   "execution_count": 16,
   "id": "7eefd87c-47dc-407d-ac2c-c4764875e89d",
   "metadata": {
    "scrolled": true,
    "tags": []
   },
   "outputs": [
    {
     "data": {
      "text/plain": [
       "['runNumber',\n",
       " 'eventNumber',\n",
       " 'lumiBlock',\n",
       " 'coreFlags',\n",
       " 'mcEventNumber',\n",
       " 'mcChannelNumber',\n",
       " 'mcEventWeight',\n",
       " 'nTruthPart',\n",
       " 'G4PreCalo_n_EM',\n",
       " 'G4PreCalo_E_EM',\n",
       " 'G4PreCalo_n_Had',\n",
       " 'G4PreCalo_E_Had',\n",
       " 'truthVertexX',\n",
       " 'truthVertexY',\n",
       " 'truthVertexZ',\n",
       " 'truthPartPdgId',\n",
       " 'truthPartStatus',\n",
       " 'truthPartBarcode',\n",
       " 'truthPartPt',\n",
       " 'truthPartE',\n",
       " 'truthPartMass',\n",
       " 'truthPartEta',\n",
       " 'truthPartPhi',\n",
       " 'nTrack',\n",
       " 'trackPt',\n",
       " 'trackP',\n",
       " 'trackMass',\n",
       " 'trackEta',\n",
       " 'trackPhi',\n",
       " 'trackNumberOfPixelHits',\n",
       " 'trackNumberOfSCTHits',\n",
       " 'trackNumberOfPixelDeadSensors',\n",
       " 'trackNumberOfSCTDeadSensors',\n",
       " 'trackNumberOfPixelSharedHits',\n",
       " 'trackNumberOfSCTSharedHits',\n",
       " 'trackNumberOfPixelHoles',\n",
       " 'trackNumberOfSCTHoles',\n",
       " 'trackNumberOfInnermostPixelLayerHits',\n",
       " 'trackNumberOfNextToInnermostPixelLayerHits',\n",
       " 'trackExpectInnermostPixelLayerHit',\n",
       " 'trackExpectNextToInnermostPixelLayerHit',\n",
       " 'trackNumberOfTRTHits',\n",
       " 'trackNumberOfTRTOutliers',\n",
       " 'trackChiSquared',\n",
       " 'trackNumberDOF',\n",
       " 'trackD0',\n",
       " 'trackZ0',\n",
       " 'trackEta_PreSamplerB',\n",
       " 'trackPhi_PreSamplerB',\n",
       " 'trackEta_PreSamplerE',\n",
       " 'trackPhi_PreSamplerE',\n",
       " 'trackEta_EMB1',\n",
       " 'trackPhi_EMB1',\n",
       " 'trackEta_EMB2',\n",
       " 'trackPhi_EMB2',\n",
       " 'trackEta_EMB3',\n",
       " 'trackPhi_EMB3',\n",
       " 'trackEta_EME1',\n",
       " 'trackPhi_EME1',\n",
       " 'trackEta_EME2',\n",
       " 'trackPhi_EME2',\n",
       " 'trackEta_EME3',\n",
       " 'trackPhi_EME3',\n",
       " 'trackEta_HEC0',\n",
       " 'trackPhi_HEC0',\n",
       " 'trackEta_HEC1',\n",
       " 'trackPhi_HEC1',\n",
       " 'trackEta_HEC2',\n",
       " 'trackPhi_HEC2',\n",
       " 'trackEta_HEC3',\n",
       " 'trackPhi_HEC3',\n",
       " 'trackEta_TileBar0',\n",
       " 'trackPhi_TileBar0',\n",
       " 'trackEta_TileBar1',\n",
       " 'trackPhi_TileBar1',\n",
       " 'trackEta_TileBar2',\n",
       " 'trackPhi_TileBar2',\n",
       " 'trackEta_TileGap1',\n",
       " 'trackPhi_TileGap1',\n",
       " 'trackEta_TileGap2',\n",
       " 'trackPhi_TileGap2',\n",
       " 'trackEta_TileGap3',\n",
       " 'trackPhi_TileGap3',\n",
       " 'trackEta_TileExt0',\n",
       " 'trackPhi_TileExt0',\n",
       " 'trackEta_TileExt1',\n",
       " 'trackPhi_TileExt1',\n",
       " 'trackEta_TileExt2',\n",
       " 'trackPhi_TileExt2',\n",
       " 'AntiKt4EMTopoJetsPt',\n",
       " 'AntiKt4EMTopoJetsEta',\n",
       " 'AntiKt4EMTopoJetsPhi',\n",
       " 'AntiKt4EMTopoJetsE',\n",
       " 'AntiKt4LCTopoJetsPt',\n",
       " 'AntiKt4LCTopoJetsEta',\n",
       " 'AntiKt4LCTopoJetsPhi',\n",
       " 'AntiKt4LCTopoJetsE',\n",
       " 'AntiKt4TruthJetsPt',\n",
       " 'AntiKt4TruthJetsEta',\n",
       " 'AntiKt4TruthJetsPhi',\n",
       " 'AntiKt4TruthJetsE',\n",
       " 'AntiKt4TruthJetsFlavor',\n",
       " 'nCluster',\n",
       " 'cluster_E',\n",
       " 'cluster_E_LCCalib',\n",
       " 'cluster_Pt',\n",
       " 'cluster_Eta',\n",
       " 'cluster_Phi',\n",
       " 'cluster_nCells',\n",
       " 'cluster_ENG_CALIB_TOT',\n",
       " 'cluster_ENG_CALIB_OUT_T',\n",
       " 'cluster_ENG_CALIB_DEAD_TOT',\n",
       " 'cluster_EM_PROBABILITY',\n",
       " 'cluster_HAD_WEIGHT',\n",
       " 'cluster_OOC_WEIGHT',\n",
       " 'cluster_DM_WEIGHT',\n",
       " 'cluster_CENTER_MAG',\n",
       " 'cluster_FIRST_ENG_DENS',\n",
       " 'cluster_CENTER_LAMBDA',\n",
       " 'cluster_ISOLATION',\n",
       " 'cluster_ENERGY_DigiHSTruth',\n",
       " 'cluster_cell_ID',\n",
       " 'cluster_cell_E',\n",
       " 'cluster_hitsTruthIndex',\n",
       " 'cluster_hitsTruthE']"
      ]
     },
     "execution_count": 16,
     "metadata": {},
     "output_type": "execute_result"
    }
   ],
   "source": [
    "tree.keys()"
   ]
  },
  {
   "cell_type": "code",
   "execution_count": 21,
   "id": "f1bf7abe-86bc-404d-8c21-b2e91094ff51",
   "metadata": {
    "scrolled": true,
    "tags": []
   },
   "outputs": [
    {
     "data": {
      "text/plain": [
       "{'runNumber': array([284500, 284500, 284500, ..., 284500, 284500, 284500], dtype=int32),\n",
       " 'eventNumber': array([1453941, 1453785, 1453509, ..., 2933860, 2933060, 2933409]),\n",
       " 'lumiBlock': array([1, 1, 1, ..., 1, 1, 1], dtype=int32),\n",
       " 'coreFlags': array([0, 0, 0, ..., 0, 0, 0], dtype=uint32),\n",
       " 'mcEventNumber': array([1453941, 1453785, 1453509, ..., 2933860, 2933060, 2933409],\n",
       "       dtype=int32),\n",
       " 'mcChannelNumber': array([900246, 900246, 900246, ..., 900246, 900246, 900246], dtype=int32),\n",
       " 'mcEventWeight': array([1., 1., 1., ..., 1., 1., 1.], dtype=float32),\n",
       " 'nTruthPart': array([3, 3, 3, ..., 3, 3, 3], dtype=int32),\n",
       " 'G4PreCalo_n_EM': array([ 0, 37,  0, ...,  4,  0,  0], dtype=int32),\n",
       " 'G4PreCalo_E_EM': array([   0.      , 1970.3767  ,    0.      , ...,   16.828182,\n",
       "           0.      ,    0.      ], dtype=float32),\n",
       " 'G4PreCalo_n_Had': array([0, 0, 0, ..., 0, 0, 0], dtype=int32),\n",
       " 'G4PreCalo_E_Had': array([0., 0., 0., ..., 0., 0., 0.], dtype=float32),\n",
       " 'truthVertexX': array([-0.50148976, -0.49540976, -0.48799548, ..., -0.48389837,\n",
       "        -0.48568082, -0.4981246 ], dtype=float32),\n",
       " 'truthVertexY': array([-0.51460946, -0.4902173 , -0.50389606, ..., -0.5074582 ,\n",
       "        -0.51892304, -0.49895188], dtype=float32),\n",
       " 'truthVertexZ': array([-25.387037,  10.999609,  71.91908 , ...,  31.727646, -18.391445,\n",
       "         82.875175], dtype=float32),\n",
       " 'truthPartPdgId': array([array([111,  22,  22], dtype=int32),\n",
       "        array([111,  22,  22], dtype=int32),\n",
       "        array([111,  22,  22], dtype=int32), ...,\n",
       "        array([111,  22,  22], dtype=int32),\n",
       "        array([111,  22,  22], dtype=int32),\n",
       "        array([111,  22,  22], dtype=int32)], dtype=object),\n",
       " 'truthPartStatus': array([array([2, 1, 1], dtype=int32), array([2, 1, 1], dtype=int32),\n",
       "        array([2, 1, 1], dtype=int32), ..., array([2, 1, 1], dtype=int32),\n",
       "        array([10902,     1,     1], dtype=int32),\n",
       "        array([2, 1, 1], dtype=int32)], dtype=object),\n",
       " 'truthPartBarcode': array([array([10001, 10002, 10003], dtype=int32),\n",
       "        array([10001, 10002, 10003], dtype=int32),\n",
       "        array([10001, 10002, 10003], dtype=int32), ...,\n",
       "        array([10001, 10002, 10003], dtype=int32),\n",
       "        array([10001, 10002, 10003], dtype=int32),\n",
       "        array([10001, 10002, 10003], dtype=int32)], dtype=object),\n",
       " 'truthPartPt': array([array([861.3356 , 204.65724, 656.6783 ], dtype=float32),\n",
       "        array([837.72736, 704.47943, 133.24791], dtype=float32),\n",
       "        array([0.4733977 , 0.17799504, 0.30802572], dtype=float32), ...,\n",
       "        array([9.271723, 4.247744, 5.024956], dtype=float32),\n",
       "        array([0.07955346, 0.03114774, 0.1106837 ], dtype=float32),\n",
       "        array([6.657501, 4.378807, 2.27874 ], dtype=float32)], dtype=object),\n",
       " 'truthPartE': array([array([906.8799 , 215.47934, 691.4005 ], dtype=float32),\n",
       "        array([1975.4421 , 1661.3027 ,  314.13928], dtype=float32),\n",
       "        array([1.3242464 , 0.583616  , 0.74063045], dtype=float32), ...,\n",
       "        array([17.162447 ,  7.8540382,  9.308408 ], dtype=float32),\n",
       "        array([0.66538846, 0.06141029, 0.6039782 ], dtype=float32),\n",
       "        array([22.62611  , 14.675715 ,  7.9503922], dtype=float32)],\n",
       "       dtype=object),\n",
       " 'truthPartMass': array([array([ 1.3500001e-01,  0.0000000e+00, -1.3531647e-05], dtype=float32),\n",
       "        array([1.3500001e-01, 2.2097087e-05, 3.9062502e-06], dtype=float32),\n",
       "        array([1.3500001e-01, 0.0000000e+00, 1.8688125e-08], dtype=float32),\n",
       "        ...,\n",
       "        array([ 1.35000e-01, -1.49505e-07,  0.00000e+00], dtype=float32),\n",
       "        array([ 1.3500001e-01, -1.5078915e-09,  0.0000000e+00], dtype=float32),\n",
       "        array([ 1.3500001e-01, -1.7263349e-07,  0.0000000e+00], dtype=float32)],\n",
       "       dtype=object),\n",
       " 'truthPartEta': array([array([0.32378027, 0.32378882, 0.32377762], dtype=float32),\n",
       "        array([1.502667 , 1.5027149, 1.5024133], dtype=float32),\n",
       "        array([-1.6826162, -1.8565247, -1.5241139], dtype=float32), ...,\n",
       "        array([-1.2263064, -1.2250184, -1.2272308], dtype=float32),\n",
       "        array([-2.7923234, -1.3003926, -2.381505 ], dtype=float32),\n",
       "        array([1.894106 , 1.8795266, 1.9215449], dtype=float32)],\n",
       "       dtype=object),\n",
       " 'truthPartPhi': array([array([0.06045312, 0.0601725 , 0.06054058], dtype=float32),\n",
       "        array([2.0214934, 2.0215447, 2.0212233], dtype=float32),\n",
       "        array([0.71727103, 1.0190767 , 0.5446498 ], dtype=float32), ...,\n",
       "        array([-0.48277068, -0.46698064, -0.49611834], dtype=float32),\n",
       "        array([-1.4274821,  1.6745733, -1.4386057], dtype=float32),\n",
       "        array([-1.1766472, -1.1793139, -1.1715227], dtype=float32)],\n",
       "       dtype=object),\n",
       " 'nTrack': array([0, 0, 0, ..., 0, 0, 0], dtype=int32),\n",
       " 'trackPt': array([array([], dtype=float32), array([], dtype=float32),\n",
       "        array([], dtype=float32), ..., array([], dtype=float32),\n",
       "        array([], dtype=float32), array([], dtype=float32)], dtype=object),\n",
       " 'trackP': array([array([], dtype=float32), array([], dtype=float32),\n",
       "        array([], dtype=float32), ..., array([], dtype=float32),\n",
       "        array([], dtype=float32), array([], dtype=float32)], dtype=object),\n",
       " 'trackMass': array([array([], dtype=float32), array([], dtype=float32),\n",
       "        array([], dtype=float32), ..., array([], dtype=float32),\n",
       "        array([], dtype=float32), array([], dtype=float32)], dtype=object),\n",
       " 'trackEta': array([array([], dtype=float32), array([], dtype=float32),\n",
       "        array([], dtype=float32), ..., array([], dtype=float32),\n",
       "        array([], dtype=float32), array([], dtype=float32)], dtype=object),\n",
       " 'trackPhi': array([array([], dtype=float32), array([], dtype=float32),\n",
       "        array([], dtype=float32), ..., array([], dtype=float32),\n",
       "        array([], dtype=float32), array([], dtype=float32)], dtype=object),\n",
       " 'trackNumberOfPixelHits': array([array([], dtype=int32), array([], dtype=int32),\n",
       "        array([], dtype=int32), ..., array([], dtype=int32),\n",
       "        array([], dtype=int32), array([], dtype=int32)], dtype=object),\n",
       " 'trackNumberOfSCTHits': array([array([], dtype=int32), array([], dtype=int32),\n",
       "        array([], dtype=int32), ..., array([], dtype=int32),\n",
       "        array([], dtype=int32), array([], dtype=int32)], dtype=object),\n",
       " 'trackNumberOfPixelDeadSensors': array([array([], dtype=int32), array([], dtype=int32),\n",
       "        array([], dtype=int32), ..., array([], dtype=int32),\n",
       "        array([], dtype=int32), array([], dtype=int32)], dtype=object),\n",
       " 'trackNumberOfSCTDeadSensors': array([array([], dtype=int32), array([], dtype=int32),\n",
       "        array([], dtype=int32), ..., array([], dtype=int32),\n",
       "        array([], dtype=int32), array([], dtype=int32)], dtype=object),\n",
       " 'trackNumberOfPixelSharedHits': array([array([], dtype=int32), array([], dtype=int32),\n",
       "        array([], dtype=int32), ..., array([], dtype=int32),\n",
       "        array([], dtype=int32), array([], dtype=int32)], dtype=object),\n",
       " 'trackNumberOfSCTSharedHits': array([array([], dtype=int32), array([], dtype=int32),\n",
       "        array([], dtype=int32), ..., array([], dtype=int32),\n",
       "        array([], dtype=int32), array([], dtype=int32)], dtype=object),\n",
       " 'trackNumberOfPixelHoles': array([array([], dtype=int32), array([], dtype=int32),\n",
       "        array([], dtype=int32), ..., array([], dtype=int32),\n",
       "        array([], dtype=int32), array([], dtype=int32)], dtype=object),\n",
       " 'trackNumberOfSCTHoles': array([array([], dtype=int32), array([], dtype=int32),\n",
       "        array([], dtype=int32), ..., array([], dtype=int32),\n",
       "        array([], dtype=int32), array([], dtype=int32)], dtype=object),\n",
       " 'trackNumberOfInnermostPixelLayerHits': array([array([], dtype=int32), array([], dtype=int32),\n",
       "        array([], dtype=int32), ..., array([], dtype=int32),\n",
       "        array([], dtype=int32), array([], dtype=int32)], dtype=object),\n",
       " 'trackNumberOfNextToInnermostPixelLayerHits': array([array([], dtype=int32), array([], dtype=int32),\n",
       "        array([], dtype=int32), ..., array([], dtype=int32),\n",
       "        array([], dtype=int32), array([], dtype=int32)], dtype=object),\n",
       " 'trackExpectInnermostPixelLayerHit': array([array([], dtype=int32), array([], dtype=int32),\n",
       "        array([], dtype=int32), ..., array([], dtype=int32),\n",
       "        array([], dtype=int32), array([], dtype=int32)], dtype=object),\n",
       " 'trackExpectNextToInnermostPixelLayerHit': array([array([], dtype=int32), array([], dtype=int32),\n",
       "        array([], dtype=int32), ..., array([], dtype=int32),\n",
       "        array([], dtype=int32), array([], dtype=int32)], dtype=object),\n",
       " 'trackNumberOfTRTHits': array([array([], dtype=int32), array([], dtype=int32),\n",
       "        array([], dtype=int32), ..., array([], dtype=int32),\n",
       "        array([], dtype=int32), array([], dtype=int32)], dtype=object),\n",
       " 'trackNumberOfTRTOutliers': array([array([], dtype=int32), array([], dtype=int32),\n",
       "        array([], dtype=int32), ..., array([], dtype=int32),\n",
       "        array([], dtype=int32), array([], dtype=int32)], dtype=object),\n",
       " 'trackChiSquared': array([array([], dtype=float32), array([], dtype=float32),\n",
       "        array([], dtype=float32), ..., array([], dtype=float32),\n",
       "        array([], dtype=float32), array([], dtype=float32)], dtype=object),\n",
       " 'trackNumberDOF': array([array([], dtype=int32), array([], dtype=int32),\n",
       "        array([], dtype=int32), ..., array([], dtype=int32),\n",
       "        array([], dtype=int32), array([], dtype=int32)], dtype=object),\n",
       " 'trackD0': array([array([], dtype=float32), array([], dtype=float32),\n",
       "        array([], dtype=float32), ..., array([], dtype=float32),\n",
       "        array([], dtype=float32), array([], dtype=float32)], dtype=object),\n",
       " 'trackZ0': array([array([], dtype=float32), array([], dtype=float32),\n",
       "        array([], dtype=float32), ..., array([], dtype=float32),\n",
       "        array([], dtype=float32), array([], dtype=float32)], dtype=object),\n",
       " 'trackEta_PreSamplerB': array([array([], dtype=float32), array([], dtype=float32),\n",
       "        array([], dtype=float32), ..., array([], dtype=float32),\n",
       "        array([], dtype=float32), array([], dtype=float32)], dtype=object),\n",
       " 'trackPhi_PreSamplerB': array([array([], dtype=float32), array([], dtype=float32),\n",
       "        array([], dtype=float32), ..., array([], dtype=float32),\n",
       "        array([], dtype=float32), array([], dtype=float32)], dtype=object),\n",
       " 'trackEta_PreSamplerE': array([array([], dtype=float32), array([], dtype=float32),\n",
       "        array([], dtype=float32), ..., array([], dtype=float32),\n",
       "        array([], dtype=float32), array([], dtype=float32)], dtype=object),\n",
       " 'trackPhi_PreSamplerE': array([array([], dtype=float32), array([], dtype=float32),\n",
       "        array([], dtype=float32), ..., array([], dtype=float32),\n",
       "        array([], dtype=float32), array([], dtype=float32)], dtype=object),\n",
       " 'trackEta_EMB1': array([array([], dtype=float32), array([], dtype=float32),\n",
       "        array([], dtype=float32), ..., array([], dtype=float32),\n",
       "        array([], dtype=float32), array([], dtype=float32)], dtype=object),\n",
       " 'trackPhi_EMB1': array([array([], dtype=float32), array([], dtype=float32),\n",
       "        array([], dtype=float32), ..., array([], dtype=float32),\n",
       "        array([], dtype=float32), array([], dtype=float32)], dtype=object),\n",
       " 'trackEta_EMB2': array([array([], dtype=float32), array([], dtype=float32),\n",
       "        array([], dtype=float32), ..., array([], dtype=float32),\n",
       "        array([], dtype=float32), array([], dtype=float32)], dtype=object),\n",
       " 'trackPhi_EMB2': array([array([], dtype=float32), array([], dtype=float32),\n",
       "        array([], dtype=float32), ..., array([], dtype=float32),\n",
       "        array([], dtype=float32), array([], dtype=float32)], dtype=object),\n",
       " 'trackEta_EMB3': array([array([], dtype=float32), array([], dtype=float32),\n",
       "        array([], dtype=float32), ..., array([], dtype=float32),\n",
       "        array([], dtype=float32), array([], dtype=float32)], dtype=object),\n",
       " 'trackPhi_EMB3': array([array([], dtype=float32), array([], dtype=float32),\n",
       "        array([], dtype=float32), ..., array([], dtype=float32),\n",
       "        array([], dtype=float32), array([], dtype=float32)], dtype=object),\n",
       " 'trackEta_EME1': array([array([], dtype=float32), array([], dtype=float32),\n",
       "        array([], dtype=float32), ..., array([], dtype=float32),\n",
       "        array([], dtype=float32), array([], dtype=float32)], dtype=object),\n",
       " 'trackPhi_EME1': array([array([], dtype=float32), array([], dtype=float32),\n",
       "        array([], dtype=float32), ..., array([], dtype=float32),\n",
       "        array([], dtype=float32), array([], dtype=float32)], dtype=object),\n",
       " 'trackEta_EME2': array([array([], dtype=float32), array([], dtype=float32),\n",
       "        array([], dtype=float32), ..., array([], dtype=float32),\n",
       "        array([], dtype=float32), array([], dtype=float32)], dtype=object),\n",
       " 'trackPhi_EME2': array([array([], dtype=float32), array([], dtype=float32),\n",
       "        array([], dtype=float32), ..., array([], dtype=float32),\n",
       "        array([], dtype=float32), array([], dtype=float32)], dtype=object),\n",
       " 'trackEta_EME3': array([array([], dtype=float32), array([], dtype=float32),\n",
       "        array([], dtype=float32), ..., array([], dtype=float32),\n",
       "        array([], dtype=float32), array([], dtype=float32)], dtype=object),\n",
       " 'trackPhi_EME3': array([array([], dtype=float32), array([], dtype=float32),\n",
       "        array([], dtype=float32), ..., array([], dtype=float32),\n",
       "        array([], dtype=float32), array([], dtype=float32)], dtype=object),\n",
       " 'trackEta_HEC0': array([array([], dtype=float32), array([], dtype=float32),\n",
       "        array([], dtype=float32), ..., array([], dtype=float32),\n",
       "        array([], dtype=float32), array([], dtype=float32)], dtype=object),\n",
       " 'trackPhi_HEC0': array([array([], dtype=float32), array([], dtype=float32),\n",
       "        array([], dtype=float32), ..., array([], dtype=float32),\n",
       "        array([], dtype=float32), array([], dtype=float32)], dtype=object),\n",
       " 'trackEta_HEC1': array([array([], dtype=float32), array([], dtype=float32),\n",
       "        array([], dtype=float32), ..., array([], dtype=float32),\n",
       "        array([], dtype=float32), array([], dtype=float32)], dtype=object),\n",
       " 'trackPhi_HEC1': array([array([], dtype=float32), array([], dtype=float32),\n",
       "        array([], dtype=float32), ..., array([], dtype=float32),\n",
       "        array([], dtype=float32), array([], dtype=float32)], dtype=object),\n",
       " 'trackEta_HEC2': array([array([], dtype=float32), array([], dtype=float32),\n",
       "        array([], dtype=float32), ..., array([], dtype=float32),\n",
       "        array([], dtype=float32), array([], dtype=float32)], dtype=object),\n",
       " 'trackPhi_HEC2': array([array([], dtype=float32), array([], dtype=float32),\n",
       "        array([], dtype=float32), ..., array([], dtype=float32),\n",
       "        array([], dtype=float32), array([], dtype=float32)], dtype=object),\n",
       " 'trackEta_HEC3': array([array([], dtype=float32), array([], dtype=float32),\n",
       "        array([], dtype=float32), ..., array([], dtype=float32),\n",
       "        array([], dtype=float32), array([], dtype=float32)], dtype=object),\n",
       " 'trackPhi_HEC3': array([array([], dtype=float32), array([], dtype=float32),\n",
       "        array([], dtype=float32), ..., array([], dtype=float32),\n",
       "        array([], dtype=float32), array([], dtype=float32)], dtype=object),\n",
       " 'trackEta_TileBar0': array([array([], dtype=float32), array([], dtype=float32),\n",
       "        array([], dtype=float32), ..., array([], dtype=float32),\n",
       "        array([], dtype=float32), array([], dtype=float32)], dtype=object),\n",
       " 'trackPhi_TileBar0': array([array([], dtype=float32), array([], dtype=float32),\n",
       "        array([], dtype=float32), ..., array([], dtype=float32),\n",
       "        array([], dtype=float32), array([], dtype=float32)], dtype=object),\n",
       " 'trackEta_TileBar1': array([array([], dtype=float32), array([], dtype=float32),\n",
       "        array([], dtype=float32), ..., array([], dtype=float32),\n",
       "        array([], dtype=float32), array([], dtype=float32)], dtype=object),\n",
       " 'trackPhi_TileBar1': array([array([], dtype=float32), array([], dtype=float32),\n",
       "        array([], dtype=float32), ..., array([], dtype=float32),\n",
       "        array([], dtype=float32), array([], dtype=float32)], dtype=object),\n",
       " 'trackEta_TileBar2': array([array([], dtype=float32), array([], dtype=float32),\n",
       "        array([], dtype=float32), ..., array([], dtype=float32),\n",
       "        array([], dtype=float32), array([], dtype=float32)], dtype=object),\n",
       " 'trackPhi_TileBar2': array([array([], dtype=float32), array([], dtype=float32),\n",
       "        array([], dtype=float32), ..., array([], dtype=float32),\n",
       "        array([], dtype=float32), array([], dtype=float32)], dtype=object),\n",
       " 'trackEta_TileGap1': array([array([], dtype=float32), array([], dtype=float32),\n",
       "        array([], dtype=float32), ..., array([], dtype=float32),\n",
       "        array([], dtype=float32), array([], dtype=float32)], dtype=object),\n",
       " 'trackPhi_TileGap1': array([array([], dtype=float32), array([], dtype=float32),\n",
       "        array([], dtype=float32), ..., array([], dtype=float32),\n",
       "        array([], dtype=float32), array([], dtype=float32)], dtype=object),\n",
       " 'trackEta_TileGap2': array([array([], dtype=float32), array([], dtype=float32),\n",
       "        array([], dtype=float32), ..., array([], dtype=float32),\n",
       "        array([], dtype=float32), array([], dtype=float32)], dtype=object),\n",
       " 'trackPhi_TileGap2': array([array([], dtype=float32), array([], dtype=float32),\n",
       "        array([], dtype=float32), ..., array([], dtype=float32),\n",
       "        array([], dtype=float32), array([], dtype=float32)], dtype=object),\n",
       " 'trackEta_TileGap3': array([array([], dtype=float32), array([], dtype=float32),\n",
       "        array([], dtype=float32), ..., array([], dtype=float32),\n",
       "        array([], dtype=float32), array([], dtype=float32)], dtype=object),\n",
       " 'trackPhi_TileGap3': array([array([], dtype=float32), array([], dtype=float32),\n",
       "        array([], dtype=float32), ..., array([], dtype=float32),\n",
       "        array([], dtype=float32), array([], dtype=float32)], dtype=object),\n",
       " 'trackEta_TileExt0': array([array([], dtype=float32), array([], dtype=float32),\n",
       "        array([], dtype=float32), ..., array([], dtype=float32),\n",
       "        array([], dtype=float32), array([], dtype=float32)], dtype=object),\n",
       " 'trackPhi_TileExt0': array([array([], dtype=float32), array([], dtype=float32),\n",
       "        array([], dtype=float32), ..., array([], dtype=float32),\n",
       "        array([], dtype=float32), array([], dtype=float32)], dtype=object),\n",
       " 'trackEta_TileExt1': array([array([], dtype=float32), array([], dtype=float32),\n",
       "        array([], dtype=float32), ..., array([], dtype=float32),\n",
       "        array([], dtype=float32), array([], dtype=float32)], dtype=object),\n",
       " 'trackPhi_TileExt1': array([array([], dtype=float32), array([], dtype=float32),\n",
       "        array([], dtype=float32), ..., array([], dtype=float32),\n",
       "        array([], dtype=float32), array([], dtype=float32)], dtype=object),\n",
       " 'trackEta_TileExt2': array([array([], dtype=float32), array([], dtype=float32),\n",
       "        array([], dtype=float32), ..., array([], dtype=float32),\n",
       "        array([], dtype=float32), array([], dtype=float32)], dtype=object),\n",
       " 'trackPhi_TileExt2': array([array([], dtype=float32), array([], dtype=float32),\n",
       "        array([], dtype=float32), ..., array([], dtype=float32),\n",
       "        array([], dtype=float32), array([], dtype=float32)], dtype=object),\n",
       " 'AntiKt4EMTopoJetsPt': array([array([852.09], dtype=float32), array([801.082], dtype=float32),\n",
       "        array([], dtype=float32), ..., array([8.067931], dtype=float32),\n",
       "        array([], dtype=float32), array([6.4159336], dtype=float32)],\n",
       "       dtype=object),\n",
       " 'AntiKt4EMTopoJetsEta': array([array([0.31178793], dtype=float32),\n",
       "        array([1.5042592], dtype=float32), array([], dtype=float32), ...,\n",
       "        array([-1.2143086], dtype=float32), array([], dtype=float32),\n",
       "        array([1.9139477], dtype=float32)], dtype=object),\n",
       " 'AntiKt4EMTopoJetsPhi': array([array([0.05848913], dtype=float32),\n",
       "        array([2.0158024], dtype=float32), array([], dtype=float32), ...,\n",
       "        array([-0.48612115], dtype=float32), array([], dtype=float32),\n",
       "        array([-1.1771449], dtype=float32)], dtype=object),\n",
       " 'AntiKt4EMTopoJetsE': array([array([893.84955], dtype=float32),\n",
       "        array([1891.7607], dtype=float32), array([], dtype=float32), ...,\n",
       "        array([14.784], dtype=float32), array([], dtype=float32),\n",
       "        array([22.223001], dtype=float32)], dtype=object),\n",
       " 'AntiKt4LCTopoJetsPt': array([array([863.00525], dtype=float32),\n",
       "        array([824.99316], dtype=float32), array([], dtype=float32), ...,\n",
       "        array([10.40713], dtype=float32), array([], dtype=float32),\n",
       "        array([], dtype=float32)], dtype=object),\n",
       " 'AntiKt4LCTopoJetsEta': array([array([0.31146607], dtype=float32),\n",
       "        array([1.5041888], dtype=float32), array([], dtype=float32), ...,\n",
       "        array([-1.2144345], dtype=float32), array([], dtype=float32),\n",
       "        array([], dtype=float32)], dtype=object),\n",
       " 'AntiKt4LCTopoJetsPhi': array([array([0.05841685], dtype=float32),\n",
       "        array([2.0158067], dtype=float32), array([], dtype=float32), ...,\n",
       "        array([-0.48656234], dtype=float32), array([], dtype=float32),\n",
       "        array([], dtype=float32)], dtype=object),\n",
       " 'AntiKt4LCTopoJetsE': array([array([905.2166], dtype=float32),\n",
       "        array([1948.1027], dtype=float32), array([], dtype=float32), ...,\n",
       "        array([19.072453], dtype=float32), array([], dtype=float32),\n",
       "        array([], dtype=float32)], dtype=object),\n",
       " 'AntiKt4TruthJetsPt': array([array([861.3355], dtype=float32),\n",
       "        array([837.72736], dtype=float32), array([], dtype=float32), ...,\n",
       "        array([9.271723], dtype=float32), array([], dtype=float32),\n",
       "        array([6.657501], dtype=float32)], dtype=object),\n",
       " 'AntiKt4TruthJetsEta': array([array([0.3237803], dtype=float32),\n",
       "        array([1.502667], dtype=float32), array([], dtype=float32), ...,\n",
       "        array([-1.2263064], dtype=float32), array([], dtype=float32),\n",
       "        array([1.8941059], dtype=float32)], dtype=object),\n",
       " 'AntiKt4TruthJetsPhi': array([array([0.06045312], dtype=float32),\n",
       "        array([2.0214937], dtype=float32), array([], dtype=float32), ...,\n",
       "        array([-0.4827707], dtype=float32), array([], dtype=float32),\n",
       "        array([-1.1766472], dtype=float32)], dtype=object),\n",
       " 'AntiKt4TruthJetsE': array([array([906.8798], dtype=float32),\n",
       "        array([1975.4421], dtype=float32), array([], dtype=float32), ...,\n",
       "        array([17.162447], dtype=float32), array([], dtype=float32),\n",
       "        array([22.626108], dtype=float32)], dtype=object),\n",
       " 'AntiKt4TruthJetsFlavor': array([array([-1], dtype=int32), array([-1], dtype=int32),\n",
       "        array([], dtype=int32), ..., array([-1], dtype=int32),\n",
       "        array([], dtype=int32), array([-1], dtype=int32)], dtype=object),\n",
       " 'nCluster': array([2, 7, 0, ..., 1, 0, 2], dtype=int32),\n",
       " 'cluster_E': array([array([884.0841  ,   9.711786], dtype=float32),\n",
       "        array([1.2996675e+03, 4.1414331e+02, 1.5575049e+02, 1.9013512e+01,\n",
       "               1.3622316e+00, 1.0907810e+00, 1.0072340e+00], dtype=float32),\n",
       "        array([], dtype=float32), ..., array([14.78243], dtype=float32),\n",
       "        array([], dtype=float32),\n",
       "        array([15.17005 ,  7.063206], dtype=float32)], dtype=object),\n",
       " 'cluster_E_LCCalib': array([array([887.67554 ,  17.487019], dtype=float32),\n",
       "        array([1.3526970e+03, 4.1746594e+02, 1.5575049e+02, 1.9013512e+01,\n",
       "               1.3622316e+00, 1.0907810e+00, 1.0072340e+00], dtype=float32),\n",
       "        array([], dtype=float32), ..., array([19.071009], dtype=float32),\n",
       "        array([], dtype=float32),\n",
       "        array([18.252977, 11.206518], dtype=float32)], dtype=object),\n",
       " 'cluster_Pt': array([array([842.6583  ,   9.357383], dtype=float32),\n",
       "        array([5.5070764e+02, 1.7546970e+02, 6.5312874e+01, 8.1557331e+00,\n",
       "               5.8441871e-01, 4.5748845e-01, 4.3198219e-01], dtype=float32),\n",
       "        array([], dtype=float32), ..., array([8.066306], dtype=float32),\n",
       "        array([], dtype=float32),\n",
       "        array([4.4432893, 1.9770026], dtype=float32)], dtype=object),\n",
       " 'cluster_Eta': array([array([0.31229243, 0.27436307], dtype=float32),\n",
       "        array([1.5035557, 1.5036507, 1.5150315, 1.4900342, 1.4898494, 1.5148458,\n",
       "               1.4902005], dtype=float32)                                       ,\n",
       "        array([], dtype=float32), ..., array([-1.2144222], dtype=float32),\n",
       "        array([], dtype=float32),\n",
       "        array([1.898903 , 1.9462763], dtype=float32)], dtype=object),\n",
       " 'cluster_Phi': array([array([0.05824095, 0.05579222], dtype=float32),\n",
       "        array([2.0172226, 2.014579 , 2.0114934, 2.0114934, 2.1098652, 2.1098652,\n",
       "               1.9131025], dtype=float32)                                       ,\n",
       "        array([], dtype=float32), ..., array([-0.48654523], dtype=float32),\n",
       "        array([], dtype=float32),\n",
       "        array([-1.1805348, -1.1712817], dtype=float32)], dtype=object),\n",
       " 'cluster_nCells': array([array([218, 187], dtype=int32),\n",
       "        array([335,  49,   1,   1,   1,   1,   1], dtype=int32),\n",
       "        array([], dtype=int32), ..., array([92], dtype=int32),\n",
       "        array([], dtype=int32), array([63, 46], dtype=int32)], dtype=object),\n",
       " 'cluster_ENG_CALIB_TOT': array([array([884.2524  ,   9.337777], dtype=float32),\n",
       "        array([1.2673405e+03, 8.1813688e+00, 1.8574657e+01, 2.0591505e+00,\n",
       "               1.3474999e-01, 1.6199456e-01, 1.2105472e-01], dtype=float32),\n",
       "        array([], dtype=float32), ..., array([10.7302475], dtype=float32),\n",
       "        array([], dtype=float32),\n",
       "        array([14.634377 ,  6.9841137], dtype=float32)], dtype=object),\n",
       " 'cluster_ENG_CALIB_OUT_T': array([array([2.431836  , 0.05428294], dtype=float32),\n",
       "        array([10.018627  ,  0.06616757,  0.23339613,  0.01664372,  0.22093076,\n",
       "                0.19061188,  0.31697926], dtype=float32)                       ,\n",
       "        array([], dtype=float32), ..., array([1.2197456], dtype=float32),\n",
       "        array([], dtype=float32),\n",
       "        array([0.59839493, 0.34750506], dtype=float32)], dtype=object),\n",
       " 'cluster_ENG_CALIB_DEAD_TOT': array([array([6.038315 , 3.1066058], dtype=float32),\n",
       "        array([375.7645   , 260.5308   ,  42.60106  ,  10.151904 ,   1.6976174,\n",
       "                 1.8903493,   1.3419592], dtype=float32)                       ,\n",
       "        array([], dtype=float32), ..., array([5.6939087], dtype=float32),\n",
       "        array([], dtype=float32),\n",
       "        array([0.02744454, 0.01684618], dtype=float32)], dtype=object),\n",
       " 'cluster_EM_PROBABILITY': array([array([0.9676129, 0.0806074], dtype=float32),\n",
       "        array([0.7179349, 0.9418764, 0.       , 0.       , 0.       , 0.       ,\n",
       "               0.       ], dtype=float32)                                       ,\n",
       "        array([], dtype=float32), ..., array([0.8943578], dtype=float32),\n",
       "        array([], dtype=float32),\n",
       "        array([0.7224891 , 0.74747807], dtype=float32)], dtype=object),\n",
       " 'cluster_HAD_WEIGHT': array([array([1.0002403, 1.1225271], dtype=float32),\n",
       "        array([1.0036527, 1.       , 1.       , 1.       , 1.       , 1.       ,\n",
       "               1.       ], dtype=float32)                                       ,\n",
       "        array([], dtype=float32), ..., array([1.0053662], dtype=float32),\n",
       "        array([], dtype=float32),\n",
       "        array([1.0083568, 1.0284759], dtype=float32)], dtype=object),\n",
       " 'cluster_OOC_WEIGHT': array([array([1.0022783, 1.1215754], dtype=float32),\n",
       "        array([1.014413 , 1.0001382, 1.       , 1.       , 1.       , 1.       ,\n",
       "               1.       ], dtype=float32)                                       ,\n",
       "        array([], dtype=float32), ..., array([1.1025794], dtype=float32),\n",
       "        array([], dtype=float32),\n",
       "        array([1.1437451, 1.3692757], dtype=float32)], dtype=object),\n",
       " 'cluster_DM_WEIGHT': array([array([1.0015393, 1.4301823], dtype=float32),\n",
       "        array([1.0222803, 1.0078837, 1.       , 1.       , 1.       , 1.       ,\n",
       "               1.       ], dtype=float32)                                       ,\n",
       "        array([], dtype=float32), ..., array([1.1638411], dtype=float32),\n",
       "        array([], dtype=float32),\n",
       "        array([1.0432856, 1.1266365], dtype=float32)], dtype=object),\n",
       " 'cluster_CENTER_MAG': array([array([1813.0302, 2049.9238], dtype=float32),\n",
       "        array([4339.264 , 3902.3828, 3466.365 , 3388.7769, 3388.9043, 3466.4897,\n",
       "               3388.662 ], dtype=float32)                                       ,\n",
       "        array([], dtype=float32), ..., array([2863.1472], dtype=float32),\n",
       "        array([], dtype=float32),\n",
       "        array([4126.035 , 4093.2021], dtype=float32)], dtype=object),\n",
       " 'cluster_FIRST_ENG_DENS': array([array([4.4206073e-04, 4.6487094e-07], dtype=float32),\n",
       "        array([0.00029116, 0.00060463, 0.        , 0.        , 0.        ,\n",
       "               0.        , 0.        ], dtype=float32)                    ,\n",
       "        array([], dtype=float32), ...,\n",
       "        array([2.0200298e-06], dtype=float32), array([], dtype=float32),\n",
       "        array([1.0743586e-05, 7.8960620e-06], dtype=float32)], dtype=object),\n",
       " 'cluster_CENTER_LAMBDA': array([array([245.79567, 493.04388], dtype=float32),\n",
       "        array([202.85664, 235.52188, 663.27246, 761.4183 , 761.4469 , 663.29626,\n",
       "               761.39246], dtype=float32)                                       ,\n",
       "        array([], dtype=float32), ..., array([109.8213], dtype=float32),\n",
       "        array([], dtype=float32),\n",
       "        array([208.31874, 187.01414], dtype=float32)], dtype=object),\n",
       " 'cluster_ISOLATION': array([array([0.5024085 , 0.74659634], dtype=float32),\n",
       "        array([0.9999511, 1.       , 0.2      , 0.25     , 0.375    , 0.4      ,\n",
       "               0.625    ], dtype=float32)                                       ,\n",
       "        array([], dtype=float32), ..., array([1.], dtype=float32),\n",
       "        array([], dtype=float32),\n",
       "        array([0.7830598, 0.8348474], dtype=float32)], dtype=object),\n",
       " 'cluster_ENERGY_DigiHSTruth': array([array([-999., -999.], dtype=float32),\n",
       "        array([-999., -999., -999., -999., -999., -999., -999.], dtype=float32),\n",
       "        array([], dtype=float32), ..., array([-999.], dtype=float32),\n",
       "        array([], dtype=float32), array([-999., -999.], dtype=float32)],\n",
       "       dtype=object),\n",
       " 'cluster_cell_ID': array([<STLVector [[767563780, 767563778, 767563782, 767563268, ..., 765504638, 767566336, 765526016], ...] at 0x7f934fe6df70>,\n",
       "        <STLVector [[776209572, 776209570, 776209574, 776209060, ..., 765723806, 765723294, 765723818], ...] at 0x7f934fe6deb0>,\n",
       "        <STLVector [] at 0x7f934fe6dee0>, ...,\n",
       "        <STLVector [[759194072, 759194070, 759194074, 759193560, ..., 757273202, 759194576, 759194578], ...] at 0x7f92c8bcaf40>,\n",
       "        <STLVector [] at 0x7f92c8bcafa0>,\n",
       "        <STLVector [[776218016, 776218014, 776218018, 776217504, ..., 776218524, 776218532, 778047394], ...] at 0x7f92c8bca0a0>],\n",
       "       dtype=object),\n",
       " 'cluster_cell_E': array([<STLVector [[471.5642, 20.857742, 130.67406, ..., 0.006040363, 0.030989766, 0.027968084], ...] at 0x7f934f794220>,\n",
       "        <STLVector [[441.49417, 37.39541, 68.7178, 16.100874, ..., 0.03700452, 0.008014569, 0.020949883], ...] at 0x7f92c8bcd160>,\n",
       "        <STLVector [] at 0x7f92c8bcd190>, ...,\n",
       "        <STLVector [[2.7969284, 0.8078681, 0.597604, ..., 0.006981793, 0.03791072, 0.048873316], ...] at 0x7f92c27df820>,\n",
       "        <STLVector [] at 0x7f92c27df880>,\n",
       "        <STLVector [[5.3577676, 3.1597402, 0.2789954, ..., 0.07447541, 0.03227232, 0.032073665], ...] at 0x7f92c27df940>],\n",
       "       dtype=object),\n",
       " 'cluster_hitsTruthIndex': array([<STLVector [[2, 1], [2, 1]] at 0x7f934f6fe520>,\n",
       "        <STLVector [[1, 2], [1, 2], [1, 2], ..., [1, 2], [1, 2], [1, 2]] at 0x7f92c27dfa00>,\n",
       "        <STLVector [] at 0x7f92c27dfa30>, ...,\n",
       "        <STLVector [[1, 2]] at 0x7f92bc12a8e0>,\n",
       "        <STLVector [] at 0x7f92bc12a940>,\n",
       "        <STLVector [[1, 2], [2, 1]] at 0x7f92bc12aa00>], dtype=object),\n",
       " 'cluster_hitsTruthE': array([<STLVector [[674.68787, 209.26993], [7.056184, 2.905189]] at 0x7f934f6925e0>,\n",
       "        <STLVector [[1107.45, 158.99606], ..., [0.11143753, 0.009617187]] at 0x7f92bc12aac0>,\n",
       "        <STLVector [] at 0x7f92bc12aaf0>, ...,\n",
       "        <STLVector [[5.488002, 5.0596924]] at 0x7f92b5a2a370>,\n",
       "        <STLVector [] at 0x7f92b5a2a3d0>,\n",
       "        <STLVector [[13.724197, 1.2468541], [7.231792, 1.2231423]] at 0x7f92b5a2a490>],\n",
       "       dtype=object)}"
      ]
     },
     "execution_count": 21,
     "metadata": {},
     "output_type": "execute_result"
    }
   ],
   "source": [
    "tree.arrays(library='np')"
   ]
  },
  {
   "cell_type": "code",
   "execution_count": 24,
   "id": "9317eaa4-422f-4548-9e12-6f9aea0ef932",
   "metadata": {},
   "outputs": [],
   "source": [
    "branch = tree.arrays(expressions=branches)"
   ]
  },
  {
   "cell_type": "code",
   "execution_count": 26,
   "id": "e044810e-7ff8-4d01-a76c-4cd5042b5df2",
   "metadata": {},
   "outputs": [
    {
     "data": {
      "text/plain": [
       "['cluster_hitsTruthIndex',\n",
       " 'cluster_hitsTruthE',\n",
       " 'truthPartPdgId',\n",
       " 'truthPartPt',\n",
       " 'truthPartEta',\n",
       " 'truthPartPhi',\n",
       " 'truthPartMass']"
      ]
     },
     "execution_count": 26,
     "metadata": {},
     "output_type": "execute_result"
    }
   ],
   "source": [
    "branch.fields #aha now I can do fields!"
   ]
  },
  {
   "cell_type": "code",
   "execution_count": 27,
   "id": "d4f29473-1756-47ab-a672-ecceaadd500f",
   "metadata": {},
   "outputs": [
    {
     "data": {
      "text/plain": [
       "{'cluster_hitsTruthIndex': [[2, 1], [2, 1]],\n",
       " 'cluster_hitsTruthE': [[674.6878662109375, 209.26992797851562],\n",
       "  [7.056183815002441, 2.905189037322998]],\n",
       " 'truthPartPdgId': [111, 22, 22],\n",
       " 'truthPartPt': [861.3355712890625, 204.65724182128906, 656.6782836914062],\n",
       " 'truthPartEta': [0.32378026843070984,\n",
       "  0.3237888216972351,\n",
       "  0.32377761602401733],\n",
       " 'truthPartPhi': [0.06045312061905861,\n",
       "  0.06017250195145607,\n",
       "  0.0605405755341053],\n",
       " 'truthPartMass': [0.13500000536441803, 0.0, -1.3531646800402086e-05]}"
      ]
     },
     "execution_count": 27,
     "metadata": {},
     "output_type": "execute_result"
    }
   ],
   "source": [
    "branch[0].tolist()"
   ]
  },
  {
   "cell_type": "code",
   "execution_count": 28,
   "id": "a851716b-96ec-4c0f-87f2-06dc9b7f8125",
   "metadata": {},
   "outputs": [
    {
     "data": {
      "text/plain": [
       "<Array [[0.0605, 0.0602, ... -1.18, -1.17]] type='200000 * var * float32'>"
      ]
     },
     "execution_count": 28,
     "metadata": {},
     "output_type": "execute_result"
    }
   ],
   "source": [
    "branch.truthPartPhi #okay so this works, but it is not in the same format as the other thing..."
   ]
  },
  {
   "cell_type": "code",
   "execution_count": 94,
   "id": "b92fbf87-205d-46ae-a061-035857449ff5",
   "metadata": {},
   "outputs": [
    {
     "data": {
      "text/plain": [
       "5 * {\"truthVertexX\": float32, \"truthVertexY\": float32, \"truthVertexZ\": float32, \"truthPartPdgId\": var * int32, \"truthPartStatus\": var * int32, \"truthPartBarcode\": var * int32, \"truthPartPt\": var * float32, \"truthPartE\": var * float32, \"truthPartMass\": var * float32, \"truthPartEta\": var * float32, \"truthPartPhi\": var * float32}"
      ]
     },
     "execution_count": 94,
     "metadata": {},
     "output_type": "execute_result"
    }
   ],
   "source": [
    "#maybe try the nanoaod thing??\n",
    "\n",
    "nanoaod_style = tree.arrays(filter_name=\"truth*\", entry_stop=5)\n",
    "nanoaod_style.type"
   ]
  },
  {
   "cell_type": "code",
   "execution_count": 95,
   "id": "625e9d5d-a463-4cee-979f-ba55da1c20c3",
   "metadata": {},
   "outputs": [
    {
     "name": "stdout",
     "output_type": "stream",
     "text": [
      "[[0.324, 0.324, 0.324], [1.5, 1.5, 1.5, ... -2.33, -2.33, -2.33], [2.36, 2.37, 2.36]]\n"
     ]
    }
   ],
   "source": [
    "print(nanoaod_style.truthPartEta)"
   ]
  },
  {
   "cell_type": "code",
   "execution_count": 96,
   "id": "990fd4d0-b105-4875-aaf7-5e7ac1469555",
   "metadata": {},
   "outputs": [
    {
     "data": {
      "text/plain": [
       "<Array [[{pt: 861, eta: 0.324, ... mass: 0}]] type='5 * var * {\"pt\": float32, \"e...'>"
      ]
     },
     "execution_count": 96,
     "metadata": {},
     "output_type": "execute_result"
    }
   ],
   "source": [
    "nanoevents_style = ak.zip({\n",
    "    \"pt\": nanoaod_style.truthPartPt,\n",
    "    \"eta\": nanoaod_style.truthPartEta,\n",
    "    \"phi\": nanoaod_style.truthPartPhi,\n",
    "    \"mass\": nanoaod_style.truthPartMass,\n",
    "})\n",
    "nanoevents_style"
   ]
  },
  {
   "cell_type": "code",
   "execution_count": 97,
   "id": "c832bab9-f262-4887-b3a8-b462ef5cd1be",
   "metadata": {},
   "outputs": [
    {
     "name": "stdout",
     "output_type": "stream",
     "text": [
      "[[861, 205, 657], [838, 704, 133], ... 0.308], [120, 40.8, 79.5], [177, 100, 76.4]]\n"
     ]
    }
   ],
   "source": [
    "print(nanoevents_style['pt'])"
   ]
  },
  {
   "cell_type": "code",
   "execution_count": 115,
   "id": "c317a325-f39a-423b-810f-8e74627f07d2",
   "metadata": {},
   "outputs": [
    {
     "name": "stdout",
     "output_type": "stream",
     "text": [
      "[[0.324, 0.324, 0.324], [1.5, 1.5, 1.5, ... -2.33, -2.33, -2.33], [2.36, 2.37, 2.36]]\n"
     ]
    }
   ],
   "source": [
    "print(nanoevents_style['eta'])"
   ]
  },
  {
   "cell_type": "code",
   "execution_count": 116,
   "id": "4ec3510d-4418-4d5f-850d-9ec6eb3d5493",
   "metadata": {},
   "outputs": [
    {
     "name": "stdout",
     "output_type": "stream",
     "text": [
      "[[0.135, 0, -1.35e-05], [0.135, 2.21e-05, ... -5.52e-06, 0], [0.135, -1.1e-05, 0]]\n"
     ]
    }
   ],
   "source": [
    "print(nanoevents_style['mass'])"
   ]
  },
  {
   "cell_type": "code",
   "execution_count": 117,
   "id": "3fc97c56-4fba-4101-b601-ed2618a9e157",
   "metadata": {},
   "outputs": [
    {
     "name": "stdout",
     "output_type": "stream",
     "text": [
      "[[0.0605, 0.0602, 0.0605], [2.02, 2.02, 2.02, ... -3.01, -3.02], [3.05, 3.05, 3.05]]\n"
     ]
    }
   ],
   "source": [
    "print(nanoevents_style['phi'])"
   ]
  },
  {
   "cell_type": "code",
   "execution_count": 78,
   "id": "09f21791-3e4f-41c0-8fea-8b6fd18d694c",
   "metadata": {},
   "outputs": [
    {
     "data": {
      "text/plain": [
       "(<Array [[861, 205, 657, ... 4.96, 4.32, 0.643]] type='10 * var * float32'>,\n",
       " <Array [[0.324, 0.324, ... 0.696, 0.739]] type='10 * var * float32'>,\n",
       " <Array [[0.0605, 0.0602, ... -0.535, -0.467]] type='10 * var * float32'>,\n",
       " <Array [[0.135, 0, ... 0, -1.87e-08]] type='10 * var * float32'>)"
      ]
     },
     "execution_count": 78,
     "metadata": {},
     "output_type": "execute_result"
    }
   ],
   "source": [
    "ak.unzip(nanoevents_style)"
   ]
  },
  {
   "cell_type": "code",
   "execution_count": 121,
   "id": "c33a51a5-06ce-477e-915b-8b9e96cdf470",
   "metadata": {},
   "outputs": [],
   "source": [
    "muonstest = ak.Array([\n",
    "    [{'pt': 5, 'eta': 1.5, 'phi': 0.1, 'mass': 0.105},\n",
    "     {'pt': 10.0, 'eta': -1.5, 'phi': 0.2, 'mass': 0.105}],\n",
    "     {'pt': 5.0, 'eta': 1.5, 'phi': 0.1, 'mass': 0.105},\n",
    "     {'pt': 10.0, 'eta': -1.5, 'phi': 0.2, 'mass': 0.105}\n",
    "], with_name='Momentum4D')"
   ]
  },
  {
   "cell_type": "code",
   "execution_count": 124,
   "id": "7711453d-fc22-407f-a7ca-04bfa5714e5a",
   "metadata": {},
   "outputs": [
    {
     "ename": "ValueError",
     "evalue": "array does not have azimuthal coordinates (x/y/rho/phi): pt, eta, phi, mass",
     "output_type": "error",
     "traceback": [
      "\u001b[0;31m---------------------------------------------------------------------------\u001b[0m",
      "\u001b[0;31mValueError\u001b[0m                                Traceback (most recent call last)",
      "\u001b[0;32m<ipython-input-124-ae675b2317fe>\u001b[0m in \u001b[0;36m<module>\u001b[0;34m\u001b[0m\n\u001b[0;32m----> 1\u001b[0;31m \u001b[0mmuonstest\u001b[0m\u001b[0;34m.\u001b[0m\u001b[0mpt\u001b[0m \u001b[0;31m#yep its a versions issue!!!\u001b[0m\u001b[0;34m\u001b[0m\u001b[0;34m\u001b[0m\u001b[0m\n\u001b[0m",
      "\u001b[0;32m/usr/local/lib/python3.8/dist-packages/vector/_methods.py\u001b[0m in \u001b[0;36mpt\u001b[0;34m(self)\u001b[0m\n\u001b[1;32m   2138\u001b[0m     \u001b[0;34m@\u001b[0m\u001b[0mproperty\u001b[0m\u001b[0;34m\u001b[0m\u001b[0;34m\u001b[0m\u001b[0m\n\u001b[1;32m   2139\u001b[0m     \u001b[0;32mdef\u001b[0m \u001b[0mpt\u001b[0m\u001b[0;34m(\u001b[0m\u001b[0mself\u001b[0m\u001b[0;34m)\u001b[0m \u001b[0;34m->\u001b[0m \u001b[0mScalarCollection\u001b[0m\u001b[0;34m:\u001b[0m\u001b[0;34m\u001b[0m\u001b[0;34m\u001b[0m\u001b[0m\n\u001b[0;32m-> 2140\u001b[0;31m         \u001b[0;32mreturn\u001b[0m \u001b[0mself\u001b[0m\u001b[0;34m.\u001b[0m\u001b[0mrho\u001b[0m\u001b[0;34m\u001b[0m\u001b[0;34m\u001b[0m\u001b[0m\n\u001b[0m\u001b[1;32m   2141\u001b[0m \u001b[0;34m\u001b[0m\u001b[0m\n\u001b[1;32m   2142\u001b[0m     \u001b[0;34m@\u001b[0m\u001b[0mproperty\u001b[0m\u001b[0;34m\u001b[0m\u001b[0;34m\u001b[0m\u001b[0m\n",
      "\u001b[0;32m/usr/local/lib/python3.8/dist-packages/vector/_methods.py\u001b[0m in \u001b[0;36mrho\u001b[0;34m(self)\u001b[0m\n\u001b[1;32m   1607\u001b[0m         \u001b[0;32mfrom\u001b[0m \u001b[0mvector\u001b[0m\u001b[0;34m.\u001b[0m\u001b[0m_compute\u001b[0m\u001b[0;34m.\u001b[0m\u001b[0mplanar\u001b[0m \u001b[0;32mimport\u001b[0m \u001b[0mrho\u001b[0m\u001b[0;34m\u001b[0m\u001b[0;34m\u001b[0m\u001b[0m\n\u001b[1;32m   1608\u001b[0m \u001b[0;34m\u001b[0m\u001b[0m\n\u001b[0;32m-> 1609\u001b[0;31m         \u001b[0;32mreturn\u001b[0m \u001b[0mrho\u001b[0m\u001b[0;34m.\u001b[0m\u001b[0mdispatch\u001b[0m\u001b[0;34m(\u001b[0m\u001b[0mself\u001b[0m\u001b[0;34m)\u001b[0m\u001b[0;34m\u001b[0m\u001b[0;34m\u001b[0m\u001b[0m\n\u001b[0m\u001b[1;32m   1610\u001b[0m \u001b[0;34m\u001b[0m\u001b[0m\n\u001b[1;32m   1611\u001b[0m     \u001b[0;34m@\u001b[0m\u001b[0mproperty\u001b[0m\u001b[0;34m\u001b[0m\u001b[0;34m\u001b[0m\u001b[0m\n",
      "\u001b[0;32m/usr/local/lib/python3.8/dist-packages/vector/_compute/planar/rho.py\u001b[0m in \u001b[0;36mdispatch\u001b[0;34m(v)\u001b[0m\n\u001b[1;32m     40\u001b[0m \u001b[0;34m\u001b[0m\u001b[0m\n\u001b[1;32m     41\u001b[0m \u001b[0;32mdef\u001b[0m \u001b[0mdispatch\u001b[0m\u001b[0;34m(\u001b[0m\u001b[0mv\u001b[0m\u001b[0;34m:\u001b[0m \u001b[0mtyping\u001b[0m\u001b[0;34m.\u001b[0m\u001b[0mAny\u001b[0m\u001b[0;34m)\u001b[0m \u001b[0;34m->\u001b[0m \u001b[0mtyping\u001b[0m\u001b[0;34m.\u001b[0m\u001b[0mAny\u001b[0m\u001b[0;34m:\u001b[0m\u001b[0;34m\u001b[0m\u001b[0;34m\u001b[0m\u001b[0m\n\u001b[0;32m---> 42\u001b[0;31m     \u001b[0mfunction\u001b[0m\u001b[0;34m,\u001b[0m \u001b[0;34m*\u001b[0m\u001b[0mreturns\u001b[0m \u001b[0;34m=\u001b[0m \u001b[0m_from_signature\u001b[0m\u001b[0;34m(\u001b[0m\u001b[0m__name__\u001b[0m\u001b[0;34m,\u001b[0m \u001b[0mdispatch_map\u001b[0m\u001b[0;34m,\u001b[0m \u001b[0;34m(\u001b[0m\u001b[0m_aztype\u001b[0m\u001b[0;34m(\u001b[0m\u001b[0mv\u001b[0m\u001b[0;34m)\u001b[0m\u001b[0;34m,\u001b[0m\u001b[0;34m)\u001b[0m\u001b[0;34m)\u001b[0m\u001b[0;34m\u001b[0m\u001b[0;34m\u001b[0m\u001b[0m\n\u001b[0m\u001b[1;32m     43\u001b[0m     \u001b[0;32mwith\u001b[0m \u001b[0mnumpy\u001b[0m\u001b[0;34m.\u001b[0m\u001b[0merrstate\u001b[0m\u001b[0;34m(\u001b[0m\u001b[0mall\u001b[0m\u001b[0;34m=\u001b[0m\u001b[0;34m\"ignore\"\u001b[0m\u001b[0;34m)\u001b[0m\u001b[0;34m:\u001b[0m\u001b[0;34m\u001b[0m\u001b[0;34m\u001b[0m\u001b[0m\n\u001b[1;32m     44\u001b[0m         return v._wrap_result(\n",
      "\u001b[0;32m/usr/local/lib/python3.8/dist-packages/vector/_methods.py\u001b[0m in \u001b[0;36m_aztype\u001b[0;34m(obj)\u001b[0m\n\u001b[1;32m   2356\u001b[0m     \u001b[0mdispatched\u001b[0m \u001b[0mfunction\u001b[0m\u001b[0;34m.\u001b[0m\u001b[0;34m\u001b[0m\u001b[0;34m\u001b[0m\u001b[0m\n\u001b[1;32m   2357\u001b[0m     \"\"\"\n\u001b[0;32m-> 2358\u001b[0;31m     \u001b[0;32mif\u001b[0m \u001b[0mhasattr\u001b[0m\u001b[0;34m(\u001b[0m\u001b[0mobj\u001b[0m\u001b[0;34m,\u001b[0m \u001b[0;34m\"azimuthal\"\u001b[0m\u001b[0;34m)\u001b[0m\u001b[0;34m:\u001b[0m\u001b[0;34m\u001b[0m\u001b[0;34m\u001b[0m\u001b[0m\n\u001b[0m\u001b[1;32m   2359\u001b[0m         \u001b[0;32mfor\u001b[0m \u001b[0mt\u001b[0m \u001b[0;32min\u001b[0m \u001b[0mtype\u001b[0m\u001b[0;34m(\u001b[0m\u001b[0mobj\u001b[0m\u001b[0;34m.\u001b[0m\u001b[0mazimuthal\u001b[0m\u001b[0;34m)\u001b[0m\u001b[0;34m.\u001b[0m\u001b[0m__mro__\u001b[0m\u001b[0;34m:\u001b[0m\u001b[0;34m\u001b[0m\u001b[0;34m\u001b[0m\u001b[0m\n\u001b[1;32m   2360\u001b[0m             \u001b[0;32mif\u001b[0m \u001b[0mt\u001b[0m \u001b[0;32min\u001b[0m \u001b[0;34m(\u001b[0m\u001b[0mAzimuthalXY\u001b[0m\u001b[0;34m,\u001b[0m \u001b[0mAzimuthalRhoPhi\u001b[0m\u001b[0;34m)\u001b[0m\u001b[0;34m:\u001b[0m\u001b[0;34m\u001b[0m\u001b[0;34m\u001b[0m\u001b[0m\n",
      "\u001b[0;32m/usr/local/lib/python3.8/dist-packages/vector/_backends/awkward_.py\u001b[0m in \u001b[0;36mazimuthal\u001b[0;34m(self)\u001b[0m\n\u001b[1;32m    565\u001b[0m     \u001b[0;34m@\u001b[0m\u001b[0mproperty\u001b[0m\u001b[0;34m\u001b[0m\u001b[0;34m\u001b[0m\u001b[0m\n\u001b[1;32m    566\u001b[0m     \u001b[0;32mdef\u001b[0m \u001b[0mazimuthal\u001b[0m\u001b[0;34m(\u001b[0m\u001b[0mself\u001b[0m\u001b[0;34m)\u001b[0m \u001b[0;34m->\u001b[0m \u001b[0mAzimuthalAwkward\u001b[0m\u001b[0;34m:\u001b[0m\u001b[0;34m\u001b[0m\u001b[0;34m\u001b[0m\u001b[0m\n\u001b[0;32m--> 567\u001b[0;31m         \u001b[0;32mreturn\u001b[0m \u001b[0mAzimuthalAwkward\u001b[0m\u001b[0;34m.\u001b[0m\u001b[0mfrom_fields\u001b[0m\u001b[0;34m(\u001b[0m\u001b[0mself\u001b[0m\u001b[0;34m)\u001b[0m\u001b[0;34m\u001b[0m\u001b[0;34m\u001b[0m\u001b[0m\n\u001b[0m\u001b[1;32m    568\u001b[0m \u001b[0;34m\u001b[0m\u001b[0m\n\u001b[1;32m    569\u001b[0m     \u001b[0;34m@\u001b[0m\u001b[0mproperty\u001b[0m\u001b[0;34m\u001b[0m\u001b[0;34m\u001b[0m\u001b[0m\n",
      "\u001b[0;32m/usr/local/lib/python3.8/dist-packages/vector/_backends/awkward_.py\u001b[0m in \u001b[0;36mfrom_fields\u001b[0;34m(cls, array)\u001b[0m\n\u001b[1;32m    101\u001b[0m             \u001b[0;32mreturn\u001b[0m \u001b[0mAzimuthalAwkwardRhoPhi\u001b[0m\u001b[0;34m(\u001b[0m\u001b[0marray\u001b[0m\u001b[0;34m[\u001b[0m\u001b[0;34m\"rho\"\u001b[0m\u001b[0;34m]\u001b[0m\u001b[0;34m,\u001b[0m \u001b[0marray\u001b[0m\u001b[0;34m[\u001b[0m\u001b[0;34m\"phi\"\u001b[0m\u001b[0;34m]\u001b[0m\u001b[0;34m)\u001b[0m\u001b[0;34m\u001b[0m\u001b[0;34m\u001b[0m\u001b[0m\n\u001b[1;32m    102\u001b[0m         \u001b[0;32melse\u001b[0m\u001b[0;34m:\u001b[0m\u001b[0;34m\u001b[0m\u001b[0;34m\u001b[0m\u001b[0m\n\u001b[0;32m--> 103\u001b[0;31m             raise ValueError(\n\u001b[0m\u001b[1;32m    104\u001b[0m                 \u001b[0;34mf\"array does not have azimuthal coordinates (x/y/rho/phi): {', '.join(fields)}\"\u001b[0m\u001b[0;34m\u001b[0m\u001b[0;34m\u001b[0m\u001b[0m\n\u001b[1;32m    105\u001b[0m             )\n",
      "\u001b[0;31mValueError\u001b[0m: array does not have azimuthal coordinates (x/y/rho/phi): pt, eta, phi, mass"
     ]
    }
   ],
   "source": [
    "muonstest.pt #yep its a versions issue!!!"
   ]
  },
  {
   "cell_type": "code",
   "execution_count": 102,
   "id": "475128a2-58a3-4cdc-bef1-31ee4137e6b2",
   "metadata": {},
   "outputs": [],
   "source": [
    "vec4d = ak.with_name(nanoevents_style, \"Momentum4D\")"
   ]
  },
  {
   "cell_type": "code",
   "execution_count": 103,
   "id": "512262e4-620f-4301-be39-611e6ecd3220",
   "metadata": {},
   "outputs": [
    {
     "data": {
      "text/plain": [
       "<MomentumArray4D [[{pt: 861, eta: 0.324, ... mass: 0}]] type='5 * var * Momentum...'>"
      ]
     },
     "execution_count": 103,
     "metadata": {},
     "output_type": "execute_result"
    }
   ],
   "source": [
    "vec4d"
   ]
  },
  {
   "cell_type": "code",
   "execution_count": 104,
   "id": "3f8ad0f9-8323-44f4-9840-eda4d707152a",
   "metadata": {},
   "outputs": [],
   "source": [
    "xtry = v.Array(vec4d)"
   ]
  },
  {
   "cell_type": "code",
   "execution_count": 105,
   "id": "011f2f8a-f9a9-4bba-aaa4-236c14a5aefd",
   "metadata": {},
   "outputs": [
    {
     "data": {
      "text/plain": [
       "['rho', 'phi', 'eta', 'tau']"
      ]
     },
     "execution_count": 105,
     "metadata": {},
     "output_type": "execute_result"
    }
   ],
   "source": [
    "xtry.fields"
   ]
  },
  {
   "cell_type": "code",
   "execution_count": 106,
   "id": "778bf77d-7d53-4cbe-a415-b6d823fabaf0",
   "metadata": {},
   "outputs": [
    {
     "ename": "IndexError",
     "evalue": "list index out of range",
     "output_type": "error",
     "traceback": [
      "\u001b[0;31m---------------------------------------------------------------------------\u001b[0m",
      "\u001b[0;31mIndexError\u001b[0m                                Traceback (most recent call last)",
      "\u001b[0;32m<ipython-input-106-42e3317b85ea>\u001b[0m in \u001b[0;36m<module>\u001b[0;34m\u001b[0m\n\u001b[0;32m----> 1\u001b[0;31m \u001b[0mxtry\u001b[0m\u001b[0;34m[\u001b[0m\u001b[0;36m1\u001b[0m\u001b[0;34m,\u001b[0m \u001b[0;36m0\u001b[0m\u001b[0;34m]\u001b[0m\u001b[0;34m.\u001b[0m\u001b[0mcross\u001b[0m\u001b[0;34m(\u001b[0m\u001b[0mxtry\u001b[0m\u001b[0;34m[\u001b[0m\u001b[0;36m1\u001b[0m\u001b[0;34m,\u001b[0m \u001b[0;36m1\u001b[0m\u001b[0;34m]\u001b[0m\u001b[0;34m)\u001b[0m\u001b[0;34m\u001b[0m\u001b[0;34m\u001b[0m\u001b[0m\n\u001b[0m",
      "\u001b[0;32m/usr/local/lib/python3.8/dist-packages/vector/_methods.py\u001b[0m in \u001b[0;36mcross\u001b[0;34m(self, other)\u001b[0m\n\u001b[1;32m   1768\u001b[0m         \u001b[0;32mfrom\u001b[0m \u001b[0mvector\u001b[0m\u001b[0;34m.\u001b[0m\u001b[0m_compute\u001b[0m\u001b[0;34m.\u001b[0m\u001b[0mspatial\u001b[0m \u001b[0;32mimport\u001b[0m \u001b[0mcross\u001b[0m\u001b[0;34m\u001b[0m\u001b[0;34m\u001b[0m\u001b[0m\n\u001b[1;32m   1769\u001b[0m \u001b[0;34m\u001b[0m\u001b[0m\n\u001b[0;32m-> 1770\u001b[0;31m         \u001b[0;32mreturn\u001b[0m \u001b[0mcross\u001b[0m\u001b[0;34m.\u001b[0m\u001b[0mdispatch\u001b[0m\u001b[0;34m(\u001b[0m\u001b[0mself\u001b[0m\u001b[0;34m,\u001b[0m \u001b[0mother\u001b[0m\u001b[0;34m)\u001b[0m\u001b[0;34m\u001b[0m\u001b[0;34m\u001b[0m\u001b[0m\n\u001b[0m\u001b[1;32m   1771\u001b[0m \u001b[0;34m\u001b[0m\u001b[0m\n\u001b[1;32m   1772\u001b[0m     \u001b[0;32mdef\u001b[0m \u001b[0mdeltaangle\u001b[0m\u001b[0;34m(\u001b[0m\u001b[0mself\u001b[0m\u001b[0;34m,\u001b[0m \u001b[0mother\u001b[0m\u001b[0;34m:\u001b[0m \u001b[0mVectorProtocol\u001b[0m\u001b[0;34m)\u001b[0m \u001b[0;34m->\u001b[0m \u001b[0mScalarCollection\u001b[0m\u001b[0;34m:\u001b[0m\u001b[0;34m\u001b[0m\u001b[0;34m\u001b[0m\u001b[0m\n",
      "\u001b[0;32m/usr/local/lib/python3.8/dist-packages/vector/_compute/spatial/cross.py\u001b[0m in \u001b[0;36mdispatch\u001b[0;34m(v1, v2)\u001b[0m\n\u001b[1;32m    135\u001b[0m     )\n\u001b[1;32m    136\u001b[0m     \u001b[0;32mwith\u001b[0m \u001b[0mnumpy\u001b[0m\u001b[0;34m.\u001b[0m\u001b[0merrstate\u001b[0m\u001b[0;34m(\u001b[0m\u001b[0mall\u001b[0m\u001b[0;34m=\u001b[0m\u001b[0;34m\"ignore\"\u001b[0m\u001b[0;34m)\u001b[0m\u001b[0;34m:\u001b[0m\u001b[0;34m\u001b[0m\u001b[0;34m\u001b[0m\u001b[0m\n\u001b[0;32m--> 137\u001b[0;31m         return _handler_of(v1, v2)._wrap_result(\n\u001b[0m\u001b[1;32m    138\u001b[0m             \u001b[0m_flavor_of\u001b[0m\u001b[0;34m(\u001b[0m\u001b[0mv1\u001b[0m\u001b[0;34m,\u001b[0m \u001b[0mv2\u001b[0m\u001b[0;34m)\u001b[0m\u001b[0;34m,\u001b[0m\u001b[0;34m\u001b[0m\u001b[0;34m\u001b[0m\u001b[0m\n\u001b[1;32m    139\u001b[0m             function(\n",
      "\u001b[0;32m/usr/local/lib/python3.8/dist-packages/vector/_backends/awkward_.py\u001b[0m in \u001b[0;36m_wrap_result\u001b[0;34m(self, cls, result, returns, num_vecargs)\u001b[0m\n\u001b[1;32m    422\u001b[0m             \u001b[0;32mand\u001b[0m \u001b[0mreturns\u001b[0m\u001b[0;34m[\u001b[0m\u001b[0;36m2\u001b[0m\u001b[0;34m]\u001b[0m \u001b[0;32mis\u001b[0m \u001b[0;32mNone\u001b[0m\u001b[0;34m\u001b[0m\u001b[0;34m\u001b[0m\u001b[0m\n\u001b[1;32m    423\u001b[0m         ):\n\u001b[0;32m--> 424\u001b[0;31m             \u001b[0mfirst\u001b[0m \u001b[0;34m=\u001b[0m \u001b[0;34m[\u001b[0m\u001b[0mx\u001b[0m \u001b[0;32mfor\u001b[0m \u001b[0mx\u001b[0m \u001b[0;32min\u001b[0m \u001b[0mresult\u001b[0m \u001b[0;32mif\u001b[0m \u001b[0misinstance\u001b[0m\u001b[0;34m(\u001b[0m\u001b[0mx\u001b[0m\u001b[0;34m,\u001b[0m \u001b[0mak\u001b[0m\u001b[0;34m.\u001b[0m\u001b[0mArray\u001b[0m\u001b[0;34m)\u001b[0m\u001b[0;34m]\u001b[0m\u001b[0;34m[\u001b[0m\u001b[0;36m0\u001b[0m\u001b[0;34m]\u001b[0m\u001b[0;34m\u001b[0m\u001b[0;34m\u001b[0m\u001b[0m\n\u001b[0m\u001b[1;32m    425\u001b[0m             result = [\n\u001b[1;32m    426\u001b[0m                 \u001b[0mx\u001b[0m \u001b[0;32mif\u001b[0m \u001b[0misinstance\u001b[0m\u001b[0;34m(\u001b[0m\u001b[0mx\u001b[0m\u001b[0;34m,\u001b[0m \u001b[0mak\u001b[0m\u001b[0;34m.\u001b[0m\u001b[0mArray\u001b[0m\u001b[0;34m)\u001b[0m \u001b[0;32melse\u001b[0m \u001b[0mak\u001b[0m\u001b[0;34m.\u001b[0m\u001b[0mbroadcast_arrays\u001b[0m\u001b[0;34m(\u001b[0m\u001b[0mfirst\u001b[0m\u001b[0;34m,\u001b[0m \u001b[0mx\u001b[0m\u001b[0;34m)\u001b[0m\u001b[0;34m[\u001b[0m\u001b[0;36m1\u001b[0m\u001b[0;34m]\u001b[0m\u001b[0;34m\u001b[0m\u001b[0;34m\u001b[0m\u001b[0m\n",
      "\u001b[0;31mIndexError\u001b[0m: list index out of range"
     ]
    }
   ],
   "source": [
    "xtry[1, 0].cross(xtry[1, 1])"
   ]
  },
  {
   "cell_type": "code",
   "execution_count": 107,
   "id": "66a084a7-65f5-4602-b2c4-3e543d638f32",
   "metadata": {},
   "outputs": [],
   "source": [
    "ytry = ak.Array(nanoevents_style, with_name='Momentum4D')"
   ]
  },
  {
   "cell_type": "code",
   "execution_count": 108,
   "id": "0c26e6b9-f2c2-4267-8117-f5d3bcf354b3",
   "metadata": {},
   "outputs": [
    {
     "data": {
      "text/plain": [
       "['pt', 'eta', 'phi', 'mass']"
      ]
     },
     "execution_count": 108,
     "metadata": {},
     "output_type": "execute_result"
    }
   ],
   "source": [
    "ytry.fields"
   ]
  },
  {
   "cell_type": "code",
   "execution_count": 109,
   "id": "b4b57c17-b63d-4fda-80d5-0378ad7d3a17",
   "metadata": {},
   "outputs": [
    {
     "ename": "ValueError",
     "evalue": "array does not have azimuthal coordinates (x/y/rho/phi): pt, eta, phi, mass",
     "output_type": "error",
     "traceback": [
      "\u001b[0;31m---------------------------------------------------------------------------\u001b[0m",
      "\u001b[0;31mValueError\u001b[0m                                Traceback (most recent call last)",
      "\u001b[0;32m<ipython-input-109-e6d2b34e73f3>\u001b[0m in \u001b[0;36m<module>\u001b[0;34m\u001b[0m\n\u001b[0;32m----> 1\u001b[0;31m \u001b[0mytry\u001b[0m\u001b[0;34m[\u001b[0m\u001b[0;36m1\u001b[0m\u001b[0;34m,\u001b[0m\u001b[0;36m0\u001b[0m\u001b[0;34m]\u001b[0m\u001b[0;34m.\u001b[0m\u001b[0mcross\u001b[0m\u001b[0;34m(\u001b[0m\u001b[0mytry\u001b[0m\u001b[0;34m[\u001b[0m\u001b[0;36m1\u001b[0m\u001b[0;34m,\u001b[0m\u001b[0;36m1\u001b[0m\u001b[0;34m]\u001b[0m\u001b[0;34m)\u001b[0m\u001b[0;34m\u001b[0m\u001b[0;34m\u001b[0m\u001b[0m\n\u001b[0m",
      "\u001b[0;32m/usr/local/lib/python3.8/dist-packages/vector/_methods.py\u001b[0m in \u001b[0;36mcross\u001b[0;34m(self, other)\u001b[0m\n\u001b[1;32m   1768\u001b[0m         \u001b[0;32mfrom\u001b[0m \u001b[0mvector\u001b[0m\u001b[0;34m.\u001b[0m\u001b[0m_compute\u001b[0m\u001b[0;34m.\u001b[0m\u001b[0mspatial\u001b[0m \u001b[0;32mimport\u001b[0m \u001b[0mcross\u001b[0m\u001b[0;34m\u001b[0m\u001b[0;34m\u001b[0m\u001b[0m\n\u001b[1;32m   1769\u001b[0m \u001b[0;34m\u001b[0m\u001b[0m\n\u001b[0;32m-> 1770\u001b[0;31m         \u001b[0;32mreturn\u001b[0m \u001b[0mcross\u001b[0m\u001b[0;34m.\u001b[0m\u001b[0mdispatch\u001b[0m\u001b[0;34m(\u001b[0m\u001b[0mself\u001b[0m\u001b[0;34m,\u001b[0m \u001b[0mother\u001b[0m\u001b[0;34m)\u001b[0m\u001b[0;34m\u001b[0m\u001b[0;34m\u001b[0m\u001b[0m\n\u001b[0m\u001b[1;32m   1771\u001b[0m \u001b[0;34m\u001b[0m\u001b[0m\n\u001b[1;32m   1772\u001b[0m     \u001b[0;32mdef\u001b[0m \u001b[0mdeltaangle\u001b[0m\u001b[0;34m(\u001b[0m\u001b[0mself\u001b[0m\u001b[0;34m,\u001b[0m \u001b[0mother\u001b[0m\u001b[0;34m:\u001b[0m \u001b[0mVectorProtocol\u001b[0m\u001b[0;34m)\u001b[0m \u001b[0;34m->\u001b[0m \u001b[0mScalarCollection\u001b[0m\u001b[0;34m:\u001b[0m\u001b[0;34m\u001b[0m\u001b[0;34m\u001b[0m\u001b[0m\n",
      "\u001b[0;32m/usr/local/lib/python3.8/dist-packages/vector/_compute/spatial/cross.py\u001b[0m in \u001b[0;36mdispatch\u001b[0;34m(v1, v2)\u001b[0m\n\u001b[1;32m    128\u001b[0m         \u001b[0mdispatch_map\u001b[0m\u001b[0;34m,\u001b[0m\u001b[0;34m\u001b[0m\u001b[0;34m\u001b[0m\u001b[0m\n\u001b[1;32m    129\u001b[0m         (\n\u001b[0;32m--> 130\u001b[0;31m             \u001b[0m_aztype\u001b[0m\u001b[0;34m(\u001b[0m\u001b[0mv1\u001b[0m\u001b[0;34m)\u001b[0m\u001b[0;34m,\u001b[0m\u001b[0;34m\u001b[0m\u001b[0;34m\u001b[0m\u001b[0m\n\u001b[0m\u001b[1;32m    131\u001b[0m             \u001b[0m_ltype\u001b[0m\u001b[0;34m(\u001b[0m\u001b[0mv1\u001b[0m\u001b[0;34m)\u001b[0m\u001b[0;34m,\u001b[0m\u001b[0;34m\u001b[0m\u001b[0;34m\u001b[0m\u001b[0m\n\u001b[1;32m    132\u001b[0m             \u001b[0m_aztype\u001b[0m\u001b[0;34m(\u001b[0m\u001b[0mv2\u001b[0m\u001b[0;34m)\u001b[0m\u001b[0;34m,\u001b[0m\u001b[0;34m\u001b[0m\u001b[0;34m\u001b[0m\u001b[0m\n",
      "\u001b[0;32m/usr/local/lib/python3.8/dist-packages/vector/_methods.py\u001b[0m in \u001b[0;36m_aztype\u001b[0;34m(obj)\u001b[0m\n\u001b[1;32m   2356\u001b[0m     \u001b[0mdispatched\u001b[0m \u001b[0mfunction\u001b[0m\u001b[0;34m.\u001b[0m\u001b[0;34m\u001b[0m\u001b[0;34m\u001b[0m\u001b[0m\n\u001b[1;32m   2357\u001b[0m     \"\"\"\n\u001b[0;32m-> 2358\u001b[0;31m     \u001b[0;32mif\u001b[0m \u001b[0mhasattr\u001b[0m\u001b[0;34m(\u001b[0m\u001b[0mobj\u001b[0m\u001b[0;34m,\u001b[0m \u001b[0;34m\"azimuthal\"\u001b[0m\u001b[0;34m)\u001b[0m\u001b[0;34m:\u001b[0m\u001b[0;34m\u001b[0m\u001b[0;34m\u001b[0m\u001b[0m\n\u001b[0m\u001b[1;32m   2359\u001b[0m         \u001b[0;32mfor\u001b[0m \u001b[0mt\u001b[0m \u001b[0;32min\u001b[0m \u001b[0mtype\u001b[0m\u001b[0;34m(\u001b[0m\u001b[0mobj\u001b[0m\u001b[0;34m.\u001b[0m\u001b[0mazimuthal\u001b[0m\u001b[0;34m)\u001b[0m\u001b[0;34m.\u001b[0m\u001b[0m__mro__\u001b[0m\u001b[0;34m:\u001b[0m\u001b[0;34m\u001b[0m\u001b[0;34m\u001b[0m\u001b[0m\n\u001b[1;32m   2360\u001b[0m             \u001b[0;32mif\u001b[0m \u001b[0mt\u001b[0m \u001b[0;32min\u001b[0m \u001b[0;34m(\u001b[0m\u001b[0mAzimuthalXY\u001b[0m\u001b[0;34m,\u001b[0m \u001b[0mAzimuthalRhoPhi\u001b[0m\u001b[0;34m)\u001b[0m\u001b[0;34m:\u001b[0m\u001b[0;34m\u001b[0m\u001b[0;34m\u001b[0m\u001b[0m\n",
      "\u001b[0;32m/usr/local/lib/python3.8/dist-packages/vector/_backends/awkward_.py\u001b[0m in \u001b[0;36mazimuthal\u001b[0;34m(self)\u001b[0m\n\u001b[1;32m    565\u001b[0m     \u001b[0;34m@\u001b[0m\u001b[0mproperty\u001b[0m\u001b[0;34m\u001b[0m\u001b[0;34m\u001b[0m\u001b[0m\n\u001b[1;32m    566\u001b[0m     \u001b[0;32mdef\u001b[0m \u001b[0mazimuthal\u001b[0m\u001b[0;34m(\u001b[0m\u001b[0mself\u001b[0m\u001b[0;34m)\u001b[0m \u001b[0;34m->\u001b[0m \u001b[0mAzimuthalAwkward\u001b[0m\u001b[0;34m:\u001b[0m\u001b[0;34m\u001b[0m\u001b[0;34m\u001b[0m\u001b[0m\n\u001b[0;32m--> 567\u001b[0;31m         \u001b[0;32mreturn\u001b[0m \u001b[0mAzimuthalAwkward\u001b[0m\u001b[0;34m.\u001b[0m\u001b[0mfrom_fields\u001b[0m\u001b[0;34m(\u001b[0m\u001b[0mself\u001b[0m\u001b[0;34m)\u001b[0m\u001b[0;34m\u001b[0m\u001b[0;34m\u001b[0m\u001b[0m\n\u001b[0m\u001b[1;32m    568\u001b[0m \u001b[0;34m\u001b[0m\u001b[0m\n\u001b[1;32m    569\u001b[0m     \u001b[0;34m@\u001b[0m\u001b[0mproperty\u001b[0m\u001b[0;34m\u001b[0m\u001b[0;34m\u001b[0m\u001b[0m\n",
      "\u001b[0;32m/usr/local/lib/python3.8/dist-packages/vector/_backends/awkward_.py\u001b[0m in \u001b[0;36mfrom_fields\u001b[0;34m(cls, array)\u001b[0m\n\u001b[1;32m    101\u001b[0m             \u001b[0;32mreturn\u001b[0m \u001b[0mAzimuthalAwkwardRhoPhi\u001b[0m\u001b[0;34m(\u001b[0m\u001b[0marray\u001b[0m\u001b[0;34m[\u001b[0m\u001b[0;34m\"rho\"\u001b[0m\u001b[0;34m]\u001b[0m\u001b[0;34m,\u001b[0m \u001b[0marray\u001b[0m\u001b[0;34m[\u001b[0m\u001b[0;34m\"phi\"\u001b[0m\u001b[0;34m]\u001b[0m\u001b[0;34m)\u001b[0m\u001b[0;34m\u001b[0m\u001b[0;34m\u001b[0m\u001b[0m\n\u001b[1;32m    102\u001b[0m         \u001b[0;32melse\u001b[0m\u001b[0;34m:\u001b[0m\u001b[0;34m\u001b[0m\u001b[0;34m\u001b[0m\u001b[0m\n\u001b[0;32m--> 103\u001b[0;31m             raise ValueError(\n\u001b[0m\u001b[1;32m    104\u001b[0m                 \u001b[0;34mf\"array does not have azimuthal coordinates (x/y/rho/phi): {', '.join(fields)}\"\u001b[0m\u001b[0;34m\u001b[0m\u001b[0;34m\u001b[0m\u001b[0m\n\u001b[1;32m    105\u001b[0m             )\n",
      "\u001b[0;31mValueError\u001b[0m: array does not have azimuthal coordinates (x/y/rho/phi): pt, eta, phi, mass"
     ]
    }
   ],
   "source": [
    "ytry[1,0].cross(ytry[1,1])"
   ]
  },
  {
   "cell_type": "code",
   "execution_count": 110,
   "id": "84fab23c-508d-4117-b027-83244781ddc4",
   "metadata": {},
   "outputs": [
    {
     "data": {
      "text/plain": [
       "['pt', 'eta', 'phi', 'mass']"
      ]
     },
     "execution_count": 110,
     "metadata": {},
     "output_type": "execute_result"
    }
   ],
   "source": [
    "vec4d.fields"
   ]
  },
  {
   "cell_type": "code",
   "execution_count": 111,
   "id": "38774c04-c60c-4fcb-91c1-065f4801c262",
   "metadata": {},
   "outputs": [
    {
     "data": {
      "text/plain": [
       "(<MomentumRecord4D ... eta: 1.5, phi: 2.02, mass: 0.135} type='Momentum4D[\"pt\": f...'>,\n",
       " <MomentumRecord4D ... eta: 0.324, phi: 0.0602, mass: 0} type='Momentum4D[\"pt\": f...'>)"
      ]
     },
     "execution_count": 111,
     "metadata": {},
     "output_type": "execute_result"
    }
   ],
   "source": [
    "vec4d[1,0], vec4d[0,1]"
   ]
  },
  {
   "cell_type": "code",
   "execution_count": 112,
   "id": "0187434b-0fb0-44b0-8f4c-44cbd7e12afb",
   "metadata": {},
   "outputs": [
    {
     "ename": "ValueError",
     "evalue": "array does not have azimuthal coordinates (x/y/rho/phi): pt, eta, phi, mass",
     "output_type": "error",
     "traceback": [
      "\u001b[0;31m---------------------------------------------------------------------------\u001b[0m",
      "\u001b[0;31mValueError\u001b[0m                                Traceback (most recent call last)",
      "\u001b[0;32m<ipython-input-112-b92bff253db2>\u001b[0m in \u001b[0;36m<module>\u001b[0;34m\u001b[0m\n\u001b[0;32m----> 1\u001b[0;31m \u001b[0mvec4d\u001b[0m\u001b[0;34m[\u001b[0m\u001b[0;36m0\u001b[0m\u001b[0;34m]\u001b[0m\u001b[0;34m.\u001b[0m\u001b[0mpt\u001b[0m\u001b[0;34m\u001b[0m\u001b[0;34m\u001b[0m\u001b[0m\n\u001b[0m",
      "\u001b[0;32m/usr/local/lib/python3.8/dist-packages/vector/_methods.py\u001b[0m in \u001b[0;36mpt\u001b[0;34m(self)\u001b[0m\n\u001b[1;32m   2138\u001b[0m     \u001b[0;34m@\u001b[0m\u001b[0mproperty\u001b[0m\u001b[0;34m\u001b[0m\u001b[0;34m\u001b[0m\u001b[0m\n\u001b[1;32m   2139\u001b[0m     \u001b[0;32mdef\u001b[0m \u001b[0mpt\u001b[0m\u001b[0;34m(\u001b[0m\u001b[0mself\u001b[0m\u001b[0;34m)\u001b[0m \u001b[0;34m->\u001b[0m \u001b[0mScalarCollection\u001b[0m\u001b[0;34m:\u001b[0m\u001b[0;34m\u001b[0m\u001b[0;34m\u001b[0m\u001b[0m\n\u001b[0;32m-> 2140\u001b[0;31m         \u001b[0;32mreturn\u001b[0m \u001b[0mself\u001b[0m\u001b[0;34m.\u001b[0m\u001b[0mrho\u001b[0m\u001b[0;34m\u001b[0m\u001b[0;34m\u001b[0m\u001b[0m\n\u001b[0m\u001b[1;32m   2141\u001b[0m \u001b[0;34m\u001b[0m\u001b[0m\n\u001b[1;32m   2142\u001b[0m     \u001b[0;34m@\u001b[0m\u001b[0mproperty\u001b[0m\u001b[0;34m\u001b[0m\u001b[0;34m\u001b[0m\u001b[0m\n",
      "\u001b[0;32m/usr/local/lib/python3.8/dist-packages/vector/_methods.py\u001b[0m in \u001b[0;36mrho\u001b[0;34m(self)\u001b[0m\n\u001b[1;32m   1607\u001b[0m         \u001b[0;32mfrom\u001b[0m \u001b[0mvector\u001b[0m\u001b[0;34m.\u001b[0m\u001b[0m_compute\u001b[0m\u001b[0;34m.\u001b[0m\u001b[0mplanar\u001b[0m \u001b[0;32mimport\u001b[0m \u001b[0mrho\u001b[0m\u001b[0;34m\u001b[0m\u001b[0;34m\u001b[0m\u001b[0m\n\u001b[1;32m   1608\u001b[0m \u001b[0;34m\u001b[0m\u001b[0m\n\u001b[0;32m-> 1609\u001b[0;31m         \u001b[0;32mreturn\u001b[0m \u001b[0mrho\u001b[0m\u001b[0;34m.\u001b[0m\u001b[0mdispatch\u001b[0m\u001b[0;34m(\u001b[0m\u001b[0mself\u001b[0m\u001b[0;34m)\u001b[0m\u001b[0;34m\u001b[0m\u001b[0;34m\u001b[0m\u001b[0m\n\u001b[0m\u001b[1;32m   1610\u001b[0m \u001b[0;34m\u001b[0m\u001b[0m\n\u001b[1;32m   1611\u001b[0m     \u001b[0;34m@\u001b[0m\u001b[0mproperty\u001b[0m\u001b[0;34m\u001b[0m\u001b[0;34m\u001b[0m\u001b[0m\n",
      "\u001b[0;32m/usr/local/lib/python3.8/dist-packages/vector/_compute/planar/rho.py\u001b[0m in \u001b[0;36mdispatch\u001b[0;34m(v)\u001b[0m\n\u001b[1;32m     40\u001b[0m \u001b[0;34m\u001b[0m\u001b[0m\n\u001b[1;32m     41\u001b[0m \u001b[0;32mdef\u001b[0m \u001b[0mdispatch\u001b[0m\u001b[0;34m(\u001b[0m\u001b[0mv\u001b[0m\u001b[0;34m:\u001b[0m \u001b[0mtyping\u001b[0m\u001b[0;34m.\u001b[0m\u001b[0mAny\u001b[0m\u001b[0;34m)\u001b[0m \u001b[0;34m->\u001b[0m \u001b[0mtyping\u001b[0m\u001b[0;34m.\u001b[0m\u001b[0mAny\u001b[0m\u001b[0;34m:\u001b[0m\u001b[0;34m\u001b[0m\u001b[0;34m\u001b[0m\u001b[0m\n\u001b[0;32m---> 42\u001b[0;31m     \u001b[0mfunction\u001b[0m\u001b[0;34m,\u001b[0m \u001b[0;34m*\u001b[0m\u001b[0mreturns\u001b[0m \u001b[0;34m=\u001b[0m \u001b[0m_from_signature\u001b[0m\u001b[0;34m(\u001b[0m\u001b[0m__name__\u001b[0m\u001b[0;34m,\u001b[0m \u001b[0mdispatch_map\u001b[0m\u001b[0;34m,\u001b[0m \u001b[0;34m(\u001b[0m\u001b[0m_aztype\u001b[0m\u001b[0;34m(\u001b[0m\u001b[0mv\u001b[0m\u001b[0;34m)\u001b[0m\u001b[0;34m,\u001b[0m\u001b[0;34m)\u001b[0m\u001b[0;34m)\u001b[0m\u001b[0;34m\u001b[0m\u001b[0;34m\u001b[0m\u001b[0m\n\u001b[0m\u001b[1;32m     43\u001b[0m     \u001b[0;32mwith\u001b[0m \u001b[0mnumpy\u001b[0m\u001b[0;34m.\u001b[0m\u001b[0merrstate\u001b[0m\u001b[0;34m(\u001b[0m\u001b[0mall\u001b[0m\u001b[0;34m=\u001b[0m\u001b[0;34m\"ignore\"\u001b[0m\u001b[0;34m)\u001b[0m\u001b[0;34m:\u001b[0m\u001b[0;34m\u001b[0m\u001b[0;34m\u001b[0m\u001b[0m\n\u001b[1;32m     44\u001b[0m         return v._wrap_result(\n",
      "\u001b[0;32m/usr/local/lib/python3.8/dist-packages/vector/_methods.py\u001b[0m in \u001b[0;36m_aztype\u001b[0;34m(obj)\u001b[0m\n\u001b[1;32m   2356\u001b[0m     \u001b[0mdispatched\u001b[0m \u001b[0mfunction\u001b[0m\u001b[0;34m.\u001b[0m\u001b[0;34m\u001b[0m\u001b[0;34m\u001b[0m\u001b[0m\n\u001b[1;32m   2357\u001b[0m     \"\"\"\n\u001b[0;32m-> 2358\u001b[0;31m     \u001b[0;32mif\u001b[0m \u001b[0mhasattr\u001b[0m\u001b[0;34m(\u001b[0m\u001b[0mobj\u001b[0m\u001b[0;34m,\u001b[0m \u001b[0;34m\"azimuthal\"\u001b[0m\u001b[0;34m)\u001b[0m\u001b[0;34m:\u001b[0m\u001b[0;34m\u001b[0m\u001b[0;34m\u001b[0m\u001b[0m\n\u001b[0m\u001b[1;32m   2359\u001b[0m         \u001b[0;32mfor\u001b[0m \u001b[0mt\u001b[0m \u001b[0;32min\u001b[0m \u001b[0mtype\u001b[0m\u001b[0;34m(\u001b[0m\u001b[0mobj\u001b[0m\u001b[0;34m.\u001b[0m\u001b[0mazimuthal\u001b[0m\u001b[0;34m)\u001b[0m\u001b[0;34m.\u001b[0m\u001b[0m__mro__\u001b[0m\u001b[0;34m:\u001b[0m\u001b[0;34m\u001b[0m\u001b[0;34m\u001b[0m\u001b[0m\n\u001b[1;32m   2360\u001b[0m             \u001b[0;32mif\u001b[0m \u001b[0mt\u001b[0m \u001b[0;32min\u001b[0m \u001b[0;34m(\u001b[0m\u001b[0mAzimuthalXY\u001b[0m\u001b[0;34m,\u001b[0m \u001b[0mAzimuthalRhoPhi\u001b[0m\u001b[0;34m)\u001b[0m\u001b[0;34m:\u001b[0m\u001b[0;34m\u001b[0m\u001b[0;34m\u001b[0m\u001b[0m\n",
      "\u001b[0;32m/usr/local/lib/python3.8/dist-packages/vector/_backends/awkward_.py\u001b[0m in \u001b[0;36mazimuthal\u001b[0;34m(self)\u001b[0m\n\u001b[1;32m    565\u001b[0m     \u001b[0;34m@\u001b[0m\u001b[0mproperty\u001b[0m\u001b[0;34m\u001b[0m\u001b[0;34m\u001b[0m\u001b[0m\n\u001b[1;32m    566\u001b[0m     \u001b[0;32mdef\u001b[0m \u001b[0mazimuthal\u001b[0m\u001b[0;34m(\u001b[0m\u001b[0mself\u001b[0m\u001b[0;34m)\u001b[0m \u001b[0;34m->\u001b[0m \u001b[0mAzimuthalAwkward\u001b[0m\u001b[0;34m:\u001b[0m\u001b[0;34m\u001b[0m\u001b[0;34m\u001b[0m\u001b[0m\n\u001b[0;32m--> 567\u001b[0;31m         \u001b[0;32mreturn\u001b[0m \u001b[0mAzimuthalAwkward\u001b[0m\u001b[0;34m.\u001b[0m\u001b[0mfrom_fields\u001b[0m\u001b[0;34m(\u001b[0m\u001b[0mself\u001b[0m\u001b[0;34m)\u001b[0m\u001b[0;34m\u001b[0m\u001b[0;34m\u001b[0m\u001b[0m\n\u001b[0m\u001b[1;32m    568\u001b[0m \u001b[0;34m\u001b[0m\u001b[0m\n\u001b[1;32m    569\u001b[0m     \u001b[0;34m@\u001b[0m\u001b[0mproperty\u001b[0m\u001b[0;34m\u001b[0m\u001b[0;34m\u001b[0m\u001b[0m\n",
      "\u001b[0;32m/usr/local/lib/python3.8/dist-packages/vector/_backends/awkward_.py\u001b[0m in \u001b[0;36mfrom_fields\u001b[0;34m(cls, array)\u001b[0m\n\u001b[1;32m    101\u001b[0m             \u001b[0;32mreturn\u001b[0m \u001b[0mAzimuthalAwkwardRhoPhi\u001b[0m\u001b[0;34m(\u001b[0m\u001b[0marray\u001b[0m\u001b[0;34m[\u001b[0m\u001b[0;34m\"rho\"\u001b[0m\u001b[0;34m]\u001b[0m\u001b[0;34m,\u001b[0m \u001b[0marray\u001b[0m\u001b[0;34m[\u001b[0m\u001b[0;34m\"phi\"\u001b[0m\u001b[0;34m]\u001b[0m\u001b[0;34m)\u001b[0m\u001b[0;34m\u001b[0m\u001b[0;34m\u001b[0m\u001b[0m\n\u001b[1;32m    102\u001b[0m         \u001b[0;32melse\u001b[0m\u001b[0;34m:\u001b[0m\u001b[0;34m\u001b[0m\u001b[0;34m\u001b[0m\u001b[0m\n\u001b[0;32m--> 103\u001b[0;31m             raise ValueError(\n\u001b[0m\u001b[1;32m    104\u001b[0m                 \u001b[0;34mf\"array does not have azimuthal coordinates (x/y/rho/phi): {', '.join(fields)}\"\u001b[0m\u001b[0;34m\u001b[0m\u001b[0;34m\u001b[0m\u001b[0m\n\u001b[1;32m    105\u001b[0m             )\n",
      "\u001b[0;31mValueError\u001b[0m: array does not have azimuthal coordinates (x/y/rho/phi): pt, eta, phi, mass"
     ]
    }
   ],
   "source": [
    "vec4d[0].pt"
   ]
  },
  {
   "cell_type": "code",
   "execution_count": 113,
   "id": "1aee57f2-b7eb-40f7-99fb-20e298344ade",
   "metadata": {},
   "outputs": [
    {
     "data": {
      "text/plain": [
       "('4.0.7', '0.8.1', '1.2.2')"
      ]
     },
     "execution_count": 113,
     "metadata": {},
     "output_type": "execute_result"
    }
   ],
   "source": [
    "ur.__version__, v.__version__, ak.__version__"
   ]
  },
  {
   "cell_type": "code",
   "execution_count": 114,
   "id": "d2202f65-c329-4aeb-af3c-05e83bf73f5a",
   "metadata": {},
   "outputs": [
    {
     "ename": "ValueError",
     "evalue": "array does not have azimuthal coordinates (x/y/rho/phi): pt, eta, phi, mass",
     "output_type": "error",
     "traceback": [
      "\u001b[0;31m---------------------------------------------------------------------------\u001b[0m",
      "\u001b[0;31mValueError\u001b[0m                                Traceback (most recent call last)",
      "\u001b[0;32m<ipython-input-114-f0e83d958f0c>\u001b[0m in \u001b[0;36m<module>\u001b[0;34m\u001b[0m\n\u001b[0;32m----> 1\u001b[0;31m \u001b[0mvec4d\u001b[0m\u001b[0;34m[\u001b[0m\u001b[0;36m1\u001b[0m\u001b[0;34m,\u001b[0m \u001b[0;36m0\u001b[0m\u001b[0;34m]\u001b[0m\u001b[0;34m.\u001b[0m\u001b[0mcross\u001b[0m\u001b[0;34m(\u001b[0m\u001b[0mvec4d\u001b[0m\u001b[0;34m[\u001b[0m\u001b[0;36m1\u001b[0m\u001b[0;34m,\u001b[0m \u001b[0;36m1\u001b[0m\u001b[0;34m]\u001b[0m\u001b[0;34m)\u001b[0m\u001b[0;34m\u001b[0m\u001b[0;34m\u001b[0m\u001b[0m\n\u001b[0m",
      "\u001b[0;32m/usr/local/lib/python3.8/dist-packages/vector/_methods.py\u001b[0m in \u001b[0;36mcross\u001b[0;34m(self, other)\u001b[0m\n\u001b[1;32m   1768\u001b[0m         \u001b[0;32mfrom\u001b[0m \u001b[0mvector\u001b[0m\u001b[0;34m.\u001b[0m\u001b[0m_compute\u001b[0m\u001b[0;34m.\u001b[0m\u001b[0mspatial\u001b[0m \u001b[0;32mimport\u001b[0m \u001b[0mcross\u001b[0m\u001b[0;34m\u001b[0m\u001b[0;34m\u001b[0m\u001b[0m\n\u001b[1;32m   1769\u001b[0m \u001b[0;34m\u001b[0m\u001b[0m\n\u001b[0;32m-> 1770\u001b[0;31m         \u001b[0;32mreturn\u001b[0m \u001b[0mcross\u001b[0m\u001b[0;34m.\u001b[0m\u001b[0mdispatch\u001b[0m\u001b[0;34m(\u001b[0m\u001b[0mself\u001b[0m\u001b[0;34m,\u001b[0m \u001b[0mother\u001b[0m\u001b[0;34m)\u001b[0m\u001b[0;34m\u001b[0m\u001b[0;34m\u001b[0m\u001b[0m\n\u001b[0m\u001b[1;32m   1771\u001b[0m \u001b[0;34m\u001b[0m\u001b[0m\n\u001b[1;32m   1772\u001b[0m     \u001b[0;32mdef\u001b[0m \u001b[0mdeltaangle\u001b[0m\u001b[0;34m(\u001b[0m\u001b[0mself\u001b[0m\u001b[0;34m,\u001b[0m \u001b[0mother\u001b[0m\u001b[0;34m:\u001b[0m \u001b[0mVectorProtocol\u001b[0m\u001b[0;34m)\u001b[0m \u001b[0;34m->\u001b[0m \u001b[0mScalarCollection\u001b[0m\u001b[0;34m:\u001b[0m\u001b[0;34m\u001b[0m\u001b[0;34m\u001b[0m\u001b[0m\n",
      "\u001b[0;32m/usr/local/lib/python3.8/dist-packages/vector/_compute/spatial/cross.py\u001b[0m in \u001b[0;36mdispatch\u001b[0;34m(v1, v2)\u001b[0m\n\u001b[1;32m    128\u001b[0m         \u001b[0mdispatch_map\u001b[0m\u001b[0;34m,\u001b[0m\u001b[0;34m\u001b[0m\u001b[0;34m\u001b[0m\u001b[0m\n\u001b[1;32m    129\u001b[0m         (\n\u001b[0;32m--> 130\u001b[0;31m             \u001b[0m_aztype\u001b[0m\u001b[0;34m(\u001b[0m\u001b[0mv1\u001b[0m\u001b[0;34m)\u001b[0m\u001b[0;34m,\u001b[0m\u001b[0;34m\u001b[0m\u001b[0;34m\u001b[0m\u001b[0m\n\u001b[0m\u001b[1;32m    131\u001b[0m             \u001b[0m_ltype\u001b[0m\u001b[0;34m(\u001b[0m\u001b[0mv1\u001b[0m\u001b[0;34m)\u001b[0m\u001b[0;34m,\u001b[0m\u001b[0;34m\u001b[0m\u001b[0;34m\u001b[0m\u001b[0m\n\u001b[1;32m    132\u001b[0m             \u001b[0m_aztype\u001b[0m\u001b[0;34m(\u001b[0m\u001b[0mv2\u001b[0m\u001b[0;34m)\u001b[0m\u001b[0;34m,\u001b[0m\u001b[0;34m\u001b[0m\u001b[0;34m\u001b[0m\u001b[0m\n",
      "\u001b[0;32m/usr/local/lib/python3.8/dist-packages/vector/_methods.py\u001b[0m in \u001b[0;36m_aztype\u001b[0;34m(obj)\u001b[0m\n\u001b[1;32m   2356\u001b[0m     \u001b[0mdispatched\u001b[0m \u001b[0mfunction\u001b[0m\u001b[0;34m.\u001b[0m\u001b[0;34m\u001b[0m\u001b[0;34m\u001b[0m\u001b[0m\n\u001b[1;32m   2357\u001b[0m     \"\"\"\n\u001b[0;32m-> 2358\u001b[0;31m     \u001b[0;32mif\u001b[0m \u001b[0mhasattr\u001b[0m\u001b[0;34m(\u001b[0m\u001b[0mobj\u001b[0m\u001b[0;34m,\u001b[0m \u001b[0;34m\"azimuthal\"\u001b[0m\u001b[0;34m)\u001b[0m\u001b[0;34m:\u001b[0m\u001b[0;34m\u001b[0m\u001b[0;34m\u001b[0m\u001b[0m\n\u001b[0m\u001b[1;32m   2359\u001b[0m         \u001b[0;32mfor\u001b[0m \u001b[0mt\u001b[0m \u001b[0;32min\u001b[0m \u001b[0mtype\u001b[0m\u001b[0;34m(\u001b[0m\u001b[0mobj\u001b[0m\u001b[0;34m.\u001b[0m\u001b[0mazimuthal\u001b[0m\u001b[0;34m)\u001b[0m\u001b[0;34m.\u001b[0m\u001b[0m__mro__\u001b[0m\u001b[0;34m:\u001b[0m\u001b[0;34m\u001b[0m\u001b[0;34m\u001b[0m\u001b[0m\n\u001b[1;32m   2360\u001b[0m             \u001b[0;32mif\u001b[0m \u001b[0mt\u001b[0m \u001b[0;32min\u001b[0m \u001b[0;34m(\u001b[0m\u001b[0mAzimuthalXY\u001b[0m\u001b[0;34m,\u001b[0m \u001b[0mAzimuthalRhoPhi\u001b[0m\u001b[0;34m)\u001b[0m\u001b[0;34m:\u001b[0m\u001b[0;34m\u001b[0m\u001b[0;34m\u001b[0m\u001b[0m\n",
      "\u001b[0;32m/usr/local/lib/python3.8/dist-packages/vector/_backends/awkward_.py\u001b[0m in \u001b[0;36mazimuthal\u001b[0;34m(self)\u001b[0m\n\u001b[1;32m    565\u001b[0m     \u001b[0;34m@\u001b[0m\u001b[0mproperty\u001b[0m\u001b[0;34m\u001b[0m\u001b[0;34m\u001b[0m\u001b[0m\n\u001b[1;32m    566\u001b[0m     \u001b[0;32mdef\u001b[0m \u001b[0mazimuthal\u001b[0m\u001b[0;34m(\u001b[0m\u001b[0mself\u001b[0m\u001b[0;34m)\u001b[0m \u001b[0;34m->\u001b[0m \u001b[0mAzimuthalAwkward\u001b[0m\u001b[0;34m:\u001b[0m\u001b[0;34m\u001b[0m\u001b[0;34m\u001b[0m\u001b[0m\n\u001b[0;32m--> 567\u001b[0;31m         \u001b[0;32mreturn\u001b[0m \u001b[0mAzimuthalAwkward\u001b[0m\u001b[0;34m.\u001b[0m\u001b[0mfrom_fields\u001b[0m\u001b[0;34m(\u001b[0m\u001b[0mself\u001b[0m\u001b[0;34m)\u001b[0m\u001b[0;34m\u001b[0m\u001b[0;34m\u001b[0m\u001b[0m\n\u001b[0m\u001b[1;32m    568\u001b[0m \u001b[0;34m\u001b[0m\u001b[0m\n\u001b[1;32m    569\u001b[0m     \u001b[0;34m@\u001b[0m\u001b[0mproperty\u001b[0m\u001b[0;34m\u001b[0m\u001b[0;34m\u001b[0m\u001b[0m\n",
      "\u001b[0;32m/usr/local/lib/python3.8/dist-packages/vector/_backends/awkward_.py\u001b[0m in \u001b[0;36mfrom_fields\u001b[0;34m(cls, array)\u001b[0m\n\u001b[1;32m    101\u001b[0m             \u001b[0;32mreturn\u001b[0m \u001b[0mAzimuthalAwkwardRhoPhi\u001b[0m\u001b[0;34m(\u001b[0m\u001b[0marray\u001b[0m\u001b[0;34m[\u001b[0m\u001b[0;34m\"rho\"\u001b[0m\u001b[0;34m]\u001b[0m\u001b[0;34m,\u001b[0m \u001b[0marray\u001b[0m\u001b[0;34m[\u001b[0m\u001b[0;34m\"phi\"\u001b[0m\u001b[0;34m]\u001b[0m\u001b[0;34m)\u001b[0m\u001b[0;34m\u001b[0m\u001b[0;34m\u001b[0m\u001b[0m\n\u001b[1;32m    102\u001b[0m         \u001b[0;32melse\u001b[0m\u001b[0;34m:\u001b[0m\u001b[0;34m\u001b[0m\u001b[0;34m\u001b[0m\u001b[0m\n\u001b[0;32m--> 103\u001b[0;31m             raise ValueError(\n\u001b[0m\u001b[1;32m    104\u001b[0m                 \u001b[0;34mf\"array does not have azimuthal coordinates (x/y/rho/phi): {', '.join(fields)}\"\u001b[0m\u001b[0;34m\u001b[0m\u001b[0;34m\u001b[0m\u001b[0m\n\u001b[1;32m    105\u001b[0m             )\n",
      "\u001b[0;31mValueError\u001b[0m: array does not have azimuthal coordinates (x/y/rho/phi): pt, eta, phi, mass"
     ]
    }
   ],
   "source": [
    "vec4d[1, 0].cross(vec4d[1, 1])"
   ]
  },
  {
   "cell_type": "code",
   "execution_count": 92,
   "id": "2bbd26a3-5fef-409c-b4b0-680d2fd24759",
   "metadata": {},
   "outputs": [
    {
     "data": {
      "text/plain": [
       "<MomentumArray4D [[{pt: 861, ... mass: -1.87e-08}]] type='10 * var * Momentum4D[...'>"
      ]
     },
     "execution_count": 92,
     "metadata": {},
     "output_type": "execute_result"
    }
   ],
   "source": [
    "vec4d"
   ]
  },
  {
   "cell_type": "code",
   "execution_count": null,
   "id": "c3d367bc-5a0f-4e6b-a349-df3f2334c398",
   "metadata": {},
   "outputs": [],
   "source": []
  }
 ],
 "metadata": {
  "kernelspec": {
   "display_name": "Python 3 (ipykernel)",
   "language": "python",
   "name": "python3"
  },
  "language_info": {
   "codemirror_mode": {
    "name": "ipython",
    "version": 3
   },
   "file_extension": ".py",
   "mimetype": "text/x-python",
   "name": "python",
   "nbconvert_exporter": "python",
   "pygments_lexer": "ipython3",
   "version": "3.8.10"
  }
 },
 "nbformat": 4,
 "nbformat_minor": 5
}
