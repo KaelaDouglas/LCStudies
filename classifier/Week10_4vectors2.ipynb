{
 "cells": [
  {
   "cell_type": "markdown",
   "id": "00362489-cb57-49c8-a27c-5039fe2e8c80",
   "metadata": {},
   "source": [
    "Clean version of implementing awkward/uproot/vector to make nice 4-vectors out of our data, now with updated versions so the methods I worked out yesterday should work! wahoo!\n"
   ]
  },
  {
   "cell_type": "code",
   "execution_count": 1,
   "id": "43d31bbd-5087-4bfc-9d33-1073b35d3d7e",
   "metadata": {},
   "outputs": [],
   "source": [
    "#imports\n",
    "import uproot as ur\n",
    "import numpy as np\n",
    "import awkward as ak\n",
    "import matplotlib.pyplot as plt\n",
    "import vector as v\n",
    "\n",
    "data_path = '/fast_scratch/atlas_images/v01-45/'"
   ]
  },
  {
   "cell_type": "code",
   "execution_count": 2,
   "id": "e4bd8716-d58e-49ed-b0a1-5ae05c0f2385",
   "metadata": {},
   "outputs": [],
   "source": [
    "v.register_awkward()"
   ]
  },
  {
   "cell_type": "code",
   "execution_count": 3,
   "id": "456e6e8f-bf72-4a9e-aea0-114039a92a02",
   "metadata": {},
   "outputs": [],
   "source": [
    "branches = ['cluster_hitsTruthIndex', 'cluster_hitsTruthE', 'truthPartPdgId', 'truthPartPt','truthPartEta', \n",
    "            'truthPartPhi', 'truthPartMass']"
   ]
  },
  {
   "cell_type": "code",
   "execution_count": 4,
   "id": "95063cb7-8665-4bbf-83d7-c580b14b5b66",
   "metadata": {},
   "outputs": [],
   "source": [
    "events = ur.open(data_path+'delta_medium.root')"
   ]
  },
  {
   "cell_type": "code",
   "execution_count": 5,
   "id": "1f2a525f-e178-4443-a0f0-028eee3c95dd",
   "metadata": {},
   "outputs": [],
   "source": [
    "tree = events['EventTree']"
   ]
  },
  {
   "cell_type": "code",
   "execution_count": 6,
   "id": "f3fbcf72-c63b-494b-a229-7f9664ea9892",
   "metadata": {},
   "outputs": [],
   "source": [
    "the_branches = tree.arrays(expressions=branches)"
   ]
  },
  {
   "cell_type": "code",
   "execution_count": 7,
   "id": "854ada5b-b86e-4b0b-bd9c-e63bda8e8516",
   "metadata": {},
   "outputs": [],
   "source": [
    "nanoaod_style = tree.arrays(filter_name=\"truth*\")"
   ]
  },
  {
   "cell_type": "code",
   "execution_count": 8,
   "id": "21e85ea1-7b54-476b-9282-b74ed1da2e8b",
   "metadata": {},
   "outputs": [
    {
     "data": {
      "text/plain": [
       "<Array [[{pt: 7.43, eta: -0.526, ... ID: 211}]] type='200000 * var * {\"pt\": floa...'>"
      ]
     },
     "execution_count": 8,
     "metadata": {},
     "output_type": "execute_result"
    }
   ],
   "source": [
    "nanoevents_style = ak.zip({\n",
    "    \"pt\": nanoaod_style.truthPartPt,\n",
    "    \"eta\": nanoaod_style.truthPartEta,\n",
    "    \"phi\": nanoaod_style.truthPartPhi,\n",
    "    \"mass\": nanoaod_style.truthPartMass,\n",
    "    \"ID\": nanoaod_style.truthPartPdgId,\n",
    "})\n",
    "nanoevents_style"
   ]
  },
  {
   "cell_type": "code",
   "execution_count": 9,
   "id": "3382ba94-5620-4877-a382-b7e74f8ec816",
   "metadata": {},
   "outputs": [],
   "source": [
    "vec4d = ak.with_name(nanoevents_style, \"Momentum4D\")"
   ]
  },
  {
   "cell_type": "code",
   "execution_count": 10,
   "id": "11c2b02e-a7cd-427a-beb6-8c9ad6440bf0",
   "metadata": {},
   "outputs": [],
   "source": [
    "#vec4d_method2 = ak.Array(nanoevents_style, with_name='Momentum4D')"
   ]
  },
  {
   "cell_type": "code",
   "execution_count": 12,
   "id": "7430ee22-7e9b-45f0-a72c-d05a2a920f82",
   "metadata": {},
   "outputs": [
    {
     "data": {
      "text/plain": [
       "['pt', 'eta', 'phi', 'mass', 'ID']"
      ]
     },
     "execution_count": 12,
     "metadata": {},
     "output_type": "execute_result"
    }
   ],
   "source": [
    "vec4d.fields"
   ]
  },
  {
   "cell_type": "code",
   "execution_count": 13,
   "id": "3c92c41a-3a15-4b48-9287-38f2085c5172",
   "metadata": {},
   "outputs": [
    {
     "data": {
      "text/plain": [
       "<Array [[7.43, 4.49, 2.98, ... 1.88, 0.694]] type='200000 * var * float32'>"
      ]
     },
     "execution_count": 13,
     "metadata": {},
     "output_type": "execute_result"
    }
   ],
   "source": [
    "vec4d.pt #YAYYYY IT WORKS!!!"
   ]
  },
  {
   "cell_type": "code",
   "execution_count": 14,
   "id": "f5c9889b-202d-4356-b456-0a77d1fe794e",
   "metadata": {},
   "outputs": [
    {
     "data": {
      "text/plain": [
       "<MomentumRecord3D {x: 425, y: 114, z: -44.1} type='Momentum3D[\"x\": float64, \"y\":...'>"
      ]
     },
     "execution_count": 14,
     "metadata": {},
     "output_type": "execute_result"
    }
   ],
   "source": [
    "vec4d[1, 0].cross(vec4d[1, 1]) #super cool!"
   ]
  },
  {
   "cell_type": "code",
   "execution_count": 15,
   "id": "2cced610-cf8c-41d6-a658-505e9ede79c0",
   "metadata": {},
   "outputs": [
    {
     "name": "stdout",
     "output_type": "stream",
     "text": [
      "[[2114, 2112, 111, 22, 22], [-2224, -2212, ... 2112, 111, 22, 22], [2224, 2212, 211]]\n"
     ]
    }
   ],
   "source": [
    "#now this is delta data: vec4d\n",
    "#2114 = delta 0\n",
    "#2112 = neutron\n",
    "#111 = pi 0\n",
    "#22 = photon(?) gamma?\n",
    "#-2224 = ?? \n",
    "print(vec4d.ID)"
   ]
  },
  {
   "cell_type": "code",
   "execution_count": 16,
   "id": "3e867ff2-8701-4b9d-9d95-18140a92699d",
   "metadata": {},
   "outputs": [
    {
     "data": {
      "text/plain": [
       "<bound method Spatial.deltaR of <MomentumArray4D [[{pt: 7.43, eta: -0.526, ... ID: 211}]] type='200000 * var * M...'>>"
      ]
     },
     "execution_count": 16,
     "metadata": {},
     "output_type": "execute_result"
    }
   ],
   "source": [
    "vec4d.deltaR #whoa so this is just built in, sweet!!****** once I get one vec4d of pi0 and one of protons, just do\n",
    "#vec4d_pi0.deltaR(vec4d_prot) #and this should work I think!!??"
   ]
  },
  {
   "cell_type": "code",
   "execution_count": null,
   "id": "d9540209-3d0a-4854-910f-1e0caed3d622",
   "metadata": {},
   "outputs": [],
   "source": []
  },
  {
   "cell_type": "code",
   "execution_count": 17,
   "id": "018642ce-6225-4bf6-8cfc-e68b774d1df8",
   "metadata": {},
   "outputs": [
    {
     "data": {
      "text/plain": [
       "['cluster_hitsTruthIndex',\n",
       " 'cluster_hitsTruthE',\n",
       " 'truthPartPdgId',\n",
       " 'truthPartPt',\n",
       " 'truthPartEta',\n",
       " 'truthPartPhi',\n",
       " 'truthPartMass']"
      ]
     },
     "execution_count": 17,
     "metadata": {},
     "output_type": "execute_result"
    }
   ],
   "source": [
    "the_branches.fields"
   ]
  },
  {
   "cell_type": "code",
   "execution_count": 18,
   "id": "9263f7a6-ddf7-426e-94fc-bf50f085c0db",
   "metadata": {},
   "outputs": [],
   "source": [
    "truthE = the_branches.cluster_hitsTruthE\n",
    "truthEIndex = the_branches.cluster_hitsTruthIndex\n",
    "truthID = the_branches.truthPartPdgId"
   ]
  },
  {
   "cell_type": "code",
   "execution_count": 19,
   "id": "c29a799c-839b-4e57-bd15-acccf202005e",
   "metadata": {},
   "outputs": [
    {
     "data": {
      "text/plain": [
       "<Array [[[1.8, 0.000907], ... [[0.905]]] type='200000 * var * var * float64'>"
      ]
     },
     "execution_count": 19,
     "metadata": {},
     "output_type": "execute_result"
    }
   ],
   "source": [
    "truthE"
   ]
  },
  {
   "cell_type": "code",
   "execution_count": 20,
   "id": "34d84cf8-9ca9-433a-9c95-fa40a049cf85",
   "metadata": {},
   "outputs": [
    {
     "data": {
      "text/plain": [
       "<Array [[[4, 3], [1], [3, ... [1]], [[1]]] type='200000 * var * var * int64'>"
      ]
     },
     "execution_count": 20,
     "metadata": {},
     "output_type": "execute_result"
    }
   ],
   "source": [
    "truthEIndex #should just be called truth inde, not E !!***"
   ]
  },
  {
   "cell_type": "code",
   "execution_count": 21,
   "id": "0fb0eaea-890b-41be-88f7-4abaae8699b5",
   "metadata": {},
   "outputs": [
    {
     "data": {
      "text/plain": [
       "<Array [[2114, 2112, 111, ... 2224, 2212, 211]] type='200000 * var * int32'>"
      ]
     },
     "execution_count": 21,
     "metadata": {},
     "output_type": "execute_result"
    }
   ],
   "source": [
    "truthID"
   ]
  },
  {
   "cell_type": "code",
   "execution_count": 22,
   "id": "993a0b95-03c3-4e4f-a68d-bb722880fa49",
   "metadata": {},
   "outputs": [
    {
     "name": "stdout",
     "output_type": "stream",
     "text": [
      "[[1.8, 0.000907], [0.795], [0.57, 0.000973, 7.67e-05], [0.15]] [[4, 3], [1], [3, 4, 1], [1]] [2114, 2112, 111, 22, 22]\n"
     ]
    }
   ],
   "source": [
    "print(truthE[0], truthEIndex[0], truthID[0]) #I'm not totally sure I see how these line up either? \n",
    "#what are the 4 different sublists in the first two? is each entry one cluster? why are there 5 items in the ID?? "
   ]
  },
  {
   "cell_type": "code",
   "execution_count": 23,
   "id": "495917dd-a673-4526-9009-2e3214bf6a03",
   "metadata": {},
   "outputs": [],
   "source": [
    "IDlist = np.array(ak.flatten(truthID)) #this is the flat IDs"
   ]
  },
  {
   "cell_type": "code",
   "execution_count": 24,
   "id": "95f236fd-7306-4d1c-9ab7-191a13e6b01d",
   "metadata": {},
   "outputs": [
    {
     "data": {
      "text/plain": [
       "(array([175000.,      0.,  25000.,      0.,  67524., 284350.,      0.,\n",
       "         25000.,      0., 175000.]),\n",
       " array([-2224. , -1779.2, -1334.4,  -889.6,  -444.8,     0. ,   444.8,\n",
       "          889.6,  1334.4,  1779.2,  2224. ]),\n",
       " <BarContainer object of 10 artists>)"
      ]
     },
     "execution_count": 24,
     "metadata": {},
     "output_type": "execute_result"
    },
    {
     "data": {
      "image/png": "[encoded data removed]",
      "text/plain": [
       "<Figure size 432x288 with 1 Axes>"
      ]
     },
     "metadata": {
      "needs_background": "light"
     },
     "output_type": "display_data"
    }
   ],
   "source": [
    "plt.hist(ak.flatten(truthID))"
   ]
  },
  {
   "cell_type": "code",
   "execution_count": 25,
   "id": "293db910-c744-4827-9779-71a2f246d15c",
   "metadata": {},
   "outputs": [],
   "source": [
    "IDset = set(IDlist) #sweet, very handy, here are all the options:)"
   ]
  },
  {
   "cell_type": "code",
   "execution_count": 26,
   "id": "1c8f0f50-2e45-4edc-b901-15882bbb03ff",
   "metadata": {},
   "outputs": [
    {
     "data": {
      "text/plain": [
       "'2112'"
      ]
     },
     "execution_count": 26,
     "metadata": {},
     "output_type": "execute_result"
    }
   ],
   "source": [
    "str(list(IDset)[0])"
   ]
  },
  {
   "cell_type": "code",
   "execution_count": 27,
   "id": "6fa91511-4c80-48c2-9ff5-6a10182df9b8",
   "metadata": {},
   "outputs": [],
   "source": [
    "ID_aspd = ak.to_pandas(ak.flatten(truthID))"
   ]
  },
  {
   "cell_type": "code",
   "execution_count": 28,
   "id": "bc2c399a-830f-4286-8a43-e406b44423c1",
   "metadata": {},
   "outputs": [],
   "source": [
    "IDdict = {'-2224':'anti-$\\Delta^{++}$', '-2214':'anti-$\\Delta^+$', '-2212':'antiproton', '-2114':'anti-$\\Delta^0$',\n",
    "          '-2112':'antineutron', '-1114':'anti-$\\Delta^-$', '-211':'$\\pi^-$ (?)', '-11':'positron', '11':'elecron',\n",
    "          '22':'$\\gamma$', '111':'$\\pi^0$','211':'$pi^+$', '1114':'$\\Delta^-$', '2112':'neutron', \n",
    "          '2114':'$\\Delta^0$', '2212':'proton', '2214':'$\\Delta^+$', '2224':'$\\Delta^{++}$'}\n",
    "#sooo my initial labelling is actually correct; the -ID deltas are antiparticles, not just opposite sign!"
   ]
  },
  {
   "cell_type": "code",
   "execution_count": 29,
   "id": "b5485b29-9b46-4531-b7dc-89bb021fd87a",
   "metadata": {},
   "outputs": [
    {
     "data": {
      "text/html": [
       "<div>\n",
       "<style scoped>\n",
       "    .dataframe tbody tr th:only-of-type {\n",
       "        vertical-align: middle;\n",
       "    }\n",
       "\n",
       "    .dataframe tbody tr th {\n",
       "        vertical-align: top;\n",
       "    }\n",
       "\n",
       "    .dataframe thead th {\n",
       "        text-align: right;\n",
       "    }\n",
       "</style>\n",
       "<table border=\"1\" class=\"dataframe\">\n",
       "  <thead>\n",
       "    <tr style=\"text-align: right;\">\n",
       "      <th></th>\n",
       "      <th>values</th>\n",
       "    </tr>\n",
       "    <tr>\n",
       "      <th>entry</th>\n",
       "      <th></th>\n",
       "    </tr>\n",
       "  </thead>\n",
       "  <tbody>\n",
       "    <tr>\n",
       "      <th>0</th>\n",
       "      <td>2114</td>\n",
       "    </tr>\n",
       "    <tr>\n",
       "      <th>1</th>\n",
       "      <td>2112</td>\n",
       "    </tr>\n",
       "    <tr>\n",
       "      <th>2</th>\n",
       "      <td>111</td>\n",
       "    </tr>\n",
       "    <tr>\n",
       "      <th>3</th>\n",
       "      <td>22</td>\n",
       "    </tr>\n",
       "    <tr>\n",
       "      <th>4</th>\n",
       "      <td>22</td>\n",
       "    </tr>\n",
       "    <tr>\n",
       "      <th>...</th>\n",
       "      <td>...</td>\n",
       "    </tr>\n",
       "    <tr>\n",
       "      <th>751869</th>\n",
       "      <td>22</td>\n",
       "    </tr>\n",
       "    <tr>\n",
       "      <th>751870</th>\n",
       "      <td>22</td>\n",
       "    </tr>\n",
       "    <tr>\n",
       "      <th>751871</th>\n",
       "      <td>2224</td>\n",
       "    </tr>\n",
       "    <tr>\n",
       "      <th>751872</th>\n",
       "      <td>2212</td>\n",
       "    </tr>\n",
       "    <tr>\n",
       "      <th>751873</th>\n",
       "      <td>211</td>\n",
       "    </tr>\n",
       "  </tbody>\n",
       "</table>\n",
       "<p>751874 rows × 1 columns</p>\n",
       "</div>"
      ],
      "text/plain": [
       "        values\n",
       "entry         \n",
       "0         2114\n",
       "1         2112\n",
       "2          111\n",
       "3           22\n",
       "4           22\n",
       "...        ...\n",
       "751869      22\n",
       "751870      22\n",
       "751871    2224\n",
       "751872    2212\n",
       "751873     211\n",
       "\n",
       "[751874 rows x 1 columns]"
      ]
     },
     "execution_count": 29,
     "metadata": {},
     "output_type": "execute_result"
    }
   ],
   "source": [
    "ID_aspd"
   ]
  },
  {
   "cell_type": "code",
   "execution_count": 30,
   "id": "9fb626d7-13e1-4e20-8e3f-f146cef6d8d8",
   "metadata": {},
   "outputs": [
    {
     "data": {
      "text/plain": [
       "Text(12, 40000, '-2224 = anti-$\\\\Delta^{++}$\\n -2214 = anti-$\\\\Delta^+$\\n -2212 = antiproton\\n -2114 = anti-$\\\\Delta^0$\\n -2112 = antineutron\\n -1114 = anti-$\\\\Delta^-$\\n -211 = $\\\\pi^-$\\n -11 = positron\\n 11 = elecron\\n 22 = $\\\\gamma$\\n 111 = $\\\\pi^0$\\n 211 = $\\\\pi^+$\\n 1114 = $\\\\Delta^-$\\n 2112 = neutron\\n 2114 = $\\\\Delta^0$\\n 2212 = proton\\n 2214 = $\\\\Delta^+$\\n 2224 = $\\\\Delta^{++}$')"
      ]
     },
     "execution_count": 30,
     "metadata": {},
     "output_type": "execute_result"
    },
    {
     "data": {
      "image/png": "[encoded data removed]",
      "text/plain": [
       "<Figure size 504x504 with 1 Axes>"
      ]
     },
     "metadata": {
      "needs_background": "light"
     },
     "output_type": "display_data"
    }
   ],
   "source": [
    "plt.figure(figsize=[7,7])\n",
    "ID_aspd.value_counts().plot(kind='bar', color='xkcd:light gold')\n",
    "plt.text(12,40000, '-2224 = anti-$\\Delta^{++}$\\n -2214 = anti-$\\Delta^+$\\n -2212 = antiproton\\n -2114 = anti-$\\Delta^0$\\n -2112 = antineutron\\n -1114 = anti-$\\Delta^-$\\n -211 = $\\pi^-$\\n -11 = positron\\n 11 = elecron\\n 22 = $\\gamma$\\n 111 = $\\pi^0$\\n 211 = $\\pi^+$\\n 1114 = $\\Delta^-$\\n 2112 = neutron\\n 2114 = $\\Delta^0$\\n 2212 = proton\\n 2214 = $\\Delta^+$\\n 2224 = $\\Delta^{++}$')"
   ]
  },
  {
   "cell_type": "code",
   "execution_count": 74,
   "id": "fbf01430-e021-4d12-8497-8511ef6a1c6d",
   "metadata": {},
   "outputs": [
    {
     "data": {
      "text/plain": [
       "<MomentumArray4D [[{pt: 7.43, eta: -0.526, ... ID: 211}]] type='200000 * var * M...'>"
      ]
     },
     "execution_count": 74,
     "metadata": {},
     "output_type": "execute_result"
    }
   ],
   "source": [
    "vec4d"
   ]
  },
  {
   "cell_type": "code",
   "execution_count": null,
   "id": "68af61cd-450e-41b8-83b0-09b8f2d7d2e1",
   "metadata": {},
   "outputs": [],
   "source": []
  }
 ],
 "metadata": {
  "kernelspec": {
   "display_name": "Python 3 (ipykernel)",
   "language": "python",
   "name": "python3"
  },
  "language_info": {
   "codemirror_mode": {
    "name": "ipython",
    "version": 3
   },
   "file_extension": ".py",
   "mimetype": "text/x-python",
   "name": "python",
   "nbconvert_exporter": "python",
   "pygments_lexer": "ipython3",
   "version": "3.8.10"
  }
 },
 "nbformat": 4,
 "nbformat_minor": 5
}
