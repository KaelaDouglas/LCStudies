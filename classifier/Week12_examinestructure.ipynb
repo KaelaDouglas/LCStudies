{
 "cells": [
  {
   "cell_type": "markdown",
   "id": "8e36fbb9-9a5c-4a34-a288-7253ac718e03",
   "metadata": {},
   "source": [
    "I'm sill having a hard time understanding the structure of these datasets and how events translate to clusters, so let's examine all that a bit more"
   ]
  },
  {
   "cell_type": "code",
   "execution_count": 1,
   "id": "dccdcf7b-4b69-4374-93e8-71ef45c42a04",
   "metadata": {},
   "outputs": [],
   "source": [
    "#imports\n",
    "import uproot as ur\n",
    "import numpy as np\n",
    "import awkward as ak\n",
    "import matplotlib.pyplot as plt\n",
    "import vector as v\n",
    "\n",
    "data_path = '/fast_scratch/atlas_images/v01-45/'\n",
    "\n",
    "import atlas_mpl_style as ampl #makes matplotlib follow atlas formal style\n",
    "ampl.use_atlas_style()\n",
    "\n",
    "v.register_awkward()"
   ]
  },
  {
   "cell_type": "code",
   "execution_count": 2,
   "id": "bc5bcd9a-761b-471f-992c-eea0cc2d856b",
   "metadata": {},
   "outputs": [],
   "source": [
    "events = ur.open(data_path+'delta_medium.root')\n",
    "\n",
    "tree = events['EventTree']"
   ]
  },
  {
   "cell_type": "code",
   "execution_count": 3,
   "id": "7af9b8aa-df2c-4d12-a6f8-f2a86502d820",
   "metadata": {},
   "outputs": [],
   "source": [
    "branches = tree.arrays()"
   ]
  },
  {
   "cell_type": "code",
   "execution_count": 4,
   "id": "3a1c8415-c678-4d1c-ad68-c525d985e2fa",
   "metadata": {},
   "outputs": [
    {
     "name": "stdout",
     "output_type": "stream",
     "text": [
      "name                 | typename                 | interpretation                \n",
      "---------------------+--------------------------+-------------------------------\n",
      "runNumber            | int32_t                  | AsDtype('>i4')\n",
      "eventNumber          | int64_t                  | AsDtype('>i8')\n",
      "lumiBlock            | int32_t                  | AsDtype('>i4')\n",
      "coreFlags            | uint32_t                 | AsDtype('>u4')\n",
      "mcEventNumber        | int32_t                  | AsDtype('>i4')\n",
      "mcChannelNumber      | int32_t                  | AsDtype('>i4')\n",
      "mcEventWeight        | float                    | AsDtype('>f4')\n",
      "nTruthPart           | int32_t                  | AsDtype('>i4')\n",
      "G4PreCalo_n_EM       | int32_t                  | AsDtype('>i4')\n",
      "G4PreCalo_E_EM       | float                    | AsDtype('>f4')\n",
      "G4PreCalo_n_Had      | int32_t                  | AsDtype('>i4')\n",
      "G4PreCalo_E_Had      | float                    | AsDtype('>f4')\n",
      "truthVertexX         | float                    | AsDtype('>f4')\n",
      "truthVertexY         | float                    | AsDtype('>f4')\n",
      "truthVertexZ         | float                    | AsDtype('>f4')\n",
      "truthPartPdgId       | std::vector<int32_t>     | AsJagged(AsDtype('>i4'), he...\n",
      "truthPartStatus      | std::vector<int32_t>     | AsJagged(AsDtype('>i4'), he...\n",
      "truthPartBarcode     | std::vector<int32_t>     | AsJagged(AsDtype('>i4'), he...\n",
      "truthPartPt          | std::vector<float>       | AsJagged(AsDtype('>f4'), he...\n",
      "truthPartE           | std::vector<float>       | AsJagged(AsDtype('>f4'), he...\n",
      "truthPartMass        | std::vector<float>       | AsJagged(AsDtype('>f4'), he...\n",
      "truthPartEta         | std::vector<float>       | AsJagged(AsDtype('>f4'), he...\n",
      "truthPartPhi         | std::vector<float>       | AsJagged(AsDtype('>f4'), he...\n",
      "nTrack               | int32_t                  | AsDtype('>i4')\n",
      "trackPt              | std::vector<float>       | AsJagged(AsDtype('>f4'), he...\n",
      "trackP               | std::vector<float>       | AsJagged(AsDtype('>f4'), he...\n",
      "trackMass            | std::vector<float>       | AsJagged(AsDtype('>f4'), he...\n",
      "trackEta             | std::vector<float>       | AsJagged(AsDtype('>f4'), he...\n",
      "trackPhi             | std::vector<float>       | AsJagged(AsDtype('>f4'), he...\n",
      "trackNumberOfPixe... | std::vector<int32_t>     | AsJagged(AsDtype('>i4'), he...\n",
      "trackNumberOfSCTHits | std::vector<int32_t>     | AsJagged(AsDtype('>i4'), he...\n",
      "trackNumberOfPixe... | std::vector<int32_t>     | AsJagged(AsDtype('>i4'), he...\n",
      "trackNumberOfSCTD... | std::vector<int32_t>     | AsJagged(AsDtype('>i4'), he...\n",
      "trackNumberOfPixe... | std::vector<int32_t>     | AsJagged(AsDtype('>i4'), he...\n",
      "trackNumberOfSCTS... | std::vector<int32_t>     | AsJagged(AsDtype('>i4'), he...\n",
      "trackNumberOfPixe... | std::vector<int32_t>     | AsJagged(AsDtype('>i4'), he...\n",
      "trackNumberOfSCTH... | std::vector<int32_t>     | AsJagged(AsDtype('>i4'), he...\n",
      "trackNumberOfInne... | std::vector<int32_t>     | AsJagged(AsDtype('>i4'), he...\n",
      "trackNumberOfNext... | std::vector<int32_t>     | AsJagged(AsDtype('>i4'), he...\n",
      "trackExpectInnerm... | std::vector<int32_t>     | AsJagged(AsDtype('>i4'), he...\n",
      "trackExpectNextTo... | std::vector<int32_t>     | AsJagged(AsDtype('>i4'), he...\n",
      "trackNumberOfTRTHits | std::vector<int32_t>     | AsJagged(AsDtype('>i4'), he...\n",
      "trackNumberOfTRTO... | std::vector<int32_t>     | AsJagged(AsDtype('>i4'), he...\n",
      "trackChiSquared      | std::vector<float>       | AsJagged(AsDtype('>f4'), he...\n",
      "trackNumberDOF       | std::vector<int32_t>     | AsJagged(AsDtype('>i4'), he...\n",
      "trackD0              | std::vector<float>       | AsJagged(AsDtype('>f4'), he...\n",
      "trackZ0              | std::vector<float>       | AsJagged(AsDtype('>f4'), he...\n",
      "trackEta_PreSamplerB | std::vector<float>       | AsJagged(AsDtype('>f4'), he...\n",
      "trackPhi_PreSamplerB | std::vector<float>       | AsJagged(AsDtype('>f4'), he...\n",
      "trackEta_PreSamplerE | std::vector<float>       | AsJagged(AsDtype('>f4'), he...\n",
      "trackPhi_PreSamplerE | std::vector<float>       | AsJagged(AsDtype('>f4'), he...\n",
      "trackEta_EMB1        | std::vector<float>       | AsJagged(AsDtype('>f4'), he...\n",
      "trackPhi_EMB1        | std::vector<float>       | AsJagged(AsDtype('>f4'), he...\n",
      "trackEta_EMB2        | std::vector<float>       | AsJagged(AsDtype('>f4'), he...\n",
      "trackPhi_EMB2        | std::vector<float>       | AsJagged(AsDtype('>f4'), he...\n",
      "trackEta_EMB3        | std::vector<float>       | AsJagged(AsDtype('>f4'), he...\n",
      "trackPhi_EMB3        | std::vector<float>       | AsJagged(AsDtype('>f4'), he...\n",
      "trackEta_EME1        | std::vector<float>       | AsJagged(AsDtype('>f4'), he...\n",
      "trackPhi_EME1        | std::vector<float>       | AsJagged(AsDtype('>f4'), he...\n",
      "trackEta_EME2        | std::vector<float>       | AsJagged(AsDtype('>f4'), he...\n",
      "trackPhi_EME2        | std::vector<float>       | AsJagged(AsDtype('>f4'), he...\n",
      "trackEta_EME3        | std::vector<float>       | AsJagged(AsDtype('>f4'), he...\n",
      "trackPhi_EME3        | std::vector<float>       | AsJagged(AsDtype('>f4'), he...\n",
      "trackEta_HEC0        | std::vector<float>       | AsJagged(AsDtype('>f4'), he...\n",
      "trackPhi_HEC0        | std::vector<float>       | AsJagged(AsDtype('>f4'), he...\n",
      "trackEta_HEC1        | std::vector<float>       | AsJagged(AsDtype('>f4'), he...\n",
      "trackPhi_HEC1        | std::vector<float>       | AsJagged(AsDtype('>f4'), he...\n",
      "trackEta_HEC2        | std::vector<float>       | AsJagged(AsDtype('>f4'), he...\n",
      "trackPhi_HEC2        | std::vector<float>       | AsJagged(AsDtype('>f4'), he...\n",
      "trackEta_HEC3        | std::vector<float>       | AsJagged(AsDtype('>f4'), he...\n",
      "trackPhi_HEC3        | std::vector<float>       | AsJagged(AsDtype('>f4'), he...\n",
      "trackEta_TileBar0    | std::vector<float>       | AsJagged(AsDtype('>f4'), he...\n",
      "trackPhi_TileBar0    | std::vector<float>       | AsJagged(AsDtype('>f4'), he...\n",
      "trackEta_TileBar1    | std::vector<float>       | AsJagged(AsDtype('>f4'), he...\n",
      "trackPhi_TileBar1    | std::vector<float>       | AsJagged(AsDtype('>f4'), he...\n",
      "trackEta_TileBar2    | std::vector<float>       | AsJagged(AsDtype('>f4'), he...\n",
      "trackPhi_TileBar2    | std::vector<float>       | AsJagged(AsDtype('>f4'), he...\n",
      "trackEta_TileGap1    | std::vector<float>       | AsJagged(AsDtype('>f4'), he...\n",
      "trackPhi_TileGap1    | std::vector<float>       | AsJagged(AsDtype('>f4'), he...\n",
      "trackEta_TileGap2    | std::vector<float>       | AsJagged(AsDtype('>f4'), he...\n",
      "trackPhi_TileGap2    | std::vector<float>       | AsJagged(AsDtype('>f4'), he...\n",
      "trackEta_TileGap3    | std::vector<float>       | AsJagged(AsDtype('>f4'), he...\n",
      "trackPhi_TileGap3    | std::vector<float>       | AsJagged(AsDtype('>f4'), he...\n",
      "trackEta_TileExt0    | std::vector<float>       | AsJagged(AsDtype('>f4'), he...\n",
      "trackPhi_TileExt0    | std::vector<float>       | AsJagged(AsDtype('>f4'), he...\n",
      "trackEta_TileExt1    | std::vector<float>       | AsJagged(AsDtype('>f4'), he...\n",
      "trackPhi_TileExt1    | std::vector<float>       | AsJagged(AsDtype('>f4'), he...\n",
      "trackEta_TileExt2    | std::vector<float>       | AsJagged(AsDtype('>f4'), he...\n",
      "trackPhi_TileExt2    | std::vector<float>       | AsJagged(AsDtype('>f4'), he...\n",
      "AntiKt4EMTopoJetsPt  | std::vector<float>       | AsJagged(AsDtype('>f4'), he...\n",
      "AntiKt4EMTopoJetsEta | std::vector<float>       | AsJagged(AsDtype('>f4'), he...\n",
      "AntiKt4EMTopoJetsPhi | std::vector<float>       | AsJagged(AsDtype('>f4'), he...\n",
      "AntiKt4EMTopoJetsE   | std::vector<float>       | AsJagged(AsDtype('>f4'), he...\n",
      "AntiKt4LCTopoJetsPt  | std::vector<float>       | AsJagged(AsDtype('>f4'), he...\n",
      "AntiKt4LCTopoJetsEta | std::vector<float>       | AsJagged(AsDtype('>f4'), he...\n",
      "AntiKt4LCTopoJetsPhi | std::vector<float>       | AsJagged(AsDtype('>f4'), he...\n",
      "AntiKt4LCTopoJetsE   | std::vector<float>       | AsJagged(AsDtype('>f4'), he...\n",
      "AntiKt4TruthJetsPt   | std::vector<float>       | AsJagged(AsDtype('>f4'), he...\n",
      "AntiKt4TruthJetsEta  | std::vector<float>       | AsJagged(AsDtype('>f4'), he...\n",
      "AntiKt4TruthJetsPhi  | std::vector<float>       | AsJagged(AsDtype('>f4'), he...\n",
      "AntiKt4TruthJetsE    | std::vector<float>       | AsJagged(AsDtype('>f4'), he...\n",
      "AntiKt4TruthJetsF... | std::vector<int32_t>     | AsJagged(AsDtype('>i4'), he...\n",
      "nCluster             | int32_t                  | AsDtype('>i4')\n",
      "cluster_E            | std::vector<float>       | AsJagged(AsDtype('>f4'), he...\n",
      "cluster_E_LCCalib    | std::vector<float>       | AsJagged(AsDtype('>f4'), he...\n",
      "cluster_Pt           | std::vector<float>       | AsJagged(AsDtype('>f4'), he...\n",
      "cluster_Eta          | std::vector<float>       | AsJagged(AsDtype('>f4'), he...\n",
      "cluster_Phi          | std::vector<float>       | AsJagged(AsDtype('>f4'), he...\n",
      "cluster_nCells       | std::vector<int32_t>     | AsJagged(AsDtype('>i4'), he...\n",
      "cluster_ENG_CALIB... | std::vector<float>       | AsJagged(AsDtype('>f4'), he...\n",
      "cluster_ENG_CALIB... | std::vector<float>       | AsJagged(AsDtype('>f4'), he...\n",
      "cluster_ENG_CALIB... | std::vector<float>       | AsJagged(AsDtype('>f4'), he...\n",
      "cluster_EM_PROBAB... | std::vector<float>       | AsJagged(AsDtype('>f4'), he...\n",
      "cluster_HAD_WEIGHT   | std::vector<float>       | AsJagged(AsDtype('>f4'), he...\n",
      "cluster_OOC_WEIGHT   | std::vector<float>       | AsJagged(AsDtype('>f4'), he...\n",
      "cluster_DM_WEIGHT    | std::vector<float>       | AsJagged(AsDtype('>f4'), he...\n",
      "cluster_CENTER_MAG   | std::vector<float>       | AsJagged(AsDtype('>f4'), he...\n",
      "cluster_FIRST_ENG... | std::vector<float>       | AsJagged(AsDtype('>f4'), he...\n",
      "cluster_CENTER_LA... | std::vector<float>       | AsJagged(AsDtype('>f4'), he...\n",
      "cluster_ISOLATION    | std::vector<float>       | AsJagged(AsDtype('>f4'), he...\n",
      "cluster_ENERGY_Di... | std::vector<float>       | AsJagged(AsDtype('>f4'), he...\n",
      "cluster_cell_ID      | std::vector<std::vect... | AsObjects(AsVector(True, As...\n",
      "cluster_cell_E       | std::vector<std::vect... | AsObjects(AsVector(True, As...\n",
      "cluster_hitsTruth... | std::vector<std::vect... | AsObjects(AsVector(True, As...\n",
      "cluster_hitsTruthE   | std::vector<std::vect... | AsObjects(AsVector(True, As...\n"
     ]
    }
   ],
   "source": [
    "tree.show()"
   ]
  },
  {
   "cell_type": "code",
   "execution_count": 5,
   "id": "a0f06960-2377-4a01-ba6f-d295f0b899b7",
   "metadata": {},
   "outputs": [
    {
     "data": {
      "text/plain": [
       "['runNumber',\n",
       " 'eventNumber',\n",
       " 'lumiBlock',\n",
       " 'coreFlags',\n",
       " 'mcEventNumber',\n",
       " 'mcChannelNumber',\n",
       " 'mcEventWeight',\n",
       " 'nTruthPart',\n",
       " 'G4PreCalo_n_EM',\n",
       " 'G4PreCalo_E_EM',\n",
       " 'G4PreCalo_n_Had',\n",
       " 'G4PreCalo_E_Had',\n",
       " 'truthVertexX',\n",
       " 'truthVertexY',\n",
       " 'truthVertexZ',\n",
       " 'truthPartPdgId',\n",
       " 'truthPartStatus',\n",
       " 'truthPartBarcode',\n",
       " 'truthPartPt',\n",
       " 'truthPartE',\n",
       " 'truthPartMass',\n",
       " 'truthPartEta',\n",
       " 'truthPartPhi',\n",
       " 'nTrack',\n",
       " 'trackPt',\n",
       " 'trackP',\n",
       " 'trackMass',\n",
       " 'trackEta',\n",
       " 'trackPhi',\n",
       " 'trackNumberOfPixelHits',\n",
       " 'trackNumberOfSCTHits',\n",
       " 'trackNumberOfPixelDeadSensors',\n",
       " 'trackNumberOfSCTDeadSensors',\n",
       " 'trackNumberOfPixelSharedHits',\n",
       " 'trackNumberOfSCTSharedHits',\n",
       " 'trackNumberOfPixelHoles',\n",
       " 'trackNumberOfSCTHoles',\n",
       " 'trackNumberOfInnermostPixelLayerHits',\n",
       " 'trackNumberOfNextToInnermostPixelLayerHits',\n",
       " 'trackExpectInnermostPixelLayerHit',\n",
       " 'trackExpectNextToInnermostPixelLayerHit',\n",
       " 'trackNumberOfTRTHits',\n",
       " 'trackNumberOfTRTOutliers',\n",
       " 'trackChiSquared',\n",
       " 'trackNumberDOF',\n",
       " 'trackD0',\n",
       " 'trackZ0',\n",
       " 'trackEta_PreSamplerB',\n",
       " 'trackPhi_PreSamplerB',\n",
       " 'trackEta_PreSamplerE',\n",
       " 'trackPhi_PreSamplerE',\n",
       " 'trackEta_EMB1',\n",
       " 'trackPhi_EMB1',\n",
       " 'trackEta_EMB2',\n",
       " 'trackPhi_EMB2',\n",
       " 'trackEta_EMB3',\n",
       " 'trackPhi_EMB3',\n",
       " 'trackEta_EME1',\n",
       " 'trackPhi_EME1',\n",
       " 'trackEta_EME2',\n",
       " 'trackPhi_EME2',\n",
       " 'trackEta_EME3',\n",
       " 'trackPhi_EME3',\n",
       " 'trackEta_HEC0',\n",
       " 'trackPhi_HEC0',\n",
       " 'trackEta_HEC1',\n",
       " 'trackPhi_HEC1',\n",
       " 'trackEta_HEC2',\n",
       " 'trackPhi_HEC2',\n",
       " 'trackEta_HEC3',\n",
       " 'trackPhi_HEC3',\n",
       " 'trackEta_TileBar0',\n",
       " 'trackPhi_TileBar0',\n",
       " 'trackEta_TileBar1',\n",
       " 'trackPhi_TileBar1',\n",
       " 'trackEta_TileBar2',\n",
       " 'trackPhi_TileBar2',\n",
       " 'trackEta_TileGap1',\n",
       " 'trackPhi_TileGap1',\n",
       " 'trackEta_TileGap2',\n",
       " 'trackPhi_TileGap2',\n",
       " 'trackEta_TileGap3',\n",
       " 'trackPhi_TileGap3',\n",
       " 'trackEta_TileExt0',\n",
       " 'trackPhi_TileExt0',\n",
       " 'trackEta_TileExt1',\n",
       " 'trackPhi_TileExt1',\n",
       " 'trackEta_TileExt2',\n",
       " 'trackPhi_TileExt2',\n",
       " 'AntiKt4EMTopoJetsPt',\n",
       " 'AntiKt4EMTopoJetsEta',\n",
       " 'AntiKt4EMTopoJetsPhi',\n",
       " 'AntiKt4EMTopoJetsE',\n",
       " 'AntiKt4LCTopoJetsPt',\n",
       " 'AntiKt4LCTopoJetsEta',\n",
       " 'AntiKt4LCTopoJetsPhi',\n",
       " 'AntiKt4LCTopoJetsE',\n",
       " 'AntiKt4TruthJetsPt',\n",
       " 'AntiKt4TruthJetsEta',\n",
       " 'AntiKt4TruthJetsPhi',\n",
       " 'AntiKt4TruthJetsE',\n",
       " 'AntiKt4TruthJetsFlavor',\n",
       " 'nCluster',\n",
       " 'cluster_E',\n",
       " 'cluster_E_LCCalib',\n",
       " 'cluster_Pt',\n",
       " 'cluster_Eta',\n",
       " 'cluster_Phi',\n",
       " 'cluster_nCells',\n",
       " 'cluster_ENG_CALIB_TOT',\n",
       " 'cluster_ENG_CALIB_OUT_T',\n",
       " 'cluster_ENG_CALIB_DEAD_TOT',\n",
       " 'cluster_EM_PROBABILITY',\n",
       " 'cluster_HAD_WEIGHT',\n",
       " 'cluster_OOC_WEIGHT',\n",
       " 'cluster_DM_WEIGHT',\n",
       " 'cluster_CENTER_MAG',\n",
       " 'cluster_FIRST_ENG_DENS',\n",
       " 'cluster_CENTER_LAMBDA',\n",
       " 'cluster_ISOLATION',\n",
       " 'cluster_ENERGY_DigiHSTruth',\n",
       " 'cluster_cell_ID',\n",
       " 'cluster_cell_E',\n",
       " 'cluster_hitsTruthIndex',\n",
       " 'cluster_hitsTruthE']"
      ]
     },
     "execution_count": 5,
     "metadata": {},
     "output_type": "execute_result"
    }
   ],
   "source": [
    "branches.fields"
   ]
  },
  {
   "cell_type": "code",
   "execution_count": 6,
   "id": "60b4d539-199d-4fdb-a17d-8b4b55b46875",
   "metadata": {},
   "outputs": [],
   "source": [
    "#to calculate deltaR at the event level, I believe that means doing the exact same thing as before - i.e. using the\n",
    "#truth values??!\n",
    "\n",
    "truthE = branches.cluster_hitsTruthE\n",
    "truthEIndex = branches.cluster_hitsTruthIndex\n",
    "truthID = branches.truthPartPdgId\n",
    "trutheta = branches.truthPartEta\n",
    "truthphi = branches.truthPartPhi\n",
    "truthpt = branches.truthPartPt\n",
    "truthmass = branches.truthPartMass\n",
    "clusE = branches.cluster_E\n",
    "clusEta = branches.cluster_Eta\n",
    "clusPhi = branches.cluster_Phi\n",
    "clusPt = branches.cluster_Pt"
   ]
  },
  {
   "cell_type": "code",
   "execution_count": 7,
   "id": "f16b706e-4e5b-4048-b0ea-e74357f44239",
   "metadata": {},
   "outputs": [
    {
     "data": {
      "text/plain": [
       "(200000, 200000)"
      ]
     },
     "execution_count": 7,
     "metadata": {},
     "output_type": "execute_result"
    }
   ],
   "source": [
    "len(truthE), len(clusE)"
   ]
  },
  {
   "cell_type": "code",
   "execution_count": 8,
   "id": "f6b22a7c-0bc6-4c26-ba69-42dc48836d92",
   "metadata": {},
   "outputs": [
    {
     "data": {
      "text/plain": [
       "(200000, 200000)"
      ]
     },
     "execution_count": 8,
     "metadata": {},
     "output_type": "execute_result"
    }
   ],
   "source": [
    "len(clusPhi), len(truthphi)"
   ]
  },
  {
   "cell_type": "code",
   "execution_count": 9,
   "id": "bc4087b8-8975-4b2d-85f7-1baf0c3f8287",
   "metadata": {},
   "outputs": [
    {
     "data": {
      "text/plain": [
       "(200000, 200000)"
      ]
     },
     "execution_count": 9,
     "metadata": {},
     "output_type": "execute_result"
    }
   ],
   "source": [
    "len(truthpt), len(clusPt) #just to convince myself these map to one another - same length so must correspond"
   ]
  },
  {
   "cell_type": "code",
   "execution_count": 10,
   "id": "cacef841-07be-442f-9ccf-37f6037e8f44",
   "metadata": {},
   "outputs": [
    {
     "name": "stdout",
     "output_type": "stream",
     "text": [
      "[[1.8, 0.000907], [0.795], [0.57, 0.000973, 7.67e-05], [0.15]] [2.09, 0.799, 0.564, 0.225]\n"
     ]
    }
   ],
   "source": [
    "print(truthE[0], clusE[0]) #so clusE is a corrected sum of the Es of the particles in the cluster"
   ]
  },
  {
   "cell_type": "code",
   "execution_count": 11,
   "id": "14e454ab-719f-4fca-a615-bfe7628523a0",
   "metadata": {},
   "outputs": [
    {
     "name": "stdout",
     "output_type": "stream",
     "text": [
      "[2.89, 2.81, 3.01, 3.02, 3] [3, 2.61, 3, 2.41]\n"
     ]
    }
   ],
   "source": [
    "print(truthphi[0], clusPhi[0]) #I think this is saying truth = phi of the particles and clus = average phi of the cluster??? why is phi[0] a different shape from E[0]???"
   ]
  },
  {
   "cell_type": "code",
   "execution_count": 12,
   "id": "73129e87-6686-4f17-80ae-5264bcb0cf26",
   "metadata": {},
   "outputs": [
    {
     "name": "stdout",
     "output_type": "stream",
     "text": [
      "[-0.526, -0.598, -0.406, -0.476, -0.377] [-0.414, -0.556, -0.513, -0.59]\n"
     ]
    }
   ],
   "source": [
    "print(trutheta[0], clusEta[0])"
   ]
  },
  {
   "cell_type": "code",
   "execution_count": 13,
   "id": "1c77f17c-8c1a-4a8f-9c62-ae9fa2516710",
   "metadata": {},
   "outputs": [
    {
     "name": "stdout",
     "output_type": "stream",
     "text": [
      "[7.43, 4.49, 2.98, 0.861, 2.12] [1.93, 0.69, 0.497, 0.191]\n"
     ]
    }
   ],
   "source": [
    "print(truthpt[0], clusPt[0]) #at least all these shapes match but I do not get the E"
   ]
  },
  {
   "cell_type": "code",
   "execution_count": 14,
   "id": "34e1996e-f494-4049-aefc-ea21fff9c505",
   "metadata": {},
   "outputs": [
    {
     "data": {
      "text/plain": [
       "(740871, 740871)"
      ]
     },
     "execution_count": 14,
     "metadata": {},
     "output_type": "execute_result"
    }
   ],
   "source": [
    "len(ak.flatten(truthE)), len(ak.flatten(clusE)) #okayyyyy?"
   ]
  },
  {
   "cell_type": "code",
   "execution_count": 15,
   "id": "9dd6ea7c-d558-4d77-bc58-d8e99bc84bf0",
   "metadata": {},
   "outputs": [
    {
     "data": {
      "text/plain": [
       "(751874, 740871)"
      ]
     },
     "execution_count": 15,
     "metadata": {},
     "output_type": "execute_result"
    }
   ],
   "source": [
    "len(ak.flatten(truthphi)), len(ak.flatten(clusPhi)) #why????"
   ]
  },
  {
   "cell_type": "code",
   "execution_count": 16,
   "id": "dbf9340f-476a-42fc-95a0-1293d8eeb5e9",
   "metadata": {},
   "outputs": [
    {
     "data": {
      "text/plain": [
       "(751874, 740871)"
      ]
     },
     "execution_count": 16,
     "metadata": {},
     "output_type": "execute_result"
    }
   ],
   "source": [
    "len(ak.flatten(trutheta)), len(ak.flatten(clusEta)) #I don't like this"
   ]
  },
  {
   "cell_type": "code",
   "execution_count": 17,
   "id": "d68d3efc-e719-4eb3-8919-73e577efc5f8",
   "metadata": {},
   "outputs": [
    {
     "data": {
      "text/plain": [
       "(751874, 740871)"
      ]
     },
     "execution_count": 17,
     "metadata": {},
     "output_type": "execute_result"
    }
   ],
   "source": [
    "len(ak.flatten(truthpt)), len(ak.flatten(clusPt))"
   ]
  },
  {
   "cell_type": "code",
   "execution_count": 18,
   "id": "37d58997-e4e1-4639-bb7b-1339daf945e3",
   "metadata": {},
   "outputs": [
    {
     "data": {
      "text/plain": [
       "(2.8853957653045654, 3.0008444786071777)"
      ]
     },
     "execution_count": 18,
     "metadata": {},
     "output_type": "execute_result"
    }
   ],
   "source": [
    "ak.flatten(truthphi)[0], ak.flatten(clusPhi)[0]"
   ]
  },
  {
   "cell_type": "code",
   "execution_count": 19,
   "id": "29a75667-625c-497d-a25f-54f633c5e42e",
   "metadata": {},
   "outputs": [
    {
     "data": {
      "text/plain": [
       "(7.428044319152832, 1.9265395402908325)"
      ]
     },
     "execution_count": 19,
     "metadata": {},
     "output_type": "execute_result"
    }
   ],
   "source": [
    "ak.flatten(truthpt)[0], ak.flatten(clusPt)[0]"
   ]
  },
  {
   "cell_type": "code",
   "execution_count": 20,
   "id": "ec258899-1d96-45cf-8e4c-7eb9373404a6",
   "metadata": {},
   "outputs": [
    {
     "data": {
      "text/plain": [
       "(-0.5257676839828491, -0.41405460238456726)"
      ]
     },
     "execution_count": 20,
     "metadata": {},
     "output_type": "execute_result"
    }
   ],
   "source": [
    "ak.flatten(trutheta)[0], ak.flatten(clusEta)[0]"
   ]
  },
  {
   "cell_type": "code",
   "execution_count": 21,
   "id": "97578a18-0d9e-4c90-a5d4-52fda78fdea1",
   "metadata": {},
   "outputs": [
    {
     "data": {
      "text/plain": [
       "(<Array [1.8, 0.000907] type='2 * float64'>, 2.0940566062927246)"
      ]
     },
     "execution_count": 21,
     "metadata": {},
     "output_type": "execute_result"
    }
   ],
   "source": [
    "ak.flatten(truthE)[0], ak.flatten(clusE)[0]"
   ]
  },
  {
   "cell_type": "code",
   "execution_count": 22,
   "id": "eba72c4c-343b-4b89-991d-90291672d30f",
   "metadata": {},
   "outputs": [],
   "source": [
    "#okay well\n",
    "IDflat = np.array(ak.flatten(truthID)) #this is the flat IDs\n",
    "etaflat = np.array(ak.flatten(trutheta))\n",
    "phiflat = np.array(ak.flatten(truthphi))\n",
    "ptflat = np.array(ak.flatten(truthpt))\n",
    "massflat = np.array(ak.flatten(truthmass))"
   ]
  },
  {
   "cell_type": "code",
   "execution_count": 23,
   "id": "0b278cfd-9240-486a-be15-6f6521a88f3c",
   "metadata": {},
   "outputs": [],
   "source": [
    "ID2224 = []\n",
    "phi2224 = []\n",
    "eta2224 = []\n",
    "pt2224 = []\n",
    "m2224 = []\n",
    "\n",
    "clusE2224 = []\n",
    "clusEta2224 = []\n",
    "clusPhi2224 = []\n",
    "clusPt2224 = []\n",
    "\n",
    "index = []\n",
    "\n",
    "for i in range(len(truthID)):\n",
    "    if (2224 in truthID[i]):\n",
    "        ID2224.append(truthID[i])\n",
    "        phi2224.append(truthphi[i])\n",
    "        eta2224.append(trutheta[i])\n",
    "        pt2224.append(truthpt[i])\n",
    "        m2224.append(truthmass[i])\n",
    "        clusE2224.append(clusE[i])\n",
    "        clusEta2224.append(clusEta[i])\n",
    "        clusPhi2224.append(clusPhi[i])\n",
    "        clusPt2224.append(clusPt[i])\n",
    "        \n",
    "        index.append(i)"
   ]
  },
  {
   "cell_type": "code",
   "execution_count": 24,
   "id": "e9734245-ee51-4868-a65c-62a7f3cfd1dc",
   "metadata": {},
   "outputs": [],
   "source": [
    "IDselec = []\n",
    "phiselec = []\n",
    "etaselec = []\n",
    "ptselec = []\n",
    "mselec = []\n",
    "for i in range(len(ID2224)):\n",
    "    \n",
    "    if (211 in ID2224[i]) and (2212 in ID2224[i]):\n",
    "        IDselec.append(ID2224[i])\n",
    "        phiselec.append(phi2224[i])\n",
    "        etaselec.append(eta2224[i])\n",
    "        ptselec.append(pt2224[i])\n",
    "        mselec.append(m2224[i])"
   ]
  },
  {
   "cell_type": "code",
   "execution_count": 25,
   "id": "2bdf30fe-f3b7-475f-bd7f-b9cf935f9a3f",
   "metadata": {},
   "outputs": [
    {
     "data": {
      "text/plain": [
       "(25000, 25000)"
      ]
     },
     "execution_count": 25,
     "metadata": {},
     "output_type": "execute_result"
    }
   ],
   "source": [
    "len(ID2224), len(IDselec) #so i did NOT need the above selection then"
   ]
  },
  {
   "cell_type": "code",
   "execution_count": 27,
   "id": "08489cdf-f680-4569-82ae-a5f0e0712422",
   "metadata": {},
   "outputs": [
    {
     "data": {
      "text/plain": [
       "(77868, 77868)"
      ]
     },
     "execution_count": 27,
     "metadata": {},
     "output_type": "execute_result"
    }
   ],
   "source": [
    "IDflat = np.array(ak.flatten(ID2224)) #this should be the same as below\n",
    "etaflat = np.array(ak.flatten(eta2224))\n",
    "phiflat = np.array(ak.flatten(phi2224))\n",
    "ptflat = np.array(ak.flatten(pt2224))\n",
    "massflat = np.array(ak.flatten(m2224))\n",
    "\n",
    "len(IDflat), len(ID_sel_flat) #okay so same so I don't need the extra step here of selecting ps and pi+s"
   ]
  },
  {
   "cell_type": "code",
   "execution_count": 28,
   "id": "d56d840a-d1c4-429a-af85-a434fc7de542",
   "metadata": {},
   "outputs": [
    {
     "data": {
      "text/plain": [
       "(77868, 77868, 77868)"
      ]
     },
     "execution_count": 28,
     "metadata": {},
     "output_type": "execute_result"
    }
   ],
   "source": [
    "#flatten again:\n",
    "ID_sel_flat = np.array(ak.flatten(IDselec))\n",
    "phi_sel_flat = np.array(ak.flatten(phiselec))\n",
    "eta_sel_flat = np.array(ak.flatten(etaselec))\n",
    "pt_sel_flat = np.array(ak.flatten(ptselec))\n",
    "m_sel_flat = np.array(ak.flatten(mselec))\n",
    "\n",
    "len(ID_sel_flat), len(eta_sel_flat), len(phi_sel_flat)"
   ]
  },
  {
   "cell_type": "code",
   "execution_count": 29,
   "id": "82ea48d7-0831-4cbe-991c-0910b0599cbb",
   "metadata": {},
   "outputs": [],
   "source": [
    "pip_cut = ID_sel_flat == 211\n",
    "prot_cut = ID_sel_flat == 2212"
   ]
  },
  {
   "cell_type": "code",
   "execution_count": 30,
   "id": "c1977027-4375-4403-8b88-53238945d004",
   "metadata": {},
   "outputs": [],
   "source": [
    "eta_pip_slice = eta_sel_flat[pip_cut]\n",
    "eta_prot_slice = eta_sel_flat[prot_cut]\n",
    "\n",
    "phi_pip_slice = phi_sel_flat[pip_cut]\n",
    "phi_prot_slice = phi_sel_flat[prot_cut]\n",
    "\n",
    "pt_pip_slice = pt_sel_flat[pip_cut]\n",
    "pt_prot_slice = pt_sel_flat[prot_cut]\n",
    "\n",
    "m_pip_slice = m_sel_flat[pip_cut]\n",
    "m_prot_slice = m_sel_flat[prot_cut]"
   ]
  },
  {
   "cell_type": "code",
   "execution_count": 31,
   "id": "204c8685-d2bc-4f8f-9861-454bab45bae2",
   "metadata": {},
   "outputs": [
    {
     "data": {
      "text/plain": [
       "(25000, 25000, 25000, 25000, 25000, 25000, 25000, 25000)"
      ]
     },
     "execution_count": 31,
     "metadata": {},
     "output_type": "execute_result"
    }
   ],
   "source": [
    "len(eta_pip_slice), len(eta_prot_slice), len(phi_pip_slice), len(phi_prot_slice), len(pt_pip_slice), len(pt_prot_slice), len(m_pip_slice), len(m_prot_slice)"
   ]
  },
  {
   "cell_type": "code",
   "execution_count": 32,
   "id": "3df52a8e-1d2c-496d-b61c-6ec4aadeb718",
   "metadata": {},
   "outputs": [
    {
     "data": {
      "text/plain": [
       "(<Array [{pt: 33.2, eta: -1.56, ... mass: 0.14}] type='25000 * {\"pt\": float64, \"e...'>,\n",
       " <Array [{pt: 128, eta: -1.5, ... mass: 0.938}] type='25000 * {\"pt\": float64, \"et...'>)"
      ]
     },
     "execution_count": 32,
     "metadata": {},
     "output_type": "execute_result"
    }
   ],
   "source": [
    "#okay phew now they're the same length..\n",
    "\n",
    "pipcombine = ak.zip({\n",
    "    \"pt\": pt_pip_slice,\n",
    "    \"eta\": eta_pip_slice,\n",
    "    \"phi\": phi_pip_slice,\n",
    "    \"mass\": m_pip_slice,\n",
    "})\n",
    "\n",
    "protcombine = ak.zip({\n",
    "    \"pt\": pt_prot_slice,\n",
    "    \"eta\": eta_prot_slice,\n",
    "    \"phi\": phi_prot_slice,\n",
    "    \"mass\": m_prot_slice,\n",
    "})\n",
    "\n",
    "pipcombine, protcombine"
   ]
  },
  {
   "cell_type": "code",
   "execution_count": 33,
   "id": "f18ed53e-5971-4c51-9e7c-1c35f0e91a18",
   "metadata": {},
   "outputs": [],
   "source": [
    "pip4D = ak.with_name(pipcombine, \"Momentum4D\")\n",
    "prot4D = ak.with_name(protcombine, \"Momentum4D\")"
   ]
  },
  {
   "cell_type": "code",
   "execution_count": 34,
   "id": "30d12656-0b55-4f3d-9433-547ff420a097",
   "metadata": {},
   "outputs": [],
   "source": [
    "deltaR2 = pip4D.deltaR(prot4D)"
   ]
  },
  {
   "cell_type": "code",
   "execution_count": 35,
   "id": "c0fc2941-36e7-4449-8ffe-93acbc28404d",
   "metadata": {},
   "outputs": [
    {
     "data": {
      "text/plain": [
       "array([0.06260106, 0.16937822, 0.00279674, ..., 1.35330895, 0.03307543,\n",
       "       1.5955876 ])"
      ]
     },
     "execution_count": 35,
     "metadata": {},
     "output_type": "execute_result"
    }
   ],
   "source": [
    "np.array(deltaR2)"
   ]
  },
  {
   "cell_type": "code",
   "execution_count": 36,
   "id": "a0fc15d1-3e11-480c-99f8-173955b1c7e1",
   "metadata": {},
   "outputs": [
    {
     "data": {
      "text/plain": [
       "25000"
      ]
     },
     "execution_count": 36,
     "metadata": {},
     "output_type": "execute_result"
    }
   ],
   "source": [
    "len(deltaR2)"
   ]
  },
  {
   "cell_type": "code",
   "execution_count": 37,
   "id": "e1cb04f9-bbf8-4998-8001-5b5c0db73ac4",
   "metadata": {},
   "outputs": [
    {
     "data": {
      "text/plain": [
       "<Array [0.0626, 0.169, 0.0028, ... 0.0331, 1.6] type='25000 * float64'>"
      ]
     },
     "execution_count": 37,
     "metadata": {},
     "output_type": "execute_result"
    }
   ],
   "source": [
    "deltaR2 #so here's the next issue: I need to extend this for each item in each cluster"
   ]
  },
  {
   "cell_type": "code",
   "execution_count": 38,
   "id": "3a7e5678-3957-4e00-a8eb-6c4e6d0ee81c",
   "metadata": {},
   "outputs": [
    {
     "data": {
      "text/plain": [
       "25000"
      ]
     },
     "execution_count": 38,
     "metadata": {},
     "output_type": "execute_result"
    }
   ],
   "source": [
    "len(clusE2224)"
   ]
  },
  {
   "cell_type": "code",
   "execution_count": 39,
   "id": "27cf9d27-89be-4d91-9af6-29749d6163b5",
   "metadata": {},
   "outputs": [
    {
     "data": {
      "text/plain": [
       "22"
      ]
     },
     "execution_count": 39,
     "metadata": {},
     "output_type": "execute_result"
    }
   ],
   "source": [
    "len(clusE2224[0]) #so repeat 22 times for first item in this list, etc"
   ]
  },
  {
   "cell_type": "code",
   "execution_count": 40,
   "id": "73a7009e-e7ee-46a1-a259-649a00c7ee3c",
   "metadata": {},
   "outputs": [],
   "source": [
    "#gotta use the same thing as that longflag thing and make it work:\n",
    "longflag = []\n",
    "for i in range(len(clusE2224)):\n",
    "    longflag.append(np.repeat(deltaR2[i], len(clusE2224[i])))"
   ]
  },
  {
   "cell_type": "code",
   "execution_count": 41,
   "id": "1d976ba2-9c08-4211-8266-461844973257",
   "metadata": {},
   "outputs": [
    {
     "data": {
      "text/plain": [
       "25000"
      ]
     },
     "execution_count": 41,
     "metadata": {},
     "output_type": "execute_result"
    }
   ],
   "source": [
    "len(ak.Array(longflag))"
   ]
  },
  {
   "cell_type": "code",
   "execution_count": 42,
   "id": "0ccfaa9f-322c-4841-854c-333886170690",
   "metadata": {},
   "outputs": [
    {
     "data": {
      "text/plain": [
       "93827"
      ]
     },
     "execution_count": 42,
     "metadata": {},
     "output_type": "execute_result"
    }
   ],
   "source": [
    "len(ak.flatten(ak.Array(longflag))) #YEP THIS IS IT!!!! THIS SHOULD WORK!!!"
   ]
  },
  {
   "cell_type": "code",
   "execution_count": 43,
   "id": "04b4b7ef-cfd0-4e73-a42b-30f8474c9e69",
   "metadata": {},
   "outputs": [],
   "source": [
    "delr = ak.flatten(ak.Array(longflag))"
   ]
  },
  {
   "cell_type": "code",
   "execution_count": 44,
   "id": "4a39a5ed-673a-42cd-8c9e-1cbc2279d387",
   "metadata": {},
   "outputs": [
    {
     "data": {
      "text/plain": [
       "<Array [0.0626, 0.0626, ... 0.0331, 1.6] type='93827 * float64'>"
      ]
     },
     "execution_count": 44,
     "metadata": {},
     "output_type": "execute_result"
    }
   ],
   "source": [
    "delr"
   ]
  },
  {
   "cell_type": "code",
   "execution_count": 45,
   "id": "1144e19f-f3c5-4745-882c-f179f0b9039e",
   "metadata": {},
   "outputs": [
    {
     "data": {
      "text/plain": [
       "array([0.06260106, 0.06260106, 0.06260106, ..., 0.03307543, 0.03307543,\n",
       "       1.5955876 ])"
      ]
     },
     "execution_count": 45,
     "metadata": {},
     "output_type": "execute_result"
    }
   ],
   "source": [
    "np.array(delr)"
   ]
  },
  {
   "cell_type": "code",
   "execution_count": null,
   "id": "7fa2d9b4-7c14-4ece-9b42-58fc021efdf6",
   "metadata": {},
   "outputs": [],
   "source": []
  },
  {
   "cell_type": "code",
   "execution_count": null,
   "id": "297699a7-69d1-410b-af0b-3b895e696a49",
   "metadata": {},
   "outputs": [],
   "source": []
  },
  {
   "cell_type": "code",
   "execution_count": 46,
   "id": "be75d23c-c453-4cb4-8a5c-5a9419a65fbd",
   "metadata": {},
   "outputs": [
    {
     "name": "stderr",
     "output_type": "stream",
     "text": [
      "2021-07-20 14:51:59.198290: I tensorflow/stream_executor/platform/default/dso_loader.cc:49] Successfully opened dynamic library libcudart.so.11.0\n"
     ]
    }
   ],
   "source": [
    "import convert_sets_splitdelta as cs"
   ]
  },
  {
   "cell_type": "code",
   "execution_count": 47,
   "id": "0b408d07-cf6e-4548-b10a-fce3f26ba3ef",
   "metadata": {},
   "outputs": [],
   "source": [
    "flag = np.zeros(len(truthID))\n",
    "\n",
    "flag[index] = 2224"
   ]
  },
  {
   "cell_type": "code",
   "execution_count": 48,
   "id": "1329bcca-7ba7-44ae-a56c-28a81f356870",
   "metadata": {},
   "outputs": [],
   "source": [
    "mask = flag == 2224 #so janky"
   ]
  },
  {
   "cell_type": "code",
   "execution_count": 49,
   "id": "d6b83c12-41fc-4f54-ba1d-3727ee62eda7",
   "metadata": {},
   "outputs": [
    {
     "data": {
      "text/plain": [
       "array([False, False,  True, ..., False, False,  True])"
      ]
     },
     "execution_count": 49,
     "metadata": {},
     "output_type": "execute_result"
    }
   ],
   "source": [
    "mask"
   ]
  },
  {
   "cell_type": "code",
   "execution_count": 50,
   "id": "40c72227-ec7e-422d-9683-09763308e51c",
   "metadata": {},
   "outputs": [
    {
     "name": "stdout",
     "output_type": "stream",
     "text": [
      "Working on /fast_scratch/atlas_images/v01-45/delta_medium.root\n",
      "Loading data\n",
      "93827 93827 93827\n",
      "Normalizing\n"
     ]
    },
    {
     "name": "stderr",
     "output_type": "stream",
     "text": [
      "/home/kaelaekd/start_tf/LCStudies/classifier/convert_sets_splitdelta.py:73: RuntimeWarning: divide by zero encountered in log\n",
      "  cell_e = np.nan_to_num(np.log(cell_e), posinf = 0, neginf=0)\n"
     ]
    },
    {
     "name": "stdout",
     "output_type": "stream",
     "text": [
      "Writing out\n",
      "Done! W12_try\n"
     ]
    }
   ],
   "source": [
    "cs.doit(mask, 'W12_try', 211, 2212) #fimally"
   ]
  },
  {
   "cell_type": "code",
   "execution_count": 51,
   "id": "249299dd-481f-48b9-8318-a2003dd8e0cd",
   "metadata": {},
   "outputs": [],
   "source": [
    "file = np.load('W12_try.npz')"
   ]
  },
  {
   "cell_type": "code",
   "execution_count": 54,
   "id": "0da98fcd-c976-4a1a-9cde-5a38aa614a37",
   "metadata": {},
   "outputs": [
    {
     "data": {
      "text/plain": [
       "<numpy.lib.npyio.NpzFile at 0x7f322804fe50>"
      ]
     },
     "execution_count": 54,
     "metadata": {},
     "output_type": "execute_result"
    }
   ],
   "source": [
    "file"
   ]
  },
  {
   "cell_type": "code",
   "execution_count": 55,
   "id": "81483c41-d7dd-4cd6-9451-662af2e82d87",
   "metadata": {},
   "outputs": [
    {
     "name": "stdout",
     "output_type": "stream",
     "text": [
      "82987\n"
     ]
    }
   ],
   "source": [
    "X7 = file['X']\n",
    "clus_eta7=file['clus_eta']\n",
    "clus_pt7 = file['clus_pt']\n",
    "clus_E7 = file['clus_e']\n",
    "clus_et7 = file['clus_e_t']\n",
    "deltar7 = file['deltaR']\n",
    "\n",
    "print(len(X7))"
   ]
  },
  {
   "cell_type": "code",
   "execution_count": 57,
   "id": "7f0ceaf6-a215-4abb-9f4c-4102ee2bfcb4",
   "metadata": {},
   "outputs": [
    {
     "data": {
      "text/plain": [
       "<matplotlib.collections.PathCollection at 0x7f30aabbdfa0>"
      ]
     },
     "execution_count": 57,
     "metadata": {},
     "output_type": "execute_result"
    },
    {
     "data": {
      "image/png": "[encoded data removed]",
      "text/plain": [
       "<Figure size 799.992x599.976 with 1 Axes>"
      ]
     },
     "metadata": {},
     "output_type": "display_data"
    }
   ],
   "source": [
    "#not what we're asking for but just to make sure it works: \n",
    "\n",
    "plt.scatter(deltar7, clus_E7)"
   ]
  },
  {
   "cell_type": "code",
   "execution_count": 60,
   "id": "056821c9-4c30-48a0-a516-921913e107ff",
   "metadata": {},
   "outputs": [],
   "source": [
    "from energyflow.utils import data_split\n"
   ]
  },
  {
   "cell_type": "code",
   "execution_count": 65,
   "id": "d8985a6d-590b-4db4-bcf0-cda8b1b648aa",
   "metadata": {},
   "outputs": [],
   "source": [
    "#finally: the datatofile bit:\n",
    "\n",
    "def doit(dat, outfile):\n",
    "    X, clus_eta, clus_pt, clus_E, clus_et, deltar = dat\n",
    "    X_all = np.array(X[:77000])\n",
    "    eta_all = np.array(clus_eta[:77000])\n",
    "    pt_all = np.array(clus_pt[:77000])\n",
    "    E_all = np.array(clus_E[:77000])\n",
    "    et_all = np.array(clus_et[:77000])\n",
    "    deltar_all = np.array(deltar[:77000])\n",
    "    \n",
    "    (X_train, X_val, X_test,  \n",
    "     eta_train, eta_val, eta_test, \n",
    "     ET_train, ET_val, ET_test, \n",
    "     pt_train, pt_val, pt_test, \n",
    "     Eng_train, Eng_val, Eng_test,\n",
    "     deltar_train, deltar_val, deltar_test) = data_split(X_all, eta_all, et_all, pt_all, E_all, deltar_all, val=10000, test=37000)\n",
    "    \n",
    "    np.savez(data_path+outfile, X_train, X_val, X_test, eta_train, eta_val, eta_test, ET_train, ET_val, ET_test, pt_train, pt_val, pt_test, Eng_train, Eng_val, Eng_test, deltar_train, deltar_val, deltar_test)"
   ]
  },
  {
   "cell_type": "code",
   "execution_count": 66,
   "id": "8a2b9d20-ad6a-461f-affe-eecbbfbed7dd",
   "metadata": {},
   "outputs": [],
   "source": [
    "doit((X7, clus_eta7, clus_pt7, clus_E7, clus_et7, deltar7), 'nn_delta2224_DR')"
   ]
  },
  {
   "cell_type": "code",
   "execution_count": 67,
   "id": "d52b9751-7516-4c55-9187-0bb48093e51b",
   "metadata": {},
   "outputs": [],
   "source": [
    "file2224 = np.load(data_path+'nn_delta2224_DR.npz')"
   ]
  }
 ],
 "metadata": {
  "kernelspec": {
   "display_name": "Python 3 (ipykernel)",
   "language": "python",
   "name": "python3"
  },
  "language_info": {
   "codemirror_mode": {
    "name": "ipython",
    "version": 3
   },
   "file_extension": ".py",
   "mimetype": "text/x-python",
   "name": "python",
   "nbconvert_exporter": "python",
   "pygments_lexer": "ipython3",
   "version": "3.8.10"
  }
 },
 "nbformat": 4,
 "nbformat_minor": 5
}
