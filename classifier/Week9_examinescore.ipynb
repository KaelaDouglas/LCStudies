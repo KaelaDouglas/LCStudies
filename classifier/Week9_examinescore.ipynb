{
 "cells": [
  {
   "cell_type": "markdown",
   "id": "a4c13c58-2bb2-48cd-a987-05057eb2e12a",
   "metadata": {},
   "source": [
    "Want to try to make score plots (histograms of the probability of the classifications), first for my existing models, then for the rho stuff"
   ]
  },
  {
   "cell_type": "code",
   "execution_count": 1,
   "id": "63c777d2-bcc9-4dd7-91df-10ef0bc02a2e",
   "metadata": {},
   "outputs": [
    {
     "name": "stderr",
     "output_type": "stream",
     "text": [
      "2021-07-28 11:30:55.723092: I tensorflow/stream_executor/platform/default/dso_loader.cc:49] Successfully opened dynamic library libcudart.so.11.0\n"
     ]
    }
   ],
   "source": [
    "import tensorflow as tf\n",
    "import numpy as np\n",
    "import matplotlib.pyplot as plt\n",
    "\n",
    "import energyflow as ef\n",
    "from energyflow.archs import PFN\n",
    "from energyflow.utils import data_split"
   ]
  },
  {
   "cell_type": "code",
   "execution_count": 2,
   "id": "78bb7496-983c-4a94-8b74-965487922923",
   "metadata": {},
   "outputs": [],
   "source": [
    "import os\n",
    "os.environ['CUDA_VISIBLE_DEVICES'] = \"6\" #specify GPU\n",
    "os.environ['TF_FORCE_GPU_ALLOW_GROWTH'] = 'true'"
   ]
  },
  {
   "cell_type": "code",
   "execution_count": 3,
   "id": "5b27ccbb-c22a-436f-8746-f89b5a9db007",
   "metadata": {},
   "outputs": [],
   "source": [
    "data_path = '/data/atlas/'\n",
    "model_path = '/fast_scratch/atlas_images/v01-45/'"
   ]
  },
  {
   "cell_type": "code",
   "execution_count": 4,
   "id": "f7f5157c-25e2-401d-b70f-c7b5642189c5",
   "metadata": {},
   "outputs": [
    {
     "name": "stderr",
     "output_type": "stream",
     "text": [
      "2021-07-28 11:31:02.178202: I tensorflow/compiler/jit/xla_cpu_device.cc:41] Not creating XLA devices, tf_xla_enable_xla_devices not set\n",
      "2021-07-28 11:31:02.179241: I tensorflow/stream_executor/platform/default/dso_loader.cc:49] Successfully opened dynamic library libcuda.so.1\n",
      "2021-07-28 11:31:02.269501: I tensorflow/core/common_runtime/gpu/gpu_device.cc:1746] Found device 0 with properties: \n",
      "pciBusID: 0000:b1:00.0 name: GeForce RTX 2080 Ti computeCapability: 7.5\n",
      "coreClock: 1.545GHz coreCount: 68 deviceMemorySize: 10.76GiB deviceMemoryBandwidth: 573.69GiB/s\n",
      "2021-07-28 11:31:02.269539: I tensorflow/stream_executor/platform/default/dso_loader.cc:49] Successfully opened dynamic library libcudart.so.11.0\n",
      "2021-07-28 11:31:02.273167: I tensorflow/stream_executor/platform/default/dso_loader.cc:49] Successfully opened dynamic library libcublas.so.11\n",
      "2021-07-28 11:31:02.273241: I tensorflow/stream_executor/platform/default/dso_loader.cc:49] Successfully opened dynamic library libcublasLt.so.11\n",
      "2021-07-28 11:31:02.274324: I tensorflow/stream_executor/platform/default/dso_loader.cc:49] Successfully opened dynamic library libcufft.so.10\n",
      "2021-07-28 11:31:02.274605: I tensorflow/stream_executor/platform/default/dso_loader.cc:49] Successfully opened dynamic library libcurand.so.10\n",
      "2021-07-28 11:31:02.275524: I tensorflow/stream_executor/platform/default/dso_loader.cc:49] Successfully opened dynamic library libcusolver.so.11\n",
      "2021-07-28 11:31:02.276342: I tensorflow/stream_executor/platform/default/dso_loader.cc:49] Successfully opened dynamic library libcusparse.so.11\n",
      "2021-07-28 11:31:02.276510: I tensorflow/stream_executor/platform/default/dso_loader.cc:49] Successfully opened dynamic library libcudnn.so.8\n",
      "2021-07-28 11:31:02.278899: I tensorflow/core/common_runtime/gpu/gpu_device.cc:1888] Adding visible gpu devices: 0\n",
      "2021-07-28 11:31:02.285567: I tensorflow/compiler/jit/xla_gpu_device.cc:99] Not creating XLA devices, tf_xla_enable_xla_devices not set\n",
      "2021-07-28 11:31:02.288534: I tensorflow/core/common_runtime/gpu/gpu_device.cc:1746] Found device 0 with properties: \n",
      "pciBusID: 0000:b1:00.0 name: GeForce RTX 2080 Ti computeCapability: 7.5\n",
      "coreClock: 1.545GHz coreCount: 68 deviceMemorySize: 10.76GiB deviceMemoryBandwidth: 573.69GiB/s\n",
      "2021-07-28 11:31:02.288588: I tensorflow/stream_executor/platform/default/dso_loader.cc:49] Successfully opened dynamic library libcudart.so.11.0\n",
      "2021-07-28 11:31:02.288637: I tensorflow/stream_executor/platform/default/dso_loader.cc:49] Successfully opened dynamic library libcublas.so.11\n",
      "2021-07-28 11:31:02.288669: I tensorflow/stream_executor/platform/default/dso_loader.cc:49] Successfully opened dynamic library libcublasLt.so.11\n",
      "2021-07-28 11:31:02.288699: I tensorflow/stream_executor/platform/default/dso_loader.cc:49] Successfully opened dynamic library libcufft.so.10\n",
      "2021-07-28 11:31:02.288730: I tensorflow/stream_executor/platform/default/dso_loader.cc:49] Successfully opened dynamic library libcurand.so.10\n",
      "2021-07-28 11:31:02.288761: I tensorflow/stream_executor/platform/default/dso_loader.cc:49] Successfully opened dynamic library libcusolver.so.11\n",
      "2021-07-28 11:31:02.288791: I tensorflow/stream_executor/platform/default/dso_loader.cc:49] Successfully opened dynamic library libcusparse.so.11\n",
      "2021-07-28 11:31:02.288823: I tensorflow/stream_executor/platform/default/dso_loader.cc:49] Successfully opened dynamic library libcudnn.so.8\n",
      "2021-07-28 11:31:02.294227: I tensorflow/core/common_runtime/gpu/gpu_device.cc:1888] Adding visible gpu devices: 0\n",
      "2021-07-28 11:31:02.294306: I tensorflow/stream_executor/platform/default/dso_loader.cc:49] Successfully opened dynamic library libcudart.so.11.0\n",
      "2021-07-28 11:31:02.929614: I tensorflow/core/common_runtime/gpu/gpu_device.cc:1287] Device interconnect StreamExecutor with strength 1 edge matrix:\n",
      "2021-07-28 11:31:02.929656: I tensorflow/core/common_runtime/gpu/gpu_device.cc:1293]      0 \n",
      "2021-07-28 11:31:02.929663: I tensorflow/core/common_runtime/gpu/gpu_device.cc:1306] 0:   N \n",
      "2021-07-28 11:31:02.933157: W tensorflow/core/common_runtime/gpu/gpu_bfc_allocator.cc:39] Overriding allow_growth setting because the TF_FORCE_GPU_ALLOW_GROWTH environment variable is set. Original config value was 0.\n",
      "2021-07-28 11:31:02.933193: I tensorflow/core/common_runtime/gpu/gpu_device.cc:1432] Created TensorFlow device (/job:localhost/replica:0/task:0/device:GPU:0 with 9666 MB memory) -> physical GPU (device: 0, name: GeForce RTX 2080 Ti, pci bus id: 0000:b1:00.0, compute capability: 7.5)\n"
     ]
    }
   ],
   "source": [
    "#the no global features model:\n",
    "file = np.load(data_path+'nn_splitdata_kd.npz')\n",
    "model_nog = tf.keras.models.load_model(model_path+'w8_pfn_noglob_2.hdf5')\n"
   ]
  },
  {
   "cell_type": "code",
   "execution_count": 5,
   "id": "8878946b-49ce-41a6-9fb8-bcdcb620d7a4",
   "metadata": {},
   "outputs": [],
   "source": [
    "X_test = file['arr_2']\n",
    "Y_test = file['arr_5']\n",
    "eta_test = file['arr_11']"
   ]
  },
  {
   "cell_type": "code",
   "execution_count": 6,
   "id": "43a5bb80-221b-4750-9c96-d4e10bd8de60",
   "metadata": {},
   "outputs": [],
   "source": [
    "eta_ranges = np.arange(0., 3.1, .1)+.05\n",
    "\n",
    "selec_01 = abs(eta_test) < 0.1\n",
    "selec_02 = (abs(eta_test) >= .1) & (abs(eta_test) < .2)\n",
    "selec_03 = (abs(eta_test) >= .2) & (abs(eta_test) < .3)\n",
    "selec_04 = (abs(eta_test) >= .3) & (abs(eta_test) < .4)\n",
    "selec_05 = (abs(eta_test) >= .4) & (abs(eta_test) < .5)\n",
    "selec_06 = (abs(eta_test) >= .5) & (abs(eta_test) < .6)\n",
    "selec_07 = (abs(eta_test) >= .6) & (abs(eta_test) < .7)\n",
    "selec_08 = (abs(eta_test) >= .7) & (abs(eta_test) < .8)\n",
    "selec_09 = (abs(eta_test) >= .8) & (abs(eta_test) < .9)\n",
    "selec_10 = (abs(eta_test) >= .9) & (abs(eta_test) < 1.)\n",
    "selec_11 = (abs(eta_test) >= 1.) & (abs(eta_test) < 1.1)\n",
    "selec_12 = (abs(eta_test) >= 1.1) & (abs(eta_test) < 1.2)\n",
    "selec_13 = (abs(eta_test) >= 1.2) & (abs(eta_test) < 1.3)\n",
    "selec_14 = (abs(eta_test) >= 1.3) & (abs(eta_test) < 1.4)\n",
    "selec_15 = (abs(eta_test) >= 1.4) & (abs(eta_test) < 1.5)\n",
    "selec_16 = (abs(eta_test) >= 1.5) & (abs(eta_test) < 1.6)\n",
    "selec_17 = (abs(eta_test) >= 1.6) & (abs(eta_test) < 1.7)\n",
    "selec_18 = (abs(eta_test) >= 1.7) & (abs(eta_test) < 1.8)\n",
    "selec_19 = (abs(eta_test) >= 1.8) & (abs(eta_test) < 1.9)\n",
    "selec_20 = (abs(eta_test) >= 1.9) & (abs(eta_test) < 2.)\n",
    "selec_21 = (abs(eta_test) >= 2.) & (abs(eta_test) < 2.1)\n",
    "selec_22 = (abs(eta_test) >= 2.1) & (abs(eta_test) < 2.2)\n",
    "selec_23 = (abs(eta_test) >= 2.2) & (abs(eta_test) < 2.3)\n",
    "selec_24 = (abs(eta_test) >= 2.3) & (abs(eta_test) < 2.4)\n",
    "selec_25 = (abs(eta_test) >= 2.4) & (abs(eta_test) < 2.5)\n",
    "selec_26 = (abs(eta_test) >= 2.5) & (abs(eta_test) < 2.6)\n",
    "selec_27 = (abs(eta_test) >= 2.6) & (abs(eta_test) < 2.7)\n",
    "selec_28 = (abs(eta_test) >= 2.7) & (abs(eta_test) < 2.8)\n",
    "selec_29 = (abs(eta_test) >= 2.8) & (abs(eta_test) < 2.9)\n",
    "selec_30 = (abs(eta_test) >= 2.9) & (abs(eta_test) < 3.)\n",
    "selec_all = abs(eta_test) <= 3. \n",
    "\n",
    "eta_sel = [selec_01, selec_02, selec_03, selec_04, selec_05, selec_06, selec_07, selec_08, selec_09, selec_10,\n",
    "              selec_11, selec_12, selec_13, selec_14, selec_15, selec_16, selec_17, selec_18, selec_19, selec_20,\n",
    "              selec_21, selec_22, selec_23, selec_24, selec_25, selec_26, selec_27, selec_28, selec_29, selec_30,\n",
    "              selec_all]"
   ]
  },
  {
   "cell_type": "code",
   "execution_count": 7,
   "id": "a0e7fc46-e461-4c33-9463-8d6b2146a248",
   "metadata": {},
   "outputs": [],
   "source": [
    "from Week7_PFNutils import *"
   ]
  },
  {
   "cell_type": "code",
   "execution_count": 8,
   "id": "73cdce6c-5793-4092-b805-05910a7024de",
   "metadata": {},
   "outputs": [
    {
     "name": "stderr",
     "output_type": "stream",
     "text": [
      "2021-07-28 11:32:49.121000: I tensorflow/compiler/mlir/mlir_graph_optimization_pass.cc:116] None of the MLIR optimization passes are enabled (registered 2)\n",
      "2021-07-28 11:32:49.139870: I tensorflow/core/platform/profile_utils/cpu_utils.cc:112] CPU Frequency: 2100000000 Hz\n",
      "2021-07-28 11:32:49.293736: I tensorflow/stream_executor/platform/default/dso_loader.cc:49] Successfully opened dynamic library libcublas.so.11\n",
      "2021-07-28 11:32:49.968327: I tensorflow/stream_executor/platform/default/dso_loader.cc:49] Successfully opened dynamic library libcublasLt.so.11\n"
     ]
    },
    {
     "name": "stdout",
     "output_type": "stream",
     "text": [
      "PFN AUC: 0.9756198353399985\n",
      "PFN AUC: 0.9800460395632197\n",
      "PFN AUC: 0.9774536686902162\n",
      "PFN AUC: 0.9767919066331545\n",
      "PFN AUC: 0.9785564443776689\n",
      "PFN AUC: 0.9751944364343381\n",
      "PFN AUC: 0.9795972082071982\n",
      "PFN AUC: 0.9782195123414081\n",
      "PFN AUC: 0.9754422748814293\n",
      "PFN AUC: 0.9749136787883531\n",
      "PFN AUC: 0.9755248769098924\n",
      "PFN AUC: 0.9734319096575829\n",
      "PFN AUC: 0.9704580047692882\n",
      "PFN AUC: 0.9581635535271382\n"
     ]
    },
    {
     "name": "stderr",
     "output_type": "stream",
     "text": [
      "2021-07-28 11:33:25.972354: W tensorflow/core/framework/cpu_allocator_impl.cc:80] Allocation of 672832000 exceeds 10% of free system memory.\n"
     ]
    },
    {
     "name": "stdout",
     "output_type": "stream",
     "text": [
      "PFN AUC: 0.9126034934535657\n",
      "PFN AUC: 0.92386083718798\n",
      "PFN AUC: 0.9441327317295478\n",
      "PFN AUC: 0.9362920341333927\n",
      "PFN AUC: 0.9331082283804285\n",
      "PFN AUC: 0.935227548062048\n",
      "PFN AUC: 0.9458883643228957\n",
      "PFN AUC: 0.9516104237039722\n",
      "PFN AUC: 0.9558812031744149\n",
      "PFN AUC: 0.9549335616113804\n",
      "PFN AUC: 0.9507365497253893\n",
      "PFN AUC: 0.9594866700035047\n",
      "PFN AUC: 0.983491717772633\n",
      "PFN AUC: 0.98139857253069\n",
      "PFN AUC: 0.9827258322037904\n",
      "PFN AUC: 0.9883856300818598\n"
     ]
    },
    {
     "name": "stderr",
     "output_type": "stream",
     "text": [
      "2021-07-28 11:39:02.624360: W tensorflow/core/framework/cpu_allocator_impl.cc:80] Allocation of 9600000000 exceeds 10% of free system memory.\n"
     ]
    },
    {
     "name": "stdout",
     "output_type": "stream",
     "text": [
      "PFN AUC: 0.9626943900397682\n"
     ]
    }
   ],
   "source": [
    "fps, tps, auc, preds = metrics_ng(model_nog, X_test, Y_test, eta_sel) #note: this DID work b/c the last one of\n",
    "                                                        #eta_sel uses all of the data. so this is correct but\n",
    "                                                        #it has been updated to send a list of all in the future"
   ]
  },
  {
   "cell_type": "code",
   "execution_count": 12,
   "id": "ca4bf1a5-68b3-4998-b457-80dbcf9b8d86",
   "metadata": {},
   "outputs": [
    {
     "data": {
      "text/plain": [
       "31"
      ]
     },
     "execution_count": 12,
     "metadata": {},
     "output_type": "execute_result"
    }
   ],
   "source": [
    "len(preds)"
   ]
  },
  {
   "cell_type": "code",
   "execution_count": 14,
   "id": "b8e17934-7850-4b9f-887d-134d45bd5f35",
   "metadata": {},
   "outputs": [],
   "source": [
    "prob1, prob2 = preds[-1].T"
   ]
  },
  {
   "cell_type": "code",
   "execution_count": 15,
   "id": "ff39a58d-55cd-4acc-8466-ac5734d41d42",
   "metadata": {},
   "outputs": [],
   "source": [
    "lab1, lab2 = Y_test.T"
   ]
  },
  {
   "cell_type": "code",
   "execution_count": 16,
   "id": "e55d05d0-5b86-475f-bc53-0ceed3695fa3",
   "metadata": {},
   "outputs": [
    {
     "data": {
      "text/plain": [
       "(array([0.97251976, 0.96926427, 0.49274525, ..., 0.52816856, 0.57047033,\n",
       "        0.5318391 ], dtype=float32),\n",
       " array([1., 1., 1., ..., 1., 1., 0.], dtype=float32))"
      ]
     },
     "execution_count": 16,
     "metadata": {},
     "output_type": "execute_result"
    }
   ],
   "source": [
    "prob1, lab1"
   ]
  },
  {
   "cell_type": "markdown",
   "id": "bcc87cb7-544c-4d37-ae97-2c3229e1e1c3",
   "metadata": {},
   "source": [
    "### Hello, its me from the future!!\n",
    "\n",
    "I had the labeling all wrong here - mixed up pi0 and pi+, which, if i remember correctly, I originally had them the other way around LOL and changed it to pi0 = 0 and pi+ = 1.\n",
    "\n",
    "#### THE TRUTH: pi0 = 1, pipm = 0 !!!\n",
    "\n",
    "Don't worry, I'm changing everything I can think of to fix this now, so everything should be correct after this. but if I miss something, what's written here is correct!!!!"
   ]
  },
  {
   "cell_type": "code",
   "execution_count": 24,
   "id": "8125e0e6-b12d-4340-8d4b-c2071463680d",
   "metadata": {},
   "outputs": [
    {
     "data": {
      "text/plain": [
       "(array([149849.,      0.,      0.,      0.,      0.,      0.,      0.,\n",
       "             0.,      0., 150151.]),\n",
       " array([0. , 0.1, 0.2, 0.3, 0.4, 0.5, 0.6, 0.7, 0.8, 0.9, 1. ],\n",
       "       dtype=float32),\n",
       " <BarContainer object of 10 artists>)"
      ]
     },
     "execution_count": 24,
     "metadata": {},
     "output_type": "execute_result"
    },
    {
     "data": {
      "image/png": "[encoded data removed]",
      "text/plain": [
       "<Figure size 799.992x599.976 with 1 Axes>"
      ]
     },
     "metadata": {},
     "output_type": "display_data"
    }
   ],
   "source": [
    "plt.hist(prob1, color='k', alpha=.5)\n",
    "plt.hist(prob2, alpha=.5)\n",
    "plt.hist(lab1, alpha=.2)\n",
    "plt.hist(lab2, alpha=.2)"
   ]
  },
  {
   "cell_type": "code",
   "execution_count": 25,
   "id": "41719ef6-1fb9-44b3-9343-f86a60a07529",
   "metadata": {},
   "outputs": [
    {
     "data": {
      "text/plain": [
       "<matplotlib.legend.Legend at 0x7f2e031ab1f0>"
      ]
     },
     "execution_count": 25,
     "metadata": {},
     "output_type": "execute_result"
    },
    {
     "data": {
      "image/png": "[encoded data removed]",
      "text/plain": [
       "<Figure size 799.992x599.976 with 1 Axes>"
      ]
     },
     "metadata": {},
     "output_type": "display_data"
    }
   ],
   "source": [
    "plt.hist(prob1, color='k', alpha=.5, label='prediction')\n",
    "plt.hist(lab1, alpha=.2, label='truth')\n",
    "plt.legend()"
   ]
  },
  {
   "cell_type": "code",
   "execution_count": 24,
   "id": "930c1775-bfaa-44ac-9610-17c7a421ce88",
   "metadata": {},
   "outputs": [
    {
     "data": {
      "text/plain": [
       "array([ True,  True,  True, ...,  True,  True, False])"
      ]
     },
     "execution_count": 24,
     "metadata": {},
     "output_type": "execute_result"
    }
   ],
   "source": [
    "pi0_mask = lab1 == 1 #where the label is 1, this is pi0, where its zero that should be pip/m\n",
    "pip_mask = lab1 == 0\n",
    "\n",
    "pi0_mask"
   ]
  },
  {
   "cell_type": "code",
   "execution_count": 25,
   "id": "c2c19a2e-9093-4534-b1f0-42e1a7035e1e",
   "metadata": {},
   "outputs": [
    {
     "data": {
      "text/plain": [
       "(300000, 300000)"
      ]
     },
     "execution_count": 25,
     "metadata": {},
     "output_type": "execute_result"
    }
   ],
   "source": [
    "len(pip_mask), len(pi0_mask)"
   ]
  },
  {
   "cell_type": "code",
   "execution_count": 26,
   "id": "edf8e22b-5e76-458c-87f7-be1a6f08a264",
   "metadata": {},
   "outputs": [],
   "source": [
    "pi0_pred = prob1[pi0_mask]\n",
    "pip_pred = prob1[pip_mask] #now they're different sizes; the idea here is to select all the predictions that \n",
    "                        #correspond to true pi+ or pi0 !! hence in the plot they're mostly correct, but some spread\n",
    "                        # in the center between the peaks:)"
   ]
  },
  {
   "cell_type": "code",
   "execution_count": 27,
   "id": "9535db11-8b33-47b5-8a8d-1fe4034b5adb",
   "metadata": {},
   "outputs": [
    {
     "data": {
      "text/plain": [
       "(149849, 150151)"
      ]
     },
     "execution_count": 27,
     "metadata": {},
     "output_type": "execute_result"
    }
   ],
   "source": [
    "len(pi0_pred), len(pip_pred)"
   ]
  },
  {
   "cell_type": "code",
   "execution_count": 28,
   "id": "1ce27d5d-bd14-4a3f-a07b-0e956946d689",
   "metadata": {},
   "outputs": [
    {
     "data": {
      "text/plain": [
       "(array([ 2544.,  1564.,  1593.,  1978.,  3510.,  5733.,  9561., 13882.,\n",
       "        16740., 92744.]),\n",
       " array([6.3076895e-09, 1.0000001e-01, 2.0000000e-01, 3.0000001e-01,\n",
       "        4.0000001e-01, 5.0000000e-01, 6.0000002e-01, 6.9999999e-01,\n",
       "        8.0000001e-01, 8.9999998e-01, 1.0000000e+00], dtype=float32),\n",
       " <BarContainer object of 10 artists>)"
      ]
     },
     "execution_count": 28,
     "metadata": {},
     "output_type": "execute_result"
    },
    {
     "data": {
      "image/png": "[encoded data removed]",
      "text/plain": [
       "<Figure size 799.992x599.976 with 1 Axes>"
      ]
     },
     "metadata": {},
     "output_type": "display_data"
    }
   ],
   "source": [
    "plt.hist(pi0_pred)"
   ]
  },
  {
   "cell_type": "code",
   "execution_count": 29,
   "id": "240ad83a-4b2f-4f34-8a6a-2d9ee5ce4cd0",
   "metadata": {},
   "outputs": [
    {
     "data": {
      "text/plain": [
       "(array([110956.,   8739.,   4138.,   3115.,   3470.,   4318.,   5003.,\n",
       "          4636.,   3147.,   2629.]),\n",
       " array([0. , 0.1, 0.2, 0.3, 0.4, 0.5, 0.6, 0.7, 0.8, 0.9, 1. ],\n",
       "       dtype=float32),\n",
       " <BarContainer object of 10 artists>)"
      ]
     },
     "execution_count": 29,
     "metadata": {},
     "output_type": "execute_result"
    },
    {
     "data": {
      "image/png": "[encoded data removed]",
      "text/plain": [
       "<Figure size 799.992x599.976 with 1 Axes>"
      ]
     },
     "metadata": {},
     "output_type": "display_data"
    }
   ],
   "source": [
    "plt.hist(pip_pred)"
   ]
  },
  {
   "cell_type": "code",
   "execution_count": 39,
   "id": "6e700a7c-5ab9-4f97-a14e-9734261f2224",
   "metadata": {},
   "outputs": [
    {
     "data": {
      "text/plain": [
       "<matplotlib.legend.Legend at 0x7fa45c41cca0>"
      ]
     },
     "execution_count": 39,
     "metadata": {},
     "output_type": "execute_result"
    },
    {
     "data": {
      "image/png": "[encoded data removed]",
      "text/plain": [
       "<Figure size 576x576 with 1 Axes>"
      ]
     },
     "metadata": {},
     "output_type": "display_data"
    }
   ],
   "source": [
    "plt.figure(figsize=[8,8])\n",
    "plt.xlim(0.,1.)\n",
    "plt.hist(pi0_pred, label='true pi0', color='xkcd:greeny brown')\n",
    "plt.hist(pip_pred, label='true pip/m', alpha=.8, color='xkcd:buff')\n",
    "plt.legend()"
   ]
  },
  {
   "cell_type": "code",
   "execution_count": 40,
   "id": "eea1e582-5078-4b52-9997-348cdcf48447",
   "metadata": {},
   "outputs": [],
   "source": [
    "#reproduce plot for ranges in eta:\n",
    "#I thinnk I need to do this twice for both masks? good enough to just get it working at first I think\n",
    "eta_pi0 = eta_test[pi0_mask] #since they're different lengths now, need to do both separately\n",
    "eta_pip = eta_test[pip_mask]\n",
    "\n",
    "selec1 = abs(eta_pi0) < 0.5\n",
    "selec2 = (abs(eta_pi0) >= .5) & (abs(eta_pi0) < 1.)\n",
    "selec3 = (abs(eta_pi0) >= 1.) & (abs(eta_pi0) < 1.5)\n",
    "selec4 = (abs(eta_pi0) >= 1.5) & (abs(eta_pi0) < 2.)\n",
    "selec5 = (abs(eta_pi0) >= 2.) & (abs(eta_pi0) < 2.5)\n",
    "selec6 = (abs(eta_pi0) >= 2.5) & (abs(eta_pi0) < 3.1)\n",
    "\n",
    "eta_bins_0 = [selec1, selec2, selec3, selec4, selec5, selec6]\n",
    "\n",
    "selec1 = abs(eta_pip) < 0.5\n",
    "selec2 = (abs(eta_pip) >= .5) & (abs(eta_pip) < 1.)\n",
    "selec3 = (abs(eta_pip) >= 1.) & (abs(eta_pip) < 1.5)\n",
    "selec4 = (abs(eta_pip) >= 1.5) & (abs(eta_pip) < 2.)\n",
    "selec5 = (abs(eta_pip) >= 2.) & (abs(eta_pip) < 2.5)\n",
    "selec6 = (abs(eta_pip) >= 2.5) & (abs(eta_pip) < 3.1)\n",
    "\n",
    "eta_bins_p = [selec1, selec2, selec3, selec4, selec5, selec6]"
   ]
  },
  {
   "cell_type": "code",
   "execution_count": 41,
   "id": "5d772585-3948-41bd-a4b4-e6e3bfd84c45",
   "metadata": {},
   "outputs": [
    {
     "data": {
      "image/png": "[encoded data removed]",
      "text/plain": [
       "<Figure size 1728x1152 with 6 Axes>"
      ]
     },
     "metadata": {},
     "output_type": "display_data"
    }
   ],
   "source": [
    "fig, ((ax1, ax2, ax3), (ax4, ax5, ax6)) = plt.subplots(2,3,figsize=[24,16])\n",
    "axes = [ax1, ax2, ax3, ax4, ax5, ax6]\n",
    "ranges = ['|$\\eta$| < .5', '.5< |$\\eta$| < 1.', '1.< |$\\eta$| < 1.5', '1.5< |$\\eta$| < 2.', '2.< |$\\eta$| < 2.5', '2.5< |$\\eta$| < 3.']\n",
    "\n",
    "for i in range(len(eta_bins_0)):\n",
    "    axes[i].set_xlim(0,1)\n",
    "    axes[i].set_ylim(0,3e4)\n",
    "    axes[i].set_title(ranges[i])\n",
    "    axes[i].hist(pip_pred[eta_bins_p[i]], color='xkcd:light mustard', label='true pi +')\n",
    "    axes[i].hist(pi0_pred[eta_bins_0[i]], color='xkcd:ochre', label='true pi 0') #so this IS correct, I'm pretty sure\n",
    "    axes[i].legend()"
   ]
  },
  {
   "cell_type": "code",
   "execution_count": 49,
   "id": "9e9decb3-5fd9-48da-a431-bdb8ecf278b4",
   "metadata": {},
   "outputs": [],
   "source": [
    "#turn this into a util function:\n",
    "def scorehist(preds, Y_test, eta_test):\n",
    "    prob1, prob2 = preds.T\n",
    "    lab1, lab2 = Y_test.T\n",
    "    pi0_mask = lab1 == 1 #note I'm not sure if I have these mixed up or not it might be the other way around lol\n",
    "    pip_mask = lab1 == 0\n",
    "    pi0_pred = prob1[pi0_mask]\n",
    "    pip_pred = prob1[pip_mask]\n",
    "    \n",
    "    #I still think I need both eta bins tho I'm sure there's a nicer way to do this\n",
    "    eta_pi0 = eta_test[pi0_mask]\n",
    "    eta_pip = eta_test[pip_mask]\n",
    "\n",
    "    selec1 = abs(eta_pi0) < 0.5\n",
    "    selec2 = (abs(eta_pi0) >= .5) & (abs(eta_pi0) < 1.)\n",
    "    selec3 = (abs(eta_pi0) >= 1.) & (abs(eta_pi0) < 1.5)\n",
    "    selec4 = (abs(eta_pi0) >= 1.5) & (abs(eta_pi0) < 2.)\n",
    "    selec5 = (abs(eta_pi0) >= 2.) & (abs(eta_pi0) < 2.5)\n",
    "    selec6 = (abs(eta_pi0) >= 2.5) & (abs(eta_pi0) < 3.1)\n",
    "\n",
    "    eta_bins_0 = [selec1, selec2, selec3, selec4, selec5, selec6]\n",
    "\n",
    "    selec1 = abs(eta_pip) < 0.5\n",
    "    selec2 = (abs(eta_pip) >= .5) & (abs(eta_pip) < 1.)\n",
    "    selec3 = (abs(eta_pip) >= 1.) & (abs(eta_pip) < 1.5)\n",
    "    selec4 = (abs(eta_pip) >= 1.5) & (abs(eta_pip) < 2.)\n",
    "    selec5 = (abs(eta_pip) >= 2.) & (abs(eta_pip) < 2.5)\n",
    "    selec6 = (abs(eta_pip) >= 2.5) & (abs(eta_pip) < 3.1)\n",
    "\n",
    "    eta_bins_p = [selec1, selec2, selec3, selec4, selec5, selec6]\n",
    "    \n",
    "    fig, ((ax1, ax2, ax3), (ax4, ax5, ax6)) = plt.subplots(2,3,figsize=[24,16])\n",
    "    axes = [ax1, ax2, ax3, ax4, ax5, ax6]\n",
    "    ranges = ['|$\\eta$| < .5', '.5< |$\\eta$| < 1.', '1.< |$\\eta$| < 1.5', '1.5< |$\\eta$| < 2.', '2.< |$\\eta$| < 2.5', '2.5< |$\\eta$| < 3.']\n",
    "\n",
    "    for i in range(len(eta_bins_0)):\n",
    "        axes[i].set_xlim(0,1)\n",
    "        axes[i].set_ylim(0,3e4)\n",
    "        axes[i].set_title(ranges[i])\n",
    "        axes[i].hist(pip_pred[eta_bins_p[i]], color='xkcd:light mustard')\n",
    "        axes[i].hist(pi0_pred[eta_bins_0[i]], color='xkcd:ochre')"
   ]
  },
  {
   "cell_type": "code",
   "execution_count": 50,
   "id": "50c1f70b-f24d-4e08-99c4-e2367d6f38e8",
   "metadata": {},
   "outputs": [],
   "source": [
    "s=2"
   ]
  },
  {
   "cell_type": "code",
   "execution_count": 51,
   "id": "1c190083-4fd7-4bcc-b771-46bf04a2201b",
   "metadata": {},
   "outputs": [],
   "source": [
    "#I did the preds/sel wrong (was only passing it the latest set of predictions) so I'm gonna redo"
   ]
  },
  {
   "cell_type": "code",
   "execution_count": 54,
   "id": "493eadd5-8088-4a83-a289-1f63efca764f",
   "metadata": {},
   "outputs": [
    {
     "data": {
      "text/plain": [
       "(300000, 300000)"
      ]
     },
     "execution_count": 54,
     "metadata": {},
     "output_type": "execute_result"
    }
   ],
   "source": [
    "len(preds), len(X_test)"
   ]
  },
  {
   "cell_type": "code",
   "execution_count": 55,
   "id": "476e5f48-efa5-4b17-bc2e-838fbf28f13a",
   "metadata": {},
   "outputs": [
    {
     "data": {
      "text/plain": [
       "9191"
      ]
     },
     "execution_count": 55,
     "metadata": {},
     "output_type": "execute_result"
    }
   ],
   "source": [
    "len(X_test[eta_sel[0]])"
   ]
  },
  {
   "cell_type": "code",
   "execution_count": 56,
   "id": "9822d28c-677a-44fb-a89a-2bb608d82433",
   "metadata": {},
   "outputs": [
    {
     "name": "stdout",
     "output_type": "stream",
     "text": [
      "9191\n",
      "9158\n",
      "9435\n",
      "9245\n",
      "9473\n",
      "9589\n",
      "9875\n",
      "9883\n",
      "10241\n",
      "10502\n",
      "13336\n",
      "11793\n",
      "10837\n",
      "11025\n",
      "21026\n",
      "17635\n",
      "10882\n",
      "11557\n",
      "11250\n",
      "11374\n",
      "10396\n",
      "10190\n",
      "10181\n",
      "9811\n",
      "8591\n",
      "6693\n",
      "4824\n",
      "4321\n",
      "4129\n",
      "3557\n",
      "300000\n"
     ]
    }
   ],
   "source": [
    "for selection in eta_sel:\n",
    "    print(len(X_test[selection])) #OH SO THIS DID ***** WORK!!!!"
   ]
  },
  {
   "cell_type": "code",
   "execution_count": 57,
   "id": "a55362d2-6ba1-4fcb-98a8-55db05dc8a97",
   "metadata": {},
   "outputs": [
    {
     "data": {
      "text/plain": [
       "9191"
      ]
     },
     "execution_count": 57,
     "metadata": {},
     "output_type": "execute_result"
    }
   ],
   "source": [
    "PREds = model_nog.predict(X_test[eta_sel[0]], batch_size=1000)\n",
    "len(PREds)"
   ]
  },
  {
   "cell_type": "code",
   "execution_count": null,
   "id": "8f1735d1-0927-4611-b106-82f84a92ccf6",
   "metadata": {},
   "outputs": [],
   "source": []
  }
 ],
 "metadata": {
  "kernelspec": {
   "display_name": "Python 3 (ipykernel)",
   "language": "python",
   "name": "python3"
  },
  "language_info": {
   "codemirror_mode": {
    "name": "ipython",
    "version": 3
   },
   "file_extension": ".py",
   "mimetype": "text/x-python",
   "name": "python",
   "nbconvert_exporter": "python",
   "pygments_lexer": "ipython3",
   "version": "3.8.10"
  }
 },
 "nbformat": 4,
 "nbformat_minor": 5
}
