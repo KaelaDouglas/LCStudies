{
 "cells": [
  {
   "cell_type": "code",
   "execution_count": 1,
   "id": "6f768fa5-7c0c-46c8-a9f3-7e7c2e53a28f",
   "metadata": {},
   "outputs": [],
   "source": [
    "import uproot as ur\n",
    "import awkward as ak\n",
    "import vector\n",
    "import numpy as np"
   ]
  },
  {
   "cell_type": "code",
   "execution_count": null,
   "id": "4b634858-1fdb-4eaa-bca0-3eb12555df20",
   "metadata": {},
   "outputs": [],
   "source": []
  }
 ],
 "metadata": {
  "kernelspec": {
   "display_name": "Python 3",
   "language": "python",
   "name": "python3"
  },
  "language_info": {
   "codemirror_mode": {
    "name": "ipython",
    "version": 3
   },
   "file_extension": ".py",
   "mimetype": "text/x-python",
   "name": "python",
   "nbconvert_exporter": "python",
   "pygments_lexer": "ipython3",
   "version": "3.8.5"
  }
 },
 "nbformat": 4,
 "nbformat_minor": 5
}
