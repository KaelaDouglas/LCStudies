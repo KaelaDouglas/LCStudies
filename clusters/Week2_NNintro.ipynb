{
 "cells": [
  {
   "cell_type": "markdown",
   "id": "85fb29c2-f6ca-4aee-9609-2391e4aad06a",
   "metadata": {},
   "source": [
    "### To get a rudimentary neural network working to classify pi+ vs pi0 using the depth, density, and cluster energy"
   ]
  },
  {
   "cell_type": "code",
   "execution_count": 1,
   "id": "c28138c9-ca29-4ead-b1f5-9672515fdb8c",
   "metadata": {},
   "outputs": [],
   "source": [
    "import os\n",
    "\n",
    "os.environ['CUDA_VISIBLE_DEVICES'] = \"0\"\n",
    "os.environ['TF_FORCE_GPU_ALLOW_GROWTH'] = 'true' #make sure I'm using the right GPU"
   ]
  },
  {
   "cell_type": "code",
   "execution_count": 2,
   "id": "cb637598-4c14-4f12-9652-c532958dc847",
   "metadata": {},
   "outputs": [],
   "source": [
    "import tensorflow as tf\n",
    "import numpy as np\n",
    "import matplotlib.pyplot as plt\n",
    "import uproot as ur\n",
    "import pandas as pd\n",
    "import atlas_mpl_style as ampl #makes matplotlib follow atlas formal style\n",
    "ampl.use_atlas_style()\n",
    "\n",
    "plotpath = '/home/kaelaekd/start_tf/LCStudies/clusters/Plots/'\n",
    "\n",
    "import sys\n",
    "sys.path.append('/home/kaelaekd/start_tf/LCStudies')\n",
    "from  util import resolution_util as ru\n",
    "from  util import plot_util as pu"
   ]
  },
  {
   "cell_type": "code",
   "execution_count": 3,
   "id": "8b50f739-40df-48c6-94cc-28000188e3a7",
   "metadata": {},
   "outputs": [],
   "source": [
    "# metadata\n",
    "layers = [\"EMB1\", \"EMB2\", \"EMB3\", \"TileBar0\", \"TileBar1\", \"TileBar2\"]\n",
    "cell_size_phi = [0.098, 0.0245, 0.0245, 0.1, 0.1, 0.1]\n",
    "cell_size_eta = [0.0031, 0.025, 0.05, 0.1, 0.1, 0.2]\n",
    "len_phi = [4, 16, 16, 4, 4, 4] #'image sizes' in phi/eta coords\n",
    "len_eta = [128, 16, 8, 4, 4, 2]\n",
    "\n",
    "path = '/fast_scratch/atlas_images/v7/'\n",
    "\n",
    "branches = ['clusterIndex', 'truthE', 'nCluster', 'clusterE', 'clusterECalib', 'clusterPt', 'clusterEta', 'clusterPhi', 'cluster_nCells', 'cluster_sumCellE', 'cluster_ENG_CALIB_TOT', 'cluster_ENG_CALIB_OUT_T', 'cluster_ENG_CALIB_DEAD_TOT', 'cluster_EM_PROBABILITY', 'cluster_HAD_WEIGHT', 'cluster_CENTER_MAG', 'cluster_FIRST_ENG_DENS', 'cluster_cellE_norm']"
   ]
  },
  {
   "cell_type": "code",
   "execution_count": 4,
   "id": "c7346f78-e6b1-4f40-9d41-96f3caaf133c",
   "metadata": {},
   "outputs": [],
   "source": [
    "p0_file = ur.open(path+'pi0.root')\n",
    "p0_tree = p0_file['ClusterTree']\n",
    "p0 = pd.DataFrame(p0_tree.arrays(expressions = branches, library='np'))\n",
    "\n",
    "pp_file = ur.open(path+'piplus.root')\n",
    "pp_tree = pp_file['ClusterTree']\n",
    "pp = pd.DataFrame(pp_tree.arrays(expressions = branches, library='np')) \n",
    "\n",
    "pp['clusterEoverCalib'] = pp.clusterE / pp.cluster_ENG_CALIB_TOT \n",
    "p0['clusterEoverCalib'] = p0.clusterE / p0.cluster_ENG_CALIB_TOT"
   ]
  },
  {
   "cell_type": "markdown",
   "id": "08494b7a-0b51-45a3-ae6d-b15e30bb0657",
   "metadata": {},
   "source": [
    "#### step one: define training set, training labels, and test set, and test labels\n",
    "starting with just centermag to get it going"
   ]
  },
  {
   "cell_type": "code",
   "execution_count": 5,
   "id": "19fa2f99-673b-4090-97d4-805b0cf76d15",
   "metadata": {},
   "outputs": [
    {
     "data": {
      "text/plain": [
       "array([2423.3179, 3425.6968, 3913.9963, ..., 1905.3357, 2048.6575,\n",
       "       1668.8214], dtype=float32)"
      ]
     },
     "execution_count": 5,
     "metadata": {},
     "output_type": "execute_result"
    }
   ],
   "source": [
    "dataset = np.append(pp.cluster_CENTER_MAG, p0.cluster_CENTER_MAG)\n",
    "labels = np.append(np.zeros(len(pp.cluster_CENTER_MAG)), np.ones(len(p0.cluster_CENTER_MAG)))\n",
    "#idea is to have 0 = pp and 1 = p0 \n",
    "dataset"
   ]
  },
  {
   "cell_type": "code",
   "execution_count": 6,
   "id": "9c086100-5aaa-47af-a49f-4473b810c534",
   "metadata": {},
   "outputs": [],
   "source": [
    "from sklearn.model_selection import train_test_split"
   ]
  },
  {
   "cell_type": "code",
   "execution_count": 7,
   "id": "af2fb25e-5a62-4dd2-96ee-9df2fb6bfb68",
   "metadata": {},
   "outputs": [],
   "source": [
    "data_train, data_test, label_train, label_test = train_test_split(dataset, labels, test_size=0.3, random_state=1)\n",
    "#data_train, data_val, label_train, label_val = train_test_split(data_train, label_train, test_size=0.2, random_state=1)"
   ]
  },
  {
   "cell_type": "code",
   "execution_count": 8,
   "id": "d234e771-9ae5-46a6-a68b-f1844073d725",
   "metadata": {},
   "outputs": [
    {
     "data": {
      "text/plain": [
       "(489900, array([0., 0., 1., ..., 1., 1., 0.]))"
      ]
     },
     "execution_count": 8,
     "metadata": {},
     "output_type": "execute_result"
    }
   ],
   "source": [
    "len(data_train), label_train #so I think now I have randomized input and test data!!??!!"
   ]
  },
  {
   "cell_type": "code",
   "execution_count": 9,
   "id": "659e4fbd-88f5-47fc-9900-171dcd12d5a1",
   "metadata": {},
   "outputs": [],
   "source": [
    "model = tf.keras.Sequential([tf.keras.layers.Dense(128, activation='relu'), tf.keras.layers.Dense(2)])\n",
    "# then network consists of two Dense layers (128 = number of \"nodes\")"
   ]
  },
  {
   "cell_type": "code",
   "execution_count": 10,
   "id": "302a690e-f6e8-4e39-89ee-3f2f786290a5",
   "metadata": {},
   "outputs": [],
   "source": [
    "model.compile(optimizer='adam', loss=tf.keras.losses.SparseCategoricalCrossentropy(from_logits=True), metrics=['accuracy'])"
   ]
  },
  {
   "cell_type": "code",
   "execution_count": 11,
   "id": "31856239-6bb2-40d6-a1a4-22b58abb8cf2",
   "metadata": {},
   "outputs": [
    {
     "name": "stdout",
     "output_type": "stream",
     "text": [
      "Epoch 1/10\n",
      "15310/15310 [==============================] - 35s 2ms/step - loss: 1.7566 - accuracy: 0.5905\n",
      "Epoch 2/10\n",
      "15310/15310 [==============================] - 33s 2ms/step - loss: 0.8615 - accuracy: 0.6484\n",
      "Epoch 3/10\n",
      "15310/15310 [==============================] - 33s 2ms/step - loss: 0.7696 - accuracy: 0.6572\n",
      "Epoch 4/10\n",
      "15310/15310 [==============================] - 34s 2ms/step - loss: 0.7230 - accuracy: 0.6605\n",
      "Epoch 5/10\n",
      "15310/15310 [==============================] - 33s 2ms/step - loss: 0.6462 - accuracy: 0.6653\n",
      "Epoch 6/10\n",
      "15310/15310 [==============================] - 33s 2ms/step - loss: 0.6107 - accuracy: 0.6703\n",
      "Epoch 7/10\n",
      "15310/15310 [==============================] - 33s 2ms/step - loss: 0.5584 - accuracy: 0.6769\n",
      "Epoch 8/10\n",
      "15310/15310 [==============================] - 33s 2ms/step - loss: 0.5291 - accuracy: 0.6854\n",
      "Epoch 9/10\n",
      "15310/15310 [==============================] - 33s 2ms/step - loss: 0.5106 - accuracy: 0.6961\n",
      "Epoch 10/10\n",
      "15310/15310 [==============================] - 34s 2ms/step - loss: 0.5112 - accuracy: 0.6964\n"
     ]
    },
    {
     "data": {
      "text/plain": [
       "<tensorflow.python.keras.callbacks.History at 0x7fe68e280940>"
      ]
     },
     "execution_count": 11,
     "metadata": {},
     "output_type": "execute_result"
    }
   ],
   "source": [
    "model.fit(data_train, label_train, epochs=10)#train model"
   ]
  },
  {
   "cell_type": "code",
   "execution_count": 12,
   "id": "027243fd-8e26-4cc2-a588-170b17588192",
   "metadata": {},
   "outputs": [
    {
     "name": "stdout",
     "output_type": "stream",
     "text": [
      "6562/6562 - 10s - loss: 0.5106 - accuracy: 0.6871\n",
      "\n",
      "Test accuracy: 0.6870754957199097\n"
     ]
    }
   ],
   "source": [
    "test_loss, test_acc = model.evaluate(data_test,  label_test, verbose=2)\n",
    "print('\\nTest accuracy:', test_acc) "
   ]
  },
  {
   "cell_type": "markdown",
   "id": "0dd61d4a-563a-404f-86b2-5805cc382271",
   "metadata": {},
   "source": [
    "So first try with just depth does not great but works, build on it below"
   ]
  },
  {
   "cell_type": "code",
   "execution_count": 13,
   "id": "25e63132-0606-4526-9a8f-9c911dc46bd2",
   "metadata": {},
   "outputs": [],
   "source": [
    "# okay lets try to add more stuff:\n",
    "ppdat = np.column_stack((pp.cluster_FIRST_ENG_DENS, pp.cluster_CENTER_MAG)) #these should be in the same order as I haven't passed them to the train test split thing yet\n",
    "p0dat = np.column_stack((p0.cluster_FIRST_ENG_DENS, p0.cluster_CENTER_MAG))\n",
    "dataset2 = np.append(ppdat, p0dat, axis=0)\n",
    "labels2 = np.append(np.zeros(len(pp.cluster_FIRST_ENG_DENS)), np.ones(len(p0.cluster_FIRST_ENG_DENS)))\n",
    "#idea is to have 0 = pp and 1 = p0 \n",
    "#these should be the same for eng dens and for center mag"
   ]
  },
  {
   "cell_type": "code",
   "execution_count": 14,
   "id": "d2b86e26-1672-4a26-99d6-9fd2c746bdd4",
   "metadata": {},
   "outputs": [
    {
     "data": {
      "text/plain": [
       "((699858, 2), (435967, 2), (699858,))"
      ]
     },
     "execution_count": 14,
     "metadata": {},
     "output_type": "execute_result"
    }
   ],
   "source": [
    "dataset2.shape, ppdat.shape, labels2.shape"
   ]
  },
  {
   "cell_type": "code",
   "execution_count": 15,
   "id": "839bc54d-eb88-452a-a106-242592ce8bff",
   "metadata": {},
   "outputs": [],
   "source": [
    "model2 = tf.keras.Sequential([tf.keras.layers.Dense(128, activation='relu', input_dim=2), \n",
    "                             tf.keras.layers.Dense(2)]) #need input_dim to say how many different datatype\n",
    "# then network consists of two Dense layers (128 = number of \"nodes\")\n",
    "\n",
    "model2.compile(optimizer='adam', \n",
    "              loss=tf.keras.losses.SparseCategoricalCrossentropy(from_logits=True), \n",
    "              metrics=['accuracy'])"
   ]
  },
  {
   "cell_type": "code",
   "execution_count": 16,
   "id": "83ae9844-e2ad-4366-9ecc-0babb40e67b0",
   "metadata": {},
   "outputs": [],
   "source": [
    "data_train2, data_test2, label_train2, label_test2 = train_test_split(dataset2, labels2, test_size=0.3, random_state=1)\n",
    "#data_train2, data_val2, label_train2, label_val2 = train_test_split(data_train2, label_train2, test_size=0.2, random_state=1)"
   ]
  },
  {
   "cell_type": "code",
   "execution_count": 17,
   "id": "124cc8ae-83d6-4f8c-b20c-d5af85e89ecc",
   "metadata": {},
   "outputs": [
    {
     "name": "stdout",
     "output_type": "stream",
     "text": [
      "Epoch 1/10\n",
      "15310/15310 [==============================] - 34s 2ms/step - loss: 1.4381 - accuracy: 0.5941\n",
      "Epoch 2/10\n",
      "15310/15310 [==============================] - 33s 2ms/step - loss: 0.8834 - accuracy: 0.6491\n",
      "Epoch 3/10\n",
      "15310/15310 [==============================] - 33s 2ms/step - loss: 0.7609 - accuracy: 0.6579\n",
      "Epoch 4/10\n",
      "15310/15310 [==============================] - 34s 2ms/step - loss: 0.6989 - accuracy: 0.6634\n",
      "Epoch 5/10\n",
      "15310/15310 [==============================] - 33s 2ms/step - loss: 0.6677 - accuracy: 0.6640\n",
      "Epoch 6/10\n",
      "15310/15310 [==============================] - 34s 2ms/step - loss: 0.6132 - accuracy: 0.6693\n",
      "Epoch 7/10\n",
      "15310/15310 [==============================] - 35s 2ms/step - loss: 0.5729 - accuracy: 0.6734\n",
      "Epoch 8/10\n",
      "15310/15310 [==============================] - 33s 2ms/step - loss: 0.5472 - accuracy: 0.6798\n",
      "Epoch 9/10\n",
      "15310/15310 [==============================] - 33s 2ms/step - loss: 0.5344 - accuracy: 0.6842\n",
      "Epoch 10/10\n",
      "15310/15310 [==============================] - 33s 2ms/step - loss: 0.5132 - accuracy: 0.6947\n"
     ]
    },
    {
     "data": {
      "text/plain": [
       "<tensorflow.python.keras.callbacks.History at 0x7fe68facefa0>"
      ]
     },
     "execution_count": 17,
     "metadata": {},
     "output_type": "execute_result"
    }
   ],
   "source": [
    "model2.fit(data_train2, label_train2, epochs=10)# "
   ]
  },
  {
   "cell_type": "code",
   "execution_count": 18,
   "id": "9fa20e66-997e-4326-a218-7de9156442ec",
   "metadata": {},
   "outputs": [
    {
     "name": "stdout",
     "output_type": "stream",
     "text": [
      "6562/6562 - 9s - loss: 0.5072 - accuracy: 0.7020\n",
      "\n",
      "Test accuracy: 0.7020261287689209\n"
     ]
    }
   ],
   "source": [
    "test_loss, test_acc = model2.evaluate(data_test2,  label_test2, verbose=2)\n",
    "print('\\nTest accuracy:', test_acc) "
   ]
  },
  {
   "cell_type": "markdown",
   "id": "20464174-3726-43a3-9615-03b21e8e3c75",
   "metadata": {},
   "source": [
    "### Here's the good stuff"
   ]
  },
  {
   "cell_type": "markdown",
   "id": "fcb15925-ad10-4540-a246-dc2d8e9e3e27",
   "metadata": {},
   "source": [
    "Now that that's working, make function for however many types of data I might want, run below"
   ]
  },
  {
   "cell_type": "code",
   "execution_count": 19,
   "id": "77b9d5d6-1873-4bd2-bc96-4463427396b9",
   "metadata": {},
   "outputs": [],
   "source": [
    "from keras.utils import np_utils\n",
    "from sklearn.metrics import roc_curve, auc"
   ]
  },
  {
   "cell_type": "code",
   "execution_count": 20,
   "id": "e8c9a44b-12ab-411e-83e5-b99bec349161",
   "metadata": {},
   "outputs": [],
   "source": [
    "def dothething(ppdat_list, p0dat_list, epochs):\n",
    "    \"\"\"the lists need to be lists of data arrays or dataframe objs - the actual data to be used\n",
    "    (see run below)\n",
    "    formats the data, makes the model, trains and tests the model\"\"\"\n",
    "    dim = len(ppdat_list) #get the data dimensions\n",
    "    \n",
    "    METRICS = [\n",
    "        tf.keras.metrics.TruePositives(name='tp'),\n",
    "        tf.keras.metrics.FalsePositives(name='fp'),\n",
    "        tf.keras.metrics.TrueNegatives(name='tn'),\n",
    "        tf.keras.metrics.FalseNegatives(name='fn'), \n",
    "        tf.keras.metrics.BinaryAccuracy(name='accuracy'),\n",
    "        tf.keras.metrics.Precision(name='precision'),\n",
    "        #tf.keras.metrics.Recall(name='recall'),\n",
    "        tf.keras.metrics.AUC(name='auc'),\n",
    "        #tf.keras.metrics.AUC(name='prc', curve='PR')] # precision-recall curve\n",
    "    ]\n",
    "    \n",
    "    ppdat = np.column_stack(ppdat_list) \n",
    "    p0dat = np.column_stack(p0dat_list)\n",
    "    dataset = np.append(ppdat, p0dat, axis=0)\n",
    "    labels = np.append(np.zeros(len(ppdat_list[0])), np.ones(len(p0dat_list[0])))#0 = pp, 1 = p0\n",
    "    \n",
    "    print(ppdat.shape, dataset.shape, labels.shape)\n",
    "    \n",
    "    data_train, data_test, label_train, label_test = train_test_split(dataset, labels, test_size=0.3, random_state=1)\n",
    "    \n",
    "    #need to one hot the labels!\n",
    "    label_train_oh = np_utils.to_categorical(label_train, 2)\n",
    "    label_test_oh = np_utils.to_categorical(label_test, 2)\n",
    "    \n",
    "    print(label_train.shape, label_train_oh.shape, label_train_oh[0])\n",
    "    \n",
    "    #seems to actually perform better without too many nodes!?\n",
    "    model = tf.keras.Sequential([tf.keras.layers.Dense(30, activation='relu', input_dim=dim),\n",
    "                                 #tf.keras.layers.Dropout(0.2),\n",
    "                                 tf.keras.layers.Dense(30, activation='relu'),\n",
    "                                 #tf.keras.layers.Dense(64, activation='relu', input_dim=dim),\n",
    "                                 tf.keras.layers.Dense(2, kernel_initializer='normal', activation='softmax')]) #needed to specify softmax on last layer (why?)\n",
    "    \n",
    "    model.compile(optimizer='adam', \n",
    "                  loss=tf.keras.losses.CategoricalCrossentropy(from_logits=True), #can't be sparse if using onehot!\n",
    "                  metrics=METRICS)\n",
    "    \n",
    "    history = model.fit(data_train, label_train_oh, epochs=epochs)\n",
    "    \n",
    "    print('\\n test accuracy:')\n",
    "    test_results = model.evaluate(data_test,  label_test_oh, verbose=2)\n",
    "    \n",
    "    score = model.predict(data_test)\n",
    "    fpr_pred, tpr_pred, _ = roc_curve(label_test_oh[:,1], score[:,1],drop_intermediate=False)\n",
    "    auc_pred = auc(fpr_pred, tpr_pred)\n",
    "    \n",
    "    \n",
    "    return history, fpr_pred, tpr_pred, auc_pred"
   ]
  },
  {
   "cell_type": "code",
   "execution_count": 21,
   "id": "fd7e70f7-4176-4143-9200-b0c243a63449",
   "metadata": {},
   "outputs": [],
   "source": [
    "ppdatlist = (pp.cluster_FIRST_ENG_DENS, pp.cluster_CENTER_MAG, pp.clusterE)\n",
    "p0datlist = (p0.cluster_FIRST_ENG_DENS, p0.cluster_CENTER_MAG, p0.clusterE)"
   ]
  },
  {
   "cell_type": "code",
   "execution_count": 104,
   "id": "dc246fab-7981-43a3-a3dd-96e2a61eca46",
   "metadata": {},
   "outputs": [
    {
     "name": "stdout",
     "output_type": "stream",
     "text": [
      "(435967, 3) (699858, 3) (699858,)\n",
      "Epoch 1/4\n",
      "15310/15310 [==============================] - 37s 2ms/step - loss: 2.0227 - accuracy: 0.6611\n",
      "Epoch 2/4\n",
      "15310/15310 [==============================] - 37s 2ms/step - loss: 0.4706 - accuracy: 0.7498\n",
      "Epoch 3/4\n",
      "15310/15310 [==============================] - 37s 2ms/step - loss: 0.4594 - accuracy: 0.7613\n",
      "Epoch 4/4\n",
      "15310/15310 [==============================] - 37s 2ms/step - loss: 0.4557 - accuracy: 0.7634\n",
      "\n",
      " test accuracy:\n",
      "6562/6562 - 8s - loss: 0.6281 - accuracy: 0.7066\n"
     ]
    }
   ],
   "source": [
    "dothething(ppdatlist, p0datlist, epochs=4) #for 128, dropout, 128"
   ]
  },
  {
   "cell_type": "code",
   "execution_count": 106,
   "id": "9630640f-575a-41e9-bff6-4c2455c857f4",
   "metadata": {},
   "outputs": [
    {
     "name": "stdout",
     "output_type": "stream",
     "text": [
      "(435967, 3) (699858, 3) (699858,)\n",
      "Epoch 1/4\n",
      "15310/15310 [==============================] - 36s 2ms/step - loss: 2.6056 - accuracy: 0.6171\n",
      "Epoch 2/4\n",
      "15310/15310 [==============================] - 35s 2ms/step - loss: 0.4803 - accuracy: 0.7543\n",
      "Epoch 3/4\n",
      "15310/15310 [==============================] - 35s 2ms/step - loss: 0.4450 - accuracy: 0.7794\n",
      "Epoch 4/4\n",
      "15310/15310 [==============================] - 35s 2ms/step - loss: 0.4336 - accuracy: 0.7807\n",
      "\n",
      " test accuracy:\n",
      "6562/6562 - 9s - loss: 0.4307 - accuracy: 0.7903\n"
     ]
    }
   ],
   "source": [
    "dothething(ppdatlist, p0datlist, epochs=4) #for 128, 128 interesting seems like dropout doesn't help!!!"
   ]
  },
  {
   "cell_type": "code",
   "execution_count": 22,
   "id": "59d6f49f-b35e-420d-b847-94a832586873",
   "metadata": {},
   "outputs": [
    {
     "name": "stdout",
     "output_type": "stream",
     "text": [
      "(435967, 3) (699858, 3) (699858,)\n",
      "(489900,) (489900, 2) [1. 0.]\n",
      "Epoch 1/10\n",
      "15310/15310 [==============================] - 98s 6ms/step - loss: 0.7856 - tp: 166597.3686 - fp: 78394.6267 - tn: 166597.3686 - fn: 78394.6267 - accuracy: 0.6626 - precision: 0.6626 - auc: 0.7359\n",
      "Epoch 2/10\n",
      "15310/15310 [==============================] - 98s 6ms/step - loss: 0.4708 - tp: 185397.9936 - fp: 59594.0017 - tn: 185397.9936 - fn: 59594.0017 - accuracy: 0.7534 - precision: 0.7534 - auc: 0.8510\n",
      "Epoch 3/10\n",
      "15310/15310 [==============================] - 99s 6ms/step - loss: 0.4501 - tp: 190027.8240 - fp: 54964.1713 - tn: 190027.8240 - fn: 54964.1713 - accuracy: 0.7751 - precision: 0.7751 - auc: 0.8697\n",
      "Epoch 4/10\n",
      "15310/15310 [==============================] - 96s 6ms/step - loss: 0.4434 - tp: 191356.0285 - fp: 53635.9668 - tn: 191356.0285 - fn: 53635.9668 - accuracy: 0.7811 - precision: 0.7811 - auc: 0.8750\n",
      "Epoch 5/10\n",
      "15310/15310 [==============================] - 98s 6ms/step - loss: 0.4416 - tp: 191623.5539 - fp: 53368.4414 - tn: 191623.5539 - fn: 53368.4414 - accuracy: 0.7817 - precision: 0.7817 - auc: 0.8763\n",
      "Epoch 6/10\n",
      "15310/15310 [==============================] - 98s 6ms/step - loss: 0.4388 - tp: 192038.0091 - fp: 52953.9862 - tn: 192038.0091 - fn: 52953.9862 - accuracy: 0.7840 - precision: 0.7840 - auc: 0.8779\n",
      "Epoch 7/10\n",
      "15310/15310 [==============================] - 99s 6ms/step - loss: 0.4391 - tp: 192004.9053 - fp: 52987.0900 - tn: 192004.9053 - fn: 52987.0900 - accuracy: 0.7836 - precision: 0.7836 - auc: 0.8781\n",
      "Epoch 8/10\n",
      "15310/15310 [==============================] - 99s 6ms/step - loss: 0.4362 - tp: 192226.7596 - fp: 52765.2357 - tn: 192226.7596 - fn: 52765.2357 - accuracy: 0.7852 - precision: 0.7852 - auc: 0.8796\n",
      "Epoch 9/10\n",
      "15310/15310 [==============================] - 100s 7ms/step - loss: 0.4360 - tp: 192225.8184 - fp: 52766.1769 - tn: 192225.8184 - fn: 52766.1769 - accuracy: 0.7839 - precision: 0.7839 - auc: 0.8792\n",
      "Epoch 10/10\n",
      "15310/15310 [==============================] - 99s 6ms/step - loss: 0.4366 - tp: 191883.8977 - fp: 53108.0976 - tn: 191883.8977 - fn: 53108.0976 - accuracy: 0.7827 - precision: 0.7827 - auc: 0.8791\n",
      "\n",
      " test accuracy:\n",
      "6562/6562 - 31s - loss: 0.4327 - tp: 165765.0000 - fp: 44193.0000 - tn: 165765.0000 - fn: 44193.0000 - accuracy: 0.7895 - precision: 0.7895 - auc: 0.8811\n"
     ]
    }
   ],
   "source": [
    "hist, FPR, TPR, AUC = dothething(ppdatlist, p0datlist, epochs=10) \n",
    "#looks like it changes every time so not actually better"
   ]
  },
  {
   "cell_type": "code",
   "execution_count": 49,
   "id": "8737d59a-7aa1-472a-8396-f78516b4ee43",
   "metadata": {},
   "outputs": [
    {
     "data": {
      "image/png": "[encoded data removed]",
      "text/plain": [
       "<Figure size 432x432 with 1 Axes>"
      ]
     },
     "metadata": {},
     "output_type": "display_data"
    },
    {
     "data": {
      "image/png": "[encoded data removed]",
      "text/plain": [
       "<Figure size 432x432 with 1 Axes>"
      ]
     },
     "metadata": {},
     "output_type": "display_data"
    }
   ],
   "source": [
    "# plot loss during training\n",
    "plt.figure(figsize=[6,6])\n",
    "plt.xlim(-.1,10)\n",
    "plt.plot(hist.history['accuracy'], label='training accuracy', c='xkcd:burnt siena', linewidth=3) #I think this is all the history object keeps, plus val stuff but idk about that yet\n",
    "plt.xlabel('epoch')\n",
    "plt.ylabel('accuracy')\n",
    "plt.legend()\n",
    "plt.savefig('./Plots/train_acc')\n",
    "\n",
    "# plot loss during training\n",
    "plt.figure(figsize=[6,6])\n",
    "plt.xlim(-.1,10)\n",
    "plt.ylim(.4, .6)\n",
    "plt.semilogy()\n",
    "plt.plot(hist.history['loss'], label = 'training loss', c='xkcd:mushroom', linewidth=3) #it keeps the other metrics I sent it too!! sweeeeeeeettt!!!!!!!!\n",
    "plt.xlabel('epoch')\n",
    "plt.ylabel('loss')\n",
    "plt.legend()\n",
    "plt.savefig('./Plots/train_loss')"
   ]
  },
  {
   "cell_type": "markdown",
   "id": "c2fc4178-231b-4381-8996-7cefc108fd13",
   "metadata": {},
   "source": [
    "### make ROC curve:"
   ]
  },
  {
   "cell_type": "code",
   "execution_count": 104,
   "id": "c30ce08a-6851-4edf-8d3b-3a3b066ffd8e",
   "metadata": {},
   "outputs": [],
   "source": [
    "#this isn't right - is it because its from the training data? can you not make such a curve while training?\n",
    "#only for the prediction? cause I think these functions should be right...\n",
    "\n",
    "#tp = np.array(hist.history['tp'])\n",
    "#fp = np.array(hist.history['fp'])\n",
    "#tn = np.array(hist.history['tn'])\n",
    "#fn = np.array(hist.history['fn'])\n",
    "\n",
    "#tpr = tp/(tp+fn)\n",
    "#fpr = fp/(fp+tn)\n",
    "\n",
    "#tpr.shape"
   ]
  },
  {
   "cell_type": "code",
   "execution_count": 29,
   "id": "95ce557e-a76d-46ae-bb8b-60f672d235a4",
   "metadata": {},
   "outputs": [
    {
     "data": {
      "image/png": "[encoded data removed]",
      "text/plain": [
       "<Figure size 432x432 with 1 Axes>"
      ]
     },
     "metadata": {},
     "output_type": "display_data"
    }
   ],
   "source": [
    "plt.figure(figsize=[6,6])\n",
    "plt.xlim(0,1)\n",
    "plt.ylim(0,1)\n",
    "plt.plot(FPR, TPR, c='xkcd:cinnamon', linewidth=3)#okay got it now\n",
    "plt.xlabel('false positive rate')\n",
    "plt.ylabel('true positive rate') \n",
    "plt.savefig('./Plots/ROC1')"
   ]
  },
  {
   "cell_type": "markdown",
   "id": "6b259f58-d1fb-4482-813d-0f0d34dd6ca9",
   "metadata": {},
   "source": [
    "### AUC:"
   ]
  },
  {
   "cell_type": "code",
   "execution_count": 26,
   "id": "bf12162f-4d87-4bd3-abd9-d3e6bf039b92",
   "metadata": {},
   "outputs": [
    {
     "data": {
      "text/plain": [
       "0.8754618372745968"
      ]
     },
     "execution_count": 26,
     "metadata": {},
     "output_type": "execute_result"
    }
   ],
   "source": [
    "AUC #not 50% so that's good"
   ]
  },
  {
   "cell_type": "markdown",
   "id": "4ce6be55-a203-46a1-9c21-a6909b1e91c6",
   "metadata": {},
   "source": [
    "### effeciency/rejection plot:"
   ]
  },
  {
   "cell_type": "code",
   "execution_count": 34,
   "id": "4245db2f-e488-41c1-af08-6baa23e74cb0",
   "metadata": {},
   "outputs": [
    {
     "name": "stderr",
     "output_type": "stream",
     "text": [
      "<ipython-input-34-a4a3281b8d0e>:4: UserWarning: Attempted to set non-positive bottom ylim on a log-scaled axis.\n",
      "Invalid limit will be ignored.\n",
      "  plt.ylim(-10, 1.4e5)\n",
      "<ipython-input-34-a4a3281b8d0e>:5: RuntimeWarning: divide by zero encountered in true_divide\n",
      "  plt.plot(TPR, 1/FPR, c='xkcd:chocolate', linewidth=3)\n"
     ]
    },
    {
     "data": {
      "image/png": "[encoded data removed]",
      "text/plain": [
       "<Figure size 432x432 with 1 Axes>"
      ]
     },
     "metadata": {},
     "output_type": "display_data"
    }
   ],
   "source": [
    "plt.figure(figsize=[6,6])\n",
    "plt.xlim(0,1)\n",
    "plt.semilogy()\n",
    "plt.ylim(-10, 1.4e5)\n",
    "plt.plot(TPR, 1/FPR, c='xkcd:chocolate', linewidth=3)\n",
    "plt.xlabel('Efficiency (tpr)') #is this right?\n",
    "plt.ylabel('Rejection (1/fpr)')\n",
    "plt.savefig('./Plots/effrej.pdf')"
   ]
  },
  {
   "cell_type": "code",
   "execution_count": 30,
   "id": "49a26fbf-e751-487c-965b-a9056bda78da",
   "metadata": {},
   "outputs": [
    {
     "data": {
      "text/plain": [
       "Text(0, 0.5, 'training auc')"
      ]
     },
     "execution_count": 30,
     "metadata": {},
     "output_type": "execute_result"
    },
    {
     "data": {
      "image/png": "[encoded data removed]",
      "text/plain": [
       "<Figure size 432x432 with 1 Axes>"
      ]
     },
     "metadata": {},
     "output_type": "display_data"
    }
   ],
   "source": [
    "plt.figure(figsize=[6,6])\n",
    "plt.xlim(0,10)\n",
    "plt.plot(hist.history['auc'], c='xkcd:clay brown', linewidth=3)\n",
    "plt.xlabel('epoch')\n",
    "plt.ylabel('training auc')"
   ]
  },
  {
   "cell_type": "code",
   "execution_count": 36,
   "id": "948eefbe-3894-48b7-a828-6ae0318aa5e8",
   "metadata": {},
   "outputs": [],
   "source": [
    "from scipy.interpolate import interp1d"
   ]
  },
  {
   "cell_type": "code",
   "execution_count": 53,
   "id": "6052c302-c4ab-4eed-94c0-29be908d1816",
   "metadata": {},
   "outputs": [
    {
     "name": "stderr",
     "output_type": "stream",
     "text": [
      "<ipython-input-53-6e32f54f61d2>:1: RuntimeWarning: divide by zero encountered in true_divide\n",
      "  f = interp1d(TPR, 1/FPR)\n"
     ]
    }
   ],
   "source": [
    "f = interp1d(TPR, 1/FPR)"
   ]
  },
  {
   "cell_type": "code",
   "execution_count": 54,
   "id": "b311f361-b84a-4e59-b803-49c6b7460643",
   "metadata": {},
   "outputs": [
    {
     "data": {
      "text/plain": [
       "array(2.52824747)"
      ]
     },
     "execution_count": 54,
     "metadata": {},
     "output_type": "execute_result"
    }
   ],
   "source": [
    "f(.95) #rejection at 95% efficiency"
   ]
  },
  {
   "cell_type": "code",
   "execution_count": 55,
   "id": "77f31ad8-6501-422a-ad50-40c0ed56e7b8",
   "metadata": {},
   "outputs": [
    {
     "name": "stderr",
     "output_type": "stream",
     "text": [
      "<ipython-input-55-04965b66e56e>:4: UserWarning: Attempted to set non-positive bottom ylim on a log-scaled axis.\n",
      "Invalid limit will be ignored.\n",
      "  plt.ylim(-10, 1.4e5)\n",
      "<ipython-input-55-04965b66e56e>:5: RuntimeWarning: divide by zero encountered in true_divide\n",
      "  plt.plot(TPR, 1/FPR, c='xkcd:chocolate', linewidth=3)\n"
     ]
    },
    {
     "data": {
      "text/plain": [
       "[<matplotlib.lines.Line2D at 0x7fe7fcac8d30>]"
      ]
     },
     "execution_count": 55,
     "metadata": {},
     "output_type": "execute_result"
    },
    {
     "data": {
      "image/png": "[encoded data removed]",
      "text/plain": [
       "<Figure size 432x432 with 1 Axes>"
      ]
     },
     "metadata": {},
     "output_type": "display_data"
    }
   ],
   "source": [
    "plt.figure(figsize=[6,6])\n",
    "plt.xlim(0,1)\n",
    "plt.semilogy()\n",
    "plt.ylim(-10, 1.4e5)\n",
    "plt.plot(TPR, 1/FPR, c='xkcd:chocolate', linewidth=3)\n",
    "plt.plot(TPR, f(TPR)) #check to make sure it looks good"
   ]
  },
  {
   "cell_type": "code",
   "execution_count": null,
   "id": "80a4521b-0d7a-4f0e-9e6b-fe925c31d05a",
   "metadata": {},
   "outputs": [],
   "source": []
  },
  {
   "cell_type": "code",
   "execution_count": 93,
   "id": "c1563dd7-f51b-4091-9c36-2598fd2ba2ba",
   "metadata": {},
   "outputs": [],
   "source": [
    "#the below didn't work out but idk might be useful later"
   ]
  },
  {
   "cell_type": "code",
   "execution_count": 47,
   "id": "37269cbc-b305-4e79-b8d4-f67dce38cacd",
   "metadata": {},
   "outputs": [],
   "source": [
    "#gonna try a different way from a different tutorial!\n",
    "dic = {'cluster_CENTER_MAG':dataset, 'cluster_FIRST_ENG_DENS':dataset2, 'type':labels}\n",
    "bothdata = pd.DataFrame(data=dic)"
   ]
  },
  {
   "cell_type": "code",
   "execution_count": 46,
   "id": "000bbe96-eaf8-44c2-8837-b2383ca98ae2",
   "metadata": {},
   "outputs": [],
   "source": [
    "bothdatashuff = bothdata.reindex(np.random.permutation(bothdata.index))"
   ]
  },
  {
   "cell_type": "code",
   "execution_count": 60,
   "id": "6e50bec0-1c32-497e-9943-d3317a89d8b6",
   "metadata": {},
   "outputs": [],
   "source": [
    "feature_columns = [tf.feature_column.numeric_column('cluster_CENTER_MAG'), tf.feature_column.numeric_column('cluster_FIRST_ENG_DENS')]"
   ]
  },
  {
   "cell_type": "code",
   "execution_count": 70,
   "id": "d5f9e1fc-ea91-4376-8c08-99b6ee887937",
   "metadata": {},
   "outputs": [
    {
     "data": {
      "text/plain": [
       "NumericColumn(key='cluster_CENTER_MAG', shape=(1,), default_value=None, dtype=tf.float32, normalizer_fn=None)"
      ]
     },
     "execution_count": 70,
     "metadata": {},
     "output_type": "execute_result"
    }
   ],
   "source": [
    "feature_columns[0]"
   ]
  },
  {
   "cell_type": "code",
   "execution_count": 61,
   "id": "d197a7a4-9299-4857-9ce3-ed7335977f60",
   "metadata": {},
   "outputs": [],
   "source": [
    "train_v, test = train_test_split(bothdatashuff, test_size=0.2)\n",
    "train, val = train_test_split(train_v, test_size=0.2)\n",
    "\n",
    "lab_t = train.pop('type')\n",
    "lab_v = val.pop('type')\n",
    "lab_ts = test.pop('type')\n",
    "\n",
    "train_ds = tf.data.Dataset.from_tensor_slices((dict(train), lab_t))\n",
    "val_ds =  tf.data.Dataset.from_tensor_slices((dict(val), lab_v))\n",
    "test_ds =  tf.data.Dataset.from_tensor_slices((dict(test), lab_ts))"
   ]
  },
  {
   "cell_type": "code",
   "execution_count": 62,
   "id": "2f475ace-568c-44a9-a283-013fb36fe1e1",
   "metadata": {},
   "outputs": [
    {
     "data": {
      "text/plain": [
       "<TensorSliceDataset shapes: ({cluster_CENTER-MAG: (), cluster_FIRST_ENG_DENS: ()}, ()), types: ({cluster_CENTER-MAG: tf.float32, cluster_FIRST_ENG_DENS: tf.float32}, tf.float64)>"
      ]
     },
     "execution_count": 62,
     "metadata": {},
     "output_type": "execute_result"
    }
   ],
   "source": [
    "train_ds"
   ]
  },
  {
   "cell_type": "code",
   "execution_count": 63,
   "id": "ea88711f-95a2-4d46-98e2-c07d6b38ee82",
   "metadata": {},
   "outputs": [],
   "source": [
    "feature_layer = tf.keras.layers.DenseFeatures(feature_columns)"
   ]
  },
  {
   "cell_type": "code",
   "execution_count": 64,
   "id": "81a61571-aff1-473e-9884-6ddd239c0d5c",
   "metadata": {},
   "outputs": [],
   "source": [
    "model_n = tf.keras.Sequential([feature_layer,\n",
    "                               tf.keras.layers.Dense(128, activation='relu'),\n",
    "                               tf.keras.layers.Dense(2)])\n",
    "# then network consists of two Dense layers (128 = number of \"nodes\")"
   ]
  },
  {
   "cell_type": "code",
   "execution_count": 65,
   "id": "1e72cd1e-db07-4799-82a9-4bc223fe6a2a",
   "metadata": {},
   "outputs": [],
   "source": [
    "model_n.compile(optimizer='adam', \n",
    "                loss=tf.keras.losses.BinaryCrossentropy(from_logits=True), \n",
    "                metrics=['accuracy'])"
   ]
  },
  {
   "cell_type": "code",
   "execution_count": 66,
   "id": "e0161b7a-8f8d-4f0d-823e-69d02170b12a",
   "metadata": {},
   "outputs": [
    {
     "name": "stdout",
     "output_type": "stream",
     "text": [
      "Epoch 1/10\n",
      "WARNING:tensorflow:Layers in a Sequential model should only have a single input tensor, but we receive a <class 'dict'> input: {'cluster_CENTER-MAG': <tf.Tensor 'IteratorGetNext:0' shape=() dtype=float32>, 'cluster_FIRST_ENG_DENS': <tf.Tensor 'IteratorGetNext:1' shape=() dtype=float32>}\n",
      "Consider rewriting this model with the Functional API.\n"
     ]
    },
    {
     "ename": "ValueError",
     "evalue": "in user code:\n\n    /usr/local/lib/python3.8/dist-packages/tensorflow/python/keras/engine/training.py:805 train_function  *\n        return step_function(self, iterator)\n    /usr/local/lib/python3.8/dist-packages/tensorflow/python/keras/engine/training.py:795 step_function  **\n        outputs = model.distribute_strategy.run(run_step, args=(data,))\n    /usr/local/lib/python3.8/dist-packages/tensorflow/python/distribute/distribute_lib.py:1259 run\n        return self._extended.call_for_each_replica(fn, args=args, kwargs=kwargs)\n    /usr/local/lib/python3.8/dist-packages/tensorflow/python/distribute/distribute_lib.py:2730 call_for_each_replica\n        return self._call_for_each_replica(fn, args, kwargs)\n    /usr/local/lib/python3.8/dist-packages/tensorflow/python/distribute/distribute_lib.py:3417 _call_for_each_replica\n        return fn(*args, **kwargs)\n    /usr/local/lib/python3.8/dist-packages/tensorflow/python/keras/engine/training.py:788 run_step  **\n        outputs = model.train_step(data)\n    /usr/local/lib/python3.8/dist-packages/tensorflow/python/keras/engine/training.py:754 train_step\n        y_pred = self(x, training=True)\n    /usr/local/lib/python3.8/dist-packages/tensorflow/python/keras/engine/base_layer.py:1012 __call__\n        outputs = call_fn(inputs, *args, **kwargs)\n    /usr/local/lib/python3.8/dist-packages/tensorflow/python/keras/engine/sequential.py:389 call\n        outputs = layer(inputs, **kwargs)\n    /usr/local/lib/python3.8/dist-packages/tensorflow/python/keras/engine/base_layer.py:1012 __call__\n        outputs = call_fn(inputs, *args, **kwargs)\n    /usr/local/lib/python3.8/dist-packages/tensorflow/python/keras/feature_column/dense_features.py:168 call  **\n        tensor = column.get_dense_tensor(transformation_cache,\n    /usr/local/lib/python3.8/dist-packages/tensorflow/python/feature_column/feature_column_v2.py:2592 get_dense_tensor\n        return transformation_cache.get(self, state_manager)\n    /usr/local/lib/python3.8/dist-packages/tensorflow/python/feature_column/feature_column_v2.py:2355 get\n        transformed = column.transform_feature(self, state_manager)\n    /usr/local/lib/python3.8/dist-packages/tensorflow/python/feature_column/feature_column_v2.py:2564 transform_feature\n        input_tensor = transformation_cache.get(self.key, state_manager)\n    /usr/local/lib/python3.8/dist-packages/tensorflow/python/feature_column/feature_column_v2.py:2339 get\n        raise ValueError('Feature {} is not in features dictionary.'.format(key))\n\n    ValueError: Feature cluster_CENTER_MAG is not in features dictionary.\n",
     "output_type": "error",
     "traceback": [
      "\u001b[0;31m---------------------------------------------------------------------------\u001b[0m",
      "\u001b[0;31mValueError\u001b[0m                                Traceback (most recent call last)",
      "\u001b[0;32m<ipython-input-66-4e182638ca78>\u001b[0m in \u001b[0;36m<module>\u001b[0;34m\u001b[0m\n\u001b[0;32m----> 1\u001b[0;31m \u001b[0mmodel_n\u001b[0m\u001b[0;34m.\u001b[0m\u001b[0mfit\u001b[0m\u001b[0;34m(\u001b[0m\u001b[0mtrain_ds\u001b[0m\u001b[0;34m,\u001b[0m \u001b[0mvalidation_data\u001b[0m\u001b[0;34m=\u001b[0m\u001b[0mval_ds\u001b[0m\u001b[0;34m,\u001b[0m \u001b[0mepochs\u001b[0m\u001b[0;34m=\u001b[0m\u001b[0;36m10\u001b[0m\u001b[0;34m)\u001b[0m\u001b[0;34m\u001b[0m\u001b[0;34m\u001b[0m\u001b[0m\n\u001b[0m",
      "\u001b[0;32m/usr/local/lib/python3.8/dist-packages/tensorflow/python/keras/engine/training.py\u001b[0m in \u001b[0;36mfit\u001b[0;34m(self, x, y, batch_size, epochs, verbose, callbacks, validation_split, validation_data, shuffle, class_weight, sample_weight, initial_epoch, steps_per_epoch, validation_steps, validation_batch_size, validation_freq, max_queue_size, workers, use_multiprocessing)\u001b[0m\n\u001b[1;32m   1098\u001b[0m                 _r=1):\n\u001b[1;32m   1099\u001b[0m               \u001b[0mcallbacks\u001b[0m\u001b[0;34m.\u001b[0m\u001b[0mon_train_batch_begin\u001b[0m\u001b[0;34m(\u001b[0m\u001b[0mstep\u001b[0m\u001b[0;34m)\u001b[0m\u001b[0;34m\u001b[0m\u001b[0;34m\u001b[0m\u001b[0m\n\u001b[0;32m-> 1100\u001b[0;31m               \u001b[0mtmp_logs\u001b[0m \u001b[0;34m=\u001b[0m \u001b[0mself\u001b[0m\u001b[0;34m.\u001b[0m\u001b[0mtrain_function\u001b[0m\u001b[0;34m(\u001b[0m\u001b[0miterator\u001b[0m\u001b[0;34m)\u001b[0m\u001b[0;34m\u001b[0m\u001b[0;34m\u001b[0m\u001b[0m\n\u001b[0m\u001b[1;32m   1101\u001b[0m               \u001b[0;32mif\u001b[0m \u001b[0mdata_handler\u001b[0m\u001b[0;34m.\u001b[0m\u001b[0mshould_sync\u001b[0m\u001b[0;34m:\u001b[0m\u001b[0;34m\u001b[0m\u001b[0;34m\u001b[0m\u001b[0m\n\u001b[1;32m   1102\u001b[0m                 \u001b[0mcontext\u001b[0m\u001b[0;34m.\u001b[0m\u001b[0masync_wait\u001b[0m\u001b[0;34m(\u001b[0m\u001b[0;34m)\u001b[0m\u001b[0;34m\u001b[0m\u001b[0;34m\u001b[0m\u001b[0m\n",
      "\u001b[0;32m/usr/local/lib/python3.8/dist-packages/tensorflow/python/eager/def_function.py\u001b[0m in \u001b[0;36m__call__\u001b[0;34m(self, *args, **kwds)\u001b[0m\n\u001b[1;32m    826\u001b[0m     \u001b[0mtracing_count\u001b[0m \u001b[0;34m=\u001b[0m \u001b[0mself\u001b[0m\u001b[0;34m.\u001b[0m\u001b[0mexperimental_get_tracing_count\u001b[0m\u001b[0;34m(\u001b[0m\u001b[0;34m)\u001b[0m\u001b[0;34m\u001b[0m\u001b[0;34m\u001b[0m\u001b[0m\n\u001b[1;32m    827\u001b[0m     \u001b[0;32mwith\u001b[0m \u001b[0mtrace\u001b[0m\u001b[0;34m.\u001b[0m\u001b[0mTrace\u001b[0m\u001b[0;34m(\u001b[0m\u001b[0mself\u001b[0m\u001b[0;34m.\u001b[0m\u001b[0m_name\u001b[0m\u001b[0;34m)\u001b[0m \u001b[0;32mas\u001b[0m \u001b[0mtm\u001b[0m\u001b[0;34m:\u001b[0m\u001b[0;34m\u001b[0m\u001b[0;34m\u001b[0m\u001b[0m\n\u001b[0;32m--> 828\u001b[0;31m       \u001b[0mresult\u001b[0m \u001b[0;34m=\u001b[0m \u001b[0mself\u001b[0m\u001b[0;34m.\u001b[0m\u001b[0m_call\u001b[0m\u001b[0;34m(\u001b[0m\u001b[0;34m*\u001b[0m\u001b[0margs\u001b[0m\u001b[0;34m,\u001b[0m \u001b[0;34m**\u001b[0m\u001b[0mkwds\u001b[0m\u001b[0;34m)\u001b[0m\u001b[0;34m\u001b[0m\u001b[0;34m\u001b[0m\u001b[0m\n\u001b[0m\u001b[1;32m    829\u001b[0m       \u001b[0mcompiler\u001b[0m \u001b[0;34m=\u001b[0m \u001b[0;34m\"xla\"\u001b[0m \u001b[0;32mif\u001b[0m \u001b[0mself\u001b[0m\u001b[0;34m.\u001b[0m\u001b[0m_experimental_compile\u001b[0m \u001b[0;32melse\u001b[0m \u001b[0;34m\"nonXla\"\u001b[0m\u001b[0;34m\u001b[0m\u001b[0;34m\u001b[0m\u001b[0m\n\u001b[1;32m    830\u001b[0m       \u001b[0mnew_tracing_count\u001b[0m \u001b[0;34m=\u001b[0m \u001b[0mself\u001b[0m\u001b[0;34m.\u001b[0m\u001b[0mexperimental_get_tracing_count\u001b[0m\u001b[0;34m(\u001b[0m\u001b[0;34m)\u001b[0m\u001b[0;34m\u001b[0m\u001b[0;34m\u001b[0m\u001b[0m\n",
      "\u001b[0;32m/usr/local/lib/python3.8/dist-packages/tensorflow/python/eager/def_function.py\u001b[0m in \u001b[0;36m_call\u001b[0;34m(self, *args, **kwds)\u001b[0m\n\u001b[1;32m    869\u001b[0m       \u001b[0;31m# This is the first call of __call__, so we have to initialize.\u001b[0m\u001b[0;34m\u001b[0m\u001b[0;34m\u001b[0m\u001b[0;34m\u001b[0m\u001b[0m\n\u001b[1;32m    870\u001b[0m       \u001b[0minitializers\u001b[0m \u001b[0;34m=\u001b[0m \u001b[0;34m[\u001b[0m\u001b[0;34m]\u001b[0m\u001b[0;34m\u001b[0m\u001b[0;34m\u001b[0m\u001b[0m\n\u001b[0;32m--> 871\u001b[0;31m       \u001b[0mself\u001b[0m\u001b[0;34m.\u001b[0m\u001b[0m_initialize\u001b[0m\u001b[0;34m(\u001b[0m\u001b[0margs\u001b[0m\u001b[0;34m,\u001b[0m \u001b[0mkwds\u001b[0m\u001b[0;34m,\u001b[0m \u001b[0madd_initializers_to\u001b[0m\u001b[0;34m=\u001b[0m\u001b[0minitializers\u001b[0m\u001b[0;34m)\u001b[0m\u001b[0;34m\u001b[0m\u001b[0;34m\u001b[0m\u001b[0m\n\u001b[0m\u001b[1;32m    872\u001b[0m     \u001b[0;32mfinally\u001b[0m\u001b[0;34m:\u001b[0m\u001b[0;34m\u001b[0m\u001b[0;34m\u001b[0m\u001b[0m\n\u001b[1;32m    873\u001b[0m       \u001b[0;31m# At this point we know that the initialization is complete (or less\u001b[0m\u001b[0;34m\u001b[0m\u001b[0;34m\u001b[0m\u001b[0;34m\u001b[0m\u001b[0m\n",
      "\u001b[0;32m/usr/local/lib/python3.8/dist-packages/tensorflow/python/eager/def_function.py\u001b[0m in \u001b[0;36m_initialize\u001b[0;34m(self, args, kwds, add_initializers_to)\u001b[0m\n\u001b[1;32m    723\u001b[0m     \u001b[0mself\u001b[0m\u001b[0;34m.\u001b[0m\u001b[0m_graph_deleter\u001b[0m \u001b[0;34m=\u001b[0m \u001b[0mFunctionDeleter\u001b[0m\u001b[0;34m(\u001b[0m\u001b[0mself\u001b[0m\u001b[0;34m.\u001b[0m\u001b[0m_lifted_initializer_graph\u001b[0m\u001b[0;34m)\u001b[0m\u001b[0;34m\u001b[0m\u001b[0;34m\u001b[0m\u001b[0m\n\u001b[1;32m    724\u001b[0m     self._concrete_stateful_fn = (\n\u001b[0;32m--> 725\u001b[0;31m         self._stateful_fn._get_concrete_function_internal_garbage_collected(  # pylint: disable=protected-access\n\u001b[0m\u001b[1;32m    726\u001b[0m             *args, **kwds))\n\u001b[1;32m    727\u001b[0m \u001b[0;34m\u001b[0m\u001b[0m\n",
      "\u001b[0;32m/usr/local/lib/python3.8/dist-packages/tensorflow/python/eager/function.py\u001b[0m in \u001b[0;36m_get_concrete_function_internal_garbage_collected\u001b[0;34m(self, *args, **kwargs)\u001b[0m\n\u001b[1;32m   2967\u001b[0m       \u001b[0margs\u001b[0m\u001b[0;34m,\u001b[0m \u001b[0mkwargs\u001b[0m \u001b[0;34m=\u001b[0m \u001b[0;32mNone\u001b[0m\u001b[0;34m,\u001b[0m \u001b[0;32mNone\u001b[0m\u001b[0;34m\u001b[0m\u001b[0;34m\u001b[0m\u001b[0m\n\u001b[1;32m   2968\u001b[0m     \u001b[0;32mwith\u001b[0m \u001b[0mself\u001b[0m\u001b[0;34m.\u001b[0m\u001b[0m_lock\u001b[0m\u001b[0;34m:\u001b[0m\u001b[0;34m\u001b[0m\u001b[0;34m\u001b[0m\u001b[0m\n\u001b[0;32m-> 2969\u001b[0;31m       \u001b[0mgraph_function\u001b[0m\u001b[0;34m,\u001b[0m \u001b[0m_\u001b[0m \u001b[0;34m=\u001b[0m \u001b[0mself\u001b[0m\u001b[0;34m.\u001b[0m\u001b[0m_maybe_define_function\u001b[0m\u001b[0;34m(\u001b[0m\u001b[0margs\u001b[0m\u001b[0;34m,\u001b[0m \u001b[0mkwargs\u001b[0m\u001b[0;34m)\u001b[0m\u001b[0;34m\u001b[0m\u001b[0;34m\u001b[0m\u001b[0m\n\u001b[0m\u001b[1;32m   2970\u001b[0m     \u001b[0;32mreturn\u001b[0m \u001b[0mgraph_function\u001b[0m\u001b[0;34m\u001b[0m\u001b[0;34m\u001b[0m\u001b[0m\n\u001b[1;32m   2971\u001b[0m \u001b[0;34m\u001b[0m\u001b[0m\n",
      "\u001b[0;32m/usr/local/lib/python3.8/dist-packages/tensorflow/python/eager/function.py\u001b[0m in \u001b[0;36m_maybe_define_function\u001b[0;34m(self, args, kwargs)\u001b[0m\n\u001b[1;32m   3359\u001b[0m \u001b[0;34m\u001b[0m\u001b[0m\n\u001b[1;32m   3360\u001b[0m           \u001b[0mself\u001b[0m\u001b[0;34m.\u001b[0m\u001b[0m_function_cache\u001b[0m\u001b[0;34m.\u001b[0m\u001b[0mmissed\u001b[0m\u001b[0;34m.\u001b[0m\u001b[0madd\u001b[0m\u001b[0;34m(\u001b[0m\u001b[0mcall_context_key\u001b[0m\u001b[0;34m)\u001b[0m\u001b[0;34m\u001b[0m\u001b[0;34m\u001b[0m\u001b[0m\n\u001b[0;32m-> 3361\u001b[0;31m           \u001b[0mgraph_function\u001b[0m \u001b[0;34m=\u001b[0m \u001b[0mself\u001b[0m\u001b[0;34m.\u001b[0m\u001b[0m_create_graph_function\u001b[0m\u001b[0;34m(\u001b[0m\u001b[0margs\u001b[0m\u001b[0;34m,\u001b[0m \u001b[0mkwargs\u001b[0m\u001b[0;34m)\u001b[0m\u001b[0;34m\u001b[0m\u001b[0;34m\u001b[0m\u001b[0m\n\u001b[0m\u001b[1;32m   3362\u001b[0m           \u001b[0mself\u001b[0m\u001b[0;34m.\u001b[0m\u001b[0m_function_cache\u001b[0m\u001b[0;34m.\u001b[0m\u001b[0mprimary\u001b[0m\u001b[0;34m[\u001b[0m\u001b[0mcache_key\u001b[0m\u001b[0;34m]\u001b[0m \u001b[0;34m=\u001b[0m \u001b[0mgraph_function\u001b[0m\u001b[0;34m\u001b[0m\u001b[0;34m\u001b[0m\u001b[0m\n\u001b[1;32m   3363\u001b[0m \u001b[0;34m\u001b[0m\u001b[0m\n",
      "\u001b[0;32m/usr/local/lib/python3.8/dist-packages/tensorflow/python/eager/function.py\u001b[0m in \u001b[0;36m_create_graph_function\u001b[0;34m(self, args, kwargs, override_flat_arg_shapes)\u001b[0m\n\u001b[1;32m   3194\u001b[0m     \u001b[0marg_names\u001b[0m \u001b[0;34m=\u001b[0m \u001b[0mbase_arg_names\u001b[0m \u001b[0;34m+\u001b[0m \u001b[0mmissing_arg_names\u001b[0m\u001b[0;34m\u001b[0m\u001b[0;34m\u001b[0m\u001b[0m\n\u001b[1;32m   3195\u001b[0m     graph_function = ConcreteFunction(\n\u001b[0;32m-> 3196\u001b[0;31m         func_graph_module.func_graph_from_py_func(\n\u001b[0m\u001b[1;32m   3197\u001b[0m             \u001b[0mself\u001b[0m\u001b[0;34m.\u001b[0m\u001b[0m_name\u001b[0m\u001b[0;34m,\u001b[0m\u001b[0;34m\u001b[0m\u001b[0;34m\u001b[0m\u001b[0m\n\u001b[1;32m   3198\u001b[0m             \u001b[0mself\u001b[0m\u001b[0;34m.\u001b[0m\u001b[0m_python_function\u001b[0m\u001b[0;34m,\u001b[0m\u001b[0;34m\u001b[0m\u001b[0;34m\u001b[0m\u001b[0m\n",
      "\u001b[0;32m/usr/local/lib/python3.8/dist-packages/tensorflow/python/framework/func_graph.py\u001b[0m in \u001b[0;36mfunc_graph_from_py_func\u001b[0;34m(name, python_func, args, kwargs, signature, func_graph, autograph, autograph_options, add_control_dependencies, arg_names, op_return_value, collections, capture_by_value, override_flat_arg_shapes)\u001b[0m\n\u001b[1;32m    988\u001b[0m         \u001b[0m_\u001b[0m\u001b[0;34m,\u001b[0m \u001b[0moriginal_func\u001b[0m \u001b[0;34m=\u001b[0m \u001b[0mtf_decorator\u001b[0m\u001b[0;34m.\u001b[0m\u001b[0munwrap\u001b[0m\u001b[0;34m(\u001b[0m\u001b[0mpython_func\u001b[0m\u001b[0;34m)\u001b[0m\u001b[0;34m\u001b[0m\u001b[0;34m\u001b[0m\u001b[0m\n\u001b[1;32m    989\u001b[0m \u001b[0;34m\u001b[0m\u001b[0m\n\u001b[0;32m--> 990\u001b[0;31m       \u001b[0mfunc_outputs\u001b[0m \u001b[0;34m=\u001b[0m \u001b[0mpython_func\u001b[0m\u001b[0;34m(\u001b[0m\u001b[0;34m*\u001b[0m\u001b[0mfunc_args\u001b[0m\u001b[0;34m,\u001b[0m \u001b[0;34m**\u001b[0m\u001b[0mfunc_kwargs\u001b[0m\u001b[0;34m)\u001b[0m\u001b[0;34m\u001b[0m\u001b[0;34m\u001b[0m\u001b[0m\n\u001b[0m\u001b[1;32m    991\u001b[0m \u001b[0;34m\u001b[0m\u001b[0m\n\u001b[1;32m    992\u001b[0m       \u001b[0;31m# invariant: `func_outputs` contains only Tensors, CompositeTensors,\u001b[0m\u001b[0;34m\u001b[0m\u001b[0;34m\u001b[0m\u001b[0;34m\u001b[0m\u001b[0m\n",
      "\u001b[0;32m/usr/local/lib/python3.8/dist-packages/tensorflow/python/eager/def_function.py\u001b[0m in \u001b[0;36mwrapped_fn\u001b[0;34m(*args, **kwds)\u001b[0m\n\u001b[1;32m    632\u001b[0m             \u001b[0mxla_context\u001b[0m\u001b[0;34m.\u001b[0m\u001b[0mExit\u001b[0m\u001b[0;34m(\u001b[0m\u001b[0;34m)\u001b[0m\u001b[0;34m\u001b[0m\u001b[0;34m\u001b[0m\u001b[0m\n\u001b[1;32m    633\u001b[0m         \u001b[0;32melse\u001b[0m\u001b[0;34m:\u001b[0m\u001b[0;34m\u001b[0m\u001b[0;34m\u001b[0m\u001b[0m\n\u001b[0;32m--> 634\u001b[0;31m           \u001b[0mout\u001b[0m \u001b[0;34m=\u001b[0m \u001b[0mweak_wrapped_fn\u001b[0m\u001b[0;34m(\u001b[0m\u001b[0;34m)\u001b[0m\u001b[0;34m.\u001b[0m\u001b[0m__wrapped__\u001b[0m\u001b[0;34m(\u001b[0m\u001b[0;34m*\u001b[0m\u001b[0margs\u001b[0m\u001b[0;34m,\u001b[0m \u001b[0;34m**\u001b[0m\u001b[0mkwds\u001b[0m\u001b[0;34m)\u001b[0m\u001b[0;34m\u001b[0m\u001b[0;34m\u001b[0m\u001b[0m\n\u001b[0m\u001b[1;32m    635\u001b[0m         \u001b[0;32mreturn\u001b[0m \u001b[0mout\u001b[0m\u001b[0;34m\u001b[0m\u001b[0;34m\u001b[0m\u001b[0m\n\u001b[1;32m    636\u001b[0m \u001b[0;34m\u001b[0m\u001b[0m\n",
      "\u001b[0;32m/usr/local/lib/python3.8/dist-packages/tensorflow/python/framework/func_graph.py\u001b[0m in \u001b[0;36mwrapper\u001b[0;34m(*args, **kwargs)\u001b[0m\n\u001b[1;32m    975\u001b[0m           \u001b[0;32mexcept\u001b[0m \u001b[0mException\u001b[0m \u001b[0;32mas\u001b[0m \u001b[0me\u001b[0m\u001b[0;34m:\u001b[0m  \u001b[0;31m# pylint:disable=broad-except\u001b[0m\u001b[0;34m\u001b[0m\u001b[0;34m\u001b[0m\u001b[0m\n\u001b[1;32m    976\u001b[0m             \u001b[0;32mif\u001b[0m \u001b[0mhasattr\u001b[0m\u001b[0;34m(\u001b[0m\u001b[0me\u001b[0m\u001b[0;34m,\u001b[0m \u001b[0;34m\"ag_error_metadata\"\u001b[0m\u001b[0;34m)\u001b[0m\u001b[0;34m:\u001b[0m\u001b[0;34m\u001b[0m\u001b[0;34m\u001b[0m\u001b[0m\n\u001b[0;32m--> 977\u001b[0;31m               \u001b[0;32mraise\u001b[0m \u001b[0me\u001b[0m\u001b[0;34m.\u001b[0m\u001b[0mag_error_metadata\u001b[0m\u001b[0;34m.\u001b[0m\u001b[0mto_exception\u001b[0m\u001b[0;34m(\u001b[0m\u001b[0me\u001b[0m\u001b[0;34m)\u001b[0m\u001b[0;34m\u001b[0m\u001b[0;34m\u001b[0m\u001b[0m\n\u001b[0m\u001b[1;32m    978\u001b[0m             \u001b[0;32melse\u001b[0m\u001b[0;34m:\u001b[0m\u001b[0;34m\u001b[0m\u001b[0;34m\u001b[0m\u001b[0m\n\u001b[1;32m    979\u001b[0m               \u001b[0;32mraise\u001b[0m\u001b[0;34m\u001b[0m\u001b[0;34m\u001b[0m\u001b[0m\n",
      "\u001b[0;31mValueError\u001b[0m: in user code:\n\n    /usr/local/lib/python3.8/dist-packages/tensorflow/python/keras/engine/training.py:805 train_function  *\n        return step_function(self, iterator)\n    /usr/local/lib/python3.8/dist-packages/tensorflow/python/keras/engine/training.py:795 step_function  **\n        outputs = model.distribute_strategy.run(run_step, args=(data,))\n    /usr/local/lib/python3.8/dist-packages/tensorflow/python/distribute/distribute_lib.py:1259 run\n        return self._extended.call_for_each_replica(fn, args=args, kwargs=kwargs)\n    /usr/local/lib/python3.8/dist-packages/tensorflow/python/distribute/distribute_lib.py:2730 call_for_each_replica\n        return self._call_for_each_replica(fn, args, kwargs)\n    /usr/local/lib/python3.8/dist-packages/tensorflow/python/distribute/distribute_lib.py:3417 _call_for_each_replica\n        return fn(*args, **kwargs)\n    /usr/local/lib/python3.8/dist-packages/tensorflow/python/keras/engine/training.py:788 run_step  **\n        outputs = model.train_step(data)\n    /usr/local/lib/python3.8/dist-packages/tensorflow/python/keras/engine/training.py:754 train_step\n        y_pred = self(x, training=True)\n    /usr/local/lib/python3.8/dist-packages/tensorflow/python/keras/engine/base_layer.py:1012 __call__\n        outputs = call_fn(inputs, *args, **kwargs)\n    /usr/local/lib/python3.8/dist-packages/tensorflow/python/keras/engine/sequential.py:389 call\n        outputs = layer(inputs, **kwargs)\n    /usr/local/lib/python3.8/dist-packages/tensorflow/python/keras/engine/base_layer.py:1012 __call__\n        outputs = call_fn(inputs, *args, **kwargs)\n    /usr/local/lib/python3.8/dist-packages/tensorflow/python/keras/feature_column/dense_features.py:168 call  **\n        tensor = column.get_dense_tensor(transformation_cache,\n    /usr/local/lib/python3.8/dist-packages/tensorflow/python/feature_column/feature_column_v2.py:2592 get_dense_tensor\n        return transformation_cache.get(self, state_manager)\n    /usr/local/lib/python3.8/dist-packages/tensorflow/python/feature_column/feature_column_v2.py:2355 get\n        transformed = column.transform_feature(self, state_manager)\n    /usr/local/lib/python3.8/dist-packages/tensorflow/python/feature_column/feature_column_v2.py:2564 transform_feature\n        input_tensor = transformation_cache.get(self.key, state_manager)\n    /usr/local/lib/python3.8/dist-packages/tensorflow/python/feature_column/feature_column_v2.py:2339 get\n        raise ValueError('Feature {} is not in features dictionary.'.format(key))\n\n    ValueError: Feature cluster_CENTER_MAG is not in features dictionary.\n"
     ]
    }
   ],
   "source": [
    "model_n.fit(train_ds, validation_data=val_ds, epochs=10)"
   ]
  },
  {
   "cell_type": "code",
   "execution_count": null,
   "id": "51708ddc-8e4c-4378-9f42-b12bb7c9e168",
   "metadata": {},
   "outputs": [],
   "source": []
  }
 ],
 "metadata": {
  "kernelspec": {
   "display_name": "Python 3",
   "language": "python",
   "name": "python3"
  },
  "language_info": {
   "codemirror_mode": {
    "name": "ipython",
    "version": 3
   },
   "file_extension": ".py",
   "mimetype": "text/x-python",
   "name": "python",
   "nbconvert_exporter": "python",
   "pygments_lexer": "ipython3",
   "version": "3.8.5"
  }
 },
 "nbformat": 4,
 "nbformat_minor": 5
}
